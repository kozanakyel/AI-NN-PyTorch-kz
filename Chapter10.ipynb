{
 "cells": [
  {
   "cell_type": "markdown",
   "metadata": {
    "id": "HK074FYkNwTi"
   },
   "source": [
    "# Deep Learning with PyTorch Step-by-Step: A Beginner's Guide"
   ]
  },
  {
   "cell_type": "markdown",
   "metadata": {
    "id": "edtdvwWONwTl"
   },
   "source": [
    "# Chapter 10"
   ]
  },
  {
   "cell_type": "code",
   "execution_count": 1,
   "metadata": {
    "colab": {
     "base_uri": "https://localhost:8080/"
    },
    "id": "a8kZ1PM4NwTm",
    "outputId": "50b86efc-2663-4a17-905e-c85e6af9ec66"
   },
   "outputs": [
    {
     "name": "stdout",
     "output_type": "stream",
     "text": [
      "Downloading files from GitHub repo to Colab...\n",
      "Finished!\n"
     ]
    }
   ],
   "source": [
    "try:\n",
    "    import google.colab\n",
    "    import requests\n",
    "    url = 'https://raw.githubusercontent.com/dvgodoy/PyTorchStepByStep/master/config.py'\n",
    "    r = requests.get(url, allow_redirects=True)\n",
    "    open('config.py', 'wb').write(r.content)    \n",
    "except ModuleNotFoundError:\n",
    "    pass\n",
    "\n",
    "from config import *\n",
    "config_chapter10()\n",
    "# This is needed to render the plots in this chapter\n",
    "from plots.chapter8 import *\n",
    "from plots.chapter9 import *\n",
    "from plots.chapter10 import *"
   ]
  },
  {
   "cell_type": "code",
   "execution_count": 2,
   "metadata": {
    "id": "JyxowqR5NwTp"
   },
   "outputs": [],
   "source": [
    "import copy\n",
    "import numpy as np\n",
    "\n",
    "import torch\n",
    "import torch.optim as optim\n",
    "import torch.nn as nn\n",
    "import torch.nn.functional as F\n",
    "from torch.utils.data import DataLoader, Dataset, random_split, TensorDataset\n",
    "from torchvision.transforms import Compose, Normalize, Pad\n",
    "\n",
    "from data_generation.square_sequences import generate_sequences\n",
    "from data_generation.image_classification import generate_dataset\n",
    "from helpers import index_splitter, make_balanced_sampler\n",
    "from stepbystep.v4 import StepByStep\n",
    "# These are the classes we built in Chapter 9\n",
    "from seq2seq import PositionalEncoding, subsequent_mask, EncoderDecoderSelfAttn"
   ]
  },
  {
   "cell_type": "markdown",
   "metadata": {
    "id": "P7lEypJINwTq"
   },
   "source": [
    "# Transform and Roll Out!"
   ]
  },
  {
   "cell_type": "markdown",
   "metadata": {
    "id": "vZ5tuOx2NwTr"
   },
   "source": [
    "## Narrow Attention"
   ]
  },
  {
   "cell_type": "markdown",
   "metadata": {
    "id": "fBiNshjSNwTs"
   },
   "source": [
    "### Chunking"
   ]
  },
  {
   "cell_type": "markdown",
   "metadata": {
    "id": "SdxrUQNTNwTt"
   },
   "source": [
    "![](https://github.com/dvgodoy/PyTorchStepByStep/blob/master/images/attn_narrow_transf.png?raw=1)\n",
    "\n",
    "![](https://github.com/dvgodoy/PyTorchStepByStep/blob/master/images/multihead_chunking.png?raw=1)\n",
    "\n",
    "![](https://github.com/dvgodoy/PyTorchStepByStep/blob/master/images/attn_narrow_first_head.png?raw=1)"
   ]
  },
  {
   "cell_type": "markdown",
   "metadata": {
    "id": "W8LNjGjUNwTu"
   },
   "source": [
    "### Multiheaded Attention"
   ]
  },
  {
   "cell_type": "code",
   "execution_count": 3,
   "metadata": {
    "id": "mLiecSFaNwTu"
   },
   "outputs": [],
   "source": [
    "class MultiHeadedAttention(nn.Module):\n",
    "    def __init__(self, n_heads, d_model, dropout=0.1):\n",
    "        super(MultiHeadedAttention, self).__init__()\n",
    "        self.n_heads = n_heads\n",
    "        self.d_model = d_model\n",
    "        self.d_k = int(d_model / n_heads)\n",
    "        self.linear_query = nn.Linear(d_model, d_model)\n",
    "        self.linear_key = nn.Linear(d_model, d_model)\n",
    "        self.linear_value = nn.Linear(d_model, d_model)\n",
    "        self.linear_out = nn.Linear(d_model, d_model)\n",
    "        self.dropout = nn.Dropout(p=dropout)\n",
    "        self.alphas = None\n",
    "\n",
    "    def make_chunks(self, x):\n",
    "        batch_size, seq_len = x.size(0), x.size(1)\n",
    "        # N, L, D -> N, L, n_heads * d_k\n",
    "        x = x.view(batch_size, seq_len, self.n_heads, self.d_k) \n",
    "        # N, n_heads, L, d_k\n",
    "        x = x.transpose(1, 2)  \n",
    "        return x\n",
    "\n",
    "    def init_keys(self, key):\n",
    "        # N, n_heads, L, d_k\n",
    "        self.proj_key = self.make_chunks(self.linear_key(key))\n",
    "        self.proj_value = self.make_chunks(self.linear_value(key))\n",
    "        \n",
    "    def score_function(self, query):\n",
    "        # scaled dot product\n",
    "        # N, n_heads, L, d_k x # N, n_heads, d_k, L -> N, n_heads, L, L\n",
    "        proj_query = self.make_chunks(self.linear_query(query))\n",
    "        dot_products = torch.matmul(proj_query, \n",
    "                                    self.proj_key.transpose(-2, -1))\n",
    "        scores =  dot_products / np.sqrt(self.d_k)\n",
    "        return scores\n",
    "            \n",
    "    def attn(self, query, mask=None):\n",
    "        # Query is batch-first: N, L, D\n",
    "        # Score function will generate scores for each head\n",
    "        scores = self.score_function(query) # N, n_heads, L, L\n",
    "        if mask is not None:\n",
    "            scores = scores.masked_fill(mask == 0, -1e9)\n",
    "        alphas = F.softmax(scores, dim=-1) # N, n_heads, L, L\n",
    "        alphas = self.dropout(alphas)\n",
    "        self.alphas = alphas.detach()\n",
    "        \n",
    "        # N, n_heads, L, L x N, n_heads, L, d_k -> N, n_heads, L, d_k\n",
    "        context = torch.matmul(alphas, self.proj_value)\n",
    "        return context        \n",
    "                                \n",
    "    def output_function(self, contexts):\n",
    "        # N, L, D\n",
    "        out = self.linear_out(contexts) # N, L, D\n",
    "        return out\n",
    "        \n",
    "    def forward(self, query, mask=None):\n",
    "        if mask is not None:\n",
    "            # N, 1, L, L - every head uses the same mask\n",
    "            mask = mask.unsqueeze(1)\n",
    "\n",
    "        # N, n_heads, L, d_k\n",
    "        context = self.attn(query, mask=mask)\n",
    "        # N, L, n_heads, d_k\n",
    "        context = context.transpose(1, 2).contiguous()\n",
    "        # N, L, n_heads * d_k = N, L, d_model\n",
    "        context = context.view(query.size(0), -1, self.d_model)        \n",
    "        # N, L, d_model\n",
    "        out = self.output_function(context)\n",
    "        return out"
   ]
  },
  {
   "cell_type": "code",
   "execution_count": 4,
   "metadata": {
    "colab": {
     "base_uri": "https://localhost:8080/"
    },
    "id": "WPndJg1cNwTx",
    "outputId": "aaab312f-9bd5-41ab-8758-d80ab0c48b93"
   },
   "outputs": [
    {
     "data": {
      "text/plain": [
       "torch.Size([16, 2, 4])"
      ]
     },
     "execution_count": 4,
     "metadata": {},
     "output_type": "execute_result"
    }
   ],
   "source": [
    "dummy_points = torch.randn(16, 2, 4) # N, L, F\n",
    "mha = MultiHeadedAttention(n_heads=2, d_model=4, dropout=0.0)\n",
    "mha.init_keys(dummy_points)\n",
    "out = mha(dummy_points) # N, L, D\n",
    "out.shape"
   ]
  },
  {
   "cell_type": "markdown",
   "metadata": {
    "id": "rtuAVgk8NwTy"
   },
   "source": [
    "![](https://github.com/dvgodoy/PyTorchStepByStep/blob/master/images/attn_narrow_2heads.png?raw=1)"
   ]
  },
  {
   "cell_type": "markdown",
   "metadata": {
    "id": "ZYhQbFhCNwTz"
   },
   "source": [
    "## Stacking Encoders and Decoders"
   ]
  },
  {
   "cell_type": "markdown",
   "metadata": {
    "id": "w3Xk9MI_NwTz"
   },
   "source": [
    "![](https://github.com/dvgodoy/PyTorchStepByStep/blob/master/images/stacked_encdec.png?raw=1)"
   ]
  },
  {
   "cell_type": "markdown",
   "metadata": {
    "id": "eAPDj4UeNwT0"
   },
   "source": [
    "![](https://github.com/dvgodoy/PyTorchStepByStep/blob/master/images/stacked_layers.png?raw=1)"
   ]
  },
  {
   "cell_type": "markdown",
   "metadata": {
    "id": "c2eXfMjCNwT0"
   },
   "source": [
    "## Wrapping \"Sub-Layers\""
   ]
  },
  {
   "cell_type": "markdown",
   "metadata": {
    "id": "DVCV9AG4NwT0"
   },
   "source": [
    "![](https://github.com/dvgodoy/PyTorchStepByStep/blob/master/images/sublayer.png?raw=1)"
   ]
  },
  {
   "cell_type": "markdown",
   "metadata": {
    "id": "luPQVuJKNwT1"
   },
   "source": [
    "$$\n",
    "\\Large\n",
    "\\begin{aligned}\n",
    "&\\text{outputs}_{\\text{norm-last}}=&\\text{norm(inputs + dropout(sublayer(inputs))}\n",
    "\\\\\n",
    "&\\text{outputs}_{\\text{norm-first}}=&\\text{inputs + dropout(sublayer(norm(inputs)))}\n",
    "\\end{aligned}\n",
    "$$"
   ]
  },
  {
   "cell_type": "markdown",
   "metadata": {
    "id": "C_Ke5z7WNwT1"
   },
   "source": [
    "## Transformer Encoder"
   ]
  },
  {
   "cell_type": "markdown",
   "metadata": {
    "id": "mXYoPU3UNwT2"
   },
   "source": [
    "![](https://github.com/dvgodoy/PyTorchStepByStep/blob/master/images/enc_both.png?raw=1)"
   ]
  },
  {
   "cell_type": "markdown",
   "metadata": {
    "id": "zVPRvS0tNwT2"
   },
   "source": [
    "$$\n",
    "\\large\n",
    "\\begin{aligned}\n",
    "&\\text{outputs}_{\\text{norm-last}}=&\\text{norm}(\\underbrace{\\text{norm(inputs + att(inputs))}}_{\\text{Output of SubLayer}_0} + \\text{ffn}(\\underbrace{\\text{norm(inputs + att(inputs))}}_{\\text{Output of SubLayer}_0}))\n",
    "\\\\\n",
    "\\\\\n",
    "&\\text{outputs}_{\\text{norm-first}}=&\\underbrace{\\text{inputs + att(norm(inputs))}}_{\\text{Output of SubLayer}_0}+\\text{ffn(norm(}\\underbrace{\\text{inputs + att(norm(inputs))}}_{\\text{Output of SubLayer}_0}))\n",
    "\\end{aligned}\n",
    "$$"
   ]
  },
  {
   "cell_type": "code",
   "execution_count": 5,
   "metadata": {
    "id": "FYdXRKjbNwT3"
   },
   "outputs": [],
   "source": [
    "class EncoderLayer(nn.Module):\n",
    "    def __init__(self, n_heads, d_model, ff_units, dropout=0.1):\n",
    "        super().__init__()\n",
    "        self.n_heads = n_heads\n",
    "        self.d_model = d_model\n",
    "        self.ff_units = ff_units\n",
    "        self.self_attn_heads = MultiHeadedAttention(n_heads, d_model, \n",
    "                                                    dropout=dropout)\n",
    "        self.ffn = nn.Sequential(\n",
    "            nn.Linear(d_model, ff_units),\n",
    "            nn.ReLU(),\n",
    "            nn.Dropout(dropout),\n",
    "            nn.Linear(ff_units, d_model),\n",
    "        )\n",
    "        \n",
    "        self.norm1 = nn.LayerNorm(d_model)\n",
    "        self.norm2 = nn.LayerNorm(d_model)\n",
    "        self.drop1 = nn.Dropout(dropout)\n",
    "        self.drop2 = nn.Dropout(dropout)\n",
    "         \n",
    "    def forward(self, query, mask=None):\n",
    "        # Sublayer #0\n",
    "        # Norm\n",
    "        norm_query = self.norm1(query)\n",
    "        # Multi-headed Attention\n",
    "        self.self_attn_heads.init_keys(norm_query)\n",
    "        states = self.self_attn_heads(norm_query, mask)\n",
    "        # Add\n",
    "        att = query + self.drop1(states)\n",
    "        \n",
    "        # Sublayer #1\n",
    "        # Norm\n",
    "        norm_att = self.norm2(att)\n",
    "        # Feed Forward\n",
    "        out = self.ffn(norm_att)\n",
    "        # Add\n",
    "        out = att + self.drop2(out)\n",
    "        return out"
   ]
  },
  {
   "cell_type": "code",
   "execution_count": 6,
   "metadata": {
    "id": "8ex52QCuNwT3"
   },
   "outputs": [],
   "source": [
    "class EncoderTransf(nn.Module):\n",
    "    def __init__(self, encoder_layer, n_layers=1, max_len=100):\n",
    "        super().__init__()\n",
    "        self.d_model = encoder_layer.d_model\n",
    "        self.pe = PositionalEncoding(max_len, self.d_model)\n",
    "        self.norm = nn.LayerNorm(self.d_model)\n",
    "        self.layers = nn.ModuleList([copy.deepcopy(encoder_layer)\n",
    "                                     for _ in range(n_layers)])\n",
    "    \n",
    "    def forward(self, query, mask=None):\n",
    "        # Positional Encoding\n",
    "        x = self.pe(query)\n",
    "        for layer in self.layers:\n",
    "            x = layer(x, mask)\n",
    "        # Norm\n",
    "        return self.norm(x)"
   ]
  },
  {
   "cell_type": "code",
   "execution_count": 7,
   "metadata": {
    "id": "tYcNyRvgNwT4"
   },
   "outputs": [],
   "source": [
    "enclayer = nn.TransformerEncoderLayer(d_model=6, nhead=3, dim_feedforward=20)\n",
    "enctransf = nn.TransformerEncoder(enclayer, num_layers=1, norm=nn.LayerNorm)"
   ]
  },
  {
   "cell_type": "markdown",
   "metadata": {
    "id": "dZHPrqBeNwT4"
   },
   "source": [
    "## Transformer Decoder"
   ]
  },
  {
   "cell_type": "markdown",
   "metadata": {
    "id": "aMBfkO6KNwT5"
   },
   "source": [
    "![](https://github.com/dvgodoy/PyTorchStepByStep/blob/master/images/dec_both.png?raw=1)"
   ]
  },
  {
   "cell_type": "code",
   "execution_count": 8,
   "metadata": {
    "id": "IihqH32DNwT5"
   },
   "outputs": [],
   "source": [
    "class DecoderLayer(nn.Module):\n",
    "    def __init__(self, n_heads, d_model, ff_units, dropout=0.1):\n",
    "        super().__init__()\n",
    "        self.n_heads = n_heads\n",
    "        self.d_model = d_model\n",
    "        self.ff_units = ff_units\n",
    "        self.self_attn_heads = MultiHeadedAttention(n_heads, d_model, \n",
    "                                                    dropout=dropout)\n",
    "        self.cross_attn_heads = MultiHeadedAttention(n_heads, d_model,\n",
    "                                                     dropout=dropout)\n",
    "        self.ffn = nn.Sequential(\n",
    "            nn.Linear(d_model, ff_units),\n",
    "            nn.ReLU(),\n",
    "            nn.Dropout(dropout),\n",
    "            nn.Linear(ff_units, d_model),\n",
    "        )\n",
    "        \n",
    "        self.norm1 = nn.LayerNorm(d_model)\n",
    "        self.norm2 = nn.LayerNorm(d_model)\n",
    "        self.norm3 = nn.LayerNorm(d_model)\n",
    "        self.drop1 = nn.Dropout(dropout)\n",
    "        self.drop2 = nn.Dropout(dropout)\n",
    "        self.drop3 = nn.Dropout(dropout)\n",
    "                \n",
    "    def init_keys(self, states):\n",
    "        self.cross_attn_heads.init_keys(states)\n",
    "         \n",
    "    def forward(self, query, source_mask=None, target_mask=None):\n",
    "        # Sublayer #0\n",
    "        # Norm\n",
    "        norm_query = self.norm1(query)\n",
    "        # Masked Multi-head Attention\n",
    "        self.self_attn_heads.init_keys(norm_query)\n",
    "        states = self.self_attn_heads(norm_query, target_mask)\n",
    "        # Add\n",
    "        att1 = query + self.drop1(states)\n",
    "        \n",
    "        # Sublayer #1\n",
    "        # Norm\n",
    "        norm_att1 = self.norm2(att1)\n",
    "        # Multi-head Attention\n",
    "        encoder_states = self.cross_attn_heads(norm_att1, source_mask)\n",
    "        # Add\n",
    "        att2 = att1 + self.drop2(encoder_states)\n",
    "        \n",
    "        # Sublayer #2\n",
    "        # Norm\n",
    "        norm_att2 = self.norm3(att2)\n",
    "        # Feed Forward\n",
    "        out = self.ffn(norm_att2)\n",
    "        # Add\n",
    "        out = att2 + self.drop3(out)\n",
    "        return out"
   ]
  },
  {
   "cell_type": "code",
   "execution_count": 9,
   "metadata": {
    "id": "dEtnxSOCNwT5"
   },
   "outputs": [],
   "source": [
    "class DecoderTransf(nn.Module):\n",
    "    def __init__(self, decoder_layer, n_layers=1, max_len=100):\n",
    "        super(DecoderTransf, self).__init__()\n",
    "        self.d_model = decoder_layer.d_model\n",
    "        self.pe = PositionalEncoding(max_len, self.d_model)\n",
    "        self.norm = nn.LayerNorm(self.d_model)\n",
    "        self.layers = nn.ModuleList([copy.deepcopy(decoder_layer)\n",
    "                                     for _ in range(n_layers)])\n",
    "        \n",
    "    def init_keys(self, states):\n",
    "        for layer in self.layers:\n",
    "            layer.init_keys(states)\n",
    "    \n",
    "    def forward(self, query, source_mask=None, target_mask=None):\n",
    "        # Positional Encoding\n",
    "        x = self.pe(query)\n",
    "        for layer in self.layers:\n",
    "            x = layer(x, source_mask, target_mask)\n",
    "        # Norm\n",
    "        return self.norm(x)"
   ]
  },
  {
   "cell_type": "code",
   "execution_count": 10,
   "metadata": {
    "id": "8syruFiKNwT6"
   },
   "outputs": [],
   "source": [
    "declayer = nn.TransformerDecoderLayer(d_model=6, nhead=3, dim_feedforward=20)\n",
    "dectransf = nn.TransformerDecoder(declayer, num_layers=1, norm=nn.LayerNorm)"
   ]
  },
  {
   "cell_type": "markdown",
   "metadata": {
    "id": "y4AGPXYHNwT6"
   },
   "source": [
    "## Layer Normalization"
   ]
  },
  {
   "cell_type": "code",
   "execution_count": 11,
   "metadata": {
    "colab": {
     "base_uri": "https://localhost:8080/"
    },
    "id": "dNp8EWjyNwT7",
    "outputId": "67180946-a35d-4ee0-bee1-10c86a2006fa"
   },
   "outputs": [
    {
     "data": {
      "text/plain": [
       "tensor([[[-3.8049,  1.9899, -1.7325,  2.1359],\n",
       "         [ 1.7854,  0.8155,  0.1116, -1.7420]],\n",
       "\n",
       "        [[-2.4273,  1.3559,  2.8615,  2.0084],\n",
       "         [-1.0353, -1.2766, -2.2082, -0.6952]],\n",
       "\n",
       "        [[-0.8044,  1.9707,  3.3704,  2.0587],\n",
       "         [ 4.2256,  6.9575,  1.4770,  2.0762]]])"
      ]
     },
     "execution_count": 11,
     "metadata": {},
     "output_type": "execute_result"
    }
   ],
   "source": [
    "d_model = 4\n",
    "seq_len = 2\n",
    "n_points = 3\n",
    "\n",
    "torch.manual_seed(34)\n",
    "data = torch.randn(n_points, seq_len, d_model)\n",
    "pe = PositionalEncoding(seq_len, d_model)\n",
    "inputs = pe(data)\n",
    "inputs"
   ]
  },
  {
   "cell_type": "markdown",
   "metadata": {
    "id": "ImijG1DsNwT7"
   },
   "source": [
    "$$\n",
    "\\Large\n",
    "\\overline{X}_{n,l} = \\frac{1}{D}\\sum_{d=1}^Dx_{n,l,d}\n",
    "$$"
   ]
  },
  {
   "cell_type": "code",
   "execution_count": 12,
   "metadata": {
    "colab": {
     "base_uri": "https://localhost:8080/"
    },
    "id": "0vtGWClmNwT7",
    "outputId": "aa197bee-5e04-4a4b-faff-2372b0d25005"
   },
   "outputs": [
    {
     "data": {
      "text/plain": [
       "tensor([[[-0.3529],\n",
       "         [ 0.2426]],\n",
       "\n",
       "        [[ 0.9496],\n",
       "         [-1.3038]],\n",
       "\n",
       "        [[ 1.6489],\n",
       "         [ 3.6841]]])"
      ]
     },
     "execution_count": 12,
     "metadata": {},
     "output_type": "execute_result"
    }
   ],
   "source": [
    "inputs_mean = inputs.mean(axis=2).unsqueeze(2)\n",
    "inputs_mean"
   ]
  },
  {
   "cell_type": "markdown",
   "metadata": {
    "id": "53ISCto4NwT7"
   },
   "source": [
    "$$\n",
    "\\Large\n",
    "\\sigma_{n,l}(X) = \\sqrt{\\frac{1}{D}\\sum_{d=1}^D(x_{n,l,d}-\\overline{X}_{n,l})^2}\n",
    "$$"
   ]
  },
  {
   "cell_type": "code",
   "execution_count": 13,
   "metadata": {
    "colab": {
     "base_uri": "https://localhost:8080/"
    },
    "id": "WwXyiLX6NwT8",
    "outputId": "8dcb8018-6f72-499f-a779-57557ad3cf1e"
   },
   "outputs": [
    {
     "data": {
      "text/plain": [
       "tensor([[[6.3756],\n",
       "         [1.6661]],\n",
       "\n",
       "        [[4.0862],\n",
       "         [0.3153]],\n",
       "\n",
       "        [[2.3135],\n",
       "         [4.6163]]])"
      ]
     },
     "execution_count": 13,
     "metadata": {},
     "output_type": "execute_result"
    }
   ],
   "source": [
    "inputs_var = inputs.var(axis=2, unbiased=False).unsqueeze(2)\n",
    "inputs_var"
   ]
  },
  {
   "cell_type": "markdown",
   "metadata": {
    "id": "M4bt0D6TNwT8"
   },
   "source": [
    "$$\n",
    "\\Large\n",
    "\\text{standardized}\\ x_{n,l,d}=\\frac{x_{n,l,d}-\\overline{X}_{n,l}}{\\sigma_{n,l}(X) + \\epsilon}\n",
    "$$"
   ]
  },
  {
   "cell_type": "code",
   "execution_count": 14,
   "metadata": {
    "colab": {
     "base_uri": "https://localhost:8080/"
    },
    "id": "ZU-GKwHYNwT9",
    "outputId": "59879b6d-b802-4660-b67a-567fcb35b6e2"
   },
   "outputs": [
    {
     "data": {
      "text/plain": [
       "tensor([[[-1.3671,  0.9279, -0.5464,  0.9857],\n",
       "         [ 1.1953,  0.4438, -0.1015, -1.5376]],\n",
       "\n",
       "        [[-1.6706,  0.2010,  0.9458,  0.5238],\n",
       "         [ 0.4782,  0.0485, -1.6106,  1.0839]],\n",
       "\n",
       "        [[-1.6129,  0.2116,  1.1318,  0.2695],\n",
       "         [ 0.2520,  1.5236, -1.0272, -0.7484]]])"
      ]
     },
     "execution_count": 14,
     "metadata": {},
     "output_type": "execute_result"
    }
   ],
   "source": [
    "(inputs - inputs_mean)/torch.sqrt(inputs_var+1e-5)"
   ]
  },
  {
   "cell_type": "code",
   "execution_count": 15,
   "metadata": {
    "colab": {
     "base_uri": "https://localhost:8080/"
    },
    "id": "zLBLX7RUNwT9",
    "outputId": "6f292d8c-db83-4fd5-ec32-b52e794f88d9"
   },
   "outputs": [
    {
     "data": {
      "text/plain": [
       "OrderedDict([('weight', tensor([1., 1., 1., 1.])),\n",
       "             ('bias', tensor([0., 0., 0., 0.]))])"
      ]
     },
     "execution_count": 15,
     "metadata": {},
     "output_type": "execute_result"
    }
   ],
   "source": [
    "layer_norm = nn.LayerNorm(d_model)\n",
    "layer_norm.state_dict()"
   ]
  },
  {
   "cell_type": "code",
   "execution_count": 16,
   "metadata": {
    "colab": {
     "base_uri": "https://localhost:8080/"
    },
    "id": "ej9uWpuhNwT9",
    "outputId": "95d88b7e-6952-4ef6-9e62-06cd37ad4fc9"
   },
   "outputs": [
    {
     "data": {
      "text/plain": [
       "(tensor(-1.4901e-08, grad_fn=<MeanBackward0>),\n",
       " tensor(1.0000, grad_fn=<StdBackward0>))"
      ]
     },
     "execution_count": 16,
     "metadata": {},
     "output_type": "execute_result"
    }
   ],
   "source": [
    "layer_norm = nn.LayerNorm(d_model)\n",
    "normalized = layer_norm(inputs)\n",
    "\n",
    "normalized[0][0].mean(), normalized[0][0].std(unbiased=False)"
   ]
  },
  {
   "cell_type": "code",
   "execution_count": 17,
   "metadata": {
    "colab": {
     "base_uri": "https://localhost:8080/"
    },
    "id": "4EcY83PUNwT-",
    "outputId": "0425aac2-ee2f-4484-9a4f-c2f50e94c469"
   },
   "outputs": [
    {
     "data": {
      "text/plain": [
       "OrderedDict([('weight', tensor([1., 1., 1., 1.])),\n",
       "             ('bias', tensor([0., 0., 0., 0.]))])"
      ]
     },
     "execution_count": 17,
     "metadata": {},
     "output_type": "execute_result"
    }
   ],
   "source": [
    "layer_norm.state_dict()"
   ]
  },
  {
   "cell_type": "markdown",
   "metadata": {
    "id": "Ef34JrRgNwT_"
   },
   "source": [
    "$$\n",
    "\\Large\n",
    "\\text{layer normed}\\ x_{n,l,d} = b_d + w_d\\ \\text{standardized}\\ x_{n,l,d}\n",
    "$$"
   ]
  },
  {
   "cell_type": "markdown",
   "metadata": {
    "id": "0HnjDVp_NwT_"
   },
   "source": [
    "$$\n",
    "\\Large\n",
    "\\text{layer normed}\\ x_{n,l,d} = \\text{standardized}\\ x_{n,l,d}\\ \\gamma_d + \\beta_d\n",
    "$$"
   ]
  },
  {
   "cell_type": "markdown",
   "metadata": {
    "id": "fsXCvrZ0NwT_"
   },
   "source": [
    "### Batch vs Layer"
   ]
  },
  {
   "cell_type": "code",
   "execution_count": 18,
   "metadata": {
    "colab": {
     "base_uri": "https://localhost:8080/"
    },
    "id": "URBonuuSNwT_",
    "outputId": "85ecc7c7-31ad-46c7-ba2a-ca8b9a7637de"
   },
   "outputs": [
    {
     "data": {
      "text/plain": [
       "tensor([[[-14.4193,  10.0495,  -7.8116,  ..., -15.4844, -18.0732,  -3.9566]],\n",
       "\n",
       "        [[  2.6628,  -3.5462, -23.6461,  ...,  -0.9403, -18.4375, -37.4197]],\n",
       "\n",
       "        [[-24.6397,  -1.9127, -16.4244,  ..., -17.3708, -26.0550, -14.0706]],\n",
       "\n",
       "        [[ 13.7988,  21.4612,  10.4125,  ...,  -3.2333, -17.0188,   3.9237]]])"
      ]
     },
     "execution_count": 18,
     "metadata": {},
     "output_type": "execute_result"
    }
   ],
   "source": [
    "torch.manual_seed(23)\n",
    "dummy_points = torch.randn(4, 1, 256)\n",
    "dummy_pe = PositionalEncoding(1, 256)\n",
    "dummy_enc = dummy_pe(dummy_points)\n",
    "dummy_enc"
   ]
  },
  {
   "cell_type": "markdown",
   "metadata": {
    "id": "tcxkCEjJNwUA"
   },
   "source": [
    "![](https://github.com/dvgodoy/PyTorchStepByStep/blob/master/images/layer_vs_batch_norm.png?raw=1)"
   ]
  },
  {
   "cell_type": "code",
   "execution_count": 19,
   "metadata": {
    "colab": {
     "base_uri": "https://localhost:8080/",
     "height": 289
    },
    "id": "VKHBcHcTNwUA",
    "outputId": "0f3f1714-5a73-4bb7-b9b7-4ee897ddf5f7"
   },
   "outputs": [
    {
     "data": {
      "image/png": "[encoded data removed]",
      "text/plain": [
       "<Figure size 1080x288 with 4 Axes>"
      ]
     },
     "metadata": {},
     "output_type": "display_data"
    }
   ],
   "source": [
    "fig = hist_encoding(dummy_enc)"
   ]
  },
  {
   "cell_type": "code",
   "execution_count": 20,
   "metadata": {
    "colab": {
     "base_uri": "https://localhost:8080/"
    },
    "id": "rPZ9lv8zNwUA",
    "outputId": "8325daff-66e9-4449-8fd6-90eb7a66f317"
   },
   "outputs": [
    {
     "data": {
      "text/plain": [
       "tensor([[[-0.9210,  0.5911, -0.5127,  ..., -0.9868, -1.1467, -0.2744]],\n",
       "\n",
       "        [[ 0.1399, -0.2607, -1.5574,  ..., -0.0925, -1.2214, -2.4460]],\n",
       "\n",
       "        [[-1.5755, -0.1191, -1.0491,  ..., -1.1097, -1.6662, -0.8982]],\n",
       "\n",
       "        [[ 0.8643,  1.3324,  0.6575,  ..., -0.1761, -1.0183,  0.2611]]],\n",
       "       grad_fn=<NativeLayerNormBackward0>)"
      ]
     },
     "execution_count": 20,
     "metadata": {},
     "output_type": "execute_result"
    }
   ],
   "source": [
    "layer_normalizer = nn.LayerNorm(256)\n",
    "dummy_normed = layer_normalizer(dummy_enc)\n",
    "dummy_normed"
   ]
  },
  {
   "cell_type": "code",
   "execution_count": 21,
   "metadata": {
    "colab": {
     "base_uri": "https://localhost:8080/",
     "height": 289
    },
    "id": "1Ayl-iuSNwUB",
    "outputId": "2355cd3f-3c29-4af4-e91c-9d4f525a561a"
   },
   "outputs": [
    {
     "data": {
      "image/png": "[encoded data removed]",
      "text/plain": [
       "<Figure size 1080x288 with 4 Axes>"
      ]
     },
     "metadata": {},
     "output_type": "display_data"
    }
   ],
   "source": [
    "fig = hist_layer_normed(dummy_enc, dummy_normed)"
   ]
  },
  {
   "cell_type": "markdown",
   "metadata": {
    "id": "znS6-K7gNwUB"
   },
   "source": [
    "### Our Seq2Seq Problem"
   ]
  },
  {
   "cell_type": "code",
   "execution_count": 22,
   "metadata": {
    "colab": {
     "base_uri": "https://localhost:8080/"
    },
    "id": "arObrQGSNwUB",
    "outputId": "7077532f-a51d-4e2b-b5a3-d11bb74d8912"
   },
   "outputs": [
    {
     "data": {
      "text/plain": [
       "tensor([[[ 1.4636,  2.3663],\n",
       "         [ 1.9806, -0.7564]]])"
      ]
     },
     "execution_count": 22,
     "metadata": {},
     "output_type": "execute_result"
    }
   ],
   "source": [
    "pe = PositionalEncoding(max_len=2, d_model=2)\n",
    "\n",
    "source_seq = torch.tensor([[[ 1.0349,  0.9661], [ 0.8055, -0.9169]]])\n",
    "source_seq_enc = pe(source_seq)\n",
    "source_seq_enc"
   ]
  },
  {
   "cell_type": "code",
   "execution_count": 23,
   "metadata": {
    "colab": {
     "base_uri": "https://localhost:8080/"
    },
    "id": "yoEKCgfGNwUC",
    "outputId": "6722aa81-390d-41b3-e635-22f3da27e73a"
   },
   "outputs": [
    {
     "data": {
      "text/plain": [
       "tensor([[[-1.0000,  1.0000],\n",
       "         [ 1.0000, -1.0000]]], grad_fn=<NativeLayerNormBackward0>)"
      ]
     },
     "execution_count": 23,
     "metadata": {},
     "output_type": "execute_result"
    }
   ],
   "source": [
    "norm = nn.LayerNorm(2)\n",
    "norm(source_seq_enc)"
   ]
  },
  {
   "cell_type": "markdown",
   "metadata": {
    "id": "VjctP2zQNwUC"
   },
   "source": [
    "### Projections or Embeddings"
   ]
  },
  {
   "cell_type": "code",
   "execution_count": 24,
   "metadata": {
    "colab": {
     "base_uri": "https://localhost:8080/"
    },
    "id": "jpaGfMKSNwUD",
    "outputId": "d1bd436e-e56b-4475-c4e6-03bd8f415dee"
   },
   "outputs": [
    {
     "data": {
      "text/plain": [
       "tensor([[[-2.0934,  1.5040,  1.8742,  0.0628,  0.3034,  2.0190],\n",
       "         [-0.8853,  2.8213,  0.5911,  2.4193, -2.5230,  0.3599]]],\n",
       "       grad_fn=<AddBackward0>)"
      ]
     },
     "execution_count": 24,
     "metadata": {},
     "output_type": "execute_result"
    }
   ],
   "source": [
    "torch.manual_seed(11)\n",
    "proj_dim = 6\n",
    "linear_proj = nn.Linear(2, proj_dim)\n",
    "pe = PositionalEncoding(2, proj_dim)\n",
    "\n",
    "source_seq_proj = linear_proj(source_seq)\n",
    "source_seq_proj_enc = pe(source_seq_proj)\n",
    "source_seq_proj_enc"
   ]
  },
  {
   "cell_type": "code",
   "execution_count": 25,
   "metadata": {
    "colab": {
     "base_uri": "https://localhost:8080/"
    },
    "id": "ILNhhrKaNwUD",
    "outputId": "43458dee-98b3-4081-e7be-c33650fda43e"
   },
   "outputs": [
    {
     "data": {
      "text/plain": [
       "tensor([[[-1.9061,  0.6287,  0.8896, -0.3868, -0.2172,  0.9917],\n",
       "         [-0.7362,  1.2864,  0.0694,  1.0670, -1.6299, -0.0568]]],\n",
       "       grad_fn=<NativeLayerNormBackward0>)"
      ]
     },
     "execution_count": 25,
     "metadata": {},
     "output_type": "execute_result"
    }
   ],
   "source": [
    "norm = nn.LayerNorm(proj_dim)\n",
    "norm(source_seq_proj_enc)"
   ]
  },
  {
   "cell_type": "markdown",
   "metadata": {
    "id": "NfRNE7NrNwUD"
   },
   "source": [
    "## The Transformer"
   ]
  },
  {
   "cell_type": "markdown",
   "metadata": {
    "id": "VXck3Bz7NwUD"
   },
   "source": [
    "![](https://github.com/dvgodoy/PyTorchStepByStep/blob/master/images/full_transformer.png?raw=1)"
   ]
  },
  {
   "cell_type": "code",
   "execution_count": 26,
   "metadata": {
    "id": "WKwuPjG8NwUE"
   },
   "outputs": [],
   "source": [
    "class EncoderDecoderTransf(EncoderDecoderSelfAttn):\n",
    "    def __init__(self, encoder, decoder, input_len, target_len, n_features):\n",
    "        super(EncoderDecoderTransf, self).__init__(encoder, decoder, input_len, target_len)\n",
    "        self.n_features = n_features\n",
    "        self.proj = nn.Linear(n_features, encoder.d_model)\n",
    "        self.linear = nn.Linear(encoder.d_model, n_features)\n",
    "            \n",
    "    def encode(self, source_seq, source_mask=None):\n",
    "        # Projection\n",
    "        source_proj = self.proj(source_seq)\n",
    "        encoder_states = self.encoder(source_proj, source_mask)\n",
    "        self.decoder.init_keys(encoder_states)    \n",
    "        \n",
    "    def decode(self, shifted_target_seq, source_mask=None, target_mask=None):\n",
    "        # Projection\n",
    "        target_proj = self.proj(shifted_target_seq)\n",
    "        outputs = self.decoder(target_proj,\n",
    "                               source_mask=source_mask,\n",
    "                               target_mask=target_mask)\n",
    "        # Linear\n",
    "        outputs = self.linear(outputs)\n",
    "        return outputs"
   ]
  },
  {
   "cell_type": "code",
   "execution_count": 27,
   "metadata": {
    "id": "Q2MZn9BoNwUE"
   },
   "outputs": [],
   "source": [
    "class EncoderDecoderSelfAttn(nn.Module):\n",
    "    def __init__(self, encoder, decoder, input_len, target_len):\n",
    "        super(EncoderDecoderSelfAttn, self).__init__()\n",
    "        self.encoder = encoder\n",
    "        self.decoder = decoder\n",
    "        self.input_len = input_len\n",
    "        self.target_len = target_len\n",
    "        self.trg_masks = self.subsequent_mask(self.target_len)\n",
    "        \n",
    "    @staticmethod\n",
    "    def subsequent_mask(size):\n",
    "        attn_shape = (1, size, size)\n",
    "        subsequence_mask = (1 - torch.triu(torch.ones(attn_shape), diagonal=1))\n",
    "        return subsequent_mask\n",
    "                \n",
    "    def encode(self, source_seq, source_mask):\n",
    "        encoder_states = self.encoder(source_seq, source_mask)\n",
    "        self.decoder.init_keys(encoder_states)\n",
    "        \n",
    "    def decode(self, shifted_target_seq, source_mask=None, target_mask=None):\n",
    "        outputs = self.decoder(shifted_target_seq, \n",
    "                               source_mask=source_mask,\n",
    "                               target_mask=target_mask)\n",
    "        return outputs\n",
    "    \n",
    "    def predict(self, source_seq, source_mask):\n",
    "        inputs = source_seq[:, -1:]\n",
    "        for i in range(self.target_len):\n",
    "            out = self.decode(inputs, source_mask, self.trg_masks[:, :i+1, :i+1])\n",
    "            out = torch.cat([inputs, out[:, -1:, :]], dim=-2)\n",
    "            inputs = out.detach()\n",
    "        outputs = inputs[:, 1:, :]\n",
    "        return outputs\n",
    "                \n",
    "    def forward(self, X, source_mask=None):\n",
    "        self.trg_masks = self.trg_masks.type_as(X).bool()\n",
    "        source_seq = X[:, :self.input_len, :]\n",
    "\n",
    "        self.encode(source_seq, source_mask)\n",
    "        if self.training:\n",
    "            shifted_target_seq = X[:, self.input_len-1:-1, :]\n",
    "            outputs = self.decode(shifted_target_seq, source_mask, self.trg_masks)\n",
    "        else:\n",
    "            outputs = self.predict(source_seq, source_mask)\n",
    "            \n",
    "        return outputs"
   ]
  },
  {
   "cell_type": "markdown",
   "metadata": {
    "id": "UoU52fKfNwUF"
   },
   "source": [
    "### Data Preparation"
   ]
  },
  {
   "cell_type": "code",
   "execution_count": 29,
   "metadata": {
    "id": "9E19-2TjNwUF"
   },
   "outputs": [],
   "source": [
    "# Generating training data\n",
    "points, directions = generate_sequences(n=256, seed=13)\n",
    "full_train = torch.as_tensor(points).float()\n",
    "target_train = full_train[:, 2:]\n",
    "# Generating test data\n",
    "test_points, test_directions = generate_sequences(seed=17)\n",
    "full_test = torch.as_tensor(test_points).float()\n",
    "source_test = full_test[:, :2]\n",
    "target_test = full_test[:, 2:]\n",
    "# Datasets and data loaders\n",
    "train_data = TensorDataset(full_train, target_train)\n",
    "test_data = TensorDataset(source_test, target_test)\n",
    "generator = torch.Generator()\n",
    "train_loader = DataLoader(train_data, batch_size=16, shuffle=True, generator=generator)\n",
    "test_loader = DataLoader(test_data, batch_size=16)"
   ]
  },
  {
   "cell_type": "code",
   "execution_count": 30,
   "metadata": {
    "colab": {
     "base_uri": "https://localhost:8080/",
     "height": 217
    },
    "id": "sYSUJjm9NwUF",
    "outputId": "a1d960c4-821b-47d4-fdaf-0285406c92d2"
   },
   "outputs": [
    {
     "data": {
      "image/png": "[encoded data removed]",
      "text/plain": [
       "<Figure size 1080x216 with 5 Axes>"
      ]
     },
     "metadata": {},
     "output_type": "display_data"
    }
   ],
   "source": [
    "fig = plot_data(points, directions, n_rows=1)"
   ]
  },
  {
   "cell_type": "markdown",
   "metadata": {
    "id": "xJguxfwmNwUG"
   },
   "source": [
    "### Model Configuration & Training"
   ]
  },
  {
   "cell_type": "code",
   "execution_count": 31,
   "metadata": {
    "id": "DF56cOibNwUG"
   },
   "outputs": [],
   "source": [
    "torch.manual_seed(42)\n",
    "# Layers\n",
    "enclayer = EncoderLayer(n_heads=3, d_model=6, ff_units=10, dropout=0.1)\n",
    "declayer = DecoderLayer(n_heads=3, d_model=6, ff_units=10, dropout=0.1)\n",
    "# Encoder and Decoder\n",
    "enctransf = EncoderTransf(enclayer, n_layers=2)\n",
    "dectransf = DecoderTransf(declayer, n_layers=2)\n",
    "# Transformer\n",
    "model_transf = EncoderDecoderTransf(enctransf, dectransf, input_len=2, target_len=2, n_features=2)\n",
    "loss = nn.MSELoss()\n",
    "optimizer = torch.optim.Adam(model_transf.parameters(), lr=0.01)"
   ]
  },
  {
   "cell_type": "code",
   "execution_count": 32,
   "metadata": {
    "id": "V0IgwQWyNwUG"
   },
   "outputs": [],
   "source": [
    "for p in model_transf.parameters():\n",
    "    if p.dim() > 1:\n",
    "        nn.init.xavier_uniform_(p)"
   ]
  },
  {
   "cell_type": "code",
   "execution_count": 33,
   "metadata": {
    "id": "p4LkgTLCNwUH"
   },
   "outputs": [],
   "source": [
    "sbs_seq_transf = StepByStep(model_transf, loss, optimizer)\n",
    "sbs_seq_transf.set_loaders(train_loader, test_loader)\n",
    "sbs_seq_transf.train(50)"
   ]
  },
  {
   "cell_type": "code",
   "execution_count": 34,
   "metadata": {
    "colab": {
     "base_uri": "https://localhost:8080/",
     "height": 289
    },
    "id": "lpCLDBgFNwUH",
    "outputId": "000707d5-767a-4bbf-8a9a-46fc68d487f3"
   },
   "outputs": [
    {
     "data": {
      "image/png": "[encoded data removed]",
      "text/plain": [
       "<Figure size 720x288 with 1 Axes>"
      ]
     },
     "metadata": {},
     "output_type": "display_data"
    }
   ],
   "source": [
    "fig = sbs_seq_transf.plot_losses()"
   ]
  },
  {
   "cell_type": "code",
   "execution_count": 36,
   "metadata": {
    "colab": {
     "base_uri": "https://localhost:8080/"
    },
    "id": "vNfDOfCUNwUH",
    "outputId": "e4dad5dc-34a6-4fa7-b29a-7fef5ac59414"
   },
   "outputs": [
    {
     "data": {
      "text/plain": [
       "tensor(0.0158, device='cuda:0', grad_fn=<MseLossBackward0>)"
      ]
     },
     "execution_count": 36,
     "metadata": {},
     "output_type": "execute_result"
    }
   ],
   "source": [
    "torch.manual_seed(11)\n",
    "x, y = next(iter(train_loader))\n",
    "device = sbs_seq_transf.device\n",
    "# Training\n",
    "model_transf.train()\n",
    "loss(model_transf(x.to(device)), y.to(device))"
   ]
  },
  {
   "cell_type": "code",
   "execution_count": 37,
   "metadata": {
    "colab": {
     "base_uri": "https://localhost:8080/"
    },
    "id": "StSL5adGNwUH",
    "outputId": "dcc0f2b7-f89e-4142-975e-49c13dafbefb"
   },
   "outputs": [
    {
     "data": {
      "text/plain": [
       "tensor(0.0091, device='cuda:0')"
      ]
     },
     "execution_count": 37,
     "metadata": {},
     "output_type": "execute_result"
    }
   ],
   "source": [
    "# Validation\n",
    "model_transf.eval()\n",
    "loss(model_transf(x.to(device)), y.to(device))"
   ]
  },
  {
   "cell_type": "markdown",
   "metadata": {
    "id": "6iANDCCINwUH"
   },
   "source": [
    "### Visualizing Predictions"
   ]
  },
  {
   "cell_type": "code",
   "execution_count": 38,
   "metadata": {
    "colab": {
     "base_uri": "https://localhost:8080/",
     "height": 450
    },
    "id": "CQZb7OglNwUI",
    "outputId": "330ec4cb-de59-4ac4-9610-74c5683250a4"
   },
   "outputs": [
    {
     "data": {
      "image/png": "[encoded data removed]",
      "text/plain": [
       "<Figure size 1440x576 with 10 Axes>"
      ]
     },
     "metadata": {},
     "output_type": "display_data"
    }
   ],
   "source": [
    "fig = sequence_pred(sbs_seq_transf, full_test, test_directions)"
   ]
  },
  {
   "cell_type": "markdown",
   "metadata": {
    "id": "wrS6ODOQNwUI"
   },
   "source": [
    "## The PyTorch Transformer"
   ]
  },
  {
   "cell_type": "markdown",
   "metadata": {
    "id": "KEKEUT90NwUI"
   },
   "source": [
    "![](https://github.com/dvgodoy/PyTorchStepByStep/blob/master/images/sublayer.png?raw=1)"
   ]
  },
  {
   "cell_type": "code",
   "execution_count": 40,
   "metadata": {
    "id": "SudS3VazNwUI"
   },
   "outputs": [],
   "source": [
    "def encode_decode(self, source, target, source_mask=None, target_mask=None):\n",
    "    # Projections\n",
    "    # PyTorch Transformer expects L, N, F\n",
    "    src = self.preprocess(source).permute(1, 0, 2)\n",
    "    tgt = self.preprocess(target).permute(1, 0, 2)\n",
    "\n",
    "    out = self.transf(src, tgt, \n",
    "                      src_key_padding_mask=source_mask, \n",
    "                      tgt_mask=target_mask)\n",
    "\n",
    "    # Linear\n",
    "    # Back to N, L, D\n",
    "    out = out.permute(1, 0, 2)\n",
    "    out = self.linear(out) # N, L, F\n",
    "    return out"
   ]
  },
  {
   "cell_type": "code",
   "execution_count": 41,
   "metadata": {
    "id": "mT4DINoSNwUJ"
   },
   "outputs": [],
   "source": [
    "class TransformerModel(nn.Module):\n",
    "    def __init__(self, transformer, input_len, target_len, n_features):\n",
    "        super().__init__()\n",
    "        self.transf = transformer\n",
    "        self.input_len = input_len\n",
    "        self.target_len = target_len\n",
    "        self.trg_masks = self.transf.generate_square_subsequent_mask(self.target_len)\n",
    "        self.n_features = n_features\n",
    "        self.proj = nn.Linear(n_features, self.transf.d_model)\n",
    "        self.linear = nn.Linear(self.transf.d_model, n_features)\n",
    "        \n",
    "        max_len = max(self.input_len, self.target_len)\n",
    "        self.pe = PositionalEncoding(max_len, self.transf.d_model)\n",
    "        self.norm = nn.LayerNorm(self.transf.d_model)\n",
    "                \n",
    "    def preprocess(self, seq):\n",
    "        seq_proj = self.proj(seq)\n",
    "        seq_enc = self.pe(seq_proj)\n",
    "        return self.norm(seq_enc)\n",
    "    \n",
    "    def encode_decode(self, source, target, source_mask=None, target_mask=None):\n",
    "        # Projections\n",
    "        # PyTorch Transformer expects L, N, F\n",
    "        src = self.preprocess(source).permute(1, 0, 2)\n",
    "        tgt = self.preprocess(target).permute(1, 0, 2)\n",
    "\n",
    "        out = self.transf(src, tgt, \n",
    "                          src_key_padding_mask=source_mask, \n",
    "                          tgt_mask=target_mask)\n",
    "\n",
    "        # Linear\n",
    "        # Back to N, L, D\n",
    "        out = out.permute(1, 0, 2)\n",
    "        out = self.linear(out) # N, L, F\n",
    "        return out\n",
    "        \n",
    "    def predict(self, source_seq, source_mask=None):\n",
    "        inputs = source_seq[:, -1:]\n",
    "        for i in range(self.target_len):\n",
    "            out = self.encode_decode(source_seq, inputs, \n",
    "                                     source_mask=source_mask,\n",
    "                                     target_mask=self.trg_masks[:i+1, :i+1])\n",
    "            out = torch.cat([inputs, out[:, -1:, :]], dim=-2)\n",
    "            inputs = out.detach()\n",
    "        outputs = out[:, 1:, :]\n",
    "        return outputs\n",
    "        \n",
    "    def forward(self, X, source_mask=None):\n",
    "        self.trg_masks = self.trg_masks.type_as(X)\n",
    "        source_seq = X[:, :self.input_len, :]\n",
    "        \n",
    "        if self.training:            \n",
    "            shifted_target_seq = X[:, self.input_len-1:-1, :]\n",
    "            outputs = self.encode_decode(source_seq, shifted_target_seq, \n",
    "                                         source_mask=source_mask, \n",
    "                                         target_mask=self.trg_masks)\n",
    "        else:\n",
    "            outputs = self.predict(source_seq, source_mask)\n",
    "            \n",
    "        return outputs"
   ]
  },
  {
   "cell_type": "markdown",
   "metadata": {
    "id": "S4R3-nGxNwUJ"
   },
   "source": [
    "### Model Configuration & Training"
   ]
  },
  {
   "cell_type": "code",
   "execution_count": 42,
   "metadata": {
    "id": "Kq1DO_7kNwUK"
   },
   "outputs": [],
   "source": [
    "torch.manual_seed(42)\n",
    "transformer = nn.Transformer(d_model=6, nhead=3, \n",
    "                             num_encoder_layers=1, num_decoder_layers=1,\n",
    "                             dim_feedforward=20, dropout=0.1)\n",
    "model_transformer = TransformerModel(transformer, input_len=2, target_len=2, n_features=2)\n",
    "loss = nn.MSELoss()\n",
    "optimizer = torch.optim.Adam(model_transformer.parameters(), lr=0.01)"
   ]
  },
  {
   "cell_type": "code",
   "execution_count": 43,
   "metadata": {
    "id": "FT_3rWblNwUK"
   },
   "outputs": [],
   "source": [
    "for p in model_transformer.parameters():\n",
    "    if p.dim() > 1:\n",
    "        nn.init.xavier_uniform_(p)"
   ]
  },
  {
   "cell_type": "code",
   "execution_count": 44,
   "metadata": {
    "id": "2h8ZHESHNwUK"
   },
   "outputs": [],
   "source": [
    "sbs_seq_transformer = StepByStep(model_transformer, loss, optimizer)\n",
    "sbs_seq_transformer.set_loaders(train_loader, test_loader)\n",
    "sbs_seq_transformer.train(50)"
   ]
  },
  {
   "cell_type": "code",
   "execution_count": 45,
   "metadata": {
    "colab": {
     "base_uri": "https://localhost:8080/",
     "height": 289
    },
    "id": "xqQkl4IrNwUK",
    "outputId": "0da6f28b-d24a-4c06-e6ac-44429e845bf7",
    "scrolled": true
   },
   "outputs": [
    {
     "data": {
      "image/png": "[encoded data removed]",
      "text/plain": [
       "<Figure size 720x288 with 1 Axes>"
      ]
     },
     "metadata": {},
     "output_type": "display_data"
    }
   ],
   "source": [
    "fig = sbs_seq_transformer.plot_losses()"
   ]
  },
  {
   "cell_type": "markdown",
   "metadata": {
    "id": "cSr-hYK1NwUL"
   },
   "source": [
    "### Visualizing Predictions"
   ]
  },
  {
   "cell_type": "code",
   "execution_count": 47,
   "metadata": {
    "colab": {
     "base_uri": "https://localhost:8080/",
     "height": 450
    },
    "id": "F34CjIPMNwUM",
    "outputId": "f5286617-7b42-475d-929b-e17531ca5ad6"
   },
   "outputs": [
    {
     "data": {
      "image/png": "[encoded data removed]",
      "text/plain": [
       "<Figure size 1440x576 with 10 Axes>"
      ]
     },
     "metadata": {},
     "output_type": "display_data"
    }
   ],
   "source": [
    "fig = sequence_pred(sbs_seq_transformer, full_test, test_directions)"
   ]
  },
  {
   "cell_type": "markdown",
   "metadata": {
    "id": "W1nna3PdNwUM"
   },
   "source": [
    "## Vision Transformer"
   ]
  },
  {
   "cell_type": "markdown",
   "metadata": {
    "id": "QYI3KD0JNwUM"
   },
   "source": [
    "### Data Generation & Preparation"
   ]
  },
  {
   "cell_type": "code",
   "execution_count": 49,
   "metadata": {
    "id": "cBpa0M2kNwUM"
   },
   "outputs": [],
   "source": [
    "images, labels = generate_dataset(img_size=12, n_images=1000, binary=False, seed=17)"
   ]
  },
  {
   "cell_type": "code",
   "execution_count": 50,
   "metadata": {
    "id": "qc3DcJ3rNwUN"
   },
   "outputs": [],
   "source": [
    "img = torch.as_tensor(images[2]).unsqueeze(0).float()/255."
   ]
  },
  {
   "cell_type": "code",
   "execution_count": 51,
   "metadata": {
    "colab": {
     "base_uri": "https://localhost:8080/",
     "height": 206
    },
    "id": "x6dXu-7TNwUN",
    "outputId": "0b1baddb-cc0a-403a-c331-e931bd002295"
   },
   "outputs": [
    {
     "data": {
      "image/png": "[encoded data removed]",
      "text/plain": [
       "<Figure size 432x216 with 1 Axes>"
      ]
     },
     "metadata": {},
     "output_type": "display_data"
    }
   ],
   "source": [
    "fig = plot_images(img, title=False)"
   ]
  },
  {
   "cell_type": "code",
   "execution_count": 52,
   "metadata": {
    "id": "z3sLRmR3NwUN"
   },
   "outputs": [],
   "source": [
    "class TransformedTensorDataset(Dataset):\n",
    "    def __init__(self, x, y, transform=None):\n",
    "        self.x = x\n",
    "        self.y = y\n",
    "        self.transform = transform\n",
    "                \n",
    "    def __getitem__(self, index):\n",
    "        x = self.x[index]\n",
    "        if self.transform:\n",
    "            x = self.transform(x)\n",
    "            \n",
    "        return x, self.y[index]\n",
    "            \n",
    "    def __len__(self):\n",
    "        return len(self.x)\n",
    "\n",
    "# Builds tensors from numpy arrays BEFORE split\n",
    "# Modifies the scale of pixel values from [0, 255] to [0, 1]\n",
    "x_tensor = torch.as_tensor(images / 255).float()\n",
    "y_tensor = torch.as_tensor(labels).long()\n",
    "\n",
    "# Uses index_splitter to generate indices for training and\n",
    "# validation sets\n",
    "train_idx, val_idx = index_splitter(len(x_tensor), [80, 20])\n",
    "# Uses indices to perform the split\n",
    "x_train_tensor = x_tensor[train_idx]\n",
    "y_train_tensor = y_tensor[train_idx]\n",
    "x_val_tensor = x_tensor[val_idx]\n",
    "y_val_tensor = y_tensor[val_idx]\n",
    "\n",
    "# We're not doing any data augmentation now\n",
    "train_composer = Compose([Normalize(mean=(.5,), std=(.5,))])\n",
    "val_composer = Compose([Normalize(mean=(.5,), std=(.5,))])\n",
    "\n",
    "# Uses custom dataset to apply composed transforms to each set\n",
    "train_dataset = TransformedTensorDataset(x_train_tensor, y_train_tensor, transform=train_composer)\n",
    "val_dataset = TransformedTensorDataset(x_val_tensor, y_val_tensor, transform=val_composer)\n",
    "\n",
    "# Builds a weighted random sampler to handle imbalanced classes\n",
    "sampler = make_balanced_sampler(y_train_tensor)\n",
    "\n",
    "# Uses sampler in the training set to get a balanced data loader\n",
    "train_loader = DataLoader(dataset=train_dataset, batch_size=16, sampler=sampler)\n",
    "val_loader = DataLoader(dataset=val_dataset, batch_size=16)"
   ]
  },
  {
   "cell_type": "markdown",
   "metadata": {
    "id": "eHqOWqX4NwUO"
   },
   "source": [
    "### Patches"
   ]
  },
  {
   "cell_type": "markdown",
   "metadata": {
    "id": "zKVO_YStNwUO"
   },
   "source": [
    "#### Rearranging"
   ]
  },
  {
   "cell_type": "code",
   "execution_count": 53,
   "metadata": {
    "id": "SDxnlTwcNwUO"
   },
   "outputs": [],
   "source": [
    "# Adapted from https://discuss.pytorch.org/t/tf-extract-image-patches-in-pytorch/43837 \n",
    "def extract_image_patches(x, kernel_size, stride=1):\n",
    "    # Extract patches\n",
    "    patches = x.unfold(2, kernel_size, stride)\n",
    "    patches = patches.unfold(3, kernel_size, stride)\n",
    "    patches = patches.permute(0, 2, 3, 1, 4, 5).contiguous()\n",
    "    \n",
    "    return patches.view(x.shape[0], patches.shape[1], patches.shape[2], -1)"
   ]
  },
  {
   "cell_type": "code",
   "execution_count": 54,
   "metadata": {
    "colab": {
     "base_uri": "https://localhost:8080/"
    },
    "id": "7UrluxHRNwUO",
    "outputId": "d993963e-9c97-4e92-a274-2b1ab591b0c4"
   },
   "outputs": [
    {
     "data": {
      "text/plain": [
       "torch.Size([1, 3, 3, 16])"
      ]
     },
     "execution_count": 54,
     "metadata": {},
     "output_type": "execute_result"
    }
   ],
   "source": [
    "kernel_size = 4\n",
    "patches = extract_image_patches(img, kernel_size, stride=kernel_size)\n",
    "patches.shape"
   ]
  },
  {
   "cell_type": "code",
   "execution_count": 55,
   "metadata": {
    "colab": {
     "base_uri": "https://localhost:8080/",
     "height": 206
    },
    "id": "iXtVbwyJNwUP",
    "outputId": "60af95f9-1dc6-43f4-a117-5e9527cff272"
   },
   "outputs": [
    {
     "data": {
      "image/png": "[encoded data removed]",
      "text/plain": [
       "<Figure size 216x216 with 9 Axes>"
      ]
     },
     "metadata": {},
     "output_type": "display_data"
    }
   ],
   "source": [
    "fig = plot_patches(patches, kernel_size=kernel_size)"
   ]
  },
  {
   "cell_type": "code",
   "execution_count": 56,
   "metadata": {
    "id": "skMZT66YNwUP"
   },
   "outputs": [],
   "source": [
    "seq_patches = patches.view(-1, patches.size(-1))"
   ]
  },
  {
   "cell_type": "code",
   "execution_count": 57,
   "metadata": {
    "colab": {
     "base_uri": "https://localhost:8080/",
     "height": 309
    },
    "id": "Wv4MDoIaNwUP",
    "outputId": "1a4f2285-757b-454a-b64e-0017fd36124d"
   },
   "outputs": [
    {
     "data": {
      "image/png": "[encoded data removed]",
      "text/plain": [
       "<Figure size 252x288 with 9 Axes>"
      ]
     },
     "metadata": {},
     "output_type": "display_data"
    }
   ],
   "source": [
    "fig = plot_seq_patches(seq_patches)"
   ]
  },
  {
   "cell_type": "code",
   "execution_count": 58,
   "metadata": {
    "id": "wRmNuEMVNwUP"
   },
   "outputs": [],
   "source": [
    "# Adapted from https://github.com/lucidrains/vit-pytorch/blob/main/vit_pytorch/vit_pytorch.py\n",
    "# !pip install einops\n",
    "# from einops import rearrange\n",
    "# patches = rearrange(img, 'b c (h p1) (w p2) -> b (h w) (p1 p2 c)', \n",
    "#                     p1 = kernel_size, p2 = kernel_size)\n",
    "# patches.shape"
   ]
  },
  {
   "cell_type": "markdown",
   "metadata": {
    "id": "5mtLFtYjNwUP"
   },
   "source": [
    "#### Embeddings"
   ]
  },
  {
   "cell_type": "code",
   "execution_count": 59,
   "metadata": {
    "id": "Kk1XD8GlNwUP"
   },
   "outputs": [],
   "source": [
    "# Adapted from https://amaarora.github.io/2021/01/18/ViT.html\n",
    "class PatchEmbed(nn.Module):\n",
    "    def __init__(self, img_size=224, patch_size=16, in_channels=3, embed_dim=768, dilation=1):\n",
    "        super().__init__()        \n",
    "        num_patches = (img_size // patch_size) * (img_size // patch_size)\n",
    "        self.img_size = img_size\n",
    "        self.patch_size = patch_size\n",
    "        self.num_patches = num_patches\n",
    "        self.proj = nn.Conv2d(in_channels, embed_dim, kernel_size=patch_size, stride=patch_size)\n",
    "\n",
    "    def forward(self, x):\n",
    "        x = self.proj(x).flatten(2).transpose(1, 2)\n",
    "        return x"
   ]
  },
  {
   "cell_type": "code",
   "execution_count": 60,
   "metadata": {
    "colab": {
     "base_uri": "https://localhost:8080/"
    },
    "id": "k2AvFeBvNwUQ",
    "outputId": "80862bb6-f9b7-45e9-c638-24d112f6ba0d"
   },
   "outputs": [
    {
     "data": {
      "text/plain": [
       "torch.Size([1, 9, 16])"
      ]
     },
     "execution_count": 60,
     "metadata": {},
     "output_type": "execute_result"
    }
   ],
   "source": [
    "torch.manual_seed(13)\n",
    "patch_embed = PatchEmbed(img.size(-1), kernel_size, 1, kernel_size**2)\n",
    "embedded = patch_embed(img)\n",
    "embedded.shape"
   ]
  },
  {
   "cell_type": "code",
   "execution_count": 61,
   "metadata": {
    "colab": {
     "base_uri": "https://localhost:8080/",
     "height": 309
    },
    "id": "OY3ZcArZNwUR",
    "outputId": "e87d67ae-28dc-4a5f-d907-bca36a072220"
   },
   "outputs": [
    {
     "data": {
      "image/png": "[encoded data removed]",
      "text/plain": [
       "<Figure size 252x288 with 9 Axes>"
      ]
     },
     "metadata": {},
     "output_type": "display_data"
    }
   ],
   "source": [
    "fig = plot_seq_patches(embedded[0])"
   ]
  },
  {
   "cell_type": "markdown",
   "metadata": {
    "id": "WfFWwJiHNwUS"
   },
   "source": [
    "### Special Classifier Token"
   ]
  },
  {
   "cell_type": "code",
   "execution_count": 62,
   "metadata": {
    "id": "36fTjAcpNwUS"
   },
   "outputs": [],
   "source": [
    "imgs = torch.as_tensor(images[2:4]).float()/255."
   ]
  },
  {
   "cell_type": "code",
   "execution_count": 63,
   "metadata": {
    "colab": {
     "base_uri": "https://localhost:8080/",
     "height": 223
    },
    "id": "_bnPbXlNNwUT",
    "outputId": "c73437a9-a75d-4a4c-c1e5-9cbb1ccde397"
   },
   "outputs": [
    {
     "data": {
      "image/png": "[encoded data removed]",
      "text/plain": [
       "<Figure size 432x216 with 2 Axes>"
      ]
     },
     "metadata": {},
     "output_type": "display_data"
    }
   ],
   "source": [
    "fig = plot_images(imgs)"
   ]
  },
  {
   "cell_type": "code",
   "execution_count": 64,
   "metadata": {
    "id": "ZBPAYtSXNwUT"
   },
   "outputs": [],
   "source": [
    "embeddeds = patch_embed(imgs)"
   ]
  },
  {
   "cell_type": "code",
   "execution_count": 65,
   "metadata": {
    "colab": {
     "base_uri": "https://localhost:8080/",
     "height": 436
    },
    "id": "4U9NfRw8NwUT",
    "outputId": "cb165f10-b029-402a-d463-dc586f08fa9f"
   },
   "outputs": [
    {
     "data": {
      "image/png": "[encoded data removed]",
      "text/plain": [
       "<Figure size 864x432 with 20 Axes>"
      ]
     },
     "metadata": {},
     "output_type": "display_data"
    }
   ],
   "source": [
    "fig = plot_seq_patches_transp(embeddeds, add_cls=False, title='Image / Sequence')"
   ]
  },
  {
   "cell_type": "code",
   "execution_count": 66,
   "metadata": {
    "colab": {
     "base_uri": "https://localhost:8080/",
     "height": 435
    },
    "id": "Vd2-zqL4NwUT",
    "outputId": "ae18e919-aefc-464f-82b6-e05ea150d489"
   },
   "outputs": [
    {
     "data": {
      "image/png": "[encoded data removed]",
      "text/plain": [
       "<Figure size 864x432 with 22 Axes>"
      ]
     },
     "metadata": {},
     "output_type": "display_data"
    }
   ],
   "source": [
    "fig = plot_seq_patches_transp(embeddeds, add_cls=True, title='Image / Sequence')"
   ]
  },
  {
   "cell_type": "code",
   "execution_count": 67,
   "metadata": {
    "colab": {
     "base_uri": "https://localhost:8080/"
    },
    "id": "MekIClJxNwUU",
    "outputId": "a1f38349-7b70-4f3d-feed-274eca908f46"
   },
   "outputs": [
    {
     "data": {
      "text/plain": [
       "Parameter containing:\n",
       "tensor([[[0., 0., 0., 0., 0., 0., 0., 0., 0., 0., 0., 0., 0., 0., 0., 0.]]],\n",
       "       requires_grad=True)"
      ]
     },
     "execution_count": 67,
     "metadata": {},
     "output_type": "execute_result"
    }
   ],
   "source": [
    "cls_token = nn.Parameter(torch.zeros(1, 1, 16))\n",
    "cls_token"
   ]
  },
  {
   "cell_type": "code",
   "execution_count": 68,
   "metadata": {
    "colab": {
     "base_uri": "https://localhost:8080/"
    },
    "id": "xlwvhRoWNwUU",
    "outputId": "7243056c-4bb3-4793-b00a-0fadc3e7a3cf"
   },
   "outputs": [
    {
     "data": {
      "text/plain": [
       "torch.Size([16, 1, 12, 12])"
      ]
     },
     "execution_count": 68,
     "metadata": {},
     "output_type": "execute_result"
    }
   ],
   "source": [
    "images, labels = next(iter(train_loader))\n",
    "images.shape # N, C, H, W"
   ]
  },
  {
   "cell_type": "code",
   "execution_count": 69,
   "metadata": {
    "colab": {
     "base_uri": "https://localhost:8080/"
    },
    "id": "XryPjUspNwUU",
    "outputId": "d8f887b9-1cc5-4950-da77-13138d84d489"
   },
   "outputs": [
    {
     "data": {
      "text/plain": [
       "torch.Size([16, 9, 16])"
      ]
     },
     "execution_count": 69,
     "metadata": {},
     "output_type": "execute_result"
    }
   ],
   "source": [
    "embed = patch_embed(images)\n",
    "embed.shape # N, L, D"
   ]
  },
  {
   "cell_type": "code",
   "execution_count": 70,
   "metadata": {
    "colab": {
     "base_uri": "https://localhost:8080/"
    },
    "id": "vRQ2w07VNwUU",
    "outputId": "37546a64-2991-4274-cea9-52c5bf027bb2"
   },
   "outputs": [
    {
     "data": {
      "text/plain": [
       "torch.Size([16, 10, 16])"
      ]
     },
     "execution_count": 70,
     "metadata": {},
     "output_type": "execute_result"
    }
   ],
   "source": [
    "cls_tokens = cls_token.expand(embed.size(0), -1, -1)\n",
    "embed_cls = torch.cat((cls_tokens, embed), dim=1)\n",
    "embed_cls.shape # N, L+1, D"
   ]
  },
  {
   "cell_type": "markdown",
   "metadata": {
    "id": "XQ6MBraCNwUV"
   },
   "source": [
    "### The Model"
   ]
  },
  {
   "cell_type": "markdown",
   "metadata": {
    "id": "dR2z9hjpNwUV"
   },
   "source": [
    "![](https://github.com/dvgodoy/PyTorchStepByStep/blob/master/images/vit_model.png?raw=1)"
   ]
  },
  {
   "cell_type": "code",
   "execution_count": 71,
   "metadata": {
    "id": "Ri3i8FRzNwUV"
   },
   "outputs": [],
   "source": [
    "class ViT(nn.Module):\n",
    "    def __init__(self, encoder, img_size, in_channels, patch_size, n_outputs):\n",
    "        super().__init__()\n",
    "        self.d_model = encoder.d_model\n",
    "        self.n_outputs = n_outputs\n",
    "        self.encoder = encoder\n",
    "        self.mlp = nn.Linear(encoder.d_model, n_outputs)\n",
    "\n",
    "        self.embed = PatchEmbed(img_size, patch_size, in_channels, encoder.d_model)\n",
    "        self.cls_token = nn.Parameter(torch.zeros(1, 1, encoder.d_model))\n",
    "        \n",
    "    def preprocess(self, X):\n",
    "        # Patch embeddings\n",
    "        # N, L, F -> N, L, D\n",
    "        src = self.embed(X)\n",
    "        # Special classifier token\n",
    "        # 1, 1, D -> N, 1, D\n",
    "        cls_tokens = self.cls_token.expand(X.size(0), -1, -1)\n",
    "        # Concatenates CLS tokens -> N, 1 + L, D\n",
    "        src = torch.cat((cls_tokens, src), dim=1)\n",
    "        return src\n",
    "    \n",
    "    def encode(self, source):\n",
    "        # Encoder generates \"hidden states\"\n",
    "        states = self.encoder(source)\n",
    "        # Gets state from first token: CLS\n",
    "        cls_state = states[:, 0]  # N, 1, D\n",
    "        return cls_state\n",
    "        \n",
    "    def forward(self, X):\n",
    "        src = self.preprocess(X)\n",
    "        # Featurizer\n",
    "        cls_state = self.encode(src)\n",
    "        # Classifier\n",
    "        out = self.mlp(cls_state) # N, 1, outputs\n",
    "        return out"
   ]
  },
  {
   "cell_type": "markdown",
   "metadata": {
    "id": "RyplvskgNwUV"
   },
   "source": [
    "### Model Configuration & Training"
   ]
  },
  {
   "cell_type": "code",
   "execution_count": 72,
   "metadata": {
    "id": "VdCzmTlxNwUW"
   },
   "outputs": [],
   "source": [
    "torch.manual_seed(17)\n",
    "layer = EncoderLayer(n_heads=2, d_model=16, ff_units=20)\n",
    "encoder = EncoderTransf(layer, n_layers=1)\n",
    "model_vit = ViT(encoder, img_size=12, in_channels=1, patch_size=4, n_outputs=3)\n",
    "multi_loss_fn = nn.CrossEntropyLoss()\n",
    "optimizer_vit = optim.Adam(model_vit.parameters(), lr=1e-3)"
   ]
  },
  {
   "cell_type": "code",
   "execution_count": 73,
   "metadata": {
    "id": "v6iLsGP9NwUW"
   },
   "outputs": [],
   "source": [
    "sbs_vit = StepByStep(model_vit, multi_loss_fn, optimizer_vit)\n",
    "sbs_vit.set_loaders(train_loader, val_loader)\n",
    "sbs_vit.train(20)"
   ]
  },
  {
   "cell_type": "code",
   "execution_count": 74,
   "metadata": {
    "colab": {
     "base_uri": "https://localhost:8080/",
     "height": 289
    },
    "id": "DFVYbfTpNwUW",
    "outputId": "f3e5abcd-cb27-45a8-b86c-b0fafb19080e"
   },
   "outputs": [
    {
     "data": {
      "image/png": "[encoded data removed]",
      "text/plain": [
       "<Figure size 720x288 with 1 Axes>"
      ]
     },
     "metadata": {},
     "output_type": "display_data"
    }
   ],
   "source": [
    "fig = sbs_vit.plot_losses()"
   ]
  },
  {
   "cell_type": "code",
   "execution_count": 75,
   "metadata": {
    "colab": {
     "base_uri": "https://localhost:8080/"
    },
    "id": "hCdiBlVANwUW",
    "outputId": "857ee658-9908-40ce-8045-12b21869fe99"
   },
   "outputs": [
    {
     "data": {
      "text/plain": [
       "Parameter containing:\n",
       "tensor([[[ 0.0557, -0.0345,  0.0126, -0.0300,  0.0335, -0.0422,  0.0479,\n",
       "          -0.0248,  0.0128, -0.0605,  0.0061, -0.0178,  0.0921, -0.0384,\n",
       "           0.0424, -0.0423]]], device='cuda:0', requires_grad=True)"
      ]
     },
     "execution_count": 75,
     "metadata": {},
     "output_type": "execute_result"
    }
   ],
   "source": [
    "model_vit.cls_token"
   ]
  },
  {
   "cell_type": "code",
   "execution_count": 76,
   "metadata": {
    "colab": {
     "base_uri": "https://localhost:8080/"
    },
    "id": "hdHnee0bNwUW",
    "outputId": "ff7e3f09-4ae9-425c-e5ef-c27b9d29626b"
   },
   "outputs": [
    {
     "data": {
      "text/plain": [
       "tensor([[76, 76],\n",
       "        [65, 65],\n",
       "        [59, 59]])"
      ]
     },
     "execution_count": 76,
     "metadata": {},
     "output_type": "execute_result"
    }
   ],
   "source": [
    "StepByStep.loader_apply(sbs_vit.val_loader, sbs_vit.correct)"
   ]
  },
  {
   "cell_type": "markdown",
   "metadata": {
    "id": "-U-CDTv0NwUX"
   },
   "source": [
    "## Putting It All Together"
   ]
  },
  {
   "cell_type": "markdown",
   "metadata": {
    "id": "h05IC47VNwUX"
   },
   "source": [
    "### Data Preparation"
   ]
  },
  {
   "cell_type": "code",
   "execution_count": 77,
   "metadata": {
    "id": "WoTuWHxQNwUX"
   },
   "outputs": [],
   "source": [
    "# Training set\n",
    "points, directions = generate_sequences(n=256, seed=13)\n",
    "full_train = torch.as_tensor(points).float()\n",
    "target_train = full_train[:, 2:]\n",
    "train_data = TensorDataset(full_train, target_train)\n",
    "generator = torch.Generator()\n",
    "train_loader = DataLoader(train_data, batch_size=16, shuffle=True, generator=generator)\n",
    "\n",
    "# Validation/Test Set\n",
    "test_points, test_directions = generate_sequences(seed=17)\n",
    "full_test = torch.as_tensor(test_points).float()\n",
    "source_test = full_test[:, :2]\n",
    "target_test = full_test[:, 2:]\n",
    "test_data = TensorDataset(source_test, target_test)\n",
    "test_loader = DataLoader(test_data, batch_size=16)"
   ]
  },
  {
   "cell_type": "markdown",
   "metadata": {
    "id": "AO4kc1WxNwUe"
   },
   "source": [
    "### Model Assembly"
   ]
  },
  {
   "cell_type": "markdown",
   "metadata": {
    "id": "3ae4wnjfNwUe"
   },
   "source": [
    "![](https://github.com/dvgodoy/PyTorchStepByStep/blob/master/images/full_transformer_and_class.png?raw=1)"
   ]
  },
  {
   "cell_type": "markdown",
   "metadata": {
    "id": "mx-VKEb1NwUe"
   },
   "source": [
    "#### 1. Encoder-Decoder"
   ]
  },
  {
   "cell_type": "code",
   "execution_count": 78,
   "metadata": {
    "id": "daCuCKi8NwUf"
   },
   "outputs": [],
   "source": [
    "class EncoderDecoderTransf(nn.Module):\n",
    "    def __init__(self, encoder, decoder, input_len, target_len, n_features):\n",
    "        super(EncoderDecoderTransf, self).__init__()\n",
    "        self.encoder = encoder\n",
    "        self.decoder = decoder\n",
    "        self.input_len = input_len\n",
    "        self.target_len = target_len\n",
    "        self.trg_masks = self.subsequent_mask(self.target_len)\n",
    "        \n",
    "        self.n_features = n_features\n",
    "        self.proj = nn.Linear(n_features, encoder.d_model)\n",
    "        self.linear = nn.Linear(encoder.d_model, n_features)\n",
    "            \n",
    "    @staticmethod\n",
    "    def subsequent_mask(size):\n",
    "        attn_shape = (1, size, size)\n",
    "        subsequent_mask = (1 - torch.triu(torch.ones(attn_shape), diagonal=1))\n",
    "        return subsequent_mask\n",
    "\n",
    "    def encode(self, source_seq, source_mask=None):\n",
    "        # Projection\n",
    "        source_proj = self.proj(source_seq)\n",
    "        encoder_states = self.encoder(source_proj, source_mask)\n",
    "        self.decoder.init_keys(encoder_states)    \n",
    "        \n",
    "    def decode(self, shifted_target_seq, source_mask=None, target_mask=None):\n",
    "        # Projection\n",
    "        target_proj = self.proj(shifted_target_seq)\n",
    "        outputs = self.decoder(target_proj,\n",
    "                               source_mask=source_mask,\n",
    "                               target_mask=target_mask)\n",
    "        # Linear\n",
    "        outputs = self.linear(outputs)\n",
    "        return outputs\n",
    "    \n",
    "    def predict(self, source_seq, source_mask):\n",
    "        inputs = source_seq[:, -1:]\n",
    "        for i in range(self.target_len):\n",
    "            out = self.decode(inputs, source_mask, self.trg_masks[:, :i+1, :i+1])\n",
    "            out = torch.cat([inputs, out[:, -1:, :]], dim=-2)\n",
    "            inputs = out.detach()\n",
    "        outputs = inputs[:, 1:, :]\n",
    "        return outputs\n",
    "                \n",
    "    def forward(self, X, source_mask=None):\n",
    "        self.trg_masks = self.trg_masks.type_as(X).bool()\n",
    "        source_seq = X[:, :self.input_len, :]\n",
    "\n",
    "        self.encode(source_seq, source_mask)\n",
    "        if self.training:\n",
    "            shifted_target_seq = X[:, self.input_len-1:-1, :]\n",
    "            outputs = self.decode(shifted_target_seq, source_mask, self.trg_masks)\n",
    "        else:\n",
    "            outputs = self.predict(source_seq, source_mask)\n",
    "            \n",
    "        return outputs"
   ]
  },
  {
   "cell_type": "markdown",
   "metadata": {
    "id": "pam5fHC7NwUg"
   },
   "source": [
    "#### 2. Encoder"
   ]
  },
  {
   "cell_type": "code",
   "execution_count": 79,
   "metadata": {
    "id": "1_AaByiZNwUg"
   },
   "outputs": [],
   "source": [
    "class EncoderTransf(nn.Module):\n",
    "    def __init__(self, encoder_layer, n_layers=1, max_len=100):\n",
    "        super().__init__()\n",
    "        self.d_model = encoder_layer.d_model\n",
    "        self.pe = PositionalEncoding(max_len, self.d_model)\n",
    "        self.norm = nn.LayerNorm(self.d_model)\n",
    "        self.layers = nn.ModuleList([copy.deepcopy(encoder_layer)\n",
    "                                     for _ in range(n_layers)])\n",
    "    \n",
    "    def forward(self, query, mask=None):\n",
    "        # Positional Encoding\n",
    "        x = self.pe(query)\n",
    "        for layer in self.layers:\n",
    "            x = layer(x, mask)\n",
    "        # Norm\n",
    "        return self.norm(x)"
   ]
  },
  {
   "cell_type": "markdown",
   "metadata": {
    "id": "H5-Rvc97NwUg"
   },
   "source": [
    "#### 3. Decoder"
   ]
  },
  {
   "cell_type": "code",
   "execution_count": 80,
   "metadata": {
    "id": "DllAVrJ7NwUh"
   },
   "outputs": [],
   "source": [
    "class DecoderTransf(nn.Module):\n",
    "    def __init__(self, decoder_layer, n_layers=1, max_len=100):\n",
    "        super(DecoderTransf, self).__init__()\n",
    "        self.d_model = decoder_layer.d_model\n",
    "        self.pe = PositionalEncoding(max_len, self.d_model)\n",
    "        self.norm = nn.LayerNorm(self.d_model)\n",
    "        self.layers = nn.ModuleList([copy.deepcopy(decoder_layer)\n",
    "                                     for _ in range(n_layers)])\n",
    "        \n",
    "    def init_keys(self, states):\n",
    "        for layer in self.layers:\n",
    "            layer.init_keys(states)\n",
    "    \n",
    "    def forward(self, query, source_mask=None, target_mask=None):\n",
    "        # Positional Encoding\n",
    "        x = self.pe(query)\n",
    "        for layer in self.layers:\n",
    "            x = layer(x, source_mask, target_mask)\n",
    "        # Norm\n",
    "        return self.norm(x)"
   ]
  },
  {
   "cell_type": "markdown",
   "metadata": {
    "id": "-79xZjibNwUh"
   },
   "source": [
    "#### 4. Positional Encoding"
   ]
  },
  {
   "cell_type": "code",
   "execution_count": 81,
   "metadata": {
    "id": "HIqo4_VSNwUh"
   },
   "outputs": [],
   "source": [
    "class PositionalEncoding(nn.Module):\n",
    "    def __init__(self, max_len, d_model):\n",
    "        super(PositionalEncoding, self).__init__()\n",
    "        self.d_model = d_model\n",
    "        pe = torch.zeros(max_len, d_model)\n",
    "        position = torch.arange(0, max_len).float().unsqueeze(1)\n",
    "        slope = torch.exp(torch.arange(0, d_model, 2).float() * (-np.log(10000.0) / d_model))\n",
    "        pe[:, 0::2] = torch.sin(position * slope) # even dimensions\n",
    "        pe[:, 1::2] = torch.cos(position * slope) # odd dimensions\n",
    "        self.register_buffer('pe', pe.unsqueeze(0))\n",
    "\n",
    "    def forward(self, x):\n",
    "        # x is N, L, D\n",
    "        # pe is 1, maxlen, D\n",
    "        scaled_x = x * np.sqrt(self.d_model)\n",
    "        encoded = scaled_x + self.pe[:, :x.size(1), :]\n",
    "        return encoded"
   ]
  },
  {
   "cell_type": "markdown",
   "metadata": {
    "id": "feWr1KpKNwUh"
   },
   "source": [
    "#### 5. Encoder \"Layer\""
   ]
  },
  {
   "cell_type": "code",
   "execution_count": 82,
   "metadata": {
    "id": "hVq71WuxNwUh"
   },
   "outputs": [],
   "source": [
    "class EncoderLayer(nn.Module):\n",
    "    def __init__(self, n_heads, d_model, ff_units, dropout=0.1):\n",
    "        super().__init__()\n",
    "        self.n_heads = n_heads\n",
    "        self.d_model = d_model\n",
    "        self.ff_units = ff_units\n",
    "        self.self_attn_heads = MultiHeadedAttention(n_heads, d_model, \n",
    "                                                    dropout=dropout)\n",
    "        self.ffn = nn.Sequential(\n",
    "            nn.Linear(d_model, ff_units),\n",
    "            nn.ReLU(),\n",
    "            nn.Dropout(dropout),\n",
    "            nn.Linear(ff_units, d_model),\n",
    "        )\n",
    "        self.sublayers = nn.ModuleList([SubLayerWrapper(d_model, dropout) for _ in range(2)])\n",
    "         \n",
    "    def forward(self, query, mask=None):\n",
    "        # SubLayer 0 - Self-Attention\n",
    "        att = self.sublayers[0](query,\n",
    "                                sublayer=self.self_attn_heads, \n",
    "                                is_self_attn=True,\n",
    "                                mask=mask)\n",
    "        # SubLayer 1 - FFN\n",
    "        out = self.sublayers[1](att, sublayer=self.ffn)\n",
    "        return out"
   ]
  },
  {
   "cell_type": "markdown",
   "metadata": {
    "id": "DoNvE43BNwUh"
   },
   "source": [
    "#### 6. Decoder \"Layer\""
   ]
  },
  {
   "cell_type": "code",
   "execution_count": 83,
   "metadata": {
    "id": "aEFJ_P1ENwUi"
   },
   "outputs": [],
   "source": [
    "class DecoderLayer(nn.Module):\n",
    "    def __init__(self, n_heads, d_model, ff_units, dropout=0.1):\n",
    "        super().__init__()\n",
    "        self.n_heads = n_heads\n",
    "        self.d_model = d_model\n",
    "        self.ff_units = ff_units\n",
    "        self.self_attn_heads = MultiHeadedAttention(n_heads, d_model, \n",
    "                                                    dropout=dropout)\n",
    "        self.cross_attn_heads = MultiHeadedAttention(n_heads, d_model,\n",
    "                                                     dropout=dropout)\n",
    "        self.ffn = nn.Sequential(\n",
    "            nn.Linear(d_model, ff_units),\n",
    "            nn.ReLU(),\n",
    "            nn.Dropout(dropout),\n",
    "            nn.Linear(ff_units, d_model),\n",
    "        )\n",
    "        self.sublayers = nn.ModuleList([SubLayerWrapper(d_model, dropout) for _ in range(3)])\n",
    "                \n",
    "    def init_keys(self, states):\n",
    "        self.cross_attn_heads.init_keys(states)\n",
    "         \n",
    "    def forward(self, query, source_mask=None, target_mask=None):\n",
    "        # SubLayer 0 - Masked Self-Attention\n",
    "        att1 = self.sublayers[0](query, \n",
    "                                 sublayer=self.self_attn_heads, \n",
    "                                 is_self_attn=True, \n",
    "                                 mask=target_mask)\n",
    "        # SubLayer 1 - Cross-Attention\n",
    "        att2 = self.sublayers[1](att1, \n",
    "                                 sublayer=self.cross_attn_heads, \n",
    "                                 mask=source_mask)\n",
    "        # SubLayer 2 - FFN\n",
    "        out = self.sublayers[2](att2, sublayer=self.ffn)\n",
    "        return out"
   ]
  },
  {
   "cell_type": "markdown",
   "metadata": {
    "id": "rvjwH1HDNwUi"
   },
   "source": [
    "#### 7. \"SubLayer\" Wrapper"
   ]
  },
  {
   "cell_type": "code",
   "execution_count": 84,
   "metadata": {
    "id": "VKjDZ1FxNwUi"
   },
   "outputs": [],
   "source": [
    "class SubLayerWrapper(nn.Module):\n",
    "    def __init__(self, d_model, dropout):\n",
    "        super().__init__()\n",
    "        self.norm = nn.LayerNorm(d_model)\n",
    "        self.drop = nn.Dropout(dropout)\n",
    "        \n",
    "    def forward(self, x, sublayer, is_self_attn=False, **kwargs):\n",
    "        norm_x = self.norm(x)\n",
    "        if is_self_attn:\n",
    "            sublayer.init_keys(norm_x)\n",
    "        out = x + self.drop(sublayer(norm_x, **kwargs))\n",
    "        return out"
   ]
  },
  {
   "cell_type": "code",
   "execution_count": 85,
   "metadata": {
    "id": "MHDgTly6NwUj"
   },
   "outputs": [],
   "source": [
    "# Before\n",
    "def forward(self, query, mask=None):\n",
    "    # query and mask go in\n",
    "    norm_query = self.norm1(query)\n",
    "    self.self_attn_heads.init_keys(norm_query)\n",
    "    # the sublayer is the self-attention\n",
    "    states = self.self_attn_heads(norm_query, mask)\n",
    "    att = query + self.drop1(states)\n",
    "    # att comes out\n",
    "    ...\n",
    "    \n",
    "# After\n",
    "def forward(self, query, mask=None):\n",
    "    # query and mask go in\n",
    "    # the sublayer is the self-attention\n",
    "    # norm, drop, and residual are inside the wrapper\n",
    "    att = self.sublayers[0](query,\n",
    "                            sublayer=self.self_attn_heads, \n",
    "                            is_self_attn=True,\n",
    "                            mask=mask)\n",
    "    # att comes out\n",
    "    ..."
   ]
  },
  {
   "cell_type": "markdown",
   "metadata": {
    "id": "AZL83WGGNwUj"
   },
   "source": [
    "#### 8. Multi-Headed Attention"
   ]
  },
  {
   "cell_type": "code",
   "execution_count": 86,
   "metadata": {
    "id": "9fdt8QohNwUj"
   },
   "outputs": [],
   "source": [
    "class MultiHeadedAttention(nn.Module):\n",
    "    def __init__(self, n_heads, d_model, dropout=0.1):\n",
    "        super(MultiHeadedAttention, self).__init__()\n",
    "        self.n_heads = n_heads\n",
    "        self.d_model = d_model\n",
    "        self.d_k = int(d_model / n_heads)\n",
    "        self.linear_query = nn.Linear(d_model, d_model)\n",
    "        self.linear_key = nn.Linear(d_model, d_model)\n",
    "        self.linear_value = nn.Linear(d_model, d_model)\n",
    "        self.linear_out = nn.Linear(d_model, d_model)\n",
    "        self.dropout = nn.Dropout(p=dropout)\n",
    "        self.alphas = None\n",
    "\n",
    "    def make_chunks(self, x):\n",
    "        batch_size, seq_len = x.size(0), x.size(1)\n",
    "        # N, L, D -> N, L, n_heads * d_k\n",
    "        x = x.view(batch_size, seq_len, self.n_heads, self.d_k) \n",
    "        # N, n_heads, L, d_k\n",
    "        x = x.transpose(1, 2)  \n",
    "        return x\n",
    "\n",
    "    def init_keys(self, key):\n",
    "        # N, n_heads, L, d_k\n",
    "        self.proj_key = self.make_chunks(self.linear_key(key))\n",
    "        self.proj_value = self.make_chunks(self.linear_value(key))\n",
    "        \n",
    "    def score_function(self, query):\n",
    "        # scaled dot product\n",
    "        # N, n_heads, L, d_k x # N, n_heads, d_k, L -> N, n_heads, L, L\n",
    "        proj_query = self.make_chunks(self.linear_query(query))\n",
    "        dot_products = torch.matmul(proj_query, \n",
    "                                    self.proj_key.transpose(-2, -1))\n",
    "        scores =  dot_products / np.sqrt(self.d_k)\n",
    "        return scores\n",
    "            \n",
    "    def attn(self, query, mask=None):\n",
    "        # Query is batch-first: N, L, D\n",
    "        # Score function will generate scores for each head\n",
    "        scores = self.score_function(query) # N, n_heads, L, L\n",
    "        if mask is not None:\n",
    "            scores = scores.masked_fill(mask == 0, -1e9)\n",
    "        alphas = F.softmax(scores, dim=-1) # N, n_heads, L, L\n",
    "        alphas = self.dropout(alphas)\n",
    "        self.alphas = alphas.detach()\n",
    "        \n",
    "        # N, n_heads, L, L x N, n_heads, L, d_k -> N, n_heads, L, d_k\n",
    "        context = torch.matmul(alphas, self.proj_value)\n",
    "        return context        \n",
    "                                \n",
    "    def output_function(self, contexts):\n",
    "        # N, L, D\n",
    "        out = self.linear_out(contexts) # N, L, D\n",
    "        return out\n",
    "        \n",
    "    def forward(self, query, mask=None):\n",
    "        if mask is not None:\n",
    "            # N, 1, L, L - every head uses the same mask\n",
    "            mask = mask.unsqueeze(1)\n",
    "\n",
    "        # N, n_heads, L, d_k\n",
    "        context = self.attn(query, mask=mask)\n",
    "        # N, L, n_heads, d_k\n",
    "        context = context.transpose(1, 2).contiguous()\n",
    "        # N, L, n_heads * d_k = N, L, d_model\n",
    "        context = context.view(query.size(0), -1, self.d_model)        \n",
    "        # N, L, d_model\n",
    "        out = self.output_function(context)\n",
    "        return out"
   ]
  },
  {
   "cell_type": "markdown",
   "metadata": {
    "id": "D0EbQOBmNwUj"
   },
   "source": [
    "### Model Configuration & Training"
   ]
  },
  {
   "cell_type": "code",
   "execution_count": 87,
   "metadata": {
    "id": "relmLO6nNwUk"
   },
   "outputs": [],
   "source": [
    "torch.manual_seed(42)\n",
    "# Layers\n",
    "enclayer = EncoderLayer(n_heads=3, d_model=6, ff_units=10, dropout=0.1)\n",
    "declayer = DecoderLayer(n_heads=3, d_model=6, ff_units=10, dropout=0.1)\n",
    "# Encoder and Decoder\n",
    "enctransf = EncoderTransf(enclayer, n_layers=2)\n",
    "dectransf = DecoderTransf(declayer, n_layers=2)\n",
    "# Transformer\n",
    "model_transf = EncoderDecoderTransf(enctransf, dectransf, input_len=2, target_len=2, n_features=2)\n",
    "loss = nn.MSELoss()\n",
    "optimizer = torch.optim.Adam(model_transf.parameters(), lr=0.01)"
   ]
  },
  {
   "cell_type": "code",
   "execution_count": 88,
   "metadata": {
    "id": "WNWKnLgANwUk"
   },
   "outputs": [],
   "source": [
    "for p in model_transf.parameters():\n",
    "    if p.dim() > 1:\n",
    "        nn.init.xavier_uniform_(p)"
   ]
  },
  {
   "cell_type": "code",
   "execution_count": 89,
   "metadata": {
    "id": "5lcICEImNwUk"
   },
   "outputs": [],
   "source": [
    "sbs_seq_transf = StepByStep(model_transf, loss, optimizer)\n",
    "sbs_seq_transf.set_loaders(train_loader, test_loader)\n",
    "sbs_seq_transf.train(50)"
   ]
  },
  {
   "cell_type": "code",
   "execution_count": 90,
   "metadata": {
    "colab": {
     "base_uri": "https://localhost:8080/"
    },
    "id": "NcXuFB_INwUk",
    "outputId": "34ef2a00-9651-4792-d05a-39a65a07b3ef"
   },
   "outputs": [
    {
     "data": {
      "text/plain": [
       "(0.019648547226097435, 0.011462601833045483)"
      ]
     },
     "execution_count": 90,
     "metadata": {},
     "output_type": "execute_result"
    }
   ],
   "source": [
    "sbs_seq_transf.losses[-1], sbs_seq_transf.val_losses[-1]"
   ]
  }
 ],
 "metadata": {
  "accelerator": "GPU",
  "colab": {
   "name": "Chapter10.ipynb",
   "provenance": []
  },
  "kernelspec": {
   "display_name": "Python 3",
   "language": "python",
   "name": "python3"
  },
  "language_info": {
   "codemirror_mode": {
    "name": "ipython",
    "version": 3
   },
   "file_extension": ".py",
   "mimetype": "text/x-python",
   "name": "python",
   "nbconvert_exporter": "python",
   "pygments_lexer": "ipython3",
   "version": "3.7.4"
  }
 },
 "nbformat": 4,
 "nbformat_minor": 1
}
