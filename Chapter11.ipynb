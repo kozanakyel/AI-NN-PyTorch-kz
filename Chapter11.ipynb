{
 "cells": [
  {
   "cell_type": "markdown",
   "metadata": {
    "id": "5QNW8f3BPIoi"
   },
   "source": [
    "# Deep Learning with PyTorch Step-by-Step: A Beginner's Guide"
   ]
  },
  {
   "cell_type": "markdown",
   "metadata": {
    "id": "JQfcyrdyPIok"
   },
   "source": [
    "# Chapter 11"
   ]
  },
  {
   "cell_type": "markdown",
   "metadata": {
    "id": "AA_yhplzPIol"
   },
   "source": [
    "## Additional Setup\n",
    "\n",
    "The repository for the `allennlp` library has been archived. The library was used by `flair` to provide ELMO embeddings. This required PyTorch to be downgraded to version 1.7.1, and it prevented updating other libraries used in this chapter.\n",
    "\n",
    "At this point, the sensible solution is to upgrade `flair` and the other packages to more up-to-date versions and retire the use of ELMO embeddings. For the sake of completion, these embeddings will be replaced by flair embeddings in the code. Some code will be commented out whenever the replacement produces results that are substantially different from those produced by ELMO.\n",
    "\n",
    "Moreover, upgrading the `gensim` library required a few changes in the code since some attributes were changed from its 3.8.3 to its 4.3.1 version. These changes are highlighted in the code.\n",
    "\n",
    "**IMPORTANT**: due to the major version upgrade, the output of several cells will be quite different than those shown in the book. The new Gensim version produces slightly different vocabularies, so you should expect small changes in the number of words in the vocabulary, for example."
   ]
  },
  {
   "cell_type": "code",
   "execution_count": null,
   "metadata": {
    "id": "C8BhclloPIom"
   },
   "outputs": [],
   "source": [
    "# # UPDATED\n",
    "# ###########################################################\n",
    "# !pip install gensim==4.3.1\n",
    "# # The library has been archived and won't be used anymore\n",
    "# # # !pip install allennlp==0.9.0\n",
    "# !pip install flair==0.12.2\n",
    "# !pip install torchvision==0.15.1\n",
    "# # # HuggingFace\n",
    "# !pip install transformers==4.32.0\n",
    "# !pip install datasets==2.14.4\n",
    "# ###########################################################"
   ]
  },
  {
   "cell_type": "code",
   "execution_count": 1,
   "metadata": {
    "colab": {
     "base_uri": "https://localhost:8080/"
    },
    "id": "w5okKRDWPIon",
    "outputId": "0c1e9290-21f7-4d4d-fd8e-27ee4141aa49"
   },
   "outputs": [
    {
     "name": "stdout",
     "output_type": "stream",
     "text": [
      "Downloading files from GitHub repo to Colab...\n",
      "Finished!\n"
     ]
    }
   ],
   "source": [
    "try:\n",
    "    import google.colab\n",
    "    import requests\n",
    "    url = 'https://raw.githubusercontent.com/dvgodoy/PyTorchStepByStep/master/config.py'\n",
    "    r = requests.get(url, allow_redirects=True)\n",
    "    open('config.py', 'wb').write(r.content)\n",
    "except ModuleNotFoundError:\n",
    "    pass\n",
    "\n",
    "from config import *\n",
    "config_chapter11()\n",
    "# This is needed to render the plots in this chapter\n",
    "from plots.chapter11 import *"
   ]
  },
  {
   "cell_type": "code",
   "execution_count": 2,
   "metadata": {
    "id": "MMmcGqLxPIoo"
   },
   "outputs": [],
   "source": [
    "import os\n",
    "import json\n",
    "import errno\n",
    "import requests\n",
    "import numpy as np\n",
    "from copy import deepcopy\n",
    "from operator import itemgetter\n",
    "\n",
    "import torch\n",
    "import torch.optim as optim\n",
    "import torch.nn as nn\n",
    "import torch.nn.functional as F\n",
    "from torch.utils.data import DataLoader, TensorDataset, Dataset\n",
    "\n",
    "from data_generation.nlp import ALICE_URL, WIZARD_URL, download_text\n",
    "from stepbystep.v4 import StepByStep\n",
    "# These are the classes we built in Chapter 10\n",
    "from seq2seq import *\n",
    "\n",
    "import nltk\n",
    "from nltk.tokenize import sent_tokenize"
   ]
  },
  {
   "cell_type": "code",
   "execution_count": 3,
   "metadata": {
    "id": "fU1AMangTB1o"
   },
   "outputs": [],
   "source": [
    "import gensim\n",
    "from gensim import corpora, downloader\n",
    "from gensim.parsing.preprocessing import *\n",
    "from gensim.utils import simple_preprocess\n",
    "from gensim.models import Word2Vec"
   ]
  },
  {
   "cell_type": "code",
   "execution_count": 4,
   "metadata": {
    "id": "L6HR2OpPTtEJ"
   },
   "outputs": [],
   "source": [
    "from flair.data import Sentence\n",
    "#from flair.embeddings import ELMoEmbeddings, WordEmbeddings, \\\n",
    "#    TransformerWordEmbeddings, TransformerDocumentEmbeddings\n",
    "from flair.embeddings import WordEmbeddings, \\\n",
    "    TransformerWordEmbeddings, TransformerDocumentEmbeddings"
   ]
  },
  {
   "cell_type": "code",
   "execution_count": 5,
   "metadata": {
    "id": "sfXyVryWT2mM"
   },
   "outputs": [],
   "source": [
    "from datasets import load_dataset, Split\n",
    "from transformers import (\n",
    "    DataCollatorForLanguageModeling,\n",
    "    BertModel, BertTokenizer, BertForSequenceClassification,\n",
    "    DistilBertModel, DistilBertTokenizer,\n",
    "    DistilBertForSequenceClassification,\n",
    "    AutoModelForSequenceClassification,\n",
    "    AutoModel, AutoTokenizer, AutoModelForCausalLM,\n",
    "    Trainer, TrainingArguments, pipeline, TextClassificationPipeline\n",
    ")\n",
    "from transformers.pipelines import SUPPORTED_TASKS"
   ]
  },
  {
   "cell_type": "markdown",
   "metadata": {
    "id": "aOMOKCI3PIop"
   },
   "source": [
    "# Down the Yellow Brick Rabbit Hole"
   ]
  },
  {
   "cell_type": "markdown",
   "metadata": {
    "id": "RG2bSGFtPIop"
   },
   "source": [
    "![](https://github.com/dvgodoy/PyTorchStepByStep/blob/master/images/alice_dorothy.png?raw=1)\n",
    "\n",
    "*Left: \"Alice and the Baby Pig\" illustration by John Tenniel's, from \"Alice's Adventure's in Wonderland\" (1865).*\n",
    "\n",
    "*Right: \"Dorothy meets the Cowardly Lion\" illustration by W.W. Denslow, from \"The Wonderful Wizard of Oz\" (1900)*"
   ]
  },
  {
   "cell_type": "markdown",
   "metadata": {
    "id": "zqGeN0zzPIoq"
   },
   "source": [
    "# Building a Dataset"
   ]
  },
  {
   "cell_type": "code",
   "execution_count": 6,
   "metadata": {
    "id": "YIiNrb9uPIor"
   },
   "outputs": [],
   "source": [
    "localfolder = 'texts'\n",
    "download_text(ALICE_URL, localfolder)\n",
    "download_text(WIZARD_URL, localfolder)"
   ]
  },
  {
   "cell_type": "code",
   "execution_count": 7,
   "metadata": {
    "id": "4IceFMuyPIor"
   },
   "outputs": [],
   "source": [
    "with open(os.path.join(localfolder, 'alice28-1476.txt'), 'r') as f:\n",
    "    alice = ''.join(f.readlines()[104:3704])\n",
    "\n",
    "with open(os.path.join(localfolder, 'wizoz10-1740.txt'), 'r') as f:\n",
    "    wizard = ''.join(f.readlines()[310:5100])"
   ]
  },
  {
   "cell_type": "code",
   "execution_count": 8,
   "metadata": {
    "colab": {
     "base_uri": "https://localhost:8080/"
    },
    "id": "Hpw53y4yPIos",
    "outputId": "9ec55a3a-aeb0-4c10-8d05-fc1dd7402e2d"
   },
   "outputs": [
    {
     "name": "stdout",
     "output_type": "stream",
     "text": [
      "                ALICE'S ADVENTURES IN WONDERLAND\n",
      "\n",
      "                          Lewis Carroll\n",
      "\n",
      "               THE MILLENNIUM FULCRUM EDITION 2.8\n",
      "\n",
      "\n",
      "\n",
      "\n",
      "                            CHAPTER I\n",
      "\n",
      "                      Down the Rabbit-Hole\n",
      "\n",
      "\n",
      "  Alice was beginning to get very tired of sitting by her sister\n",
      "on the bank, and of having nothing to do:  once or twice she had\n",
      "peeped into the book her sister was reading, but it had no\n",
      "pictures or conversations in it, `and what is the use of a book,'\n",
      "thought Alice `w\n",
      "\n",
      "\n",
      "                    THE WONDERFUL WIZARD OF OZ\n",
      "\n",
      "\n",
      "                          1.  The Cyclone\n",
      "\n",
      "\n",
      "    Dorothy lived in the midst of the great Kansas prairies, with\n",
      "Uncle Henry, who was a farmer, and Aunt Em, who was the farmer's\n",
      "wife.  Their house was small, for the lumber to build it had to be\n",
      "carried by wagon many miles.  There were four walls, a floor and a\n",
      "roof, which made one room; and this room contained a rusty looking\n",
      "cookstove, a cupboard for the dishes, a table, three or four\n",
      "chairs, and th\n"
     ]
    }
   ],
   "source": [
    "print(alice[:500])\n",
    "print('\\n')\n",
    "print(wizard[:500])"
   ]
  },
  {
   "cell_type": "code",
   "execution_count": 9,
   "metadata": {
    "id": "JNdQPUzqPIos"
   },
   "outputs": [],
   "source": [
    "text_cfg = \"\"\"fname,start,end\n",
    "alice28-1476.txt,104,3704\n",
    "wizoz10-1740.txt,310,5100\"\"\"\n",
    "bytes_written = open(os.path.join(localfolder, 'lines.cfg'), 'w').write(text_cfg)"
   ]
  },
  {
   "cell_type": "markdown",
   "metadata": {
    "id": "Cd4tQSexPIot"
   },
   "source": [
    "## Sentence Tokenization"
   ]
  },
  {
   "cell_type": "code",
   "execution_count": 10,
   "metadata": {
    "colab": {
     "base_uri": "https://localhost:8080/"
    },
    "id": "Ms_jPDTWPIot",
    "outputId": "b64afbbe-9c24-4715-cc29-14fe4184979d"
   },
   "outputs": [
    {
     "data": {
      "text/plain": [
       "[\"I'm\", 'following', 'the', 'white', 'rabbit']"
      ]
     },
     "execution_count": 10,
     "metadata": {},
     "output_type": "execute_result"
    }
   ],
   "source": [
    "sentence = \"I'm following the white rabbit\"\n",
    "tokens = sentence.split(' ')\n",
    "tokens"
   ]
  },
  {
   "cell_type": "code",
   "execution_count": 11,
   "metadata": {
    "colab": {
     "base_uri": "https://localhost:8080/"
    },
    "id": "UxbboLMMPIou",
    "outputId": "9021e58c-35e2-407c-afd8-c2a1f8bdb076"
   },
   "outputs": [
    {
     "name": "stderr",
     "output_type": "stream",
     "text": [
      "[nltk_data] Downloading package punkt to /root/nltk_data...\n",
      "[nltk_data]   Unzipping tokenizers/punkt.zip.\n"
     ]
    },
    {
     "data": {
      "text/plain": [
       "(1612, 2240)"
      ]
     },
     "execution_count": 11,
     "metadata": {},
     "output_type": "execute_result"
    }
   ],
   "source": [
    "import nltk\n",
    "from nltk.tokenize import sent_tokenize\n",
    "\n",
    "nltk.download('punkt')\n",
    "corpus_alice = sent_tokenize(alice)\n",
    "corpus_wizard = sent_tokenize(wizard)\n",
    "len(corpus_alice), len(corpus_wizard)"
   ]
  },
  {
   "cell_type": "code",
   "execution_count": 12,
   "metadata": {
    "colab": {
     "base_uri": "https://localhost:8080/",
     "height": 35
    },
    "id": "IQ0TkRtRPIou",
    "outputId": "ee34b76d-4c2f-4b4b-cfa1-41ab480e1fcf"
   },
   "outputs": [
    {
     "data": {
      "application/vnd.google.colaboratory.intrinsic+json": {
       "type": "string"
      },
      "text/plain": [
       "'There was nothing so VERY remarkable in that; nor did Alice\\nthink it so VERY much out of the way to hear the Rabbit say to\\nitself, `Oh dear!'"
      ]
     },
     "execution_count": 12,
     "metadata": {},
     "output_type": "execute_result"
    }
   ],
   "source": [
    "corpus_alice[2]"
   ]
  },
  {
   "cell_type": "code",
   "execution_count": 13,
   "metadata": {
    "colab": {
     "base_uri": "https://localhost:8080/",
     "height": 35
    },
    "id": "gFOXRwwLPIov",
    "outputId": "ea686ce8-4815-496f-aa50-6b9e0339fc3f"
   },
   "outputs": [
    {
     "data": {
      "application/vnd.google.colaboratory.intrinsic+json": {
       "type": "string"
      },
      "text/plain": [
       "'\"There\\'s a cyclone coming, Em,\" he called to his wife.'"
      ]
     },
     "execution_count": 13,
     "metadata": {},
     "output_type": "execute_result"
    }
   ],
   "source": [
    "corpus_wizard[30]"
   ]
  },
  {
   "cell_type": "code",
   "execution_count": 14,
   "metadata": {
    "id": "8TX0L1NqPIov"
   },
   "outputs": [],
   "source": [
    "def sentence_tokenize(source, quote_char='\\\\', sep_char=',',\n",
    "                      include_header=True, include_source=True,\n",
    "                      extensions=('txt'), **kwargs):\n",
    "    nltk.download('punkt')\n",
    "    # If source is a folder, goes through all files inside it\n",
    "    # that match the desired extensions ('txt' by default)\n",
    "    if os.path.isdir(source):\n",
    "        filenames = [f for f in os.listdir(source)\n",
    "                     if os.path.isfile(os.path.join(source, f)) and\n",
    "                        os.path.splitext(f)[1][1:] in extensions]\n",
    "    elif isinstance(source, str):\n",
    "        filenames = [source]\n",
    "\n",
    "    # If there is a configuration file, builds a dictionary with\n",
    "    # the corresponding start and end lines of each text file\n",
    "    config_file = os.path.join(source, 'lines.cfg')\n",
    "    config = {}\n",
    "    if os.path.exists(config_file):\n",
    "        with open(config_file, 'r') as f:\n",
    "            rows = f.readlines()\n",
    "\n",
    "        for r in rows[1:]:\n",
    "            fname, start, end = r.strip().split(',')\n",
    "            config.update({fname: (int(start), int(end))})\n",
    "\n",
    "    new_fnames = []\n",
    "    # For each file of text\n",
    "    for fname in filenames:\n",
    "        # If there's a start and end line for that file, use it\n",
    "        try:\n",
    "            start, end = config[fname]\n",
    "        except KeyError:\n",
    "            start = None\n",
    "            end = None\n",
    "\n",
    "        # Opens the file, slices the configures lines (if any)\n",
    "        # cleans line breaks and uses the sentence tokenizer\n",
    "        with open(os.path.join(source, fname), 'r') as f:\n",
    "            contents = (''.join(f.readlines()[slice(start, end, None)])\n",
    "                        .replace('\\n', ' ').replace('\\r', ''))\n",
    "        corpus = sent_tokenize(contents, **kwargs)\n",
    "\n",
    "        # Builds a CSV file containing tokenized sentences\n",
    "        base = os.path.splitext(fname)[0]\n",
    "        new_fname = f'{base}.sent.csv'\n",
    "        new_fname = os.path.join(source, new_fname)\n",
    "        with open(new_fname, 'w') as f:\n",
    "            # Header of the file\n",
    "            if include_header:\n",
    "                if include_source:\n",
    "                    f.write('sentence,source\\n')\n",
    "                else:\n",
    "                    f.write('sentence\\n')\n",
    "            # Writes one line for each sentence\n",
    "            for sentence in corpus:\n",
    "                if include_source:\n",
    "                    f.write(f'{quote_char}{sentence}{quote_char}{sep_char}{fname}\\n')\n",
    "                else:\n",
    "                    f.write(f'{quote_char}{sentence}{quote_char}\\n')\n",
    "        new_fnames.append(new_fname)\n",
    "\n",
    "    # Returns list of the newly generated CSV files\n",
    "    return sorted(new_fnames)"
   ]
  },
  {
   "cell_type": "code",
   "execution_count": 15,
   "metadata": {
    "colab": {
     "base_uri": "https://localhost:8080/"
    },
    "id": "duMi-DzQPIov",
    "outputId": "fe2d40b8-fcdf-4228-d4d2-fe94ff0d3b0c"
   },
   "outputs": [
    {
     "name": "stderr",
     "output_type": "stream",
     "text": [
      "[nltk_data] Downloading package punkt to /root/nltk_data...\n",
      "[nltk_data]   Package punkt is already up-to-date!\n"
     ]
    },
    {
     "data": {
      "text/plain": [
       "['texts/alice28-1476.sent.csv', 'texts/wizoz10-1740.sent.csv']"
      ]
     },
     "execution_count": 15,
     "metadata": {},
     "output_type": "execute_result"
    }
   ],
   "source": [
    "new_fnames = sentence_tokenize(localfolder)\n",
    "new_fnames"
   ]
  },
  {
   "cell_type": "code",
   "execution_count": 16,
   "metadata": {
    "id": "tvQ5ikWQPIow"
   },
   "outputs": [],
   "source": [
    "# import spacy\n",
    "# nlp = spacy.blank(\"en\")\n",
    "# nlp.add_pipe(nlp.create_pipe(\"sentencizer\"))\n",
    "\n",
    "# sentences = []\n",
    "# for doc in nlp.pipe(corpus_alice):\n",
    "#     sentences.extend(sent.text for sent in doc.sents)\n",
    "\n",
    "# len(sentences), sentences[2]"
   ]
  },
  {
   "cell_type": "markdown",
   "metadata": {
    "id": "TNMT7-ClPIow"
   },
   "source": [
    "## HuggingFace's Dataset"
   ]
  },
  {
   "cell_type": "markdown",
   "metadata": {
    "id": "s5T31ZJtPIow"
   },
   "source": [
    "## Loading a Dataset"
   ]
  },
  {
   "cell_type": "code",
   "execution_count": 17,
   "metadata": {
    "colab": {
     "base_uri": "https://localhost:8080/",
     "height": 113,
     "referenced_widgets": [
      "4e0e6c72de6b4f01806f07631c00a8e7",
      "b63f77ac851147bb8a514d5737135f9a",
      "a000d3139bcc44babd2409da447eab16",
      "8a2aa09b29a243c2a8dca4974d3cbc7b",
      "88acd9c1e68642a8b58f9c6d77647d08",
      "2973d5f945a74243a90d44c30dd99d6c",
      "17f9f24135664f2185908a9a686fe7b8",
      "74690264747443baada58da696384387",
      "1fe2af3e027142309946a9cc019e5c13",
      "b3e74b9a6bd64af2905732e61991b1ec",
      "df0d7229eeca4861937ea11dcfb855bf",
      "dc64bd6c586c44649346778761ee47dc",
      "d2d26ca83c384e8cb8cf9996e1202c76",
      "e90b1dcef213438a91676618c66d5f85",
      "469cb766551f40f992aa5a1522f06796",
      "7d3433407dec4976b47892803044e899",
      "4629c0d2a4ca42d7b347627832900bae",
      "49fbb0bb89e1487fbdcd78e52f9a1d00",
      "bafc4fafea2344f4a7d2def7da6153d2",
      "fd192c24c0e44da0b3cf39fb1fd60b5f",
      "bcd028bfbdd44ffbb46c6e140086d03b",
      "24b4642b637b40acb9e5787c71989d1a",
      "0a85cc9e58ca491cb6ad286fc5afbcbd",
      "e74ffc2c8ab645b99b823dfcd834033e",
      "861d8b0a49d044bba3beff95743a3c47",
      "225b7a1272ad497680eead78e2fb21ba",
      "ba91e70666b84e95b4ca4e6e6e1503a5",
      "f56178de4e344ada9c275e63262ccc77",
      "8a72cf42f4e3447987928280478bbcb3",
      "61d5d21f585a4c4a8a4e0661ebab0978",
      "9c51062634f544a5afcf04f59dbc9131",
      "0591bc04e579467c9ee57bdef9210df5",
      "4c76509902e24df2aa811d754d607817"
     ]
    },
    "id": "6mmR-5ItPIox",
    "outputId": "6345bd58-fe4c-47ed-c410-56bfddfd93ff"
   },
   "outputs": [
    {
     "data": {
      "application/vnd.jupyter.widget-view+json": {
       "model_id": "4e0e6c72de6b4f01806f07631c00a8e7",
       "version_major": 2,
       "version_minor": 0
      },
      "text/plain": [
       "Downloading data files:   0%|          | 0/1 [00:00<?, ?it/s]"
      ]
     },
     "metadata": {},
     "output_type": "display_data"
    },
    {
     "data": {
      "application/vnd.jupyter.widget-view+json": {
       "model_id": "dc64bd6c586c44649346778761ee47dc",
       "version_major": 2,
       "version_minor": 0
      },
      "text/plain": [
       "Extracting data files:   0%|          | 0/1 [00:00<?, ?it/s]"
      ]
     },
     "metadata": {},
     "output_type": "display_data"
    },
    {
     "data": {
      "application/vnd.jupyter.widget-view+json": {
       "model_id": "0a85cc9e58ca491cb6ad286fc5afbcbd",
       "version_major": 2,
       "version_minor": 0
      },
      "text/plain": [
       "Generating train split: 0 examples [00:00, ? examples/s]"
      ]
     },
     "metadata": {},
     "output_type": "display_data"
    }
   ],
   "source": [
    "from datasets import load_dataset, Split\n",
    "\n",
    "dataset = load_dataset(path='csv', data_files=new_fnames, quotechar='\\\\', split=Split.TRAIN)"
   ]
  },
  {
   "cell_type": "markdown",
   "metadata": {
    "id": "RHikb18aPIox"
   },
   "source": [
    "### Attributes"
   ]
  },
  {
   "cell_type": "code",
   "execution_count": 18,
   "metadata": {
    "colab": {
     "base_uri": "https://localhost:8080/"
    },
    "id": "DvVIqWAiPIox",
    "outputId": "6a626e75-eed6-4bd8-bb9f-478ef961e29e"
   },
   "outputs": [
    {
     "data": {
      "text/plain": [
       "({'sentence': Value(dtype='string', id=None),\n",
       "  'source': Value(dtype='string', id=None)},\n",
       " 2,\n",
       " (3852, 2))"
      ]
     },
     "execution_count": 18,
     "metadata": {},
     "output_type": "execute_result"
    }
   ],
   "source": [
    "dataset.features, dataset.num_columns, dataset.shape"
   ]
  },
  {
   "cell_type": "code",
   "execution_count": 19,
   "metadata": {
    "colab": {
     "base_uri": "https://localhost:8080/"
    },
    "id": "MtH_c0gVPIoy",
    "outputId": "1fe778ea-9428-45a0-e1bd-096ca61838db"
   },
   "outputs": [
    {
     "data": {
      "text/plain": [
       "{'sentence': 'There was nothing so VERY remarkable in that; nor did Alice think it so VERY much out of the way to hear the Rabbit say to itself, `Oh dear!',\n",
       " 'source': 'alice28-1476.txt'}"
      ]
     },
     "execution_count": 19,
     "metadata": {},
     "output_type": "execute_result"
    }
   ],
   "source": [
    "dataset[2]"
   ]
  },
  {
   "cell_type": "code",
   "execution_count": 20,
   "metadata": {
    "colab": {
     "base_uri": "https://localhost:8080/"
    },
    "id": "xDOC9Hh4PIoy",
    "outputId": "dff8e93f-65b0-433a-8b7e-17034ac57ed9"
   },
   "outputs": [
    {
     "data": {
      "text/plain": [
       "['alice28-1476.txt', 'alice28-1476.txt', 'alice28-1476.txt']"
      ]
     },
     "execution_count": 20,
     "metadata": {},
     "output_type": "execute_result"
    }
   ],
   "source": [
    "dataset['source'][:3]"
   ]
  },
  {
   "cell_type": "markdown",
   "metadata": {
    "id": "EM-mEXGrPIoy"
   },
   "source": [
    "### Methods"
   ]
  },
  {
   "cell_type": "code",
   "execution_count": 21,
   "metadata": {
    "colab": {
     "base_uri": "https://localhost:8080/"
    },
    "id": "QprAteUMPIoy",
    "outputId": "1bb4ca60-3808-40f7-dff9-4daa784383ec"
   },
   "outputs": [
    {
     "data": {
      "text/plain": [
       "['alice28-1476.txt', 'wizoz10-1740.txt']"
      ]
     },
     "execution_count": 21,
     "metadata": {},
     "output_type": "execute_result"
    }
   ],
   "source": [
    "dataset.unique('source')"
   ]
  },
  {
   "cell_type": "code",
   "execution_count": 22,
   "metadata": {
    "colab": {
     "base_uri": "https://localhost:8080/",
     "height": 49,
     "referenced_widgets": [
      "9dbde3e27b4c4440b7a6de971c838ddc",
      "ff1933d7656e41cfa276d74b0d458a5d",
      "4d9eb2d890ea430cb0f6cfb03c0913ec",
      "93fa3f168798430280f1ff68660349a4",
      "63a4322a79ce4ed9ade9951a68184c79",
      "8acc01c4edd249c5bdf36333e9e24e57",
      "3d706598c13a404c882ab11ea40ed2ba",
      "1e3440f0270448baaa0b19928392e7a6",
      "1bcb447d7e7c4325bb5e590a9ad2396a",
      "466c81afbe03406280d6edd92ec0f5aa",
      "68423cc470b84d56b509e43e7d0622fc"
     ]
    },
    "id": "9XbmJVItPIoz",
    "outputId": "7d818306-08ad-4105-8551-c2f8fb03c565"
   },
   "outputs": [
    {
     "data": {
      "application/vnd.jupyter.widget-view+json": {
       "model_id": "9dbde3e27b4c4440b7a6de971c838ddc",
       "version_major": 2,
       "version_minor": 0
      },
      "text/plain": [
       "Map:   0%|          | 0/3852 [00:00<?, ? examples/s]"
      ]
     },
     "metadata": {},
     "output_type": "display_data"
    }
   ],
   "source": [
    "def is_alice_label(row):\n",
    "    is_alice = int(row['source'] == 'alice28-1476.txt')\n",
    "    return {'labels': is_alice}\n",
    "\n",
    "dataset = dataset.map(is_alice_label)"
   ]
  },
  {
   "cell_type": "code",
   "execution_count": 23,
   "metadata": {
    "colab": {
     "base_uri": "https://localhost:8080/"
    },
    "id": "Ei4rMiW0PIoz",
    "outputId": "dcf485ed-a782-4b31-8366-fc9565f70869"
   },
   "outputs": [
    {
     "data": {
      "text/plain": [
       "{'sentence': 'There was nothing so VERY remarkable in that; nor did Alice think it so VERY much out of the way to hear the Rabbit say to itself, `Oh dear!',\n",
       " 'source': 'alice28-1476.txt',\n",
       " 'labels': 1}"
      ]
     },
     "execution_count": 23,
     "metadata": {},
     "output_type": "execute_result"
    }
   ],
   "source": [
    "dataset[2]"
   ]
  },
  {
   "cell_type": "code",
   "execution_count": 24,
   "metadata": {
    "id": "zL8_4qImPIo0"
   },
   "outputs": [],
   "source": [
    "shuffled_dataset = dataset.shuffle(seed=42)"
   ]
  },
  {
   "cell_type": "code",
   "execution_count": 25,
   "metadata": {
    "colab": {
     "base_uri": "https://localhost:8080/"
    },
    "id": "svODbO3NPIo0",
    "outputId": "f394dedd-992e-44ca-dc87-a3547005b8ae"
   },
   "outputs": [
    {
     "data": {
      "text/plain": [
       "DatasetDict({\n",
       "    train: Dataset({\n",
       "        features: ['sentence', 'source', 'labels'],\n",
       "        num_rows: 3081\n",
       "    })\n",
       "    test: Dataset({\n",
       "        features: ['sentence', 'source', 'labels'],\n",
       "        num_rows: 771\n",
       "    })\n",
       "})"
      ]
     },
     "execution_count": 25,
     "metadata": {},
     "output_type": "execute_result"
    }
   ],
   "source": [
    "split_dataset = shuffled_dataset.train_test_split(test_size=0.2)\n",
    "split_dataset"
   ]
  },
  {
   "cell_type": "code",
   "execution_count": 26,
   "metadata": {
    "id": "a-vhKAPsPIo0"
   },
   "outputs": [],
   "source": [
    "train_dataset, test_dataset = split_dataset['train'], split_dataset['test']"
   ]
  },
  {
   "cell_type": "markdown",
   "metadata": {
    "id": "jnTeb1APPIo0"
   },
   "source": [
    "## Data Augmentation"
   ]
  },
  {
   "cell_type": "code",
   "execution_count": 27,
   "metadata": {
    "id": "v18lfIROPIo1"
   },
   "outputs": [],
   "source": [
    "# !pip install textattack\n",
    "# from textattack.augmentation import EmbeddingAugmenter\n",
    "# augmenter = EmbeddingAugmenter()\n",
    "# feynman = 'What I cannot create, I do not understand.'"
   ]
  },
  {
   "cell_type": "code",
   "execution_count": 28,
   "metadata": {
    "id": "oKSTr__FPIo1"
   },
   "outputs": [],
   "source": [
    "# for i in range(5):\n",
    "#     print(augmenter.augment(feynman))"
   ]
  },
  {
   "cell_type": "markdown",
   "metadata": {
    "id": "1Apyc3vyPIo1"
   },
   "source": [
    "# Word Tokenization"
   ]
  },
  {
   "cell_type": "code",
   "execution_count": 29,
   "metadata": {
    "colab": {
     "base_uri": "https://localhost:8080/"
    },
    "id": "H6C3Qto1PIo1",
    "outputId": "fe3fc854-036c-4f58-81ab-0f0256927887"
   },
   "outputs": [
    {
     "data": {
      "text/plain": [
       "[\"I'm\", 'following', 'the', 'white', 'rabbit']"
      ]
     },
     "execution_count": 29,
     "metadata": {},
     "output_type": "execute_result"
    }
   ],
   "source": [
    "sentence = \"I'm following the white rabbit\"\n",
    "tokens = sentence.split(' ')\n",
    "tokens"
   ]
  },
  {
   "cell_type": "code",
   "execution_count": 30,
   "metadata": {
    "colab": {
     "base_uri": "https://localhost:8080/"
    },
    "id": "gMiBbirCPIo2",
    "outputId": "cf0a077b-3340-4d19-9330-8dc890fe3d27"
   },
   "outputs": [
    {
     "data": {
      "text/plain": [
       "['follow', 'white', 'rabbit']"
      ]
     },
     "execution_count": 30,
     "metadata": {},
     "output_type": "execute_result"
    }
   ],
   "source": [
    "from gensim.parsing.preprocessing import *\n",
    "\n",
    "preprocess_string(sentence)"
   ]
  },
  {
   "cell_type": "code",
   "execution_count": 31,
   "metadata": {
    "colab": {
     "base_uri": "https://localhost:8080/"
    },
    "id": "g9I0NFCcPIo2",
    "outputId": "273405c4-d724-41f1-ab8e-b292bded7699"
   },
   "outputs": [
    {
     "data": {
      "text/plain": [
       "['i', 'm', 'following', 'the', 'white', 'rabbit']"
      ]
     },
     "execution_count": 31,
     "metadata": {},
     "output_type": "execute_result"
    }
   ],
   "source": [
    "filters = [lambda x: x.lower(), strip_tags, strip_punctuation, strip_multiple_whitespaces, strip_numeric]\n",
    "preprocess_string(sentence, filters=filters)"
   ]
  },
  {
   "cell_type": "code",
   "execution_count": 32,
   "metadata": {
    "colab": {
     "base_uri": "https://localhost:8080/"
    },
    "id": "I6zIZlDPPIo2",
    "outputId": "b4df3fd6-7777-43d5-c5b6-300f5aa09900"
   },
   "outputs": [
    {
     "data": {
      "text/plain": [
       "['following', 'the', 'white', 'rabbit']"
      ]
     },
     "execution_count": 32,
     "metadata": {},
     "output_type": "execute_result"
    }
   ],
   "source": [
    "from gensim.utils import simple_preprocess\n",
    "\n",
    "tokens = simple_preprocess(sentence)\n",
    "tokens"
   ]
  },
  {
   "cell_type": "markdown",
   "metadata": {
    "id": "S41E3OspPIo3"
   },
   "source": [
    "## Vocabulary"
   ]
  },
  {
   "cell_type": "code",
   "execution_count": 33,
   "metadata": {
    "colab": {
     "base_uri": "https://localhost:8080/"
    },
    "id": "Nj8VJgZ-PIo3",
    "outputId": "30552a98-c7ce-41bb-fabe-55d281dc4316"
   },
   "outputs": [
    {
     "data": {
      "text/plain": [
       "['when',\n",
       " 'he',\n",
       " 'had',\n",
       " 'finished',\n",
       " 'he',\n",
       " 'thanked',\n",
       " 'her',\n",
       " 'kindly',\n",
       " 'and',\n",
       " 'oiled',\n",
       " 'himself',\n",
       " 'thoroughly',\n",
       " 'with',\n",
       " 'his',\n",
       " 'jeweled',\n",
       " 'oil',\n",
       " 'can',\n",
       " 'to',\n",
       " 'guard',\n",
       " 'against',\n",
       " 'mishap']"
      ]
     },
     "execution_count": 33,
     "metadata": {},
     "output_type": "execute_result"
    }
   ],
   "source": [
    "sentences = train_dataset['sentence']\n",
    "tokens = [simple_preprocess(sent) for sent in sentences]\n",
    "tokens[0]"
   ]
  },
  {
   "cell_type": "code",
   "execution_count": 34,
   "metadata": {
    "colab": {
     "base_uri": "https://localhost:8080/"
    },
    "id": "RmGTVyKkPIo3",
    "outputId": "9eb66df1-8278-4ed5-b326-c6ec413271f8"
   },
   "outputs": [
    {
     "name": "stdout",
     "output_type": "stream",
     "text": [
      "Dictionary<3693 unique tokens: ['against', 'and', 'can', 'finished', 'guard']...>\n"
     ]
    }
   ],
   "source": [
    "from gensim import corpora\n",
    "\n",
    "dictionary = corpora.Dictionary(tokens)\n",
    "print(dictionary)"
   ]
  },
  {
   "cell_type": "code",
   "execution_count": 35,
   "metadata": {
    "colab": {
     "base_uri": "https://localhost:8080/"
    },
    "id": "TbIfKFBIPIo3",
    "outputId": "71d928b9-93a0-4e68-9494-34f97667e6ec"
   },
   "outputs": [
    {
     "data": {
      "text/plain": [
       "3081"
      ]
     },
     "execution_count": 35,
     "metadata": {},
     "output_type": "execute_result"
    }
   ],
   "source": [
    "dictionary.num_docs"
   ]
  },
  {
   "cell_type": "code",
   "execution_count": 36,
   "metadata": {
    "colab": {
     "base_uri": "https://localhost:8080/"
    },
    "id": "fOPK8ULTPIo4",
    "outputId": "e6826db2-2bc7-4f81-df29-cb0e50b54202"
   },
   "outputs": [
    {
     "data": {
      "text/plain": [
       "50539"
      ]
     },
     "execution_count": 36,
     "metadata": {},
     "output_type": "execute_result"
    }
   ],
   "source": [
    "dictionary.num_pos # processed words"
   ]
  },
  {
   "cell_type": "code",
   "execution_count": 37,
   "metadata": {
    "colab": {
     "base_uri": "https://localhost:8080/"
    },
    "id": "3cR7uPunPIo4",
    "outputId": "7683762e-9659-4aff-89b7-2be80a5eb537",
    "scrolled": true
   },
   "outputs": [
    {
     "data": {
      "text/plain": [
       "{'against': 0,\n",
       " 'and': 1,\n",
       " 'can': 2,\n",
       " 'finished': 3,\n",
       " 'guard': 4,\n",
       " 'had': 5,\n",
       " 'he': 6,\n",
       " 'her': 7,\n",
       " 'himself': 8,\n",
       " 'his': 9,\n",
       " 'jeweled': 10,\n",
       " 'kindly': 11,\n",
       " 'mishap': 12,\n",
       " 'oil': 13,\n",
       " 'oiled': 14,\n",
       " 'thanked': 15,\n",
       " 'thoroughly': 16,\n",
       " 'to': 17,\n",
       " 'when': 18,\n",
       " 'with': 19,\n",
       " 'alice': 20,\n",
       " 'cried': 21,\n",
       " 'english': 22,\n",
       " 'ever': 23,\n",
       " 'for': 24,\n",
       " 'forgot': 25,\n",
       " 'good': 26,\n",
       " 'how': 27,\n",
       " 'largest': 28,\n",
       " 'like': 29,\n",
       " 'moment': 30,\n",
       " 'much': 31,\n",
       " 'now': 32,\n",
       " 'opening': 33,\n",
       " 'out': 34,\n",
       " 'quite': 35,\n",
       " 'she': 36,\n",
       " 'so': 37,\n",
       " 'speak': 38,\n",
       " 'surprised': 39,\n",
       " 'telescope': 40,\n",
       " 'that': 41,\n",
       " 'the': 42,\n",
       " 'was': 43,\n",
       " 'able': 44,\n",
       " 'am': 45,\n",
       " 'but': 46,\n",
       " 'certainly': 47,\n",
       " 'dorothy': 48,\n",
       " 'first': 49,\n",
       " 'get': 50,\n",
       " 'help': 51,\n",
       " 'home': 52,\n",
       " 'if': 53,\n",
       " 'must': 54,\n",
       " 'replied': 55,\n",
       " 'scarecrow': 56,\n",
       " 'shall': 57,\n",
       " 'go': 58,\n",
       " 'morning': 59,\n",
       " 'returned': 60,\n",
       " 'tomorrow': 61,\n",
       " 'we': 62,\n",
       " 'came': 63,\n",
       " 'down': 64,\n",
       " 'dry': 65,\n",
       " 'fall': 66,\n",
       " 'heap': 67,\n",
       " 'leaves': 68,\n",
       " 'of': 69,\n",
       " 'over': 70,\n",
       " 'sticks': 71,\n",
       " 'upon': 72,\n",
       " 'ask': 73,\n",
       " 'give': 74,\n",
       " 'going': 75,\n",
       " 'great': 76,\n",
       " 'head': 77,\n",
       " 'him': 78,\n",
       " 'is': 79,\n",
       " 'me': 80,\n",
       " 'my': 81,\n",
       " 'oz': 82,\n",
       " 'remarked': 83,\n",
       " 'some': 84,\n",
       " 'straw': 85,\n",
       " 'stuffed': 86,\n",
       " 'dance': 87,\n",
       " 'join': 88,\n",
       " 'will': 89,\n",
       " 'won': 90,\n",
       " 'you': 91,\n",
       " 'ago': 92,\n",
       " 'balloon': 93,\n",
       " 'brought': 94,\n",
       " 'built': 95,\n",
       " 'city': 96,\n",
       " 'emerald': 97,\n",
       " 'here': 98,\n",
       " 'man': 99,\n",
       " 'many': 100,\n",
       " 'old': 101,\n",
       " 'very': 102,\n",
       " 'years': 103,\n",
       " 'young': 104,\n",
       " 'crops': 105,\n",
       " 'evidently': 106,\n",
       " 'farmers': 107,\n",
       " 'large': 108,\n",
       " 'munchkins': 109,\n",
       " 'raise': 110,\n",
       " 'were': 111,\n",
       " 'find': 112,\n",
       " 'hope': 113,\n",
       " 'again': 114,\n",
       " 'be': 115,\n",
       " 'growing': 116,\n",
       " 'small': 117,\n",
       " 'about': 118,\n",
       " 'all': 119,\n",
       " 'at': 120,\n",
       " 'back': 121,\n",
       " 'been': 122,\n",
       " 'creatures': 123,\n",
       " 'dropping': 124,\n",
       " 'figure': 125,\n",
       " 'jumping': 126,\n",
       " 'land': 127,\n",
       " 'looked': 128,\n",
       " 'mad': 129,\n",
       " 'mock': 130,\n",
       " 'quietly': 131,\n",
       " 'sadly': 132,\n",
       " 'said': 133,\n",
       " 'sat': 134,\n",
       " 'suddenly': 135,\n",
       " 'things': 136,\n",
       " 'this': 137,\n",
       " 'time': 138,\n",
       " 'turtle': 139,\n",
       " 'two': 140,\n",
       " 'voice': 141,\n",
       " 'who': 142,\n",
       " 'begins': 143,\n",
       " 'course': 144,\n",
       " 'twinkling': 145,\n",
       " 'consider': 146,\n",
       " 'in': 147,\n",
       " 'jury': 148,\n",
       " 'low': 149,\n",
       " 'trembling': 150,\n",
       " 'verdict': 151,\n",
       " 'your': 152,\n",
       " 'quick': 153,\n",
       " 'any': 154,\n",
       " 'everything': 155,\n",
       " 'green': 156,\n",
       " 'looks': 157,\n",
       " 'more': 158,\n",
       " 'no': 159,\n",
       " 'other': 160,\n",
       " 'see': 161,\n",
       " 'spectacles': 162,\n",
       " 'than': 163,\n",
       " 'wear': 164,\n",
       " 'why': 165,\n",
       " 'coward': 166,\n",
       " 'girl': 167,\n",
       " 'oh': 168,\n",
       " 'too': 169,\n",
       " 'yes': 170,\n",
       " 'after': 171,\n",
       " 'answered': 172,\n",
       " 'away': 173,\n",
       " 'frighten': 174,\n",
       " 'held': 175,\n",
       " 'lest': 176,\n",
       " 'queen': 177,\n",
       " 'ran': 178,\n",
       " 'run': 179,\n",
       " 'should': 180,\n",
       " 'they': 181,\n",
       " 'tightly': 182,\n",
       " 'toto': 183,\n",
       " 'while': 184,\n",
       " 'happened': 185,\n",
       " 'happy': 186,\n",
       " 'only': 187,\n",
       " 'telling': 188,\n",
       " 'tin': 189,\n",
       " 'us': 190,\n",
       " 'woodman': 191,\n",
       " 'aunt': 192,\n",
       " 'caught': 193,\n",
       " 'follow': 194,\n",
       " 'last': 195,\n",
       " 'started': 196,\n",
       " 'did': 197,\n",
       " 'escape': 198,\n",
       " 'manage': 199,\n",
       " 'wildcat': 200,\n",
       " 'as': 201,\n",
       " 'got': 202,\n",
       " 'helped': 203,\n",
       " 'into': 204,\n",
       " 'lion': 205,\n",
       " 'put': 206,\n",
       " 'then': 207,\n",
       " 'until': 208,\n",
       " 'up': 209,\n",
       " 'arms': 210,\n",
       " 'baby': 211,\n",
       " 'creature': 212,\n",
       " 'difficulty': 213,\n",
       " 'directions': 214,\n",
       " 'fish': 215,\n",
       " 'it': 216,\n",
       " 'its': 217,\n",
       " 'just': 218,\n",
       " 'legs': 219,\n",
       " 'little': 220,\n",
       " 'queer': 221,\n",
       " 'shaped': 222,\n",
       " 'star': 223,\n",
       " 'thought': 224,\n",
       " 'above': 225,\n",
       " 'began': 226,\n",
       " 'begun': 227,\n",
       " 'bread': 228,\n",
       " 'butter': 229,\n",
       " 'getting': 230,\n",
       " 'hadn': 231,\n",
       " 'hatter': 232,\n",
       " 'majesty': 233,\n",
       " 'not': 234,\n",
       " 'or': 235,\n",
       " 'poor': 236,\n",
       " 'tea': 237,\n",
       " 'thin': 238,\n",
       " 'week': 239,\n",
       " 'what': 240,\n",
       " 'gloves': 241,\n",
       " 'hands': 242,\n",
       " 'kid': 243,\n",
       " 'on': 244,\n",
       " 'one': 245,\n",
       " 'rabbit': 246,\n",
       " 'talking': 247,\n",
       " 'white': 248,\n",
       " 'bill': 249,\n",
       " 'chorus': 250,\n",
       " 'general': 251,\n",
       " 'goes': 252,\n",
       " 'heard': 253,\n",
       " 'there': 254,\n",
       " 'thing': 255,\n",
       " 'anything': 256,\n",
       " 'brains': 257,\n",
       " 'could': 258,\n",
       " 'decided': 259,\n",
       " 'each': 260,\n",
       " 'em': 261,\n",
       " 'friends': 262,\n",
       " 'heart': 263,\n",
       " 'kansas': 264,\n",
       " 'know': 265,\n",
       " 'matter': 266,\n",
       " 'puzzled': 267,\n",
       " 'right': 268,\n",
       " 'say': 269,\n",
       " 'wanted': 270,\n",
       " 'whether': 271,\n",
       " 'which': 272,\n",
       " 'asked': 273,\n",
       " 'become': 274,\n",
       " 'big': 275,\n",
       " 'has': 276,\n",
       " 'own': 277,\n",
       " 'shaggy': 278,\n",
       " 'witch': 279,\n",
       " 'dormouse': 280,\n",
       " 'eyes': 281,\n",
       " 'impatiently': 282,\n",
       " 'myself': 283,\n",
       " 'remark': 284,\n",
       " 'shook': 285,\n",
       " 'without': 286,\n",
       " 'air': 287,\n",
       " 'awoke': 288,\n",
       " 'beautiful': 289,\n",
       " 'country': 290,\n",
       " 'day': 291,\n",
       " 'floating': 292,\n",
       " 'found': 293,\n",
       " 'night': 294,\n",
       " 'second': 295,\n",
       " 'strange': 296,\n",
       " 'through': 297,\n",
       " 'traveled': 298,\n",
       " 'are': 299,\n",
       " 'angry': 300,\n",
       " 'bucket': 301,\n",
       " 'dashed': 302,\n",
       " 'foot': 303,\n",
       " 'from': 304,\n",
       " 'made': 305,\n",
       " 'near': 306,\n",
       " 'picked': 307,\n",
       " 'stood': 308,\n",
       " 'water': 309,\n",
       " 'wetting': 310,\n",
       " 'come': 311,\n",
       " 'conqueror': 312,\n",
       " 'daresay': 313,\n",
       " 'doesn': 314,\n",
       " 'french': 315,\n",
       " 'mouse': 316,\n",
       " 'perhaps': 317,\n",
       " 'understand': 318,\n",
       " 'william': 319,\n",
       " 'beautifully': 320,\n",
       " 'bottle': 321,\n",
       " 'carved': 322,\n",
       " 'contents': 323,\n",
       " 'cupboard': 324,\n",
       " 'dish': 325,\n",
       " 'gold': 326,\n",
       " 'high': 327,\n",
       " 'poured': 328,\n",
       " 'reaching': 329,\n",
       " 'shelf': 330,\n",
       " 'square': 331,\n",
       " 'took': 332,\n",
       " 'went': 333,\n",
       " 'exactly': 334,\n",
       " 'piece': 335,\n",
       " 'round': 336,\n",
       " 'added': 337,\n",
       " 'miles': 338,\n",
       " 'nearly': 339,\n",
       " 'among': 340,\n",
       " 'asleep': 341,\n",
       " 'closed': 342,\n",
       " 'fast': 343,\n",
       " 'fell': 344,\n",
       " 'herself': 345,\n",
       " 'poppies': 346,\n",
       " 'spite': 347,\n",
       " 'where': 348,\n",
       " 'tame': 349,\n",
       " 'do': 350,\n",
       " 'feel': 351,\n",
       " 'cross': 352,\n",
       " 'due': 353,\n",
       " 'except': 354,\n",
       " 'order': 355,\n",
       " 'place': 356,\n",
       " 'side': 357,\n",
       " 'south': 358,\n",
       " 'unwise': 359,\n",
       " 'way': 360,\n",
       " 'would': 361,\n",
       " 'also': 362,\n",
       " 'led': 363,\n",
       " 'lodged': 364,\n",
       " 'palace': 365,\n",
       " 'part': 366,\n",
       " 'pleasant': 367,\n",
       " 'rooms': 368,\n",
       " 'them': 369,\n",
       " 'these': 370,\n",
       " 'almost': 371,\n",
       " 'far': 372,\n",
       " 'feet': 373,\n",
       " 'off': 374,\n",
       " 'seemed': 375,\n",
       " 'sight': 376,\n",
       " 'have': 377,\n",
       " 'seen': 378,\n",
       " 'mouth': 379,\n",
       " 'nose': 380,\n",
       " 'child': 381,\n",
       " 'fellow': 382,\n",
       " 'sing': 383,\n",
       " 'soup': 384,\n",
       " 'bite': 385,\n",
       " 'didn': 386,\n",
       " 'hit': 387,\n",
       " 'paw': 388,\n",
       " 'rubbed': 389,\n",
       " 'king': 390,\n",
       " 'gates': 391,\n",
       " 'guardian': 392,\n",
       " 'lived': 393,\n",
       " 'reached': 394,\n",
       " 'room': 395,\n",
       " 'search': 396,\n",
       " 'soldier': 397,\n",
       " 'streets': 398,\n",
       " 'whiskers': 399,\n",
       " 'wicked': 400,\n",
       " 'better': 401,\n",
       " 'fresh': 402,\n",
       " 'might': 403,\n",
       " 'new': 404,\n",
       " 'paint': 405,\n",
       " 'don': 406,\n",
       " 'duchess': 407,\n",
       " 'fact': 408,\n",
       " 'difficult': 409,\n",
       " 'falling': 410,\n",
       " 'grass': 411,\n",
       " 'hid': 412,\n",
       " 'holes': 413,\n",
       " 'muddy': 414,\n",
       " 'thick': 415,\n",
       " 'walk': 416,\n",
       " 'bright': 417,\n",
       " 'every': 418,\n",
       " 'fields': 419,\n",
       " 'flowers': 420,\n",
       " 'journey': 421,\n",
       " 'stretched': 422,\n",
       " 'because': 423,\n",
       " 'being': 424,\n",
       " 'body': 425,\n",
       " 'cannot': 426,\n",
       " 'confidentially': 427,\n",
       " 'continued': 428,\n",
       " 'hurt': 429,\n",
       " 'mind': 430,\n",
       " 'afford': 431,\n",
       " 'couldn': 432,\n",
       " 'learn': 433,\n",
       " 'before': 434,\n",
       " 'broad': 435,\n",
       " 'carried': 436,\n",
       " 'cyclone': 437,\n",
       " 'farmhouse': 438,\n",
       " 'henry': 439,\n",
       " 'prairie': 440,\n",
       " 'sitting': 441,\n",
       " 'uncle': 442,\n",
       " 'appeared': 443,\n",
       " 'hard': 444,\n",
       " 'rush': 445,\n",
       " 'safe': 446,\n",
       " 'soon': 447,\n",
       " 'wood': 448,\n",
       " 'cornfield': 449,\n",
       " 'lifted': 450,\n",
       " 'pole': 451,\n",
       " 'beast': 452,\n",
       " 'pleasanter': 453,\n",
       " 'surely': 454,\n",
       " 'wild': 455,\n",
       " 'wish': 456,\n",
       " 'castle': 457,\n",
       " 'few': 458,\n",
       " 'melted': 459,\n",
       " 'minutes': 460,\n",
       " 'well': 461,\n",
       " 'yourself': 462,\n",
       " 'another': 463,\n",
       " 'bit': 464,\n",
       " 'dark': 465,\n",
       " 'hurrying': 466,\n",
       " 'jumped': 467,\n",
       " 'long': 468,\n",
       " 'overhead': 469,\n",
       " 'passage': 470,\n",
       " 'still': 471,\n",
       " 'answer': 472,\n",
       " 'dies': 473,\n",
       " 'cow': 474,\n",
       " 'east': 475,\n",
       " 'marriage': 476,\n",
       " 'prevent': 477,\n",
       " 'promised': 478,\n",
       " 'sheep': 479,\n",
       " 'woman': 480,\n",
       " 'kept': 481,\n",
       " 'lay': 482,\n",
       " 'sleep': 483,\n",
       " 'usual': 484,\n",
       " 'watch': 485,\n",
       " 'felt': 486,\n",
       " 'relieved': 487,\n",
       " 'set': 488,\n",
       " 'trot': 489,\n",
       " 'carefully': 490,\n",
       " 'door': 491,\n",
       " 'dress': 492,\n",
       " 'key': 493,\n",
       " 'locked': 494,\n",
       " 'pocket': 495,\n",
       " 'arm': 496,\n",
       " 'court': 497,\n",
       " 'followed': 498,\n",
       " 'hare': 499,\n",
       " 'march': 500,\n",
       " 'indeed': 501,\n",
       " 'send': 502,\n",
       " 'cook': 503,\n",
       " 'shan': 504,\n",
       " 'does': 505,\n",
       " 'maiden': 506,\n",
       " 'marry': 507,\n",
       " 'munchkin': 508,\n",
       " 'purple': 509,\n",
       " 'turning': 510,\n",
       " 'even': 511,\n",
       " 'kill': 512,\n",
       " 'breakfast': 513,\n",
       " 'saving': 514,\n",
       " 'their': 515,\n",
       " 'never': 516,\n",
       " 'pig': 517,\n",
       " 'by': 518,\n",
       " 'giving': 519,\n",
       " 'guinea': 520,\n",
       " 'lizard': 521,\n",
       " 'middle': 522,\n",
       " 'pigs': 523,\n",
       " 'something': 524,\n",
       " 'anxiously': 525,\n",
       " 'an': 526,\n",
       " 'cottage': 527,\n",
       " 'changing': 528,\n",
       " 'hastily': 529,\n",
       " 'often': 530,\n",
       " 'particular': 531,\n",
       " 'size': 532,\n",
       " 'relief': 533,\n",
       " 'shore': 534,\n",
       " 'swim': 535,\n",
       " 'toward': 536,\n",
       " 'amuse': 537,\n",
       " 'chariot': 538,\n",
       " 'courtyard': 539,\n",
       " 'cowardly': 540,\n",
       " 'draw': 541,\n",
       " 'drive': 542,\n",
       " 'harness': 543,\n",
       " 'horse': 544,\n",
       " 'make': 545,\n",
       " 'sure': 546,\n",
       " 'whenever': 547,\n",
       " 'wished': 548,\n",
       " 'work': 549,\n",
       " 'tired': 550,\n",
       " 'persisted': 551,\n",
       " 'box': 552,\n",
       " 'downwards': 553,\n",
       " 'haste': 554,\n",
       " 'melancholy': 555,\n",
       " 'move': 556,\n",
       " 'saw': 557,\n",
       " 'tail': 558,\n",
       " 'unable': 559,\n",
       " 'waving': 560,\n",
       " 'begin': 561,\n",
       " 'please': 562,\n",
       " 'harm': 563,\n",
       " 'haven': 564,\n",
       " 'else': 565,\n",
       " 'nothing': 566,\n",
       " 'caterpillar': 567,\n",
       " 'grumble': 568,\n",
       " 'trouble': 569,\n",
       " 'geography': 570,\n",
       " 'however': 571,\n",
       " 'let': 572,\n",
       " 'multiplication': 573,\n",
       " 'signify': 574,\n",
       " 'table': 575,\n",
       " 'try': 576,\n",
       " 'argue': 577,\n",
       " 'dreadful': 578,\n",
       " 'muttered': 579,\n",
       " 'really': 580,\n",
       " 'begged': 581,\n",
       " 'ears': 582,\n",
       " 'hand': 583,\n",
       " 'laugh': 584,\n",
       " 'laughter': 585,\n",
       " 'merry': 586,\n",
       " 'orphan': 587,\n",
       " 'press': 588,\n",
       " 'scream': 589,\n",
       " 'startled': 590,\n",
       " 'wonder': 591,\n",
       " 'teacup': 592,\n",
       " 'cheeks': 593,\n",
       " 'clown': 594,\n",
       " 'fair': 595,\n",
       " 'joker': 596,\n",
       " 'lady': 597,\n",
       " 'mr': 598,\n",
       " 'nodding': 599,\n",
       " 'pockets': 600,\n",
       " 'puffing': 601,\n",
       " 'saucily': 602,\n",
       " 'stare': 603,\n",
       " 'basket': 604,\n",
       " 'loud': 605,\n",
       " 'people': 606,\n",
       " 'visit': 607,\n",
       " 'duck': 608,\n",
       " 'enough': 609,\n",
       " 'frog': 610,\n",
       " 'generally': 611,\n",
       " 'means': 612,\n",
       " 'worm': 613,\n",
       " 'axe': 614,\n",
       " 'gave': 615,\n",
       " 'leaned': 616,\n",
       " 'lowered': 617,\n",
       " 'satisfaction': 618,\n",
       " 'sigh': 619,\n",
       " 'tree': 620,\n",
       " 'ate': 621,\n",
       " 'moved': 622,\n",
       " 'terrible': 623,\n",
       " 'direction': 624,\n",
       " 'orders': 625,\n",
       " 'possible': 626,\n",
       " 'different': 627,\n",
       " 'blade': 628,\n",
       " 'burnished': 629,\n",
       " 'glistened': 630,\n",
       " 'others': 631,\n",
       " 'polished': 632,\n",
       " 'removed': 633,\n",
       " 'rust': 634,\n",
       " 'silver': 635,\n",
       " 'egg': 636,\n",
       " 'll': 637,\n",
       " 'next': 638,\n",
       " 'suppose': 639,\n",
       " 'tasted': 640,\n",
       " 'beginning': 641,\n",
       " 'happens': 642,\n",
       " 'interrupted': 643,\n",
       " 'changed': 644,\n",
       " 'completely': 645,\n",
       " 'fan': 646,\n",
       " 'glass': 647,\n",
       " 'guessed': 648,\n",
       " 'hall': 649,\n",
       " 'hunting': 650,\n",
       " 'looking': 651,\n",
       " 'naturedly': 652,\n",
       " 'nowhere': 653,\n",
       " 'pair': 654,\n",
       " 'pool': 655,\n",
       " 'since': 656,\n",
       " 'vanished': 657,\n",
       " 'keep': 658,\n",
       " 'temper': 659,\n",
       " 'greatly': 660,\n",
       " 'pleased': 661,\n",
       " 'everybody': 662,\n",
       " 'cover': 663,\n",
       " 'distance': 664,\n",
       " 'flames': 665,\n",
       " 'farmer': 666,\n",
       " 'midst': 667,\n",
       " 'prairies': 668,\n",
       " 'wife': 669,\n",
       " 'dear': 670,\n",
       " 'forget': 671,\n",
       " 'makes': 672,\n",
       " 're': 673,\n",
       " 'talk': 674,\n",
       " 'thinking': 675,\n",
       " 'beside': 676,\n",
       " 'once': 677,\n",
       " 'sound': 678,\n",
       " 'cleared': 679,\n",
       " 'gryphon': 680,\n",
       " 'jelly': 681,\n",
       " 'salmon': 682,\n",
       " 'seals': 683,\n",
       " 'takes': 684,\n",
       " 'turtles': 685,\n",
       " 've': 686,\n",
       " 'curious': 687,\n",
       " 'feeling': 688,\n",
       " 'glad': 689,\n",
       " 'interesting': 690,\n",
       " 'song': 691,\n",
       " 'thank': 692,\n",
       " 'whiting': 693,\n",
       " 'screamed': 694,\n",
       " 'mournful': 695,\n",
       " 'tone': 696,\n",
       " 'carry': 697,\n",
       " 'pat': 698,\n",
       " 'tell': 699,\n",
       " 'window': 700,\n",
       " 'around': 701,\n",
       " 'bell': 702,\n",
       " 'eat': 703,\n",
       " 'fastened': 704,\n",
       " 'filled': 705,\n",
       " 'kind': 706,\n",
       " 'neck': 707,\n",
       " 'ribbon': 708,\n",
       " 'cats': 709,\n",
       " 'ease': 710,\n",
       " 'edge': 711,\n",
       " 'farther': 712,\n",
       " 'four': 713,\n",
       " 'travelers': 714,\n",
       " 'trees': 715,\n",
       " 'walked': 716,\n",
       " 'anyone': 717,\n",
       " 'known': 718,\n",
       " 'magic': 719,\n",
       " 'used': 720,\n",
       " 'dismay': 721,\n",
       " 'our': 722,\n",
       " 'surprise': 723,\n",
       " 'brightly': 724,\n",
       " 'moon': 725,\n",
       " 'shone': 726,\n",
       " 'walking': 727,\n",
       " 'life': 728,\n",
       " 'hear': 729,\n",
       " 'inside': 730,\n",
       " 'making': 731,\n",
       " 'noise': 732,\n",
       " 'possibly': 733,\n",
       " 'same': 734,\n",
       " 'secondly': 735,\n",
       " 'such': 736,\n",
       " 'wizards': 737,\n",
       " 'called': 738,\n",
       " 'entered': 739,\n",
       " 'became': 740,\n",
       " 'deaf': 741,\n",
       " 'fright': 742,\n",
       " 'hour': 743,\n",
       " 'lonely': 744,\n",
       " 'loudly': 745,\n",
       " 'passed': 746,\n",
       " 'shrieked': 747,\n",
       " 'slowly': 748,\n",
       " 'wind': 749,\n",
       " 'desire': 750,\n",
       " 'earned': 751,\n",
       " 'seek': 752,\n",
       " 'authority': 753,\n",
       " 'listen': 754,\n",
       " 'person': 755,\n",
       " 'sit': 756,\n",
       " 'brightened': 757,\n",
       " 'behind': 758,\n",
       " 'open': 759,\n",
       " 'pulled': 760,\n",
       " 'screen': 761,\n",
       " 'thread': 762,\n",
       " 'mouths': 763,\n",
       " 'reason': 764,\n",
       " 'shut': 765,\n",
       " 'tails': 766,\n",
       " 'yawned': 767,\n",
       " 'evening': 768,\n",
       " 'house': 769,\n",
       " 'larger': 770,\n",
       " 'pass': 771,\n",
       " 'rather': 772,\n",
       " 'rest': 773,\n",
       " 'although': 774,\n",
       " 'current': 775,\n",
       " 'drawn': 776,\n",
       " 'push': 777,\n",
       " 'raft': 778,\n",
       " 'both': 779,\n",
       " 'light': 780,\n",
       " 'west': 781,\n",
       " 'left': 782,\n",
       " 'sorrowfully': 783,\n",
       " 'throne': 784,\n",
       " 'waiting': 785,\n",
       " 'sorry': 786,\n",
       " 'truly': 787,\n",
       " 'bowing': 788,\n",
       " 'children': 789,\n",
       " 'gardeners': 790,\n",
       " 'instantly': 791,\n",
       " 'royal': 792,\n",
       " 'shrill': 793,\n",
       " 'three': 794,\n",
       " 'crab': 795,\n",
       " 'boq': 796,\n",
       " 'shoes': 797,\n",
       " 'sorceress': 798,\n",
       " 'fun': 799,\n",
       " 'clock': 800,\n",
       " 'frightened': 801,\n",
       " 'given': 802,\n",
       " 'message': 803,\n",
       " 'nine': 804,\n",
       " 'sent': 805,\n",
       " 'wizard': 806,\n",
       " 'word': 807,\n",
       " 'drunk': 808,\n",
       " 'grow': 809,\n",
       " 'saying': 810,\n",
       " 'gray': 811,\n",
       " 'lips': 812,\n",
       " 'red': 813,\n",
       " 'sober': 814,\n",
       " 'sparkle': 815,\n",
       " 'taken': 816,\n",
       " 'mine': 817,\n",
       " 'though': 818,\n",
       " 'bowed': 819,\n",
       " 'hearts': 820,\n",
       " 'knave': 821,\n",
       " 'reply': 822,\n",
       " 'smiled': 823,\n",
       " 'command': 824,\n",
       " 'world': 825,\n",
       " 'agreed': 826,\n",
       " 'cap': 827,\n",
       " 'condition': 828,\n",
       " 'golden': 829,\n",
       " 'grandfather': 830,\n",
       " 'may': 831,\n",
       " 'monkeys': 832,\n",
       " 'owner': 833,\n",
       " 'slaves': 834,\n",
       " 'times': 835,\n",
       " 'whosoever': 836,\n",
       " 'branches': 837,\n",
       " 'immediately': 838,\n",
       " 'seized': 839,\n",
       " 'spoke': 840,\n",
       " 'tossed': 841,\n",
       " 'days': 842,\n",
       " 'wrong': 843,\n",
       " 'fender': 844,\n",
       " 'hearthrug': 845,\n",
       " 'love': 846,\n",
       " 'dodo': 847,\n",
       " 'managed': 848,\n",
       " 'winter': 849,\n",
       " 'boy': 850,\n",
       " 'dangerous': 851,\n",
       " 'dwells': 852,\n",
       " 'father': 853,\n",
       " 'nearer': 854,\n",
       " 'best': 855,\n",
       " 'done': 856,\n",
       " 'forgave': 857,\n",
       " 'promise': 858,\n",
       " 'brother': 859,\n",
       " 'clouds': 860,\n",
       " 'ready': 861,\n",
       " 'confused': 862,\n",
       " 'shouldn': 863,\n",
       " 'think': 864,\n",
       " 'guests': 865,\n",
       " 'live': 866,\n",
       " 'meantime': 867,\n",
       " 'obey': 868,\n",
       " 'slightest': 869,\n",
       " 'treated': 870,\n",
       " 'wait': 871,\n",
       " 'planning': 872,\n",
       " 'bed': 873,\n",
       " 'flesh': 874,\n",
       " 'force': 875,\n",
       " 'habit': 876,\n",
       " 'joints': 877,\n",
       " 'moving': 878,\n",
       " 'remembered': 879,\n",
       " 'working': 880,\n",
       " 'bounding': 881,\n",
       " 'growl': 882,\n",
       " 'hinges': 883,\n",
       " 'worked': 884,\n",
       " 'tut': 885,\n",
       " 'dog': 886,\n",
       " 'eagerly': 887,\n",
       " 'nice': 888,\n",
       " 'show': 889,\n",
       " 'heads': 890,\n",
       " 'boots': 891,\n",
       " 'bundle': 892,\n",
       " 'clothes': 893,\n",
       " 'hat': 894,\n",
       " 'tall': 895,\n",
       " 'threw': 896,\n",
       " 'top': 897,\n",
       " 'call': 898,\n",
       " 'field': 899,\n",
       " 'mice': 900,\n",
       " 'suggested': 901,\n",
       " 'arranged': 902,\n",
       " 'bark': 903,\n",
       " 'doubt': 904,\n",
       " 'excellent': 905,\n",
       " 'hurry': 906,\n",
       " 'idea': 907,\n",
       " 'look': 908,\n",
       " 'neatly': 909,\n",
       " 'peering': 910,\n",
       " 'plan': 911,\n",
       " 'sharp': 912,\n",
       " 'simply': 913,\n",
       " 'smallest': 914,\n",
       " 'sounded': 915,\n",
       " 'wow': 916,\n",
       " 'name': 917,\n",
       " 'tossing': 918,\n",
       " 'gone': 919,\n",
       " 'rule': 920,\n",
       " 'wise': 921,\n",
       " 'bees': 922,\n",
       " 'black': 923,\n",
       " 'coal': 924,\n",
       " 'fine': 925,\n",
       " 'gnashed': 926,\n",
       " 'hair': 927,\n",
       " 'heaps': 928,\n",
       " 'stamped': 929,\n",
       " 'teeth': 930,\n",
       " 'tore': 931,\n",
       " 'altogether': 932,\n",
       " 'candle': 933,\n",
       " 'end': 934,\n",
       " 'further': 935,\n",
       " 'nervous': 936,\n",
       " 'shrink': 937,\n",
       " 'waited': 938,\n",
       " 'dinah': 939,\n",
       " 'itself': 940,\n",
       " 'pinch': 941,\n",
       " 'singing': 942,\n",
       " 'stop': 943,\n",
       " 'twinkle': 944,\n",
       " 'common': 945,\n",
       " 'cakes': 946,\n",
       " 'floor': 947,\n",
       " 'noticed': 948,\n",
       " 'pebbles': 949,\n",
       " 'delightful': 950,\n",
       " 'ropes': 951,\n",
       " 'rose': 952,\n",
       " 'rules': 953,\n",
       " 'wisely': 954,\n",
       " 'question': 955,\n",
       " 'repeated': 956,\n",
       " 'turned': 957,\n",
       " 'carrying': 958,\n",
       " 'crimson': 959,\n",
       " 'crown': 960,\n",
       " 'cushion': 961,\n",
       " 'grand': 962,\n",
       " 'procession': 963,\n",
       " 'velvet': 964,\n",
       " 'ride': 965,\n",
       " 'earth': 966,\n",
       " 'happiest': 967,\n",
       " 'resolved': 968,\n",
       " 'allow': 969,\n",
       " 'care': 970,\n",
       " 'destroy': 971,\n",
       " 'fierce': 972,\n",
       " 'take': 973,\n",
       " 'dishes': 974,\n",
       " 'washing': 975,\n",
       " 'admit': 976,\n",
       " 'alone': 977,\n",
       " 'audience': 978,\n",
       " 'enter': 979,\n",
       " 'grant': 980,\n",
       " 'presence': 981,\n",
       " 'probably': 982,\n",
       " 'awfully': 983,\n",
       " 'balanced': 984,\n",
       " 'clever': 985,\n",
       " 'eel': 986,\n",
       " 'eye': 987,\n",
       " 'hardly': 988,\n",
       " 'steady': 989,\n",
       " 'yet': 990,\n",
       " 'youth': 991,\n",
       " 'twelfth': 992,\n",
       " 'nor': 993,\n",
       " 'wall': 994,\n",
       " 'watched': 995,\n",
       " 'opened': 996,\n",
       " 'attacked': 997,\n",
       " 'bye': 998,\n",
       " 'fighting': 999,\n",
       " ...}"
      ]
     },
     "execution_count": 37,
     "metadata": {},
     "output_type": "execute_result"
    }
   ],
   "source": [
    "dictionary.token2id"
   ]
  },
  {
   "cell_type": "code",
   "execution_count": 38,
   "metadata": {
    "colab": {
     "base_uri": "https://localhost:8080/"
    },
    "id": "B2R6GIb0PIo5",
    "outputId": "ab99adf7-0403-4f24-ea93-e393402b9966"
   },
   "outputs": [
    {
     "data": {
      "text/plain": [
       "['against', 'and', 'can', 'finished', 'guard']"
      ]
     },
     "execution_count": 38,
     "metadata": {},
     "output_type": "execute_result"
    }
   ],
   "source": [
    "vocab = list(dictionary.token2id.keys())\n",
    "vocab[:5]"
   ]
  },
  {
   "cell_type": "code",
   "execution_count": 39,
   "metadata": {
    "colab": {
     "base_uri": "https://localhost:8080/"
    },
    "id": "MaZdrWZDPIo5",
    "outputId": "31b0e7d0-395f-41c5-f022-92c5bce990b3"
   },
   "outputs": [
    {
     "data": {
      "text/plain": [
       "{18: 191,\n",
       " 6: 476,\n",
       " 5: 339,\n",
       " 3: 16,\n",
       " 15: 9,\n",
       " 7: 534,\n",
       " 11: 6,\n",
       " 1: 2013,\n",
       " 14: 5,\n",
       " 8: 26,\n",
       " 16: 4,\n",
       " 19: 365,\n",
       " 9: 243,\n",
       " 10: 2,\n",
       " 13: 16,\n",
       " 2: 117,\n",
       " 17: 1450,\n",
       " 4: 3,\n",
       " 0: 12,\n",
       " 12: 3,\n",
       " 21: 36,\n",
       " 20: 319,\n",
       " 36: 735,\n",
       " 43: 661,\n",
       " 37: 361,\n",
       " 31: 74,\n",
       " 39: 16,\n",
       " 41: 558,\n",
       " 24: 377,\n",
       " 42: 3642,\n",
       " 30: 39,\n",
       " 35: 68,\n",
       " 25: 3,\n",
       " 27: 104,\n",
       " 38: 18,\n",
       " 26: 101,\n",
       " 22: 6,\n",
       " 32: 116,\n",
       " 33: 5,\n",
       " 34: 179,\n",
       " 29: 123,\n",
       " 28: 1,\n",
       " 40: 2,\n",
       " 23: 56,\n",
       " 47: 23,\n",
       " 57: 91,\n",
       " 53: 199,\n",
       " 45: 92,\n",
       " 44: 8,\n",
       " 56: 183,\n",
       " 55: 70,\n",
       " 46: 380,\n",
       " 54: 96,\n",
       " 51: 36,\n",
       " 48: 292,\n",
       " 50: 112,\n",
       " 52: 16,\n",
       " 49: 80,\n",
       " 62: 165,\n",
       " 58: 94,\n",
       " 61: 7,\n",
       " 59: 26,\n",
       " 60: 16,\n",
       " 64: 159,\n",
       " 63: 114,\n",
       " 72: 82,\n",
       " 67: 3,\n",
       " 69: 1057,\n",
       " 71: 2,\n",
       " 65: 12,\n",
       " 68: 10,\n",
       " 66: 11,\n",
       " 70: 105,\n",
       " 75: 45,\n",
       " 76: 145,\n",
       " 82: 135,\n",
       " 73: 32,\n",
       " 78: 183,\n",
       " 74: 50,\n",
       " 80: 215,\n",
       " 84: 78,\n",
       " 83: 21,\n",
       " 81: 205,\n",
       " 77: 121,\n",
       " 79: 302,\n",
       " 86: 27,\n",
       " 85: 29,\n",
       " 89: 167,\n",
       " 91: 748,\n",
       " 90: 31,\n",
       " 88: 10,\n",
       " 87: 11,\n",
       " 97: 46,\n",
       " 96: 69,\n",
       " 95: 9,\n",
       " 100: 41,\n",
       " 103: 10,\n",
       " 92: 5,\n",
       " 104: 11,\n",
       " 99: 65,\n",
       " 93: 21,\n",
       " 94: 13,\n",
       " 98: 68,\n",
       " 102: 186,\n",
       " 101: 46,\n",
       " 106: 3,\n",
       " 109: 15,\n",
       " 111: 232,\n",
       " 107: 1,\n",
       " 110: 2,\n",
       " 108: 31,\n",
       " 105: 2,\n",
       " 113: 9,\n",
       " 112: 44,\n",
       " 115: 264,\n",
       " 116: 11,\n",
       " 117: 27,\n",
       " 114: 134,\n",
       " 121: 108,\n",
       " 127: 33,\n",
       " 119: 331,\n",
       " 125: 7,\n",
       " 133: 647,\n",
       " 130: 43,\n",
       " 139: 45,\n",
       " 135: 14,\n",
       " 124: 1,\n",
       " 141: 71,\n",
       " 140: 48,\n",
       " 123: 12,\n",
       " 142: 145,\n",
       " 122: 71,\n",
       " 126: 4,\n",
       " 118: 112,\n",
       " 129: 15,\n",
       " 136: 37,\n",
       " 137: 218,\n",
       " 138: 87,\n",
       " 134: 37,\n",
       " 132: 10,\n",
       " 131: 6,\n",
       " 128: 80,\n",
       " 120: 364,\n",
       " 144: 40,\n",
       " 145: 4,\n",
       " 143: 5,\n",
       " 146: 6,\n",
       " 152: 111,\n",
       " 151: 4,\n",
       " 148: 15,\n",
       " 147: 681,\n",
       " 149: 26,\n",
       " 150: 6,\n",
       " 153: 7,\n",
       " 159: 156,\n",
       " 158: 70,\n",
       " 163: 58,\n",
       " 154: 71,\n",
       " 160: 72,\n",
       " 164: 7,\n",
       " 156: 85,\n",
       " 162: 9,\n",
       " 165: 68,\n",
       " 155: 31,\n",
       " 161: 137,\n",
       " 157: 5,\n",
       " 168: 68,\n",
       " 170: 26,\n",
       " 167: 77,\n",
       " 166: 11,\n",
       " 169: 46,\n",
       " 181: 436,\n",
       " 172: 65,\n",
       " 173: 75,\n",
       " 177: 81,\n",
       " 178: 29,\n",
       " 184: 48,\n",
       " 175: 10,\n",
       " 183: 70,\n",
       " 182: 3,\n",
       " 176: 2,\n",
       " 180: 66,\n",
       " 179: 11,\n",
       " 171: 100,\n",
       " 174: 4,\n",
       " 187: 79,\n",
       " 190: 69,\n",
       " 189: 106,\n",
       " 191: 147,\n",
       " 188: 6,\n",
       " 185: 15,\n",
       " 186: 12,\n",
       " 193: 17,\n",
       " 195: 50,\n",
       " 196: 18,\n",
       " 194: 6,\n",
       " 192: 23,\n",
       " 197: 108,\n",
       " 199: 6,\n",
       " 198: 6,\n",
       " 200: 4,\n",
       " 207: 163,\n",
       " 205: 137,\n",
       " 202: 48,\n",
       " 209: 161,\n",
       " 203: 9,\n",
       " 206: 55,\n",
       " 204: 123,\n",
       " 208: 50,\n",
       " 201: 469,\n",
       " 211: 15,\n",
       " 213: 4,\n",
       " 216: 797,\n",
       " 221: 19,\n",
       " 222: 4,\n",
       " 220: 203,\n",
       " 212: 9,\n",
       " 217: 77,\n",
       " 210: 35,\n",
       " 219: 20,\n",
       " 214: 6,\n",
       " 218: 80,\n",
       " 223: 1,\n",
       " 215: 6,\n",
       " 224: 100,\n",
       " 236: 29,\n",
       " 233: 12,\n",
       " 232: 50,\n",
       " 226: 73,\n",
       " 231: 5,\n",
       " 227: 8,\n",
       " 237: 18,\n",
       " 234: 309,\n",
       " 225: 5,\n",
       " 239: 3,\n",
       " 235: 90,\n",
       " 240: 183,\n",
       " 228: 15,\n",
       " 229: 10,\n",
       " 230: 21,\n",
       " 238: 3,\n",
       " 242: 23,\n",
       " 244: 268,\n",
       " 245: 177,\n",
       " 246: 41,\n",
       " 248: 33,\n",
       " 243: 4,\n",
       " 241: 7,\n",
       " 247: 12,\n",
       " 255: 61,\n",
       " 253: 40,\n",
       " 251: 3,\n",
       " 250: 7,\n",
       " 254: 173,\n",
       " 252: 8,\n",
       " 249: 15,\n",
       " 269: 57,\n",
       " 256: 29,\n",
       " 267: 10,\n",
       " 265: 112,\n",
       " 272: 93,\n",
       " 262: 29,\n",
       " 268: 42,\n",
       " 259: 7,\n",
       " 258: 153,\n",
       " 264: 39,\n",
       " 261: 20,\n",
       " 266: 11,\n",
       " 271: 16,\n",
       " 257: 46,\n",
       " 263: 54,\n",
       " 260: 19,\n",
       " 270: 9,\n",
       " 279: 99,\n",
       " 275: 35,\n",
       " 278: 4,\n",
       " 273: 104,\n",
       " 276: 35,\n",
       " 277: 23,\n",
       " 274: 8,\n",
       " 280: 32,\n",
       " 285: 13,\n",
       " 282: 5,\n",
       " 286: 33,\n",
       " 281: 68,\n",
       " 284: 8,\n",
       " 283: 17,\n",
       " 291: 59,\n",
       " 294: 24,\n",
       " 298: 2,\n",
       " 297: 50,\n",
       " 287: 40,\n",
       " 295: 7,\n",
       " 288: 2,\n",
       " 293: 61,\n",
       " 292: 1,\n",
       " 296: 21,\n",
       " 289: 42,\n",
       " 290: 53,\n",
       " 299: 160,\n",
       " 305: 87,\n",
       " 300: 14,\n",
       " 307: 8,\n",
       " 301: 3,\n",
       " 309: 24,\n",
       " 308: 33,\n",
       " 306: 29,\n",
       " 302: 5,\n",
       " 310: 1,\n",
       " 304: 127,\n",
       " 303: 15,\n",
       " 317: 22,\n",
       " 314: 17,\n",
       " 318: 11,\n",
       " 313: 1,\n",
       " 315: 4,\n",
       " 316: 41,\n",
       " 311: 95,\n",
       " 319: 6,\n",
       " 312: 2,\n",
       " 333: 98,\n",
       " 324: 7,\n",
       " 329: 2,\n",
       " 327: 15,\n",
       " 330: 4,\n",
       " 332: 44,\n",
       " 331: 2,\n",
       " 321: 7,\n",
       " 323: 1,\n",
       " 328: 3,\n",
       " 326: 6,\n",
       " 325: 6,\n",
       " 320: 5,\n",
       " 322: 2,\n",
       " 334: 13,\n",
       " 335: 7,\n",
       " 336: 34,\n",
       " 339: 19,\n",
       " 338: 6,\n",
       " 337: 26,\n",
       " 342: 5,\n",
       " 347: 6,\n",
       " 345: 84,\n",
       " 348: 76,\n",
       " 344: 26,\n",
       " 340: 20,\n",
       " 346: 7,\n",
       " 343: 22,\n",
       " 341: 18,\n",
       " 349: 1,\n",
       " 350: 169,\n",
       " 351: 18,\n",
       " 352: 16,\n",
       " 356: 24,\n",
       " 355: 5,\n",
       " 357: 33,\n",
       " 361: 169,\n",
       " 359: 1,\n",
       " 360: 95,\n",
       " 354: 11,\n",
       " 353: 1,\n",
       " 358: 16,\n",
       " 370: 39,\n",
       " 362: 25,\n",
       " 363: 13,\n",
       " 368: 5,\n",
       " 369: 256,\n",
       " 364: 1,\n",
       " 367: 4,\n",
       " 366: 13,\n",
       " 365: 20,\n",
       " 373: 35,\n",
       " 375: 42,\n",
       " 371: 11,\n",
       " 376: 16,\n",
       " 372: 27,\n",
       " 374: 87,\n",
       " 377: 189,\n",
       " 378: 28,\n",
       " 380: 16,\n",
       " 379: 22,\n",
       " 381: 25,\n",
       " 383: 6,\n",
       " 384: 16,\n",
       " 382: 6,\n",
       " 386: 15,\n",
       " 385: 5,\n",
       " 389: 2,\n",
       " 388: 4,\n",
       " 387: 3,\n",
       " 390: 70,\n",
       " 396: 4,\n",
       " 400: 56,\n",
       " 397: 19,\n",
       " 399: 11,\n",
       " 398: 4,\n",
       " 394: 16,\n",
       " 395: 60,\n",
       " 392: 11,\n",
       " 391: 11,\n",
       " 393: 16,\n",
       " 402: 4,\n",
       " 404: 18,\n",
       " 405: 5,\n",
       " 403: 33,\n",
       " 401: 20,\n",
       " 406: 81,\n",
       " 407: 34,\n",
       " 408: 7,\n",
       " 409: 3,\n",
       " 416: 16,\n",
       " 410: 5,\n",
       " 414: 1,\n",
       " 413: 3,\n",
       " 411: 19,\n",
       " 415: 11,\n",
       " 412: 3,\n",
       " 421: 23,\n",
       " 419: 7,\n",
       " 417: 17,\n",
       " 420: 18,\n",
       " 422: 6,\n",
       " 418: 31,\n",
       " 428: 18,\n",
       " 427: 1,\n",
       " 430: 26,\n",
       " 425: 16,\n",
       " 424: 33,\n",
       " 423: 27,\n",
       " 426: 30,\n",
       " 429: 23,\n",
       " 432: 10,\n",
       " 431: 2,\n",
       " 433: 5,\n",
       " 441: 17,\n",
       " 435: 3,\n",
       " 440: 2,\n",
       " 434: 81,\n",
       " 438: 2,\n",
       " 442: 14,\n",
       " 439: 12,\n",
       " 437: 8,\n",
       " 436: 22,\n",
       " 445: 2,\n",
       " 443: 9,\n",
       " 444: 25,\n",
       " 447: 57,\n",
       " 446: 3,\n",
       " 448: 13,\n",
       " 450: 5,\n",
       " 451: 12,\n",
       " 449: 7,\n",
       " 454: 8,\n",
       " 455: 9,\n",
       " 452: 18,\n",
       " 456: 41,\n",
       " 453: 2,\n",
       " 461: 111,\n",
       " 458: 24,\n",
       " 460: 14,\n",
       " 459: 9,\n",
       " 457: 18,\n",
       " 462: 15,\n",
       " 464: 22,\n",
       " 467: 14,\n",
       " 465: 17,\n",
       " 469: 1,\n",
       " 463: 38,\n",
       " 468: 81,\n",
       " 470: 4,\n",
       " 471: 26,\n",
       " 466: 2,\n",
       " 472: 12,\n",
       " 473: 1,\n",
       " 480: 28,\n",
       " 475: 15,\n",
       " 478: 11,\n",
       " 479: 3,\n",
       " 474: 3,\n",
       " 477: 2,\n",
       " 476: 1,\n",
       " 482: 22,\n",
       " 483: 12,\n",
       " 481: 21,\n",
       " 485: 10,\n",
       " 484: 6,\n",
       " 488: 33,\n",
       " 486: 30,\n",
       " 487: 1,\n",
       " 489: 1,\n",
       " 491: 46,\n",
       " 494: 4,\n",
       " 493: 8,\n",
       " 490: 14,\n",
       " 495: 7,\n",
       " 492: 6,\n",
       " 500: 27,\n",
       " 499: 25,\n",
       " 498: 17,\n",
       " 497: 11,\n",
       " 496: 17,\n",
       " 501: 34,\n",
       " 502: 14,\n",
       " 504: 7,\n",
       " 503: 11,\n",
       " 505: 14,\n",
       " 508: 11,\n",
       " 506: 3,\n",
       " 507: 3,\n",
       " 510: 11,\n",
       " 509: 4,\n",
       " 511: 34,\n",
       " 512: 11,\n",
       " 514: 6,\n",
       " 513: 4,\n",
       " 515: 118,\n",
       " 516: 79,\n",
       " 517: 9,\n",
       " 521: 4,\n",
       " 522: 19,\n",
       " 518: 115,\n",
       " 520: 4,\n",
       " 523: 5,\n",
       " 519: 5,\n",
       " 524: 22,\n",
       " 525: 17,\n",
       " 526: 75,\n",
       " 527: 6,\n",
       " 531: 4,\n",
       " 532: 12,\n",
       " 529: 12,\n",
       " 528: 2,\n",
       " 530: 8,\n",
       " 533: 3,\n",
       " 535: 8,\n",
       " 536: 16,\n",
       " 534: 7,\n",
       " 549: 24,\n",
       " 539: 2,\n",
       " 543: 3,\n",
       " 540: 20,\n",
       " 544: 5,\n",
       " 537: 2,\n",
       " 546: 43,\n",
       " 545: 56,\n",
       " 541: 7,\n",
       " 538: 1,\n",
       " 547: 7,\n",
       " 548: 6,\n",
       " 542: 4,\n",
       " 550: 17,\n",
       " 551: 2,\n",
       " 552: 13,\n",
       " 557: 56,\n",
       " 554: 1,\n",
       " 553: 1,\n",
       " 560: 5,\n",
       " 558: 15,\n",
       " 555: 5,\n",
       " 559: 2,\n",
       " 556: 7,\n",
       " 561: 11,\n",
       " 562: 26,\n",
       " 564: 9,\n",
       " 563: 10,\n",
       " 566: 52,\n",
       " 565: 13,\n",
       " 567: 24,\n",
       " 568: 1,\n",
       " 569: 12,\n",
       " 571: 22,\n",
       " 573: 1,\n",
       " 575: 15,\n",
       " 574: 1,\n",
       " 572: 37,\n",
       " 576: 24,\n",
       " 570: 1,\n",
       " 580: 29,\n",
       " 578: 7,\n",
       " 579: 2,\n",
       " 577: 1,\n",
       " 581: 1,\n",
       " 587: 1,\n",
       " 590: 4,\n",
       " 585: 3,\n",
       " 589: 2,\n",
       " 588: 1,\n",
       " 583: 23,\n",
       " 586: 1,\n",
       " 582: 12,\n",
       " 591: 23,\n",
       " 584: 5,\n",
       " 592: 3,\n",
       " 594: 3,\n",
       " 600: 1,\n",
       " 601: 1,\n",
       " 593: 4,\n",
       " 599: 1,\n",
       " 602: 1,\n",
       " 597: 13,\n",
       " 595: 2,\n",
       " 603: 1,\n",
       " 598: 3,\n",
       " 596: 3,\n",
       " 604: 19,\n",
       " 606: 55,\n",
       " 605: 11,\n",
       " 607: 4,\n",
       " 612: 6,\n",
       " 609: 24,\n",
       " 608: 3,\n",
       " 611: 7,\n",
       " 610: 3,\n",
       " 613: 1,\n",
       " 615: 28,\n",
       " 619: 4,\n",
       " 618: 1,\n",
       " 617: 1,\n",
       " 614: 22,\n",
       " 616: 2,\n",
       " 620: 31,\n",
       " 621: 10,\n",
       " 622: 6,\n",
       " 623: 22,\n",
       " 625: 1,\n",
       " 624: 7,\n",
       " 626: 4,\n",
       " 627: 9,\n",
       " 631: 21,\n",
       " 632: 3,\n",
       " 628: 1,\n",
       " 634: 7,\n",
       " 633: 3,\n",
       " 630: 2,\n",
       " 629: 1,\n",
       " 635: 23,\n",
       " 639: 26,\n",
       " 637: 61,\n",
       " 638: 47,\n",
       " 640: 3,\n",
       " 636: 2,\n",
       " 642: 7,\n",
       " 641: 12,\n",
       " 643: 7,\n",
       " 648: 3,\n",
       " 651: 37,\n",
       " 646: 6,\n",
       " 654: 6,\n",
       " 652: 1,\n",
       " 650: 3,\n",
       " 653: 2,\n",
       " 644: 8,\n",
       " 656: 12,\n",
       " 655: 7,\n",
       " 649: 6,\n",
       " 647: 7,\n",
       " 657: 4,\n",
       " 645: 2,\n",
       " 658: 29,\n",
       " 659: 5,\n",
       " 660: 14,\n",
       " 661: 17,\n",
       " 662: 5,\n",
       " 664: 11,\n",
       " 665: 1,\n",
       " 663: 1,\n",
       " 667: 4,\n",
       " 668: 2,\n",
       " 666: 14,\n",
       " 669: 6,\n",
       " 673: 38,\n",
       " 675: 17,\n",
       " 670: 35,\n",
       " 672: 14,\n",
       " 671: 4,\n",
       " 674: 16,\n",
       " 677: 70,\n",
       " 676: 17,\n",
       " 678: 4,\n",
       " 683: 1,\n",
       " 685: 2,\n",
       " 682: 1,\n",
       " 686: 44,\n",
       " 679: 2,\n",
       " 681: 1,\n",
       " 684: 3,\n",
       " 680: 43,\n",
       " 692: 14,\n",
       " 690: 4,\n",
       " 688: 9,\n",
       " 689: 23,\n",
       " 687: 19,\n",
       " 691: 6,\n",
       " 693: 8,\n",
       " 694: 7,\n",
       " 695: 1,\n",
       " 696: 34,\n",
       " 697: 23,\n",
       " 699: 49,\n",
       " 698: 3,\n",
       " 700: 9,\n",
       " 706: 18,\n",
       " 705: 9,\n",
       " 703: 23,\n",
       " 704: 3,\n",
       " 702: 3,\n",
       " 701: 30,\n",
       " 707: 17,\n",
       " 708: 3,\n",
       " 709: 12,\n",
       " 713: 20,\n",
       " 714: 18,\n",
       " 716: 43,\n",
       " 710: 2,\n",
       " 715: 29,\n",
       " 712: 12,\n",
       " 711: 8,\n",
       " 719: 7,\n",
       " 720: 21,\n",
       " 718: 6,\n",
       " 717: 9,\n",
       " 722: 31,\n",
       " 723: 17,\n",
       " 721: 3,\n",
       " 727: 16,\n",
       " 725: 2,\n",
       " 726: 5,\n",
       " 724: 5,\n",
       " 728: 23,\n",
       " 734: 36,\n",
       " 735: 2,\n",
       " 731: 14,\n",
       " 736: 47,\n",
       " 732: 4,\n",
       " 730: 6,\n",
       " 733: 4,\n",
       " 729: 20,\n",
       " 737: 4,\n",
       " 738: 32,\n",
       " 739: 9,\n",
       " 743: 6,\n",
       " 746: 20,\n",
       " 748: 13,\n",
       " 742: 2,\n",
       " 744: 3,\n",
       " 749: 8,\n",
       " 747: 2,\n",
       " 745: 4,\n",
       " 740: 17,\n",
       " 741: 1,\n",
       " 752: 6,\n",
       " 751: 1,\n",
       " 750: 4,\n",
       " 755: 8,\n",
       " 753: 2,\n",
       " 756: 10,\n",
       " 754: 7,\n",
       " 757: 2,\n",
       " 758: 26,\n",
       " 761: 4,\n",
       " 760: 5,\n",
       " 762: 2,\n",
       " 759: 12,\n",
       " 766: 3,\n",
       " 763: 3,\n",
       " 764: 11,\n",
       " 767: 3,\n",
       " 765: 7,\n",
       " 768: 6,\n",
       " 771: 12,\n",
       " 769: 39,\n",
       " 772: 28,\n",
       " 770: 6,\n",
       " 773: 20,\n",
       " 774: 14,\n",
       " 776: 2,\n",
       " 775: 3,\n",
       " 777: 3,\n",
       " 778: 11,\n",
       " 779: 21,\n",
       " 780: 5,\n",
       " 781: 21,\n",
       " 783: 5,\n",
       " 782: 28,\n",
       " 784: 27,\n",
       " 785: 11,\n",
       " 787: 2,\n",
       " 786: 13,\n",
       " 793: 5,\n",
       " 794: 42,\n",
       " 790: 6,\n",
       " 791: 5,\n",
       " 788: 3,\n",
       " 792: 2,\n",
       " 789: 11,\n",
       " 795: 2,\n",
       " 796: 4,\n",
       " 797: 33,\n",
       " 798: 4,\n",
       " 799: 5,\n",
       " 806: 33,\n",
       " 802: 6,\n",
       " 803: 5,\n",
       " 801: 15,\n",
       " 805: 11,\n",
       " 807: 13,\n",
       " 804: 6,\n",
       " 800: 6,\n",
       " 810: 19,\n",
       " 809: 12,\n",
       " 808: 1,\n",
       " 816: 10,\n",
       " 815: 2,\n",
       " 814: 2,\n",
       " 811: 12,\n",
       " 813: 10,\n",
       " 812: 2,\n",
       " 818: 13,\n",
       " 817: 11,\n",
       " 821: 7,\n",
       " 820: 8,\n",
       " 819: 12,\n",
       " 823: 4,\n",
       " 822: 6,\n",
       " 824: 8,\n",
       " 825: 19,\n",
       " 830: 5,\n",
       " 832: 33,\n",
       " 826: 4,\n",
       " 828: 1,\n",
       " 835: 21,\n",
       " 834: 10,\n",
       " 833: 2,\n",
       " 829: 29,\n",
       " 827: 28,\n",
       " 836: 1,\n",
       " 831: 32,\n",
       " 840: 26,\n",
       " 837: 12,\n",
       " 838: 6,\n",
       " 839: 5,\n",
       " 841: 2,\n",
       " 842: 13,\n",
       " 843: 6,\n",
       " 845: 1,\n",
       " 844: 1,\n",
       " 846: 13,\n",
       " 849: 1,\n",
       " 847: 9,\n",
       " 848: 6,\n",
       " 853: 7,\n",
       " 850: 5,\n",
       " 851: 2,\n",
       " 854: 8,\n",
       " 852: 1,\n",
       " 858: 7,\n",
       " 856: 27,\n",
       " 855: 18,\n",
       " 857: 1,\n",
       " 861: 18,\n",
       " 859: 2,\n",
       " 860: 3,\n",
       " 862: 2,\n",
       " 864: 74,\n",
       " 863: 4,\n",
       " 867: 1,\n",
       " 870: 4,\n",
       " 865: 3,\n",
       " 866: 25,\n",
       " 871: 8,\n",
       " 868: 8,\n",
       " 869: 4,\n",
       " 872: 1,\n",
       " 873: 17,\n",
       " 875: 1,\n",
       " 876: 1,\n",
       " 879: 5,\n",
       " 874: 4,\n",
       " 878: 5,\n",
       " 877: 12,\n",
       " 880: 1,\n",
       " 882: 7,\n",
       " 884: 5,\n",
       " 883: 2,\n",
       " 881: 1,\n",
       " 885: 2,\n",
       " 887: 9,\n",
       " 888: 7,\n",
       " 886: 16,\n",
       " 889: 6,\n",
       " 890: 22,\n",
       " 894: 4,\n",
       " 891: 6,\n",
       " 893: 10,\n",
       " 892: 1,\n",
       " 896: 6,\n",
       " 897: 19,\n",
       " 895: 6,\n",
       " 898: 22,\n",
       " 899: 9,\n",
       " 900: 29,\n",
       " 901: 3,\n",
       " 915: 6,\n",
       " 905: 2,\n",
       " 911: 4,\n",
       " 904: 4,\n",
       " 909: 3,\n",
       " 913: 4,\n",
       " 902: 1,\n",
       " 914: 2,\n",
       " 907: 15,\n",
       " 910: 1,\n",
       " 912: 17,\n",
       " 903: 8,\n",
       " 908: 33,\n",
       " 906: 8,\n",
       " 916: 4,\n",
       " 918: 3,\n",
       " 917: 13,\n",
       " 919: 23,\n",
       " 921: 7,\n",
       " 920: 10,\n",
       " 923: 5,\n",
       " 922: 7,\n",
       " 928: 2,\n",
       " 925: 6,\n",
       " 924: 1,\n",
       " 929: 1,\n",
       " 931: 1,\n",
       " 927: 15,\n",
       " 926: 1,\n",
       " 930: 5,\n",
       " 938: 14,\n",
       " 937: 1,\n",
       " 935: 3,\n",
       " 936: 5,\n",
       " 934: 31,\n",
       " 932: 5,\n",
       " 933: 3,\n",
       " 939: 14,\n",
       " 944: 8,\n",
       " 940: 11,\n",
       " 942: 3,\n",
       " 941: 2,\n",
       " 943: 6,\n",
       " 945: 3,\n",
       " 948: 10,\n",
       " 949: 2,\n",
       " 946: 3,\n",
       " 947: 12,\n",
       " 950: 4,\n",
       " 951: 3,\n",
       " 952: 6,\n",
       " 953: 3,\n",
       " 954: 2,\n",
       " 957: 26,\n",
       " 956: 9,\n",
       " 955: 14,\n",
       " 958: 3,\n",
       " 960: 2,\n",
       " 959: 2,\n",
       " 964: 5,\n",
       " 961: 2,\n",
       " 962: 2,\n",
       " 963: 4,\n",
       " 965: 3,\n",
       " 967: 1,\n",
       " 966: 6,\n",
       " 968: 2,\n",
       " 973: 39,\n",
       " 970: 14,\n",
       " 972: 8,\n",
       " 969: 6,\n",
       " 971: 7,\n",
       " 975: 3,\n",
       " 974: 3,\n",
       " 980: 6,\n",
       " 978: 1,\n",
       " 979: 1,\n",
       " 981: 1,\n",
       " 977: 12,\n",
       " 976: 3,\n",
       " 982: 3,\n",
       " 991: 3,\n",
       " 988: 13,\n",
       " 987: 12,\n",
       " 989: 2,\n",
       " 990: 27,\n",
       " 984: 2,\n",
       " 986: 2,\n",
       " 983: 2,\n",
       " 985: 2,\n",
       " 992: 1,\n",
       " 995: 6,\n",
       " 994: 12,\n",
       " 993: 21,\n",
       " 996: 20,\n",
       " 997: 1,\n",
       " 999: 2,\n",
       " 1001: 6,\n",
       " ...}"
      ]
     },
     "execution_count": 39,
     "metadata": {},
     "output_type": "execute_result"
    }
   ],
   "source": [
    "dictionary.cfs"
   ]
  },
  {
   "cell_type": "code",
   "execution_count": 40,
   "metadata": {
    "colab": {
     "base_uri": "https://localhost:8080/"
    },
    "id": "8f_mMaGqPIo6",
    "outputId": "d75e61a5-94ff-49e0-c320-b5dbe0acefc5"
   },
   "outputs": [
    {
     "data": {
      "text/plain": [
       "{18: 181,\n",
       " 6: 373,\n",
       " 5: 294,\n",
       " 3: 16,\n",
       " 15: 9,\n",
       " 7: 387,\n",
       " 11: 6,\n",
       " 1: 1290,\n",
       " 14: 5,\n",
       " 8: 25,\n",
       " 16: 4,\n",
       " 19: 316,\n",
       " 9: 202,\n",
       " 10: 2,\n",
       " 13: 14,\n",
       " 2: 112,\n",
       " 17: 1049,\n",
       " 4: 3,\n",
       " 0: 12,\n",
       " 12: 3,\n",
       " 21: 36,\n",
       " 20: 307,\n",
       " 36: 487,\n",
       " 43: 525,\n",
       " 37: 347,\n",
       " 31: 73,\n",
       " 39: 16,\n",
       " 41: 498,\n",
       " 24: 348,\n",
       " 42: 1882,\n",
       " 30: 37,\n",
       " 35: 64,\n",
       " 25: 3,\n",
       " 27: 95,\n",
       " 38: 18,\n",
       " 26: 96,\n",
       " 22: 6,\n",
       " 32: 114,\n",
       " 33: 5,\n",
       " 34: 174,\n",
       " 29: 116,\n",
       " 28: 1,\n",
       " 40: 2,\n",
       " 23: 54,\n",
       " 47: 23,\n",
       " 57: 90,\n",
       " 53: 194,\n",
       " 45: 83,\n",
       " 44: 8,\n",
       " 56: 183,\n",
       " 55: 70,\n",
       " 46: 367,\n",
       " 54: 93,\n",
       " 51: 35,\n",
       " 48: 286,\n",
       " 50: 110,\n",
       " 52: 16,\n",
       " 49: 78,\n",
       " 62: 142,\n",
       " 58: 92,\n",
       " 61: 7,\n",
       " 59: 26,\n",
       " 60: 16,\n",
       " 64: 147,\n",
       " 63: 111,\n",
       " 72: 77,\n",
       " 67: 3,\n",
       " 69: 799,\n",
       " 71: 2,\n",
       " 65: 12,\n",
       " 68: 10,\n",
       " 66: 11,\n",
       " 70: 101,\n",
       " 75: 43,\n",
       " 76: 141,\n",
       " 82: 135,\n",
       " 73: 32,\n",
       " 78: 158,\n",
       " 74: 50,\n",
       " 80: 194,\n",
       " 84: 74,\n",
       " 83: 21,\n",
       " 81: 183,\n",
       " 77: 113,\n",
       " 79: 273,\n",
       " 86: 27,\n",
       " 85: 29,\n",
       " 89: 145,\n",
       " 91: 566,\n",
       " 90: 25,\n",
       " 88: 10,\n",
       " 87: 11,\n",
       " 97: 46,\n",
       " 96: 68,\n",
       " 95: 9,\n",
       " 100: 40,\n",
       " 103: 9,\n",
       " 92: 5,\n",
       " 104: 11,\n",
       " 99: 63,\n",
       " 93: 21,\n",
       " 94: 13,\n",
       " 98: 68,\n",
       " 102: 173,\n",
       " 101: 46,\n",
       " 106: 3,\n",
       " 109: 15,\n",
       " 111: 200,\n",
       " 107: 1,\n",
       " 110: 2,\n",
       " 108: 30,\n",
       " 105: 2,\n",
       " 113: 9,\n",
       " 112: 44,\n",
       " 115: 245,\n",
       " 116: 10,\n",
       " 117: 27,\n",
       " 114: 129,\n",
       " 121: 107,\n",
       " 127: 33,\n",
       " 119: 303,\n",
       " 125: 7,\n",
       " 133: 637,\n",
       " 130: 43,\n",
       " 139: 45,\n",
       " 135: 13,\n",
       " 124: 1,\n",
       " 141: 71,\n",
       " 140: 47,\n",
       " 123: 11,\n",
       " 142: 140,\n",
       " 122: 69,\n",
       " 126: 4,\n",
       " 118: 110,\n",
       " 129: 14,\n",
       " 136: 36,\n",
       " 137: 214,\n",
       " 138: 83,\n",
       " 134: 36,\n",
       " 132: 10,\n",
       " 131: 6,\n",
       " 128: 77,\n",
       " 120: 324,\n",
       " 144: 39,\n",
       " 145: 3,\n",
       " 143: 5,\n",
       " 146: 6,\n",
       " 152: 105,\n",
       " 151: 4,\n",
       " 148: 15,\n",
       " 147: 587,\n",
       " 149: 26,\n",
       " 150: 6,\n",
       " 153: 7,\n",
       " 159: 150,\n",
       " 158: 67,\n",
       " 163: 57,\n",
       " 154: 68,\n",
       " 160: 69,\n",
       " 164: 7,\n",
       " 156: 62,\n",
       " 162: 9,\n",
       " 165: 68,\n",
       " 155: 31,\n",
       " 161: 131,\n",
       " 157: 3,\n",
       " 168: 68,\n",
       " 170: 26,\n",
       " 167: 77,\n",
       " 166: 11,\n",
       " 169: 45,\n",
       " 181: 342,\n",
       " 172: 65,\n",
       " 173: 74,\n",
       " 177: 78,\n",
       " 178: 29,\n",
       " 184: 48,\n",
       " 175: 10,\n",
       " 183: 70,\n",
       " 182: 3,\n",
       " 176: 2,\n",
       " 180: 64,\n",
       " 179: 11,\n",
       " 171: 99,\n",
       " 174: 4,\n",
       " 187: 79,\n",
       " 190: 63,\n",
       " 189: 105,\n",
       " 191: 145,\n",
       " 188: 6,\n",
       " 185: 15,\n",
       " 186: 12,\n",
       " 193: 17,\n",
       " 195: 50,\n",
       " 196: 18,\n",
       " 194: 6,\n",
       " 192: 23,\n",
       " 197: 104,\n",
       " 199: 6,\n",
       " 198: 6,\n",
       " 200: 4,\n",
       " 207: 158,\n",
       " 205: 136,\n",
       " 202: 47,\n",
       " 209: 153,\n",
       " 203: 9,\n",
       " 206: 55,\n",
       " 204: 115,\n",
       " 208: 50,\n",
       " 201: 336,\n",
       " 211: 15,\n",
       " 213: 4,\n",
       " 216: 599,\n",
       " 221: 19,\n",
       " 222: 4,\n",
       " 220: 191,\n",
       " 212: 9,\n",
       " 217: 62,\n",
       " 210: 34,\n",
       " 219: 20,\n",
       " 214: 6,\n",
       " 218: 79,\n",
       " 223: 1,\n",
       " 215: 6,\n",
       " 224: 100,\n",
       " 236: 29,\n",
       " 233: 12,\n",
       " 232: 50,\n",
       " 226: 73,\n",
       " 231: 5,\n",
       " 227: 8,\n",
       " 237: 16,\n",
       " 234: 279,\n",
       " 225: 5,\n",
       " 239: 3,\n",
       " 235: 81,\n",
       " 240: 179,\n",
       " 228: 15,\n",
       " 229: 10,\n",
       " 230: 20,\n",
       " 238: 3,\n",
       " 242: 23,\n",
       " 244: 252,\n",
       " 245: 167,\n",
       " 246: 37,\n",
       " 248: 32,\n",
       " 243: 4,\n",
       " 241: 6,\n",
       " 247: 12,\n",
       " 255: 60,\n",
       " 253: 40,\n",
       " 251: 3,\n",
       " 250: 7,\n",
       " 254: 167,\n",
       " 252: 8,\n",
       " 249: 13,\n",
       " 269: 55,\n",
       " 256: 29,\n",
       " 267: 10,\n",
       " 265: 107,\n",
       " 272: 88,\n",
       " 262: 29,\n",
       " 268: 42,\n",
       " 259: 7,\n",
       " 258: 144,\n",
       " 264: 39,\n",
       " 261: 20,\n",
       " 266: 11,\n",
       " 271: 16,\n",
       " 257: 43,\n",
       " 263: 50,\n",
       " 260: 18,\n",
       " 270: 9,\n",
       " 279: 99,\n",
       " 275: 35,\n",
       " 278: 4,\n",
       " 273: 104,\n",
       " 276: 34,\n",
       " 277: 23,\n",
       " 274: 8,\n",
       " 280: 29,\n",
       " 285: 13,\n",
       " 282: 5,\n",
       " 286: 32,\n",
       " 281: 67,\n",
       " 284: 8,\n",
       " 283: 17,\n",
       " 291: 54,\n",
       " 294: 24,\n",
       " 298: 2,\n",
       " 297: 50,\n",
       " 287: 38,\n",
       " 295: 7,\n",
       " 288: 2,\n",
       " 293: 59,\n",
       " 292: 1,\n",
       " 296: 21,\n",
       " 289: 41,\n",
       " 290: 51,\n",
       " 299: 149,\n",
       " 305: 85,\n",
       " 300: 14,\n",
       " 307: 8,\n",
       " 301: 3,\n",
       " 309: 22,\n",
       " 308: 33,\n",
       " 306: 29,\n",
       " 302: 5,\n",
       " 310: 1,\n",
       " 304: 124,\n",
       " 303: 15,\n",
       " 317: 22,\n",
       " 314: 17,\n",
       " 318: 11,\n",
       " 313: 1,\n",
       " 315: 4,\n",
       " 316: 35,\n",
       " 311: 92,\n",
       " 319: 6,\n",
       " 312: 2,\n",
       " 333: 96,\n",
       " 324: 7,\n",
       " 329: 2,\n",
       " 327: 15,\n",
       " 330: 4,\n",
       " 332: 43,\n",
       " 331: 2,\n",
       " 321: 7,\n",
       " 323: 1,\n",
       " 328: 3,\n",
       " 326: 5,\n",
       " 325: 6,\n",
       " 320: 5,\n",
       " 322: 2,\n",
       " 334: 13,\n",
       " 335: 7,\n",
       " 336: 33,\n",
       " 339: 19,\n",
       " 338: 6,\n",
       " 337: 26,\n",
       " 342: 5,\n",
       " 347: 6,\n",
       " 345: 78,\n",
       " 348: 76,\n",
       " 344: 25,\n",
       " 340: 20,\n",
       " 346: 6,\n",
       " 343: 22,\n",
       " 341: 18,\n",
       " 349: 1,\n",
       " 350: 166,\n",
       " 351: 18,\n",
       " 352: 16,\n",
       " 356: 23,\n",
       " 355: 5,\n",
       " 357: 32,\n",
       " 361: 149,\n",
       " 359: 1,\n",
       " 360: 89,\n",
       " 354: 11,\n",
       " 353: 1,\n",
       " 358: 16,\n",
       " 370: 38,\n",
       " 362: 25,\n",
       " 363: 13,\n",
       " 368: 5,\n",
       " 369: 224,\n",
       " 364: 1,\n",
       " 367: 4,\n",
       " 366: 13,\n",
       " 365: 20,\n",
       " 373: 34,\n",
       " 375: 42,\n",
       " 371: 11,\n",
       " 376: 16,\n",
       " 372: 26,\n",
       " 374: 84,\n",
       " 377: 176,\n",
       " 378: 28,\n",
       " 380: 15,\n",
       " 379: 22,\n",
       " 381: 25,\n",
       " 383: 6,\n",
       " 384: 14,\n",
       " 382: 6,\n",
       " 386: 14,\n",
       " 385: 5,\n",
       " 389: 2,\n",
       " 388: 3,\n",
       " 387: 3,\n",
       " 390: 67,\n",
       " 396: 4,\n",
       " 400: 53,\n",
       " 397: 19,\n",
       " 399: 11,\n",
       " 398: 4,\n",
       " 394: 16,\n",
       " 395: 56,\n",
       " 392: 11,\n",
       " 391: 11,\n",
       " 393: 16,\n",
       " 402: 4,\n",
       " 404: 18,\n",
       " 405: 5,\n",
       " 403: 33,\n",
       " 401: 20,\n",
       " 406: 77,\n",
       " 407: 32,\n",
       " 408: 7,\n",
       " 409: 3,\n",
       " 416: 16,\n",
       " 410: 5,\n",
       " 414: 1,\n",
       " 413: 3,\n",
       " 411: 19,\n",
       " 415: 11,\n",
       " 412: 3,\n",
       " 421: 23,\n",
       " 419: 7,\n",
       " 417: 17,\n",
       " 420: 18,\n",
       " 422: 6,\n",
       " 418: 31,\n",
       " 428: 18,\n",
       " 427: 1,\n",
       " 430: 26,\n",
       " 425: 16,\n",
       " 424: 33,\n",
       " 423: 24,\n",
       " 426: 30,\n",
       " 429: 23,\n",
       " 432: 10,\n",
       " 431: 2,\n",
       " 433: 5,\n",
       " 441: 17,\n",
       " 435: 3,\n",
       " 440: 2,\n",
       " 434: 81,\n",
       " 438: 2,\n",
       " 442: 14,\n",
       " 439: 12,\n",
       " 437: 8,\n",
       " 436: 22,\n",
       " 445: 2,\n",
       " 443: 9,\n",
       " 444: 24,\n",
       " 447: 56,\n",
       " 446: 3,\n",
       " 448: 13,\n",
       " 450: 5,\n",
       " 451: 12,\n",
       " 449: 7,\n",
       " 454: 8,\n",
       " 455: 9,\n",
       " 452: 18,\n",
       " 456: 41,\n",
       " 453: 2,\n",
       " 461: 108,\n",
       " 458: 24,\n",
       " 460: 14,\n",
       " 459: 9,\n",
       " 457: 18,\n",
       " 462: 15,\n",
       " 464: 22,\n",
       " 467: 13,\n",
       " 465: 16,\n",
       " 469: 1,\n",
       " 463: 38,\n",
       " 468: 79,\n",
       " 470: 3,\n",
       " 471: 25,\n",
       " 466: 2,\n",
       " 472: 12,\n",
       " 473: 1,\n",
       " 480: 28,\n",
       " 475: 15,\n",
       " 478: 11,\n",
       " 479: 3,\n",
       " 474: 3,\n",
       " 477: 2,\n",
       " 476: 1,\n",
       " 482: 22,\n",
       " 483: 12,\n",
       " 481: 21,\n",
       " 485: 9,\n",
       " 484: 6,\n",
       " 488: 33,\n",
       " 486: 30,\n",
       " 487: 1,\n",
       " 489: 1,\n",
       " 491: 45,\n",
       " 494: 4,\n",
       " 493: 8,\n",
       " 490: 14,\n",
       " 495: 6,\n",
       " 492: 6,\n",
       " 500: 24,\n",
       " 499: 24,\n",
       " 498: 17,\n",
       " 497: 11,\n",
       " 496: 16,\n",
       " 501: 34,\n",
       " 502: 14,\n",
       " 504: 7,\n",
       " 503: 11,\n",
       " 505: 14,\n",
       " 508: 11,\n",
       " 506: 3,\n",
       " 507: 3,\n",
       " 510: 11,\n",
       " 509: 4,\n",
       " 511: 33,\n",
       " 512: 11,\n",
       " 514: 6,\n",
       " 513: 4,\n",
       " 515: 104,\n",
       " 516: 76,\n",
       " 517: 9,\n",
       " 521: 4,\n",
       " 522: 19,\n",
       " 518: 110,\n",
       " 520: 4,\n",
       " 523: 5,\n",
       " 519: 5,\n",
       " 524: 22,\n",
       " 525: 17,\n",
       " 526: 73,\n",
       " 527: 6,\n",
       " 531: 4,\n",
       " 532: 12,\n",
       " 529: 12,\n",
       " 528: 2,\n",
       " 530: 8,\n",
       " 533: 3,\n",
       " 535: 7,\n",
       " 536: 16,\n",
       " 534: 7,\n",
       " 549: 24,\n",
       " 539: 2,\n",
       " 543: 3,\n",
       " 540: 20,\n",
       " 544: 5,\n",
       " 537: 2,\n",
       " 546: 42,\n",
       " 545: 52,\n",
       " 541: 6,\n",
       " 538: 1,\n",
       " 547: 7,\n",
       " 548: 6,\n",
       " 542: 4,\n",
       " 550: 17,\n",
       " 551: 2,\n",
       " 552: 13,\n",
       " 557: 56,\n",
       " 554: 1,\n",
       " 553: 1,\n",
       " 560: 4,\n",
       " 558: 14,\n",
       " 555: 5,\n",
       " 559: 2,\n",
       " 556: 7,\n",
       " 561: 11,\n",
       " 562: 26,\n",
       " 564: 9,\n",
       " 563: 10,\n",
       " 566: 52,\n",
       " 565: 13,\n",
       " 567: 22,\n",
       " 568: 1,\n",
       " 569: 12,\n",
       " 571: 22,\n",
       " 573: 1,\n",
       " 575: 14,\n",
       " 574: 1,\n",
       " 572: 37,\n",
       " 576: 24,\n",
       " 570: 1,\n",
       " 580: 29,\n",
       " 578: 7,\n",
       " 579: 2,\n",
       " 577: 1,\n",
       " 581: 1,\n",
       " 587: 1,\n",
       " 590: 4,\n",
       " 585: 3,\n",
       " 589: 2,\n",
       " 588: 1,\n",
       " 583: 21,\n",
       " 586: 1,\n",
       " 582: 12,\n",
       " 591: 23,\n",
       " 584: 5,\n",
       " 592: 3,\n",
       " 594: 3,\n",
       " 600: 1,\n",
       " 601: 1,\n",
       " 593: 4,\n",
       " 599: 1,\n",
       " 602: 1,\n",
       " 597: 13,\n",
       " 595: 2,\n",
       " 603: 1,\n",
       " 598: 3,\n",
       " 596: 3,\n",
       " 604: 19,\n",
       " 606: 55,\n",
       " 605: 11,\n",
       " 607: 4,\n",
       " 612: 6,\n",
       " 609: 24,\n",
       " 608: 3,\n",
       " 611: 6,\n",
       " 610: 3,\n",
       " 613: 1,\n",
       " 615: 25,\n",
       " 619: 4,\n",
       " 618: 1,\n",
       " 617: 1,\n",
       " 614: 20,\n",
       " 616: 2,\n",
       " 620: 29,\n",
       " 621: 10,\n",
       " 622: 5,\n",
       " 623: 22,\n",
       " 625: 1,\n",
       " 624: 6,\n",
       " 626: 4,\n",
       " 627: 9,\n",
       " 631: 21,\n",
       " 632: 3,\n",
       " 628: 1,\n",
       " 634: 7,\n",
       " 633: 3,\n",
       " 630: 2,\n",
       " 629: 1,\n",
       " 635: 23,\n",
       " 639: 26,\n",
       " 637: 56,\n",
       " 638: 45,\n",
       " 640: 3,\n",
       " 636: 2,\n",
       " 642: 7,\n",
       " 641: 12,\n",
       " 643: 7,\n",
       " 648: 3,\n",
       " 651: 37,\n",
       " 646: 5,\n",
       " 654: 6,\n",
       " 652: 1,\n",
       " 650: 3,\n",
       " 653: 2,\n",
       " 644: 8,\n",
       " 656: 12,\n",
       " 655: 7,\n",
       " 649: 6,\n",
       " 647: 7,\n",
       " 657: 4,\n",
       " 645: 2,\n",
       " 658: 29,\n",
       " 659: 5,\n",
       " 660: 14,\n",
       " 661: 17,\n",
       " 662: 5,\n",
       " 664: 11,\n",
       " 665: 1,\n",
       " 663: 1,\n",
       " 667: 4,\n",
       " 668: 2,\n",
       " 666: 13,\n",
       " 669: 6,\n",
       " 673: 37,\n",
       " 675: 17,\n",
       " 670: 35,\n",
       " 672: 11,\n",
       " 671: 4,\n",
       " 674: 16,\n",
       " 677: 69,\n",
       " 676: 17,\n",
       " 678: 4,\n",
       " 683: 1,\n",
       " 685: 2,\n",
       " 682: 1,\n",
       " 686: 40,\n",
       " 679: 2,\n",
       " 681: 1,\n",
       " 684: 3,\n",
       " 680: 43,\n",
       " 692: 13,\n",
       " 690: 4,\n",
       " 688: 9,\n",
       " 689: 23,\n",
       " 687: 19,\n",
       " 691: 6,\n",
       " 693: 8,\n",
       " 694: 7,\n",
       " 695: 1,\n",
       " 696: 34,\n",
       " 697: 23,\n",
       " 699: 49,\n",
       " 698: 3,\n",
       " 700: 9,\n",
       " 706: 18,\n",
       " 705: 9,\n",
       " 703: 22,\n",
       " 704: 3,\n",
       " 702: 3,\n",
       " 701: 30,\n",
       " 707: 17,\n",
       " 708: 3,\n",
       " 709: 11,\n",
       " 713: 17,\n",
       " 714: 18,\n",
       " 716: 43,\n",
       " 710: 2,\n",
       " 715: 28,\n",
       " 712: 10,\n",
       " 711: 8,\n",
       " 719: 7,\n",
       " 720: 21,\n",
       " 718: 6,\n",
       " 717: 9,\n",
       " 722: 30,\n",
       " 723: 17,\n",
       " 721: 3,\n",
       " 727: 16,\n",
       " 725: 2,\n",
       " 726: 5,\n",
       " 724: 5,\n",
       " 728: 23,\n",
       " 734: 36,\n",
       " 735: 2,\n",
       " 731: 14,\n",
       " 736: 44,\n",
       " 732: 4,\n",
       " 730: 6,\n",
       " 733: 4,\n",
       " 729: 20,\n",
       " 737: 4,\n",
       " 738: 32,\n",
       " 739: 9,\n",
       " 743: 5,\n",
       " 746: 20,\n",
       " 748: 13,\n",
       " 742: 2,\n",
       " 744: 3,\n",
       " 749: 8,\n",
       " 747: 2,\n",
       " 745: 4,\n",
       " 740: 17,\n",
       " 741: 1,\n",
       " 752: 6,\n",
       " 751: 1,\n",
       " 750: 4,\n",
       " 755: 8,\n",
       " 753: 2,\n",
       " 756: 10,\n",
       " 754: 7,\n",
       " 757: 2,\n",
       " 758: 26,\n",
       " 761: 4,\n",
       " 760: 5,\n",
       " 762: 2,\n",
       " 759: 12,\n",
       " 766: 3,\n",
       " 763: 3,\n",
       " 764: 10,\n",
       " 767: 3,\n",
       " 765: 7,\n",
       " 768: 6,\n",
       " 771: 12,\n",
       " 769: 37,\n",
       " 772: 28,\n",
       " 770: 6,\n",
       " 773: 20,\n",
       " 774: 14,\n",
       " 776: 2,\n",
       " 775: 3,\n",
       " 777: 3,\n",
       " 778: 10,\n",
       " 779: 21,\n",
       " 780: 5,\n",
       " 781: 19,\n",
       " 783: 5,\n",
       " 782: 28,\n",
       " 784: 26,\n",
       " 785: 11,\n",
       " 787: 2,\n",
       " 786: 13,\n",
       " 793: 5,\n",
       " 794: 41,\n",
       " 790: 5,\n",
       " 791: 5,\n",
       " 788: 3,\n",
       " 792: 2,\n",
       " 789: 11,\n",
       " 795: 2,\n",
       " 796: 4,\n",
       " 797: 33,\n",
       " 798: 4,\n",
       " 799: 5,\n",
       " 806: 33,\n",
       " 802: 6,\n",
       " 803: 5,\n",
       " 801: 15,\n",
       " 805: 11,\n",
       " 807: 13,\n",
       " 804: 6,\n",
       " 800: 5,\n",
       " 810: 19,\n",
       " 809: 9,\n",
       " 808: 1,\n",
       " 816: 9,\n",
       " 815: 2,\n",
       " 814: 2,\n",
       " 811: 11,\n",
       " 813: 10,\n",
       " 812: 2,\n",
       " 818: 13,\n",
       " 817: 11,\n",
       " 821: 7,\n",
       " 820: 7,\n",
       " 819: 12,\n",
       " 823: 4,\n",
       " 822: 6,\n",
       " 824: 8,\n",
       " 825: 19,\n",
       " 830: 5,\n",
       " 832: 33,\n",
       " 826: 4,\n",
       " 828: 1,\n",
       " 835: 19,\n",
       " 834: 10,\n",
       " 833: 2,\n",
       " 829: 28,\n",
       " 827: 27,\n",
       " 836: 1,\n",
       " 831: 32,\n",
       " 840: 26,\n",
       " 837: 12,\n",
       " 838: 6,\n",
       " 839: 5,\n",
       " 841: 2,\n",
       " 842: 12,\n",
       " 843: 6,\n",
       " 845: 1,\n",
       " 844: 1,\n",
       " 846: 11,\n",
       " 849: 1,\n",
       " 847: 9,\n",
       " 848: 6,\n",
       " 853: 7,\n",
       " 850: 5,\n",
       " 851: 2,\n",
       " 854: 7,\n",
       " 852: 1,\n",
       " 858: 7,\n",
       " 856: 27,\n",
       " 855: 18,\n",
       " 857: 1,\n",
       " 861: 18,\n",
       " 859: 2,\n",
       " 860: 3,\n",
       " 862: 2,\n",
       " 864: 74,\n",
       " 863: 4,\n",
       " 867: 1,\n",
       " 870: 3,\n",
       " 865: 3,\n",
       " 866: 24,\n",
       " 871: 8,\n",
       " 868: 8,\n",
       " 869: 4,\n",
       " 872: 1,\n",
       " 873: 16,\n",
       " 875: 1,\n",
       " 876: 1,\n",
       " 879: 5,\n",
       " 874: 4,\n",
       " 878: 5,\n",
       " 877: 12,\n",
       " 880: 1,\n",
       " 882: 7,\n",
       " 884: 4,\n",
       " 883: 2,\n",
       " 881: 1,\n",
       " 885: 1,\n",
       " 887: 9,\n",
       " 888: 7,\n",
       " 886: 16,\n",
       " 889: 6,\n",
       " 890: 21,\n",
       " 894: 4,\n",
       " 891: 6,\n",
       " 893: 10,\n",
       " 892: 1,\n",
       " 896: 6,\n",
       " 897: 19,\n",
       " 895: 6,\n",
       " 898: 21,\n",
       " 899: 8,\n",
       " 900: 26,\n",
       " 901: 3,\n",
       " 915: 6,\n",
       " 905: 2,\n",
       " 911: 4,\n",
       " 904: 4,\n",
       " 909: 3,\n",
       " 913: 4,\n",
       " 902: 1,\n",
       " 914: 2,\n",
       " 907: 15,\n",
       " 910: 1,\n",
       " 912: 17,\n",
       " 903: 8,\n",
       " 908: 33,\n",
       " 906: 8,\n",
       " 916: 4,\n",
       " 918: 3,\n",
       " 917: 13,\n",
       " 919: 23,\n",
       " 921: 7,\n",
       " 920: 10,\n",
       " 923: 4,\n",
       " 922: 7,\n",
       " 928: 2,\n",
       " 925: 6,\n",
       " 924: 1,\n",
       " 929: 1,\n",
       " 931: 1,\n",
       " 927: 15,\n",
       " 926: 1,\n",
       " 930: 5,\n",
       " 938: 13,\n",
       " 937: 1,\n",
       " 935: 3,\n",
       " 936: 5,\n",
       " 934: 31,\n",
       " 932: 5,\n",
       " 933: 2,\n",
       " 939: 13,\n",
       " 944: 2,\n",
       " 940: 9,\n",
       " 942: 3,\n",
       " 941: 2,\n",
       " 943: 6,\n",
       " 945: 3,\n",
       " 948: 10,\n",
       " 949: 2,\n",
       " 946: 3,\n",
       " 947: 12,\n",
       " 950: 4,\n",
       " 951: 3,\n",
       " 952: 6,\n",
       " 953: 3,\n",
       " 954: 2,\n",
       " 957: 26,\n",
       " 956: 9,\n",
       " 955: 14,\n",
       " 958: 3,\n",
       " 960: 2,\n",
       " 959: 2,\n",
       " 964: 5,\n",
       " 961: 2,\n",
       " 962: 2,\n",
       " 963: 4,\n",
       " 965: 3,\n",
       " 967: 1,\n",
       " 966: 6,\n",
       " 968: 2,\n",
       " 973: 37,\n",
       " 970: 13,\n",
       " 972: 8,\n",
       " 969: 6,\n",
       " 971: 7,\n",
       " 975: 3,\n",
       " 974: 3,\n",
       " 980: 6,\n",
       " 978: 1,\n",
       " 979: 1,\n",
       " 981: 1,\n",
       " 977: 12,\n",
       " 976: 3,\n",
       " 982: 3,\n",
       " 991: 3,\n",
       " 988: 13,\n",
       " 987: 12,\n",
       " 989: 2,\n",
       " 990: 25,\n",
       " 984: 2,\n",
       " 986: 2,\n",
       " 983: 2,\n",
       " 985: 2,\n",
       " 992: 1,\n",
       " 995: 6,\n",
       " 994: 12,\n",
       " 993: 17,\n",
       " 996: 20,\n",
       " 997: 1,\n",
       " 999: 2,\n",
       " 1001: 6,\n",
       " ...}"
      ]
     },
     "execution_count": 40,
     "metadata": {},
     "output_type": "execute_result"
    }
   ],
   "source": [
    "dictionary.dfs"
   ]
  },
  {
   "cell_type": "code",
   "execution_count": 41,
   "metadata": {
    "colab": {
     "base_uri": "https://localhost:8080/"
    },
    "id": "D8trSPV_PIo6",
    "outputId": "ad62cd58-b52e-4b8d-b9a3-e56887039e9c"
   },
   "outputs": [
    {
     "name": "stdout",
     "output_type": "stream",
     "text": [
      "['follow', 'the', 'white', 'rabbit']\n",
      "[194, 42, 248, 246]\n"
     ]
    }
   ],
   "source": [
    "sentence = 'follow the white rabbit'\n",
    "new_tokens = simple_preprocess(sentence)\n",
    "ids = dictionary.doc2idx(new_tokens)\n",
    "print(new_tokens)\n",
    "print(ids)"
   ]
  },
  {
   "cell_type": "code",
   "execution_count": 42,
   "metadata": {
    "id": "jTnw8JNXPIo6"
   },
   "outputs": [],
   "source": [
    "special_tokens = {'[PAD]': 0, '[UNK]': 1}\n",
    "dictionary.patch_with_special_tokens(special_tokens)"
   ]
  },
  {
   "cell_type": "code",
   "execution_count": 43,
   "metadata": {
    "id": "2y0NKpAuPIo7"
   },
   "outputs": [],
   "source": [
    "def get_rare_ids(dictionary, min_freq):\n",
    "    rare_ids = [t[0] for t in dictionary.cfs.items() if t[1] < min_freq]\n",
    "    return rare_ids"
   ]
  },
  {
   "cell_type": "code",
   "execution_count": 44,
   "metadata": {
    "id": "rO9cRL8fPIo7"
   },
   "outputs": [],
   "source": [
    "def make_vocab(sentences, folder=None, special_tokens=None, vocab_size=None, min_freq=None):\n",
    "    if folder is not None:\n",
    "        if not os.path.exists(folder):\n",
    "            os.mkdir(folder)\n",
    "\n",
    "    # tokenizes the sentences and create a Dictionary\n",
    "    tokens = [simple_preprocess(sent) for sent in sentences]\n",
    "    dictionary = corpora.Dictionary(tokens)\n",
    "    # keeps only the most frequent words (vocab size)\n",
    "    if vocab_size is not None:\n",
    "        dictionary.filter_extremes(keep_n=vocab_size)\n",
    "    # removes rare words (in case the vocab size still\n",
    "    # includes words with low frequency)\n",
    "    if min_freq is not None:\n",
    "        rare_tokens = get_rare_ids(dictionary, min_freq)\n",
    "        dictionary.filter_tokens(bad_ids=rare_tokens)\n",
    "    # gets the whole list of tokens and frequencies\n",
    "    items = dictionary.cfs.items()\n",
    "    # sorts the tokens in descending order\n",
    "    words = [dictionary[t[0]] for t in sorted(dictionary.cfs.items(), key=lambda t: -t[1])]\n",
    "    # prepends special tokens, if any\n",
    "    if special_tokens is not None:\n",
    "        to_add = []\n",
    "        for special_token in special_tokens:\n",
    "            if special_token not in words:\n",
    "                to_add.append(special_token)\n",
    "        words = to_add + words\n",
    "\n",
    "    with open(os.path.join(folder, 'vocab.txt'), 'w') as f:\n",
    "        for word in words:\n",
    "            f.write(f'{word}\\n')"
   ]
  },
  {
   "cell_type": "code",
   "execution_count": 45,
   "metadata": {
    "id": "3x1exiX0PIo7"
   },
   "outputs": [],
   "source": [
    "make_vocab(train_dataset['sentence'], 'our_vocab/', special_tokens=['[PAD]', '[UNK]', '[SEP]', '[CLS]', '[MASK]'], min_freq=2)"
   ]
  },
  {
   "cell_type": "markdown",
   "metadata": {
    "id": "7Cq5LmV6PIo7"
   },
   "source": [
    "## HugginFace's Tokenizer"
   ]
  },
  {
   "cell_type": "code",
   "execution_count": 46,
   "metadata": {
    "id": "AbW7Cd8jPIo8"
   },
   "outputs": [],
   "source": [
    "from transformers import BertTokenizer\n",
    "\n",
    "tokenizer = BertTokenizer('our_vocab/vocab.txt')"
   ]
  },
  {
   "cell_type": "code",
   "execution_count": 47,
   "metadata": {
    "colab": {
     "base_uri": "https://localhost:8080/"
    },
    "id": "nhxCrkJjPIo8",
    "outputId": "9eca4ff5-ac7a-407f-87f2-ae2f4fddd9a2"
   },
   "outputs": [
    {
     "data": {
      "text/plain": [
       "['follow', 'the', 'white', 'rabbit', '[UNK]']"
      ]
     },
     "execution_count": 47,
     "metadata": {},
     "output_type": "execute_result"
    }
   ],
   "source": [
    "new_sentence = 'follow the white rabbit neo'\n",
    "new_tokens = tokenizer.tokenize(new_sentence)\n",
    "new_tokens"
   ]
  },
  {
   "cell_type": "code",
   "execution_count": 48,
   "metadata": {
    "colab": {
     "base_uri": "https://localhost:8080/"
    },
    "id": "V6DlCKGxPIo8",
    "outputId": "9594a418-42a3-4014-f4ff-0a9cd7a728d6"
   },
   "outputs": [
    {
     "data": {
      "text/plain": [
       "[864, 5, 224, 190, 1]"
      ]
     },
     "execution_count": 48,
     "metadata": {},
     "output_type": "execute_result"
    }
   ],
   "source": [
    "new_ids = tokenizer.convert_tokens_to_ids(new_tokens)\n",
    "new_ids"
   ]
  },
  {
   "cell_type": "code",
   "execution_count": 49,
   "metadata": {
    "colab": {
     "base_uri": "https://localhost:8080/"
    },
    "id": "06gmmhDvPIo9",
    "outputId": "c56341b6-22a5-443d-f6bc-66df31fbfcb4"
   },
   "outputs": [
    {
     "data": {
      "text/plain": [
       "[3, 864, 5, 224, 190, 1, 2]"
      ]
     },
     "execution_count": 49,
     "metadata": {},
     "output_type": "execute_result"
    }
   ],
   "source": [
    "new_ids = tokenizer.encode(new_sentence)\n",
    "new_ids"
   ]
  },
  {
   "cell_type": "code",
   "execution_count": 50,
   "metadata": {
    "colab": {
     "base_uri": "https://localhost:8080/"
    },
    "id": "98Ccyt_LPIo9",
    "outputId": "1f1f7d78-b8c4-447e-81f1-83bce6520935"
   },
   "outputs": [
    {
     "data": {
      "text/plain": [
       "['[CLS]', 'follow', 'the', 'white', 'rabbit', '[UNK]', '[SEP]']"
      ]
     },
     "execution_count": 50,
     "metadata": {},
     "output_type": "execute_result"
    }
   ],
   "source": [
    "tokenizer.convert_ids_to_tokens(new_ids)"
   ]
  },
  {
   "cell_type": "code",
   "execution_count": 51,
   "metadata": {
    "colab": {
     "base_uri": "https://localhost:8080/"
    },
    "id": "yVOy3y3SPIo9",
    "outputId": "ba4c3cec-03ac-4817-e905-7ee6f99e79a2"
   },
   "outputs": [
    {
     "data": {
      "text/plain": [
       "[864, 5, 224, 190, 1]"
      ]
     },
     "execution_count": 51,
     "metadata": {},
     "output_type": "execute_result"
    }
   ],
   "source": [
    "tokenizer.encode(new_sentence, add_special_tokens=False)"
   ]
  },
  {
   "cell_type": "code",
   "execution_count": 52,
   "metadata": {
    "colab": {
     "base_uri": "https://localhost:8080/"
    },
    "id": "tGBDu8aoPIo9",
    "outputId": "910d92eb-e5bf-4f7d-f8b7-98f319f69f48"
   },
   "outputs": [
    {
     "data": {
      "text/plain": [
       "{'input_ids': tensor([[864,   5, 224, 190,   1]]), 'token_type_ids': tensor([[0, 0, 0, 0, 0]]), 'attention_mask': tensor([[1, 1, 1, 1, 1]])}"
      ]
     },
     "execution_count": 52,
     "metadata": {},
     "output_type": "execute_result"
    }
   ],
   "source": [
    "tokenizer(new_sentence, add_special_tokens=False, return_tensors='pt')"
   ]
  },
  {
   "cell_type": "code",
   "execution_count": 53,
   "metadata": {
    "colab": {
     "base_uri": "https://localhost:8080/"
    },
    "id": "VB8-t1puPIo_",
    "outputId": "8c7e3c8f-ff02-438b-ef3c-1c341c465950"
   },
   "outputs": [
    {
     "data": {
      "text/plain": [
       "{'input_ids': [3, 864, 5, 224, 190, 1, 2, 58, 48, 72, 32, 313, 46, 5, 1, 29, 2], 'token_type_ids': [0, 0, 0, 0, 0, 0, 0, 1, 1, 1, 1, 1, 1, 1, 1, 1, 1], 'attention_mask': [1, 1, 1, 1, 1, 1, 1, 1, 1, 1, 1, 1, 1, 1, 1, 1, 1]}"
      ]
     },
     "execution_count": 53,
     "metadata": {},
     "output_type": "execute_result"
    }
   ],
   "source": [
    "sentence1 = 'follow the white rabbit neo'\n",
    "sentence2 = 'no one can be told what the matrix is'\n",
    "joined_sentences = tokenizer(sentence1, sentence2)\n",
    "joined_sentences"
   ]
  },
  {
   "cell_type": "code",
   "execution_count": 54,
   "metadata": {
    "colab": {
     "base_uri": "https://localhost:8080/"
    },
    "id": "IjJ5EQqfPIo_",
    "outputId": "94615faa-0066-4466-b0b1-ab81cc738785"
   },
   "outputs": [
    {
     "name": "stdout",
     "output_type": "stream",
     "text": [
      "['[CLS]', 'follow', 'the', 'white', 'rabbit', '[UNK]', '[SEP]', 'no', 'one', 'can', 'be', 'told', 'what', 'the', '[UNK]', 'is', '[SEP]']\n"
     ]
    }
   ],
   "source": [
    "print(tokenizer.convert_ids_to_tokens(joined_sentences['input_ids']))"
   ]
  },
  {
   "cell_type": "code",
   "execution_count": 55,
   "metadata": {
    "colab": {
     "base_uri": "https://localhost:8080/"
    },
    "id": "jNHKY9CrPIo_",
    "outputId": "d8057e1d-61ef-4a0e-d48c-8dc0a476da60"
   },
   "outputs": [
    {
     "data": {
      "text/plain": [
       "{'input_ids': [[3, 864, 5, 224, 190, 1, 2, 0, 0, 0, 0], [3, 58, 48, 72, 32, 313, 46, 5, 1, 29, 2]], 'token_type_ids': [[0, 0, 0, 0, 0, 0, 0, 0, 0, 0, 0], [0, 0, 0, 0, 0, 0, 0, 0, 0, 0, 0]], 'attention_mask': [[1, 1, 1, 1, 1, 1, 1, 0, 0, 0, 0], [1, 1, 1, 1, 1, 1, 1, 1, 1, 1, 1]]}"
      ]
     },
     "execution_count": 55,
     "metadata": {},
     "output_type": "execute_result"
    }
   ],
   "source": [
    "separate_sentences = tokenizer([sentence1, sentence2], padding=True)\n",
    "separate_sentences"
   ]
  },
  {
   "cell_type": "code",
   "execution_count": 56,
   "metadata": {
    "colab": {
     "base_uri": "https://localhost:8080/"
    },
    "id": "ZOQDFqKbPIpF",
    "outputId": "08814631-8f28-4073-d2d1-fcdec4030b28"
   },
   "outputs": [
    {
     "name": "stdout",
     "output_type": "stream",
     "text": [
      "['[CLS]', 'follow', 'the', 'white', 'rabbit', '[UNK]', '[SEP]', '[PAD]', '[PAD]', '[PAD]', '[PAD]']\n",
      "[1, 1, 1, 1, 1, 1, 1, 0, 0, 0, 0]\n"
     ]
    }
   ],
   "source": [
    "print(tokenizer.convert_ids_to_tokens(separate_sentences['input_ids'][0]))\n",
    "print(separate_sentences['attention_mask'][0])"
   ]
  },
  {
   "cell_type": "code",
   "execution_count": 57,
   "metadata": {
    "colab": {
     "base_uri": "https://localhost:8080/"
    },
    "id": "Uqsq7GS3PIpG",
    "outputId": "f248a47a-2b29-49db-839a-12f48fce19fe"
   },
   "outputs": [
    {
     "name": "stdout",
     "output_type": "stream",
     "text": [
      "['[CLS]', 'follow', 'the', 'white', 'rabbit', '[UNK]', '[SEP]', 'no', 'one', 'can', 'be', 'told', 'what', 'the', '[UNK]', 'is', '[SEP]']\n",
      "['[CLS]', 'another', 'first', 'sentence', '[SEP]', '[UNK]', 'second', 'sentence', 'here', '[SEP]']\n"
     ]
    }
   ],
   "source": [
    "first_sentences = [sentence1, 'another first sentence']\n",
    "second_sentences = [sentence2, 'a second sentence here']\n",
    "batch_of_pairs = tokenizer(first_sentences, second_sentences)\n",
    "first_input = tokenizer.convert_ids_to_tokens(batch_of_pairs['input_ids'][0])\n",
    "second_input = tokenizer.convert_ids_to_tokens(batch_of_pairs['input_ids'][1])\n",
    "print(first_input)\n",
    "print(second_input)"
   ]
  },
  {
   "cell_type": "code",
   "execution_count": 58,
   "metadata": {
    "colab": {
     "base_uri": "https://localhost:8080/"
    },
    "id": "2U40RGXSPIpG",
    "outputId": "2c3207ec-e0fa-492f-a79c-5fe769e100cf"
   },
   "outputs": [
    {
     "data": {
      "text/plain": [
       "tensor([[   3,   27,    1,  ...,   99, 1085,    2],\n",
       "        [   3,   24,   11,  ..., 1302,    5,    2],\n",
       "        [   3,   49,   13,  ...,    0,    0,    0],\n",
       "        ...,\n",
       "        [   3,    1,    6,  ...,    0,    0,    0],\n",
       "        [   3,    6,  138,  ...,    0,    0,    0],\n",
       "        [   3,    1,    1,  ...,    0,    0,    0]])"
      ]
     },
     "execution_count": 58,
     "metadata": {},
     "output_type": "execute_result"
    }
   ],
   "source": [
    "tokenized_dataset = tokenizer(dataset['sentence'],\n",
    "                              padding=True,\n",
    "                              return_tensors='pt',\n",
    "                              max_length=50,\n",
    "                              truncation=True)\n",
    "tokenized_dataset['input_ids']"
   ]
  },
  {
   "cell_type": "markdown",
   "metadata": {
    "id": "RYIpul-cPIpG"
   },
   "source": [
    "# Before Word Embeddings"
   ]
  },
  {
   "cell_type": "markdown",
   "metadata": {
    "id": "U80QzETEPIpH"
   },
   "source": [
    "## One-Hot Encoding (OHE)"
   ]
  },
  {
   "cell_type": "markdown",
   "metadata": {
    "id": "NS3mlNgIPIpH"
   },
   "source": [
    "![](https://github.com/dvgodoy/PyTorchStepByStep/blob/master/images/ohe1.png?raw=1)"
   ]
  },
  {
   "cell_type": "markdown",
   "metadata": {
    "id": "MLGxP_hdPIpH"
   },
   "source": [
    "![](https://github.com/dvgodoy/PyTorchStepByStep/blob/master/images/ohe2.png?raw=1)"
   ]
  },
  {
   "cell_type": "markdown",
   "metadata": {
    "id": "-K2WB4P5PIpH"
   },
   "source": [
    "## Bag of Words (BoW)"
   ]
  },
  {
   "cell_type": "code",
   "execution_count": 59,
   "metadata": {
    "colab": {
     "base_uri": "https://localhost:8080/"
    },
    "id": "L6ljfjKBPIpH",
    "outputId": "ec3a8665-6b73-4b36-f60a-e232b6fdf6f1"
   },
   "outputs": [
    {
     "data": {
      "text/plain": [
       "['the', 'white', 'rabbit', 'is', 'rabbit']"
      ]
     },
     "execution_count": 59,
     "metadata": {},
     "output_type": "execute_result"
    }
   ],
   "source": [
    "sentence = 'the white rabbit is a rabbit'\n",
    "bow_tokens = simple_preprocess(sentence)\n",
    "bow_tokens"
   ]
  },
  {
   "cell_type": "code",
   "execution_count": 60,
   "metadata": {
    "colab": {
     "base_uri": "https://localhost:8080/"
    },
    "id": "wLrldcH-PIpI",
    "outputId": "aa5dd700-a9d4-49fa-cf64-4e2c82af6fbe"
   },
   "outputs": [
    {
     "data": {
      "text/plain": [
       "[(42, 1), (79, 1), (246, 2), (248, 1)]"
      ]
     },
     "execution_count": 60,
     "metadata": {},
     "output_type": "execute_result"
    }
   ],
   "source": [
    "bow = dictionary.doc2bow(bow_tokens)\n",
    "bow"
   ]
  },
  {
   "cell_type": "markdown",
   "metadata": {
    "id": "Dfbvtiv2PIpI"
   },
   "source": [
    "## Language Models\n",
    "\n",
    "![](https://github.com/dvgodoy/PyTorchStepByStep/blob/master/images/blank1.png?raw=1)\n",
    "\n",
    "![](https://github.com/dvgodoy/PyTorchStepByStep/blob/master/images/blank2.png?raw=1)\n",
    "\n",
    "![](https://github.com/dvgodoy/PyTorchStepByStep/blob/master/images/fill1.png?raw=1)\n",
    "\n",
    "![](https://github.com/dvgodoy/PyTorchStepByStep/blob/master/images/fill2.png?raw=1)\n",
    "\n",
    "## N-grams\n",
    "\n",
    "![](https://github.com/dvgodoy/PyTorchStepByStep/blob/master/images/ngrams.png?raw=1)\n",
    "\n",
    "## Continuous Bag-of-Words (CBoW)\n",
    "\n",
    "![](https://github.com/dvgodoy/PyTorchStepByStep/blob/master/images/blank_end.png?raw=1)\n",
    "\n",
    "![](https://github.com/dvgodoy/PyTorchStepByStep/blob/master/images/blank_center.png?raw=1)"
   ]
  },
  {
   "cell_type": "markdown",
   "metadata": {
    "id": "UxDgKYloPIpI"
   },
   "source": [
    "# Word Embeddings\n",
    "\n",
    "## Word2Vec\n",
    "\n",
    "![](https://github.com/dvgodoy/PyTorchStepByStep/blob/master/images/cbow.png?raw=1)"
   ]
  },
  {
   "cell_type": "code",
   "execution_count": 61,
   "metadata": {
    "id": "atT-CpiCPIpI"
   },
   "outputs": [],
   "source": [
    "class CBOW(nn.Module):\n",
    "    def __init__(self, vocab_size, embedding_size):\n",
    "        super().__init__()\n",
    "        self.embedding = nn.Embedding(vocab_size, embedding_size)\n",
    "        self.linear = nn.Linear(embedding_size, vocab_size)\n",
    "\n",
    "    def forward(self, X):\n",
    "        embeddings = self.embedding(X)\n",
    "        bow = embeddings.mean(dim=1)\n",
    "        logits = self.linear(bow)\n",
    "        return logits"
   ]
  },
  {
   "cell_type": "code",
   "execution_count": 62,
   "metadata": {
    "colab": {
     "base_uri": "https://localhost:8080/"
    },
    "id": "xn-7a8LHPIpJ",
    "outputId": "2beac5af-7334-47ec-b721-1576fe5e8dd0"
   },
   "outputs": [
    {
     "data": {
      "text/plain": [
       "OrderedDict([('weight',\n",
       "              tensor([[ 0.3367,  0.1288,  0.2345],\n",
       "                      [ 0.2303, -1.1229, -0.1863],\n",
       "                      [ 2.2082, -0.6380,  0.4617],\n",
       "                      [ 0.2674,  0.5349,  0.8094],\n",
       "                      [ 1.1103, -1.6898, -0.9890]]))])"
      ]
     },
     "execution_count": 62,
     "metadata": {},
     "output_type": "execute_result"
    }
   ],
   "source": [
    "torch.manual_seed(42)\n",
    "dummy_cbow = CBOW(vocab_size=5, embedding_size=3)\n",
    "dummy_cbow.embedding.state_dict()"
   ]
  },
  {
   "cell_type": "markdown",
   "metadata": {
    "id": "PavMubbxPIpJ"
   },
   "source": [
    "![](https://github.com/dvgodoy/PyTorchStepByStep/blob/master/images/w2v_embed.png?raw=1)"
   ]
  },
  {
   "cell_type": "code",
   "execution_count": 63,
   "metadata": {
    "colab": {
     "base_uri": "https://localhost:8080/"
    },
    "id": "VQ4ZKqOCPIpJ",
    "outputId": "4a8fee88-80ac-4ebd-c5a3-329e4a81c492"
   },
   "outputs": [
    {
     "data": {
      "text/plain": [
       "tensor([[ 2.2082, -0.6380,  0.4617],\n",
       "        [ 0.2674,  0.5349,  0.8094]], grad_fn=<EmbeddingBackward0>)"
      ]
     },
     "execution_count": 63,
     "metadata": {},
     "output_type": "execute_result"
    }
   ],
   "source": [
    "# tokens: ['is', 'barking']\n",
    "dummy_cbow.embedding(torch.as_tensor([2, 3]))"
   ]
  },
  {
   "cell_type": "code",
   "execution_count": 64,
   "metadata": {
    "id": "Xeo7CI0FPIpK"
   },
   "outputs": [],
   "source": [
    "tiny_vocab = ['the', 'small', 'is', 'barking', 'dog']\n",
    "context_words = ['the', 'small', 'is', 'barking']\n",
    "target_words = ['dog']"
   ]
  },
  {
   "cell_type": "code",
   "execution_count": 65,
   "metadata": {
    "id": "64hplr5JPIpK"
   },
   "outputs": [],
   "source": [
    "batch_context = torch.as_tensor([[0, 1, 2, 3]]).long()\n",
    "batch_target = torch.as_tensor([4]).long()"
   ]
  },
  {
   "cell_type": "markdown",
   "metadata": {
    "id": "uobj-IG8PIpK"
   },
   "source": [
    "![](https://github.com/dvgodoy/PyTorchStepByStep/blob/master/images/w2v_cbow.png?raw=1)"
   ]
  },
  {
   "cell_type": "code",
   "execution_count": 66,
   "metadata": {
    "colab": {
     "base_uri": "https://localhost:8080/"
    },
    "id": "hMfauJsZPIpK",
    "outputId": "2f4ce22b-eb62-4b75-ac20-1d4848212826"
   },
   "outputs": [
    {
     "data": {
      "text/plain": [
       "tensor([[ 0.7606, -0.2743,  0.3298]], grad_fn=<MeanBackward1>)"
      ]
     },
     "execution_count": 66,
     "metadata": {},
     "output_type": "execute_result"
    }
   ],
   "source": [
    "cbow_features = dummy_cbow.embedding(batch_context).mean(dim=1)\n",
    "cbow_features"
   ]
  },
  {
   "cell_type": "markdown",
   "metadata": {
    "id": "e19wHR2-PIpK"
   },
   "source": [
    "![](https://github.com/dvgodoy/PyTorchStepByStep/blob/master/images/w2v_logits.png?raw=1)"
   ]
  },
  {
   "cell_type": "code",
   "execution_count": 67,
   "metadata": {
    "colab": {
     "base_uri": "https://localhost:8080/"
    },
    "id": "3e5bcIGOPIpL",
    "outputId": "df05479d-28ea-481f-be99-5bb67fbce5e5"
   },
   "outputs": [
    {
     "data": {
      "text/plain": [
       "tensor([[ 0.3542,  0.6937, -0.2028, -0.5873,  0.2099]],\n",
       "       grad_fn=<AddmmBackward0>)"
      ]
     },
     "execution_count": 67,
     "metadata": {},
     "output_type": "execute_result"
    }
   ],
   "source": [
    "logits = dummy_cbow.linear(cbow_features)\n",
    "logits"
   ]
  },
  {
   "cell_type": "markdown",
   "metadata": {
    "id": "BY_RwBJSPIpL"
   },
   "source": [
    "## What is an Embeddings Anyway?"
   ]
  },
  {
   "cell_type": "markdown",
   "metadata": {
    "id": "9u0vTklVPIpL"
   },
   "source": [
    "![](https://github.com/dvgodoy/PyTorchStepByStep/blob/master/images/rest_discrete.png?raw=1)"
   ]
  },
  {
   "cell_type": "markdown",
   "metadata": {
    "id": "QUBiuMFyPIpL"
   },
   "source": [
    "![](https://github.com/dvgodoy/PyTorchStepByStep/blob/master/images/rest_continuous.png?raw=1)"
   ]
  },
  {
   "cell_type": "code",
   "execution_count": 68,
   "metadata": {
    "colab": {
     "base_uri": "https://localhost:8080/"
    },
    "id": "lPzPn8PaPIpM",
    "outputId": "83416a3b-b447-4478-95a8-9afc0c53895c"
   },
   "outputs": [
    {
     "data": {
      "text/plain": [
       "tensor([[ 1.0000, -0.4318,  0.9976, -0.2974],\n",
       "        [-0.4318,  1.0000, -0.4270,  0.3581],\n",
       "        [ 0.9976, -0.4270,  1.0000, -0.3598],\n",
       "        [-0.2974,  0.3581, -0.3598,  1.0000]])"
      ]
     },
     "execution_count": 68,
     "metadata": {},
     "output_type": "execute_result"
    }
   ],
   "source": [
    "ratings = torch.as_tensor([[.7, -.4, .7],\n",
    "                           [.3, .7, -.5],\n",
    "                           [.9, -.55, .8],\n",
    "                           [-.3, .8, .34]]).float()\n",
    "sims = torch.zeros(4, 4)\n",
    "for i in range(4):\n",
    "    for j in range(4):\n",
    "        sims[i, j] = F.cosine_similarity(ratings[i], ratings[j], dim=0)\n",
    "sims"
   ]
  },
  {
   "cell_type": "markdown",
   "metadata": {
    "id": "wkxlGEraPIpM"
   },
   "source": [
    "## Pre-trained Word2Vec"
   ]
  },
  {
   "cell_type": "markdown",
   "metadata": {
    "id": "Vrvd1NarPIpM"
   },
   "source": [
    "## Global Vectors (GloVe)"
   ]
  },
  {
   "cell_type": "code",
   "execution_count": 70,
   "metadata": {
    "colab": {
     "base_uri": "https://localhost:8080/"
    },
    "id": "wl_JFk35PIpM",
    "outputId": "45b37fab-2bdf-4aa9-a6d7-82383811adc8"
   },
   "outputs": [
    {
     "data": {
      "text/plain": [
       "400000"
      ]
     },
     "execution_count": 70,
     "metadata": {},
     "output_type": "execute_result"
    }
   ],
   "source": [
    "from gensim import downloader\n",
    "\n",
    "glove = downloader.load('glove-wiki-gigaword-50')\n",
    "\n",
    "# UPDATED\n",
    "###########################################################\n",
    "# The vocab property isn't available anymore at the newer\n",
    "# Gensim version. It was replaced by key_to_index\n",
    "# len(glove.vocab)\n",
    "len(glove.key_to_index)\n",
    "###########################################################"
   ]
  },
  {
   "cell_type": "code",
   "execution_count": 71,
   "metadata": {
    "colab": {
     "base_uri": "https://localhost:8080/"
    },
    "id": "fDzgsj0bPIpN",
    "outputId": "09675b72-d9ee-4c53-b18a-80dda0c4af2e"
   },
   "outputs": [
    {
     "data": {
      "text/plain": [
       "array([ 0.16386 ,  0.57795 , -0.59197 , -0.32446 ,  0.29762 ,  0.85151 ,\n",
       "       -0.76695 , -0.20733 ,  0.21491 , -0.51587 , -0.17517 ,  0.94459 ,\n",
       "        0.12705 , -0.33031 ,  0.75951 ,  0.44449 ,  0.16553 , -0.19235 ,\n",
       "        0.065533, -0.12394 ,  0.61446 ,  0.89784 ,  0.17413 ,  0.41149 ,\n",
       "        1.191   , -0.39461 , -0.459   ,  0.022161, -0.50843 , -0.44464 ,\n",
       "        0.68721 , -0.7167  ,  0.20835 , -0.23437 ,  0.02604 , -0.47993 ,\n",
       "        0.31873 , -0.29135 ,  0.50273 , -0.55144 , -0.066692,  0.43873 ,\n",
       "       -0.24293 , -1.0247  ,  0.029375,  0.068499,  0.25451 , -1.9663  ,\n",
       "        0.26673 ,  0.88486 ], dtype=float32)"
      ]
     },
     "execution_count": 71,
     "metadata": {},
     "output_type": "execute_result"
    }
   ],
   "source": [
    "glove['alice']"
   ]
  },
  {
   "cell_type": "code",
   "execution_count": 72,
   "metadata": {
    "id": "46hbjBCmPIpO"
   },
   "outputs": [],
   "source": [
    "synthetic_queen = glove['king'] - glove['man'] + glove['woman']"
   ]
  },
  {
   "cell_type": "code",
   "execution_count": 73,
   "metadata": {
    "colab": {
     "base_uri": "https://localhost:8080/",
     "height": 352
    },
    "id": "kcrptYwOPIpP",
    "outputId": "04333b76-b0b9-4fda-b824-5647e3d40dd5"
   },
   "outputs": [
    {
     "name": "stderr",
     "output_type": "stream",
     "text": [
      "/content/plots/chapter11.py:23: UserWarning: FixedFormatter should only be used together with FixedLocator\n",
      "  axs[i].set_yticklabels(['', word, ''])\n"
     ]
    },
    {
     "data": {
      "image/png": "[encoded data removed]",
      "text/plain": [
       "<Figure size 1800x350 with 5 Axes>"
      ]
     },
     "metadata": {},
     "output_type": "display_data"
    }
   ],
   "source": [
    "fig = plot_word_vectors(glove,\n",
    "                        ['king', 'man', 'woman', 'synthetic', 'queen'],\n",
    "                        other={'synthetic': synthetic_queen})"
   ]
  },
  {
   "cell_type": "code",
   "execution_count": 74,
   "metadata": {
    "colab": {
     "base_uri": "https://localhost:8080/"
    },
    "id": "gtLfGWX7PIpP",
    "outputId": "3ba8afb9-a739-49a5-eb3c-a2c07229d61c"
   },
   "outputs": [
    {
     "data": {
      "text/plain": [
       "[('king', 0.8859834671020508),\n",
       " ('queen', 0.8609582185745239),\n",
       " ('daughter', 0.7684512734413147),\n",
       " ('prince', 0.7640699744224548),\n",
       " ('throne', 0.7634970545768738)]"
      ]
     },
     "execution_count": 74,
     "metadata": {},
     "output_type": "execute_result"
    }
   ],
   "source": [
    "glove.similar_by_vector(synthetic_queen, topn=5)"
   ]
  },
  {
   "cell_type": "markdown",
   "metadata": {
    "id": "fEk297ScPIpQ"
   },
   "source": [
    "![](https://github.com/dvgodoy/PyTorchStepByStep/blob/master/images/embed_arithmetic.png?raw=1)"
   ]
  },
  {
   "cell_type": "markdown",
   "metadata": {
    "id": "6uv9IVvGPIpQ"
   },
   "source": [
    "$$\n",
    "\\Large\n",
    "w_{\\text{king}} - w_{\\text{man}}\\approx w_{\\text{queen}}-w_{\\text{woman}} \\implies w_{\\text{king}} - w_{\\text{man}} + w_{\\text{woman}} \\approx w_{\\text{queen}}\n",
    "$$"
   ]
  },
  {
   "cell_type": "markdown",
   "metadata": {
    "id": "O7M0z1YMPIpQ"
   },
   "source": [
    "## Using Word Embeddings"
   ]
  },
  {
   "cell_type": "markdown",
   "metadata": {
    "id": "MuAY6Gk6PIpQ"
   },
   "source": [
    "### Vocabulary Coverage"
   ]
  },
  {
   "cell_type": "code",
   "execution_count": 75,
   "metadata": {
    "colab": {
     "base_uri": "https://localhost:8080/"
    },
    "id": "bpLS4nhMPIpQ",
    "outputId": "8d9ca8fb-0816-413a-ed05-1ceabe47bf71"
   },
   "outputs": [
    {
     "data": {
      "text/plain": [
       "3695"
      ]
     },
     "execution_count": 75,
     "metadata": {},
     "output_type": "execute_result"
    }
   ],
   "source": [
    "vocab = list(dictionary.token2id.keys())\n",
    "len(vocab)"
   ]
  },
  {
   "cell_type": "code",
   "execution_count": 77,
   "metadata": {
    "colab": {
     "base_uri": "https://localhost:8080/"
    },
    "id": "AWvfyewTPIpQ",
    "outputId": "df5d4a4b-907e-4051-be67-63255c001f70"
   },
   "outputs": [
    {
     "name": "stdout",
     "output_type": "stream",
     "text": [
      "42\n",
      "['[PAD]', '[UNK]', 'barrowful', 'beauti', 'carecrow']\n"
     ]
    }
   ],
   "source": [
    "# UPDATED\n",
    "###########################################################\n",
    "# The vocab property isn't available anymore at the newer\n",
    "# Gensim version. It was replaced by key_to_index\n",
    "# unknown_words = sorted(list(set(vocab).difference(set(glove.vocab))))\n",
    "\n",
    "unknown_words = sorted(list(set(vocab).difference(set(glove.key_to_index))))\n",
    "###########################################################\n",
    "print(len(unknown_words))\n",
    "print(unknown_words[:5])"
   ]
  },
  {
   "cell_type": "code",
   "execution_count": 78,
   "metadata": {
    "colab": {
     "base_uri": "https://localhost:8080/"
    },
    "id": "EddC0V1zPIpR",
    "outputId": "b7119697-844c-40bd-a731-265f3b54a307"
   },
   "outputs": [
    {
     "data": {
      "text/plain": [
       "(80, 50539)"
      ]
     },
     "execution_count": 78,
     "metadata": {},
     "output_type": "execute_result"
    }
   ],
   "source": [
    "unknown_ids = [dictionary.token2id[w] for w in unknown_words if w not in ['[PAD]', '[UNK]']]\n",
    "unknown_count = np.sum([dictionary.cfs[idx] for idx in unknown_ids])\n",
    "unknown_count, dictionary.num_pos"
   ]
  },
  {
   "cell_type": "code",
   "execution_count": 81,
   "metadata": {
    "id": "IWUf3u6CPIpR"
   },
   "outputs": [],
   "source": [
    "def vocab_coverage(gensim_dict, pretrained_wv, special_tokens=('[PAD]', '[UNK]')):\n",
    "    vocab = list(gensim_dict.token2id.keys())\n",
    "    # UPDATED\n",
    "    ###########################################################\n",
    "    # The vocab property isn't available anymore at the newer\n",
    "    # Gensim version. It was replaced by key_to_index\n",
    "    # unknown_words = sorted(list(set(vocab).difference(set(pretrained_wv.vocab))))\n",
    "    unknown_words = sorted(list(set(vocab).difference(set(pretrained_wv.key_to_index))))\n",
    "    ###########################################################\n",
    "    unknown_ids = [gensim_dict.token2id[w] for w in unknown_words if w not in special_tokens]\n",
    "    unknown_count = np.sum([gensim_dict.cfs[idx] for idx in unknown_ids])\n",
    "    cov = 1 - unknown_count / gensim_dict.num_pos\n",
    "    return cov"
   ]
  },
  {
   "cell_type": "code",
   "execution_count": 82,
   "metadata": {
    "colab": {
     "base_uri": "https://localhost:8080/"
    },
    "id": "eYZTCStNPIpR",
    "outputId": "1df5d6a6-7c10-461b-dab7-57ffa9b8a7e4"
   },
   "outputs": [
    {
     "data": {
      "text/plain": [
       "0.9984170640495459"
      ]
     },
     "execution_count": 82,
     "metadata": {},
     "output_type": "execute_result"
    }
   ],
   "source": [
    "vocab_coverage(dictionary, glove)"
   ]
  },
  {
   "cell_type": "markdown",
   "metadata": {
    "id": "EKzOosVxPIpR"
   },
   "source": [
    "### Tokenizer"
   ]
  },
  {
   "cell_type": "code",
   "execution_count": 85,
   "metadata": {
    "id": "Mf8fyy3mPIpS"
   },
   "outputs": [],
   "source": [
    "def make_vocab_from_wv(wv, folder=None, special_tokens=None):\n",
    "    if folder is not None:\n",
    "        if not os.path.exists(folder):\n",
    "            os.mkdir(folder)\n",
    "\n",
    "    # UPDATED\n",
    "    ###########################################################\n",
    "    # The index2word property isn't available anymore at the \n",
    "    # newer Gensim version. It was replaced by index_to_key\n",
    "    # words = wv.index2word\n",
    "    words = wv.index_to_key\n",
    "    ###########################################################\n",
    "    if special_tokens is not None:\n",
    "        to_add = []\n",
    "        for special_token in special_tokens:\n",
    "            if special_token not in words:\n",
    "                to_add.append(special_token)\n",
    "        words = to_add + words\n",
    "\n",
    "    with open(os.path.join(folder, 'vocab.txt'), 'w') as f:\n",
    "        for word in words:\n",
    "            f.write(f'{word}\\n')"
   ]
  },
  {
   "cell_type": "code",
   "execution_count": 86,
   "metadata": {
    "id": "K4Y-ub7iPIpS"
   },
   "outputs": [],
   "source": [
    "make_vocab_from_wv(glove, 'glove_vocab/', special_tokens=['[PAD]', '[UNK]'])"
   ]
  },
  {
   "cell_type": "code",
   "execution_count": 87,
   "metadata": {
    "id": "3NIjvZpFPIpS"
   },
   "outputs": [],
   "source": [
    "glove_tokenizer = BertTokenizer('glove_vocab/vocab.txt')"
   ]
  },
  {
   "cell_type": "code",
   "execution_count": 88,
   "metadata": {
    "colab": {
     "base_uri": "https://localhost:8080/"
    },
    "id": "IN_vm748PIpS",
    "outputId": "e0286629-ceab-4f08-b22a-af1b21b55579"
   },
   "outputs": [
    {
     "data": {
      "text/plain": [
       "[7101, 930, 2, 300, 12427]"
      ]
     },
     "execution_count": 88,
     "metadata": {},
     "output_type": "execute_result"
    }
   ],
   "source": [
    "glove_tokenizer.encode('alice followed the white rabbit', add_special_tokens=False)"
   ]
  },
  {
   "cell_type": "code",
   "execution_count": 89,
   "metadata": {
    "colab": {
     "base_uri": "https://localhost:8080/"
    },
    "id": "TwsVqJhtPIpS",
    "outputId": "0985270c-e9d5-478a-b5e4-4f567bacc33b"
   },
   "outputs": [
    {
     "data": {
      "text/plain": [
       "(400002, 400000)"
      ]
     },
     "execution_count": 89,
     "metadata": {},
     "output_type": "execute_result"
    }
   ],
   "source": [
    "len(glove_tokenizer.vocab), len(glove.vectors)"
   ]
  },
  {
   "cell_type": "markdown",
   "metadata": {
    "id": "YBrqOhP-PIpT"
   },
   "source": [
    "### Special Tokens' Embeddings"
   ]
  },
  {
   "cell_type": "code",
   "execution_count": 90,
   "metadata": {
    "id": "UzAqTQ9CPIpT"
   },
   "outputs": [],
   "source": [
    "special_embeddings = np.zeros((2, glove.vector_size))"
   ]
  },
  {
   "cell_type": "code",
   "execution_count": 91,
   "metadata": {
    "colab": {
     "base_uri": "https://localhost:8080/"
    },
    "id": "4AWIyA3JPIpT",
    "outputId": "b437d71a-a4c8-491e-a7f9-cf6b06bd060e"
   },
   "outputs": [
    {
     "data": {
      "text/plain": [
       "(400002, 50)"
      ]
     },
     "execution_count": 91,
     "metadata": {},
     "output_type": "execute_result"
    }
   ],
   "source": [
    "extended_embeddings = np.concatenate([special_embeddings, glove.vectors], axis=0)\n",
    "extended_embeddings.shape"
   ]
  },
  {
   "cell_type": "code",
   "execution_count": 92,
   "metadata": {
    "colab": {
     "base_uri": "https://localhost:8080/"
    },
    "id": "fMTUfdESPIpT",
    "outputId": "0b19685f-8abf-4b49-aae9-47c967b29dc2"
   },
   "outputs": [
    {
     "data": {
      "text/plain": [
       "True"
      ]
     },
     "execution_count": 92,
     "metadata": {},
     "output_type": "execute_result"
    }
   ],
   "source": [
    "alice_idx = glove_tokenizer.encode('alice', add_special_tokens=False)\n",
    "np.all(extended_embeddings[alice_idx] == glove['alice'])"
   ]
  },
  {
   "cell_type": "markdown",
   "metadata": {
    "id": "k8_PGFaXPIpU"
   },
   "source": [
    "## Model I - GloVe + Classifier"
   ]
  },
  {
   "cell_type": "markdown",
   "metadata": {
    "id": "rzpeWYcdPIpU"
   },
   "source": [
    "### Data Preparation"
   ]
  },
  {
   "cell_type": "code",
   "execution_count": 93,
   "metadata": {
    "id": "QOc1ZhgdPIpU"
   },
   "outputs": [],
   "source": [
    "train_sentences = train_dataset['sentence']\n",
    "train_labels = train_dataset['labels']\n",
    "\n",
    "test_sentences = test_dataset['sentence']\n",
    "test_labels = test_dataset['labels']"
   ]
  },
  {
   "cell_type": "code",
   "execution_count": 94,
   "metadata": {
    "id": "r5SLBMioPIpU"
   },
   "outputs": [],
   "source": [
    "train_ids = glove_tokenizer(train_sentences,\n",
    "                            truncation=True,\n",
    "                            padding=True,\n",
    "                            max_length=60,\n",
    "                            add_special_tokens=False,\n",
    "                            return_tensors='pt')['input_ids']\n",
    "train_labels = torch.as_tensor(train_labels).float().view(-1, 1)\n",
    "\n",
    "test_ids = glove_tokenizer(test_sentences,\n",
    "                           truncation=True,\n",
    "                           padding=True,\n",
    "                           max_length=60,\n",
    "                           add_special_tokens=False,\n",
    "                           return_tensors='pt')['input_ids']\n",
    "test_labels = torch.as_tensor(test_labels).float().view(-1, 1)"
   ]
  },
  {
   "cell_type": "code",
   "execution_count": 95,
   "metadata": {
    "id": "3Gy9RIDEPIpU"
   },
   "outputs": [],
   "source": [
    "train_tensor_dataset = TensorDataset(train_ids, train_labels)\n",
    "generator = torch.Generator()\n",
    "train_loader = DataLoader(train_tensor_dataset, batch_size=32, shuffle=True, generator=generator)\n",
    "test_tensor_dataset = TensorDataset(test_ids, test_labels)\n",
    "test_loader = DataLoader(test_tensor_dataset, batch_size=32)"
   ]
  },
  {
   "cell_type": "markdown",
   "metadata": {
    "id": "j-3CdOpWPIpU"
   },
   "source": [
    "### Pre-Trained PyTorch Embeddings"
   ]
  },
  {
   "cell_type": "code",
   "execution_count": 96,
   "metadata": {
    "id": "bGxrKlyDPIpV"
   },
   "outputs": [],
   "source": [
    "extended_embeddings = torch.as_tensor(extended_embeddings).float()\n",
    "torch_embeddings = nn.Embedding.from_pretrained(extended_embeddings)"
   ]
  },
  {
   "cell_type": "code",
   "execution_count": 97,
   "metadata": {
    "colab": {
     "base_uri": "https://localhost:8080/"
    },
    "id": "SpdJmQNsPIpV",
    "outputId": "904dd913-7461-4f2e-d2d9-58ec024d0214"
   },
   "outputs": [
    {
     "data": {
      "text/plain": [
       "tensor([[   63,     2, 16315,  ...,     0,     0,     0],\n",
       "        [  102,    20, 22120,  ...,     0,     0,     0],\n",
       "        [  199, 26230,    66,  ...,     0,     0,     0],\n",
       "        ...,\n",
       "        [   73, 10580,    37,  ...,     0,     0,     0],\n",
       "        [    2, 12427, 24150,  ...,     0,     0,     0],\n",
       "        [ 2319,     3,    21,  ...,     0,     0,     0]])"
      ]
     },
     "execution_count": 97,
     "metadata": {},
     "output_type": "execute_result"
    }
   ],
   "source": [
    "token_ids, labels = next(iter(train_loader))\n",
    "token_ids"
   ]
  },
  {
   "cell_type": "code",
   "execution_count": 98,
   "metadata": {
    "colab": {
     "base_uri": "https://localhost:8080/"
    },
    "id": "rwyGjFNSPIpV",
    "outputId": "711a6f73-1fe1-4213-f832-1b62257911a3"
   },
   "outputs": [
    {
     "data": {
      "text/plain": [
       "torch.Size([32, 60, 50])"
      ]
     },
     "execution_count": 98,
     "metadata": {},
     "output_type": "execute_result"
    }
   ],
   "source": [
    "token_embeddings = torch_embeddings(token_ids)\n",
    "token_embeddings.shape"
   ]
  },
  {
   "cell_type": "code",
   "execution_count": 99,
   "metadata": {
    "colab": {
     "base_uri": "https://localhost:8080/"
    },
    "id": "UIHGuQ4WPIpV",
    "outputId": "dd7ad341-fb98-4e26-ab39-6d631fdd2116"
   },
   "outputs": [
    {
     "data": {
      "text/plain": [
       "tensor([[ 4.7639e-02,  5.8086e-02, -8.9823e-02,  ..., -2.9921e-01,\n",
       "          5.4377e-02, -1.8024e-01],\n",
       "        [ 5.5755e-02, -1.2622e-02, -3.7579e-02,  ..., -1.6176e-01,\n",
       "          3.5995e-02, -1.2326e-01],\n",
       "        [ 5.7766e-02,  6.9307e-03, -2.4787e-04,  ...,  3.0591e-02,\n",
       "         -9.5373e-03,  1.7501e-02],\n",
       "        ...,\n",
       "        [ 1.9234e-01,  2.3260e-01, -1.1317e-01,  ..., -2.4776e-01,\n",
       "         -5.3054e-02,  5.9994e-02],\n",
       "        [ 3.1925e-02, -1.1354e-02, -4.3769e-02,  ..., -3.6514e-02,\n",
       "         -2.9422e-03, -1.3578e-02],\n",
       "        [ 2.4775e-01,  1.6112e-01, -3.8034e-02,  ..., -1.7135e-01,\n",
       "         -3.1186e-02,  1.2527e-02]])"
      ]
     },
     "execution_count": 99,
     "metadata": {},
     "output_type": "execute_result"
    }
   ],
   "source": [
    "token_embeddings.mean(dim=1)"
   ]
  },
  {
   "cell_type": "code",
   "execution_count": 100,
   "metadata": {
    "colab": {
     "base_uri": "https://localhost:8080/"
    },
    "id": "PT2eZ1EqPIpV",
    "outputId": "d3e5d701-3323-4d4f-8847-28a71b299476"
   },
   "outputs": [
    {
     "data": {
      "text/plain": [
       "tensor([[ 4.7639e-02,  5.8086e-02, -8.9823e-02,  ..., -2.9921e-01,\n",
       "          5.4377e-02, -1.8024e-01],\n",
       "        [ 5.5755e-02, -1.2622e-02, -3.7579e-02,  ..., -1.6176e-01,\n",
       "          3.5995e-02, -1.2326e-01],\n",
       "        [ 5.7766e-02,  6.9307e-03, -2.4787e-04,  ...,  3.0591e-02,\n",
       "         -9.5373e-03,  1.7501e-02],\n",
       "        ...,\n",
       "        [ 1.9234e-01,  2.3260e-01, -1.1317e-01,  ..., -2.4776e-01,\n",
       "         -5.3054e-02,  5.9994e-02],\n",
       "        [ 3.1925e-02, -1.1354e-02, -4.3769e-02,  ..., -3.6514e-02,\n",
       "         -2.9422e-03, -1.3578e-02],\n",
       "        [ 2.4775e-01,  1.6112e-01, -3.8034e-02,  ..., -1.7135e-01,\n",
       "         -3.1186e-02,  1.2527e-02]])"
      ]
     },
     "execution_count": 100,
     "metadata": {},
     "output_type": "execute_result"
    }
   ],
   "source": [
    "boe_mean = nn.EmbeddingBag.from_pretrained(extended_embeddings, mode='mean')\n",
    "boe_mean(token_ids)"
   ]
  },
  {
   "cell_type": "markdown",
   "metadata": {
    "id": "UDyYigyhPIpV"
   },
   "source": [
    "### Model Configuration & Training"
   ]
  },
  {
   "cell_type": "code",
   "execution_count": 101,
   "metadata": {
    "id": "3yaB00G4PIpW"
   },
   "outputs": [],
   "source": [
    "extended_embeddings = torch.as_tensor(extended_embeddings).float()\n",
    "boe_mean = nn.EmbeddingBag.from_pretrained(\n",
    "    extended_embeddings, mode='mean'\n",
    ")\n",
    "torch.manual_seed(41)\n",
    "model = nn.Sequential(\n",
    "    # Embeddings\n",
    "    boe_mean,\n",
    "    # Classifier\n",
    "    nn.Linear(boe_mean.embedding_dim, 128),\n",
    "    nn.ReLU(),\n",
    "    nn.Linear(128, 1)\n",
    ")\n",
    "loss_fn = nn.BCEWithLogitsLoss()\n",
    "optimizer = optim.Adam(model.parameters(), lr=0.01)"
   ]
  },
  {
   "cell_type": "code",
   "execution_count": 102,
   "metadata": {
    "id": "KTWpbPdfPIpW"
   },
   "outputs": [],
   "source": [
    "sbs_emb = StepByStep(model, loss_fn, optimizer)\n",
    "sbs_emb.set_loaders(train_loader, test_loader)\n",
    "sbs_emb.train(20)"
   ]
  },
  {
   "cell_type": "code",
   "execution_count": 103,
   "metadata": {
    "colab": {
     "base_uri": "https://localhost:8080/",
     "height": 395
    },
    "id": "qiaVP9uvPIpW",
    "outputId": "a2f11e81-552d-4baa-d723-d38ccc6a5b40"
   },
   "outputs": [
    {
     "data": {
      "image/png": "[encoded data removed]",
      "text/plain": [
       "<Figure size 1000x400 with 1 Axes>"
      ]
     },
     "metadata": {},
     "output_type": "display_data"
    }
   ],
   "source": [
    "fig = sbs_emb.plot_losses()"
   ]
  },
  {
   "cell_type": "code",
   "execution_count": 104,
   "metadata": {
    "colab": {
     "base_uri": "https://localhost:8080/"
    },
    "id": "ZCKFSECRPIpW",
    "outputId": "b477d2d6-f513-4c01-a04d-4633fbc33ef8"
   },
   "outputs": [
    {
     "data": {
      "text/plain": [
       "tensor([[423, 447],\n",
       "        [271, 324]])"
      ]
     },
     "execution_count": 104,
     "metadata": {},
     "output_type": "execute_result"
    }
   ],
   "source": [
    "StepByStep.loader_apply(test_loader, sbs_emb.correct)"
   ]
  },
  {
   "cell_type": "markdown",
   "metadata": {
    "id": "_kqa22QNPIpX"
   },
   "source": [
    "## Model II - GloVe + Transformer"
   ]
  },
  {
   "cell_type": "code",
   "execution_count": 105,
   "metadata": {
    "id": "MH3DdVEFPIpX"
   },
   "outputs": [],
   "source": [
    "class TransfClassifier(nn.Module):\n",
    "    def __init__(self, embedding_layer, encoder, n_outputs):\n",
    "        super().__init__()\n",
    "        self.d_model = encoder.d_model\n",
    "        self.n_outputs = n_outputs\n",
    "        self.encoder = encoder\n",
    "        self.mlp = nn.Linear(self.d_model, n_outputs)\n",
    "\n",
    "        self.embed = embedding_layer\n",
    "        self.cls_token = nn.Parameter(torch.zeros(1, 1, self.d_model))\n",
    "\n",
    "    def preprocess(self, X):\n",
    "        # N, L -> N, L, D\n",
    "        src = self.embed(X)\n",
    "        # Special classifier token\n",
    "        # 1, 1, D -> N, 1, D\n",
    "        cls_tokens = self.cls_token.expand(X.size(0), -1, -1)\n",
    "        # Concatenates CLS tokens -> N, 1 + L, D\n",
    "        src = torch.cat((cls_tokens, src), dim=1)\n",
    "        return src\n",
    "\n",
    "    def encode(self, source, source_mask=None):\n",
    "        # Encoder generates \"hidden states\"\n",
    "        states = self.encoder(source, source_mask)\n",
    "        # Gets state from first token only: [CLS]\n",
    "        cls_state = states[:, 0]  # N, 1, D\n",
    "        return cls_state\n",
    "\n",
    "    @staticmethod\n",
    "    def source_mask(X):\n",
    "        cls_mask = torch.ones(X.size(0), 1).type_as(X)\n",
    "        pad_mask = torch.cat((cls_mask, X > 0), dim=1).bool()\n",
    "        return pad_mask.unsqueeze(1)\n",
    "\n",
    "    def forward(self, X):\n",
    "        src = self.preprocess(X)\n",
    "        # Featurizer\n",
    "        cls_state = self.encode(src, self.source_mask(X))\n",
    "        # Classifier\n",
    "        out = self.mlp(cls_state) # N, 1, outputs\n",
    "        return out"
   ]
  },
  {
   "cell_type": "code",
   "execution_count": 106,
   "metadata": {
    "id": "aUum393hPIpX"
   },
   "outputs": [],
   "source": [
    "torch.manual_seed(33)\n",
    "# Loads the pretrained GloVe embeddings into an embedding layer\n",
    "torch_embeddings = nn.Embedding.from_pretrained(extended_embeddings)\n",
    "# Creates a Transformer Encoder\n",
    "layer = EncoderLayer(n_heads=2, d_model=torch_embeddings.embedding_dim, ff_units=128)\n",
    "encoder = EncoderTransf(layer, n_layers=1)\n",
    "# Uses both layers above to build our model\n",
    "model = TransfClassifier(torch_embeddings, encoder, n_outputs=1)\n",
    "loss_fn = nn.BCEWithLogitsLoss()\n",
    "optimizer = optim.Adam(model.parameters(), lr=1e-4)"
   ]
  },
  {
   "cell_type": "code",
   "execution_count": 107,
   "metadata": {
    "id": "2mBjsLwHPIpX"
   },
   "outputs": [],
   "source": [
    "sbs_transf = StepByStep(model, loss_fn, optimizer)\n",
    "sbs_transf.set_loaders(train_loader, test_loader)\n",
    "sbs_transf.train(10)"
   ]
  },
  {
   "cell_type": "code",
   "execution_count": 108,
   "metadata": {
    "colab": {
     "base_uri": "https://localhost:8080/",
     "height": 395
    },
    "id": "4CwpEol1PIpY",
    "outputId": "2e6f1481-7f35-4fd2-d26b-2921f7a28c25"
   },
   "outputs": [
    {
     "data": {
      "image/png": "[encoded data removed]",
      "text/plain": [
       "<Figure size 1000x400 with 1 Axes>"
      ]
     },
     "metadata": {},
     "output_type": "display_data"
    }
   ],
   "source": [
    "fig = sbs_transf.plot_losses()"
   ]
  },
  {
   "cell_type": "code",
   "execution_count": 109,
   "metadata": {
    "colab": {
     "base_uri": "https://localhost:8080/"
    },
    "id": "HPQvdYWVPIpY",
    "outputId": "7bc90613-c4cc-4f84-fb78-741a6f061376"
   },
   "outputs": [
    {
     "data": {
      "text/plain": [
       "tensor([[430, 447],\n",
       "        [284, 324]])"
      ]
     },
     "execution_count": 109,
     "metadata": {},
     "output_type": "execute_result"
    }
   ],
   "source": [
    "StepByStep.loader_apply(test_loader, sbs_transf.correct)"
   ]
  },
  {
   "cell_type": "markdown",
   "metadata": {
    "id": "8Xh8xxgTPIpY"
   },
   "source": [
    "### Visualizing Attention"
   ]
  },
  {
   "cell_type": "code",
   "execution_count": 110,
   "metadata": {
    "colab": {
     "base_uri": "https://localhost:8080/"
    },
    "id": "i5_67okaPIpY",
    "outputId": "6aad22a7-dce6-4973-f9dd-e697587044fd"
   },
   "outputs": [
    {
     "data": {
      "text/plain": [
       "tensor([[    2,   300, 12427,     7,  7101,  1423,   422],\n",
       "        [    2,  6659,   811, 11238,    15,     2,   588]], device='cuda:0')"
      ]
     },
     "execution_count": 110,
     "metadata": {},
     "output_type": "execute_result"
    }
   ],
   "source": [
    "sentences = ['The white rabbit and Alice ran away', 'The lion met Dorothy on the road']\n",
    "inputs = glove_tokenizer(sentences, add_special_tokens=False, return_tensors='pt')['input_ids']\n",
    "inputs = inputs.to(sbs_transf.device)\n",
    "inputs"
   ]
  },
  {
   "cell_type": "code",
   "execution_count": 111,
   "metadata": {
    "colab": {
     "base_uri": "https://localhost:8080/"
    },
    "id": "Cu3MXRxgPIpZ",
    "outputId": "d75679aa-df51-44f6-a5a6-55cd7e1325f6"
   },
   "outputs": [
    {
     "data": {
      "text/plain": [
       "tensor([[0.9883],\n",
       "        [0.0093]], device='cuda:0', grad_fn=<SigmoidBackward0>)"
      ]
     },
     "execution_count": 111,
     "metadata": {},
     "output_type": "execute_result"
    }
   ],
   "source": [
    "sbs_transf.model.eval()\n",
    "out = sbs_transf.model(inputs)\n",
    "# our model outputs logits, so we turn them into probs\n",
    "torch.sigmoid(out)"
   ]
  },
  {
   "cell_type": "code",
   "execution_count": 112,
   "metadata": {
    "colab": {
     "base_uri": "https://localhost:8080/"
    },
    "id": "4Nld9xIhPIpZ",
    "outputId": "7915002f-398d-4011-e276-b08d3b5090af"
   },
   "outputs": [
    {
     "data": {
      "text/plain": [
       "tensor([[[2.9222e-01, 6.1641e-02, 1.7531e-01, 1.4711e-01, 9.3683e-02,\n",
       "          1.6146e-01, 5.5209e-02, 1.3368e-02],\n",
       "         [5.5408e-05, 4.6049e-03, 4.9222e-03, 1.3957e-01, 3.1658e-03,\n",
       "          8.4394e-01, 1.7378e-03, 2.0026e-03]],\n",
       "\n",
       "        [[7.2964e-02, 1.5391e-02, 1.0228e-01, 6.3236e-02, 6.4430e-01,\n",
       "          9.5831e-03, 1.4200e-02, 7.8049e-02],\n",
       "         [3.7525e-04, 3.1186e-02, 3.3432e-01, 3.3407e-02, 4.6640e-01,\n",
       "          5.5731e-02, 3.7347e-02, 4.1234e-02]]], device='cuda:0')"
      ]
     },
     "execution_count": 112,
     "metadata": {},
     "output_type": "execute_result"
    }
   ],
   "source": [
    "alphas = sbs_transf.model.encoder.layers[0].self_attn_heads.alphas\n",
    "alphas[:, :, 0, :].squeeze()"
   ]
  },
  {
   "cell_type": "code",
   "execution_count": 113,
   "metadata": {
    "colab": {
     "base_uri": "https://localhost:8080/",
     "height": 259
    },
    "id": "B5gATXCkPIpZ",
    "outputId": "c0e7ea1e-a714-4172-e335-fe313a82d076"
   },
   "outputs": [
    {
     "name": "stderr",
     "output_type": "stream",
     "text": [
      "/content/plots/chapter11.py:50: UserWarning: FixedFormatter should only be used together with FixedLocator\n",
      "  ax.set_yticklabels(['', f'Head #{i}', ''])\n"
     ]
    },
    {
     "data": {
      "image/png": "[encoded data removed]",
      "text/plain": [
       "<Figure size 1600x200 with 4 Axes>"
      ]
     },
     "metadata": {},
     "output_type": "display_data"
    }
   ],
   "source": [
    "tokens = [['[CLS]'] + glove_tokenizer.tokenize(sent) for sent in sentences]\n",
    "fig = plot_attention(tokens, alphas)"
   ]
  },
  {
   "cell_type": "markdown",
   "metadata": {
    "id": "dNXPXiSlPIpa"
   },
   "source": [
    "# Contextual Word Embeddings"
   ]
  },
  {
   "cell_type": "markdown",
   "metadata": {
    "id": "J5oqS0x7PIpa"
   },
   "source": [
    "## ELMo"
   ]
  },
  {
   "cell_type": "code",
   "execution_count": 114,
   "metadata": {
    "id": "5N8dJJJmPIpa"
   },
   "outputs": [],
   "source": [
    "watch1 = \"\"\"\n",
    "The Hatter was the first to break the silence. `What day of the month is it?' he said, turning to Alice:  he had taken his watch out of his pocket, and was looking at it uneasily, shaking it every now and then, and holding it to his ear.\n",
    "\"\"\"\n",
    "\n",
    "watch2 = \"\"\"\n",
    "Alice thought this a very curious thing, and she went nearer to watch them, and just as she came up to them she heard one of them say, `Look out now, Five!  Don't go splashing paint over me like that!\n",
    "\"\"\"\n",
    "\n",
    "sentences = [watch1, watch2]"
   ]
  },
  {
   "cell_type": "code",
   "execution_count": 115,
   "metadata": {
    "colab": {
     "base_uri": "https://localhost:8080/"
    },
    "id": "1M_qVWdNPIpa",
    "outputId": "e7af3e35-20f9-4b4a-af57-28bc426e3f9a"
   },
   "outputs": [
    {
     "data": {
      "text/plain": [
       "Sentence[58]: \" The Hatter was the first to break the silence. `What day of the month is it?' he said, turning to Alice:  he had taken his watch out of his pocket, and was looking at it uneasily, shaking it every now and then, and holding it to his ear.\""
      ]
     },
     "execution_count": 115,
     "metadata": {},
     "output_type": "execute_result"
    }
   ],
   "source": [
    "from flair.data import Sentence\n",
    "\n",
    "flair_sentences = [Sentence(s) for s in sentences]\n",
    "flair_sentences[0]"
   ]
  },
  {
   "cell_type": "code",
   "execution_count": 116,
   "metadata": {
    "colab": {
     "base_uri": "https://localhost:8080/"
    },
    "id": "HsasoxvnPIpb",
    "outputId": "ad9b45ac-d715-4dcc-8b10-aa934c4607c8"
   },
   "outputs": [
    {
     "data": {
      "text/plain": [
       "Token[31]: \"watch\""
      ]
     },
     "execution_count": 116,
     "metadata": {},
     "output_type": "execute_result"
    }
   ],
   "source": [
    "flair_sentences[0].get_token(32)"
   ]
  },
  {
   "cell_type": "code",
   "execution_count": 117,
   "metadata": {
    "colab": {
     "base_uri": "https://localhost:8080/"
    },
    "id": "bdaPu5VNPIpb",
    "outputId": "4d4a6572-2ab9-4079-fe14-414dbdd91814"
   },
   "outputs": [
    {
     "data": {
      "text/plain": [
       "Token[31]: \"watch\""
      ]
     },
     "execution_count": 117,
     "metadata": {},
     "output_type": "execute_result"
    }
   ],
   "source": [
    "flair_sentences[0].tokens[31]"
   ]
  },
  {
   "cell_type": "code",
   "execution_count": 135,
   "metadata": {
    "id": "g_iTjhAuPIpb"
   },
   "outputs": [],
   "source": [
    "# UPDATED\n",
    "###########################################################\n",
    "# Unfortunately, ELMO embeddings were returned by flair\n",
    "# using the allennlp library that has been archived.\n",
    "# from flair.embeddings import ELMoEmbeddings\n",
    "# elmo = ELMoEmbeddings()\n",
    "\n",
    "# As replacement, we'll be using flair's own embeddings instead\n",
    "from flair.embeddings import FlairEmbeddings\n",
    "flair_emb = FlairEmbeddings('news-forward')\n",
    "###########################################################"
   ]
  },
  {
   "cell_type": "code",
   "execution_count": 136,
   "metadata": {
    "colab": {
     "base_uri": "https://localhost:8080/"
    },
    "id": "wZOGM9xpPIpb",
    "outputId": "2128428c-9248-410e-d42f-4136d02e009c"
   },
   "outputs": [
    {
     "data": {
      "text/plain": [
       "[Sentence[58]: \" The Hatter was the first to break the silence. `What day of the month is it?' he said, turning to Alice:  he had taken his watch out of his pocket, and was looking at it uneasily, shaking it every now and then, and holding it to his ear.\",\n",
       " Sentence[48]: \" Alice thought this a very curious thing, and she went nearer to watch them, and just as she came up to them she heard one of them say, `Look out now, Five!  Don't go splashing paint over me like that!\"]"
      ]
     },
     "execution_count": 136,
     "metadata": {},
     "output_type": "execute_result"
    }
   ],
   "source": [
    "# UPDATED\n",
    "###########################################################\n",
    "# Instead of elmo, embeds sentences using flair embeddings\n",
    "# elmo.embed(flair_sentences)\n",
    "flair_emb.embed(flair_sentences)\n",
    "###########################################################"
   ]
  },
  {
   "cell_type": "code",
   "execution_count": 137,
   "metadata": {
    "colab": {
     "base_uri": "https://localhost:8080/"
    },
    "id": "UdFVdgRZPIpc",
    "outputId": "d66dc5e5-11c4-4b5c-b0f0-fb557f4effc2"
   },
   "outputs": [
    {
     "data": {
      "text/plain": [
       "(Token[31]: \"watch\", Token[13]: \"watch\")"
      ]
     },
     "execution_count": 137,
     "metadata": {},
     "output_type": "execute_result"
    }
   ],
   "source": [
    "token_watch1 = flair_sentences[0].tokens[31]\n",
    "token_watch2 = flair_sentences[1].tokens[13]\n",
    "token_watch1, token_watch2"
   ]
  },
  {
   "cell_type": "code",
   "execution_count": 138,
   "metadata": {
    "colab": {
     "base_uri": "https://localhost:8080/"
    },
    "id": "3XbrpwUfPIpc",
    "outputId": "4b410d99-62dd-455d-d43f-aae5c1bed9e6"
   },
   "outputs": [
    {
     "data": {
      "text/plain": [
       "(tensor([-0.0007, -0.0057,  0.0187,  ..., -0.0051, -0.0022,  0.0026],\n",
       "        device='cuda:0'),\n",
       " tensor([-0.0011, -0.0037,  0.1031,  ..., -0.0079, -0.0044,  0.0002],\n",
       "        device='cuda:0'))"
      ]
     },
     "execution_count": 138,
     "metadata": {},
     "output_type": "execute_result"
    }
   ],
   "source": [
    "token_watch1.embedding, token_watch2.embedding"
   ]
  },
  {
   "cell_type": "markdown",
   "metadata": {
    "id": "ucsg8w21PIpd"
   },
   "source": [
    "### Where do ELMo Embeddings come from?\n",
    "\n",
    "![](https://github.com/dvgodoy/PyTorchStepByStep/blob/master/images/elmo_lstm.png?raw=1)\n",
    "\n",
    "![](https://github.com/dvgodoy/PyTorchStepByStep/blob/master/images/elmo_embed.png?raw=1)"
   ]
  },
  {
   "cell_type": "code",
   "execution_count": 139,
   "metadata": {
    "id": "AehQ4275PIpd"
   },
   "outputs": [],
   "source": [
    "# UPDATED\n",
    "###########################################################\n",
    "# Unfortunately, this piece of code only makes sense for\n",
    "# ELMO embeddings. Flair embeddings are structured differently\n",
    "# and therefore this code is commented out.\n",
    "# token_watch1.embedding[0], token_watch1.embedding[512]\n",
    "###########################################################"
   ]
  },
  {
   "cell_type": "code",
   "execution_count": 140,
   "metadata": {
    "id": "VFAgysccPIpd"
   },
   "outputs": [],
   "source": [
    "# UPDATED\n",
    "###########################################################\n",
    "# Unfortunately, this piece of code only makes sense for\n",
    "# ELMO embeddings. Flair embeddings are structured differently\n",
    "# and therefore this code is commented out.\n",
    "# (token_watch1.embedding[:1024] == token_watch2.embedding[:1024]).all()\n",
    "###########################################################"
   ]
  },
  {
   "cell_type": "code",
   "execution_count": 141,
   "metadata": {
    "colab": {
     "base_uri": "https://localhost:8080/"
    },
    "id": "3hxX2iMHPIpd",
    "outputId": "fd30d170-0925-4cf9-f300-6239598fe3ea",
    "scrolled": true
   },
   "outputs": [
    {
     "data": {
      "text/plain": [
       "tensor(0.5003, device='cuda:0')"
      ]
     },
     "execution_count": 141,
     "metadata": {},
     "output_type": "execute_result"
    }
   ],
   "source": [
    "similarity = nn.CosineSimilarity(dim=0, eps=1e-6)\n",
    "similarity(token_watch1.embedding, token_watch2.embedding)"
   ]
  },
  {
   "cell_type": "code",
   "execution_count": 142,
   "metadata": {
    "id": "jF_w6p-rPIpe"
   },
   "outputs": [],
   "source": [
    "def get_embeddings(embeddings, sentence):\n",
    "    sent = Sentence(sentence)\n",
    "    embeddings.embed(sent)\n",
    "    return torch.stack([token.embedding for token in sent.tokens]).float()"
   ]
  },
  {
   "cell_type": "code",
   "execution_count": 143,
   "metadata": {
    "colab": {
     "base_uri": "https://localhost:8080/"
    },
    "id": "kEU5nynEPIpe",
    "outputId": "0accaad5-cbb9-4c33-dab9-36226e8ec797",
    "scrolled": true
   },
   "outputs": [
    {
     "data": {
      "text/plain": [
       "tensor([[-2.0933e-03,  5.0415e-04,  4.6944e-02,  ..., -4.4014e-04,\n",
       "         -3.9301e-02,  1.0601e-02],\n",
       "        [ 3.2224e-04,  1.4939e-03,  2.5947e-02,  ..., -9.2415e-04,\n",
       "         -1.4211e-02,  3.0942e-03],\n",
       "        [ 1.7407e-03, -1.8324e-04,  5.3375e-02,  ...,  4.5165e-04,\n",
       "          5.4484e-02,  9.7125e-03],\n",
       "        ...,\n",
       "        [ 2.2250e-03,  2.2138e-04,  4.4385e-02,  ..., -3.9766e-03,\n",
       "         -7.9449e-04,  2.2444e-02],\n",
       "        [-2.2455e-03,  9.7197e-04,  3.4624e-02,  ..., -7.1559e-05,\n",
       "          1.2647e-02,  1.3210e-02],\n",
       "        [ 1.0997e-03,  8.4726e-05,  1.5534e-01,  ..., -1.5737e-04,\n",
       "          9.5801e-04,  5.3785e-03]], device='cuda:0')"
      ]
     },
     "execution_count": 143,
     "metadata": {},
     "output_type": "execute_result"
    }
   ],
   "source": [
    "# UPDATED\n",
    "###########################################################\n",
    "# Instead of elmo, embeds sentences using flair embeddings\n",
    "# get_embeddings(elmo, watch1)\n",
    "get_embeddings(flair_emb, watch1)\n",
    "###########################################################"
   ]
  },
  {
   "cell_type": "markdown",
   "metadata": {
    "id": "fX_xJposPIpe"
   },
   "source": [
    "## GloVe"
   ]
  },
  {
   "cell_type": "code",
   "execution_count": 144,
   "metadata": {
    "colab": {
     "base_uri": "https://localhost:8080/"
    },
    "id": "p7Y54X9_PIpe",
    "outputId": "45f4525f-a095-408a-98b4-95d29c3b12a8"
   },
   "outputs": [
    {
     "name": "stdout",
     "output_type": "stream",
     "text": [
      "2023-08-27 14:19:26,019 https://flair.informatik.hu-berlin.de/resources/embeddings/token/glove.gensim.vectors.npy not found in cache, downloading to /tmp/tmpk1h0brjh\n"
     ]
    },
    {
     "name": "stderr",
     "output_type": "stream",
     "text": [
      "100%|██████████| 153M/153M [00:09<00:00, 16.4MB/s]"
     ]
    },
    {
     "name": "stdout",
     "output_type": "stream",
     "text": [
      "2023-08-27 14:19:36,402 copying /tmp/tmpk1h0brjh to cache at /root/.flair/embeddings/glove.gensim.vectors.npy\n"
     ]
    },
    {
     "name": "stderr",
     "output_type": "stream",
     "text": [
      "\n"
     ]
    },
    {
     "name": "stdout",
     "output_type": "stream",
     "text": [
      "2023-08-27 14:19:36,724 removing temp file /tmp/tmpk1h0brjh\n",
      "2023-08-27 14:19:37,425 https://flair.informatik.hu-berlin.de/resources/embeddings/token/glove.gensim not found in cache, downloading to /tmp/tmpev4zf1hw\n"
     ]
    },
    {
     "name": "stderr",
     "output_type": "stream",
     "text": [
      "100%|██████████| 20.5M/20.5M [00:02<00:00, 9.83MB/s]"
     ]
    },
    {
     "name": "stdout",
     "output_type": "stream",
     "text": [
      "2023-08-27 14:19:40,243 copying /tmp/tmpev4zf1hw to cache at /root/.flair/embeddings/glove.gensim\n",
      "2023-08-27 14:19:40,267 removing temp file /tmp/tmpev4zf1hw\n"
     ]
    },
    {
     "name": "stderr",
     "output_type": "stream",
     "text": [
      "\n"
     ]
    }
   ],
   "source": [
    "from flair.embeddings import WordEmbeddings\n",
    "glove_embedding = WordEmbeddings('glove')"
   ]
  },
  {
   "cell_type": "code",
   "execution_count": 145,
   "metadata": {
    "colab": {
     "base_uri": "https://localhost:8080/"
    },
    "id": "mibBx6mvPIpe",
    "outputId": "c8faa86a-17ac-44c2-fb49-ccc037df0b45"
   },
   "outputs": [
    {
     "data": {
      "text/plain": [
       "[Sentence[58]: \" The Hatter was the first to break the silence. `What day of the month is it?' he said, turning to Alice:  he had taken his watch out of his pocket, and was looking at it uneasily, shaking it every now and then, and holding it to his ear.\",\n",
       " Sentence[48]: \" Alice thought this a very curious thing, and she went nearer to watch them, and just as she came up to them she heard one of them say, `Look out now, Five!  Don't go splashing paint over me like that!\"]"
      ]
     },
     "execution_count": 145,
     "metadata": {},
     "output_type": "execute_result"
    }
   ],
   "source": [
    "new_flair_sentences = [Sentence(s) for s in sentences]\n",
    "glove_embedding.embed(new_flair_sentences)"
   ]
  },
  {
   "cell_type": "code",
   "execution_count": 146,
   "metadata": {
    "colab": {
     "base_uri": "https://localhost:8080/"
    },
    "id": "WzaqGrPBPIpf",
    "outputId": "9366b528-e815-444b-c1c7-212b10b30e43"
   },
   "outputs": [
    {
     "data": {
      "text/plain": [
       "tensor(True, device='cuda:0')"
      ]
     },
     "execution_count": 146,
     "metadata": {},
     "output_type": "execute_result"
    }
   ],
   "source": [
    "torch.all(new_flair_sentences[0].tokens[31].embedding == new_flair_sentences[1].tokens[13].embedding)"
   ]
  },
  {
   "cell_type": "markdown",
   "metadata": {
    "id": "mIH-ZF35PIpf"
   },
   "source": [
    "## BERT"
   ]
  },
  {
   "cell_type": "code",
   "execution_count": 147,
   "metadata": {
    "colab": {
     "base_uri": "https://localhost:8080/",
     "height": 177,
     "referenced_widgets": [
      "afb9bfef678240eea5b8890258302834",
      "29a95b9254be492ba40595dbd4d56c2b",
      "7bb936c783ab402b870cf609dd9d3129",
      "589cc9d8dd0b40d5abb92bb83398f8c6",
      "6b5f3c6e7aa941799ea143fbaf6391ed",
      "099d406c76b44870be13ee5b3134a7de",
      "326894b89a9e471d8b3d13eb3c44ebdc",
      "5716cea9e8d84a289fe0760bcbc76d6a",
      "314323441385434a98cecb6fd4aaf2e3",
      "4801fffa2c324ebbac52ed45d6cc5be8",
      "97c86ac930a247b49bf111db20690f9f",
      "8d289b405a544e84a1694b0079a7ce4a",
      "eaa192d1608f4322854a8bf88242cfa7",
      "e2925c6848c0450b8150dbbc9197f7b4",
      "96787f87f23b4ceaa33955126aa9c252",
      "23cf666f7f614867a350e9ef44020040",
      "890bcfb8c23046808a22581da6107878",
      "110fcccc17cd464fb2b61838c02c45a0",
      "2b6f2219e25b4f70a21aab7dc67f210d",
      "0d47571efe944cb3bcd4062deef28a76",
      "8572ccf616654eca94d5699122aa51ce",
      "61f7bb49e16e486781de91a2975dc83e",
      "a1f68db900cd4f86a7add2b3866ce6e7",
      "4148fdd044b742829876144096e3d247",
      "717a6caa55834da9bdeb736a8bb9192f",
      "610cb20066c34d948550f9560e498430",
      "3721e8f28e1b4547aaedcd760bdfd69a",
      "b6f29e196ff944b8964a7ccf2a29aae5",
      "cbdcba4e4c4c4ec69224ebde008c16a8",
      "241a564f58564f3690a3955def8e997f",
      "11bea8fc0ead466bbb93aec568aaf1ae",
      "e34df6b7762b42169b6a38cb1db49c79",
      "cdad8f4cd3dd4e15be22b26eeb81813d",
      "089fea1d6a6744ae80454aa101f5898e",
      "5ddaead5423c4750aa5ceabb2f35e860",
      "cb0258347d984bdbac59ec33811f51b5",
      "efd84a7954324854a1d0fc0a533de65e",
      "1cd3ac215fd04246af43ad48f3a02633",
      "73f44d8a81bf480d831cc2630a054185",
      "b778db445dad4a328e2906d989745d53",
      "131e7124d505464f9e62e06ee7344fd9",
      "4d2c3a69a29243088ff2279457f4de62",
      "8736176520594608bfe10039ab53d571",
      "f898adb2fc6046329e9abae53870ce29",
      "b7f1693ebfac4297b33ff1e4f7091ff7",
      "4feb42875064419fb591079dbd104bfc",
      "980fde34ce5740a09517882962bca862",
      "849fd22e48d64438bb066a446c6bebee",
      "34d97e1f285448d8a67cdd3d3a52ab3c",
      "26e6170d5cd348dfa3a5de35f2e85ec3",
      "fa9f55afbab04780829b12fe4b116da3",
      "b3ad093b5a704c4dbe409b34bbbcb804",
      "632a507543cd43108c278887d0c0e0b3",
      "15d7e137a6ff45a89959fe0794b3894d",
      "7a9ecdfd864a4fcdb561b580069a7f2e"
     ]
    },
    "id": "wppmv3qLPIpf",
    "outputId": "02c69bbb-11a5-444f-c4ce-64582ed2e44a"
   },
   "outputs": [
    {
     "data": {
      "application/vnd.jupyter.widget-view+json": {
       "model_id": "afb9bfef678240eea5b8890258302834",
       "version_major": 2,
       "version_minor": 0
      },
      "text/plain": [
       "Downloading (…)okenizer_config.json:   0%|          | 0.00/28.0 [00:00<?, ?B/s]"
      ]
     },
     "metadata": {},
     "output_type": "display_data"
    },
    {
     "data": {
      "application/vnd.jupyter.widget-view+json": {
       "model_id": "8d289b405a544e84a1694b0079a7ce4a",
       "version_major": 2,
       "version_minor": 0
      },
      "text/plain": [
       "Downloading (…)lve/main/config.json:   0%|          | 0.00/570 [00:00<?, ?B/s]"
      ]
     },
     "metadata": {},
     "output_type": "display_data"
    },
    {
     "data": {
      "application/vnd.jupyter.widget-view+json": {
       "model_id": "a1f68db900cd4f86a7add2b3866ce6e7",
       "version_major": 2,
       "version_minor": 0
      },
      "text/plain": [
       "Downloading (…)solve/main/vocab.txt:   0%|          | 0.00/232k [00:00<?, ?B/s]"
      ]
     },
     "metadata": {},
     "output_type": "display_data"
    },
    {
     "data": {
      "application/vnd.jupyter.widget-view+json": {
       "model_id": "089fea1d6a6744ae80454aa101f5898e",
       "version_major": 2,
       "version_minor": 0
      },
      "text/plain": [
       "Downloading (…)/main/tokenizer.json:   0%|          | 0.00/466k [00:00<?, ?B/s]"
      ]
     },
     "metadata": {},
     "output_type": "display_data"
    },
    {
     "data": {
      "application/vnd.jupyter.widget-view+json": {
       "model_id": "b7f1693ebfac4297b33ff1e4f7091ff7",
       "version_major": 2,
       "version_minor": 0
      },
      "text/plain": [
       "Downloading model.safetensors:   0%|          | 0.00/440M [00:00<?, ?B/s]"
      ]
     },
     "metadata": {},
     "output_type": "display_data"
    }
   ],
   "source": [
    "from flair.embeddings import TransformerWordEmbeddings\n",
    "bert_flair = TransformerWordEmbeddings('bert-base-uncased', layers='-1')"
   ]
  },
  {
   "cell_type": "code",
   "execution_count": 148,
   "metadata": {
    "colab": {
     "base_uri": "https://localhost:8080/"
    },
    "id": "IXKlNCfdPIpf",
    "outputId": "d4d70e52-56db-4c5d-c077-b7d7b23b0002"
   },
   "outputs": [
    {
     "data": {
      "text/plain": [
       "tensor([[ 0.6554, -0.3799, -0.2842,  ...,  0.0601,  0.8865,  0.4760],\n",
       "        [-0.1459, -0.0204, -0.0615,  ..., -0.0257,  0.5052,  0.3324],\n",
       "        [-0.0436, -0.0400, -0.0135,  ...,  0.3920,  0.5231,  0.9067],\n",
       "        ...,\n",
       "        [-0.2582,  0.6933,  0.2688,  ..., -0.0325,  0.0772,  0.2187],\n",
       "        [-0.1868,  0.6398, -0.8127,  ..., -0.5957,  0.2793,  0.1880],\n",
       "        [-0.1021,  0.5222, -0.7142,  ...,  0.3644,  0.0600, -0.1419]],\n",
       "       device='cuda:0')"
      ]
     },
     "execution_count": 148,
     "metadata": {},
     "output_type": "execute_result"
    }
   ],
   "source": [
    "embed1 = get_embeddings(bert_flair, watch1)\n",
    "embed2 = get_embeddings(bert_flair, watch2)\n",
    "embed2"
   ]
  },
  {
   "cell_type": "code",
   "execution_count": 149,
   "metadata": {
    "colab": {
     "base_uri": "https://localhost:8080/"
    },
    "id": "ZNZPqZPUPIpg",
    "outputId": "39b74dcc-a3ad-428a-ff17-eff69b1732fe"
   },
   "outputs": [
    {
     "data": {
      "text/plain": [
       "(tensor([ 8.5760e-01,  3.5888e-01, -3.7825e-01, -8.3564e-01,  1.3528e+00,\n",
       "          1.0204e-01, -8.2618e-01,  3.1570e-01,  3.1091e-01, -4.2653e-01,\n",
       "          1.6632e-01,  7.2439e-02, -1.0276e+00,  4.4680e-01, -1.4549e-01,\n",
       "          1.8315e-01,  3.7484e-01, -4.0245e-01, -1.4190e-01, -5.1596e-01,\n",
       "          1.1984e+00,  6.8202e-01,  1.1028e+00, -4.3955e-02,  1.6932e-02,\n",
       "          7.4420e-01, -1.0604e-01,  3.8719e-01,  7.3662e-02,  2.2424e-01,\n",
       "         -5.0281e-02,  1.9586e-01,  1.0773e+00,  1.0341e+00,  4.4217e-01,\n",
       "         -6.5567e-01, -5.6308e-01, -1.1827e-01,  1.2862e-01,  4.6581e-01,\n",
       "         -7.1305e-01, -1.5682e-01, -1.3552e-01,  4.5852e-02,  8.2849e-03,\n",
       "          5.2762e-01,  1.6906e+00,  5.5388e-01, -7.3777e-02,  5.1504e-01,\n",
       "         -2.0619e-01, -2.9505e-03,  2.5389e-01, -1.5380e-01,  8.4900e-01,\n",
       "          6.5440e-01, -3.2925e-01, -1.1198e+00,  2.4251e-01,  1.5586e-01,\n",
       "          5.7514e-01,  8.5833e-02,  3.3306e-01, -3.9344e-01, -4.1766e-01,\n",
       "          1.0790e+00,  1.1720e-02,  7.0214e-01, -6.0665e-01,  7.3702e-01,\n",
       "          6.8223e-02, -3.7110e-01, -7.7589e-01, -1.3057e-01,  1.7179e-01,\n",
       "          6.2051e-01, -6.4163e-01,  4.2881e-01,  5.7445e-01,  3.9801e-02,\n",
       "         -2.1279e-01, -5.1984e-01,  7.5919e-01,  3.0600e-01, -3.3987e-01,\n",
       "         -3.0427e-01, -5.7486e-01, -5.2273e-02, -6.8957e-01,  7.3935e-01,\n",
       "         -1.6546e-01, -8.2786e-01,  3.4169e-02,  7.1547e-01, -5.6963e-01,\n",
       "         -7.8686e-01,  3.6913e-01, -1.9961e-02, -5.7287e-01, -2.6407e-01,\n",
       "          8.5581e-01, -6.1419e-02,  3.8184e-01, -9.1567e-03, -1.0273e+00,\n",
       "         -5.3303e-01,  4.4014e-01,  1.7875e-01,  9.1851e-01,  5.9216e-01,\n",
       "         -4.8853e-01, -3.9106e-01, -8.8284e-02, -7.1935e-01, -3.8647e-01,\n",
       "          9.9550e-02,  2.2983e-01, -1.5325e+00,  6.5410e-02, -1.0896e+00,\n",
       "          1.2108e-01, -1.9921e-01, -2.5195e-01,  1.4421e-01,  2.7530e-02,\n",
       "         -3.0479e-01, -3.8533e-01, -1.1540e-01, -8.3979e-01, -7.7467e-01,\n",
       "          6.5181e-01,  3.1980e-01,  4.7616e-01, -8.2181e-01, -4.4323e-01,\n",
       "          1.2445e-01, -2.9082e-01, -4.2669e-01, -6.8031e-01,  1.1736e+00,\n",
       "          1.0199e+00,  7.3959e-01, -6.1510e-01,  1.0691e+00,  5.6806e-01,\n",
       "          9.4541e-01, -9.8110e-01, -7.1101e-01,  3.6151e-01,  2.0443e-01,\n",
       "         -5.0706e-02, -2.8712e-01,  1.2332e-01,  3.9614e-01, -4.4268e-01,\n",
       "         -5.5477e-01,  2.8325e-01,  5.5901e-01, -3.8944e-01, -4.2003e-01,\n",
       "         -1.2470e-01, -9.5830e-01, -3.4774e-02,  1.0381e+00, -2.2607e-02,\n",
       "          4.7267e-01,  8.1840e-01,  9.0778e-01, -1.9271e-02,  9.3009e-03,\n",
       "         -2.9097e-01,  5.1579e-01,  6.5791e-01,  3.1353e-01,  4.7983e-01,\n",
       "          6.2282e-01,  1.4813e-01, -3.8600e-01,  1.8680e-01, -7.3365e-01,\n",
       "         -5.2868e-01, -3.5756e-01,  1.4778e+00,  1.7065e+00,  5.2843e-01,\n",
       "          4.3788e-01, -6.0783e-01, -2.0891e-01, -2.6378e-01, -3.5563e-01,\n",
       "         -1.9136e-01,  4.4895e-01, -2.1979e-01, -2.2114e-01, -6.3080e-01,\n",
       "         -1.1537e+00,  3.8770e-01, -6.5095e-01, -1.4381e-01, -3.3387e-01,\n",
       "         -4.8165e-01, -2.2851e-01,  4.4550e-01, -1.4106e-01, -1.9820e-01,\n",
       "          1.2682e-01,  5.7340e-01,  5.2960e-01,  3.8535e-01, -1.8422e-01,\n",
       "         -2.7734e-01,  2.1105e-02, -5.1269e-01,  1.2723e-01, -5.2737e-01,\n",
       "          1.9794e-01,  6.6517e-01, -4.9908e-01, -5.2315e-01, -3.3081e-01,\n",
       "         -6.9502e-01, -2.1738e-01, -9.1546e-01,  8.4446e-01, -8.6271e-01,\n",
       "          9.8701e-01, -5.3786e-01,  2.2177e-01, -7.9477e-01,  1.6505e-01,\n",
       "         -3.9847e-01, -2.9883e-01,  2.0877e-01,  2.4684e-01,  1.0068e-01,\n",
       "          1.6014e-01, -1.1922e+00, -1.5679e-01, -2.0235e-03, -5.7468e-01,\n",
       "          4.6136e-03, -2.6884e-01,  4.2084e-01, -7.2789e-03,  3.4696e-01,\n",
       "          5.3609e-01,  2.1878e-01,  3.3520e-01, -2.8570e-01, -5.0958e-01,\n",
       "         -3.9454e-01, -8.9165e-01,  1.2181e+00, -6.8443e-01,  1.9280e-01,\n",
       "         -2.1449e-01,  4.6195e-02,  5.2594e-01, -4.3565e-02,  2.4555e-01,\n",
       "          1.9387e+00,  1.5278e-01,  9.9872e-01,  4.8577e-01, -4.1082e-01,\n",
       "         -8.3016e-01,  2.7045e-01,  4.8655e-01, -2.4722e-01, -1.8512e-01,\n",
       "          2.0524e-01, -6.6170e-02,  2.3728e-01,  1.2404e+00, -2.6077e-01,\n",
       "         -1.6077e-01,  1.3507e-01,  1.1847e-01, -2.9235e-01,  5.5437e-01,\n",
       "         -1.8560e-01,  1.3344e+00, -3.6667e-01, -3.7478e-01, -5.5665e-02,\n",
       "         -3.4930e-01,  8.5271e-01,  1.5741e+00,  6.0562e-01,  4.3780e-01,\n",
       "         -1.0298e+00,  4.0719e-01, -8.2617e-02,  2.7544e-02, -4.9199e-01,\n",
       "          7.3797e-01,  2.4101e-01,  9.6176e-01,  6.4367e-01,  1.1653e-01,\n",
       "          9.4047e-01, -2.6082e-01,  1.0976e+00, -1.1490e-01, -9.5253e-01,\n",
       "          5.8644e-02, -2.3060e-01, -6.7886e-02, -3.0703e+00,  2.4538e-02,\n",
       "          2.7582e-01, -4.3797e-01, -7.8420e-02,  4.2382e-01,  1.0763e+00,\n",
       "          1.8140e-01, -1.0572e+00, -3.9120e-01, -9.3492e-02, -3.7970e-01,\n",
       "          5.3947e-02,  1.1576e+00,  8.4130e-01,  1.8007e-01, -5.2631e-01,\n",
       "         -2.0291e-01, -1.9092e-02,  6.1720e-01,  1.1918e-01, -1.4457e+00,\n",
       "         -2.5592e-01, -1.2389e-01,  2.3928e-01,  1.1959e+00, -5.4284e-01,\n",
       "         -8.6952e-01, -4.8750e-01,  2.3500e-01,  1.3830e-02, -2.6659e-01,\n",
       "          9.7897e-01, -8.5489e-01,  3.1946e-01, -4.9998e-01, -3.2241e-01,\n",
       "         -1.3864e-01,  1.2900e-01, -7.5765e-01, -4.5315e-01,  2.9473e-01,\n",
       "          8.7803e-02, -1.3806e-01,  4.5430e-01,  8.0649e-02, -4.1994e-01,\n",
       "          5.8677e-03, -7.0909e-02,  3.8368e-01, -1.3059e-01,  8.7690e-01,\n",
       "         -6.1343e-01, -6.1015e-01, -7.0236e-01,  3.7512e-01,  3.3982e-01,\n",
       "          8.0857e-01, -1.6385e-01, -1.0569e-01,  6.1967e-01, -5.8364e-02,\n",
       "          2.3294e-01, -2.7713e-01,  5.2177e-01, -1.7158e-01, -1.0602e+00,\n",
       "         -4.3479e-01, -6.6953e-02,  3.6794e-01, -2.3135e-01, -2.0400e-01,\n",
       "         -5.3282e-01, -1.2286e+00, -2.4327e-01, -2.8658e-01,  1.3142e+00,\n",
       "          3.1902e-01, -9.1673e-02, -6.9225e-01, -3.0026e-01, -9.0491e-01,\n",
       "          8.4393e-02,  2.1298e-01,  8.2160e-01, -6.7558e-01, -8.9888e-01,\n",
       "          3.5113e-01, -5.2840e-01, -3.1060e-02, -2.8948e-01,  5.1492e-01,\n",
       "         -2.2329e-02,  1.6455e-01, -1.3406e-01,  7.9522e-01, -1.0633e-01,\n",
       "          4.0473e-01,  3.6492e-01, -6.1566e-01, -5.1250e-01, -5.4742e-01,\n",
       "          3.2135e-02, -4.5447e-02,  5.3155e-02,  7.0305e-01, -1.5488e+00,\n",
       "          6.2800e-01, -4.1181e-01,  3.1977e-01,  3.9906e-01, -1.7447e-01,\n",
       "          1.0357e+00, -5.4064e-01,  2.1086e-01, -5.4963e-01, -3.4769e-02,\n",
       "         -1.6814e-01,  4.8931e-01,  1.6012e-01, -6.6077e-01, -6.7637e-02,\n",
       "          9.2604e-02, -1.1114e+00,  4.6336e-01, -3.5745e-01, -3.2055e-02,\n",
       "          3.4265e-01,  3.5538e-01,  6.7498e-01, -2.0282e-01,  2.1987e-02,\n",
       "         -1.0548e+00,  9.8446e-01, -5.6733e-01,  6.9380e-02, -4.7736e-01,\n",
       "         -9.9546e-01, -3.5254e-02,  4.6173e-01,  7.1046e-01,  3.3707e-01,\n",
       "         -8.1136e-02, -4.8355e-01,  5.4515e-01,  3.7669e-02,  5.2528e-01,\n",
       "          4.1853e-02, -1.2564e+00, -3.2226e-01, -8.2649e-01, -7.5457e-02,\n",
       "         -7.5999e-01, -1.8107e-01,  1.1781e+00,  7.7896e-01,  6.6844e-01,\n",
       "         -7.6050e-01, -4.5029e-01, -5.4186e-01,  2.7285e-03,  2.3229e-01,\n",
       "         -6.9320e-01, -4.4790e-02, -7.4108e-02,  9.3096e-01, -4.1993e-01,\n",
       "         -7.3685e-01,  6.3003e-02,  4.0879e-01, -7.2932e-01, -1.6402e-01,\n",
       "         -2.7400e-01,  7.5049e-01, -6.5255e-01, -4.3226e-01, -6.2632e-02,\n",
       "         -8.2434e-01, -9.1996e-01,  5.1996e-01,  3.3342e-01,  3.0553e-03,\n",
       "         -3.7381e-01,  8.1910e-01, -2.5230e-01, -8.2635e-01,  3.8007e-01,\n",
       "         -1.0642e+00, -7.9937e-01,  1.0933e-01, -2.3652e-01,  4.5540e-01,\n",
       "         -2.9788e-01, -1.5564e+00, -2.3166e-01, -1.1862e+00, -2.9165e-01,\n",
       "         -2.1934e-01,  1.1169e-01,  1.3712e-01, -5.1983e-01, -2.5509e-01,\n",
       "         -4.4754e-01, -4.7948e-01,  4.6833e-01, -1.8625e-01,  6.9716e-01,\n",
       "         -1.1866e-01,  6.1084e-01,  6.3114e-01, -8.4579e-01, -4.6913e-01,\n",
       "          9.2668e-02,  2.9337e-02,  2.5508e-01,  4.5542e-01,  1.8251e-01,\n",
       "         -1.1855e-01, -1.2805e-01,  8.3519e-02,  1.7325e-01,  6.1112e-01,\n",
       "         -3.9921e-01,  1.6798e-01, -8.4275e-02,  3.9789e-01,  9.2255e-01,\n",
       "          7.7275e-02, -4.0163e-01,  3.1146e-01, -3.0563e-01, -5.8679e-01,\n",
       "          4.1130e-01, -4.3300e-01, -1.2496e+00, -8.5653e-01, -2.3101e-01,\n",
       "         -1.2980e+00, -2.7850e-01,  1.3634e-01,  3.4896e-01,  4.5002e-01,\n",
       "         -6.9828e-01,  6.2787e-01, -2.2598e-01, -1.7732e-01, -3.2117e-02,\n",
       "          4.8136e-01,  5.0901e-01,  5.0199e-01,  3.6993e-01, -4.5981e-01,\n",
       "         -6.7486e-02, -8.6722e-01, -5.7722e-01, -3.2765e-01,  7.8836e-01,\n",
       "          4.0974e-01, -1.8077e-01, -8.4644e-01, -2.5588e-01,  1.0655e+00,\n",
       "         -3.7329e-01, -4.9543e-01, -2.4806e-01, -3.7839e-02,  9.1717e-02,\n",
       "         -1.5725e-01,  2.4216e-01,  6.5864e-02,  1.3641e+00, -1.2707e+00,\n",
       "          7.8174e-02, -1.0401e+00, -3.9388e-01, -2.5627e-01, -4.9158e-01,\n",
       "         -4.0819e-01,  7.3981e-01, -4.4651e-01, -3.1208e-01,  6.2193e-01,\n",
       "          1.1230e+00, -4.4226e-02, -1.2044e+00,  2.2500e-01, -9.1115e-02,\n",
       "          3.5365e-01, -3.7870e-01, -1.0870e-01,  3.2082e-01,  1.2314e-01,\n",
       "         -2.1645e-02,  1.1413e+00,  1.3573e-02, -9.9737e-02,  9.3759e-01,\n",
       "          5.0417e-02, -4.9671e-01,  9.0127e-01,  1.4178e-01,  2.0027e-01,\n",
       "          6.3084e-01, -2.0751e-02,  3.0619e-01,  4.5247e-01, -7.6788e-01,\n",
       "         -7.2624e-01, -5.2419e-01,  6.0564e-01, -1.9887e-02, -2.9045e-01,\n",
       "          4.0384e-01,  9.0467e-01, -9.9711e-01,  1.0205e-02,  1.7958e-01,\n",
       "          3.5785e-02, -2.3696e-01,  6.4812e-01,  1.5352e-01,  3.1153e-02,\n",
       "          1.3805e-01, -1.4471e-01, -9.9713e-01,  1.7288e-01,  1.8074e-01,\n",
       "         -2.8294e-02,  7.8877e-01,  3.7700e-01, -7.0564e-02,  1.0712e+00,\n",
       "         -4.2392e-01,  4.1656e-01, -6.8028e-01,  1.6911e-01,  2.6617e-01,\n",
       "         -1.1312e+00,  1.6047e-01, -4.5070e-01,  4.9935e-01,  3.4413e-01,\n",
       "          6.4540e-01, -2.6727e-01,  1.5033e-01,  4.2149e-01,  3.4961e-01,\n",
       "         -1.5505e-01,  1.5471e+00,  7.7871e-01, -2.7912e-01, -4.5703e-01,\n",
       "         -7.9149e-01, -5.7845e-01, -2.4879e-01, -6.0028e-01,  6.9574e-02,\n",
       "         -1.9024e-02,  2.0336e-01,  1.3373e+00,  1.7257e-01, -3.3319e-01,\n",
       "          1.4024e-01, -2.2572e-02, -2.2282e-01,  3.4986e-02, -1.4985e-01,\n",
       "          5.2162e-02,  1.5562e-01, -2.3856e-01, -7.4213e-02, -2.1547e-01,\n",
       "          7.6899e-01,  1.1663e-01,  5.3913e-02, -2.6870e-01, -2.3951e-01,\n",
       "          8.8452e-01,  3.2750e-01, -7.8228e-02,  4.5901e-01, -4.3255e-01,\n",
       "         -4.4316e-01, -3.2505e-01, -1.4550e+00, -8.6595e-02, -7.3577e-02,\n",
       "         -2.0595e-01, -6.1714e-01, -7.1308e-01,  8.2567e-01,  1.6622e-01,\n",
       "         -8.5806e-01, -6.5291e-01, -1.5517e-02, -6.2837e-01,  5.6276e-01,\n",
       "          9.6670e-02,  4.9524e-01,  3.4259e-01, -6.7065e-01, -4.1591e-01,\n",
       "         -3.3399e-01, -7.4808e-01,  3.2285e-01, -5.1327e-02,  4.1144e-01,\n",
       "          2.6481e-01, -9.0313e-01, -4.4464e-01,  6.6254e-02,  4.1635e-01,\n",
       "         -7.5472e-01,  1.2165e+00, -4.2961e-01,  6.3139e-01, -2.1192e-02,\n",
       "         -4.6616e-01, -1.4575e-01, -7.4167e-01, -2.7592e-01, -4.6199e-02,\n",
       "          4.5393e-01,  4.7207e-01, -1.7622e-01, -6.7738e-01,  3.7787e-01,\n",
       "          5.3374e-01,  3.6832e-01,  1.3724e-01, -1.1172e+00, -2.5947e-01,\n",
       "          1.1888e+00, -1.0117e-01, -4.8335e-01,  5.8897e-02,  1.6610e-01,\n",
       "          6.6885e-01, -9.0577e-01, -2.3182e-01,  5.9258e-01,  1.1081e-01,\n",
       "          1.8942e-01,  6.5041e-01,  4.6973e-01, -3.1615e-01, -5.9470e-01,\n",
       "         -5.1061e-01, -9.7604e-01,  6.0229e-01, -6.3250e-01, -4.2595e-01,\n",
       "         -5.7413e-01, -7.1769e-01,  9.2507e-01, -6.2844e-01,  1.8694e-01,\n",
       "          2.0768e-01,  1.1880e-01,  4.1445e-01], device='cuda:0'),\n",
       " tensor([-9.8449e-02,  1.4698e+00,  2.8573e-01, -3.9569e-01,  9.6890e-02,\n",
       "          8.6436e-01, -3.7401e-01,  2.1752e-01, -2.5937e-01, -4.2487e-01,\n",
       "         -6.1410e-02,  3.3272e-01, -1.9102e-01, -2.9803e-02, -1.7782e-01,\n",
       "          7.1223e-01, -3.6092e-01,  4.7531e-01,  1.8901e-01, -1.9464e-01,\n",
       "          5.5041e-01, -2.0075e-01, -4.9742e-01, -1.3701e-02,  6.5578e-02,\n",
       "          2.2761e-01,  7.6017e-01, -7.9264e-02,  2.7941e-01, -5.4700e-02,\n",
       "         -2.6595e-01,  5.5095e-01, -2.1662e-01,  1.4398e-01, -3.8731e-01,\n",
       "         -1.9042e-01,  1.3155e-01,  2.2447e-01,  2.9488e-01,  2.7523e-01,\n",
       "         -2.7458e-01, -5.0479e-01, -3.9631e-01,  3.0837e-01, -6.3027e-01,\n",
       "         -3.5416e-01,  1.1856e+00,  8.9830e-02,  4.4822e-01,  4.0406e-01,\n",
       "         -3.4759e-01,  5.6113e-01,  1.0385e+00,  1.5012e-01,  3.7633e-01,\n",
       "         -3.9084e-01,  1.0627e-01, -5.0344e-02,  2.2779e-01, -5.2758e-01,\n",
       "         -1.9242e-01,  1.8374e-02,  5.2802e-01,  1.6686e-01, -7.3694e-01,\n",
       "          4.7303e-01, -4.7016e-01,  1.6289e-01,  9.7775e-02,  1.2824e-01,\n",
       "         -2.8870e-01, -3.9116e-01, -1.8324e-01,  5.2460e-01, -1.9830e-01,\n",
       "          5.4971e-01,  4.1160e-02, -3.3559e-01,  2.1169e-02, -8.5710e-02,\n",
       "          1.3109e-01, -3.6348e-01,  2.7382e-01,  1.1263e+00, -2.5038e-01,\n",
       "         -6.4161e-01, -3.2357e-01, -1.3938e-01, -1.0110e+00,  7.3331e-01,\n",
       "          1.0102e-01,  1.5387e-01, -2.9724e-01,  2.5424e-01,  3.2296e-01,\n",
       "         -3.5495e-01,  1.2272e-01,  9.6730e-02,  2.1486e-02,  9.1426e-02,\n",
       "         -1.4177e-01,  5.2628e-01,  2.1227e-01, -1.7098e-01, -3.8352e-01,\n",
       "          1.6601e-01,  4.4298e-01,  6.3219e-03, -5.9510e-01,  3.5965e-01,\n",
       "         -7.1792e-01, -3.6388e-01, -7.0435e-02,  1.8896e-01,  5.4332e-03,\n",
       "          1.1766e-02,  1.0752e-01, -5.5095e-01, -6.7836e-02,  3.5240e-01,\n",
       "         -2.6229e-01,  3.7230e-01, -8.1171e-02,  4.8515e-01,  1.0484e-02,\n",
       "         -2.9454e-01, -3.1111e-01, -2.6310e-01,  6.3381e-02, -1.0854e-01,\n",
       "          1.3688e+00,  2.9465e-01,  2.0623e-01,  3.8317e-02,  5.4437e-02,\n",
       "         -1.5726e+00,  3.7239e-01, -6.0964e-01, -8.8024e-01,  2.4682e-01,\n",
       "          6.7070e-01, -5.6562e-01,  2.1737e-01,  8.4505e-02, -2.6882e-01,\n",
       "          1.4112e-01, -8.0701e-01, -1.1845e-01, -3.2562e-01,  7.8287e-01,\n",
       "         -1.8123e-01, -7.1260e-01,  2.0073e-01, -2.2902e-01, -1.7190e-01,\n",
       "          8.2328e-02,  3.2728e-01,  3.3844e-01, -4.3359e-01, -2.0109e-01,\n",
       "          5.2177e-01, -2.1286e-01, -5.4271e-01,  4.2771e-01, -2.8440e-02,\n",
       "          6.8534e-01,  3.0166e-01,  3.3880e-01, -7.2538e-01,  4.7892e-02,\n",
       "         -5.7754e-01,  4.3418e-01,  6.2832e-01,  1.1230e-01,  1.6312e-02,\n",
       "         -3.1558e-01,  3.0021e-01, -3.4793e-01, -4.2287e-01,  8.9215e-02,\n",
       "         -1.7020e-01,  5.5911e-01,  4.3507e-01,  1.0352e+00, -6.0532e-02,\n",
       "          6.4033e-02,  6.3265e-01,  5.8860e-01, -6.2739e-01, -3.6926e-01,\n",
       "         -1.3001e-01,  3.0337e-01, -7.3679e-01, -1.0968e+00, -4.9620e-01,\n",
       "         -2.4885e-02,  6.0554e-02, -2.8982e-01, -5.5470e-01,  9.2082e-02,\n",
       "         -3.5928e-01, -6.8506e-01,  7.0259e-01,  7.4057e-01,  4.1953e-02,\n",
       "         -2.2261e-01,  3.1581e-02, -5.7034e-01, -1.5258e-01, -1.9746e-01,\n",
       "         -5.7486e-01, -6.6855e-01, -5.3475e-01,  2.1482e-01, -8.8653e-01,\n",
       "          9.2317e-02, -2.2077e-02,  9.8558e-01, -8.5093e-01, -1.6057e-02,\n",
       "         -1.1169e-01, -2.8778e-01, -4.2301e-01,  7.7859e-02,  6.9498e-02,\n",
       "          4.2390e-01, -7.0422e-02,  7.7604e-02, -4.0021e-01, -2.4131e-01,\n",
       "          1.3328e-01, -1.1587e-01,  9.0171e-01, -3.4312e-01,  6.0788e-01,\n",
       "          3.1653e-01, -2.4758e-01,  4.5196e-02,  4.9370e-01,  3.8995e-01,\n",
       "         -3.4692e-01,  3.3056e-02,  2.0106e-01,  4.0234e-01,  1.2993e-01,\n",
       "          2.9119e-01,  9.2159e-01, -4.1758e-01,  1.5004e-02,  5.2865e-02,\n",
       "          6.0922e-01,  7.6300e-02,  2.6940e-01, -6.3987e-01,  1.7187e-01,\n",
       "         -1.4997e-01, -2.2630e-01, -5.7578e-01, -5.4688e-02, -1.4096e-01,\n",
       "         -1.8318e-01,  1.6508e-01,  5.1326e-01,  4.4380e-01, -2.8080e-01,\n",
       "         -4.5417e-01, -3.0488e-01,  4.8724e-01, -1.7721e-01, -2.2289e-01,\n",
       "          6.0853e-01, -2.2074e-04,  5.6217e-01,  1.1224e+00, -1.4180e+00,\n",
       "         -3.6117e-01,  1.5190e-01, -1.7284e-01, -1.7632e-02, -2.1651e-01,\n",
       "         -8.6195e-01,  4.2031e-02, -4.6597e-01,  7.2990e-02, -6.2120e-02,\n",
       "         -3.9781e-01,  3.5995e-01, -3.4646e-01, -3.0336e-01, -1.5005e-02,\n",
       "          3.3628e-01,  5.7878e-02, -3.3315e-01,  1.1097e-01,  3.0777e-02,\n",
       "         -7.1115e-01,  3.6039e-01,  1.6007e-01,  3.4098e-01, -5.3309e-01,\n",
       "          5.6319e-01,  2.1157e-01,  2.6252e-01,  4.2321e-01, -5.2220e-01,\n",
       "          2.4814e-01, -3.6991e-01, -5.4816e-01, -5.3290e+00,  1.0130e-01,\n",
       "         -2.4280e-01,  2.6960e-01,  6.2188e-01,  3.4420e-01,  2.2724e-01,\n",
       "          1.2104e-01, -3.0778e-01, -1.3375e-01,  1.2070e-01,  6.9458e-01,\n",
       "         -1.7730e-01,  6.3572e-01,  3.9321e-01,  1.0834e-03, -4.1992e-01,\n",
       "         -3.1438e-01,  4.6218e-01,  3.0781e-01, -2.4236e-01, -6.3912e-01,\n",
       "         -7.2797e-03, -2.1637e-02,  2.9671e-01,  8.6041e-01, -1.6743e-01,\n",
       "         -5.2726e-01, -7.3631e-01, -4.9699e-01, -4.0285e-02, -5.5160e-02,\n",
       "         -2.8419e-01,  3.4066e-01,  1.9508e-01, -3.1847e-01,  1.1065e-01,\n",
       "         -1.3114e+00, -6.5144e-02, -5.2608e-01, -2.2926e-01, -4.9479e-01,\n",
       "         -3.6531e-01, -1.5899e-01,  9.3910e-02,  1.2114e-01, -1.5592e-01,\n",
       "          1.9144e-01, -7.1318e-01, -1.7203e-01, -6.8007e-02,  4.2680e-01,\n",
       "          2.7249e-01, -8.1867e-02, -7.7034e-01,  4.4867e-02,  6.1248e-01,\n",
       "          6.4211e-01, -4.2664e-01, -4.1450e-01, -4.6397e-02, -5.7337e-01,\n",
       "          4.2681e-01, -4.0819e-02,  2.8338e-02, -3.5921e-01, -2.4894e-01,\n",
       "         -4.9875e-02,  5.8249e-01, -1.4032e-02, -3.2829e-01,  1.0102e-01,\n",
       "         -4.5791e-01, -1.0023e+00, -2.6306e-01, -2.5233e-01,  6.0858e-01,\n",
       "          2.0588e-01, -2.5912e-01, -1.0158e-01, -3.4643e-01, -1.6082e-01,\n",
       "         -3.1902e-01,  5.3895e-01,  2.7880e-01, -6.8466e-01, -7.6330e-02,\n",
       "          9.4315e-02,  1.3531e-01, -8.8651e-01, -5.7966e-01, -3.3632e-01,\n",
       "          3.1987e-01, -1.9380e-01,  2.8006e-01,  5.9293e-01,  5.4404e-01,\n",
       "          3.7746e-01,  1.5074e-01,  1.3050e-01,  1.8917e-01, -8.2227e-03,\n",
       "         -3.1581e-01,  3.0006e-01,  2.2615e-01, -4.7198e-01,  2.9255e-01,\n",
       "          3.9098e-01,  7.1997e-01, -6.5656e-01, -5.7878e-02, -7.4665e-01,\n",
       "          4.5998e-01, -1.7215e-01,  3.4801e-01, -3.4560e-01,  3.4529e-01,\n",
       "          4.9162e-01,  3.4105e-01,  5.2297e-01, -5.5147e-01,  2.9069e-02,\n",
       "         -1.3466e+00,  1.6773e-01, -2.8781e-01, -6.5206e-01, -2.8571e-01,\n",
       "          4.4820e-01, -8.2600e-01,  2.7299e-01, -1.6052e-01, -4.9491e-01,\n",
       "         -4.4123e-01, -3.0832e-02,  3.5858e-01, -3.2000e-01, -3.6482e-01,\n",
       "         -4.6250e-01,  6.8682e-01,  6.2212e-01, -6.7616e-01,  4.4652e-01,\n",
       "          6.3600e-02,  5.6310e-01,  9.1847e-01,  4.4499e-01,  4.0972e-01,\n",
       "          6.3158e-01, -4.8508e-01, -4.0152e-01, -5.0366e-01, -4.5478e-02,\n",
       "         -4.5590e-01, -7.5448e-01,  6.8782e-01, -3.8171e-01,  2.5105e-01,\n",
       "          1.3606e-01,  1.9530e-01, -1.6731e-01,  1.8509e-01,  2.4151e-01,\n",
       "         -1.2497e-01,  7.3939e-02,  8.0915e-02,  4.0503e-01, -4.4470e-01,\n",
       "          1.4211e-01, -6.2765e-02, -1.0847e+00,  1.5061e-02,  3.1442e-01,\n",
       "          6.1791e-02, -2.7084e-01, -9.5111e-02,  8.0670e-01,  3.4657e-01,\n",
       "          1.7020e-01, -3.4658e-01,  6.2307e-01, -3.1217e-01,  6.7439e-02,\n",
       "         -4.2302e-01,  6.6040e-01,  2.8155e-01, -3.0293e-02,  1.3720e-01,\n",
       "         -4.0739e-01,  4.6180e-01,  7.8493e-01, -2.0656e-01, -6.3212e-02,\n",
       "         -8.2126e-01,  1.9584e-01, -8.8633e-02, -1.0430e+00,  2.6545e-01,\n",
       "          1.2379e+00,  6.7183e-01, -6.8933e-01,  2.3559e-01,  6.4715e-01,\n",
       "          1.2309e-01, -2.8892e-01,  2.7236e-01, -4.1748e-01,  9.3375e-01,\n",
       "          1.2763e-01, -4.8758e-01,  4.1386e-01, -5.7510e-01,  3.0247e-02,\n",
       "         -5.2484e-01, -3.5384e-01, -4.3309e-01, -5.0379e-01, -1.4411e-01,\n",
       "         -9.1641e-02,  1.3801e-01, -2.2797e-01,  4.0613e-01, -5.3039e-01,\n",
       "          2.8264e-01,  1.4536e-01, -3.8260e-01, -1.0636e-01, -1.9395e-01,\n",
       "          2.4888e-01,  3.9480e-01, -1.9706e-01, -9.8293e-02, -5.3219e-01,\n",
       "          3.9783e-01, -3.8129e-01,  1.8971e-01, -3.3756e-01, -6.2738e-01,\n",
       "         -7.0887e-01,  3.7720e-01,  2.1101e-01, -5.8501e-01, -4.8129e-01,\n",
       "          2.2947e-01, -1.3340e-01,  1.1180e+00,  6.6438e-02,  4.8484e-01,\n",
       "         -2.2995e-01, -3.2569e-01,  4.2933e-02,  3.4589e-01, -2.4830e-01,\n",
       "          1.0948e-01, -1.3069e-01, -5.7944e-01, -1.9196e-01, -7.8060e-02,\n",
       "          1.1934e-01, -2.3422e-01, -2.1563e-01, -3.3932e-01,  8.7396e-02,\n",
       "          2.8107e-01, -4.7970e-01,  2.1479e-01, -1.1446e-01, -5.0093e-01,\n",
       "         -1.2180e-01,  5.6778e-01, -1.7505e-01,  5.0499e-01, -6.7217e-01,\n",
       "          3.6737e-01, -1.8358e-01,  2.3660e-01,  2.9736e-02, -3.5624e-01,\n",
       "         -1.1451e-01,  6.5315e-01, -4.0913e-01, -5.6405e-01,  7.2596e-01,\n",
       "         -2.3398e-01,  1.7279e-01, -4.2138e-01,  1.0075e-01,  1.4012e-01,\n",
       "          1.6682e-01,  2.0844e-01,  7.5970e-02,  2.4352e-01,  1.3456e-01,\n",
       "          1.4141e-01,  1.7959e-01,  1.4143e+00,  1.2107e-01,  3.6410e-01,\n",
       "         -5.9567e-01,  4.5287e-02,  4.0946e-02, -6.3152e-03, -1.5476e-02,\n",
       "         -5.4967e-02,  4.0418e-02,  5.3073e-01,  3.6719e-01,  5.9931e-03,\n",
       "         -6.0457e-01, -4.0461e-02,  3.0526e-01,  2.2857e-01,  3.1699e-01,\n",
       "         -6.1115e-01, -3.5432e-01, -1.7680e-01,  3.0425e-01,  4.4631e-01,\n",
       "         -8.0750e-02,  3.3444e-02, -1.7067e-01,  2.9058e-01,  1.1439e-01,\n",
       "         -1.2962e-02,  2.6377e-01, -2.9394e-01, -2.3483e-01,  2.1922e-01,\n",
       "          7.9876e-01,  9.3168e-01, -1.6078e-01, -6.8044e-02, -2.8835e-01,\n",
       "         -3.7442e-02,  8.7288e-01, -3.0851e-02, -2.6066e-01,  8.7559e-01,\n",
       "          5.2805e-02,  4.2036e-01, -4.4657e-01, -6.0128e-01,  2.4042e-01,\n",
       "          1.0409e+00,  4.5662e-02, -5.9405e-01, -7.7239e-02,  4.4467e-01,\n",
       "          2.8607e-01,  3.1795e-01,  4.0720e-01, -4.4101e-01,  1.0156e-01,\n",
       "          8.4664e-02,  2.2385e-01,  3.2971e-02,  8.5590e-01, -8.3133e-02,\n",
       "          2.4421e-01, -2.5320e-01,  3.0961e-01,  3.2430e-01,  7.6288e-01,\n",
       "         -4.1389e-01, -7.4261e-01, -1.0888e-01,  3.0744e-02, -8.4961e-02,\n",
       "         -3.3006e-01, -9.4410e-02, -1.7684e-01,  9.1215e-02,  3.9247e-01,\n",
       "         -1.6165e-01, -2.5071e-01,  3.2119e-01, -5.8943e-01,  5.3371e-01,\n",
       "         -3.9494e-01,  4.5296e-01, -3.2192e-02,  2.9046e-02,  9.0094e-02,\n",
       "          8.0394e-02, -3.8424e-01, -2.4358e-01, -5.8893e-01, -1.6014e-01,\n",
       "         -5.0848e-01, -2.1314e-02, -5.0818e-01, -9.5969e-02,  4.0968e-01,\n",
       "          3.0001e-01, -5.3867e-01,  2.3648e-01, -5.9909e-01,  1.8138e-01,\n",
       "          5.6676e-01,  3.3343e-01,  3.6125e-02, -7.1760e-01, -2.8207e-01,\n",
       "         -1.7438e-01, -9.5262e-02,  2.1486e-01, -5.2020e-02, -1.4086e-04,\n",
       "         -1.5751e-01, -6.5503e-02,  3.1234e-01, -1.2235e-01, -1.2310e-01,\n",
       "         -2.6430e-01,  6.9013e-01, -8.8553e-01,  1.4780e-01, -4.3434e-01,\n",
       "          9.2149e-03, -5.1354e-01, -4.0582e-01,  4.0952e-02, -9.0218e-01,\n",
       "          1.7678e-01,  8.2160e-01,  9.0610e-02,  1.0791e-01, -5.0325e-01,\n",
       "          5.2987e-01, -4.0699e-01,  1.9170e-01, -2.1431e-01,  4.5255e-01,\n",
       "          5.6901e-01,  2.7348e-01, -4.4278e-01,  1.8978e-01,  1.3637e-03,\n",
       "          2.6983e-01,  6.8033e-01, -4.7854e-01,  8.3501e-01,  5.7284e-01,\n",
       "          5.5622e-01, -3.8540e-01, -1.7700e-02,  3.0426e-01,  2.9132e-01,\n",
       "         -2.5081e-01, -5.4555e-01,  4.0296e-02, -3.4137e-01,  4.2379e-01,\n",
       "         -5.2939e-01,  1.7819e-01, -1.2489e-02,  5.5839e-01,  1.0675e-01,\n",
       "          3.1746e-01, -2.8264e-01, -2.1325e-01], device='cuda:0'))"
      ]
     },
     "execution_count": 149,
     "metadata": {},
     "output_type": "execute_result"
    }
   ],
   "source": [
    "bert_watch1 = embed1[31]\n",
    "bert_watch2 = embed2[13]\n",
    "bert_watch1, bert_watch2"
   ]
  },
  {
   "cell_type": "code",
   "execution_count": 150,
   "metadata": {
    "colab": {
     "base_uri": "https://localhost:8080/"
    },
    "id": "qvTJj1vcPIpg",
    "outputId": "50579266-34fb-4276-bb68-be5a54878ee3"
   },
   "outputs": [
    {
     "data": {
      "text/plain": [
       "tensor(0.3504, device='cuda:0')"
      ]
     },
     "execution_count": 150,
     "metadata": {},
     "output_type": "execute_result"
    }
   ],
   "source": [
    "similarity = nn.CosineSimilarity(dim=0, eps=1e-6)\n",
    "similarity(bert_watch1, bert_watch2)"
   ]
  },
  {
   "cell_type": "markdown",
   "metadata": {
    "id": "qt9Wl8aIPIpg"
   },
   "source": [
    "## Document Embeddings"
   ]
  },
  {
   "cell_type": "code",
   "execution_count": 151,
   "metadata": {
    "id": "JgU-haTVPIpg"
   },
   "outputs": [],
   "source": [
    "documents = [Sentence(watch1), Sentence(watch2)]"
   ]
  },
  {
   "cell_type": "code",
   "execution_count": 152,
   "metadata": {
    "colab": {
     "base_uri": "https://localhost:8080/"
    },
    "id": "eLbRmOR_PIpg",
    "outputId": "e0484999-c9f2-4bf1-f32a-77cd7ebab64c"
   },
   "outputs": [
    {
     "data": {
      "text/plain": [
       "[Sentence[58]: \" The Hatter was the first to break the silence. `What day of the month is it?' he said, turning to Alice:  he had taken his watch out of his pocket, and was looking at it uneasily, shaking it every now and then, and holding it to his ear.\",\n",
       " Sentence[48]: \" Alice thought this a very curious thing, and she went nearer to watch them, and just as she came up to them she heard one of them say, `Look out now, Five!  Don't go splashing paint over me like that!\"]"
      ]
     },
     "execution_count": 152,
     "metadata": {},
     "output_type": "execute_result"
    }
   ],
   "source": [
    "from flair.embeddings import TransformerDocumentEmbeddings\n",
    "bert_doc = TransformerDocumentEmbeddings('bert-base-uncased')\n",
    "bert_doc.embed(documents)"
   ]
  },
  {
   "cell_type": "code",
   "execution_count": 153,
   "metadata": {
    "colab": {
     "base_uri": "https://localhost:8080/"
    },
    "id": "UB6GBlxYPIpg",
    "outputId": "43298176-16ce-4b58-a99f-8ac2f3d887ee"
   },
   "outputs": [
    {
     "data": {
      "text/plain": [
       "tensor([-6.4245e-02,  3.5365e-01, -2.4962e-01, -5.3912e-01, -1.9917e-01,\n",
       "        -2.7712e-01,  1.6942e-01,  1.0867e-01, -4.0799e-01, -1.4945e-01,\n",
       "         4.4678e-02, -1.9687e-01, -3.0574e-01,  9.6215e-02,  2.8053e-01,\n",
       "         9.0462e-01, -3.0250e-01,  1.7854e-01, -1.6856e-01, -1.7227e-01,\n",
       "        -1.8270e-01,  4.5121e-01,  3.6129e-01,  1.2309e-01, -1.2047e-02,\n",
       "        -5.0255e-01,  4.2645e-01, -3.7184e-02, -1.7052e-01, -4.8920e-02,\n",
       "         1.0503e-01,  3.3456e-01, -3.8482e-02, -4.7287e-01, -7.4431e-02,\n",
       "         2.3990e-01, -8.3232e-02,  1.7974e-01,  4.8939e-01,  9.3024e-03,\n",
       "        -4.2722e-01,  2.6337e-01, -1.3217e-01, -1.3950e-01, -1.1859e-01,\n",
       "         4.5834e-02, -3.9031e+00, -1.0726e-01,  5.1104e-02, -9.9710e-02,\n",
       "         1.5913e-01, -9.5331e-02,  2.1513e-01,  4.7707e-01,  2.1226e-01,\n",
       "         4.3450e-01, -4.5154e-01,  1.8344e-01, -1.0171e-01, -3.6373e-01,\n",
       "         8.9560e-01,  3.5931e-01, -2.8519e-01,  2.9427e-02,  3.3968e-01,\n",
       "         4.1061e-01, -2.1051e-02,  2.7801e-02,  2.8888e-01,  4.5761e-01,\n",
       "        -3.8254e-01, -1.9211e-01, -2.6551e-01,  1.7064e-01, -2.0920e-01,\n",
       "        -3.3608e-01, -1.0044e-01, -2.9611e-01, -5.6573e-01,  4.3842e-01,\n",
       "        -8.9238e-02, -1.4645e-02,  2.2009e-01,  2.5755e-01, -2.6711e-01,\n",
       "        -1.4440e-01, -2.8944e-01,  2.2547e-01,  6.0303e-01,  1.0250e-01,\n",
       "        -2.0606e-01, -1.5392e-01, -3.2989e-03,  7.7604e-02,  1.8428e-01,\n",
       "         1.6114e-01,  2.5668e-01, -8.3616e-02,  2.7078e-01, -5.4946e-02,\n",
       "         4.9633e-01, -2.7734e-01,  4.1486e-01, -5.3346e-01, -7.8131e-01,\n",
       "         1.7047e-01,  2.8687e-01,  4.9673e-02,  4.6922e-01, -1.6500e+00,\n",
       "         4.6991e-01, -1.5328e-01,  2.7729e-01, -1.0157e+00,  1.5022e-01,\n",
       "        -1.7466e-01,  4.1232e-02, -4.4218e-01, -5.0299e-01,  1.1937e-01,\n",
       "         1.8505e-01,  1.7673e-01,  2.1935e-01, -1.3052e+00, -3.4139e-01,\n",
       "        -3.8845e-02, -2.4191e-01,  2.5906e-01,  1.2551e-01, -1.7339e-02,\n",
       "         4.4672e-01,  3.3219e-01, -2.1076e-01, -2.6042e-01,  2.1485e-01,\n",
       "         1.6804e-01, -1.6398e-01,  1.1147e-01, -1.4731e-01,  1.0370e-01,\n",
       "        -2.0025e-01, -1.7985e-01, -2.5822e+00, -9.3411e-02,  5.8352e-01,\n",
       "         4.2851e-01,  1.3719e-01, -4.4423e-01, -2.4912e-03,  6.3892e-01,\n",
       "         4.1029e-01, -3.2187e-01,  5.8879e-02, -2.1344e-01, -4.0472e-02,\n",
       "        -4.0414e-01,  3.8056e-01,  1.7888e-01, -4.1893e-01,  1.6880e-01,\n",
       "        -4.6562e-02, -3.3560e-01,  1.3599e-02,  2.4541e-01, -1.9909e-01,\n",
       "         5.3978e-01,  5.7400e-01,  5.7995e-01, -3.8400e-02, -4.4135e-02,\n",
       "         3.8312e-01, -1.6357e-02,  7.0812e-01, -1.6653e-01, -4.0108e-01,\n",
       "         8.2581e-02,  4.2481e-01, -1.2611e-01,  4.2772e-01, -7.9697e-02,\n",
       "        -7.4779e-01,  7.4372e-02,  2.0130e-01,  8.0436e-01,  8.2707e-01,\n",
       "         3.8594e-01, -2.6690e-02, -2.8838e-01,  2.1367e-01,  2.3883e-01,\n",
       "         1.4772e-01, -1.7737e-01, -1.6458e-01, -4.7632e-01, -9.9866e-02,\n",
       "        -7.7609e-02,  3.6381e-01, -5.1024e-01, -3.6723e-01, -2.4667e-01,\n",
       "        -2.0106e-01,  1.8970e-01,  1.2936e-01, -7.0922e-01,  1.8065e-01,\n",
       "         4.2441e+00,  3.2519e-01, -3.5622e-01,  7.9890e-02,  4.0457e-01,\n",
       "        -5.2027e-01, -4.0209e-01,  1.1543e-01,  5.4013e-01, -8.5186e-01,\n",
       "         5.7481e-01,  3.0116e-01,  3.0603e-01,  3.0002e-02, -3.7785e-01,\n",
       "        -2.3895e-01,  1.0855e-01, -7.3347e-02, -2.2568e-02, -1.8636e-01,\n",
       "         5.5137e-01, -2.5551e-01,  5.6108e-01,  8.9961e-02, -1.4174e+00,\n",
       "         1.9548e-01,  1.8128e-01,  5.7270e-01,  3.7286e-01,  2.1192e-02,\n",
       "         2.0576e-01, -2.7981e-01, -4.0403e-02, -5.4553e-02, -2.4785e-01,\n",
       "        -2.4466e-01, -4.0419e-03,  8.9292e-02,  5.5506e-01, -1.7438e-01,\n",
       "         4.4969e-01,  3.9400e-01, -5.3704e-01,  6.6374e-01,  3.8592e-01,\n",
       "         6.9357e-01,  6.0498e-01, -2.1726e-01, -1.0124e-01, -2.2627e-01,\n",
       "         5.7905e-01,  4.2297e-01, -1.2389e-01,  2.0031e-01,  4.5129e-01,\n",
       "         1.7262e-01,  1.0963e-02,  3.6436e-01,  5.7858e-01, -5.3210e-01,\n",
       "        -1.4753e-02,  6.1678e-01, -3.0254e-01, -3.7331e-01,  4.2933e-02,\n",
       "        -2.8411e-01,  2.5481e-01, -3.1135e-01, -2.4889e+00,  1.2208e-01,\n",
       "        -8.3915e-02, -1.0063e-01,  1.6028e-01,  9.8307e-02, -1.5816e-01,\n",
       "        -3.4995e-02, -1.4911e-01, -8.0463e-01,  5.4030e-01,  7.1562e-02,\n",
       "         1.7398e-01,  1.4491e-01, -7.0773e-01,  3.9191e-01,  1.0117e-01,\n",
       "        -2.8370e-01,  2.8936e-01,  1.5133e-01,  5.0763e-02, -2.4023e-01,\n",
       "         4.4110e-01, -3.9493e-02,  2.6435e-01,  3.1356e-01, -1.8297e-01,\n",
       "        -2.4273e-01, -1.7542e-01,  1.4501e-01,  3.0055e-01, -2.8845e-01,\n",
       "        -1.5901e-01,  1.7493e-01, -2.9559e-01, -3.4490e+00,  1.3099e-01,\n",
       "        -3.8233e-01, -1.0336e-01,  6.8291e-01,  6.9417e-01,  6.1574e-01,\n",
       "        -8.2423e-02, -1.2499e-01, -1.2243e-01,  2.8974e-01, -4.1564e-01,\n",
       "         6.8800e-02,  6.7222e-01,  5.1716e-01, -3.0253e-02,  3.6390e-01,\n",
       "        -5.9201e-01,  2.2436e-01, -2.7201e-01, -8.8382e-02, -5.5831e-01,\n",
       "         1.0460e-01, -3.3686e-01,  4.6233e-01,  6.3347e-01, -5.7720e-01,\n",
       "        -4.1045e-01, -6.3033e-02, -2.6181e-01,  2.5220e-01, -5.7010e-01,\n",
       "        -4.4242e-02, -2.5702e-03, -2.6010e-01, -2.0902e-01,  2.1671e-01,\n",
       "        -1.5338e-01,  2.3135e-02,  8.3758e-02,  2.4785e-01,  8.1829e-01,\n",
       "         4.6562e-01,  1.6161e-01,  1.5305e-01, -2.2000e-01, -2.5913e-01,\n",
       "        -3.0355e-01,  2.0841e-01, -8.6140e-02, -1.0182e-01,  7.8481e-01,\n",
       "         1.0315e+00, -5.8092e-01, -2.5592e-01,  1.4235e-01,  2.2627e-01,\n",
       "        -3.8135e-01, -1.7177e-01,  6.8986e-01,  9.5218e-01, -4.2518e-01,\n",
       "         2.9856e-01, -7.7871e-01,  4.6342e-01,  3.8082e-01,  3.3461e-01,\n",
       "        -3.6359e-01,  1.3449e-01,  6.0971e-02, -6.3682e-01,  6.5791e-01,\n",
       "        -3.4900e-01, -1.6919e+00, -1.1290e-01, -8.9322e-03,  7.0164e-01,\n",
       "        -2.4298e-01, -5.0133e-01, -9.4679e-02,  9.2998e-02, -6.9514e-01,\n",
       "         1.6732e-01,  1.0738e-01, -3.5135e-01, -4.1886e-01, -5.6835e-02,\n",
       "         1.8974e-01, -6.7744e-01, -5.0675e-02, -2.8237e-01, -9.4651e-02,\n",
       "         2.3333e-01,  2.1024e-01, -1.3943e-01,  4.7849e-01, -3.5598e-02,\n",
       "        -5.0289e-02,  2.2644e-01,  1.7870e-01, -8.6449e-02, -4.6139e-01,\n",
       "        -9.7895e-02,  9.5689e-03, -6.0332e-01, -1.0339e-01, -6.9934e-01,\n",
       "         8.6564e-01,  2.4269e-01,  1.2407e-01, -4.4824e-01,  6.2005e-02,\n",
       "         1.1447e-01, -4.3742e-02,  1.5308e+00, -4.7716e-01,  4.9675e-01,\n",
       "         8.2663e-01,  4.4054e-01, -8.6616e-02,  2.1151e-01, -1.6980e-02,\n",
       "         3.6449e-02,  5.2057e-02, -4.3879e-01, -2.0526e-01, -1.0826e-01,\n",
       "        -2.0654e-01,  5.4324e-02, -2.3006e-01, -2.3910e-01,  3.5886e-01,\n",
       "        -3.6865e-01, -4.1345e-01,  3.2852e-01, -2.1309e-01, -7.7967e-01,\n",
       "        -4.0635e-01,  4.1312e-01,  4.5644e-01,  5.6297e-01, -4.0113e-02,\n",
       "        -7.8324e-02,  3.5196e-01, -4.0508e-01,  4.9119e-01,  2.8871e-01,\n",
       "         1.2004e-02,  2.1122e-02,  5.8201e-01,  7.2554e-02, -1.2406e-01,\n",
       "        -2.2747e-01, -3.6875e-01,  1.2822e-01, -1.3219e-02, -2.5432e-01,\n",
       "        -5.4382e-01, -1.6104e-01, -4.9271e-01, -2.6982e-05, -1.6866e-01,\n",
       "        -2.0367e+00, -1.8150e-01,  7.2432e-01,  2.6644e-01,  2.3441e-01,\n",
       "         1.3906e-01, -7.0422e-03,  4.3320e-01, -3.9089e-01,  3.8913e-01,\n",
       "        -1.3505e-01,  1.8608e-01, -2.7714e-01,  7.7001e-02, -3.5178e-01,\n",
       "         3.1395e-01, -6.1126e-01, -1.9384e-01,  3.4077e-02,  7.6536e-02,\n",
       "        -6.3849e-01,  9.1558e-02,  6.1446e-01, -9.3747e-02,  2.7309e-02,\n",
       "        -2.9999e-01,  8.1415e-02,  2.3125e-01,  4.6289e-02,  1.2134e-01,\n",
       "         1.3592e-01, -5.6097e-01, -2.1794e-01, -6.8162e-01,  6.4019e-01,\n",
       "        -1.8568e-01, -1.6626e-01,  3.4131e-01,  1.8143e-01,  1.4511e-01,\n",
       "         4.1716e-02,  3.5290e-01,  2.6542e-01, -3.3044e-01,  6.5737e-01,\n",
       "        -4.8462e-01, -4.2369e-01,  5.4556e-01, -4.1632e-01, -7.4869e-02,\n",
       "        -2.7194e-01, -5.6729e-02, -1.9846e-01, -2.5328e-01, -8.4373e-01,\n",
       "        -2.5077e-01, -7.6245e-02,  1.3954e-01, -7.3810e-01, -7.1694e-02,\n",
       "         3.7180e-01, -6.6641e-01, -7.3948e-02,  1.0741e-02,  6.6874e-02,\n",
       "        -5.4790e-01, -2.3494e-01, -5.4339e-02, -2.7594e-01,  2.3641e-01,\n",
       "         9.0829e-02, -2.4923e-02, -6.5618e-01, -1.5407e-01,  6.5145e-03,\n",
       "        -1.8896e-01, -4.8536e-01,  4.1967e-01,  4.9990e-01, -2.3470e-01,\n",
       "         2.3999e-01,  2.2489e-02,  7.1898e-02,  3.7770e-01,  2.2666e-01,\n",
       "        -4.6463e-02,  7.9462e-02, -1.3600e-01,  2.6624e-01, -1.0557e-01,\n",
       "        -5.1542e-01, -2.1026e-01, -3.6529e-01,  3.7680e-01,  4.2558e-01,\n",
       "        -2.0673e-01,  1.7708e-01, -9.5000e-01,  3.5931e-01, -6.9485e-01,\n",
       "         2.6662e-01, -3.8393e-01, -1.4876e-01,  3.5606e-01, -1.9180e-01,\n",
       "         5.2490e-02,  6.9162e-01,  1.2743e-01, -2.9465e-01, -6.5748e-01,\n",
       "        -1.3319e-01, -1.6700e-01,  3.4043e-01,  1.0655e-01,  1.4711e-01,\n",
       "        -5.7975e-01, -1.9442e-01, -5.5820e-01,  1.5113e+00,  2.5854e-01,\n",
       "        -7.7182e-02,  1.9113e-01, -2.0155e-01,  5.2039e-02, -6.6810e-02,\n",
       "         7.7022e-01,  4.3337e-01,  2.1713e-01, -1.9559e-01,  1.1622e-01,\n",
       "         6.9701e-02,  1.9887e-01,  4.4560e-01, -2.0377e-01,  9.3891e-02,\n",
       "        -3.8858e-01, -1.0287e+00, -8.7257e-02,  3.0796e-01,  1.1579e-01,\n",
       "         2.2186e-01,  2.4396e-02, -2.2758e-01,  7.7906e-01,  8.9298e-02,\n",
       "        -5.7492e-01, -2.8990e-01,  5.5056e-01, -3.1180e-01,  5.1760e-01,\n",
       "        -2.1880e-01,  3.5772e-01, -9.8653e-01,  3.4399e-02, -1.5934e-01,\n",
       "        -2.6761e-01,  4.0133e-02,  7.4575e-02,  3.0935e-01,  2.3991e-02,\n",
       "        -2.4070e-01,  1.9046e-01, -3.6814e-01,  3.0126e-01,  1.0484e-01,\n",
       "         3.0939e-02,  3.2499e-01,  4.0934e-01, -1.7192e-01,  5.4189e-01,\n",
       "         3.5965e-01,  1.4977e-01, -2.0299e-01,  2.5857e-02, -2.3124e-01,\n",
       "        -5.2681e-01, -5.0653e-02, -4.0077e-01,  3.5184e-02,  6.1388e-01,\n",
       "         1.7713e-01, -5.8146e-01,  1.2276e-01,  2.9924e-02, -5.3960e-02,\n",
       "        -4.8978e-01,  8.5425e-02, -1.6308e-01,  2.2881e-02,  2.6261e-01,\n",
       "         2.0515e-01,  3.4557e-01,  2.7707e-01,  3.1900e-01,  6.0790e-01,\n",
       "        -5.5657e-01, -4.6023e-01, -1.5954e+00,  1.5275e-01,  3.5691e-01,\n",
       "         4.9637e-01, -1.7432e-01,  1.8391e-01,  5.2575e-01,  1.6172e-01,\n",
       "        -1.6158e-01,  1.2285e-01,  1.7329e-01,  1.0693e+00,  4.1782e-01,\n",
       "         2.6315e-01, -2.6412e-02, -3.4535e-01,  3.1312e-01,  3.1302e-03,\n",
       "        -1.3553e-01,  9.2502e-02,  1.8213e-01,  1.0432e-01, -5.5065e-02,\n",
       "        -5.2151e-01, -5.9766e-01, -3.0186e-01,  1.1254e-02,  6.2411e-01,\n",
       "        -2.4277e-01,  2.0318e-01, -1.6011e-01,  8.6397e-01, -2.2691e-02,\n",
       "        -4.4046e-01, -6.2857e-02, -3.9069e-01,  1.0784e-01,  1.1981e-01,\n",
       "         4.9630e-01, -3.8377e-03, -4.2250e-01,  1.0451e+00, -2.6349e-01,\n",
       "        -1.4386e-01,  2.8545e-01,  2.6442e-01,  5.0848e-01, -3.4544e-01,\n",
       "         2.0938e-01,  3.9765e-01, -2.8668e-01, -2.9289e-01,  1.0621e-01,\n",
       "         1.2800e-01,  4.2874e-01, -7.5396e-02,  2.4798e-01,  8.1016e-02,\n",
       "        -2.1906e-02, -2.7718e-01, -7.3758e-02, -5.9758e-02, -1.1127e-01,\n",
       "        -1.2804e-01,  2.8441e-01, -1.5104e-01, -2.0100e-01,  7.6934e-01,\n",
       "         3.0968e-01, -5.9233e-01, -3.4167e-01, -1.5913e-01, -5.3265e-02,\n",
       "         2.1583e-01, -3.5234e-01, -1.2197e-01,  3.0294e-01,  7.3882e-01,\n",
       "         1.3296e-01, -3.4018e-01, -8.1062e-02, -2.5973e-01,  1.7507e-01,\n",
       "         2.3974e-02,  4.1746e-01, -6.2069e+00,  1.1619e-01, -5.7523e-01,\n",
       "        -2.6148e-01, -3.7661e-01, -2.8330e-01,  1.3297e-01,  3.6957e-01,\n",
       "         7.4661e-02, -3.4777e-01,  1.5740e-01,  3.4407e-01, -5.0272e-01,\n",
       "         1.7432e-01,  7.9398e-01,  7.3562e-01], device='cuda:0')"
      ]
     },
     "execution_count": 153,
     "metadata": {},
     "output_type": "execute_result"
    }
   ],
   "source": [
    "documents[0].embedding"
   ]
  },
  {
   "cell_type": "code",
   "execution_count": 154,
   "metadata": {
    "colab": {
     "base_uri": "https://localhost:8080/"
    },
    "id": "zX4ZkKaPPIph",
    "outputId": "39bdae6a-d7fc-41c2-db68-a52c773ffd78"
   },
   "outputs": [
    {
     "data": {
      "text/plain": [
       "tensor([], device='cuda:0')"
      ]
     },
     "execution_count": 154,
     "metadata": {},
     "output_type": "execute_result"
    }
   ],
   "source": [
    "documents[0].tokens[31].embedding"
   ]
  },
  {
   "cell_type": "code",
   "execution_count": 155,
   "metadata": {
    "id": "w8XT_0ahPIph"
   },
   "outputs": [],
   "source": [
    "def get_embeddings(embeddings, sentence):\n",
    "    sent = Sentence(sentence)\n",
    "    embeddings.embed(sent)\n",
    "    if len(sent.embedding):\n",
    "        return sent.embedding.float()\n",
    "    else:\n",
    "        return torch.stack([token.embedding for token in sent.tokens]).float()"
   ]
  },
  {
   "cell_type": "code",
   "execution_count": 156,
   "metadata": {
    "colab": {
     "base_uri": "https://localhost:8080/"
    },
    "id": "2yt6esWrPIph",
    "outputId": "eb6821d1-b68a-49c5-8abc-2e3266558349"
   },
   "outputs": [
    {
     "data": {
      "text/plain": [
       "tensor([-6.4245e-02,  3.5365e-01, -2.4962e-01, -5.3912e-01, -1.9917e-01,\n",
       "        -2.7712e-01,  1.6942e-01,  1.0867e-01, -4.0799e-01, -1.4945e-01,\n",
       "         4.4679e-02, -1.9687e-01, -3.0574e-01,  9.6215e-02,  2.8053e-01,\n",
       "         9.0462e-01, -3.0250e-01,  1.7854e-01, -1.6856e-01, -1.7227e-01,\n",
       "        -1.8270e-01,  4.5121e-01,  3.6128e-01,  1.2309e-01, -1.2047e-02,\n",
       "        -5.0255e-01,  4.2645e-01, -3.7183e-02, -1.7052e-01, -4.8920e-02,\n",
       "         1.0503e-01,  3.3456e-01, -3.8483e-02, -4.7287e-01, -7.4431e-02,\n",
       "         2.3990e-01, -8.3231e-02,  1.7974e-01,  4.8939e-01,  9.3028e-03,\n",
       "        -4.2722e-01,  2.6338e-01, -1.3217e-01, -1.3950e-01, -1.1859e-01,\n",
       "         4.5835e-02, -3.9031e+00, -1.0726e-01,  5.1103e-02, -9.9710e-02,\n",
       "         1.5913e-01, -9.5331e-02,  2.1513e-01,  4.7707e-01,  2.1226e-01,\n",
       "         4.3450e-01, -4.5154e-01,  1.8344e-01, -1.0171e-01, -3.6373e-01,\n",
       "         8.9560e-01,  3.5931e-01, -2.8519e-01,  2.9428e-02,  3.3968e-01,\n",
       "         4.1062e-01, -2.1050e-02,  2.7801e-02,  2.8888e-01,  4.5761e-01,\n",
       "        -3.8254e-01, -1.9211e-01, -2.6551e-01,  1.7064e-01, -2.0920e-01,\n",
       "        -3.3608e-01, -1.0044e-01, -2.9611e-01, -5.6573e-01,  4.3841e-01,\n",
       "        -8.9239e-02, -1.4645e-02,  2.2009e-01,  2.5755e-01, -2.6711e-01,\n",
       "        -1.4440e-01, -2.8944e-01,  2.2547e-01,  6.0303e-01,  1.0250e-01,\n",
       "        -2.0606e-01, -1.5392e-01, -3.2992e-03,  7.7604e-02,  1.8428e-01,\n",
       "         1.6114e-01,  2.5668e-01, -8.3616e-02,  2.7078e-01, -5.4946e-02,\n",
       "         4.9633e-01, -2.7734e-01,  4.1486e-01, -5.3347e-01, -7.8131e-01,\n",
       "         1.7047e-01,  2.8687e-01,  4.9673e-02,  4.6922e-01, -1.6500e+00,\n",
       "         4.6991e-01, -1.5328e-01,  2.7729e-01, -1.0157e+00,  1.5022e-01,\n",
       "        -1.7466e-01,  4.1232e-02, -4.4218e-01, -5.0299e-01,  1.1937e-01,\n",
       "         1.8505e-01,  1.7673e-01,  2.1935e-01, -1.3052e+00, -3.4139e-01,\n",
       "        -3.8844e-02, -2.4191e-01,  2.5906e-01,  1.2551e-01, -1.7339e-02,\n",
       "         4.4672e-01,  3.3219e-01, -2.1076e-01, -2.6042e-01,  2.1485e-01,\n",
       "         1.6804e-01, -1.6398e-01,  1.1147e-01, -1.4731e-01,  1.0370e-01,\n",
       "        -2.0025e-01, -1.7985e-01, -2.5822e+00, -9.3411e-02,  5.8352e-01,\n",
       "         4.2851e-01,  1.3719e-01, -4.4423e-01, -2.4912e-03,  6.3892e-01,\n",
       "         4.1029e-01, -3.2187e-01,  5.8879e-02, -2.1344e-01, -4.0472e-02,\n",
       "        -4.0414e-01,  3.8056e-01,  1.7888e-01, -4.1893e-01,  1.6880e-01,\n",
       "        -4.6561e-02, -3.3560e-01,  1.3599e-02,  2.4541e-01, -1.9910e-01,\n",
       "         5.3978e-01,  5.7400e-01,  5.7995e-01, -3.8399e-02, -4.4134e-02,\n",
       "         3.8312e-01, -1.6357e-02,  7.0812e-01, -1.6653e-01, -4.0108e-01,\n",
       "         8.2581e-02,  4.2481e-01, -1.2611e-01,  4.2772e-01, -7.9697e-02,\n",
       "        -7.4779e-01,  7.4372e-02,  2.0130e-01,  8.0436e-01,  8.2707e-01,\n",
       "         3.8594e-01, -2.6690e-02, -2.8838e-01,  2.1367e-01,  2.3883e-01,\n",
       "         1.4772e-01, -1.7737e-01, -1.6458e-01, -4.7632e-01, -9.9866e-02,\n",
       "        -7.7609e-02,  3.6381e-01, -5.1024e-01, -3.6723e-01, -2.4667e-01,\n",
       "        -2.0106e-01,  1.8970e-01,  1.2936e-01, -7.0922e-01,  1.8065e-01,\n",
       "         4.2441e+00,  3.2519e-01, -3.5622e-01,  7.9891e-02,  4.0457e-01,\n",
       "        -5.2027e-01, -4.0209e-01,  1.1543e-01,  5.4013e-01, -8.5186e-01,\n",
       "         5.7481e-01,  3.0116e-01,  3.0603e-01,  3.0003e-02, -3.7785e-01,\n",
       "        -2.3895e-01,  1.0855e-01, -7.3347e-02, -2.2569e-02, -1.8636e-01,\n",
       "         5.5137e-01, -2.5551e-01,  5.6109e-01,  8.9961e-02, -1.4174e+00,\n",
       "         1.9548e-01,  1.8128e-01,  5.7270e-01,  3.7286e-01,  2.1191e-02,\n",
       "         2.0575e-01, -2.7981e-01, -4.0403e-02, -5.4554e-02, -2.4785e-01,\n",
       "        -2.4466e-01, -4.0418e-03,  8.9292e-02,  5.5506e-01, -1.7438e-01,\n",
       "         4.4969e-01,  3.9400e-01, -5.3704e-01,  6.6374e-01,  3.8592e-01,\n",
       "         6.9357e-01,  6.0498e-01, -2.1726e-01, -1.0124e-01, -2.2627e-01,\n",
       "         5.7905e-01,  4.2297e-01, -1.2389e-01,  2.0031e-01,  4.5129e-01,\n",
       "         1.7262e-01,  1.0963e-02,  3.6436e-01,  5.7858e-01, -5.3210e-01,\n",
       "        -1.4754e-02,  6.1678e-01, -3.0254e-01, -3.7331e-01,  4.2933e-02,\n",
       "        -2.8411e-01,  2.5481e-01, -3.1135e-01, -2.4889e+00,  1.2208e-01,\n",
       "        -8.3916e-02, -1.0063e-01,  1.6028e-01,  9.8307e-02, -1.5816e-01,\n",
       "        -3.4994e-02, -1.4911e-01, -8.0463e-01,  5.4030e-01,  7.1562e-02,\n",
       "         1.7398e-01,  1.4491e-01, -7.0773e-01,  3.9191e-01,  1.0117e-01,\n",
       "        -2.8370e-01,  2.8936e-01,  1.5133e-01,  5.0763e-02, -2.4023e-01,\n",
       "         4.4110e-01, -3.9493e-02,  2.6435e-01,  3.1356e-01, -1.8297e-01,\n",
       "        -2.4273e-01, -1.7542e-01,  1.4501e-01,  3.0055e-01, -2.8845e-01,\n",
       "        -1.5901e-01,  1.7493e-01, -2.9559e-01, -3.4490e+00,  1.3099e-01,\n",
       "        -3.8233e-01, -1.0336e-01,  6.8291e-01,  6.9417e-01,  6.1574e-01,\n",
       "        -8.2423e-02, -1.2499e-01, -1.2243e-01,  2.8974e-01, -4.1564e-01,\n",
       "         6.8799e-02,  6.7222e-01,  5.1716e-01, -3.0253e-02,  3.6390e-01,\n",
       "        -5.9201e-01,  2.2436e-01, -2.7201e-01, -8.8383e-02, -5.5831e-01,\n",
       "         1.0460e-01, -3.3686e-01,  4.6233e-01,  6.3347e-01, -5.7720e-01,\n",
       "        -4.1045e-01, -6.3033e-02, -2.6181e-01,  2.5220e-01, -5.7010e-01,\n",
       "        -4.4242e-02, -2.5703e-03, -2.6010e-01, -2.0902e-01,  2.1671e-01,\n",
       "        -1.5338e-01,  2.3135e-02,  8.3758e-02,  2.4785e-01,  8.1829e-01,\n",
       "         4.6562e-01,  1.6161e-01,  1.5305e-01, -2.2000e-01, -2.5913e-01,\n",
       "        -3.0355e-01,  2.0841e-01, -8.6139e-02, -1.0182e-01,  7.8481e-01,\n",
       "         1.0315e+00, -5.8092e-01, -2.5592e-01,  1.4235e-01,  2.2627e-01,\n",
       "        -3.8135e-01, -1.7177e-01,  6.8986e-01,  9.5218e-01, -4.2518e-01,\n",
       "         2.9856e-01, -7.7871e-01,  4.6342e-01,  3.8082e-01,  3.3461e-01,\n",
       "        -3.6359e-01,  1.3449e-01,  6.0971e-02, -6.3682e-01,  6.5791e-01,\n",
       "        -3.4899e-01, -1.6919e+00, -1.1290e-01, -8.9324e-03,  7.0164e-01,\n",
       "        -2.4298e-01, -5.0133e-01, -9.4679e-02,  9.2998e-02, -6.9514e-01,\n",
       "         1.6732e-01,  1.0738e-01, -3.5135e-01, -4.1886e-01, -5.6835e-02,\n",
       "         1.8974e-01, -6.7744e-01, -5.0675e-02, -2.8237e-01, -9.4652e-02,\n",
       "         2.3333e-01,  2.1024e-01, -1.3943e-01,  4.7849e-01, -3.5598e-02,\n",
       "        -5.0288e-02,  2.2644e-01,  1.7870e-01, -8.6450e-02, -4.6139e-01,\n",
       "        -9.7895e-02,  9.5690e-03, -6.0332e-01, -1.0339e-01, -6.9934e-01,\n",
       "         8.6564e-01,  2.4269e-01,  1.2407e-01, -4.4824e-01,  6.2005e-02,\n",
       "         1.1447e-01, -4.3741e-02,  1.5308e+00, -4.7716e-01,  4.9675e-01,\n",
       "         8.2663e-01,  4.4054e-01, -8.6616e-02,  2.1151e-01, -1.6980e-02,\n",
       "         3.6450e-02,  5.2057e-02, -4.3879e-01, -2.0526e-01, -1.0826e-01,\n",
       "        -2.0654e-01,  5.4325e-02, -2.3006e-01, -2.3910e-01,  3.5886e-01,\n",
       "        -3.6865e-01, -4.1345e-01,  3.2852e-01, -2.1309e-01, -7.7967e-01,\n",
       "        -4.0635e-01,  4.1312e-01,  4.5644e-01,  5.6297e-01, -4.0113e-02,\n",
       "        -7.8324e-02,  3.5196e-01, -4.0508e-01,  4.9119e-01,  2.8871e-01,\n",
       "         1.2004e-02,  2.1122e-02,  5.8201e-01,  7.2554e-02, -1.2406e-01,\n",
       "        -2.2747e-01, -3.6875e-01,  1.2822e-01, -1.3220e-02, -2.5432e-01,\n",
       "        -5.4382e-01, -1.6104e-01, -4.9271e-01, -2.6912e-05, -1.6866e-01,\n",
       "        -2.0367e+00, -1.8150e-01,  7.2432e-01,  2.6644e-01,  2.3441e-01,\n",
       "         1.3906e-01, -7.0421e-03,  4.3320e-01, -3.9089e-01,  3.8912e-01,\n",
       "        -1.3505e-01,  1.8608e-01, -2.7714e-01,  7.7001e-02, -3.5178e-01,\n",
       "         3.1395e-01, -6.1126e-01, -1.9384e-01,  3.4077e-02,  7.6535e-02,\n",
       "        -6.3849e-01,  9.1557e-02,  6.1446e-01, -9.3746e-02,  2.7309e-02,\n",
       "        -2.9999e-01,  8.1415e-02,  2.3125e-01,  4.6289e-02,  1.2134e-01,\n",
       "         1.3592e-01, -5.6097e-01, -2.1794e-01, -6.8162e-01,  6.4019e-01,\n",
       "        -1.8568e-01, -1.6626e-01,  3.4131e-01,  1.8143e-01,  1.4511e-01,\n",
       "         4.1716e-02,  3.5290e-01,  2.6542e-01, -3.3044e-01,  6.5737e-01,\n",
       "        -4.8462e-01, -4.2369e-01,  5.4556e-01, -4.1632e-01, -7.4869e-02,\n",
       "        -2.7194e-01, -5.6729e-02, -1.9845e-01, -2.5328e-01, -8.4373e-01,\n",
       "        -2.5077e-01, -7.6245e-02,  1.3954e-01, -7.3810e-01, -7.1694e-02,\n",
       "         3.7180e-01, -6.6641e-01, -7.3948e-02,  1.0741e-02,  6.6874e-02,\n",
       "        -5.4790e-01, -2.3494e-01, -5.4339e-02, -2.7594e-01,  2.3641e-01,\n",
       "         9.0829e-02, -2.4924e-02, -6.5618e-01, -1.5407e-01,  6.5145e-03,\n",
       "        -1.8896e-01, -4.8536e-01,  4.1967e-01,  4.9990e-01, -2.3470e-01,\n",
       "         2.3999e-01,  2.2488e-02,  7.1898e-02,  3.7770e-01,  2.2666e-01,\n",
       "        -4.6463e-02,  7.9462e-02, -1.3600e-01,  2.6624e-01, -1.0557e-01,\n",
       "        -5.1542e-01, -2.1026e-01, -3.6529e-01,  3.7681e-01,  4.2558e-01,\n",
       "        -2.0673e-01,  1.7708e-01, -9.5000e-01,  3.5931e-01, -6.9485e-01,\n",
       "         2.6662e-01, -3.8393e-01, -1.4876e-01,  3.5606e-01, -1.9180e-01,\n",
       "         5.2490e-02,  6.9162e-01,  1.2743e-01, -2.9465e-01, -6.5748e-01,\n",
       "        -1.3319e-01, -1.6700e-01,  3.4043e-01,  1.0655e-01,  1.4711e-01,\n",
       "        -5.7975e-01, -1.9442e-01, -5.5820e-01,  1.5113e+00,  2.5854e-01,\n",
       "        -7.7182e-02,  1.9113e-01, -2.0155e-01,  5.2039e-02, -6.6810e-02,\n",
       "         7.7022e-01,  4.3337e-01,  2.1713e-01, -1.9559e-01,  1.1622e-01,\n",
       "         6.9702e-02,  1.9887e-01,  4.4560e-01, -2.0377e-01,  9.3892e-02,\n",
       "        -3.8858e-01, -1.0287e+00, -8.7258e-02,  3.0796e-01,  1.1579e-01,\n",
       "         2.2186e-01,  2.4396e-02, -2.2758e-01,  7.7906e-01,  8.9298e-02,\n",
       "        -5.7492e-01, -2.8990e-01,  5.5056e-01, -3.1180e-01,  5.1760e-01,\n",
       "        -2.1880e-01,  3.5772e-01, -9.8653e-01,  3.4400e-02, -1.5934e-01,\n",
       "        -2.6761e-01,  4.0133e-02,  7.4575e-02,  3.0935e-01,  2.3991e-02,\n",
       "        -2.4070e-01,  1.9046e-01, -3.6814e-01,  3.0126e-01,  1.0484e-01,\n",
       "         3.0939e-02,  3.2499e-01,  4.0934e-01, -1.7192e-01,  5.4189e-01,\n",
       "         3.5965e-01,  1.4977e-01, -2.0299e-01,  2.5858e-02, -2.3124e-01,\n",
       "        -5.2681e-01, -5.0653e-02, -4.0077e-01,  3.5185e-02,  6.1388e-01,\n",
       "         1.7713e-01, -5.8146e-01,  1.2276e-01,  2.9924e-02, -5.3960e-02,\n",
       "        -4.8978e-01,  8.5425e-02, -1.6308e-01,  2.2882e-02,  2.6261e-01,\n",
       "         2.0515e-01,  3.4557e-01,  2.7707e-01,  3.1900e-01,  6.0790e-01,\n",
       "        -5.5657e-01, -4.6023e-01, -1.5954e+00,  1.5275e-01,  3.5691e-01,\n",
       "         4.9637e-01, -1.7432e-01,  1.8391e-01,  5.2575e-01,  1.6172e-01,\n",
       "        -1.6158e-01,  1.2285e-01,  1.7329e-01,  1.0693e+00,  4.1782e-01,\n",
       "         2.6315e-01, -2.6413e-02, -3.4535e-01,  3.1312e-01,  3.1303e-03,\n",
       "        -1.3553e-01,  9.2502e-02,  1.8213e-01,  1.0432e-01, -5.5064e-02,\n",
       "        -5.2151e-01, -5.9766e-01, -3.0186e-01,  1.1254e-02,  6.2411e-01,\n",
       "        -2.4277e-01,  2.0318e-01, -1.6011e-01,  8.6397e-01, -2.2691e-02,\n",
       "        -4.4046e-01, -6.2857e-02, -3.9069e-01,  1.0784e-01,  1.1981e-01,\n",
       "         4.9630e-01, -3.8376e-03, -4.2250e-01,  1.0451e+00, -2.6349e-01,\n",
       "        -1.4386e-01,  2.8545e-01,  2.6442e-01,  5.0848e-01, -3.4544e-01,\n",
       "         2.0938e-01,  3.9765e-01, -2.8668e-01, -2.9289e-01,  1.0621e-01,\n",
       "         1.2800e-01,  4.2874e-01, -7.5396e-02,  2.4798e-01,  8.1016e-02,\n",
       "        -2.1906e-02, -2.7718e-01, -7.3758e-02, -5.9758e-02, -1.1127e-01,\n",
       "        -1.2804e-01,  2.8441e-01, -1.5104e-01, -2.0100e-01,  7.6934e-01,\n",
       "         3.0968e-01, -5.9233e-01, -3.4167e-01, -1.5913e-01, -5.3265e-02,\n",
       "         2.1583e-01, -3.5234e-01, -1.2197e-01,  3.0294e-01,  7.3882e-01,\n",
       "         1.3297e-01, -3.4018e-01, -8.1062e-02, -2.5973e-01,  1.7507e-01,\n",
       "         2.3974e-02,  4.1746e-01, -6.2069e+00,  1.1619e-01, -5.7523e-01,\n",
       "        -2.6148e-01, -3.7661e-01, -2.8330e-01,  1.3297e-01,  3.6957e-01,\n",
       "         7.4661e-02, -3.4777e-01,  1.5740e-01,  3.4407e-01, -5.0272e-01,\n",
       "         1.7432e-01,  7.9398e-01,  7.3562e-01], device='cuda:0')"
      ]
     },
     "execution_count": 156,
     "metadata": {},
     "output_type": "execute_result"
    }
   ],
   "source": [
    "get_embeddings(bert_doc, watch1)"
   ]
  },
  {
   "cell_type": "markdown",
   "metadata": {
    "id": "Dp3LpDtwPIph"
   },
   "source": [
    "## Model III - Preprocessing Embeddings"
   ]
  },
  {
   "cell_type": "markdown",
   "metadata": {
    "id": "xafyHRinPIpi"
   },
   "source": [
    "### Data Preparation"
   ]
  },
  {
   "cell_type": "code",
   "execution_count": 157,
   "metadata": {
    "colab": {
     "base_uri": "https://localhost:8080/",
     "height": 81,
     "referenced_widgets": [
      "134448f816dd4e1c9fc331e98d7381b9",
      "a0d6a4f644164ad5b8886e50f37fdee7",
      "ae459920284243408cf298063ea85720",
      "f6bfeefba2ae41a786d03af7c2875bea",
      "ae0ece405c544406b9e0c90a665d068c",
      "aed9c03c8e9d4e0f8eda236bd013f637",
      "e01d1f7a9092482f8b03bee5770116bb",
      "89ca84846175417eb38fd7f405a5da93",
      "25a7341afc894965bc384be1379e07dd",
      "0a799174580945b5a21137b528c5da56",
      "d0f6ba92d7484d9aa9ddc84f5318ccba",
      "162b098de96a4b2084685c0a77a0eacb",
      "e47034499cc34e38bc0caba6d32e0af2",
      "f12561a7885745f68335b541d6e33baa",
      "a229f1dee3d043d49b4f337d21aee795",
      "b9f77f25becb47958456c513715fa705",
      "15e6c1e653ea43ceac91c1188d2d9b4b",
      "1d110c4fecb74297b1d648948a410fcd",
      "e6fc878e9bd94c44a1121ed9fb94af18",
      "81bb103bdcff45b4955023635434a513",
      "e413a8f688144c74ba4028bf4ed854d5",
      "1177ccace23c41cd9d4a64ac9a214106"
     ]
    },
    "id": "62H2IcGYPIpi",
    "outputId": "90faa44b-5eaa-496f-de1b-de28c97eb715"
   },
   "outputs": [
    {
     "data": {
      "application/vnd.jupyter.widget-view+json": {
       "model_id": "134448f816dd4e1c9fc331e98d7381b9",
       "version_major": 2,
       "version_minor": 0
      },
      "text/plain": [
       "Map:   0%|          | 0/3081 [00:00<?, ? examples/s]"
      ]
     },
     "metadata": {},
     "output_type": "display_data"
    },
    {
     "data": {
      "application/vnd.jupyter.widget-view+json": {
       "model_id": "162b098de96a4b2084685c0a77a0eacb",
       "version_major": 2,
       "version_minor": 0
      },
      "text/plain": [
       "Map:   0%|          | 0/771 [00:00<?, ? examples/s]"
      ]
     },
     "metadata": {},
     "output_type": "display_data"
    }
   ],
   "source": [
    "train_dataset_doc = train_dataset.map(lambda row: {'embeddings': get_embeddings(bert_doc, row['sentence'])})\n",
    "test_dataset_doc = test_dataset.map(lambda row: {'embeddings': get_embeddings(bert_doc, row['sentence'])})"
   ]
  },
  {
   "cell_type": "code",
   "execution_count": 158,
   "metadata": {
    "id": "q5rURvw6PIpi"
   },
   "outputs": [],
   "source": [
    "train_dataset_doc.set_format(type='torch', columns=['embeddings', 'labels'])\n",
    "test_dataset_doc.set_format(type='torch', columns=['embeddings', 'labels'])"
   ]
  },
  {
   "cell_type": "code",
   "execution_count": 159,
   "metadata": {
    "colab": {
     "base_uri": "https://localhost:8080/"
    },
    "id": "t9Ov7ucKPIpi",
    "outputId": "fed21982-e665-4e43-caf4-2e432cd29798"
   },
   "outputs": [
    {
     "data": {
      "text/plain": [
       "tensor([[-0.0958,  0.2077, -0.5529,  ...,  0.3126,  0.1283,  0.3483],\n",
       "        [ 0.0290,  0.6617,  0.3451,  ..., -0.0209,  0.2655,  0.6687],\n",
       "        [-0.0159,  0.0439, -0.1976,  ...,  0.1954,  0.5707,  0.8137],\n",
       "        ...,\n",
       "        [ 0.0975, -0.0047, -0.5183,  ...,  0.5229,  0.7665,  0.2394],\n",
       "        [ 0.2676,  0.5103, -0.0146,  ...,  0.2528,  0.5094,  0.8005],\n",
       "        [ 0.3020,  0.2819, -0.2024,  ..., -0.0471,  0.4129,  0.5016]])"
      ]
     },
     "execution_count": 159,
     "metadata": {},
     "output_type": "execute_result"
    }
   ],
   "source": [
    "train_dataset_doc['embeddings']"
   ]
  },
  {
   "cell_type": "code",
   "execution_count": 160,
   "metadata": {
    "id": "OfMQkFCHPIpi"
   },
   "outputs": [],
   "source": [
    "train_dataset_doc = TensorDataset(train_dataset_doc['embeddings'].float(),\n",
    "                                  train_dataset_doc['labels'].view(-1, 1).float())\n",
    "generator = torch.Generator()\n",
    "train_loader = DataLoader(train_dataset_doc, batch_size=32, shuffle=True, generator=generator)\n",
    "\n",
    "test_dataset_doc = TensorDataset(test_dataset_doc['embeddings'].float(),\n",
    "                                 test_dataset_doc['labels'].view(-1, 1).float())\n",
    "test_loader = DataLoader(test_dataset_doc, batch_size=32, shuffle=True)"
   ]
  },
  {
   "cell_type": "markdown",
   "metadata": {
    "id": "RDOr-sgLPIpi"
   },
   "source": [
    "### Model Configuration & Training"
   ]
  },
  {
   "cell_type": "code",
   "execution_count": 161,
   "metadata": {
    "id": "NEjwk7i8PIpj"
   },
   "outputs": [],
   "source": [
    "torch.manual_seed(41)\n",
    "model = nn.Sequential(\n",
    "    # Classifier\n",
    "    nn.Linear(bert_doc.embedding_length, 3),\n",
    "    nn.ReLU(),\n",
    "    nn.Linear(3, 1)\n",
    ")\n",
    "loss_fn = nn.BCEWithLogitsLoss()\n",
    "optimizer = optim.Adam(model.parameters(), lr=1e-3)"
   ]
  },
  {
   "cell_type": "code",
   "execution_count": 162,
   "metadata": {
    "id": "93pg9nrOPIpj"
   },
   "outputs": [],
   "source": [
    "sbs_doc_emb = StepByStep(model, loss_fn, optimizer)\n",
    "sbs_doc_emb.set_loaders(train_loader, test_loader)\n",
    "sbs_doc_emb.train(20)"
   ]
  },
  {
   "cell_type": "code",
   "execution_count": 163,
   "metadata": {
    "colab": {
     "base_uri": "https://localhost:8080/",
     "height": 395
    },
    "id": "5jSTsMaSPIpj",
    "outputId": "bf88835b-a1d4-4040-862a-584617a0c990"
   },
   "outputs": [
    {
     "data": {
      "image/png": "[encoded data removed]",
      "text/plain": [
       "<Figure size 1000x400 with 1 Axes>"
      ]
     },
     "metadata": {},
     "output_type": "display_data"
    }
   ],
   "source": [
    "fig = sbs_doc_emb.plot_losses()"
   ]
  },
  {
   "cell_type": "code",
   "execution_count": 164,
   "metadata": {
    "colab": {
     "base_uri": "https://localhost:8080/"
    },
    "id": "1ZpLkF80PIpj",
    "outputId": "21052d89-b2a7-4095-f299-1121da84d61c"
   },
   "outputs": [
    {
     "data": {
      "text/plain": [
       "tensor([[437, 447],\n",
       "        [291, 324]])"
      ]
     },
     "execution_count": 164,
     "metadata": {},
     "output_type": "execute_result"
    }
   ],
   "source": [
    "StepByStep.loader_apply(test_loader, sbs_doc_emb.correct)"
   ]
  },
  {
   "cell_type": "markdown",
   "metadata": {
    "id": "kLKZdrC9PIpj"
   },
   "source": [
    "# BERT"
   ]
  },
  {
   "cell_type": "code",
   "execution_count": 165,
   "metadata": {
    "colab": {
     "base_uri": "https://localhost:8080/"
    },
    "id": "PtgTF0CIPIpk",
    "outputId": "4d39d1ff-63a0-4fa3-b2c3-adb393cb7cd7"
   },
   "outputs": [
    {
     "name": "stdout",
     "output_type": "stream",
     "text": [
      "<class 'transformers.models.bert.modeling_bert.BertModel'>\n"
     ]
    }
   ],
   "source": [
    "from transformers import AutoModel\n",
    "auto_model = AutoModel.from_pretrained('bert-base-uncased')\n",
    "print(auto_model.__class__)"
   ]
  },
  {
   "cell_type": "code",
   "execution_count": 166,
   "metadata": {
    "id": "bYjuuJG-PIpk"
   },
   "outputs": [],
   "source": [
    "from transformers import BertModel\n",
    "bert_model = BertModel.from_pretrained('bert-base-uncased')"
   ]
  },
  {
   "cell_type": "code",
   "execution_count": 167,
   "metadata": {
    "colab": {
     "base_uri": "https://localhost:8080/"
    },
    "id": "IpDTWGNBPIpk",
    "outputId": "325ec284-3ec9-4bc3-ebe3-0355bd011cb2"
   },
   "outputs": [
    {
     "data": {
      "text/plain": [
       "BertConfig {\n",
       "  \"_name_or_path\": \"bert-base-uncased\",\n",
       "  \"architectures\": [\n",
       "    \"BertForMaskedLM\"\n",
       "  ],\n",
       "  \"attention_probs_dropout_prob\": 0.1,\n",
       "  \"classifier_dropout\": null,\n",
       "  \"gradient_checkpointing\": false,\n",
       "  \"hidden_act\": \"gelu\",\n",
       "  \"hidden_dropout_prob\": 0.1,\n",
       "  \"hidden_size\": 768,\n",
       "  \"initializer_range\": 0.02,\n",
       "  \"intermediate_size\": 3072,\n",
       "  \"layer_norm_eps\": 1e-12,\n",
       "  \"max_position_embeddings\": 512,\n",
       "  \"model_type\": \"bert\",\n",
       "  \"num_attention_heads\": 12,\n",
       "  \"num_hidden_layers\": 12,\n",
       "  \"pad_token_id\": 0,\n",
       "  \"position_embedding_type\": \"absolute\",\n",
       "  \"transformers_version\": \"4.32.0\",\n",
       "  \"type_vocab_size\": 2,\n",
       "  \"use_cache\": true,\n",
       "  \"vocab_size\": 30522\n",
       "}"
      ]
     },
     "execution_count": 167,
     "metadata": {},
     "output_type": "execute_result"
    }
   ],
   "source": [
    "bert_model.config"
   ]
  },
  {
   "cell_type": "markdown",
   "metadata": {
    "id": "fBkvBjp5PIpk"
   },
   "source": [
    "## Tokenization"
   ]
  },
  {
   "cell_type": "code",
   "execution_count": 168,
   "metadata": {
    "colab": {
     "base_uri": "https://localhost:8080/"
    },
    "id": "M7ZcsRmdPIpk",
    "outputId": "19550fb1-08d8-46e1-8993-b8ae3577459d",
    "scrolled": true
   },
   "outputs": [
    {
     "data": {
      "text/plain": [
       "30522"
      ]
     },
     "execution_count": 168,
     "metadata": {},
     "output_type": "execute_result"
    }
   ],
   "source": [
    "from transformers import BertTokenizer\n",
    "bert_tokenizer = BertTokenizer.from_pretrained('bert-base-uncased')\n",
    "len(bert_tokenizer.vocab)"
   ]
  },
  {
   "cell_type": "code",
   "execution_count": 169,
   "metadata": {
    "colab": {
     "base_uri": "https://localhost:8080/"
    },
    "id": "kyF47gBWPIpk",
    "outputId": "00c5dbec-5f49-401e-878c-cac075ad67e5"
   },
   "outputs": [
    {
     "data": {
      "text/plain": [
       "{'input_ids': tensor([[  101,  5650,  2003,  1999, 10288, 24759,  5555,  6321,  2206,  1996,\n",
       "          2317, 10442,   102,  3582,  1996,  2317, 10442,  1010,  9253,   102]]), 'token_type_ids': tensor([[0, 0, 0, 0, 0, 0, 0, 0, 0, 0, 0, 0, 0, 1, 1, 1, 1, 1, 1, 1]]), 'attention_mask': tensor([[1, 1, 1, 1, 1, 1, 1, 1, 1, 1, 1, 1, 1, 1, 1, 1, 1, 1, 1, 1]])}"
      ]
     },
     "execution_count": 169,
     "metadata": {},
     "output_type": "execute_result"
    }
   ],
   "source": [
    "sentence1 = 'Alice is inexplicably following the white rabbit'\n",
    "sentence2 = 'Follow the white rabbit, Neo'\n",
    "tokens = bert_tokenizer(sentence1, sentence2, return_tensors='pt')\n",
    "tokens"
   ]
  },
  {
   "cell_type": "code",
   "execution_count": 170,
   "metadata": {
    "colab": {
     "base_uri": "https://localhost:8080/"
    },
    "id": "brcF_Ox1PIpl",
    "outputId": "d4caa8d8-1042-488a-b348-57568df3c7d6"
   },
   "outputs": [
    {
     "name": "stdout",
     "output_type": "stream",
     "text": [
      "['[CLS]', 'alice', 'is', 'in', '##ex', '##pl', '##ica', '##bly', 'following', 'the', 'white', 'rabbit', '[SEP]', 'follow', 'the', 'white', 'rabbit', ',', 'neo', '[SEP]']\n"
     ]
    }
   ],
   "source": [
    "print(bert_tokenizer.convert_ids_to_tokens(tokens['input_ids'][0]))"
   ]
  },
  {
   "cell_type": "code",
   "execution_count": 171,
   "metadata": {
    "colab": {
     "base_uri": "https://localhost:8080/"
    },
    "id": "1Cjrk1qCPIpl",
    "outputId": "aded8752-3c8d-4c5b-b40f-bfd54e8574ed"
   },
   "outputs": [
    {
     "name": "stdout",
     "output_type": "stream",
     "text": [
      "<class 'transformers.models.bert.tokenization_bert_fast.BertTokenizerFast'>\n"
     ]
    }
   ],
   "source": [
    "from transformers import AutoTokenizer\n",
    "auto_tokenizer = AutoTokenizer.from_pretrained('bert-base-uncased')\n",
    "print(auto_tokenizer.__class__)"
   ]
  },
  {
   "cell_type": "markdown",
   "metadata": {
    "id": "j0A5jpZJPIpl"
   },
   "source": [
    "## Input Embeddings\n",
    "\n",
    "![](https://github.com/dvgodoy/PyTorchStepByStep/blob/master/images/bert_input_embed.png?raw=1)"
   ]
  },
  {
   "cell_type": "code",
   "execution_count": 172,
   "metadata": {
    "colab": {
     "base_uri": "https://localhost:8080/"
    },
    "id": "JOhc49UmPIpl",
    "outputId": "3bd4c3da-cdd3-4574-9b20-3fd787e19549"
   },
   "outputs": [
    {
     "data": {
      "text/plain": [
       "BertEmbeddings(\n",
       "  (word_embeddings): Embedding(30522, 768, padding_idx=0)\n",
       "  (position_embeddings): Embedding(512, 768)\n",
       "  (token_type_embeddings): Embedding(2, 768)\n",
       "  (LayerNorm): LayerNorm((768,), eps=1e-12, elementwise_affine=True)\n",
       "  (dropout): Dropout(p=0.1, inplace=False)\n",
       ")"
      ]
     },
     "execution_count": 172,
     "metadata": {},
     "output_type": "execute_result"
    }
   ],
   "source": [
    "input_embeddings = bert_model.embeddings\n",
    "input_embeddings"
   ]
  },
  {
   "cell_type": "code",
   "execution_count": 173,
   "metadata": {
    "colab": {
     "base_uri": "https://localhost:8080/"
    },
    "id": "Zo5g1KN2PIpm",
    "outputId": "da1a5f33-0604-4a0d-b3c2-e27f32af0e80"
   },
   "outputs": [
    {
     "data": {
      "text/plain": [
       "Embedding(30522, 768, padding_idx=0)"
      ]
     },
     "execution_count": 173,
     "metadata": {},
     "output_type": "execute_result"
    }
   ],
   "source": [
    "token_embeddings = input_embeddings.word_embeddings\n",
    "token_embeddings"
   ]
  },
  {
   "cell_type": "code",
   "execution_count": 174,
   "metadata": {
    "colab": {
     "base_uri": "https://localhost:8080/"
    },
    "id": "jr_sA4KEPIpm",
    "outputId": "9def548b-e0e9-41b1-f6ec-7311aca8365a"
   },
   "outputs": [
    {
     "data": {
      "text/plain": [
       "tensor([[[ 1.3630e-02, -2.6490e-02, -2.3503e-02,  ...,  8.6805e-03,\n",
       "           7.1340e-03,  1.5147e-02],\n",
       "         [-6.9710e-02, -8.8202e-02,  5.0619e-03,  ...,  1.4105e-02,\n",
       "           2.1815e-02, -1.3769e-02],\n",
       "         [-3.6044e-02, -2.4606e-02, -2.5735e-02,  ...,  3.3691e-03,\n",
       "          -1.8300e-03,  2.6855e-02],\n",
       "         ...,\n",
       "         [ 5.2089e-05, -1.0468e-02, -9.9103e-03,  ...,  1.4558e-02,\n",
       "           1.3217e-02,  2.2406e-02],\n",
       "         [-3.5037e-02, -7.2933e-02, -3.6124e-02,  ..., -5.7723e-02,\n",
       "          -5.5074e-03,  7.2688e-03],\n",
       "         [-1.4521e-02, -9.9615e-03,  6.0263e-03,  ..., -2.5035e-02,\n",
       "           4.6379e-03, -1.5378e-03]]], grad_fn=<EmbeddingBackward0>)"
      ]
     },
     "execution_count": 174,
     "metadata": {},
     "output_type": "execute_result"
    }
   ],
   "source": [
    "input_token_emb = token_embeddings(tokens['input_ids'])\n",
    "input_token_emb"
   ]
  },
  {
   "cell_type": "code",
   "execution_count": 175,
   "metadata": {
    "colab": {
     "base_uri": "https://localhost:8080/"
    },
    "id": "rx5LiAACPIpm",
    "outputId": "166fa35b-5aa6-4647-a6bb-b02c2d37752c"
   },
   "outputs": [
    {
     "data": {
      "text/plain": [
       "Embedding(512, 768)"
      ]
     },
     "execution_count": 175,
     "metadata": {},
     "output_type": "execute_result"
    }
   ],
   "source": [
    "position_embeddings = input_embeddings.position_embeddings\n",
    "position_embeddings"
   ]
  },
  {
   "cell_type": "code",
   "execution_count": 176,
   "metadata": {
    "colab": {
     "base_uri": "https://localhost:8080/"
    },
    "id": "W6e0kmEnPIpm",
    "outputId": "feb5ced9-f1d0-403d-f043-d400259fe2c1"
   },
   "outputs": [
    {
     "data": {
      "text/plain": [
       "tensor([[  0,   1,   2,   3,   4,   5,   6,   7,   8,   9,  10,  11,  12,  13,\n",
       "          14,  15,  16,  17,  18,  19,  20,  21,  22,  23,  24,  25,  26,  27,\n",
       "          28,  29,  30,  31,  32,  33,  34,  35,  36,  37,  38,  39,  40,  41,\n",
       "          42,  43,  44,  45,  46,  47,  48,  49,  50,  51,  52,  53,  54,  55,\n",
       "          56,  57,  58,  59,  60,  61,  62,  63,  64,  65,  66,  67,  68,  69,\n",
       "          70,  71,  72,  73,  74,  75,  76,  77,  78,  79,  80,  81,  82,  83,\n",
       "          84,  85,  86,  87,  88,  89,  90,  91,  92,  93,  94,  95,  96,  97,\n",
       "          98,  99, 100, 101, 102, 103, 104, 105, 106, 107, 108, 109, 110, 111,\n",
       "         112, 113, 114, 115, 116, 117, 118, 119, 120, 121, 122, 123, 124, 125,\n",
       "         126, 127, 128, 129, 130, 131, 132, 133, 134, 135, 136, 137, 138, 139,\n",
       "         140, 141, 142, 143, 144, 145, 146, 147, 148, 149, 150, 151, 152, 153,\n",
       "         154, 155, 156, 157, 158, 159, 160, 161, 162, 163, 164, 165, 166, 167,\n",
       "         168, 169, 170, 171, 172, 173, 174, 175, 176, 177, 178, 179, 180, 181,\n",
       "         182, 183, 184, 185, 186, 187, 188, 189, 190, 191, 192, 193, 194, 195,\n",
       "         196, 197, 198, 199, 200, 201, 202, 203, 204, 205, 206, 207, 208, 209,\n",
       "         210, 211, 212, 213, 214, 215, 216, 217, 218, 219, 220, 221, 222, 223,\n",
       "         224, 225, 226, 227, 228, 229, 230, 231, 232, 233, 234, 235, 236, 237,\n",
       "         238, 239, 240, 241, 242, 243, 244, 245, 246, 247, 248, 249, 250, 251,\n",
       "         252, 253, 254, 255, 256, 257, 258, 259, 260, 261, 262, 263, 264, 265,\n",
       "         266, 267, 268, 269, 270, 271, 272, 273, 274, 275, 276, 277, 278, 279,\n",
       "         280, 281, 282, 283, 284, 285, 286, 287, 288, 289, 290, 291, 292, 293,\n",
       "         294, 295, 296, 297, 298, 299, 300, 301, 302, 303, 304, 305, 306, 307,\n",
       "         308, 309, 310, 311, 312, 313, 314, 315, 316, 317, 318, 319, 320, 321,\n",
       "         322, 323, 324, 325, 326, 327, 328, 329, 330, 331, 332, 333, 334, 335,\n",
       "         336, 337, 338, 339, 340, 341, 342, 343, 344, 345, 346, 347, 348, 349,\n",
       "         350, 351, 352, 353, 354, 355, 356, 357, 358, 359, 360, 361, 362, 363,\n",
       "         364, 365, 366, 367, 368, 369, 370, 371, 372, 373, 374, 375, 376, 377,\n",
       "         378, 379, 380, 381, 382, 383, 384, 385, 386, 387, 388, 389, 390, 391,\n",
       "         392, 393, 394, 395, 396, 397, 398, 399, 400, 401, 402, 403, 404, 405,\n",
       "         406, 407, 408, 409, 410, 411, 412, 413, 414, 415, 416, 417, 418, 419,\n",
       "         420, 421, 422, 423, 424, 425, 426, 427, 428, 429, 430, 431, 432, 433,\n",
       "         434, 435, 436, 437, 438, 439, 440, 441, 442, 443, 444, 445, 446, 447,\n",
       "         448, 449, 450, 451, 452, 453, 454, 455, 456, 457, 458, 459, 460, 461,\n",
       "         462, 463, 464, 465, 466, 467, 468, 469, 470, 471, 472, 473, 474, 475,\n",
       "         476, 477, 478, 479, 480, 481, 482, 483, 484, 485, 486, 487, 488, 489,\n",
       "         490, 491, 492, 493, 494, 495, 496, 497, 498, 499, 500, 501, 502, 503,\n",
       "         504, 505, 506, 507, 508, 509, 510, 511]])"
      ]
     },
     "execution_count": 176,
     "metadata": {},
     "output_type": "execute_result"
    }
   ],
   "source": [
    "position_ids = torch.arange(512).expand((1, -1))\n",
    "position_ids"
   ]
  },
  {
   "cell_type": "code",
   "execution_count": 177,
   "metadata": {
    "colab": {
     "base_uri": "https://localhost:8080/"
    },
    "id": "SqZUNJBhPIpn",
    "outputId": "e9488fae-f267-4a27-f6a0-b5c82bb52665"
   },
   "outputs": [
    {
     "data": {
      "text/plain": [
       "tensor([[[ 1.7505e-02, -2.5631e-02, -3.6642e-02,  ...,  3.3437e-05,\n",
       "           6.8312e-04,  1.5441e-02],\n",
       "         [ 7.7580e-03,  2.2613e-03, -1.9444e-02,  ...,  2.8910e-02,\n",
       "           2.9753e-02, -5.3247e-03],\n",
       "         [-1.1287e-02, -1.9644e-03, -1.1573e-02,  ...,  1.4908e-02,\n",
       "           1.8741e-02, -7.3140e-03],\n",
       "         ...,\n",
       "         [-9.2809e-03,  8.3268e-03, -4.1643e-03,  ...,  3.4903e-02,\n",
       "          -1.8319e-02, -2.9017e-03],\n",
       "         [-8.5999e-03,  3.2205e-04, -2.1249e-03,  ...,  2.7744e-02,\n",
       "          -7.2760e-03, -2.0280e-03],\n",
       "         [-3.4622e-04, -8.3709e-04, -2.2228e-02,  ...,  2.3493e-02,\n",
       "          -4.5198e-04, -5.7741e-04]]], grad_fn=<EmbeddingBackward0>)"
      ]
     },
     "execution_count": 177,
     "metadata": {},
     "output_type": "execute_result"
    }
   ],
   "source": [
    "seq_length = tokens['input_ids'].size(1)\n",
    "input_pos_emb = position_embeddings(position_ids[:, :seq_length])\n",
    "input_pos_emb"
   ]
  },
  {
   "cell_type": "code",
   "execution_count": 178,
   "metadata": {
    "colab": {
     "base_uri": "https://localhost:8080/"
    },
    "id": "5DXX4yiEPIpn",
    "outputId": "72c96dc2-9048-4b58-eb98-0b3af745beca"
   },
   "outputs": [
    {
     "data": {
      "text/plain": [
       "Embedding(2, 768)"
      ]
     },
     "execution_count": 178,
     "metadata": {},
     "output_type": "execute_result"
    }
   ],
   "source": [
    "segment_embeddings = input_embeddings.token_type_embeddings\n",
    "segment_embeddings"
   ]
  },
  {
   "cell_type": "code",
   "execution_count": 179,
   "metadata": {
    "colab": {
     "base_uri": "https://localhost:8080/"
    },
    "id": "GgCRoV2sPIpn",
    "outputId": "c9e136f6-0558-417d-9504-3d81b6b78e81"
   },
   "outputs": [
    {
     "data": {
      "text/plain": [
       "tensor([[[ 0.0004,  0.0110,  0.0037,  ..., -0.0066, -0.0034, -0.0086],\n",
       "         [ 0.0004,  0.0110,  0.0037,  ..., -0.0066, -0.0034, -0.0086],\n",
       "         [ 0.0004,  0.0110,  0.0037,  ..., -0.0066, -0.0034, -0.0086],\n",
       "         ...,\n",
       "         [ 0.0011, -0.0030, -0.0032,  ...,  0.0047, -0.0052, -0.0112],\n",
       "         [ 0.0011, -0.0030, -0.0032,  ...,  0.0047, -0.0052, -0.0112],\n",
       "         [ 0.0011, -0.0030, -0.0032,  ...,  0.0047, -0.0052, -0.0112]]],\n",
       "       grad_fn=<EmbeddingBackward0>)"
      ]
     },
     "execution_count": 179,
     "metadata": {},
     "output_type": "execute_result"
    }
   ],
   "source": [
    "input_seg_emb = segment_embeddings(tokens['token_type_ids'])\n",
    "input_seg_emb"
   ]
  },
  {
   "cell_type": "code",
   "execution_count": 180,
   "metadata": {
    "colab": {
     "base_uri": "https://localhost:8080/"
    },
    "id": "iUkjZrKTPIpn",
    "outputId": "291cb1c4-f3b3-44fc-981b-daaee4add8fc"
   },
   "outputs": [
    {
     "data": {
      "text/plain": [
       "tensor([[[ 0.0316, -0.0411, -0.0564,  ...,  0.0021,  0.0044,  0.0219],\n",
       "         [-0.0615, -0.0750, -0.0107,  ...,  0.0364,  0.0482, -0.0277],\n",
       "         [-0.0469, -0.0156, -0.0336,  ...,  0.0117,  0.0135,  0.0109],\n",
       "         ...,\n",
       "         [-0.0081, -0.0051, -0.0172,  ...,  0.0542, -0.0103,  0.0083],\n",
       "         [-0.0425, -0.0756, -0.0414,  ..., -0.0252, -0.0180, -0.0060],\n",
       "         [-0.0138, -0.0138, -0.0194,  ...,  0.0032, -0.0011, -0.0133]]],\n",
       "       grad_fn=<AddBackward0>)"
      ]
     },
     "execution_count": 180,
     "metadata": {},
     "output_type": "execute_result"
    }
   ],
   "source": [
    "input_emb = input_token_emb + input_pos_emb + input_seg_emb\n",
    "input_emb"
   ]
  },
  {
   "cell_type": "markdown",
   "metadata": {
    "id": "dGkuZ7UdPIpn"
   },
   "source": [
    "## Pretraining Tasks"
   ]
  },
  {
   "cell_type": "markdown",
   "metadata": {
    "id": "m2FoG2AGPIpn"
   },
   "source": [
    "### Masked Language Model (MLM)\n",
    "\n",
    "![](https://github.com/dvgodoy/PyTorchStepByStep/blob/master/images/bert_mlm.png?raw=1)"
   ]
  },
  {
   "cell_type": "code",
   "execution_count": 181,
   "metadata": {
    "colab": {
     "base_uri": "https://localhost:8080/"
    },
    "id": "ZTw0eDKePIpo",
    "outputId": "51618919-0318-4647-c158-a0dc5d7cfa98"
   },
   "outputs": [
    {
     "data": {
      "text/plain": [
       "[101, 5650, 2003, 1999, 10288, 24759, 5555, 6321, 2206, 1996, 2317, 10442, 102]"
      ]
     },
     "execution_count": 181,
     "metadata": {},
     "output_type": "execute_result"
    }
   ],
   "source": [
    "sentence = 'Alice is inexplicably following the white rabbit'\n",
    "tokens = bert_tokenizer(sentence)\n",
    "tokens['input_ids']"
   ]
  },
  {
   "cell_type": "code",
   "execution_count": 182,
   "metadata": {
    "colab": {
     "base_uri": "https://localhost:8080/"
    },
    "id": "3yCbwZXgPIpo",
    "outputId": "9a0e3565-4f14-43a1-9d06-a78b396207c4"
   },
   "outputs": [
    {
     "data": {
      "text/plain": [
       "{'input_ids': tensor([[  101,  5650,  2003,  1999, 10288, 24759,   103,  6321,  2206,  1996,\n",
       "          2317, 10442,   102]]), 'token_type_ids': tensor([[0, 0, 0, 0, 0, 0, 0, 0, 0, 0, 0, 0, 0]]), 'attention_mask': tensor([[1, 1, 1, 1, 1, 1, 1, 1, 1, 1, 1, 1, 1]]), 'labels': tensor([[-100, -100, -100, -100, -100, -100, 5555, -100, -100, -100, -100, -100,\n",
       "         -100]])}"
      ]
     },
     "execution_count": 182,
     "metadata": {},
     "output_type": "execute_result"
    }
   ],
   "source": [
    "from transformers import DataCollatorForLanguageModeling\n",
    "torch.manual_seed(41)\n",
    "data_collator = DataCollatorForLanguageModeling(tokenizer=bert_tokenizer, mlm_probability=0.15)\n",
    "mlm_tokens = data_collator([tokens])\n",
    "mlm_tokens"
   ]
  },
  {
   "cell_type": "code",
   "execution_count": 183,
   "metadata": {
    "colab": {
     "base_uri": "https://localhost:8080/"
    },
    "id": "XI180xPwPIpo",
    "outputId": "e66ce80c-e224-4e3e-e618-6b7d2c5f45bd",
    "scrolled": true
   },
   "outputs": [
    {
     "name": "stdout",
     "output_type": "stream",
     "text": [
      "['[CLS]', 'alice', 'is', 'in', '##ex', '##pl', '##ica', '##bly', 'following', 'the', 'white', 'rabbit', '[SEP]']\n",
      "['[CLS]', 'alice', 'is', 'in', '##ex', '##pl', '[MASK]', '##bly', 'following', 'the', 'white', 'rabbit', '[SEP]']\n"
     ]
    }
   ],
   "source": [
    "print(bert_tokenizer.convert_ids_to_tokens(tokens['input_ids']))\n",
    "print(bert_tokenizer.convert_ids_to_tokens(mlm_tokens['input_ids'][0]))"
   ]
  },
  {
   "cell_type": "markdown",
   "metadata": {
    "id": "gyTICtkbPIpo"
   },
   "source": [
    "### Next Sentence Prediction (NSP)\n",
    "\n",
    "![](https://github.com/dvgodoy/PyTorchStepByStep/blob/master/images/bert_nsp.png?raw=1)"
   ]
  },
  {
   "cell_type": "code",
   "execution_count": 184,
   "metadata": {
    "colab": {
     "base_uri": "https://localhost:8080/"
    },
    "id": "eWrQN9DpPIpo",
    "outputId": "ddff94bb-6d99-4608-d4d8-b7c97db6c2f2"
   },
   "outputs": [
    {
     "data": {
      "text/plain": [
       "BertPooler(\n",
       "  (dense): Linear(in_features=768, out_features=768, bias=True)\n",
       "  (activation): Tanh()\n",
       ")"
      ]
     },
     "execution_count": 184,
     "metadata": {},
     "output_type": "execute_result"
    }
   ],
   "source": [
    "bert_model.pooler"
   ]
  },
  {
   "cell_type": "code",
   "execution_count": 185,
   "metadata": {
    "colab": {
     "base_uri": "https://localhost:8080/"
    },
    "id": "WmVOtEwePIpp",
    "outputId": "5cf022ac-aa77-400f-c7ea-ac8abebc3bd3"
   },
   "outputs": [
    {
     "data": {
      "text/plain": [
       "{'input_ids': tensor([[  101,  5650,  4076,  1996,  2317, 10442,   102,  3582,  1996,  2317,\n",
       "         10442,  9253,   102]]), 'token_type_ids': tensor([[0, 0, 0, 0, 0, 0, 0, 1, 1, 1, 1, 1, 1]]), 'attention_mask': tensor([[1, 1, 1, 1, 1, 1, 1, 1, 1, 1, 1, 1, 1]])}"
      ]
     },
     "execution_count": 185,
     "metadata": {},
     "output_type": "execute_result"
    }
   ],
   "source": [
    "sentence1 = 'alice follows the white rabbit'\n",
    "sentence2 = 'follow the white rabbit neo'\n",
    "bert_tokenizer(sentence1, sentence2, return_tensors='pt')"
   ]
  },
  {
   "cell_type": "markdown",
   "metadata": {
    "id": "_HkUpyLUPIpp"
   },
   "source": [
    "## Outputs"
   ]
  },
  {
   "cell_type": "code",
   "execution_count": 186,
   "metadata": {
    "colab": {
     "base_uri": "https://localhost:8080/",
     "height": 35
    },
    "id": "5C-AaHkFPIpp",
    "outputId": "360fa058-8ed6-4043-b0cf-b6ff4a5ee55d"
   },
   "outputs": [
    {
     "data": {
      "application/vnd.google.colaboratory.intrinsic+json": {
       "type": "string"
      },
      "text/plain": [
       "'When he had finished, he thanked her kindly and oiled himself thoroughly with his jeweled oil-can, to guard against mishap.'"
      ]
     },
     "execution_count": 186,
     "metadata": {},
     "output_type": "execute_result"
    }
   ],
   "source": [
    "sentence = train_dataset[0]['sentence']\n",
    "sentence"
   ]
  },
  {
   "cell_type": "code",
   "execution_count": 187,
   "metadata": {
    "colab": {
     "base_uri": "https://localhost:8080/"
    },
    "id": "AmqPWjJuPIpp",
    "outputId": "3bce9a26-6a76-4456-cb99-435b019ab393"
   },
   "outputs": [
    {
     "data": {
      "text/plain": [
       "{'input_ids': tensor([[  101,  2043,  2002,  2018,  2736,  1010,  2002, 15583,  2014, 19045,\n",
       "          1998,  3514,  2098,  2370, 12246,  2007,  2010, 13713,  2098,  3514,\n",
       "          1011,  2064,  1010,  2000,  3457,  2114, 28616,  3270,  2361,   102]]), 'token_type_ids': tensor([[0, 0, 0, 0, 0, 0, 0, 0, 0, 0, 0, 0, 0, 0, 0, 0, 0, 0, 0, 0, 0, 0, 0, 0,\n",
       "         0, 0, 0, 0, 0, 0]]), 'attention_mask': tensor([[1, 1, 1, 1, 1, 1, 1, 1, 1, 1, 1, 1, 1, 1, 1, 1, 1, 1, 1, 1, 1, 1, 1, 1,\n",
       "         1, 1, 1, 1, 1, 1]])}"
      ]
     },
     "execution_count": 187,
     "metadata": {},
     "output_type": "execute_result"
    }
   ],
   "source": [
    "tokens = bert_tokenizer(sentence,\n",
    "                        padding='max_length',\n",
    "                        max_length=30,\n",
    "                        truncation=True,\n",
    "                        return_tensors=\"pt\")\n",
    "tokens"
   ]
  },
  {
   "cell_type": "code",
   "execution_count": 188,
   "metadata": {
    "colab": {
     "base_uri": "https://localhost:8080/"
    },
    "id": "f_ssmrA7PIpp",
    "outputId": "89b73566-52f2-4011-88fb-351de9ff96ca"
   },
   "outputs": [
    {
     "data": {
      "text/plain": [
       "odict_keys(['last_hidden_state', 'pooler_output', 'hidden_states', 'attentions'])"
      ]
     },
     "execution_count": 188,
     "metadata": {},
     "output_type": "execute_result"
    }
   ],
   "source": [
    "bert_model.eval()\n",
    "out = bert_model(input_ids=tokens['input_ids'],\n",
    "                 attention_mask=tokens['attention_mask'],\n",
    "                 output_attentions=True,\n",
    "                 output_hidden_states=True,\n",
    "                 return_dict=True)\n",
    "out.keys()"
   ]
  },
  {
   "cell_type": "markdown",
   "metadata": {
    "id": "n0lNYShtPIpq"
   },
   "source": [
    "![](https://github.com/dvgodoy/PyTorchStepByStep/blob/master/images/bert_embeddings.png?raw=1)"
   ]
  },
  {
   "cell_type": "code",
   "execution_count": 189,
   "metadata": {
    "colab": {
     "base_uri": "https://localhost:8080/"
    },
    "id": "O9qGa0qaPIpq",
    "outputId": "76d39e78-b2c8-4ff2-9e3b-8a50390f91d9"
   },
   "outputs": [
    {
     "data": {
      "text/plain": [
       "tensor([[-4.8754e-01, -1.2611e-01,  3.3714e-01,  ..., -4.5496e-03,\n",
       "         -7.1811e-02,  1.9374e-01],\n",
       "        [ 4.0133e-04,  4.1986e-01,  3.5203e-01,  ...,  2.4569e-01,\n",
       "          5.3264e-01, -2.8016e-01],\n",
       "        [-1.5727e-02,  1.5502e-01, -4.6268e-01,  ...,  3.1876e-01,\n",
       "          2.9846e-01,  2.7099e-01],\n",
       "        ...,\n",
       "        [-8.1689e-01, -4.3263e-01,  6.3697e-01,  ..., -8.7997e-02,\n",
       "          3.8065e-02, -6.4068e-01],\n",
       "        [-5.1033e-01, -1.5985e-01,  2.8810e-01,  ..., -6.8723e-01,\n",
       "          8.2599e-02, -2.4723e-01],\n",
       "        [-4.9477e-01, -4.2874e-01, -2.2155e-01,  ...,  4.9540e-01,\n",
       "          1.2636e-02, -6.2742e-01]], grad_fn=<SliceBackward0>)"
      ]
     },
     "execution_count": 189,
     "metadata": {},
     "output_type": "execute_result"
    }
   ],
   "source": [
    "last_hidden_batch = out['last_hidden_state']\n",
    "last_hidden_sentence = last_hidden_batch[0]\n",
    "# Removes hidden states for [PAD] tokens using the mask\n",
    "mask = tokens['attention_mask'].squeeze().bool()\n",
    "embeddings = last_hidden_sentence[mask]\n",
    "# Removes embeddings for the first [CLS] and last [SEP] tokens\n",
    "embeddings[1:-1]"
   ]
  },
  {
   "cell_type": "code",
   "execution_count": 190,
   "metadata": {
    "colab": {
     "base_uri": "https://localhost:8080/"
    },
    "id": "rlqC7lDSPIpq",
    "outputId": "3223bb39-f6b1-4a89-ffa4-c1abc75fc991"
   },
   "outputs": [
    {
     "data": {
      "text/plain": [
       "tensor([[-0.5084, -0.1625,  0.2651,  ...,  0.0074, -0.0110,  0.2201],\n",
       "        [ 0.0993,  0.4398,  0.2474,  ...,  0.3561,  0.5003, -0.2802],\n",
       "        [-0.0191,  0.0916, -0.4948,  ...,  0.4507,  0.2689,  0.4180],\n",
       "        ...,\n",
       "        [-0.9531, -0.2325, -0.3269,  ..., -0.4476,  0.4718,  0.1520],\n",
       "        [-0.7924, -0.4712,  0.5397,  ..., -0.0063, -0.0828, -0.7425],\n",
       "        [ 0.8010,  0.2180, -0.3146,  ...,  0.4345, -0.5236, -0.2188]],\n",
       "       device='cuda:0')"
      ]
     },
     "execution_count": 190,
     "metadata": {},
     "output_type": "execute_result"
    }
   ],
   "source": [
    "get_embeddings(bert_flair, sentence)"
   ]
  },
  {
   "cell_type": "code",
   "execution_count": 191,
   "metadata": {
    "colab": {
     "base_uri": "https://localhost:8080/"
    },
    "id": "hNKAkRLyPIpq",
    "outputId": "60dd09c1-69a9-4539-a6ee-48198ff98909"
   },
   "outputs": [
    {
     "name": "stdout",
     "output_type": "stream",
     "text": [
      "13\n",
      "torch.Size([1, 30, 768])\n"
     ]
    }
   ],
   "source": [
    "print(len(out['hidden_states']))\n",
    "print(out['hidden_states'][0].shape)"
   ]
  },
  {
   "cell_type": "code",
   "execution_count": 192,
   "metadata": {
    "colab": {
     "base_uri": "https://localhost:8080/"
    },
    "id": "451QgYohPIpq",
    "outputId": "60a2c571-1140-427d-8a83-d1b33e198702"
   },
   "outputs": [
    {
     "data": {
      "text/plain": [
       "tensor(True)"
      ]
     },
     "execution_count": 192,
     "metadata": {},
     "output_type": "execute_result"
    }
   ],
   "source": [
    "(out['hidden_states'][0] == bert_model.embeddings(tokens['input_ids'])).all()"
   ]
  },
  {
   "cell_type": "code",
   "execution_count": 193,
   "metadata": {
    "colab": {
     "base_uri": "https://localhost:8080/"
    },
    "id": "93o1_w-EPIpr",
    "outputId": "21087261-9be8-458f-8687-b984bfc61ad9"
   },
   "outputs": [
    {
     "data": {
      "text/plain": [
       "tensor(True)"
      ]
     },
     "execution_count": 193,
     "metadata": {},
     "output_type": "execute_result"
    }
   ],
   "source": [
    "(out['hidden_states'][-1] == out['last_hidden_state']).all()"
   ]
  },
  {
   "cell_type": "code",
   "execution_count": 194,
   "metadata": {
    "colab": {
     "base_uri": "https://localhost:8080/"
    },
    "id": "bYA0p0XqPIpr",
    "outputId": "e8eabe1d-c27e-478c-c143-a21b2d7fe5f3"
   },
   "outputs": [
    {
     "data": {
      "text/plain": [
       "tensor(True)"
      ]
     },
     "execution_count": 194,
     "metadata": {},
     "output_type": "execute_result"
    }
   ],
   "source": [
    "(out['pooler_output'] == bert_model.pooler(out['last_hidden_state'])).all()"
   ]
  },
  {
   "cell_type": "code",
   "execution_count": 195,
   "metadata": {
    "colab": {
     "base_uri": "https://localhost:8080/"
    },
    "id": "jsdP4CnSPIpr",
    "outputId": "13a87eec-336d-4cc6-ef76-b318b11e3c3e"
   },
   "outputs": [
    {
     "name": "stdout",
     "output_type": "stream",
     "text": [
      "12\n",
      "torch.Size([1, 12, 30, 30])\n"
     ]
    }
   ],
   "source": [
    "print(len(out['attentions']))\n",
    "print(out['attentions'][0].shape)"
   ]
  },
  {
   "cell_type": "markdown",
   "metadata": {
    "id": "PlX9GImRPIpr"
   },
   "source": [
    "## Model IV - Classifying using BERT"
   ]
  },
  {
   "cell_type": "code",
   "execution_count": 196,
   "metadata": {
    "id": "zWB0IsJEPIpr"
   },
   "outputs": [],
   "source": [
    "class BERTClassifier(nn.Module):\n",
    "    def __init__(self, bert_model, ff_units, n_outputs, dropout=0.3):\n",
    "        super().__init__()\n",
    "        self.d_model = bert_model.config.dim\n",
    "        self.n_outputs = n_outputs\n",
    "        self.encoder = bert_model\n",
    "        self.mlp = nn.Sequential(\n",
    "            nn.Linear(self.d_model, ff_units),\n",
    "            nn.ReLU(),\n",
    "            nn.Dropout(dropout),\n",
    "            nn.Linear(ff_units, n_outputs)\n",
    "        )\n",
    "\n",
    "    def encode(self, source, source_mask=None):\n",
    "        states = self.encoder(input_ids=source,\n",
    "                              attention_mask=source_mask)[0]\n",
    "        cls_state = states[:, 0]\n",
    "        return cls_state\n",
    "\n",
    "    def forward(self, X):\n",
    "        source_mask = (X > 0)\n",
    "        # Featurizer\n",
    "        cls_state = self.encode(X, source_mask)\n",
    "        # Classifier\n",
    "        out = self.mlp(cls_state)\n",
    "        return out"
   ]
  },
  {
   "cell_type": "markdown",
   "metadata": {
    "id": "rN86j0y9PIps"
   },
   "source": [
    "### Data Preparation"
   ]
  },
  {
   "cell_type": "code",
   "execution_count": 197,
   "metadata": {
    "id": "LLFm2rAtPIps"
   },
   "outputs": [],
   "source": [
    "def tokenize_dataset(hf_dataset, sentence_field, label_field, tokenizer, **kwargs):\n",
    "    sentences = hf_dataset[sentence_field]\n",
    "    token_ids = tokenizer(sentences, return_tensors='pt', **kwargs)['input_ids']\n",
    "    labels = torch.as_tensor(hf_dataset[label_field])\n",
    "    dataset = TensorDataset(token_ids, labels)\n",
    "    return dataset"
   ]
  },
  {
   "cell_type": "code",
   "execution_count": 198,
   "metadata": {
    "colab": {
     "base_uri": "https://localhost:8080/",
     "height": 145,
     "referenced_widgets": [
      "c68e3cfe691a4e17bff5dd0d6fa645d3",
      "deea6050951d4ca58e70d9a690dbbed9",
      "f2cbe349777d4fb28e1d02ade5f6f63a",
      "d5224726057743ee8d441a0827240ea8",
      "85f7913cfdb24be095daf7d1610192c6",
      "a42616c094cb4485920db4bb2972b8e8",
      "b6cd1e7ed31d468baa7e9a322ea4b36a",
      "344401e1b0234ea394d535dfc2f02da4",
      "017e198210e54a189160e6c5448b45ff",
      "533e80c06ed342e98f4caf25ec21f03b",
      "4978f765d5a346ec94880e2a3c1dc73d",
      "c5fe4d01057141068e6bb47ace62576d",
      "e7d783b2428a4ee487dc4e700e4ed9fc",
      "704fabe6625d498ea91de8237e8bc600",
      "63cb88869a0e473dacec5a6e43f4731a",
      "e9cd1445c89746eeacc43611394f05e6",
      "09c09951186c4b8baca1824cece58586",
      "6f7870b5ddab4cd6ae6d6df571d624b0",
      "7987211ff4eb48a2a042ccc78a57b964",
      "5bbcad5e25f74579b2ab8d64e3b77723",
      "58c6a66e017447d990f0383c1fdb57f0",
      "bf91c89808db4dd498cfd7da6dda0cec",
      "b1b0bd4a30364fb79620dc284fb591fb",
      "30653f3a5d36426e970064e40ede2418",
      "f37ddc958e61436795033581348ee8ff",
      "518537d8640346c4bb9544e5011fda3c",
      "e93a503d473b411dbf651736f2697704",
      "09c64d67093745c1aab40091ab7e80d6",
      "511c36e2cdcd4eaeb6db3dd6af3e14c8",
      "020e13cca93f4c20a5df7384b61b56d8",
      "5c9d700dd2ec4c0d92231652d9d50758",
      "8a6ff1cc71c24b37afbdf4e532978c63",
      "88ebe60388384796910b1987ca2a7b36",
      "1e5982c69228437689fee07d4b252fab",
      "fd480f04a0354a7ab1ac9fd4d531ccc1",
      "805b82526c7c4cb48a1c3dc795b7153f",
      "fa05df95f5b540859234430c7a9f8a92",
      "53c46000a715472c813fe4138446826f",
      "e7803472ac394d368b137951385998ed",
      "6ff4ff5036844be9bbd0993eb6173596",
      "bff1c8d9ebb64b728c6fc43deff520f9",
      "08d599a00ddb4b348bf3818fd86b098f",
      "fcbc067f13494ff2b9798686ab0a8547",
      "dc2d8ab4dab447a5bfca5f7df1db3b4f"
     ]
    },
    "id": "hvCj__6mPIps",
    "outputId": "57c5a8c9-cef6-411f-a126-c21e3895ada1"
   },
   "outputs": [
    {
     "data": {
      "application/vnd.jupyter.widget-view+json": {
       "model_id": "c68e3cfe691a4e17bff5dd0d6fa645d3",
       "version_major": 2,
       "version_minor": 0
      },
      "text/plain": [
       "Downloading (…)okenizer_config.json:   0%|          | 0.00/28.0 [00:00<?, ?B/s]"
      ]
     },
     "metadata": {},
     "output_type": "display_data"
    },
    {
     "data": {
      "application/vnd.jupyter.widget-view+json": {
       "model_id": "c5fe4d01057141068e6bb47ace62576d",
       "version_major": 2,
       "version_minor": 0
      },
      "text/plain": [
       "Downloading (…)lve/main/config.json:   0%|          | 0.00/483 [00:00<?, ?B/s]"
      ]
     },
     "metadata": {},
     "output_type": "display_data"
    },
    {
     "data": {
      "application/vnd.jupyter.widget-view+json": {
       "model_id": "b1b0bd4a30364fb79620dc284fb591fb",
       "version_major": 2,
       "version_minor": 0
      },
      "text/plain": [
       "Downloading (…)solve/main/vocab.txt:   0%|          | 0.00/232k [00:00<?, ?B/s]"
      ]
     },
     "metadata": {},
     "output_type": "display_data"
    },
    {
     "data": {
      "application/vnd.jupyter.widget-view+json": {
       "model_id": "1e5982c69228437689fee07d4b252fab",
       "version_major": 2,
       "version_minor": 0
      },
      "text/plain": [
       "Downloading (…)/main/tokenizer.json:   0%|          | 0.00/466k [00:00<?, ?B/s]"
      ]
     },
     "metadata": {},
     "output_type": "display_data"
    }
   ],
   "source": [
    "auto_tokenizer = AutoTokenizer.from_pretrained('distilbert-base-uncased')\n",
    "tokenizer_kwargs = dict(truncation=True, padding=True, max_length=30, add_special_tokens=True)"
   ]
  },
  {
   "cell_type": "code",
   "execution_count": 199,
   "metadata": {
    "colab": {
     "base_uri": "https://localhost:8080/",
     "height": 81,
     "referenced_widgets": [
      "bc52309682db4f1daac4df480b481dd4",
      "ef6585ad9f58426486fe68e416a5085b",
      "a07ca3c194074fc382bce90671da91dc",
      "4dacc2dfaec841b9b09643d32cfb142f",
      "014cde879c6b4bf486dbd88bb4f15aba",
      "36f064f978d34560ad0536674d9115cd",
      "74566debe4c24ceabfe4867202dc998f",
      "5cc744a17a254e739b953518f2b4d47c",
      "f59beaa8010b4e4fa173ae0e4bb0ebbd",
      "f9459b5a73dc44d58a68925f08598e65",
      "cb2fea0bc72b4a8486f09d387442624b",
      "c920c622ebca4d4484ae524879220748",
      "5af30da4716c4bfc96a7ff53ab2255f1",
      "b8207f4f24304030b4d5944afa13137d",
      "2db3d91800bd40078fd85d53ea88a042",
      "a8f94a7dcd194cee8c44f683dd80b9d8",
      "d17523ae711f442690b81f29b351d363",
      "a03055e17979435892821dcb79ae1524",
      "d22fe83a00414a7db643fc242c0767ac",
      "70c71e159df441f1819bc5b1ce8be618",
      "2f7c6c45c3354158a526792d8c8324f5",
      "aa2e85f8edcc44e3a83828950c0ee1ea"
     ]
    },
    "id": "bRuvrZRfPIps",
    "outputId": "09203bef-1128-4862-dc28-1068507c610a"
   },
   "outputs": [
    {
     "data": {
      "application/vnd.jupyter.widget-view+json": {
       "model_id": "bc52309682db4f1daac4df480b481dd4",
       "version_major": 2,
       "version_minor": 0
      },
      "text/plain": [
       "Map:   0%|          | 0/3081 [00:00<?, ? examples/s]"
      ]
     },
     "metadata": {},
     "output_type": "display_data"
    },
    {
     "data": {
      "application/vnd.jupyter.widget-view+json": {
       "model_id": "c920c622ebca4d4484ae524879220748",
       "version_major": 2,
       "version_minor": 0
      },
      "text/plain": [
       "Map:   0%|          | 0/771 [00:00<?, ? examples/s]"
      ]
     },
     "metadata": {},
     "output_type": "display_data"
    }
   ],
   "source": [
    "train_dataset_float = train_dataset.map(lambda row: {'labels': [float(row['labels'])]})\n",
    "test_dataset_float = test_dataset.map(lambda row: {'labels': [float(row['labels'])]})\n",
    "\n",
    "train_tensor_dataset = tokenize_dataset(train_dataset_float, 'sentence', 'labels', auto_tokenizer, **tokenizer_kwargs)\n",
    "test_tensor_dataset = tokenize_dataset(test_dataset_float, 'sentence', 'labels', auto_tokenizer, **tokenizer_kwargs)\n",
    "\n",
    "generator = torch.Generator()\n",
    "train_loader = DataLoader(train_tensor_dataset, batch_size=4, shuffle=True, generator=generator)\n",
    "test_loader = DataLoader(test_tensor_dataset, batch_size=8)"
   ]
  },
  {
   "cell_type": "markdown",
   "metadata": {
    "id": "a_zRWx9gPIps"
   },
   "source": [
    "### Model Configuration & Training"
   ]
  },
  {
   "cell_type": "code",
   "execution_count": 200,
   "metadata": {
    "colab": {
     "base_uri": "https://localhost:8080/",
     "height": 49,
     "referenced_widgets": [
      "a19cf0f8087a4b77b6f63e687f4c66eb",
      "2df66cf412d4416aa4d4120ef82f283d",
      "d3b257e5f68f493b9426b9169f8201be",
      "2689aebe8b564cd7b1f174c8b2adcb3e",
      "3f81f775fb0c478b8423db9bddbfad2e",
      "3dcd50ad000b4860bc1fd8f4566d50e4",
      "be84a6c67cec43ad81a2defc92698ffd",
      "446fed872cbf44e59688454c1fdbebb8",
      "e3147854e3e849cd8badb22bca577f83",
      "d2e070514ba74de3ac0ed266d311a1a0",
      "684d4d25c7654a24b7e50775fd8f5bc4"
     ]
    },
    "id": "3Z1oEHNkPIps",
    "outputId": "4cfdc8bf-40a1-4334-d735-27211f8921f6"
   },
   "outputs": [
    {
     "data": {
      "application/vnd.jupyter.widget-view+json": {
       "model_id": "a19cf0f8087a4b77b6f63e687f4c66eb",
       "version_major": 2,
       "version_minor": 0
      },
      "text/plain": [
       "Downloading model.safetensors:   0%|          | 0.00/268M [00:00<?, ?B/s]"
      ]
     },
     "metadata": {},
     "output_type": "display_data"
    }
   ],
   "source": [
    "torch.manual_seed(41)\n",
    "bert_model = AutoModel.from_pretrained(\"distilbert-base-uncased\")\n",
    "model = BERTClassifier(bert_model, 128, n_outputs=1)\n",
    "loss_fn = nn.BCEWithLogitsLoss()\n",
    "optimizer = optim.Adam(model.parameters(), lr=1e-5)"
   ]
  },
  {
   "cell_type": "code",
   "execution_count": 201,
   "metadata": {
    "id": "yZL4UQsVPIpt"
   },
   "outputs": [],
   "source": [
    "sbs_bert = StepByStep(model, loss_fn, optimizer)\n",
    "sbs_bert.set_loaders(train_loader, test_loader)\n",
    "sbs_bert.train(1)"
   ]
  },
  {
   "cell_type": "code",
   "execution_count": 202,
   "metadata": {
    "colab": {
     "base_uri": "https://localhost:8080/"
    },
    "id": "4Uma227MPIpt",
    "outputId": "1a70e5aa-d62a-41e9-a9b0-3ee67bee8b47"
   },
   "outputs": [
    {
     "data": {
      "text/plain": [
       "66461441"
      ]
     },
     "execution_count": 202,
     "metadata": {},
     "output_type": "execute_result"
    }
   ],
   "source": [
    "sbs_bert.count_parameters()"
   ]
  },
  {
   "cell_type": "code",
   "execution_count": 203,
   "metadata": {
    "colab": {
     "base_uri": "https://localhost:8080/"
    },
    "id": "AOE-3A4jPIpt",
    "outputId": "ddd80e59-3666-4451-b2d6-7678f786255f"
   },
   "outputs": [
    {
     "data": {
      "text/plain": [
       "tensor([[438, 447],\n",
       "        [310, 324]])"
      ]
     },
     "execution_count": 203,
     "metadata": {},
     "output_type": "execute_result"
    }
   ],
   "source": [
    "StepByStep.loader_apply(test_loader, sbs_bert.correct)"
   ]
  },
  {
   "cell_type": "markdown",
   "metadata": {
    "id": "M-YD9bvDPIpt"
   },
   "source": [
    "# Fine-Tuning with HuggingFace"
   ]
  },
  {
   "cell_type": "markdown",
   "metadata": {
    "id": "BXihCcZSPIpt"
   },
   "source": [
    "## Sequence Classification (or Regression)"
   ]
  },
  {
   "cell_type": "code",
   "execution_count": 204,
   "metadata": {
    "id": "VsEGVD3wPIpt"
   },
   "outputs": [],
   "source": [
    "from transformers import DistilBertForSequenceClassification\n",
    "torch.manual_seed(42)\n",
    "bert_cls = DistilBertForSequenceClassification.from_pretrained('distilbert-base-uncased', num_labels=2)"
   ]
  },
  {
   "cell_type": "code",
   "execution_count": 205,
   "metadata": {
    "colab": {
     "base_uri": "https://localhost:8080/"
    },
    "id": "w7MQ1ApTPIpu",
    "outputId": "31804e0c-1628-4e73-c758-01408cbceb2e"
   },
   "outputs": [
    {
     "name": "stdout",
     "output_type": "stream",
     "text": [
      "<class 'transformers.models.distilbert.modeling_distilbert.DistilBertForSequenceClassification'>\n"
     ]
    }
   ],
   "source": [
    "from transformers import AutoModelForSequenceClassification\n",
    "auto_cls = AutoModelForSequenceClassification.from_pretrained('distilbert-base-uncased', num_labels=2)\n",
    "print(auto_cls.__class__)"
   ]
  },
  {
   "cell_type": "markdown",
   "metadata": {
    "id": "_3eWB1c2PIpu"
   },
   "source": [
    "## Tokenized Dataset"
   ]
  },
  {
   "cell_type": "code",
   "execution_count": 206,
   "metadata": {
    "id": "VmJOKQcmPIpu"
   },
   "outputs": [],
   "source": [
    "auto_tokenizer = AutoTokenizer.from_pretrained('distilbert-base-uncased')\n",
    "def tokenize(row):\n",
    "    return auto_tokenizer(row['sentence'],\n",
    "                          truncation=True,\n",
    "                          padding='max_length',\n",
    "                          max_length=30)"
   ]
  },
  {
   "cell_type": "code",
   "execution_count": 207,
   "metadata": {
    "colab": {
     "base_uri": "https://localhost:8080/",
     "height": 81,
     "referenced_widgets": [
      "f1315b0496244e24addeb478d9e64eb8",
      "fd4997c1fe6743218f8bfcf5cfc8f1bd",
      "14a84284b58c4927a57600bd63b83f60",
      "7ae512c0087942209b5c83c124bf0eb9",
      "e5063a3999bd4629ab6ab8ce92dc647f",
      "4f8ef38fd5614431a7a3c974a7583570",
      "3f6619d00b9c4d4ca573b54d6f59d012",
      "169b92244a9e42cf89ed5d7b6fe643a7",
      "89b32c1717c342b28edc5c90be607f0c",
      "0dcb056b573242769c81edf55126e236",
      "2e7a9176007c49b8b6b623b3679fcac0",
      "6d1dc17b66e54c768c9ccd75f91d3e91",
      "826781bbc9f24c7e8cf7d3c7dfb00d01",
      "631233cb0483400eb95bb77b4217f7c4",
      "620aa9d515854ad181db286a7fb44ae8",
      "ac23cca0aca54d70bd0c13fca43386d2",
      "a8ca1717ef74473b99d901a76c0028c9",
      "1628cb8828844f46b2c3d673117e0831",
      "a3d8dcdcb68140cc9a836824d0b301b9",
      "b00f91de164a49c3bfe1759a685a126f",
      "e9905466f9744164971e84d9bbb0354c",
      "18d184687008423c94560b773dcf41f9"
     ]
    },
    "id": "FzW2xAeDPIpu",
    "outputId": "84386066-6c74-443a-de2e-3a74684ab6e7"
   },
   "outputs": [
    {
     "data": {
      "application/vnd.jupyter.widget-view+json": {
       "model_id": "f1315b0496244e24addeb478d9e64eb8",
       "version_major": 2,
       "version_minor": 0
      },
      "text/plain": [
       "Map:   0%|          | 0/3081 [00:00<?, ? examples/s]"
      ]
     },
     "metadata": {},
     "output_type": "display_data"
    },
    {
     "data": {
      "application/vnd.jupyter.widget-view+json": {
       "model_id": "6d1dc17b66e54c768c9ccd75f91d3e91",
       "version_major": 2,
       "version_minor": 0
      },
      "text/plain": [
       "Map:   0%|          | 0/771 [00:00<?, ? examples/s]"
      ]
     },
     "metadata": {},
     "output_type": "display_data"
    }
   ],
   "source": [
    "tokenized_train_dataset = train_dataset.map(tokenize, batched=True)\n",
    "tokenized_test_dataset = test_dataset.map(tokenize, batched=True)"
   ]
  },
  {
   "cell_type": "code",
   "execution_count": 208,
   "metadata": {
    "colab": {
     "base_uri": "https://localhost:8080/"
    },
    "id": "MCToy9BpPIpv",
    "outputId": "88230106-865e-4d5c-ec9f-773e3b4a51e1"
   },
   "outputs": [
    {
     "name": "stdout",
     "output_type": "stream",
     "text": [
      "{'sentence': 'When he had finished, he thanked her kindly and oiled himself thoroughly with his jeweled oil-can, to guard against mishap.', 'source': 'wizoz10-1740.txt', 'labels': 0, 'input_ids': [101, 2043, 2002, 2018, 2736, 1010, 2002, 15583, 2014, 19045, 1998, 3514, 2098, 2370, 12246, 2007, 2010, 13713, 2098, 3514, 1011, 2064, 1010, 2000, 3457, 2114, 28616, 3270, 2361, 102], 'attention_mask': [1, 1, 1, 1, 1, 1, 1, 1, 1, 1, 1, 1, 1, 1, 1, 1, 1, 1, 1, 1, 1, 1, 1, 1, 1, 1, 1, 1, 1, 1]}\n"
     ]
    }
   ],
   "source": [
    "print(tokenized_train_dataset[0])"
   ]
  },
  {
   "cell_type": "code",
   "execution_count": 209,
   "metadata": {
    "id": "OJGHlBQ9PIpv"
   },
   "outputs": [],
   "source": [
    "tokenized_train_dataset.set_format(type='torch', columns=['input_ids', 'attention_mask', 'labels'])\n",
    "tokenized_test_dataset.set_format(type='torch', columns=['input_ids', 'attention_mask', 'labels'])"
   ]
  },
  {
   "cell_type": "code",
   "execution_count": 210,
   "metadata": {
    "colab": {
     "base_uri": "https://localhost:8080/"
    },
    "id": "nsQJ3GjfPIpv",
    "outputId": "104046c5-0805-4871-80b0-084766968cdf"
   },
   "outputs": [
    {
     "data": {
      "text/plain": [
       "{'labels': tensor(0),\n",
       " 'input_ids': tensor([  101,  2043,  2002,  2018,  2736,  1010,  2002, 15583,  2014, 19045,\n",
       "          1998,  3514,  2098,  2370, 12246,  2007,  2010, 13713,  2098,  3514,\n",
       "          1011,  2064,  1010,  2000,  3457,  2114, 28616,  3270,  2361,   102]),\n",
       " 'attention_mask': tensor([1, 1, 1, 1, 1, 1, 1, 1, 1, 1, 1, 1, 1, 1, 1, 1, 1, 1, 1, 1, 1, 1, 1, 1,\n",
       "         1, 1, 1, 1, 1, 1])}"
      ]
     },
     "execution_count": 210,
     "metadata": {},
     "output_type": "execute_result"
    }
   ],
   "source": [
    "tokenized_train_dataset[0]"
   ]
  },
  {
   "cell_type": "markdown",
   "metadata": {
    "id": "pWBcmaN1PIpv"
   },
   "source": [
    "## Trainer"
   ]
  },
  {
   "cell_type": "code",
   "execution_count": 211,
   "metadata": {
    "id": "dHy5s29tPIpv"
   },
   "outputs": [],
   "source": [
    "from transformers import Trainer\n",
    "trainer = Trainer(model=bert_cls, train_dataset=tokenized_train_dataset)"
   ]
  },
  {
   "cell_type": "code",
   "execution_count": 212,
   "metadata": {
    "colab": {
     "base_uri": "https://localhost:8080/"
    },
    "id": "O7pDhbwdPIpw",
    "outputId": "e3f6e199-f225-4d82-aa39-280d19c42857"
   },
   "outputs": [
    {
     "data": {
      "text/plain": [
       "TrainingArguments(\n",
       "_n_gpu=1,\n",
       "adafactor=False,\n",
       "adam_beta1=0.9,\n",
       "adam_beta2=0.999,\n",
       "adam_epsilon=1e-08,\n",
       "auto_find_batch_size=False,\n",
       "bf16=False,\n",
       "bf16_full_eval=False,\n",
       "data_seed=None,\n",
       "dataloader_drop_last=False,\n",
       "dataloader_num_workers=0,\n",
       "dataloader_pin_memory=True,\n",
       "ddp_backend=None,\n",
       "ddp_broadcast_buffers=None,\n",
       "ddp_bucket_cap_mb=None,\n",
       "ddp_find_unused_parameters=None,\n",
       "ddp_timeout=1800,\n",
       "debug=[],\n",
       "deepspeed=None,\n",
       "disable_tqdm=True,\n",
       "dispatch_batches=None,\n",
       "do_eval=False,\n",
       "do_predict=False,\n",
       "do_train=False,\n",
       "eval_accumulation_steps=None,\n",
       "eval_delay=0,\n",
       "eval_steps=None,\n",
       "evaluation_strategy=no,\n",
       "fp16=False,\n",
       "fp16_backend=auto,\n",
       "fp16_full_eval=False,\n",
       "fp16_opt_level=O1,\n",
       "fsdp=[],\n",
       "fsdp_config={'min_num_params': 0, 'xla': False, 'xla_fsdp_grad_ckpt': False},\n",
       "fsdp_min_num_params=0,\n",
       "fsdp_transformer_layer_cls_to_wrap=None,\n",
       "full_determinism=False,\n",
       "gradient_accumulation_steps=1,\n",
       "gradient_checkpointing=False,\n",
       "greater_is_better=None,\n",
       "group_by_length=False,\n",
       "half_precision_backend=auto,\n",
       "hub_always_push=False,\n",
       "hub_model_id=None,\n",
       "hub_private_repo=False,\n",
       "hub_strategy=every_save,\n",
       "hub_token=<HUB_TOKEN>,\n",
       "ignore_data_skip=False,\n",
       "include_inputs_for_metrics=False,\n",
       "jit_mode_eval=False,\n",
       "label_names=None,\n",
       "label_smoothing_factor=0.0,\n",
       "learning_rate=5e-05,\n",
       "length_column_name=length,\n",
       "load_best_model_at_end=False,\n",
       "local_rank=0,\n",
       "log_level=passive,\n",
       "log_level_replica=warning,\n",
       "log_on_each_node=True,\n",
       "logging_dir=tmp_trainer/runs/Aug27_14-25-59_c5bed8f1b093,\n",
       "logging_first_step=False,\n",
       "logging_nan_inf_filter=True,\n",
       "logging_steps=500,\n",
       "logging_strategy=steps,\n",
       "lr_scheduler_type=linear,\n",
       "max_grad_norm=1.0,\n",
       "max_steps=-1,\n",
       "metric_for_best_model=None,\n",
       "mp_parameters=,\n",
       "no_cuda=False,\n",
       "num_train_epochs=3.0,\n",
       "optim=adamw_torch,\n",
       "optim_args=None,\n",
       "output_dir=tmp_trainer,\n",
       "overwrite_output_dir=False,\n",
       "past_index=-1,\n",
       "per_device_eval_batch_size=8,\n",
       "per_device_train_batch_size=8,\n",
       "prediction_loss_only=False,\n",
       "push_to_hub=False,\n",
       "push_to_hub_model_id=None,\n",
       "push_to_hub_organization=None,\n",
       "push_to_hub_token=<PUSH_TO_HUB_TOKEN>,\n",
       "ray_scope=last,\n",
       "remove_unused_columns=True,\n",
       "report_to=['tensorboard'],\n",
       "resume_from_checkpoint=None,\n",
       "run_name=tmp_trainer,\n",
       "save_on_each_node=False,\n",
       "save_safetensors=False,\n",
       "save_steps=500,\n",
       "save_strategy=steps,\n",
       "save_total_limit=None,\n",
       "seed=42,\n",
       "sharded_ddp=[],\n",
       "skip_memory_metrics=True,\n",
       "tf32=None,\n",
       "torch_compile=False,\n",
       "torch_compile_backend=None,\n",
       "torch_compile_mode=None,\n",
       "torchdynamo=None,\n",
       "tpu_metrics_debug=False,\n",
       "tpu_num_cores=None,\n",
       "use_cpu=False,\n",
       "use_ipex=False,\n",
       "use_legacy_prediction_loop=False,\n",
       "use_mps_device=False,\n",
       "warmup_ratio=0.0,\n",
       "warmup_steps=0,\n",
       "weight_decay=0.0,\n",
       ")"
      ]
     },
     "execution_count": 212,
     "metadata": {},
     "output_type": "execute_result"
    }
   ],
   "source": [
    "trainer.args"
   ]
  },
  {
   "cell_type": "code",
   "execution_count": 213,
   "metadata": {
    "id": "vMVuTOSUPIpw"
   },
   "outputs": [],
   "source": [
    "from transformers import TrainingArguments\n",
    "training_args = TrainingArguments(\n",
    "    output_dir='output',\n",
    "    num_train_epochs=1,\n",
    "    per_device_train_batch_size=1,\n",
    "    per_device_eval_batch_size=8,\n",
    "    evaluation_strategy='steps',\n",
    "    eval_steps=300,\n",
    "    logging_steps=300,\n",
    "    gradient_accumulation_steps=8,\n",
    ")"
   ]
  },
  {
   "cell_type": "code",
   "execution_count": 214,
   "metadata": {
    "id": "LFxIhoybPIpw"
   },
   "outputs": [],
   "source": [
    "def compute_metrics(eval_pred):\n",
    "    predictions = eval_pred.predictions\n",
    "    labels = eval_pred.label_ids\n",
    "    predictions = np.argmax(predictions, axis=1)\n",
    "    return {\"accuracy\": (predictions == labels).mean()}"
   ]
  },
  {
   "cell_type": "code",
   "execution_count": 215,
   "metadata": {
    "id": "XKo42k7RPIpw"
   },
   "outputs": [],
   "source": [
    "trainer = Trainer(model=bert_cls,\n",
    "                  args=training_args,\n",
    "                  train_dataset=tokenized_train_dataset,\n",
    "                  eval_dataset=tokenized_test_dataset,\n",
    "                  compute_metrics=compute_metrics)"
   ]
  },
  {
   "cell_type": "code",
   "execution_count": 216,
   "metadata": {
    "colab": {
     "base_uri": "https://localhost:8080/"
    },
    "id": "9wdDiBP4PIpw",
    "outputId": "3c0366f2-c3cd-4c6f-d944-110073e8e1d3"
   },
   "outputs": [
    {
     "name": "stdout",
     "output_type": "stream",
     "text": [
      "{'loss': 0.1832, 'learning_rate': 1.103896103896104e-05, 'epoch': 0.78}\n",
      "{'eval_loss': 0.15004514157772064, 'eval_accuracy': 0.9571984435797666, 'eval_runtime': 0.8666, 'eval_samples_per_second': 889.666, 'eval_steps_per_second': 111.929, 'epoch': 0.78}\n",
      "{'train_runtime': 83.6395, 'train_samples_per_second': 36.837, 'train_steps_per_second': 4.603, 'train_loss': 0.18022566708651455, 'epoch': 1.0}\n"
     ]
    },
    {
     "data": {
      "text/plain": [
       "TrainOutput(global_step=385, training_loss=0.18022566708651455, metrics={'train_runtime': 83.6395, 'train_samples_per_second': 36.837, 'train_steps_per_second': 4.603, 'train_loss': 0.18022566708651455, 'epoch': 1.0})"
      ]
     },
     "execution_count": 216,
     "metadata": {},
     "output_type": "execute_result"
    }
   ],
   "source": [
    "trainer.train()"
   ]
  },
  {
   "cell_type": "code",
   "execution_count": 217,
   "metadata": {
    "colab": {
     "base_uri": "https://localhost:8080/"
    },
    "id": "j_i6kvF5PIpx",
    "outputId": "ca5bdb0c-3b38-4781-cdcb-b8186a69bd73"
   },
   "outputs": [
    {
     "name": "stdout",
     "output_type": "stream",
     "text": [
      "{'eval_loss': 0.12053246051073074, 'eval_accuracy': 0.9688715953307393, 'eval_runtime': 1.2524, 'eval_samples_per_second': 615.63, 'eval_steps_per_second': 77.453, 'epoch': 1.0}\n"
     ]
    },
    {
     "data": {
      "text/plain": [
       "{'eval_loss': 0.12053246051073074,\n",
       " 'eval_accuracy': 0.9688715953307393,\n",
       " 'eval_runtime': 1.2524,\n",
       " 'eval_samples_per_second': 615.63,\n",
       " 'eval_steps_per_second': 77.453,\n",
       " 'epoch': 1.0}"
      ]
     },
     "execution_count": 217,
     "metadata": {},
     "output_type": "execute_result"
    }
   ],
   "source": [
    "trainer.evaluate()"
   ]
  },
  {
   "cell_type": "code",
   "execution_count": 218,
   "metadata": {
    "colab": {
     "base_uri": "https://localhost:8080/"
    },
    "id": "2KOMV6iQPIpx",
    "outputId": "77f79632-0ff2-45c8-cdbd-eb032ca31c2c"
   },
   "outputs": [
    {
     "data": {
      "text/plain": [
       "['training_args.bin', 'pytorch_model.bin', 'config.json']"
      ]
     },
     "execution_count": 218,
     "metadata": {},
     "output_type": "execute_result"
    }
   ],
   "source": [
    "trainer.save_model('bert_alice_vs_wizard')\n",
    "os.listdir('bert_alice_vs_wizard')"
   ]
  },
  {
   "cell_type": "code",
   "execution_count": 219,
   "metadata": {
    "colab": {
     "base_uri": "https://localhost:8080/"
    },
    "id": "1WpIt7WvPIpx",
    "outputId": "63ea9de2-7bb0-4a4b-e1eb-d97b16863f97"
   },
   "outputs": [
    {
     "data": {
      "text/plain": [
       "device(type='cpu')"
      ]
     },
     "execution_count": 219,
     "metadata": {},
     "output_type": "execute_result"
    }
   ],
   "source": [
    "loaded_model = AutoModelForSequenceClassification.from_pretrained('bert_alice_vs_wizard')\n",
    "loaded_model.device"
   ]
  },
  {
   "cell_type": "code",
   "execution_count": 220,
   "metadata": {
    "colab": {
     "base_uri": "https://localhost:8080/"
    },
    "id": "LrmSH5kSPIpx",
    "outputId": "cb09dfb3-bd24-499f-fe1b-8e203703d91a",
    "scrolled": true
   },
   "outputs": [
    {
     "data": {
      "text/plain": [
       "device(type='cuda', index=0)"
      ]
     },
     "execution_count": 220,
     "metadata": {},
     "output_type": "execute_result"
    }
   ],
   "source": [
    "device = 'cuda' if torch.cuda.is_available() else 'cpu'\n",
    "loaded_model.to(device)\n",
    "loaded_model.device"
   ]
  },
  {
   "cell_type": "markdown",
   "metadata": {
    "id": "I_6MnEPTPIpx"
   },
   "source": [
    "## Predictions"
   ]
  },
  {
   "cell_type": "code",
   "execution_count": 221,
   "metadata": {
    "colab": {
     "base_uri": "https://localhost:8080/"
    },
    "id": "3_dt7C28PIpy",
    "outputId": "e86833d8-d866-4d7f-dde0-75df47ee9458"
   },
   "outputs": [
    {
     "data": {
      "text/plain": [
       "{'input_ids': tensor([[  101,  2091,  1996,  3756,  5318, 10442,  4920,   102]]), 'attention_mask': tensor([[1, 1, 1, 1, 1, 1, 1, 1]])}"
      ]
     },
     "execution_count": 221,
     "metadata": {},
     "output_type": "execute_result"
    }
   ],
   "source": [
    "sentence = 'Down the yellow brick rabbit hole'\n",
    "tokens = auto_tokenizer(sentence, return_tensors='pt')\n",
    "tokens"
   ]
  },
  {
   "cell_type": "code",
   "execution_count": 222,
   "metadata": {
    "colab": {
     "base_uri": "https://localhost:8080/"
    },
    "id": "WAJtVv5fPIpy",
    "outputId": "f938576d-b639-41a9-aca7-09ce25e3d2e2"
   },
   "outputs": [
    {
     "name": "stdout",
     "output_type": "stream",
     "text": [
      "<class 'transformers.tokenization_utils_base.BatchEncoding'>\n"
     ]
    },
    {
     "data": {
      "text/plain": [
       "{'input_ids': tensor([[  101,  2091,  1996,  3756,  5318, 10442,  4920,   102]],\n",
       "       device='cuda:0'), 'attention_mask': tensor([[1, 1, 1, 1, 1, 1, 1, 1]], device='cuda:0')}"
      ]
     },
     "execution_count": 222,
     "metadata": {},
     "output_type": "execute_result"
    }
   ],
   "source": [
    "print(type(tokens))\n",
    "tokens.to(loaded_model.device)"
   ]
  },
  {
   "cell_type": "code",
   "execution_count": 223,
   "metadata": {
    "colab": {
     "base_uri": "https://localhost:8080/"
    },
    "id": "Fs4-3g2DPIpy",
    "outputId": "2cf45084-1163-45ff-9c5e-df554f8a4ee6"
   },
   "outputs": [
    {
     "data": {
      "text/plain": [
       "SequenceClassifierOutput(loss=None, logits=tensor([[ 2.3088, -2.5816]], device='cuda:0', grad_fn=<AddmmBackward0>), hidden_states=None, attentions=None)"
      ]
     },
     "execution_count": 223,
     "metadata": {},
     "output_type": "execute_result"
    }
   ],
   "source": [
    "loaded_model.eval()\n",
    "logits = loaded_model(input_ids=tokens['input_ids'], attention_mask=tokens['attention_mask'])\n",
    "logits"
   ]
  },
  {
   "cell_type": "code",
   "execution_count": 224,
   "metadata": {
    "colab": {
     "base_uri": "https://localhost:8080/"
    },
    "id": "_81JJd68PIpy",
    "outputId": "dd03f7c2-427c-49e0-d969-aee1370301c1"
   },
   "outputs": [
    {
     "data": {
      "text/plain": [
       "tensor([0], device='cuda:0')"
      ]
     },
     "execution_count": 224,
     "metadata": {},
     "output_type": "execute_result"
    }
   ],
   "source": [
    "logits.logits.argmax(dim=1)"
   ]
  },
  {
   "cell_type": "markdown",
   "metadata": {
    "id": "AOIE2XY-PIpy"
   },
   "source": [
    "## Pipeline"
   ]
  },
  {
   "cell_type": "code",
   "execution_count": 225,
   "metadata": {
    "id": "eTdPgNWAPIpy"
   },
   "outputs": [],
   "source": [
    "from transformers import TextClassificationPipeline\n",
    "device_index = loaded_model.device.index if loaded_model.device.type != 'cpu' else -1\n",
    "classifier = TextClassificationPipeline(model=loaded_model,\n",
    "                                        tokenizer=auto_tokenizer,\n",
    "                                        device=device_index)"
   ]
  },
  {
   "cell_type": "code",
   "execution_count": 226,
   "metadata": {
    "colab": {
     "base_uri": "https://localhost:8080/"
    },
    "id": "rkhu6QaOPIpz",
    "outputId": "fca40e1e-7559-47ec-ecb2-9656af2f1b95"
   },
   "outputs": [
    {
     "data": {
      "text/plain": [
       "[{'label': 'LABEL_0', 'score': 0.9925376772880554},\n",
       " {'label': 'LABEL_1', 'score': 0.9985089898109436}]"
      ]
     },
     "execution_count": 226,
     "metadata": {},
     "output_type": "execute_result"
    }
   ],
   "source": [
    "classifier(['Down the Yellow Brick Rabbit Hole', 'Alice rules!'])"
   ]
  },
  {
   "cell_type": "code",
   "execution_count": 227,
   "metadata": {
    "id": "57PmBUrZPIpz"
   },
   "outputs": [],
   "source": [
    "loaded_model.config.id2label = {0: 'Wizard', 1: 'Alice'}"
   ]
  },
  {
   "cell_type": "code",
   "execution_count": 228,
   "metadata": {
    "colab": {
     "base_uri": "https://localhost:8080/"
    },
    "id": "2xsmzplHPIpz",
    "outputId": "fca40f55-da16-4772-89bc-5713a12e830c"
   },
   "outputs": [
    {
     "data": {
      "text/plain": [
       "[{'label': 'Wizard', 'score': 0.9925376772880554},\n",
       " {'label': 'Alice', 'score': 0.9985089898109436}]"
      ]
     },
     "execution_count": 228,
     "metadata": {},
     "output_type": "execute_result"
    }
   ],
   "source": [
    "classifier(['Down the Yellow Brick Rabbit Hole', 'Alice rules!'])"
   ]
  },
  {
   "cell_type": "markdown",
   "metadata": {
    "id": "MPv9QGnPPIpz"
   },
   "source": [
    "## More Pipelines"
   ]
  },
  {
   "cell_type": "code",
   "execution_count": 229,
   "metadata": {
    "colab": {
     "base_uri": "https://localhost:8080/",
     "height": 145,
     "referenced_widgets": [
      "917fb99088eb4329894cef75e45023ca",
      "590434dd89ee48e29e4a8a2c274c5c53",
      "04bd756693f14b21bd2901fc2e73d3ef",
      "94196f53645a4731b78a215090acc5c6",
      "69782579b2ad412b992f2204b9325dd8",
      "4ab2a7cacbd4448bb7e1900139ba7f1a",
      "4341486e91614581909fa67fadc90d48",
      "c0ffdf9164164d5c9213c7dd10116f23",
      "4ab5ac2fbe27424db741224634932854",
      "3991e93f6d5d4f8e8eee2363a34e224c",
      "ad73151124ce47fcb81a3c73718296a4",
      "2bf8da4a7a5341999ef9f95ac5c176c9",
      "5e35c165cbb14ba0a5f3098b362a6ef6",
      "79947dd0ddf34e5192a2678b52533a97",
      "078f35a0fcb8401e9e3b39366ccdfa22",
      "671a21b847754ec8b027956e53c5f337",
      "670ba37f36524d7699ff3b5be9952b09",
      "1a6934c3c9614c45a6ab239dcf90bc6a",
      "0bffcdb38d1d4f3c85e93210aabfa404",
      "7ebd8e2c1fcc429896627463d2319bab",
      "84904b49bcfb4f70a267c906a4981493",
      "931213e9c0ee47a799a98c5a0a57a764",
      "89856f13c9d247acb31b7802b1cca970",
      "b143e584661a42969b6a9f376546486a",
      "47b17d821f924db3a592d734f77ce092",
      "544015661b65451eb7bc40178d156eb7",
      "d3d5424dca584e38ad28fa4a32fc618b",
      "8ac0286de75940438cdaee591a0d3d24",
      "6c7078294d0a48d1b628e396e704497d",
      "15a667e533e945c894af026b818db869",
      "598a61bb19da461c9257b86a21c963cf",
      "3fbaf05579a345c3b2ec0e1fd0698c19",
      "20b0a8dbb55b4458ad16371a5f9617ec",
      "52712fe41859413aae6f6b75af710b90",
      "462794da68e542f381bff271e24185fa",
      "44b2d5e007b84f85b4f183ba0631500d",
      "7a15f0aba34e4c3e90bfbe605fef9bb5",
      "919e99b706034ed6aa81a1e903cfaf73",
      "e791c7e96e2a4ffdb8f6bdb12e61aa02",
      "6756718ae9e14f23858d2d0000d11fce",
      "e311df68b62b44099c1269883678c94b",
      "d792c590bc9f4fa18d66294f4c840ce9",
      "a000821e9b994a63964db53c2ffae61c",
      "c2fb075140864489a7d81c19a0f79e21"
     ]
    },
    "id": "orvV3n9wPIpz",
    "outputId": "a377a931-92aa-4601-a447-fd11a6c8746d"
   },
   "outputs": [
    {
     "data": {
      "application/vnd.jupyter.widget-view+json": {
       "model_id": "917fb99088eb4329894cef75e45023ca",
       "version_major": 2,
       "version_minor": 0
      },
      "text/plain": [
       "Downloading (…)lve/main/config.json:   0%|          | 0.00/629 [00:00<?, ?B/s]"
      ]
     },
     "metadata": {},
     "output_type": "display_data"
    },
    {
     "data": {
      "application/vnd.jupyter.widget-view+json": {
       "model_id": "2bf8da4a7a5341999ef9f95ac5c176c9",
       "version_major": 2,
       "version_minor": 0
      },
      "text/plain": [
       "Downloading model.safetensors:   0%|          | 0.00/268M [00:00<?, ?B/s]"
      ]
     },
     "metadata": {},
     "output_type": "display_data"
    },
    {
     "data": {
      "application/vnd.jupyter.widget-view+json": {
       "model_id": "89856f13c9d247acb31b7802b1cca970",
       "version_major": 2,
       "version_minor": 0
      },
      "text/plain": [
       "Downloading (…)okenizer_config.json:   0%|          | 0.00/48.0 [00:00<?, ?B/s]"
      ]
     },
     "metadata": {},
     "output_type": "display_data"
    },
    {
     "data": {
      "application/vnd.jupyter.widget-view+json": {
       "model_id": "52712fe41859413aae6f6b75af710b90",
       "version_major": 2,
       "version_minor": 0
      },
      "text/plain": [
       "Downloading (…)solve/main/vocab.txt:   0%|          | 0.00/232k [00:00<?, ?B/s]"
      ]
     },
     "metadata": {},
     "output_type": "display_data"
    }
   ],
   "source": [
    "from transformers import pipeline\n",
    "sentiment = pipeline('sentiment-analysis')"
   ]
  },
  {
   "cell_type": "code",
   "execution_count": 230,
   "metadata": {
    "colab": {
     "base_uri": "https://localhost:8080/"
    },
    "id": "ZGiwPvGfPIp0",
    "outputId": "0ec9692c-cdff-4ee9-a3af-67aaf78231b3"
   },
   "outputs": [
    {
     "name": "stdout",
     "output_type": "stream",
     "text": [
      "When he had finished, he thanked her kindly and oiled himself thoroughly with his jeweled oil-can, to guard against mishap.\n",
      "[{'label': 'POSITIVE', 'score': 0.9805866479873657}]\n"
     ]
    }
   ],
   "source": [
    "sentence = train_dataset[0]['sentence']\n",
    "print(sentence)\n",
    "print(sentiment(sentence))"
   ]
  },
  {
   "cell_type": "code",
   "execution_count": 232,
   "metadata": {
    "colab": {
     "base_uri": "https://localhost:8080/"
    },
    "id": "x456QWjEPIp0",
    "outputId": "a05c3ccd-9ba5-49c0-d711-1e0d7a7188d4"
   },
   "outputs": [
    {
     "data": {
      "text/plain": [
       "{'impl': transformers.pipelines.text_classification.TextClassificationPipeline,\n",
       " 'tf': (transformers.models.auto.modeling_tf_auto.TFAutoModelForSequenceClassification,),\n",
       " 'pt': (transformers.models.auto.modeling_auto.AutoModelForSequenceClassification,),\n",
       " 'default': {'model': {'pt': ('distilbert-base-uncased-finetuned-sst-2-english',\n",
       "    'af0f99b'),\n",
       "   'tf': ('distilbert-base-uncased-finetuned-sst-2-english', 'af0f99b')}},\n",
       " 'type': 'text'}"
      ]
     },
     "execution_count": 232,
     "metadata": {},
     "output_type": "execute_result"
    }
   ],
   "source": [
    "from transformers.pipelines import SUPPORTED_TASKS\n",
    "# UPDATED\n",
    "###########################################################\n",
    "# sentiment-analysis was replaced by text-classification\n",
    "# in the dictionary of supported tasks\n",
    "# SUPPORTED_TASKS['sentiment-analysis']\n",
    "SUPPORTED_TASKS['text-classification']\n",
    "###########################################################"
   ]
  },
  {
   "cell_type": "code",
   "execution_count": 233,
   "metadata": {
    "colab": {
     "base_uri": "https://localhost:8080/"
    },
    "id": "Xk3TWVXxPIp0",
    "outputId": "fce49265-5ef5-428a-d21b-24a3f018edc8"
   },
   "outputs": [
    {
     "data": {
      "text/plain": [
       "{'impl': transformers.pipelines.text_generation.TextGenerationPipeline,\n",
       " 'tf': (transformers.models.auto.modeling_tf_auto.TFAutoModelForCausalLM,),\n",
       " 'pt': (transformers.models.auto.modeling_auto.AutoModelForCausalLM,),\n",
       " 'default': {'model': {'pt': ('gpt2', '6c0e608'), 'tf': ('gpt2', '6c0e608')}},\n",
       " 'type': 'text'}"
      ]
     },
     "execution_count": 233,
     "metadata": {},
     "output_type": "execute_result"
    }
   ],
   "source": [
    "SUPPORTED_TASKS['text-generation']"
   ]
  },
  {
   "cell_type": "markdown",
   "metadata": {
    "id": "qpfW8LWvPIp0"
   },
   "source": [
    "# GPT-2"
   ]
  },
  {
   "cell_type": "code",
   "execution_count": 234,
   "metadata": {
    "colab": {
     "base_uri": "https://localhost:8080/",
     "height": 209,
     "referenced_widgets": [
      "6b436b11235a41c98bf37edcab77e6a8",
      "028efd79c4aa49f090fde0d01507518e",
      "2f84f62aa77b4738b3eff4bacfe28179",
      "c7789d7688fd44159f8680d23616d9ec",
      "db7fe2b698aa417fa37b850a5b9ff9ad",
      "77cc41136f654cc289f578ffe99b47f9",
      "d229ed8924f44660afd51f751a62074b",
      "bebba38c2ec54dcfaaf2097d3dd3f4c3",
      "dde0d925a04c40919533edae0621779d",
      "e06a621fcc884cf6948861ba70a040d7",
      "e37efdd73e00484e80d22cf19838eb9b",
      "21b154e8d2314b97bac7bf510ce7ee43",
      "05cc15488dee4bfa8294781adc2775e4",
      "3a7c2cd64e754fbe8c8f910f9d76b42d",
      "a0c2d63887744302b6179f36bb583879",
      "277da64d48814482b3f451b8c8706461",
      "f4c9792bf2194999b083495d1379b513",
      "569146c4214f4e4eb7b7de078ebd5857",
      "a03121d1063149a189d3d7f561099d44",
      "d4e80ded4667403fa7cf27dc2706e756",
      "80ec1588af6b426c9d9709989c78d455",
      "57e595d3ab874902a16accd73b19c865",
      "6069b24de11f468f8cbb3360ffd1fb09",
      "5778e23acab7487cbd3c12d70dbbf1ba",
      "e8b1e8864ce245f3bcaa1ac7ae5f54de",
      "4044fc511d4e479782cf80c63ef73e26",
      "bf1fc60432234eb7a005859476802687",
      "a4bfb99a9177451295c08faaf090e309",
      "9ad2750aa5ab4972bc8156a6115dab44",
      "a97bc72ee0c240b2885198db446ca205",
      "e14ae556bac045d5a64f028ce76ded2e",
      "80d44875f8b44dc4b178a105b08bc267",
      "05a250d18cda4fe79f69cb258960faf8",
      "f2a9bc258d06496f8e8e1f2f8ccc515b",
      "4bb1b90b1880493b9bc53341c5988131",
      "67b82af834bf4526b730bfa4fc8d4ad3",
      "133badee9be148eb9daa878d67325bb5",
      "4daedae6cba24c6a835a8e4ae05e322d",
      "9dae0e5082ee4776bc64e644d155af33",
      "f030e21d8d2541c9a1b5d56ecfbbc1bd",
      "74e12fd6e60f4cdaad14590776eac2e8",
      "8246472500284ad18f8a1732bc351bfd",
      "0382e6059946468684c04b7b5c81a7f0",
      "c0c7c2f45c9842728752cb9d45666aa7",
      "2a886f21a01e457b9ea2c8748a3a4f61",
      "5110cc7789b24cff84c4e98c56eb1a56",
      "facfff95c79f44c28ee7fb7743ba15b2",
      "cd6a92e001f7443b912e8bc87ac3721d",
      "63088a4b7fcb497d8db10b9ba6530e20",
      "96e8555d63cf417fa7430110ef1624e5",
      "980f204cee3f4d829c4326fe63d16b0e",
      "4a3fb6b58fb240439161ecc8be792721",
      "a8efeb7e49c8460ca32bcd5c837f8b2b",
      "cabac91dde53470ea0d5e05d8218d04d",
      "060c7285770746819031b482fbda4895",
      "507be369aa374425af36fb96064e610c",
      "a9c1e03886a94994915b30c1146d226e",
      "66e11e6ec71f4a2f87c6219bfa32d526",
      "f8579260247540a1998c25fec1762e2a",
      "d892fd9f6ea84958b4dc80802e07adf7",
      "ca84fa32fa0849dea87342c58d591cce",
      "24d0f4c01b754ca08d8fd47efdd7401d",
      "ef6674bcc2cc493d98836651caf42ae8",
      "7e00183725e742c0b1146b61fd258d49",
      "b21e1f28e1e24c218ee7e5310071a346",
      "ea100e2cb078487a8459b0fa5b21eb9d"
     ]
    },
    "id": "0Gs2m5QtPIp0",
    "outputId": "bcd1d4de-ace4-4973-cfe6-9beb0fe54657"
   },
   "outputs": [
    {
     "data": {
      "application/vnd.jupyter.widget-view+json": {
       "model_id": "6b436b11235a41c98bf37edcab77e6a8",
       "version_major": 2,
       "version_minor": 0
      },
      "text/plain": [
       "Downloading (…)lve/main/config.json:   0%|          | 0.00/665 [00:00<?, ?B/s]"
      ]
     },
     "metadata": {},
     "output_type": "display_data"
    },
    {
     "data": {
      "application/vnd.jupyter.widget-view+json": {
       "model_id": "21b154e8d2314b97bac7bf510ce7ee43",
       "version_major": 2,
       "version_minor": 0
      },
      "text/plain": [
       "Downloading model.safetensors:   0%|          | 0.00/548M [00:00<?, ?B/s]"
      ]
     },
     "metadata": {},
     "output_type": "display_data"
    },
    {
     "data": {
      "application/vnd.jupyter.widget-view+json": {
       "model_id": "6069b24de11f468f8cbb3360ffd1fb09",
       "version_major": 2,
       "version_minor": 0
      },
      "text/plain": [
       "Downloading (…)neration_config.json:   0%|          | 0.00/124 [00:00<?, ?B/s]"
      ]
     },
     "metadata": {},
     "output_type": "display_data"
    },
    {
     "data": {
      "application/vnd.jupyter.widget-view+json": {
       "model_id": "f2a9bc258d06496f8e8e1f2f8ccc515b",
       "version_major": 2,
       "version_minor": 0
      },
      "text/plain": [
       "Downloading (…)olve/main/vocab.json:   0%|          | 0.00/1.04M [00:00<?, ?B/s]"
      ]
     },
     "metadata": {},
     "output_type": "display_data"
    },
    {
     "data": {
      "application/vnd.jupyter.widget-view+json": {
       "model_id": "2a886f21a01e457b9ea2c8748a3a4f61",
       "version_major": 2,
       "version_minor": 0
      },
      "text/plain": [
       "Downloading (…)olve/main/merges.txt:   0%|          | 0.00/456k [00:00<?, ?B/s]"
      ]
     },
     "metadata": {},
     "output_type": "display_data"
    },
    {
     "data": {
      "application/vnd.jupyter.widget-view+json": {
       "model_id": "507be369aa374425af36fb96064e610c",
       "version_major": 2,
       "version_minor": 0
      },
      "text/plain": [
       "Downloading (…)/main/tokenizer.json:   0%|          | 0.00/1.36M [00:00<?, ?B/s]"
      ]
     },
     "metadata": {},
     "output_type": "display_data"
    }
   ],
   "source": [
    "text_generator = pipeline(\"text-generation\")"
   ]
  },
  {
   "cell_type": "code",
   "execution_count": 235,
   "metadata": {
    "colab": {
     "base_uri": "https://localhost:8080/"
    },
    "id": "sNIhhyloPIp1",
    "outputId": "b86983a0-5c13-4e80-9203-3929d425f594"
   },
   "outputs": [
    {
     "data": {
      "text/plain": [
       "{'text-generation': {'do_sample': True, 'max_length': 50}}"
      ]
     },
     "execution_count": 235,
     "metadata": {},
     "output_type": "execute_result"
    }
   ],
   "source": [
    "text_generator.model.config.task_specific_params"
   ]
  },
  {
   "cell_type": "code",
   "execution_count": 236,
   "metadata": {
    "id": "JAlA7qvJPIp1"
   },
   "outputs": [],
   "source": [
    "base_text = \"\"\"\n",
    "Alice was beginning to get very tired of sitting by her sister on the bank, and of having nothing to do:  once or twice she had peeped into the book her sister was reading, but it had no pictures or conversations in it, `and what is the use of a book,'thought Alice `without pictures or conversation?' So she was considering in her own mind (as well as she could, for the hot day made her feel very sleepy and stupid), whether the pleasure of making a daisy-chain would be worth the trouble of getting up and picking the daisies, when suddenly a White Rabbit with pink eyes ran close by her.\n",
    "\"\"\""
   ]
  },
  {
   "cell_type": "code",
   "execution_count": 237,
   "metadata": {
    "colab": {
     "base_uri": "https://localhost:8080/"
    },
    "id": "OGsxW7xVPIp1",
    "outputId": "dbb7c437-72e9-4bba-e731-35e241db5aa7"
   },
   "outputs": [
    {
     "name": "stdout",
     "output_type": "stream",
     "text": [
      "\n",
      "Alice was beginning to get very tired of sitting by her sister on the bank, and of having nothing to do:  once or twice she had peeped into the book her sister was reading, but it had no pictures or conversations in it, `and what is the use of a book,'thought Alice `without pictures or conversation?' So she was considering in her own mind (as well as she could, for the hot day made her feel very sleepy and stupid), whether the pleasure of making a daisy-chain would be worth the trouble of getting up and picking the daisies, when suddenly a White Rabbit with pink eyes ran close by her.\n",
      "\n",
      "It turned out that it wasn't really strange that Alice liked books. Her sister would sit down, and listen to the conversation, as if to say `you have some idea,'or `it's the idea of the book and how to read and how it will look when you're done with it, and how to get up, when I have to leave for dinner. But the book was a good thing for her, that she had a good appetite, and she could always catch up; and that while she was doing it, she could be very drunk.\n",
      "\n"
     ]
    }
   ],
   "source": [
    "result = text_generator(base_text, max_length=250)\n",
    "print(result[0]['generated_text'])"
   ]
  },
  {
   "cell_type": "markdown",
   "metadata": {
    "id": "Kb1uve8LPIp1"
   },
   "source": [
    "# Putting It All Together"
   ]
  },
  {
   "cell_type": "markdown",
   "metadata": {
    "id": "BBjmamx_PIp1"
   },
   "source": [
    "## Data Preparation"
   ]
  },
  {
   "cell_type": "code",
   "execution_count": 238,
   "metadata": {
    "colab": {
     "base_uri": "https://localhost:8080/",
     "height": 113,
     "referenced_widgets": [
      "a6176cd161f3434790dc6a57b1dfd434",
      "dac7c2ae49cb4951bf7a85f81659b858",
      "1744cd188d08474884a66b6abc6bdba8",
      "6fac2174a8e64ce0a4b952238892d83d",
      "3eaa5c70d72c42a8bccfeb5c5a352b96",
      "b48d21256d6f4346b6d100b45b129432",
      "2851707e4a4040febfe91a3c11e91b82",
      "aaf53f3e949d40cabae0c0daf2aba48b",
      "91dd08b16fc847b4952ce291dbf40005",
      "3151a4246102474da9da1912025ff995",
      "c57435ffd8de4cea91481bf90804d664",
      "3b3100b518b147849503371651dd4e52",
      "03091f57790c4fdabf03df270c8efdaf",
      "8fa1912665134655ab0908ef74352a16",
      "065124bd0f98460ebac66cd004372b98",
      "6c0631dec58c4ee69369c25e38b045f6",
      "804670cf287b4f80aebdd98a18e017a2",
      "b67b3b33c6c841538d078572154c6e60",
      "81cc5b6d0d5e46f2abab5a40f920609e",
      "76c26fed3e6f4e2fa669e7a4b66a0c52",
      "7394c8e9b7f74285b4d10201797b66f8",
      "7eebc5928db4451d8279994eb108e53e",
      "3cb4349492694a3298d291c8fb1b200b",
      "06dac90ed3454abe9927118db312da01",
      "61e0249981a6424f8a011cc10ef08b88",
      "650796f942bc4b69a9bcd7a868dfd9b6",
      "68ff6fe07e8244cf8eca148e5d595b69",
      "a3531b7aebd54dfd81df3407d90fa2ad",
      "e37ee1e0045d4b66a849426d3db233b6",
      "5ec82e416c714d6f912c1d08afed5349",
      "5be8aae242ce4c79aac0d83f789122a7",
      "73efbdd1defc424dae2b39c40d289785",
      "6b43d9e9587f4cefa6adf350dde8f1f1"
     ]
    },
    "id": "rKf7qtJkPIp1",
    "outputId": "6732ff0a-e6da-4ab6-859c-61b1a3425197"
   },
   "outputs": [
    {
     "data": {
      "application/vnd.jupyter.widget-view+json": {
       "model_id": "a6176cd161f3434790dc6a57b1dfd434",
       "version_major": 2,
       "version_minor": 0
      },
      "text/plain": [
       "Downloading data files:   0%|          | 0/1 [00:00<?, ?it/s]"
      ]
     },
     "metadata": {},
     "output_type": "display_data"
    },
    {
     "data": {
      "application/vnd.jupyter.widget-view+json": {
       "model_id": "3b3100b518b147849503371651dd4e52",
       "version_major": 2,
       "version_minor": 0
      },
      "text/plain": [
       "Extracting data files:   0%|          | 0/1 [00:00<?, ?it/s]"
      ]
     },
     "metadata": {},
     "output_type": "display_data"
    },
    {
     "data": {
      "application/vnd.jupyter.widget-view+json": {
       "model_id": "3cb4349492694a3298d291c8fb1b200b",
       "version_major": 2,
       "version_minor": 0
      },
      "text/plain": [
       "Generating train split: 0 examples [00:00, ? examples/s]"
      ]
     },
     "metadata": {},
     "output_type": "display_data"
    }
   ],
   "source": [
    "dataset = load_dataset(path='csv', data_files=['texts/alice28-1476.sent.csv'], quotechar='\\\\', split=Split.TRAIN)"
   ]
  },
  {
   "cell_type": "code",
   "execution_count": 239,
   "metadata": {
    "id": "sRxp47A-PIp2"
   },
   "outputs": [],
   "source": [
    "shuffled_dataset = dataset.shuffle(seed=42)\n",
    "split_dataset = shuffled_dataset.train_test_split(test_size=0.2, seed=42)\n",
    "train_dataset, test_dataset = split_dataset['train'], split_dataset['test']"
   ]
  },
  {
   "cell_type": "code",
   "execution_count": 240,
   "metadata": {
    "id": "gVF5IzXsPIp2"
   },
   "outputs": [],
   "source": [
    "auto_tokenizer = AutoTokenizer.from_pretrained('gpt2')\n",
    "def tokenize(row):\n",
    "    return auto_tokenizer(row['sentence'])"
   ]
  },
  {
   "cell_type": "code",
   "execution_count": 241,
   "metadata": {
    "colab": {
     "base_uri": "https://localhost:8080/",
     "height": 81,
     "referenced_widgets": [
      "a217806554694ed7bf5aa8ad795a3597",
      "5777ee41883d442c91fe94bb09549bc0",
      "f015070e82a44db4a6e54147f59af735",
      "92c12f0acd0b497b8d930e149eed7a7f",
      "28cf349108fb4666b27ae62b4a573b3a",
      "1cf85a231fab45fe8a916c95513992e4",
      "e84b2ead2ebf44a9844271d79b48eaa4",
      "f6954a6ac6274d768555700795ab05dc",
      "5b7ae7c1cecd47c3a9289ef817567975",
      "648574ba3cfd4190ae44289b68d3371f",
      "1a72677b51f745489ce1e6c7083b3c2a",
      "cfb5fd469e194e71b416721c7737bade",
      "5c28a96c917e41bf9b62fedc677d9663",
      "de85477125b640d58d61fe84a1fe410f",
      "ce162b6815a3440f814b88ea0aa283fe",
      "2d0d2338b6c740d9ac55d6514637917c",
      "9a6805866e9a4aaebabfdea1a9754bd8",
      "17fb0f28a2a14c9b91a37a09f21b6e3c",
      "321c38c7fb5a48cabde40783f72fb30e",
      "62da2d8125004d458561df0fdc09d244",
      "7ea378ac749743e2a4d32c5183274d54",
      "8121990bf84a471eaa26d33c4872d835"
     ]
    },
    "id": "YUBOlXsqPIp2",
    "outputId": "6fa4fa65-0216-4a05-c722-ac0c823cc4bd"
   },
   "outputs": [
    {
     "data": {
      "application/vnd.jupyter.widget-view+json": {
       "model_id": "a217806554694ed7bf5aa8ad795a3597",
       "version_major": 2,
       "version_minor": 0
      },
      "text/plain": [
       "Map:   0%|          | 0/1289 [00:00<?, ? examples/s]"
      ]
     },
     "metadata": {},
     "output_type": "display_data"
    },
    {
     "data": {
      "application/vnd.jupyter.widget-view+json": {
       "model_id": "cfb5fd469e194e71b416721c7737bade",
       "version_major": 2,
       "version_minor": 0
      },
      "text/plain": [
       "Map:   0%|          | 0/323 [00:00<?, ? examples/s]"
      ]
     },
     "metadata": {},
     "output_type": "display_data"
    }
   ],
   "source": [
    "tokenized_train_dataset = train_dataset.map(tokenize, remove_columns=['source', 'sentence'], batched=True)\n",
    "tokenized_test_dataset = test_dataset.map(tokenize, remove_columns=['source', 'sentence'], batched=True)"
   ]
  },
  {
   "cell_type": "code",
   "execution_count": 242,
   "metadata": {
    "colab": {
     "base_uri": "https://localhost:8080/"
    },
    "id": "m-4cJ4pAPIp2",
    "outputId": "3ba1fade-86be-4730-d43d-9dccb6ff203d"
   },
   "outputs": [
    {
     "data": {
      "text/plain": [
       "[9, 28, 20, 9, 34, 29]"
      ]
     },
     "execution_count": 242,
     "metadata": {},
     "output_type": "execute_result"
    }
   ],
   "source": [
    "list(map(len, tokenized_train_dataset[0:6]['input_ids']))"
   ]
  },
  {
   "cell_type": "markdown",
   "metadata": {
    "id": "VKWqqWJ3PIp2"
   },
   "source": [
    "### \"Packed\" Dataset"
   ]
  },
  {
   "cell_type": "markdown",
   "metadata": {
    "id": "U7aJwvXsPIp3"
   },
   "source": [
    "![](https://github.com/dvgodoy/PyTorchStepByStep/blob/master/images/block_tokens.png?raw=1)"
   ]
  },
  {
   "cell_type": "code",
   "execution_count": 243,
   "metadata": {
    "id": "7lAMC3OtPIp3"
   },
   "outputs": [],
   "source": [
    "# Adapted from https://github.com/huggingface/transformers/blob/master/examples/pytorch/language-modeling/run_clm.py\n",
    "def group_texts(examples, block_size=128):\n",
    "    # Concatenate all texts.\n",
    "    concatenated_examples = {k: sum(examples[k], []) for k in examples.keys()}\n",
    "    total_length = len(concatenated_examples[list(examples.keys())[0]])\n",
    "    # We drop the small remainder, we could add padding if the model supported it instead of this drop, you can\n",
    "    # customize this part to your needs.\n",
    "    total_length = (total_length // block_size) * block_size\n",
    "    # Split by chunks of max_len.\n",
    "    result = {\n",
    "        k: [t[i : i + block_size] for i in range(0, total_length, block_size)]\n",
    "        for k, t in concatenated_examples.items()\n",
    "    }\n",
    "    result[\"labels\"] = result[\"input_ids\"].copy()\n",
    "    return result"
   ]
  },
  {
   "cell_type": "code",
   "execution_count": 244,
   "metadata": {
    "colab": {
     "base_uri": "https://localhost:8080/",
     "height": 81,
     "referenced_widgets": [
      "b18c2a607fe049398062c6c207484e3e",
      "f151d215e09a490f910be8db015bba80",
      "382a49f26eb1405d86daa145b4b5786b",
      "a70b5fb152ce46448bdc636835987a24",
      "51d15bcf281e4e03b28a2b4e636f1866",
      "e12ed3b7dc5c4932866f433ef048800e",
      "fb9f5fc23bb447f88cd6ff1f0bb4b35c",
      "ca2f0e916fd94c2788e86ef5aecffe1e",
      "c5bc9c3d584d4a4a83061814de4c37d4",
      "6ff6524cf1454919888e3967c7ca4728",
      "7ae214ca6e9546798b71d7633377b2d2",
      "78131e69fc5e48b98788b7ad919895d8",
      "0bd98fea98fe46c58c031c4afcb65a03",
      "0acdf948027f48668033a6b0dde45a33",
      "fd54ccef45584a80a70e576939c0b345",
      "b37876b0da9543b1bfcfdf01b95205a5",
      "5fde17667ee94504abd7b7bcc3d110ff",
      "3372a0e5e8514968a5bc819235e8616f",
      "4763944fef3f446e880caa9623448b53",
      "1fc592d0c87e440c9d30ff7b985b96f8",
      "47c99e2702e242559b5c247074ee15b7",
      "75131cbbc5024e3498bc919ae56939d7"
     ]
    },
    "id": "TirMA67-PIp3",
    "outputId": "e0a14a88-a6a5-4b98-b3aa-f056e523f7b5"
   },
   "outputs": [
    {
     "data": {
      "application/vnd.jupyter.widget-view+json": {
       "model_id": "b18c2a607fe049398062c6c207484e3e",
       "version_major": 2,
       "version_minor": 0
      },
      "text/plain": [
       "Map:   0%|          | 0/1289 [00:00<?, ? examples/s]"
      ]
     },
     "metadata": {},
     "output_type": "display_data"
    },
    {
     "data": {
      "application/vnd.jupyter.widget-view+json": {
       "model_id": "78131e69fc5e48b98788b7ad919895d8",
       "version_major": 2,
       "version_minor": 0
      },
      "text/plain": [
       "Map:   0%|          | 0/323 [00:00<?, ? examples/s]"
      ]
     },
     "metadata": {},
     "output_type": "display_data"
    }
   ],
   "source": [
    "lm_train_dataset = tokenized_train_dataset.map(group_texts, batched=True)\n",
    "lm_test_dataset = tokenized_test_dataset.map(group_texts, batched=True)\n",
    "lm_train_dataset.set_format(type='torch')\n",
    "lm_test_dataset.set_format(type='torch')"
   ]
  },
  {
   "cell_type": "code",
   "execution_count": 245,
   "metadata": {
    "colab": {
     "base_uri": "https://localhost:8080/"
    },
    "id": "lwOa4nluPIp3",
    "outputId": "a20eae6e-7025-4990-9846-2da319ff89bd"
   },
   "outputs": [
    {
     "name": "stdout",
     "output_type": "stream",
     "text": [
      "tensor([   63,  2437,   466,   345,   760,   314,  1101,  8805,  8348,   464,\n",
      "         2677,  3114,  7296,  6819,   379,   262,  2635, 25498,    11,   508,\n",
      "          531,   287,   257,  1877,  3809,    11,  4600,  7120, 25788,  1276,\n",
      "         3272,    12,  1069,  9862, 12680,  4973,  2637,  1537,   611,   314,\n",
      "         1101,   407,   262,   976,    11,   262,  1306,  1808,   318,    11,\n",
      "         5338,   287,   262,   995,   716,   314,    30,   464,   360,   579,\n",
      "         1076,  6364,  4721,   465,  2951,    13,    63,  1026,   373,   881,\n",
      "        21289,   272,   353,   379,  1363,  4032,  1807,  3595, 14862,    11,\n",
      "         4600, 12518,   530,  2492,   470,  1464,  3957,  4025,   290,  4833,\n",
      "           11,   290,   852,  6149,   546,   416, 10693,   290, 33043,    13,\n",
      "         1870, 14862,   373,   523,   881, 24776,   326,   673,  4966,   572,\n",
      "          379,  1752,   287,   262,  4571,   340,  6235,   284,    11,  1231,\n",
      "         2111,   284,  4727,   262,  7457,   340,   550,   925])\n"
     ]
    }
   ],
   "source": [
    "print(lm_train_dataset[0]['input_ids'])"
   ]
  },
  {
   "cell_type": "code",
   "execution_count": 246,
   "metadata": {
    "colab": {
     "base_uri": "https://localhost:8080/"
    },
    "id": "hkJM5tc3PIp3",
    "outputId": "8fc537b1-f717-42ef-bb1f-90d784ac7286"
   },
   "outputs": [
    {
     "data": {
      "text/plain": [
       "(239, 56)"
      ]
     },
     "execution_count": 246,
     "metadata": {},
     "output_type": "execute_result"
    }
   ],
   "source": [
    "len(lm_train_dataset), len(lm_test_dataset)"
   ]
  },
  {
   "cell_type": "markdown",
   "metadata": {
    "id": "MgLxoOb-PIp3"
   },
   "source": [
    "## Model Configuration & Training"
   ]
  },
  {
   "cell_type": "code",
   "execution_count": 247,
   "metadata": {
    "colab": {
     "base_uri": "https://localhost:8080/"
    },
    "id": "q9NLtw1APIp4",
    "outputId": "72de724e-e985-407d-d720-8ef3a54210be"
   },
   "outputs": [
    {
     "name": "stdout",
     "output_type": "stream",
     "text": [
      "<class 'transformers.models.gpt2.modeling_gpt2.GPT2LMHeadModel'>\n"
     ]
    }
   ],
   "source": [
    "from transformers import AutoModelForCausalLM\n",
    "model = AutoModelForCausalLM.from_pretrained('gpt2')\n",
    "print(model.__class__)"
   ]
  },
  {
   "cell_type": "code",
   "execution_count": 248,
   "metadata": {
    "colab": {
     "base_uri": "https://localhost:8080/"
    },
    "id": "4fI5PE_nPIp4",
    "outputId": "8b770d8f-f40d-4021-eec3-d6feed1539be"
   },
   "outputs": [
    {
     "data": {
      "text/plain": [
       "Embedding(50257, 768)"
      ]
     },
     "execution_count": 248,
     "metadata": {},
     "output_type": "execute_result"
    }
   ],
   "source": [
    "model.resize_token_embeddings(len(auto_tokenizer))"
   ]
  },
  {
   "cell_type": "code",
   "execution_count": 249,
   "metadata": {
    "id": "Ta_7BbrVPIp4"
   },
   "outputs": [],
   "source": [
    "training_args = TrainingArguments(\n",
    "    output_dir='output',\n",
    "    num_train_epochs=1,\n",
    "    per_device_train_batch_size=1,\n",
    "    per_device_eval_batch_size=8,\n",
    "    evaluation_strategy='steps',\n",
    "    eval_steps=50,\n",
    "    logging_steps=50,\n",
    "    gradient_accumulation_steps=4,\n",
    "    prediction_loss_only=True,\n",
    ")\n",
    "\n",
    "trainer = Trainer(model=model,\n",
    "                  args=training_args,\n",
    "                  train_dataset=lm_train_dataset,\n",
    "                  eval_dataset=lm_test_dataset)"
   ]
  },
  {
   "cell_type": "code",
   "execution_count": 250,
   "metadata": {
    "colab": {
     "base_uri": "https://localhost:8080/"
    },
    "id": "3WQN-YhePIp4",
    "outputId": "5c8a8d78-b2c5-4849-f7db-532f271c5d6b"
   },
   "outputs": [
    {
     "name": "stdout",
     "output_type": "stream",
     "text": [
      "{'loss': 3.5634, 'learning_rate': 7.627118644067798e-06, 'epoch': 0.84}\n",
      "{'eval_loss': 3.3356945514678955, 'eval_runtime': 0.6675, 'eval_samples_per_second': 83.899, 'eval_steps_per_second': 10.487, 'epoch': 0.84}\n",
      "{'train_runtime': 16.5379, 'train_samples_per_second': 14.452, 'train_steps_per_second': 3.568, 'train_loss': 3.5582350714732023, 'epoch': 0.99}\n"
     ]
    },
    {
     "data": {
      "text/plain": [
       "TrainOutput(global_step=59, training_loss=3.5582350714732023, metrics={'train_runtime': 16.5379, 'train_samples_per_second': 14.452, 'train_steps_per_second': 3.568, 'train_loss': 3.5582350714732023, 'epoch': 0.99})"
      ]
     },
     "execution_count": 250,
     "metadata": {},
     "output_type": "execute_result"
    }
   ],
   "source": [
    "trainer.train()"
   ]
  },
  {
   "cell_type": "code",
   "execution_count": 251,
   "metadata": {
    "colab": {
     "base_uri": "https://localhost:8080/"
    },
    "id": "_ru9UY-NPIp5",
    "outputId": "4025f499-5971-4e3f-d8da-1ebea3f6342a"
   },
   "outputs": [
    {
     "name": "stdout",
     "output_type": "stream",
     "text": [
      "{'eval_loss': 3.328803777694702, 'eval_runtime': 0.7055, 'eval_samples_per_second': 79.378, 'eval_steps_per_second': 9.922, 'epoch': 0.99}\n"
     ]
    },
    {
     "data": {
      "text/plain": [
       "{'eval_loss': 3.328803777694702,\n",
       " 'eval_runtime': 0.7055,\n",
       " 'eval_samples_per_second': 79.378,\n",
       " 'eval_steps_per_second': 9.922,\n",
       " 'epoch': 0.99}"
      ]
     },
     "execution_count": 251,
     "metadata": {},
     "output_type": "execute_result"
    }
   ],
   "source": [
    "trainer.evaluate()"
   ]
  },
  {
   "cell_type": "markdown",
   "metadata": {
    "id": "UYsl0aOiPIp5"
   },
   "source": [
    "## Generating Text"
   ]
  },
  {
   "cell_type": "code",
   "execution_count": 252,
   "metadata": {
    "id": "xhkK5TIFPIp5"
   },
   "outputs": [],
   "source": [
    "device_index = model.device.index if model.device.type != 'cpu' else -1\n",
    "gpt2_gen = pipeline('text-generation', model=model, tokenizer=auto_tokenizer, device=device_index)"
   ]
  },
  {
   "cell_type": "code",
   "execution_count": 253,
   "metadata": {
    "colab": {
     "base_uri": "https://localhost:8080/"
    },
    "id": "PF0RfSp4PIp5",
    "outputId": "7d2d8f5c-ab5f-4506-b14b-cba022fe65fd"
   },
   "outputs": [
    {
     "name": "stdout",
     "output_type": "stream",
     "text": [
      "\n",
      "Alice was beginning to get very tired of sitting by her sister on the bank, and of having nothing to do:  once or twice she had peeped into the book her sister was reading, but it had no pictures or conversations in it, `and what is the use of a book,'thought Alice `without pictures or conversation?' So she was considering in her own mind (as well as she could, for the hot day made her feel very sleepy and stupid), whether the pleasure of making a daisy-chain would be worth the trouble of getting up and picking the daisies, when suddenly a White Rabbit with pink eyes ran close by her.\n",
      "`You never liked drawing, didn't you?'said the Rabbit, so much so that they almost shook them both out in the air. `Well,'said the Alice again, 'it was as if we had a long and very long table.`There were two more--' The Rabbit was puzzled at the name, and thought its rather strange name had been Alice's favourite, in the last instance to her delight:  `that they should be called the Queen's Cat, because she was, indeed, quite an idiot:        (\n"
     ]
    }
   ],
   "source": [
    "result = gpt2_gen(base_text, max_length=250)\n",
    "print(result[0]['generated_text'])"
   ]
  },
  {
   "cell_type": "code",
   "execution_count": null,
   "metadata": {
    "id": "DQG_yBYhPIp6"
   },
   "outputs": [],
   "source": []
  }
 ],
 "metadata": {
  "accelerator": "GPU",
  "colab": {
   "gpuType": "T4",
   "provenance": []
  },
  "kernelspec": {
   "display_name": "Python 3",
   "language": "python",
   "name": "python3"
  },
  "language_info": {
   "codemirror_mode": {
    "name": "ipython",
    "version": 3
   },
   "file_extension": ".py",
   "mimetype": "text/x-python",
   "name": "python",
   "nbconvert_exporter": "python",
   "pygments_lexer": "ipython3",
   "version": "3.7.4"
  },
  "widgets": {
   "application/vnd.jupyter.widget-state+json": {
    "014cde879c6b4bf486dbd88bb4f15aba": {
     "model_module": "@jupyter-widgets/base",
     "model_module_version": "1.2.0",
     "model_name": "LayoutModel",
     "state": {
      "_model_module": "@jupyter-widgets/base",
      "_model_module_version": "1.2.0",
      "_model_name": "LayoutModel",
      "_view_count": null,
      "_view_module": "@jupyter-widgets/base",
      "_view_module_version": "1.2.0",
      "_view_name": "LayoutView",
      "align_content": null,
      "align_items": null,
      "align_self": null,
      "border": null,
      "bottom": null,
      "display": null,
      "flex": null,
      "flex_flow": null,
      "grid_area": null,
      "grid_auto_columns": null,
      "grid_auto_flow": null,
      "grid_auto_rows": null,
      "grid_column": null,
      "grid_gap": null,
      "grid_row": null,
      "grid_template_areas": null,
      "grid_template_columns": null,
      "grid_template_rows": null,
      "height": null,
      "justify_content": null,
      "justify_items": null,
      "left": null,
      "margin": null,
      "max_height": null,
      "max_width": null,
      "min_height": null,
      "min_width": null,
      "object_fit": null,
      "object_position": null,
      "order": null,
      "overflow": null,
      "overflow_x": null,
      "overflow_y": null,
      "padding": null,
      "right": null,
      "top": null,
      "visibility": null,
      "width": null
     }
    },
    "017e198210e54a189160e6c5448b45ff": {
     "model_module": "@jupyter-widgets/controls",
     "model_module_version": "1.5.0",
     "model_name": "ProgressStyleModel",
     "state": {
      "_model_module": "@jupyter-widgets/controls",
      "_model_module_version": "1.5.0",
      "_model_name": "ProgressStyleModel",
      "_view_count": null,
      "_view_module": "@jupyter-widgets/base",
      "_view_module_version": "1.2.0",
      "_view_name": "StyleView",
      "bar_color": null,
      "description_width": ""
     }
    },
    "020e13cca93f4c20a5df7384b61b56d8": {
     "model_module": "@jupyter-widgets/base",
     "model_module_version": "1.2.0",
     "model_name": "LayoutModel",
     "state": {
      "_model_module": "@jupyter-widgets/base",
      "_model_module_version": "1.2.0",
      "_model_name": "LayoutModel",
      "_view_count": null,
      "_view_module": "@jupyter-widgets/base",
      "_view_module_version": "1.2.0",
      "_view_name": "LayoutView",
      "align_content": null,
      "align_items": null,
      "align_self": null,
      "border": null,
      "bottom": null,
      "display": null,
      "flex": null,
      "flex_flow": null,
      "grid_area": null,
      "grid_auto_columns": null,
      "grid_auto_flow": null,
      "grid_auto_rows": null,
      "grid_column": null,
      "grid_gap": null,
      "grid_row": null,
      "grid_template_areas": null,
      "grid_template_columns": null,
      "grid_template_rows": null,
      "height": null,
      "justify_content": null,
      "justify_items": null,
      "left": null,
      "margin": null,
      "max_height": null,
      "max_width": null,
      "min_height": null,
      "min_width": null,
      "object_fit": null,
      "object_position": null,
      "order": null,
      "overflow": null,
      "overflow_x": null,
      "overflow_y": null,
      "padding": null,
      "right": null,
      "top": null,
      "visibility": null,
      "width": null
     }
    },
    "028efd79c4aa49f090fde0d01507518e": {
     "model_module": "@jupyter-widgets/controls",
     "model_module_version": "1.5.0",
     "model_name": "HTMLModel",
     "state": {
      "_dom_classes": [],
      "_model_module": "@jupyter-widgets/controls",
      "_model_module_version": "1.5.0",
      "_model_name": "HTMLModel",
      "_view_count": null,
      "_view_module": "@jupyter-widgets/controls",
      "_view_module_version": "1.5.0",
      "_view_name": "HTMLView",
      "description": "",
      "description_tooltip": null,
      "layout": "IPY_MODEL_77cc41136f654cc289f578ffe99b47f9",
      "placeholder": "​",
      "style": "IPY_MODEL_d229ed8924f44660afd51f751a62074b",
      "value": "Downloading (…)lve/main/config.json: 100%"
     }
    },
    "03091f57790c4fdabf03df270c8efdaf": {
     "model_module": "@jupyter-widgets/controls",
     "model_module_version": "1.5.0",
     "model_name": "HTMLModel",
     "state": {
      "_dom_classes": [],
      "_model_module": "@jupyter-widgets/controls",
      "_model_module_version": "1.5.0",
      "_model_name": "HTMLModel",
      "_view_count": null,
      "_view_module": "@jupyter-widgets/controls",
      "_view_module_version": "1.5.0",
      "_view_name": "HTMLView",
      "description": "",
      "description_tooltip": null,
      "layout": "IPY_MODEL_804670cf287b4f80aebdd98a18e017a2",
      "placeholder": "​",
      "style": "IPY_MODEL_b67b3b33c6c841538d078572154c6e60",
      "value": "Extracting data files: 100%"
     }
    },
    "0382e6059946468684c04b7b5c81a7f0": {
     "model_module": "@jupyter-widgets/base",
     "model_module_version": "1.2.0",
     "model_name": "LayoutModel",
     "state": {
      "_model_module": "@jupyter-widgets/base",
      "_model_module_version": "1.2.0",
      "_model_name": "LayoutModel",
      "_view_count": null,
      "_view_module": "@jupyter-widgets/base",
      "_view_module_version": "1.2.0",
      "_view_name": "LayoutView",
      "align_content": null,
      "align_items": null,
      "align_self": null,
      "border": null,
      "bottom": null,
      "display": null,
      "flex": null,
      "flex_flow": null,
      "grid_area": null,
      "grid_auto_columns": null,
      "grid_auto_flow": null,
      "grid_auto_rows": null,
      "grid_column": null,
      "grid_gap": null,
      "grid_row": null,
      "grid_template_areas": null,
      "grid_template_columns": null,
      "grid_template_rows": null,
      "height": null,
      "justify_content": null,
      "justify_items": null,
      "left": null,
      "margin": null,
      "max_height": null,
      "max_width": null,
      "min_height": null,
      "min_width": null,
      "object_fit": null,
      "object_position": null,
      "order": null,
      "overflow": null,
      "overflow_x": null,
      "overflow_y": null,
      "padding": null,
      "right": null,
      "top": null,
      "visibility": null,
      "width": null
     }
    },
    "04bd756693f14b21bd2901fc2e73d3ef": {
     "model_module": "@jupyter-widgets/controls",
     "model_module_version": "1.5.0",
     "model_name": "FloatProgressModel",
     "state": {
      "_dom_classes": [],
      "_model_module": "@jupyter-widgets/controls",
      "_model_module_version": "1.5.0",
      "_model_name": "FloatProgressModel",
      "_view_count": null,
      "_view_module": "@jupyter-widgets/controls",
      "_view_module_version": "1.5.0",
      "_view_name": "ProgressView",
      "bar_style": "success",
      "description": "",
      "description_tooltip": null,
      "layout": "IPY_MODEL_c0ffdf9164164d5c9213c7dd10116f23",
      "max": 629,
      "min": 0,
      "orientation": "horizontal",
      "style": "IPY_MODEL_4ab5ac2fbe27424db741224634932854",
      "value": 629
     }
    },
    "0591bc04e579467c9ee57bdef9210df5": {
     "model_module": "@jupyter-widgets/base",
     "model_module_version": "1.2.0",
     "model_name": "LayoutModel",
     "state": {
      "_model_module": "@jupyter-widgets/base",
      "_model_module_version": "1.2.0",
      "_model_name": "LayoutModel",
      "_view_count": null,
      "_view_module": "@jupyter-widgets/base",
      "_view_module_version": "1.2.0",
      "_view_name": "LayoutView",
      "align_content": null,
      "align_items": null,
      "align_self": null,
      "border": null,
      "bottom": null,
      "display": null,
      "flex": null,
      "flex_flow": null,
      "grid_area": null,
      "grid_auto_columns": null,
      "grid_auto_flow": null,
      "grid_auto_rows": null,
      "grid_column": null,
      "grid_gap": null,
      "grid_row": null,
      "grid_template_areas": null,
      "grid_template_columns": null,
      "grid_template_rows": null,
      "height": null,
      "justify_content": null,
      "justify_items": null,
      "left": null,
      "margin": null,
      "max_height": null,
      "max_width": null,
      "min_height": null,
      "min_width": null,
      "object_fit": null,
      "object_position": null,
      "order": null,
      "overflow": null,
      "overflow_x": null,
      "overflow_y": null,
      "padding": null,
      "right": null,
      "top": null,
      "visibility": null,
      "width": null
     }
    },
    "05a250d18cda4fe79f69cb258960faf8": {
     "model_module": "@jupyter-widgets/controls",
     "model_module_version": "1.5.0",
     "model_name": "DescriptionStyleModel",
     "state": {
      "_model_module": "@jupyter-widgets/controls",
      "_model_module_version": "1.5.0",
      "_model_name": "DescriptionStyleModel",
      "_view_count": null,
      "_view_module": "@jupyter-widgets/base",
      "_view_module_version": "1.2.0",
      "_view_name": "StyleView",
      "description_width": ""
     }
    },
    "05cc15488dee4bfa8294781adc2775e4": {
     "model_module": "@jupyter-widgets/controls",
     "model_module_version": "1.5.0",
     "model_name": "HTMLModel",
     "state": {
      "_dom_classes": [],
      "_model_module": "@jupyter-widgets/controls",
      "_model_module_version": "1.5.0",
      "_model_name": "HTMLModel",
      "_view_count": null,
      "_view_module": "@jupyter-widgets/controls",
      "_view_module_version": "1.5.0",
      "_view_name": "HTMLView",
      "description": "",
      "description_tooltip": null,
      "layout": "IPY_MODEL_f4c9792bf2194999b083495d1379b513",
      "placeholder": "​",
      "style": "IPY_MODEL_569146c4214f4e4eb7b7de078ebd5857",
      "value": "Downloading model.safetensors: 100%"
     }
    },
    "060c7285770746819031b482fbda4895": {
     "model_module": "@jupyter-widgets/controls",
     "model_module_version": "1.5.0",
     "model_name": "DescriptionStyleModel",
     "state": {
      "_model_module": "@jupyter-widgets/controls",
      "_model_module_version": "1.5.0",
      "_model_name": "DescriptionStyleModel",
      "_view_count": null,
      "_view_module": "@jupyter-widgets/base",
      "_view_module_version": "1.2.0",
      "_view_name": "StyleView",
      "description_width": ""
     }
    },
    "065124bd0f98460ebac66cd004372b98": {
     "model_module": "@jupyter-widgets/controls",
     "model_module_version": "1.5.0",
     "model_name": "HTMLModel",
     "state": {
      "_dom_classes": [],
      "_model_module": "@jupyter-widgets/controls",
      "_model_module_version": "1.5.0",
      "_model_name": "HTMLModel",
      "_view_count": null,
      "_view_module": "@jupyter-widgets/controls",
      "_view_module_version": "1.5.0",
      "_view_name": "HTMLView",
      "description": "",
      "description_tooltip": null,
      "layout": "IPY_MODEL_7394c8e9b7f74285b4d10201797b66f8",
      "placeholder": "​",
      "style": "IPY_MODEL_7eebc5928db4451d8279994eb108e53e",
      "value": " 1/1 [00:00&lt;00:00, 49.29it/s]"
     }
    },
    "06dac90ed3454abe9927118db312da01": {
     "model_module": "@jupyter-widgets/controls",
     "model_module_version": "1.5.0",
     "model_name": "HTMLModel",
     "state": {
      "_dom_classes": [],
      "_model_module": "@jupyter-widgets/controls",
      "_model_module_version": "1.5.0",
      "_model_name": "HTMLModel",
      "_view_count": null,
      "_view_module": "@jupyter-widgets/controls",
      "_view_module_version": "1.5.0",
      "_view_name": "HTMLView",
      "description": "",
      "description_tooltip": null,
      "layout": "IPY_MODEL_a3531b7aebd54dfd81df3407d90fa2ad",
      "placeholder": "​",
      "style": "IPY_MODEL_e37ee1e0045d4b66a849426d3db233b6",
      "value": "Generating train split: "
     }
    },
    "078f35a0fcb8401e9e3b39366ccdfa22": {
     "model_module": "@jupyter-widgets/controls",
     "model_module_version": "1.5.0",
     "model_name": "HTMLModel",
     "state": {
      "_dom_classes": [],
      "_model_module": "@jupyter-widgets/controls",
      "_model_module_version": "1.5.0",
      "_model_name": "HTMLModel",
      "_view_count": null,
      "_view_module": "@jupyter-widgets/controls",
      "_view_module_version": "1.5.0",
      "_view_name": "HTMLView",
      "description": "",
      "description_tooltip": null,
      "layout": "IPY_MODEL_84904b49bcfb4f70a267c906a4981493",
      "placeholder": "​",
      "style": "IPY_MODEL_931213e9c0ee47a799a98c5a0a57a764",
      "value": " 268M/268M [00:01&lt;00:00, 207MB/s]"
     }
    },
    "089fea1d6a6744ae80454aa101f5898e": {
     "model_module": "@jupyter-widgets/controls",
     "model_module_version": "1.5.0",
     "model_name": "HBoxModel",
     "state": {
      "_dom_classes": [],
      "_model_module": "@jupyter-widgets/controls",
      "_model_module_version": "1.5.0",
      "_model_name": "HBoxModel",
      "_view_count": null,
      "_view_module": "@jupyter-widgets/controls",
      "_view_module_version": "1.5.0",
      "_view_name": "HBoxView",
      "box_style": "",
      "children": [
       "IPY_MODEL_5ddaead5423c4750aa5ceabb2f35e860",
       "IPY_MODEL_cb0258347d984bdbac59ec33811f51b5",
       "IPY_MODEL_efd84a7954324854a1d0fc0a533de65e"
      ],
      "layout": "IPY_MODEL_1cd3ac215fd04246af43ad48f3a02633"
     }
    },
    "08d599a00ddb4b348bf3818fd86b098f": {
     "model_module": "@jupyter-widgets/controls",
     "model_module_version": "1.5.0",
     "model_name": "ProgressStyleModel",
     "state": {
      "_model_module": "@jupyter-widgets/controls",
      "_model_module_version": "1.5.0",
      "_model_name": "ProgressStyleModel",
      "_view_count": null,
      "_view_module": "@jupyter-widgets/base",
      "_view_module_version": "1.2.0",
      "_view_name": "StyleView",
      "bar_color": null,
      "description_width": ""
     }
    },
    "099d406c76b44870be13ee5b3134a7de": {
     "model_module": "@jupyter-widgets/base",
     "model_module_version": "1.2.0",
     "model_name": "LayoutModel",
     "state": {
      "_model_module": "@jupyter-widgets/base",
      "_model_module_version": "1.2.0",
      "_model_name": "LayoutModel",
      "_view_count": null,
      "_view_module": "@jupyter-widgets/base",
      "_view_module_version": "1.2.0",
      "_view_name": "LayoutView",
      "align_content": null,
      "align_items": null,
      "align_self": null,
      "border": null,
      "bottom": null,
      "display": null,
      "flex": null,
      "flex_flow": null,
      "grid_area": null,
      "grid_auto_columns": null,
      "grid_auto_flow": null,
      "grid_auto_rows": null,
      "grid_column": null,
      "grid_gap": null,
      "grid_row": null,
      "grid_template_areas": null,
      "grid_template_columns": null,
      "grid_template_rows": null,
      "height": null,
      "justify_content": null,
      "justify_items": null,
      "left": null,
      "margin": null,
      "max_height": null,
      "max_width": null,
      "min_height": null,
      "min_width": null,
      "object_fit": null,
      "object_position": null,
      "order": null,
      "overflow": null,
      "overflow_x": null,
      "overflow_y": null,
      "padding": null,
      "right": null,
      "top": null,
      "visibility": null,
      "width": null
     }
    },
    "09c09951186c4b8baca1824cece58586": {
     "model_module": "@jupyter-widgets/base",
     "model_module_version": "1.2.0",
     "model_name": "LayoutModel",
     "state": {
      "_model_module": "@jupyter-widgets/base",
      "_model_module_version": "1.2.0",
      "_model_name": "LayoutModel",
      "_view_count": null,
      "_view_module": "@jupyter-widgets/base",
      "_view_module_version": "1.2.0",
      "_view_name": "LayoutView",
      "align_content": null,
      "align_items": null,
      "align_self": null,
      "border": null,
      "bottom": null,
      "display": null,
      "flex": null,
      "flex_flow": null,
      "grid_area": null,
      "grid_auto_columns": null,
      "grid_auto_flow": null,
      "grid_auto_rows": null,
      "grid_column": null,
      "grid_gap": null,
      "grid_row": null,
      "grid_template_areas": null,
      "grid_template_columns": null,
      "grid_template_rows": null,
      "height": null,
      "justify_content": null,
      "justify_items": null,
      "left": null,
      "margin": null,
      "max_height": null,
      "max_width": null,
      "min_height": null,
      "min_width": null,
      "object_fit": null,
      "object_position": null,
      "order": null,
      "overflow": null,
      "overflow_x": null,
      "overflow_y": null,
      "padding": null,
      "right": null,
      "top": null,
      "visibility": null,
      "width": null
     }
    },
    "09c64d67093745c1aab40091ab7e80d6": {
     "model_module": "@jupyter-widgets/base",
     "model_module_version": "1.2.0",
     "model_name": "LayoutModel",
     "state": {
      "_model_module": "@jupyter-widgets/base",
      "_model_module_version": "1.2.0",
      "_model_name": "LayoutModel",
      "_view_count": null,
      "_view_module": "@jupyter-widgets/base",
      "_view_module_version": "1.2.0",
      "_view_name": "LayoutView",
      "align_content": null,
      "align_items": null,
      "align_self": null,
      "border": null,
      "bottom": null,
      "display": null,
      "flex": null,
      "flex_flow": null,
      "grid_area": null,
      "grid_auto_columns": null,
      "grid_auto_flow": null,
      "grid_auto_rows": null,
      "grid_column": null,
      "grid_gap": null,
      "grid_row": null,
      "grid_template_areas": null,
      "grid_template_columns": null,
      "grid_template_rows": null,
      "height": null,
      "justify_content": null,
      "justify_items": null,
      "left": null,
      "margin": null,
      "max_height": null,
      "max_width": null,
      "min_height": null,
      "min_width": null,
      "object_fit": null,
      "object_position": null,
      "order": null,
      "overflow": null,
      "overflow_x": null,
      "overflow_y": null,
      "padding": null,
      "right": null,
      "top": null,
      "visibility": null,
      "width": null
     }
    },
    "0a799174580945b5a21137b528c5da56": {
     "model_module": "@jupyter-widgets/base",
     "model_module_version": "1.2.0",
     "model_name": "LayoutModel",
     "state": {
      "_model_module": "@jupyter-widgets/base",
      "_model_module_version": "1.2.0",
      "_model_name": "LayoutModel",
      "_view_count": null,
      "_view_module": "@jupyter-widgets/base",
      "_view_module_version": "1.2.0",
      "_view_name": "LayoutView",
      "align_content": null,
      "align_items": null,
      "align_self": null,
      "border": null,
      "bottom": null,
      "display": null,
      "flex": null,
      "flex_flow": null,
      "grid_area": null,
      "grid_auto_columns": null,
      "grid_auto_flow": null,
      "grid_auto_rows": null,
      "grid_column": null,
      "grid_gap": null,
      "grid_row": null,
      "grid_template_areas": null,
      "grid_template_columns": null,
      "grid_template_rows": null,
      "height": null,
      "justify_content": null,
      "justify_items": null,
      "left": null,
      "margin": null,
      "max_height": null,
      "max_width": null,
      "min_height": null,
      "min_width": null,
      "object_fit": null,
      "object_position": null,
      "order": null,
      "overflow": null,
      "overflow_x": null,
      "overflow_y": null,
      "padding": null,
      "right": null,
      "top": null,
      "visibility": null,
      "width": null
     }
    },
    "0a85cc9e58ca491cb6ad286fc5afbcbd": {
     "model_module": "@jupyter-widgets/controls",
     "model_module_version": "1.5.0",
     "model_name": "HBoxModel",
     "state": {
      "_dom_classes": [],
      "_model_module": "@jupyter-widgets/controls",
      "_model_module_version": "1.5.0",
      "_model_name": "HBoxModel",
      "_view_count": null,
      "_view_module": "@jupyter-widgets/controls",
      "_view_module_version": "1.5.0",
      "_view_name": "HBoxView",
      "box_style": "",
      "children": [
       "IPY_MODEL_e74ffc2c8ab645b99b823dfcd834033e",
       "IPY_MODEL_861d8b0a49d044bba3beff95743a3c47",
       "IPY_MODEL_225b7a1272ad497680eead78e2fb21ba"
      ],
      "layout": "IPY_MODEL_ba91e70666b84e95b4ca4e6e6e1503a5"
     }
    },
    "0acdf948027f48668033a6b0dde45a33": {
     "model_module": "@jupyter-widgets/controls",
     "model_module_version": "1.5.0",
     "model_name": "FloatProgressModel",
     "state": {
      "_dom_classes": [],
      "_model_module": "@jupyter-widgets/controls",
      "_model_module_version": "1.5.0",
      "_model_name": "FloatProgressModel",
      "_view_count": null,
      "_view_module": "@jupyter-widgets/controls",
      "_view_module_version": "1.5.0",
      "_view_name": "ProgressView",
      "bar_style": "success",
      "description": "",
      "description_tooltip": null,
      "layout": "IPY_MODEL_4763944fef3f446e880caa9623448b53",
      "max": 323,
      "min": 0,
      "orientation": "horizontal",
      "style": "IPY_MODEL_1fc592d0c87e440c9d30ff7b985b96f8",
      "value": 323
     }
    },
    "0bd98fea98fe46c58c031c4afcb65a03": {
     "model_module": "@jupyter-widgets/controls",
     "model_module_version": "1.5.0",
     "model_name": "HTMLModel",
     "state": {
      "_dom_classes": [],
      "_model_module": "@jupyter-widgets/controls",
      "_model_module_version": "1.5.0",
      "_model_name": "HTMLModel",
      "_view_count": null,
      "_view_module": "@jupyter-widgets/controls",
      "_view_module_version": "1.5.0",
      "_view_name": "HTMLView",
      "description": "",
      "description_tooltip": null,
      "layout": "IPY_MODEL_5fde17667ee94504abd7b7bcc3d110ff",
      "placeholder": "​",
      "style": "IPY_MODEL_3372a0e5e8514968a5bc819235e8616f",
      "value": "Map: 100%"
     }
    },
    "0bffcdb38d1d4f3c85e93210aabfa404": {
     "model_module": "@jupyter-widgets/base",
     "model_module_version": "1.2.0",
     "model_name": "LayoutModel",
     "state": {
      "_model_module": "@jupyter-widgets/base",
      "_model_module_version": "1.2.0",
      "_model_name": "LayoutModel",
      "_view_count": null,
      "_view_module": "@jupyter-widgets/base",
      "_view_module_version": "1.2.0",
      "_view_name": "LayoutView",
      "align_content": null,
      "align_items": null,
      "align_self": null,
      "border": null,
      "bottom": null,
      "display": null,
      "flex": null,
      "flex_flow": null,
      "grid_area": null,
      "grid_auto_columns": null,
      "grid_auto_flow": null,
      "grid_auto_rows": null,
      "grid_column": null,
      "grid_gap": null,
      "grid_row": null,
      "grid_template_areas": null,
      "grid_template_columns": null,
      "grid_template_rows": null,
      "height": null,
      "justify_content": null,
      "justify_items": null,
      "left": null,
      "margin": null,
      "max_height": null,
      "max_width": null,
      "min_height": null,
      "min_width": null,
      "object_fit": null,
      "object_position": null,
      "order": null,
      "overflow": null,
      "overflow_x": null,
      "overflow_y": null,
      "padding": null,
      "right": null,
      "top": null,
      "visibility": null,
      "width": null
     }
    },
    "0d47571efe944cb3bcd4062deef28a76": {
     "model_module": "@jupyter-widgets/controls",
     "model_module_version": "1.5.0",
     "model_name": "ProgressStyleModel",
     "state": {
      "_model_module": "@jupyter-widgets/controls",
      "_model_module_version": "1.5.0",
      "_model_name": "ProgressStyleModel",
      "_view_count": null,
      "_view_module": "@jupyter-widgets/base",
      "_view_module_version": "1.2.0",
      "_view_name": "StyleView",
      "bar_color": null,
      "description_width": ""
     }
    },
    "0dcb056b573242769c81edf55126e236": {
     "model_module": "@jupyter-widgets/base",
     "model_module_version": "1.2.0",
     "model_name": "LayoutModel",
     "state": {
      "_model_module": "@jupyter-widgets/base",
      "_model_module_version": "1.2.0",
      "_model_name": "LayoutModel",
      "_view_count": null,
      "_view_module": "@jupyter-widgets/base",
      "_view_module_version": "1.2.0",
      "_view_name": "LayoutView",
      "align_content": null,
      "align_items": null,
      "align_self": null,
      "border": null,
      "bottom": null,
      "display": null,
      "flex": null,
      "flex_flow": null,
      "grid_area": null,
      "grid_auto_columns": null,
      "grid_auto_flow": null,
      "grid_auto_rows": null,
      "grid_column": null,
      "grid_gap": null,
      "grid_row": null,
      "grid_template_areas": null,
      "grid_template_columns": null,
      "grid_template_rows": null,
      "height": null,
      "justify_content": null,
      "justify_items": null,
      "left": null,
      "margin": null,
      "max_height": null,
      "max_width": null,
      "min_height": null,
      "min_width": null,
      "object_fit": null,
      "object_position": null,
      "order": null,
      "overflow": null,
      "overflow_x": null,
      "overflow_y": null,
      "padding": null,
      "right": null,
      "top": null,
      "visibility": null,
      "width": null
     }
    },
    "110fcccc17cd464fb2b61838c02c45a0": {
     "model_module": "@jupyter-widgets/controls",
     "model_module_version": "1.5.0",
     "model_name": "DescriptionStyleModel",
     "state": {
      "_model_module": "@jupyter-widgets/controls",
      "_model_module_version": "1.5.0",
      "_model_name": "DescriptionStyleModel",
      "_view_count": null,
      "_view_module": "@jupyter-widgets/base",
      "_view_module_version": "1.2.0",
      "_view_name": "StyleView",
      "description_width": ""
     }
    },
    "1177ccace23c41cd9d4a64ac9a214106": {
     "model_module": "@jupyter-widgets/controls",
     "model_module_version": "1.5.0",
     "model_name": "DescriptionStyleModel",
     "state": {
      "_model_module": "@jupyter-widgets/controls",
      "_model_module_version": "1.5.0",
      "_model_name": "DescriptionStyleModel",
      "_view_count": null,
      "_view_module": "@jupyter-widgets/base",
      "_view_module_version": "1.2.0",
      "_view_name": "StyleView",
      "description_width": ""
     }
    },
    "11bea8fc0ead466bbb93aec568aaf1ae": {
     "model_module": "@jupyter-widgets/controls",
     "model_module_version": "1.5.0",
     "model_name": "ProgressStyleModel",
     "state": {
      "_model_module": "@jupyter-widgets/controls",
      "_model_module_version": "1.5.0",
      "_model_name": "ProgressStyleModel",
      "_view_count": null,
      "_view_module": "@jupyter-widgets/base",
      "_view_module_version": "1.2.0",
      "_view_name": "StyleView",
      "bar_color": null,
      "description_width": ""
     }
    },
    "131e7124d505464f9e62e06ee7344fd9": {
     "model_module": "@jupyter-widgets/base",
     "model_module_version": "1.2.0",
     "model_name": "LayoutModel",
     "state": {
      "_model_module": "@jupyter-widgets/base",
      "_model_module_version": "1.2.0",
      "_model_name": "LayoutModel",
      "_view_count": null,
      "_view_module": "@jupyter-widgets/base",
      "_view_module_version": "1.2.0",
      "_view_name": "LayoutView",
      "align_content": null,
      "align_items": null,
      "align_self": null,
      "border": null,
      "bottom": null,
      "display": null,
      "flex": null,
      "flex_flow": null,
      "grid_area": null,
      "grid_auto_columns": null,
      "grid_auto_flow": null,
      "grid_auto_rows": null,
      "grid_column": null,
      "grid_gap": null,
      "grid_row": null,
      "grid_template_areas": null,
      "grid_template_columns": null,
      "grid_template_rows": null,
      "height": null,
      "justify_content": null,
      "justify_items": null,
      "left": null,
      "margin": null,
      "max_height": null,
      "max_width": null,
      "min_height": null,
      "min_width": null,
      "object_fit": null,
      "object_position": null,
      "order": null,
      "overflow": null,
      "overflow_x": null,
      "overflow_y": null,
      "padding": null,
      "right": null,
      "top": null,
      "visibility": null,
      "width": null
     }
    },
    "133badee9be148eb9daa878d67325bb5": {
     "model_module": "@jupyter-widgets/controls",
     "model_module_version": "1.5.0",
     "model_name": "HTMLModel",
     "state": {
      "_dom_classes": [],
      "_model_module": "@jupyter-widgets/controls",
      "_model_module_version": "1.5.0",
      "_model_name": "HTMLModel",
      "_view_count": null,
      "_view_module": "@jupyter-widgets/controls",
      "_view_module_version": "1.5.0",
      "_view_name": "HTMLView",
      "description": "",
      "description_tooltip": null,
      "layout": "IPY_MODEL_0382e6059946468684c04b7b5c81a7f0",
      "placeholder": "​",
      "style": "IPY_MODEL_c0c7c2f45c9842728752cb9d45666aa7",
      "value": " 1.04M/1.04M [00:00&lt;00:00, 5.72MB/s]"
     }
    },
    "134448f816dd4e1c9fc331e98d7381b9": {
     "model_module": "@jupyter-widgets/controls",
     "model_module_version": "1.5.0",
     "model_name": "HBoxModel",
     "state": {
      "_dom_classes": [],
      "_model_module": "@jupyter-widgets/controls",
      "_model_module_version": "1.5.0",
      "_model_name": "HBoxModel",
      "_view_count": null,
      "_view_module": "@jupyter-widgets/controls",
      "_view_module_version": "1.5.0",
      "_view_name": "HBoxView",
      "box_style": "",
      "children": [
       "IPY_MODEL_a0d6a4f644164ad5b8886e50f37fdee7",
       "IPY_MODEL_ae459920284243408cf298063ea85720",
       "IPY_MODEL_f6bfeefba2ae41a786d03af7c2875bea"
      ],
      "layout": "IPY_MODEL_ae0ece405c544406b9e0c90a665d068c"
     }
    },
    "14a84284b58c4927a57600bd63b83f60": {
     "model_module": "@jupyter-widgets/controls",
     "model_module_version": "1.5.0",
     "model_name": "FloatProgressModel",
     "state": {
      "_dom_classes": [],
      "_model_module": "@jupyter-widgets/controls",
      "_model_module_version": "1.5.0",
      "_model_name": "FloatProgressModel",
      "_view_count": null,
      "_view_module": "@jupyter-widgets/controls",
      "_view_module_version": "1.5.0",
      "_view_name": "ProgressView",
      "bar_style": "success",
      "description": "",
      "description_tooltip": null,
      "layout": "IPY_MODEL_169b92244a9e42cf89ed5d7b6fe643a7",
      "max": 3081,
      "min": 0,
      "orientation": "horizontal",
      "style": "IPY_MODEL_89b32c1717c342b28edc5c90be607f0c",
      "value": 3081
     }
    },
    "15a667e533e945c894af026b818db869": {
     "model_module": "@jupyter-widgets/base",
     "model_module_version": "1.2.0",
     "model_name": "LayoutModel",
     "state": {
      "_model_module": "@jupyter-widgets/base",
      "_model_module_version": "1.2.0",
      "_model_name": "LayoutModel",
      "_view_count": null,
      "_view_module": "@jupyter-widgets/base",
      "_view_module_version": "1.2.0",
      "_view_name": "LayoutView",
      "align_content": null,
      "align_items": null,
      "align_self": null,
      "border": null,
      "bottom": null,
      "display": null,
      "flex": null,
      "flex_flow": null,
      "grid_area": null,
      "grid_auto_columns": null,
      "grid_auto_flow": null,
      "grid_auto_rows": null,
      "grid_column": null,
      "grid_gap": null,
      "grid_row": null,
      "grid_template_areas": null,
      "grid_template_columns": null,
      "grid_template_rows": null,
      "height": null,
      "justify_content": null,
      "justify_items": null,
      "left": null,
      "margin": null,
      "max_height": null,
      "max_width": null,
      "min_height": null,
      "min_width": null,
      "object_fit": null,
      "object_position": null,
      "order": null,
      "overflow": null,
      "overflow_x": null,
      "overflow_y": null,
      "padding": null,
      "right": null,
      "top": null,
      "visibility": null,
      "width": null
     }
    },
    "15d7e137a6ff45a89959fe0794b3894d": {
     "model_module": "@jupyter-widgets/base",
     "model_module_version": "1.2.0",
     "model_name": "LayoutModel",
     "state": {
      "_model_module": "@jupyter-widgets/base",
      "_model_module_version": "1.2.0",
      "_model_name": "LayoutModel",
      "_view_count": null,
      "_view_module": "@jupyter-widgets/base",
      "_view_module_version": "1.2.0",
      "_view_name": "LayoutView",
      "align_content": null,
      "align_items": null,
      "align_self": null,
      "border": null,
      "bottom": null,
      "display": null,
      "flex": null,
      "flex_flow": null,
      "grid_area": null,
      "grid_auto_columns": null,
      "grid_auto_flow": null,
      "grid_auto_rows": null,
      "grid_column": null,
      "grid_gap": null,
      "grid_row": null,
      "grid_template_areas": null,
      "grid_template_columns": null,
      "grid_template_rows": null,
      "height": null,
      "justify_content": null,
      "justify_items": null,
      "left": null,
      "margin": null,
      "max_height": null,
      "max_width": null,
      "min_height": null,
      "min_width": null,
      "object_fit": null,
      "object_position": null,
      "order": null,
      "overflow": null,
      "overflow_x": null,
      "overflow_y": null,
      "padding": null,
      "right": null,
      "top": null,
      "visibility": null,
      "width": null
     }
    },
    "15e6c1e653ea43ceac91c1188d2d9b4b": {
     "model_module": "@jupyter-widgets/base",
     "model_module_version": "1.2.0",
     "model_name": "LayoutModel",
     "state": {
      "_model_module": "@jupyter-widgets/base",
      "_model_module_version": "1.2.0",
      "_model_name": "LayoutModel",
      "_view_count": null,
      "_view_module": "@jupyter-widgets/base",
      "_view_module_version": "1.2.0",
      "_view_name": "LayoutView",
      "align_content": null,
      "align_items": null,
      "align_self": null,
      "border": null,
      "bottom": null,
      "display": null,
      "flex": null,
      "flex_flow": null,
      "grid_area": null,
      "grid_auto_columns": null,
      "grid_auto_flow": null,
      "grid_auto_rows": null,
      "grid_column": null,
      "grid_gap": null,
      "grid_row": null,
      "grid_template_areas": null,
      "grid_template_columns": null,
      "grid_template_rows": null,
      "height": null,
      "justify_content": null,
      "justify_items": null,
      "left": null,
      "margin": null,
      "max_height": null,
      "max_width": null,
      "min_height": null,
      "min_width": null,
      "object_fit": null,
      "object_position": null,
      "order": null,
      "overflow": null,
      "overflow_x": null,
      "overflow_y": null,
      "padding": null,
      "right": null,
      "top": null,
      "visibility": null,
      "width": null
     }
    },
    "1628cb8828844f46b2c3d673117e0831": {
     "model_module": "@jupyter-widgets/controls",
     "model_module_version": "1.5.0",
     "model_name": "DescriptionStyleModel",
     "state": {
      "_model_module": "@jupyter-widgets/controls",
      "_model_module_version": "1.5.0",
      "_model_name": "DescriptionStyleModel",
      "_view_count": null,
      "_view_module": "@jupyter-widgets/base",
      "_view_module_version": "1.2.0",
      "_view_name": "StyleView",
      "description_width": ""
     }
    },
    "162b098de96a4b2084685c0a77a0eacb": {
     "model_module": "@jupyter-widgets/controls",
     "model_module_version": "1.5.0",
     "model_name": "HBoxModel",
     "state": {
      "_dom_classes": [],
      "_model_module": "@jupyter-widgets/controls",
      "_model_module_version": "1.5.0",
      "_model_name": "HBoxModel",
      "_view_count": null,
      "_view_module": "@jupyter-widgets/controls",
      "_view_module_version": "1.5.0",
      "_view_name": "HBoxView",
      "box_style": "",
      "children": [
       "IPY_MODEL_e47034499cc34e38bc0caba6d32e0af2",
       "IPY_MODEL_f12561a7885745f68335b541d6e33baa",
       "IPY_MODEL_a229f1dee3d043d49b4f337d21aee795"
      ],
      "layout": "IPY_MODEL_b9f77f25becb47958456c513715fa705"
     }
    },
    "169b92244a9e42cf89ed5d7b6fe643a7": {
     "model_module": "@jupyter-widgets/base",
     "model_module_version": "1.2.0",
     "model_name": "LayoutModel",
     "state": {
      "_model_module": "@jupyter-widgets/base",
      "_model_module_version": "1.2.0",
      "_model_name": "LayoutModel",
      "_view_count": null,
      "_view_module": "@jupyter-widgets/base",
      "_view_module_version": "1.2.0",
      "_view_name": "LayoutView",
      "align_content": null,
      "align_items": null,
      "align_self": null,
      "border": null,
      "bottom": null,
      "display": null,
      "flex": null,
      "flex_flow": null,
      "grid_area": null,
      "grid_auto_columns": null,
      "grid_auto_flow": null,
      "grid_auto_rows": null,
      "grid_column": null,
      "grid_gap": null,
      "grid_row": null,
      "grid_template_areas": null,
      "grid_template_columns": null,
      "grid_template_rows": null,
      "height": null,
      "justify_content": null,
      "justify_items": null,
      "left": null,
      "margin": null,
      "max_height": null,
      "max_width": null,
      "min_height": null,
      "min_width": null,
      "object_fit": null,
      "object_position": null,
      "order": null,
      "overflow": null,
      "overflow_x": null,
      "overflow_y": null,
      "padding": null,
      "right": null,
      "top": null,
      "visibility": null,
      "width": null
     }
    },
    "1744cd188d08474884a66b6abc6bdba8": {
     "model_module": "@jupyter-widgets/controls",
     "model_module_version": "1.5.0",
     "model_name": "FloatProgressModel",
     "state": {
      "_dom_classes": [],
      "_model_module": "@jupyter-widgets/controls",
      "_model_module_version": "1.5.0",
      "_model_name": "FloatProgressModel",
      "_view_count": null,
      "_view_module": "@jupyter-widgets/controls",
      "_view_module_version": "1.5.0",
      "_view_name": "ProgressView",
      "bar_style": "success",
      "description": "",
      "description_tooltip": null,
      "layout": "IPY_MODEL_aaf53f3e949d40cabae0c0daf2aba48b",
      "max": 1,
      "min": 0,
      "orientation": "horizontal",
      "style": "IPY_MODEL_91dd08b16fc847b4952ce291dbf40005",
      "value": 1
     }
    },
    "17f9f24135664f2185908a9a686fe7b8": {
     "model_module": "@jupyter-widgets/controls",
     "model_module_version": "1.5.0",
     "model_name": "DescriptionStyleModel",
     "state": {
      "_model_module": "@jupyter-widgets/controls",
      "_model_module_version": "1.5.0",
      "_model_name": "DescriptionStyleModel",
      "_view_count": null,
      "_view_module": "@jupyter-widgets/base",
      "_view_module_version": "1.2.0",
      "_view_name": "StyleView",
      "description_width": ""
     }
    },
    "17fb0f28a2a14c9b91a37a09f21b6e3c": {
     "model_module": "@jupyter-widgets/controls",
     "model_module_version": "1.5.0",
     "model_name": "DescriptionStyleModel",
     "state": {
      "_model_module": "@jupyter-widgets/controls",
      "_model_module_version": "1.5.0",
      "_model_name": "DescriptionStyleModel",
      "_view_count": null,
      "_view_module": "@jupyter-widgets/base",
      "_view_module_version": "1.2.0",
      "_view_name": "StyleView",
      "description_width": ""
     }
    },
    "18d184687008423c94560b773dcf41f9": {
     "model_module": "@jupyter-widgets/controls",
     "model_module_version": "1.5.0",
     "model_name": "DescriptionStyleModel",
     "state": {
      "_model_module": "@jupyter-widgets/controls",
      "_model_module_version": "1.5.0",
      "_model_name": "DescriptionStyleModel",
      "_view_count": null,
      "_view_module": "@jupyter-widgets/base",
      "_view_module_version": "1.2.0",
      "_view_name": "StyleView",
      "description_width": ""
     }
    },
    "1a6934c3c9614c45a6ab239dcf90bc6a": {
     "model_module": "@jupyter-widgets/controls",
     "model_module_version": "1.5.0",
     "model_name": "DescriptionStyleModel",
     "state": {
      "_model_module": "@jupyter-widgets/controls",
      "_model_module_version": "1.5.0",
      "_model_name": "DescriptionStyleModel",
      "_view_count": null,
      "_view_module": "@jupyter-widgets/base",
      "_view_module_version": "1.2.0",
      "_view_name": "StyleView",
      "description_width": ""
     }
    },
    "1a72677b51f745489ce1e6c7083b3c2a": {
     "model_module": "@jupyter-widgets/controls",
     "model_module_version": "1.5.0",
     "model_name": "DescriptionStyleModel",
     "state": {
      "_model_module": "@jupyter-widgets/controls",
      "_model_module_version": "1.5.0",
      "_model_name": "DescriptionStyleModel",
      "_view_count": null,
      "_view_module": "@jupyter-widgets/base",
      "_view_module_version": "1.2.0",
      "_view_name": "StyleView",
      "description_width": ""
     }
    },
    "1bcb447d7e7c4325bb5e590a9ad2396a": {
     "model_module": "@jupyter-widgets/controls",
     "model_module_version": "1.5.0",
     "model_name": "ProgressStyleModel",
     "state": {
      "_model_module": "@jupyter-widgets/controls",
      "_model_module_version": "1.5.0",
      "_model_name": "ProgressStyleModel",
      "_view_count": null,
      "_view_module": "@jupyter-widgets/base",
      "_view_module_version": "1.2.0",
      "_view_name": "StyleView",
      "bar_color": null,
      "description_width": ""
     }
    },
    "1cd3ac215fd04246af43ad48f3a02633": {
     "model_module": "@jupyter-widgets/base",
     "model_module_version": "1.2.0",
     "model_name": "LayoutModel",
     "state": {
      "_model_module": "@jupyter-widgets/base",
      "_model_module_version": "1.2.0",
      "_model_name": "LayoutModel",
      "_view_count": null,
      "_view_module": "@jupyter-widgets/base",
      "_view_module_version": "1.2.0",
      "_view_name": "LayoutView",
      "align_content": null,
      "align_items": null,
      "align_self": null,
      "border": null,
      "bottom": null,
      "display": null,
      "flex": null,
      "flex_flow": null,
      "grid_area": null,
      "grid_auto_columns": null,
      "grid_auto_flow": null,
      "grid_auto_rows": null,
      "grid_column": null,
      "grid_gap": null,
      "grid_row": null,
      "grid_template_areas": null,
      "grid_template_columns": null,
      "grid_template_rows": null,
      "height": null,
      "justify_content": null,
      "justify_items": null,
      "left": null,
      "margin": null,
      "max_height": null,
      "max_width": null,
      "min_height": null,
      "min_width": null,
      "object_fit": null,
      "object_position": null,
      "order": null,
      "overflow": null,
      "overflow_x": null,
      "overflow_y": null,
      "padding": null,
      "right": null,
      "top": null,
      "visibility": null,
      "width": null
     }
    },
    "1cf85a231fab45fe8a916c95513992e4": {
     "model_module": "@jupyter-widgets/base",
     "model_module_version": "1.2.0",
     "model_name": "LayoutModel",
     "state": {
      "_model_module": "@jupyter-widgets/base",
      "_model_module_version": "1.2.0",
      "_model_name": "LayoutModel",
      "_view_count": null,
      "_view_module": "@jupyter-widgets/base",
      "_view_module_version": "1.2.0",
      "_view_name": "LayoutView",
      "align_content": null,
      "align_items": null,
      "align_self": null,
      "border": null,
      "bottom": null,
      "display": null,
      "flex": null,
      "flex_flow": null,
      "grid_area": null,
      "grid_auto_columns": null,
      "grid_auto_flow": null,
      "grid_auto_rows": null,
      "grid_column": null,
      "grid_gap": null,
      "grid_row": null,
      "grid_template_areas": null,
      "grid_template_columns": null,
      "grid_template_rows": null,
      "height": null,
      "justify_content": null,
      "justify_items": null,
      "left": null,
      "margin": null,
      "max_height": null,
      "max_width": null,
      "min_height": null,
      "min_width": null,
      "object_fit": null,
      "object_position": null,
      "order": null,
      "overflow": null,
      "overflow_x": null,
      "overflow_y": null,
      "padding": null,
      "right": null,
      "top": null,
      "visibility": null,
      "width": null
     }
    },
    "1d110c4fecb74297b1d648948a410fcd": {
     "model_module": "@jupyter-widgets/controls",
     "model_module_version": "1.5.0",
     "model_name": "DescriptionStyleModel",
     "state": {
      "_model_module": "@jupyter-widgets/controls",
      "_model_module_version": "1.5.0",
      "_model_name": "DescriptionStyleModel",
      "_view_count": null,
      "_view_module": "@jupyter-widgets/base",
      "_view_module_version": "1.2.0",
      "_view_name": "StyleView",
      "description_width": ""
     }
    },
    "1e3440f0270448baaa0b19928392e7a6": {
     "model_module": "@jupyter-widgets/base",
     "model_module_version": "1.2.0",
     "model_name": "LayoutModel",
     "state": {
      "_model_module": "@jupyter-widgets/base",
      "_model_module_version": "1.2.0",
      "_model_name": "LayoutModel",
      "_view_count": null,
      "_view_module": "@jupyter-widgets/base",
      "_view_module_version": "1.2.0",
      "_view_name": "LayoutView",
      "align_content": null,
      "align_items": null,
      "align_self": null,
      "border": null,
      "bottom": null,
      "display": null,
      "flex": null,
      "flex_flow": null,
      "grid_area": null,
      "grid_auto_columns": null,
      "grid_auto_flow": null,
      "grid_auto_rows": null,
      "grid_column": null,
      "grid_gap": null,
      "grid_row": null,
      "grid_template_areas": null,
      "grid_template_columns": null,
      "grid_template_rows": null,
      "height": null,
      "justify_content": null,
      "justify_items": null,
      "left": null,
      "margin": null,
      "max_height": null,
      "max_width": null,
      "min_height": null,
      "min_width": null,
      "object_fit": null,
      "object_position": null,
      "order": null,
      "overflow": null,
      "overflow_x": null,
      "overflow_y": null,
      "padding": null,
      "right": null,
      "top": null,
      "visibility": null,
      "width": null
     }
    },
    "1e5982c69228437689fee07d4b252fab": {
     "model_module": "@jupyter-widgets/controls",
     "model_module_version": "1.5.0",
     "model_name": "HBoxModel",
     "state": {
      "_dom_classes": [],
      "_model_module": "@jupyter-widgets/controls",
      "_model_module_version": "1.5.0",
      "_model_name": "HBoxModel",
      "_view_count": null,
      "_view_module": "@jupyter-widgets/controls",
      "_view_module_version": "1.5.0",
      "_view_name": "HBoxView",
      "box_style": "",
      "children": [
       "IPY_MODEL_fd480f04a0354a7ab1ac9fd4d531ccc1",
       "IPY_MODEL_805b82526c7c4cb48a1c3dc795b7153f",
       "IPY_MODEL_fa05df95f5b540859234430c7a9f8a92"
      ],
      "layout": "IPY_MODEL_53c46000a715472c813fe4138446826f"
     }
    },
    "1fc592d0c87e440c9d30ff7b985b96f8": {
     "model_module": "@jupyter-widgets/controls",
     "model_module_version": "1.5.0",
     "model_name": "ProgressStyleModel",
     "state": {
      "_model_module": "@jupyter-widgets/controls",
      "_model_module_version": "1.5.0",
      "_model_name": "ProgressStyleModel",
      "_view_count": null,
      "_view_module": "@jupyter-widgets/base",
      "_view_module_version": "1.2.0",
      "_view_name": "StyleView",
      "bar_color": null,
      "description_width": ""
     }
    },
    "1fe2af3e027142309946a9cc019e5c13": {
     "model_module": "@jupyter-widgets/controls",
     "model_module_version": "1.5.0",
     "model_name": "ProgressStyleModel",
     "state": {
      "_model_module": "@jupyter-widgets/controls",
      "_model_module_version": "1.5.0",
      "_model_name": "ProgressStyleModel",
      "_view_count": null,
      "_view_module": "@jupyter-widgets/base",
      "_view_module_version": "1.2.0",
      "_view_name": "StyleView",
      "bar_color": null,
      "description_width": ""
     }
    },
    "20b0a8dbb55b4458ad16371a5f9617ec": {
     "model_module": "@jupyter-widgets/controls",
     "model_module_version": "1.5.0",
     "model_name": "DescriptionStyleModel",
     "state": {
      "_model_module": "@jupyter-widgets/controls",
      "_model_module_version": "1.5.0",
      "_model_name": "DescriptionStyleModel",
      "_view_count": null,
      "_view_module": "@jupyter-widgets/base",
      "_view_module_version": "1.2.0",
      "_view_name": "StyleView",
      "description_width": ""
     }
    },
    "21b154e8d2314b97bac7bf510ce7ee43": {
     "model_module": "@jupyter-widgets/controls",
     "model_module_version": "1.5.0",
     "model_name": "HBoxModel",
     "state": {
      "_dom_classes": [],
      "_model_module": "@jupyter-widgets/controls",
      "_model_module_version": "1.5.0",
      "_model_name": "HBoxModel",
      "_view_count": null,
      "_view_module": "@jupyter-widgets/controls",
      "_view_module_version": "1.5.0",
      "_view_name": "HBoxView",
      "box_style": "",
      "children": [
       "IPY_MODEL_05cc15488dee4bfa8294781adc2775e4",
       "IPY_MODEL_3a7c2cd64e754fbe8c8f910f9d76b42d",
       "IPY_MODEL_a0c2d63887744302b6179f36bb583879"
      ],
      "layout": "IPY_MODEL_277da64d48814482b3f451b8c8706461"
     }
    },
    "225b7a1272ad497680eead78e2fb21ba": {
     "model_module": "@jupyter-widgets/controls",
     "model_module_version": "1.5.0",
     "model_name": "HTMLModel",
     "state": {
      "_dom_classes": [],
      "_model_module": "@jupyter-widgets/controls",
      "_model_module_version": "1.5.0",
      "_model_name": "HTMLModel",
      "_view_count": null,
      "_view_module": "@jupyter-widgets/controls",
      "_view_module_version": "1.5.0",
      "_view_name": "HTMLView",
      "description": "",
      "description_tooltip": null,
      "layout": "IPY_MODEL_0591bc04e579467c9ee57bdef9210df5",
      "placeholder": "​",
      "style": "IPY_MODEL_4c76509902e24df2aa811d754d607817",
      "value": " 3852/0 [00:00&lt;00:00, 13691.14 examples/s]"
     }
    },
    "23cf666f7f614867a350e9ef44020040": {
     "model_module": "@jupyter-widgets/base",
     "model_module_version": "1.2.0",
     "model_name": "LayoutModel",
     "state": {
      "_model_module": "@jupyter-widgets/base",
      "_model_module_version": "1.2.0",
      "_model_name": "LayoutModel",
      "_view_count": null,
      "_view_module": "@jupyter-widgets/base",
      "_view_module_version": "1.2.0",
      "_view_name": "LayoutView",
      "align_content": null,
      "align_items": null,
      "align_self": null,
      "border": null,
      "bottom": null,
      "display": null,
      "flex": null,
      "flex_flow": null,
      "grid_area": null,
      "grid_auto_columns": null,
      "grid_auto_flow": null,
      "grid_auto_rows": null,
      "grid_column": null,
      "grid_gap": null,
      "grid_row": null,
      "grid_template_areas": null,
      "grid_template_columns": null,
      "grid_template_rows": null,
      "height": null,
      "justify_content": null,
      "justify_items": null,
      "left": null,
      "margin": null,
      "max_height": null,
      "max_width": null,
      "min_height": null,
      "min_width": null,
      "object_fit": null,
      "object_position": null,
      "order": null,
      "overflow": null,
      "overflow_x": null,
      "overflow_y": null,
      "padding": null,
      "right": null,
      "top": null,
      "visibility": null,
      "width": null
     }
    },
    "241a564f58564f3690a3955def8e997f": {
     "model_module": "@jupyter-widgets/base",
     "model_module_version": "1.2.0",
     "model_name": "LayoutModel",
     "state": {
      "_model_module": "@jupyter-widgets/base",
      "_model_module_version": "1.2.0",
      "_model_name": "LayoutModel",
      "_view_count": null,
      "_view_module": "@jupyter-widgets/base",
      "_view_module_version": "1.2.0",
      "_view_name": "LayoutView",
      "align_content": null,
      "align_items": null,
      "align_self": null,
      "border": null,
      "bottom": null,
      "display": null,
      "flex": null,
      "flex_flow": null,
      "grid_area": null,
      "grid_auto_columns": null,
      "grid_auto_flow": null,
      "grid_auto_rows": null,
      "grid_column": null,
      "grid_gap": null,
      "grid_row": null,
      "grid_template_areas": null,
      "grid_template_columns": null,
      "grid_template_rows": null,
      "height": null,
      "justify_content": null,
      "justify_items": null,
      "left": null,
      "margin": null,
      "max_height": null,
      "max_width": null,
      "min_height": null,
      "min_width": null,
      "object_fit": null,
      "object_position": null,
      "order": null,
      "overflow": null,
      "overflow_x": null,
      "overflow_y": null,
      "padding": null,
      "right": null,
      "top": null,
      "visibility": null,
      "width": null
     }
    },
    "24b4642b637b40acb9e5787c71989d1a": {
     "model_module": "@jupyter-widgets/controls",
     "model_module_version": "1.5.0",
     "model_name": "DescriptionStyleModel",
     "state": {
      "_model_module": "@jupyter-widgets/controls",
      "_model_module_version": "1.5.0",
      "_model_name": "DescriptionStyleModel",
      "_view_count": null,
      "_view_module": "@jupyter-widgets/base",
      "_view_module_version": "1.2.0",
      "_view_name": "StyleView",
      "description_width": ""
     }
    },
    "24d0f4c01b754ca08d8fd47efdd7401d": {
     "model_module": "@jupyter-widgets/controls",
     "model_module_version": "1.5.0",
     "model_name": "DescriptionStyleModel",
     "state": {
      "_model_module": "@jupyter-widgets/controls",
      "_model_module_version": "1.5.0",
      "_model_name": "DescriptionStyleModel",
      "_view_count": null,
      "_view_module": "@jupyter-widgets/base",
      "_view_module_version": "1.2.0",
      "_view_name": "StyleView",
      "description_width": ""
     }
    },
    "25a7341afc894965bc384be1379e07dd": {
     "model_module": "@jupyter-widgets/controls",
     "model_module_version": "1.5.0",
     "model_name": "ProgressStyleModel",
     "state": {
      "_model_module": "@jupyter-widgets/controls",
      "_model_module_version": "1.5.0",
      "_model_name": "ProgressStyleModel",
      "_view_count": null,
      "_view_module": "@jupyter-widgets/base",
      "_view_module_version": "1.2.0",
      "_view_name": "StyleView",
      "bar_color": null,
      "description_width": ""
     }
    },
    "2689aebe8b564cd7b1f174c8b2adcb3e": {
     "model_module": "@jupyter-widgets/controls",
     "model_module_version": "1.5.0",
     "model_name": "HTMLModel",
     "state": {
      "_dom_classes": [],
      "_model_module": "@jupyter-widgets/controls",
      "_model_module_version": "1.5.0",
      "_model_name": "HTMLModel",
      "_view_count": null,
      "_view_module": "@jupyter-widgets/controls",
      "_view_module_version": "1.5.0",
      "_view_name": "HTMLView",
      "description": "",
      "description_tooltip": null,
      "layout": "IPY_MODEL_d2e070514ba74de3ac0ed266d311a1a0",
      "placeholder": "​",
      "style": "IPY_MODEL_684d4d25c7654a24b7e50775fd8f5bc4",
      "value": " 268M/268M [00:01&lt;00:00, 257MB/s]"
     }
    },
    "26e6170d5cd348dfa3a5de35f2e85ec3": {
     "model_module": "@jupyter-widgets/base",
     "model_module_version": "1.2.0",
     "model_name": "LayoutModel",
     "state": {
      "_model_module": "@jupyter-widgets/base",
      "_model_module_version": "1.2.0",
      "_model_name": "LayoutModel",
      "_view_count": null,
      "_view_module": "@jupyter-widgets/base",
      "_view_module_version": "1.2.0",
      "_view_name": "LayoutView",
      "align_content": null,
      "align_items": null,
      "align_self": null,
      "border": null,
      "bottom": null,
      "display": null,
      "flex": null,
      "flex_flow": null,
      "grid_area": null,
      "grid_auto_columns": null,
      "grid_auto_flow": null,
      "grid_auto_rows": null,
      "grid_column": null,
      "grid_gap": null,
      "grid_row": null,
      "grid_template_areas": null,
      "grid_template_columns": null,
      "grid_template_rows": null,
      "height": null,
      "justify_content": null,
      "justify_items": null,
      "left": null,
      "margin": null,
      "max_height": null,
      "max_width": null,
      "min_height": null,
      "min_width": null,
      "object_fit": null,
      "object_position": null,
      "order": null,
      "overflow": null,
      "overflow_x": null,
      "overflow_y": null,
      "padding": null,
      "right": null,
      "top": null,
      "visibility": null,
      "width": null
     }
    },
    "277da64d48814482b3f451b8c8706461": {
     "model_module": "@jupyter-widgets/base",
     "model_module_version": "1.2.0",
     "model_name": "LayoutModel",
     "state": {
      "_model_module": "@jupyter-widgets/base",
      "_model_module_version": "1.2.0",
      "_model_name": "LayoutModel",
      "_view_count": null,
      "_view_module": "@jupyter-widgets/base",
      "_view_module_version": "1.2.0",
      "_view_name": "LayoutView",
      "align_content": null,
      "align_items": null,
      "align_self": null,
      "border": null,
      "bottom": null,
      "display": null,
      "flex": null,
      "flex_flow": null,
      "grid_area": null,
      "grid_auto_columns": null,
      "grid_auto_flow": null,
      "grid_auto_rows": null,
      "grid_column": null,
      "grid_gap": null,
      "grid_row": null,
      "grid_template_areas": null,
      "grid_template_columns": null,
      "grid_template_rows": null,
      "height": null,
      "justify_content": null,
      "justify_items": null,
      "left": null,
      "margin": null,
      "max_height": null,
      "max_width": null,
      "min_height": null,
      "min_width": null,
      "object_fit": null,
      "object_position": null,
      "order": null,
      "overflow": null,
      "overflow_x": null,
      "overflow_y": null,
      "padding": null,
      "right": null,
      "top": null,
      "visibility": null,
      "width": null
     }
    },
    "2851707e4a4040febfe91a3c11e91b82": {
     "model_module": "@jupyter-widgets/controls",
     "model_module_version": "1.5.0",
     "model_name": "DescriptionStyleModel",
     "state": {
      "_model_module": "@jupyter-widgets/controls",
      "_model_module_version": "1.5.0",
      "_model_name": "DescriptionStyleModel",
      "_view_count": null,
      "_view_module": "@jupyter-widgets/base",
      "_view_module_version": "1.2.0",
      "_view_name": "StyleView",
      "description_width": ""
     }
    },
    "28cf349108fb4666b27ae62b4a573b3a": {
     "model_module": "@jupyter-widgets/base",
     "model_module_version": "1.2.0",
     "model_name": "LayoutModel",
     "state": {
      "_model_module": "@jupyter-widgets/base",
      "_model_module_version": "1.2.0",
      "_model_name": "LayoutModel",
      "_view_count": null,
      "_view_module": "@jupyter-widgets/base",
      "_view_module_version": "1.2.0",
      "_view_name": "LayoutView",
      "align_content": null,
      "align_items": null,
      "align_self": null,
      "border": null,
      "bottom": null,
      "display": null,
      "flex": null,
      "flex_flow": null,
      "grid_area": null,
      "grid_auto_columns": null,
      "grid_auto_flow": null,
      "grid_auto_rows": null,
      "grid_column": null,
      "grid_gap": null,
      "grid_row": null,
      "grid_template_areas": null,
      "grid_template_columns": null,
      "grid_template_rows": null,
      "height": null,
      "justify_content": null,
      "justify_items": null,
      "left": null,
      "margin": null,
      "max_height": null,
      "max_width": null,
      "min_height": null,
      "min_width": null,
      "object_fit": null,
      "object_position": null,
      "order": null,
      "overflow": null,
      "overflow_x": null,
      "overflow_y": null,
      "padding": null,
      "right": null,
      "top": null,
      "visibility": null,
      "width": null
     }
    },
    "2973d5f945a74243a90d44c30dd99d6c": {
     "model_module": "@jupyter-widgets/base",
     "model_module_version": "1.2.0",
     "model_name": "LayoutModel",
     "state": {
      "_model_module": "@jupyter-widgets/base",
      "_model_module_version": "1.2.0",
      "_model_name": "LayoutModel",
      "_view_count": null,
      "_view_module": "@jupyter-widgets/base",
      "_view_module_version": "1.2.0",
      "_view_name": "LayoutView",
      "align_content": null,
      "align_items": null,
      "align_self": null,
      "border": null,
      "bottom": null,
      "display": null,
      "flex": null,
      "flex_flow": null,
      "grid_area": null,
      "grid_auto_columns": null,
      "grid_auto_flow": null,
      "grid_auto_rows": null,
      "grid_column": null,
      "grid_gap": null,
      "grid_row": null,
      "grid_template_areas": null,
      "grid_template_columns": null,
      "grid_template_rows": null,
      "height": null,
      "justify_content": null,
      "justify_items": null,
      "left": null,
      "margin": null,
      "max_height": null,
      "max_width": null,
      "min_height": null,
      "min_width": null,
      "object_fit": null,
      "object_position": null,
      "order": null,
      "overflow": null,
      "overflow_x": null,
      "overflow_y": null,
      "padding": null,
      "right": null,
      "top": null,
      "visibility": null,
      "width": null
     }
    },
    "29a95b9254be492ba40595dbd4d56c2b": {
     "model_module": "@jupyter-widgets/controls",
     "model_module_version": "1.5.0",
     "model_name": "HTMLModel",
     "state": {
      "_dom_classes": [],
      "_model_module": "@jupyter-widgets/controls",
      "_model_module_version": "1.5.0",
      "_model_name": "HTMLModel",
      "_view_count": null,
      "_view_module": "@jupyter-widgets/controls",
      "_view_module_version": "1.5.0",
      "_view_name": "HTMLView",
      "description": "",
      "description_tooltip": null,
      "layout": "IPY_MODEL_099d406c76b44870be13ee5b3134a7de",
      "placeholder": "​",
      "style": "IPY_MODEL_326894b89a9e471d8b3d13eb3c44ebdc",
      "value": "Downloading (…)okenizer_config.json: 100%"
     }
    },
    "2a886f21a01e457b9ea2c8748a3a4f61": {
     "model_module": "@jupyter-widgets/controls",
     "model_module_version": "1.5.0",
     "model_name": "HBoxModel",
     "state": {
      "_dom_classes": [],
      "_model_module": "@jupyter-widgets/controls",
      "_model_module_version": "1.5.0",
      "_model_name": "HBoxModel",
      "_view_count": null,
      "_view_module": "@jupyter-widgets/controls",
      "_view_module_version": "1.5.0",
      "_view_name": "HBoxView",
      "box_style": "",
      "children": [
       "IPY_MODEL_5110cc7789b24cff84c4e98c56eb1a56",
       "IPY_MODEL_facfff95c79f44c28ee7fb7743ba15b2",
       "IPY_MODEL_cd6a92e001f7443b912e8bc87ac3721d"
      ],
      "layout": "IPY_MODEL_63088a4b7fcb497d8db10b9ba6530e20"
     }
    },
    "2b6f2219e25b4f70a21aab7dc67f210d": {
     "model_module": "@jupyter-widgets/base",
     "model_module_version": "1.2.0",
     "model_name": "LayoutModel",
     "state": {
      "_model_module": "@jupyter-widgets/base",
      "_model_module_version": "1.2.0",
      "_model_name": "LayoutModel",
      "_view_count": null,
      "_view_module": "@jupyter-widgets/base",
      "_view_module_version": "1.2.0",
      "_view_name": "LayoutView",
      "align_content": null,
      "align_items": null,
      "align_self": null,
      "border": null,
      "bottom": null,
      "display": null,
      "flex": null,
      "flex_flow": null,
      "grid_area": null,
      "grid_auto_columns": null,
      "grid_auto_flow": null,
      "grid_auto_rows": null,
      "grid_column": null,
      "grid_gap": null,
      "grid_row": null,
      "grid_template_areas": null,
      "grid_template_columns": null,
      "grid_template_rows": null,
      "height": null,
      "justify_content": null,
      "justify_items": null,
      "left": null,
      "margin": null,
      "max_height": null,
      "max_width": null,
      "min_height": null,
      "min_width": null,
      "object_fit": null,
      "object_position": null,
      "order": null,
      "overflow": null,
      "overflow_x": null,
      "overflow_y": null,
      "padding": null,
      "right": null,
      "top": null,
      "visibility": null,
      "width": null
     }
    },
    "2bf8da4a7a5341999ef9f95ac5c176c9": {
     "model_module": "@jupyter-widgets/controls",
     "model_module_version": "1.5.0",
     "model_name": "HBoxModel",
     "state": {
      "_dom_classes": [],
      "_model_module": "@jupyter-widgets/controls",
      "_model_module_version": "1.5.0",
      "_model_name": "HBoxModel",
      "_view_count": null,
      "_view_module": "@jupyter-widgets/controls",
      "_view_module_version": "1.5.0",
      "_view_name": "HBoxView",
      "box_style": "",
      "children": [
       "IPY_MODEL_5e35c165cbb14ba0a5f3098b362a6ef6",
       "IPY_MODEL_79947dd0ddf34e5192a2678b52533a97",
       "IPY_MODEL_078f35a0fcb8401e9e3b39366ccdfa22"
      ],
      "layout": "IPY_MODEL_671a21b847754ec8b027956e53c5f337"
     }
    },
    "2d0d2338b6c740d9ac55d6514637917c": {
     "model_module": "@jupyter-widgets/base",
     "model_module_version": "1.2.0",
     "model_name": "LayoutModel",
     "state": {
      "_model_module": "@jupyter-widgets/base",
      "_model_module_version": "1.2.0",
      "_model_name": "LayoutModel",
      "_view_count": null,
      "_view_module": "@jupyter-widgets/base",
      "_view_module_version": "1.2.0",
      "_view_name": "LayoutView",
      "align_content": null,
      "align_items": null,
      "align_self": null,
      "border": null,
      "bottom": null,
      "display": null,
      "flex": null,
      "flex_flow": null,
      "grid_area": null,
      "grid_auto_columns": null,
      "grid_auto_flow": null,
      "grid_auto_rows": null,
      "grid_column": null,
      "grid_gap": null,
      "grid_row": null,
      "grid_template_areas": null,
      "grid_template_columns": null,
      "grid_template_rows": null,
      "height": null,
      "justify_content": null,
      "justify_items": null,
      "left": null,
      "margin": null,
      "max_height": null,
      "max_width": null,
      "min_height": null,
      "min_width": null,
      "object_fit": null,
      "object_position": null,
      "order": null,
      "overflow": null,
      "overflow_x": null,
      "overflow_y": null,
      "padding": null,
      "right": null,
      "top": null,
      "visibility": null,
      "width": null
     }
    },
    "2db3d91800bd40078fd85d53ea88a042": {
     "model_module": "@jupyter-widgets/controls",
     "model_module_version": "1.5.0",
     "model_name": "HTMLModel",
     "state": {
      "_dom_classes": [],
      "_model_module": "@jupyter-widgets/controls",
      "_model_module_version": "1.5.0",
      "_model_name": "HTMLModel",
      "_view_count": null,
      "_view_module": "@jupyter-widgets/controls",
      "_view_module_version": "1.5.0",
      "_view_name": "HTMLView",
      "description": "",
      "description_tooltip": null,
      "layout": "IPY_MODEL_2f7c6c45c3354158a526792d8c8324f5",
      "placeholder": "​",
      "style": "IPY_MODEL_aa2e85f8edcc44e3a83828950c0ee1ea",
      "value": " 771/771 [00:00&lt;00:00, 7492.05 examples/s]"
     }
    },
    "2df66cf412d4416aa4d4120ef82f283d": {
     "model_module": "@jupyter-widgets/controls",
     "model_module_version": "1.5.0",
     "model_name": "HTMLModel",
     "state": {
      "_dom_classes": [],
      "_model_module": "@jupyter-widgets/controls",
      "_model_module_version": "1.5.0",
      "_model_name": "HTMLModel",
      "_view_count": null,
      "_view_module": "@jupyter-widgets/controls",
      "_view_module_version": "1.5.0",
      "_view_name": "HTMLView",
      "description": "",
      "description_tooltip": null,
      "layout": "IPY_MODEL_3dcd50ad000b4860bc1fd8f4566d50e4",
      "placeholder": "​",
      "style": "IPY_MODEL_be84a6c67cec43ad81a2defc92698ffd",
      "value": "Downloading model.safetensors: 100%"
     }
    },
    "2e7a9176007c49b8b6b623b3679fcac0": {
     "model_module": "@jupyter-widgets/controls",
     "model_module_version": "1.5.0",
     "model_name": "DescriptionStyleModel",
     "state": {
      "_model_module": "@jupyter-widgets/controls",
      "_model_module_version": "1.5.0",
      "_model_name": "DescriptionStyleModel",
      "_view_count": null,
      "_view_module": "@jupyter-widgets/base",
      "_view_module_version": "1.2.0",
      "_view_name": "StyleView",
      "description_width": ""
     }
    },
    "2f7c6c45c3354158a526792d8c8324f5": {
     "model_module": "@jupyter-widgets/base",
     "model_module_version": "1.2.0",
     "model_name": "LayoutModel",
     "state": {
      "_model_module": "@jupyter-widgets/base",
      "_model_module_version": "1.2.0",
      "_model_name": "LayoutModel",
      "_view_count": null,
      "_view_module": "@jupyter-widgets/base",
      "_view_module_version": "1.2.0",
      "_view_name": "LayoutView",
      "align_content": null,
      "align_items": null,
      "align_self": null,
      "border": null,
      "bottom": null,
      "display": null,
      "flex": null,
      "flex_flow": null,
      "grid_area": null,
      "grid_auto_columns": null,
      "grid_auto_flow": null,
      "grid_auto_rows": null,
      "grid_column": null,
      "grid_gap": null,
      "grid_row": null,
      "grid_template_areas": null,
      "grid_template_columns": null,
      "grid_template_rows": null,
      "height": null,
      "justify_content": null,
      "justify_items": null,
      "left": null,
      "margin": null,
      "max_height": null,
      "max_width": null,
      "min_height": null,
      "min_width": null,
      "object_fit": null,
      "object_position": null,
      "order": null,
      "overflow": null,
      "overflow_x": null,
      "overflow_y": null,
      "padding": null,
      "right": null,
      "top": null,
      "visibility": null,
      "width": null
     }
    },
    "2f84f62aa77b4738b3eff4bacfe28179": {
     "model_module": "@jupyter-widgets/controls",
     "model_module_version": "1.5.0",
     "model_name": "FloatProgressModel",
     "state": {
      "_dom_classes": [],
      "_model_module": "@jupyter-widgets/controls",
      "_model_module_version": "1.5.0",
      "_model_name": "FloatProgressModel",
      "_view_count": null,
      "_view_module": "@jupyter-widgets/controls",
      "_view_module_version": "1.5.0",
      "_view_name": "ProgressView",
      "bar_style": "success",
      "description": "",
      "description_tooltip": null,
      "layout": "IPY_MODEL_bebba38c2ec54dcfaaf2097d3dd3f4c3",
      "max": 665,
      "min": 0,
      "orientation": "horizontal",
      "style": "IPY_MODEL_dde0d925a04c40919533edae0621779d",
      "value": 665
     }
    },
    "30653f3a5d36426e970064e40ede2418": {
     "model_module": "@jupyter-widgets/controls",
     "model_module_version": "1.5.0",
     "model_name": "HTMLModel",
     "state": {
      "_dom_classes": [],
      "_model_module": "@jupyter-widgets/controls",
      "_model_module_version": "1.5.0",
      "_model_name": "HTMLModel",
      "_view_count": null,
      "_view_module": "@jupyter-widgets/controls",
      "_view_module_version": "1.5.0",
      "_view_name": "HTMLView",
      "description": "",
      "description_tooltip": null,
      "layout": "IPY_MODEL_09c64d67093745c1aab40091ab7e80d6",
      "placeholder": "​",
      "style": "IPY_MODEL_511c36e2cdcd4eaeb6db3dd6af3e14c8",
      "value": "Downloading (…)solve/main/vocab.txt: 100%"
     }
    },
    "314323441385434a98cecb6fd4aaf2e3": {
     "model_module": "@jupyter-widgets/controls",
     "model_module_version": "1.5.0",
     "model_name": "ProgressStyleModel",
     "state": {
      "_model_module": "@jupyter-widgets/controls",
      "_model_module_version": "1.5.0",
      "_model_name": "ProgressStyleModel",
      "_view_count": null,
      "_view_module": "@jupyter-widgets/base",
      "_view_module_version": "1.2.0",
      "_view_name": "StyleView",
      "bar_color": null,
      "description_width": ""
     }
    },
    "3151a4246102474da9da1912025ff995": {
     "model_module": "@jupyter-widgets/base",
     "model_module_version": "1.2.0",
     "model_name": "LayoutModel",
     "state": {
      "_model_module": "@jupyter-widgets/base",
      "_model_module_version": "1.2.0",
      "_model_name": "LayoutModel",
      "_view_count": null,
      "_view_module": "@jupyter-widgets/base",
      "_view_module_version": "1.2.0",
      "_view_name": "LayoutView",
      "align_content": null,
      "align_items": null,
      "align_self": null,
      "border": null,
      "bottom": null,
      "display": null,
      "flex": null,
      "flex_flow": null,
      "grid_area": null,
      "grid_auto_columns": null,
      "grid_auto_flow": null,
      "grid_auto_rows": null,
      "grid_column": null,
      "grid_gap": null,
      "grid_row": null,
      "grid_template_areas": null,
      "grid_template_columns": null,
      "grid_template_rows": null,
      "height": null,
      "justify_content": null,
      "justify_items": null,
      "left": null,
      "margin": null,
      "max_height": null,
      "max_width": null,
      "min_height": null,
      "min_width": null,
      "object_fit": null,
      "object_position": null,
      "order": null,
      "overflow": null,
      "overflow_x": null,
      "overflow_y": null,
      "padding": null,
      "right": null,
      "top": null,
      "visibility": null,
      "width": null
     }
    },
    "321c38c7fb5a48cabde40783f72fb30e": {
     "model_module": "@jupyter-widgets/base",
     "model_module_version": "1.2.0",
     "model_name": "LayoutModel",
     "state": {
      "_model_module": "@jupyter-widgets/base",
      "_model_module_version": "1.2.0",
      "_model_name": "LayoutModel",
      "_view_count": null,
      "_view_module": "@jupyter-widgets/base",
      "_view_module_version": "1.2.0",
      "_view_name": "LayoutView",
      "align_content": null,
      "align_items": null,
      "align_self": null,
      "border": null,
      "bottom": null,
      "display": null,
      "flex": null,
      "flex_flow": null,
      "grid_area": null,
      "grid_auto_columns": null,
      "grid_auto_flow": null,
      "grid_auto_rows": null,
      "grid_column": null,
      "grid_gap": null,
      "grid_row": null,
      "grid_template_areas": null,
      "grid_template_columns": null,
      "grid_template_rows": null,
      "height": null,
      "justify_content": null,
      "justify_items": null,
      "left": null,
      "margin": null,
      "max_height": null,
      "max_width": null,
      "min_height": null,
      "min_width": null,
      "object_fit": null,
      "object_position": null,
      "order": null,
      "overflow": null,
      "overflow_x": null,
      "overflow_y": null,
      "padding": null,
      "right": null,
      "top": null,
      "visibility": null,
      "width": null
     }
    },
    "326894b89a9e471d8b3d13eb3c44ebdc": {
     "model_module": "@jupyter-widgets/controls",
     "model_module_version": "1.5.0",
     "model_name": "DescriptionStyleModel",
     "state": {
      "_model_module": "@jupyter-widgets/controls",
      "_model_module_version": "1.5.0",
      "_model_name": "DescriptionStyleModel",
      "_view_count": null,
      "_view_module": "@jupyter-widgets/base",
      "_view_module_version": "1.2.0",
      "_view_name": "StyleView",
      "description_width": ""
     }
    },
    "3372a0e5e8514968a5bc819235e8616f": {
     "model_module": "@jupyter-widgets/controls",
     "model_module_version": "1.5.0",
     "model_name": "DescriptionStyleModel",
     "state": {
      "_model_module": "@jupyter-widgets/controls",
      "_model_module_version": "1.5.0",
      "_model_name": "DescriptionStyleModel",
      "_view_count": null,
      "_view_module": "@jupyter-widgets/base",
      "_view_module_version": "1.2.0",
      "_view_name": "StyleView",
      "description_width": ""
     }
    },
    "344401e1b0234ea394d535dfc2f02da4": {
     "model_module": "@jupyter-widgets/base",
     "model_module_version": "1.2.0",
     "model_name": "LayoutModel",
     "state": {
      "_model_module": "@jupyter-widgets/base",
      "_model_module_version": "1.2.0",
      "_model_name": "LayoutModel",
      "_view_count": null,
      "_view_module": "@jupyter-widgets/base",
      "_view_module_version": "1.2.0",
      "_view_name": "LayoutView",
      "align_content": null,
      "align_items": null,
      "align_self": null,
      "border": null,
      "bottom": null,
      "display": null,
      "flex": null,
      "flex_flow": null,
      "grid_area": null,
      "grid_auto_columns": null,
      "grid_auto_flow": null,
      "grid_auto_rows": null,
      "grid_column": null,
      "grid_gap": null,
      "grid_row": null,
      "grid_template_areas": null,
      "grid_template_columns": null,
      "grid_template_rows": null,
      "height": null,
      "justify_content": null,
      "justify_items": null,
      "left": null,
      "margin": null,
      "max_height": null,
      "max_width": null,
      "min_height": null,
      "min_width": null,
      "object_fit": null,
      "object_position": null,
      "order": null,
      "overflow": null,
      "overflow_x": null,
      "overflow_y": null,
      "padding": null,
      "right": null,
      "top": null,
      "visibility": null,
      "width": null
     }
    },
    "34d97e1f285448d8a67cdd3d3a52ab3c": {
     "model_module": "@jupyter-widgets/base",
     "model_module_version": "1.2.0",
     "model_name": "LayoutModel",
     "state": {
      "_model_module": "@jupyter-widgets/base",
      "_model_module_version": "1.2.0",
      "_model_name": "LayoutModel",
      "_view_count": null,
      "_view_module": "@jupyter-widgets/base",
      "_view_module_version": "1.2.0",
      "_view_name": "LayoutView",
      "align_content": null,
      "align_items": null,
      "align_self": null,
      "border": null,
      "bottom": null,
      "display": null,
      "flex": null,
      "flex_flow": null,
      "grid_area": null,
      "grid_auto_columns": null,
      "grid_auto_flow": null,
      "grid_auto_rows": null,
      "grid_column": null,
      "grid_gap": null,
      "grid_row": null,
      "grid_template_areas": null,
      "grid_template_columns": null,
      "grid_template_rows": null,
      "height": null,
      "justify_content": null,
      "justify_items": null,
      "left": null,
      "margin": null,
      "max_height": null,
      "max_width": null,
      "min_height": null,
      "min_width": null,
      "object_fit": null,
      "object_position": null,
      "order": null,
      "overflow": null,
      "overflow_x": null,
      "overflow_y": null,
      "padding": null,
      "right": null,
      "top": null,
      "visibility": null,
      "width": null
     }
    },
    "36f064f978d34560ad0536674d9115cd": {
     "model_module": "@jupyter-widgets/base",
     "model_module_version": "1.2.0",
     "model_name": "LayoutModel",
     "state": {
      "_model_module": "@jupyter-widgets/base",
      "_model_module_version": "1.2.0",
      "_model_name": "LayoutModel",
      "_view_count": null,
      "_view_module": "@jupyter-widgets/base",
      "_view_module_version": "1.2.0",
      "_view_name": "LayoutView",
      "align_content": null,
      "align_items": null,
      "align_self": null,
      "border": null,
      "bottom": null,
      "display": null,
      "flex": null,
      "flex_flow": null,
      "grid_area": null,
      "grid_auto_columns": null,
      "grid_auto_flow": null,
      "grid_auto_rows": null,
      "grid_column": null,
      "grid_gap": null,
      "grid_row": null,
      "grid_template_areas": null,
      "grid_template_columns": null,
      "grid_template_rows": null,
      "height": null,
      "justify_content": null,
      "justify_items": null,
      "left": null,
      "margin": null,
      "max_height": null,
      "max_width": null,
      "min_height": null,
      "min_width": null,
      "object_fit": null,
      "object_position": null,
      "order": null,
      "overflow": null,
      "overflow_x": null,
      "overflow_y": null,
      "padding": null,
      "right": null,
      "top": null,
      "visibility": null,
      "width": null
     }
    },
    "3721e8f28e1b4547aaedcd760bdfd69a": {
     "model_module": "@jupyter-widgets/base",
     "model_module_version": "1.2.0",
     "model_name": "LayoutModel",
     "state": {
      "_model_module": "@jupyter-widgets/base",
      "_model_module_version": "1.2.0",
      "_model_name": "LayoutModel",
      "_view_count": null,
      "_view_module": "@jupyter-widgets/base",
      "_view_module_version": "1.2.0",
      "_view_name": "LayoutView",
      "align_content": null,
      "align_items": null,
      "align_self": null,
      "border": null,
      "bottom": null,
      "display": null,
      "flex": null,
      "flex_flow": null,
      "grid_area": null,
      "grid_auto_columns": null,
      "grid_auto_flow": null,
      "grid_auto_rows": null,
      "grid_column": null,
      "grid_gap": null,
      "grid_row": null,
      "grid_template_areas": null,
      "grid_template_columns": null,
      "grid_template_rows": null,
      "height": null,
      "justify_content": null,
      "justify_items": null,
      "left": null,
      "margin": null,
      "max_height": null,
      "max_width": null,
      "min_height": null,
      "min_width": null,
      "object_fit": null,
      "object_position": null,
      "order": null,
      "overflow": null,
      "overflow_x": null,
      "overflow_y": null,
      "padding": null,
      "right": null,
      "top": null,
      "visibility": null,
      "width": null
     }
    },
    "382a49f26eb1405d86daa145b4b5786b": {
     "model_module": "@jupyter-widgets/controls",
     "model_module_version": "1.5.0",
     "model_name": "FloatProgressModel",
     "state": {
      "_dom_classes": [],
      "_model_module": "@jupyter-widgets/controls",
      "_model_module_version": "1.5.0",
      "_model_name": "FloatProgressModel",
      "_view_count": null,
      "_view_module": "@jupyter-widgets/controls",
      "_view_module_version": "1.5.0",
      "_view_name": "ProgressView",
      "bar_style": "success",
      "description": "",
      "description_tooltip": null,
      "layout": "IPY_MODEL_ca2f0e916fd94c2788e86ef5aecffe1e",
      "max": 1289,
      "min": 0,
      "orientation": "horizontal",
      "style": "IPY_MODEL_c5bc9c3d584d4a4a83061814de4c37d4",
      "value": 1289
     }
    },
    "3991e93f6d5d4f8e8eee2363a34e224c": {
     "model_module": "@jupyter-widgets/base",
     "model_module_version": "1.2.0",
     "model_name": "LayoutModel",
     "state": {
      "_model_module": "@jupyter-widgets/base",
      "_model_module_version": "1.2.0",
      "_model_name": "LayoutModel",
      "_view_count": null,
      "_view_module": "@jupyter-widgets/base",
      "_view_module_version": "1.2.0",
      "_view_name": "LayoutView",
      "align_content": null,
      "align_items": null,
      "align_self": null,
      "border": null,
      "bottom": null,
      "display": null,
      "flex": null,
      "flex_flow": null,
      "grid_area": null,
      "grid_auto_columns": null,
      "grid_auto_flow": null,
      "grid_auto_rows": null,
      "grid_column": null,
      "grid_gap": null,
      "grid_row": null,
      "grid_template_areas": null,
      "grid_template_columns": null,
      "grid_template_rows": null,
      "height": null,
      "justify_content": null,
      "justify_items": null,
      "left": null,
      "margin": null,
      "max_height": null,
      "max_width": null,
      "min_height": null,
      "min_width": null,
      "object_fit": null,
      "object_position": null,
      "order": null,
      "overflow": null,
      "overflow_x": null,
      "overflow_y": null,
      "padding": null,
      "right": null,
      "top": null,
      "visibility": null,
      "width": null
     }
    },
    "3a7c2cd64e754fbe8c8f910f9d76b42d": {
     "model_module": "@jupyter-widgets/controls",
     "model_module_version": "1.5.0",
     "model_name": "FloatProgressModel",
     "state": {
      "_dom_classes": [],
      "_model_module": "@jupyter-widgets/controls",
      "_model_module_version": "1.5.0",
      "_model_name": "FloatProgressModel",
      "_view_count": null,
      "_view_module": "@jupyter-widgets/controls",
      "_view_module_version": "1.5.0",
      "_view_name": "ProgressView",
      "bar_style": "success",
      "description": "",
      "description_tooltip": null,
      "layout": "IPY_MODEL_a03121d1063149a189d3d7f561099d44",
      "max": 548105171,
      "min": 0,
      "orientation": "horizontal",
      "style": "IPY_MODEL_d4e80ded4667403fa7cf27dc2706e756",
      "value": 548105171
     }
    },
    "3b3100b518b147849503371651dd4e52": {
     "model_module": "@jupyter-widgets/controls",
     "model_module_version": "1.5.0",
     "model_name": "HBoxModel",
     "state": {
      "_dom_classes": [],
      "_model_module": "@jupyter-widgets/controls",
      "_model_module_version": "1.5.0",
      "_model_name": "HBoxModel",
      "_view_count": null,
      "_view_module": "@jupyter-widgets/controls",
      "_view_module_version": "1.5.0",
      "_view_name": "HBoxView",
      "box_style": "",
      "children": [
       "IPY_MODEL_03091f57790c4fdabf03df270c8efdaf",
       "IPY_MODEL_8fa1912665134655ab0908ef74352a16",
       "IPY_MODEL_065124bd0f98460ebac66cd004372b98"
      ],
      "layout": "IPY_MODEL_6c0631dec58c4ee69369c25e38b045f6"
     }
    },
    "3cb4349492694a3298d291c8fb1b200b": {
     "model_module": "@jupyter-widgets/controls",
     "model_module_version": "1.5.0",
     "model_name": "HBoxModel",
     "state": {
      "_dom_classes": [],
      "_model_module": "@jupyter-widgets/controls",
      "_model_module_version": "1.5.0",
      "_model_name": "HBoxModel",
      "_view_count": null,
      "_view_module": "@jupyter-widgets/controls",
      "_view_module_version": "1.5.0",
      "_view_name": "HBoxView",
      "box_style": "",
      "children": [
       "IPY_MODEL_06dac90ed3454abe9927118db312da01",
       "IPY_MODEL_61e0249981a6424f8a011cc10ef08b88",
       "IPY_MODEL_650796f942bc4b69a9bcd7a868dfd9b6"
      ],
      "layout": "IPY_MODEL_68ff6fe07e8244cf8eca148e5d595b69"
     }
    },
    "3d706598c13a404c882ab11ea40ed2ba": {
     "model_module": "@jupyter-widgets/controls",
     "model_module_version": "1.5.0",
     "model_name": "DescriptionStyleModel",
     "state": {
      "_model_module": "@jupyter-widgets/controls",
      "_model_module_version": "1.5.0",
      "_model_name": "DescriptionStyleModel",
      "_view_count": null,
      "_view_module": "@jupyter-widgets/base",
      "_view_module_version": "1.2.0",
      "_view_name": "StyleView",
      "description_width": ""
     }
    },
    "3dcd50ad000b4860bc1fd8f4566d50e4": {
     "model_module": "@jupyter-widgets/base",
     "model_module_version": "1.2.0",
     "model_name": "LayoutModel",
     "state": {
      "_model_module": "@jupyter-widgets/base",
      "_model_module_version": "1.2.0",
      "_model_name": "LayoutModel",
      "_view_count": null,
      "_view_module": "@jupyter-widgets/base",
      "_view_module_version": "1.2.0",
      "_view_name": "LayoutView",
      "align_content": null,
      "align_items": null,
      "align_self": null,
      "border": null,
      "bottom": null,
      "display": null,
      "flex": null,
      "flex_flow": null,
      "grid_area": null,
      "grid_auto_columns": null,
      "grid_auto_flow": null,
      "grid_auto_rows": null,
      "grid_column": null,
      "grid_gap": null,
      "grid_row": null,
      "grid_template_areas": null,
      "grid_template_columns": null,
      "grid_template_rows": null,
      "height": null,
      "justify_content": null,
      "justify_items": null,
      "left": null,
      "margin": null,
      "max_height": null,
      "max_width": null,
      "min_height": null,
      "min_width": null,
      "object_fit": null,
      "object_position": null,
      "order": null,
      "overflow": null,
      "overflow_x": null,
      "overflow_y": null,
      "padding": null,
      "right": null,
      "top": null,
      "visibility": null,
      "width": null
     }
    },
    "3eaa5c70d72c42a8bccfeb5c5a352b96": {
     "model_module": "@jupyter-widgets/base",
     "model_module_version": "1.2.0",
     "model_name": "LayoutModel",
     "state": {
      "_model_module": "@jupyter-widgets/base",
      "_model_module_version": "1.2.0",
      "_model_name": "LayoutModel",
      "_view_count": null,
      "_view_module": "@jupyter-widgets/base",
      "_view_module_version": "1.2.0",
      "_view_name": "LayoutView",
      "align_content": null,
      "align_items": null,
      "align_self": null,
      "border": null,
      "bottom": null,
      "display": null,
      "flex": null,
      "flex_flow": null,
      "grid_area": null,
      "grid_auto_columns": null,
      "grid_auto_flow": null,
      "grid_auto_rows": null,
      "grid_column": null,
      "grid_gap": null,
      "grid_row": null,
      "grid_template_areas": null,
      "grid_template_columns": null,
      "grid_template_rows": null,
      "height": null,
      "justify_content": null,
      "justify_items": null,
      "left": null,
      "margin": null,
      "max_height": null,
      "max_width": null,
      "min_height": null,
      "min_width": null,
      "object_fit": null,
      "object_position": null,
      "order": null,
      "overflow": null,
      "overflow_x": null,
      "overflow_y": null,
      "padding": null,
      "right": null,
      "top": null,
      "visibility": null,
      "width": null
     }
    },
    "3f6619d00b9c4d4ca573b54d6f59d012": {
     "model_module": "@jupyter-widgets/controls",
     "model_module_version": "1.5.0",
     "model_name": "DescriptionStyleModel",
     "state": {
      "_model_module": "@jupyter-widgets/controls",
      "_model_module_version": "1.5.0",
      "_model_name": "DescriptionStyleModel",
      "_view_count": null,
      "_view_module": "@jupyter-widgets/base",
      "_view_module_version": "1.2.0",
      "_view_name": "StyleView",
      "description_width": ""
     }
    },
    "3f81f775fb0c478b8423db9bddbfad2e": {
     "model_module": "@jupyter-widgets/base",
     "model_module_version": "1.2.0",
     "model_name": "LayoutModel",
     "state": {
      "_model_module": "@jupyter-widgets/base",
      "_model_module_version": "1.2.0",
      "_model_name": "LayoutModel",
      "_view_count": null,
      "_view_module": "@jupyter-widgets/base",
      "_view_module_version": "1.2.0",
      "_view_name": "LayoutView",
      "align_content": null,
      "align_items": null,
      "align_self": null,
      "border": null,
      "bottom": null,
      "display": null,
      "flex": null,
      "flex_flow": null,
      "grid_area": null,
      "grid_auto_columns": null,
      "grid_auto_flow": null,
      "grid_auto_rows": null,
      "grid_column": null,
      "grid_gap": null,
      "grid_row": null,
      "grid_template_areas": null,
      "grid_template_columns": null,
      "grid_template_rows": null,
      "height": null,
      "justify_content": null,
      "justify_items": null,
      "left": null,
      "margin": null,
      "max_height": null,
      "max_width": null,
      "min_height": null,
      "min_width": null,
      "object_fit": null,
      "object_position": null,
      "order": null,
      "overflow": null,
      "overflow_x": null,
      "overflow_y": null,
      "padding": null,
      "right": null,
      "top": null,
      "visibility": null,
      "width": null
     }
    },
    "3fbaf05579a345c3b2ec0e1fd0698c19": {
     "model_module": "@jupyter-widgets/base",
     "model_module_version": "1.2.0",
     "model_name": "LayoutModel",
     "state": {
      "_model_module": "@jupyter-widgets/base",
      "_model_module_version": "1.2.0",
      "_model_name": "LayoutModel",
      "_view_count": null,
      "_view_module": "@jupyter-widgets/base",
      "_view_module_version": "1.2.0",
      "_view_name": "LayoutView",
      "align_content": null,
      "align_items": null,
      "align_self": null,
      "border": null,
      "bottom": null,
      "display": null,
      "flex": null,
      "flex_flow": null,
      "grid_area": null,
      "grid_auto_columns": null,
      "grid_auto_flow": null,
      "grid_auto_rows": null,
      "grid_column": null,
      "grid_gap": null,
      "grid_row": null,
      "grid_template_areas": null,
      "grid_template_columns": null,
      "grid_template_rows": null,
      "height": null,
      "justify_content": null,
      "justify_items": null,
      "left": null,
      "margin": null,
      "max_height": null,
      "max_width": null,
      "min_height": null,
      "min_width": null,
      "object_fit": null,
      "object_position": null,
      "order": null,
      "overflow": null,
      "overflow_x": null,
      "overflow_y": null,
      "padding": null,
      "right": null,
      "top": null,
      "visibility": null,
      "width": null
     }
    },
    "4044fc511d4e479782cf80c63ef73e26": {
     "model_module": "@jupyter-widgets/controls",
     "model_module_version": "1.5.0",
     "model_name": "HTMLModel",
     "state": {
      "_dom_classes": [],
      "_model_module": "@jupyter-widgets/controls",
      "_model_module_version": "1.5.0",
      "_model_name": "HTMLModel",
      "_view_count": null,
      "_view_module": "@jupyter-widgets/controls",
      "_view_module_version": "1.5.0",
      "_view_name": "HTMLView",
      "description": "",
      "description_tooltip": null,
      "layout": "IPY_MODEL_80d44875f8b44dc4b178a105b08bc267",
      "placeholder": "​",
      "style": "IPY_MODEL_05a250d18cda4fe79f69cb258960faf8",
      "value": " 124/124 [00:00&lt;00:00, 6.91kB/s]"
     }
    },
    "4148fdd044b742829876144096e3d247": {
     "model_module": "@jupyter-widgets/controls",
     "model_module_version": "1.5.0",
     "model_name": "HTMLModel",
     "state": {
      "_dom_classes": [],
      "_model_module": "@jupyter-widgets/controls",
      "_model_module_version": "1.5.0",
      "_model_name": "HTMLModel",
      "_view_count": null,
      "_view_module": "@jupyter-widgets/controls",
      "_view_module_version": "1.5.0",
      "_view_name": "HTMLView",
      "description": "",
      "description_tooltip": null,
      "layout": "IPY_MODEL_b6f29e196ff944b8964a7ccf2a29aae5",
      "placeholder": "​",
      "style": "IPY_MODEL_cbdcba4e4c4c4ec69224ebde008c16a8",
      "value": "Downloading (…)solve/main/vocab.txt: 100%"
     }
    },
    "4341486e91614581909fa67fadc90d48": {
     "model_module": "@jupyter-widgets/controls",
     "model_module_version": "1.5.0",
     "model_name": "DescriptionStyleModel",
     "state": {
      "_model_module": "@jupyter-widgets/controls",
      "_model_module_version": "1.5.0",
      "_model_name": "DescriptionStyleModel",
      "_view_count": null,
      "_view_module": "@jupyter-widgets/base",
      "_view_module_version": "1.2.0",
      "_view_name": "StyleView",
      "description_width": ""
     }
    },
    "446fed872cbf44e59688454c1fdbebb8": {
     "model_module": "@jupyter-widgets/base",
     "model_module_version": "1.2.0",
     "model_name": "LayoutModel",
     "state": {
      "_model_module": "@jupyter-widgets/base",
      "_model_module_version": "1.2.0",
      "_model_name": "LayoutModel",
      "_view_count": null,
      "_view_module": "@jupyter-widgets/base",
      "_view_module_version": "1.2.0",
      "_view_name": "LayoutView",
      "align_content": null,
      "align_items": null,
      "align_self": null,
      "border": null,
      "bottom": null,
      "display": null,
      "flex": null,
      "flex_flow": null,
      "grid_area": null,
      "grid_auto_columns": null,
      "grid_auto_flow": null,
      "grid_auto_rows": null,
      "grid_column": null,
      "grid_gap": null,
      "grid_row": null,
      "grid_template_areas": null,
      "grid_template_columns": null,
      "grid_template_rows": null,
      "height": null,
      "justify_content": null,
      "justify_items": null,
      "left": null,
      "margin": null,
      "max_height": null,
      "max_width": null,
      "min_height": null,
      "min_width": null,
      "object_fit": null,
      "object_position": null,
      "order": null,
      "overflow": null,
      "overflow_x": null,
      "overflow_y": null,
      "padding": null,
      "right": null,
      "top": null,
      "visibility": null,
      "width": null
     }
    },
    "44b2d5e007b84f85b4f183ba0631500d": {
     "model_module": "@jupyter-widgets/controls",
     "model_module_version": "1.5.0",
     "model_name": "FloatProgressModel",
     "state": {
      "_dom_classes": [],
      "_model_module": "@jupyter-widgets/controls",
      "_model_module_version": "1.5.0",
      "_model_name": "FloatProgressModel",
      "_view_count": null,
      "_view_module": "@jupyter-widgets/controls",
      "_view_module_version": "1.5.0",
      "_view_name": "ProgressView",
      "bar_style": "success",
      "description": "",
      "description_tooltip": null,
      "layout": "IPY_MODEL_e311df68b62b44099c1269883678c94b",
      "max": 231508,
      "min": 0,
      "orientation": "horizontal",
      "style": "IPY_MODEL_d792c590bc9f4fa18d66294f4c840ce9",
      "value": 231508
     }
    },
    "462794da68e542f381bff271e24185fa": {
     "model_module": "@jupyter-widgets/controls",
     "model_module_version": "1.5.0",
     "model_name": "HTMLModel",
     "state": {
      "_dom_classes": [],
      "_model_module": "@jupyter-widgets/controls",
      "_model_module_version": "1.5.0",
      "_model_name": "HTMLModel",
      "_view_count": null,
      "_view_module": "@jupyter-widgets/controls",
      "_view_module_version": "1.5.0",
      "_view_name": "HTMLView",
      "description": "",
      "description_tooltip": null,
      "layout": "IPY_MODEL_e791c7e96e2a4ffdb8f6bdb12e61aa02",
      "placeholder": "​",
      "style": "IPY_MODEL_6756718ae9e14f23858d2d0000d11fce",
      "value": "Downloading (…)solve/main/vocab.txt: 100%"
     }
    },
    "4629c0d2a4ca42d7b347627832900bae": {
     "model_module": "@jupyter-widgets/base",
     "model_module_version": "1.2.0",
     "model_name": "LayoutModel",
     "state": {
      "_model_module": "@jupyter-widgets/base",
      "_model_module_version": "1.2.0",
      "_model_name": "LayoutModel",
      "_view_count": null,
      "_view_module": "@jupyter-widgets/base",
      "_view_module_version": "1.2.0",
      "_view_name": "LayoutView",
      "align_content": null,
      "align_items": null,
      "align_self": null,
      "border": null,
      "bottom": null,
      "display": null,
      "flex": null,
      "flex_flow": null,
      "grid_area": null,
      "grid_auto_columns": null,
      "grid_auto_flow": null,
      "grid_auto_rows": null,
      "grid_column": null,
      "grid_gap": null,
      "grid_row": null,
      "grid_template_areas": null,
      "grid_template_columns": null,
      "grid_template_rows": null,
      "height": null,
      "justify_content": null,
      "justify_items": null,
      "left": null,
      "margin": null,
      "max_height": null,
      "max_width": null,
      "min_height": null,
      "min_width": null,
      "object_fit": null,
      "object_position": null,
      "order": null,
      "overflow": null,
      "overflow_x": null,
      "overflow_y": null,
      "padding": null,
      "right": null,
      "top": null,
      "visibility": null,
      "width": null
     }
    },
    "466c81afbe03406280d6edd92ec0f5aa": {
     "model_module": "@jupyter-widgets/base",
     "model_module_version": "1.2.0",
     "model_name": "LayoutModel",
     "state": {
      "_model_module": "@jupyter-widgets/base",
      "_model_module_version": "1.2.0",
      "_model_name": "LayoutModel",
      "_view_count": null,
      "_view_module": "@jupyter-widgets/base",
      "_view_module_version": "1.2.0",
      "_view_name": "LayoutView",
      "align_content": null,
      "align_items": null,
      "align_self": null,
      "border": null,
      "bottom": null,
      "display": null,
      "flex": null,
      "flex_flow": null,
      "grid_area": null,
      "grid_auto_columns": null,
      "grid_auto_flow": null,
      "grid_auto_rows": null,
      "grid_column": null,
      "grid_gap": null,
      "grid_row": null,
      "grid_template_areas": null,
      "grid_template_columns": null,
      "grid_template_rows": null,
      "height": null,
      "justify_content": null,
      "justify_items": null,
      "left": null,
      "margin": null,
      "max_height": null,
      "max_width": null,
      "min_height": null,
      "min_width": null,
      "object_fit": null,
      "object_position": null,
      "order": null,
      "overflow": null,
      "overflow_x": null,
      "overflow_y": null,
      "padding": null,
      "right": null,
      "top": null,
      "visibility": null,
      "width": null
     }
    },
    "469cb766551f40f992aa5a1522f06796": {
     "model_module": "@jupyter-widgets/controls",
     "model_module_version": "1.5.0",
     "model_name": "HTMLModel",
     "state": {
      "_dom_classes": [],
      "_model_module": "@jupyter-widgets/controls",
      "_model_module_version": "1.5.0",
      "_model_name": "HTMLModel",
      "_view_count": null,
      "_view_module": "@jupyter-widgets/controls",
      "_view_module_version": "1.5.0",
      "_view_name": "HTMLView",
      "description": "",
      "description_tooltip": null,
      "layout": "IPY_MODEL_bcd028bfbdd44ffbb46c6e140086d03b",
      "placeholder": "​",
      "style": "IPY_MODEL_24b4642b637b40acb9e5787c71989d1a",
      "value": " 1/1 [00:00&lt;00:00, 39.19it/s]"
     }
    },
    "4763944fef3f446e880caa9623448b53": {
     "model_module": "@jupyter-widgets/base",
     "model_module_version": "1.2.0",
     "model_name": "LayoutModel",
     "state": {
      "_model_module": "@jupyter-widgets/base",
      "_model_module_version": "1.2.0",
      "_model_name": "LayoutModel",
      "_view_count": null,
      "_view_module": "@jupyter-widgets/base",
      "_view_module_version": "1.2.0",
      "_view_name": "LayoutView",
      "align_content": null,
      "align_items": null,
      "align_self": null,
      "border": null,
      "bottom": null,
      "display": null,
      "flex": null,
      "flex_flow": null,
      "grid_area": null,
      "grid_auto_columns": null,
      "grid_auto_flow": null,
      "grid_auto_rows": null,
      "grid_column": null,
      "grid_gap": null,
      "grid_row": null,
      "grid_template_areas": null,
      "grid_template_columns": null,
      "grid_template_rows": null,
      "height": null,
      "justify_content": null,
      "justify_items": null,
      "left": null,
      "margin": null,
      "max_height": null,
      "max_width": null,
      "min_height": null,
      "min_width": null,
      "object_fit": null,
      "object_position": null,
      "order": null,
      "overflow": null,
      "overflow_x": null,
      "overflow_y": null,
      "padding": null,
      "right": null,
      "top": null,
      "visibility": null,
      "width": null
     }
    },
    "47b17d821f924db3a592d734f77ce092": {
     "model_module": "@jupyter-widgets/controls",
     "model_module_version": "1.5.0",
     "model_name": "FloatProgressModel",
     "state": {
      "_dom_classes": [],
      "_model_module": "@jupyter-widgets/controls",
      "_model_module_version": "1.5.0",
      "_model_name": "FloatProgressModel",
      "_view_count": null,
      "_view_module": "@jupyter-widgets/controls",
      "_view_module_version": "1.5.0",
      "_view_name": "ProgressView",
      "bar_style": "success",
      "description": "",
      "description_tooltip": null,
      "layout": "IPY_MODEL_15a667e533e945c894af026b818db869",
      "max": 48,
      "min": 0,
      "orientation": "horizontal",
      "style": "IPY_MODEL_598a61bb19da461c9257b86a21c963cf",
      "value": 48
     }
    },
    "47c99e2702e242559b5c247074ee15b7": {
     "model_module": "@jupyter-widgets/base",
     "model_module_version": "1.2.0",
     "model_name": "LayoutModel",
     "state": {
      "_model_module": "@jupyter-widgets/base",
      "_model_module_version": "1.2.0",
      "_model_name": "LayoutModel",
      "_view_count": null,
      "_view_module": "@jupyter-widgets/base",
      "_view_module_version": "1.2.0",
      "_view_name": "LayoutView",
      "align_content": null,
      "align_items": null,
      "align_self": null,
      "border": null,
      "bottom": null,
      "display": null,
      "flex": null,
      "flex_flow": null,
      "grid_area": null,
      "grid_auto_columns": null,
      "grid_auto_flow": null,
      "grid_auto_rows": null,
      "grid_column": null,
      "grid_gap": null,
      "grid_row": null,
      "grid_template_areas": null,
      "grid_template_columns": null,
      "grid_template_rows": null,
      "height": null,
      "justify_content": null,
      "justify_items": null,
      "left": null,
      "margin": null,
      "max_height": null,
      "max_width": null,
      "min_height": null,
      "min_width": null,
      "object_fit": null,
      "object_position": null,
      "order": null,
      "overflow": null,
      "overflow_x": null,
      "overflow_y": null,
      "padding": null,
      "right": null,
      "top": null,
      "visibility": null,
      "width": null
     }
    },
    "4801fffa2c324ebbac52ed45d6cc5be8": {
     "model_module": "@jupyter-widgets/base",
     "model_module_version": "1.2.0",
     "model_name": "LayoutModel",
     "state": {
      "_model_module": "@jupyter-widgets/base",
      "_model_module_version": "1.2.0",
      "_model_name": "LayoutModel",
      "_view_count": null,
      "_view_module": "@jupyter-widgets/base",
      "_view_module_version": "1.2.0",
      "_view_name": "LayoutView",
      "align_content": null,
      "align_items": null,
      "align_self": null,
      "border": null,
      "bottom": null,
      "display": null,
      "flex": null,
      "flex_flow": null,
      "grid_area": null,
      "grid_auto_columns": null,
      "grid_auto_flow": null,
      "grid_auto_rows": null,
      "grid_column": null,
      "grid_gap": null,
      "grid_row": null,
      "grid_template_areas": null,
      "grid_template_columns": null,
      "grid_template_rows": null,
      "height": null,
      "justify_content": null,
      "justify_items": null,
      "left": null,
      "margin": null,
      "max_height": null,
      "max_width": null,
      "min_height": null,
      "min_width": null,
      "object_fit": null,
      "object_position": null,
      "order": null,
      "overflow": null,
      "overflow_x": null,
      "overflow_y": null,
      "padding": null,
      "right": null,
      "top": null,
      "visibility": null,
      "width": null
     }
    },
    "4978f765d5a346ec94880e2a3c1dc73d": {
     "model_module": "@jupyter-widgets/controls",
     "model_module_version": "1.5.0",
     "model_name": "DescriptionStyleModel",
     "state": {
      "_model_module": "@jupyter-widgets/controls",
      "_model_module_version": "1.5.0",
      "_model_name": "DescriptionStyleModel",
      "_view_count": null,
      "_view_module": "@jupyter-widgets/base",
      "_view_module_version": "1.2.0",
      "_view_name": "StyleView",
      "description_width": ""
     }
    },
    "49fbb0bb89e1487fbdcd78e52f9a1d00": {
     "model_module": "@jupyter-widgets/controls",
     "model_module_version": "1.5.0",
     "model_name": "DescriptionStyleModel",
     "state": {
      "_model_module": "@jupyter-widgets/controls",
      "_model_module_version": "1.5.0",
      "_model_name": "DescriptionStyleModel",
      "_view_count": null,
      "_view_module": "@jupyter-widgets/base",
      "_view_module_version": "1.2.0",
      "_view_name": "StyleView",
      "description_width": ""
     }
    },
    "4a3fb6b58fb240439161ecc8be792721": {
     "model_module": "@jupyter-widgets/base",
     "model_module_version": "1.2.0",
     "model_name": "LayoutModel",
     "state": {
      "_model_module": "@jupyter-widgets/base",
      "_model_module_version": "1.2.0",
      "_model_name": "LayoutModel",
      "_view_count": null,
      "_view_module": "@jupyter-widgets/base",
      "_view_module_version": "1.2.0",
      "_view_name": "LayoutView",
      "align_content": null,
      "align_items": null,
      "align_self": null,
      "border": null,
      "bottom": null,
      "display": null,
      "flex": null,
      "flex_flow": null,
      "grid_area": null,
      "grid_auto_columns": null,
      "grid_auto_flow": null,
      "grid_auto_rows": null,
      "grid_column": null,
      "grid_gap": null,
      "grid_row": null,
      "grid_template_areas": null,
      "grid_template_columns": null,
      "grid_template_rows": null,
      "height": null,
      "justify_content": null,
      "justify_items": null,
      "left": null,
      "margin": null,
      "max_height": null,
      "max_width": null,
      "min_height": null,
      "min_width": null,
      "object_fit": null,
      "object_position": null,
      "order": null,
      "overflow": null,
      "overflow_x": null,
      "overflow_y": null,
      "padding": null,
      "right": null,
      "top": null,
      "visibility": null,
      "width": null
     }
    },
    "4ab2a7cacbd4448bb7e1900139ba7f1a": {
     "model_module": "@jupyter-widgets/base",
     "model_module_version": "1.2.0",
     "model_name": "LayoutModel",
     "state": {
      "_model_module": "@jupyter-widgets/base",
      "_model_module_version": "1.2.0",
      "_model_name": "LayoutModel",
      "_view_count": null,
      "_view_module": "@jupyter-widgets/base",
      "_view_module_version": "1.2.0",
      "_view_name": "LayoutView",
      "align_content": null,
      "align_items": null,
      "align_self": null,
      "border": null,
      "bottom": null,
      "display": null,
      "flex": null,
      "flex_flow": null,
      "grid_area": null,
      "grid_auto_columns": null,
      "grid_auto_flow": null,
      "grid_auto_rows": null,
      "grid_column": null,
      "grid_gap": null,
      "grid_row": null,
      "grid_template_areas": null,
      "grid_template_columns": null,
      "grid_template_rows": null,
      "height": null,
      "justify_content": null,
      "justify_items": null,
      "left": null,
      "margin": null,
      "max_height": null,
      "max_width": null,
      "min_height": null,
      "min_width": null,
      "object_fit": null,
      "object_position": null,
      "order": null,
      "overflow": null,
      "overflow_x": null,
      "overflow_y": null,
      "padding": null,
      "right": null,
      "top": null,
      "visibility": null,
      "width": null
     }
    },
    "4ab5ac2fbe27424db741224634932854": {
     "model_module": "@jupyter-widgets/controls",
     "model_module_version": "1.5.0",
     "model_name": "ProgressStyleModel",
     "state": {
      "_model_module": "@jupyter-widgets/controls",
      "_model_module_version": "1.5.0",
      "_model_name": "ProgressStyleModel",
      "_view_count": null,
      "_view_module": "@jupyter-widgets/base",
      "_view_module_version": "1.2.0",
      "_view_name": "StyleView",
      "bar_color": null,
      "description_width": ""
     }
    },
    "4bb1b90b1880493b9bc53341c5988131": {
     "model_module": "@jupyter-widgets/controls",
     "model_module_version": "1.5.0",
     "model_name": "HTMLModel",
     "state": {
      "_dom_classes": [],
      "_model_module": "@jupyter-widgets/controls",
      "_model_module_version": "1.5.0",
      "_model_name": "HTMLModel",
      "_view_count": null,
      "_view_module": "@jupyter-widgets/controls",
      "_view_module_version": "1.5.0",
      "_view_name": "HTMLView",
      "description": "",
      "description_tooltip": null,
      "layout": "IPY_MODEL_9dae0e5082ee4776bc64e644d155af33",
      "placeholder": "​",
      "style": "IPY_MODEL_f030e21d8d2541c9a1b5d56ecfbbc1bd",
      "value": "Downloading (…)olve/main/vocab.json: 100%"
     }
    },
    "4c76509902e24df2aa811d754d607817": {
     "model_module": "@jupyter-widgets/controls",
     "model_module_version": "1.5.0",
     "model_name": "DescriptionStyleModel",
     "state": {
      "_model_module": "@jupyter-widgets/controls",
      "_model_module_version": "1.5.0",
      "_model_name": "DescriptionStyleModel",
      "_view_count": null,
      "_view_module": "@jupyter-widgets/base",
      "_view_module_version": "1.2.0",
      "_view_name": "StyleView",
      "description_width": ""
     }
    },
    "4d2c3a69a29243088ff2279457f4de62": {
     "model_module": "@jupyter-widgets/controls",
     "model_module_version": "1.5.0",
     "model_name": "ProgressStyleModel",
     "state": {
      "_model_module": "@jupyter-widgets/controls",
      "_model_module_version": "1.5.0",
      "_model_name": "ProgressStyleModel",
      "_view_count": null,
      "_view_module": "@jupyter-widgets/base",
      "_view_module_version": "1.2.0",
      "_view_name": "StyleView",
      "bar_color": null,
      "description_width": ""
     }
    },
    "4d9eb2d890ea430cb0f6cfb03c0913ec": {
     "model_module": "@jupyter-widgets/controls",
     "model_module_version": "1.5.0",
     "model_name": "FloatProgressModel",
     "state": {
      "_dom_classes": [],
      "_model_module": "@jupyter-widgets/controls",
      "_model_module_version": "1.5.0",
      "_model_name": "FloatProgressModel",
      "_view_count": null,
      "_view_module": "@jupyter-widgets/controls",
      "_view_module_version": "1.5.0",
      "_view_name": "ProgressView",
      "bar_style": "success",
      "description": "",
      "description_tooltip": null,
      "layout": "IPY_MODEL_1e3440f0270448baaa0b19928392e7a6",
      "max": 3852,
      "min": 0,
      "orientation": "horizontal",
      "style": "IPY_MODEL_1bcb447d7e7c4325bb5e590a9ad2396a",
      "value": 3852
     }
    },
    "4dacc2dfaec841b9b09643d32cfb142f": {
     "model_module": "@jupyter-widgets/controls",
     "model_module_version": "1.5.0",
     "model_name": "HTMLModel",
     "state": {
      "_dom_classes": [],
      "_model_module": "@jupyter-widgets/controls",
      "_model_module_version": "1.5.0",
      "_model_name": "HTMLModel",
      "_view_count": null,
      "_view_module": "@jupyter-widgets/controls",
      "_view_module_version": "1.5.0",
      "_view_name": "HTMLView",
      "description": "",
      "description_tooltip": null,
      "layout": "IPY_MODEL_f9459b5a73dc44d58a68925f08598e65",
      "placeholder": "​",
      "style": "IPY_MODEL_cb2fea0bc72b4a8486f09d387442624b",
      "value": " 3081/3081 [00:00&lt;00:00, 10158.57 examples/s]"
     }
    },
    "4daedae6cba24c6a835a8e4ae05e322d": {
     "model_module": "@jupyter-widgets/base",
     "model_module_version": "1.2.0",
     "model_name": "LayoutModel",
     "state": {
      "_model_module": "@jupyter-widgets/base",
      "_model_module_version": "1.2.0",
      "_model_name": "LayoutModel",
      "_view_count": null,
      "_view_module": "@jupyter-widgets/base",
      "_view_module_version": "1.2.0",
      "_view_name": "LayoutView",
      "align_content": null,
      "align_items": null,
      "align_self": null,
      "border": null,
      "bottom": null,
      "display": null,
      "flex": null,
      "flex_flow": null,
      "grid_area": null,
      "grid_auto_columns": null,
      "grid_auto_flow": null,
      "grid_auto_rows": null,
      "grid_column": null,
      "grid_gap": null,
      "grid_row": null,
      "grid_template_areas": null,
      "grid_template_columns": null,
      "grid_template_rows": null,
      "height": null,
      "justify_content": null,
      "justify_items": null,
      "left": null,
      "margin": null,
      "max_height": null,
      "max_width": null,
      "min_height": null,
      "min_width": null,
      "object_fit": null,
      "object_position": null,
      "order": null,
      "overflow": null,
      "overflow_x": null,
      "overflow_y": null,
      "padding": null,
      "right": null,
      "top": null,
      "visibility": null,
      "width": null
     }
    },
    "4e0e6c72de6b4f01806f07631c00a8e7": {
     "model_module": "@jupyter-widgets/controls",
     "model_module_version": "1.5.0",
     "model_name": "HBoxModel",
     "state": {
      "_dom_classes": [],
      "_model_module": "@jupyter-widgets/controls",
      "_model_module_version": "1.5.0",
      "_model_name": "HBoxModel",
      "_view_count": null,
      "_view_module": "@jupyter-widgets/controls",
      "_view_module_version": "1.5.0",
      "_view_name": "HBoxView",
      "box_style": "",
      "children": [
       "IPY_MODEL_b63f77ac851147bb8a514d5737135f9a",
       "IPY_MODEL_a000d3139bcc44babd2409da447eab16",
       "IPY_MODEL_8a2aa09b29a243c2a8dca4974d3cbc7b"
      ],
      "layout": "IPY_MODEL_88acd9c1e68642a8b58f9c6d77647d08"
     }
    },
    "4f8ef38fd5614431a7a3c974a7583570": {
     "model_module": "@jupyter-widgets/base",
     "model_module_version": "1.2.0",
     "model_name": "LayoutModel",
     "state": {
      "_model_module": "@jupyter-widgets/base",
      "_model_module_version": "1.2.0",
      "_model_name": "LayoutModel",
      "_view_count": null,
      "_view_module": "@jupyter-widgets/base",
      "_view_module_version": "1.2.0",
      "_view_name": "LayoutView",
      "align_content": null,
      "align_items": null,
      "align_self": null,
      "border": null,
      "bottom": null,
      "display": null,
      "flex": null,
      "flex_flow": null,
      "grid_area": null,
      "grid_auto_columns": null,
      "grid_auto_flow": null,
      "grid_auto_rows": null,
      "grid_column": null,
      "grid_gap": null,
      "grid_row": null,
      "grid_template_areas": null,
      "grid_template_columns": null,
      "grid_template_rows": null,
      "height": null,
      "justify_content": null,
      "justify_items": null,
      "left": null,
      "margin": null,
      "max_height": null,
      "max_width": null,
      "min_height": null,
      "min_width": null,
      "object_fit": null,
      "object_position": null,
      "order": null,
      "overflow": null,
      "overflow_x": null,
      "overflow_y": null,
      "padding": null,
      "right": null,
      "top": null,
      "visibility": null,
      "width": null
     }
    },
    "4feb42875064419fb591079dbd104bfc": {
     "model_module": "@jupyter-widgets/controls",
     "model_module_version": "1.5.0",
     "model_name": "HTMLModel",
     "state": {
      "_dom_classes": [],
      "_model_module": "@jupyter-widgets/controls",
      "_model_module_version": "1.5.0",
      "_model_name": "HTMLModel",
      "_view_count": null,
      "_view_module": "@jupyter-widgets/controls",
      "_view_module_version": "1.5.0",
      "_view_name": "HTMLView",
      "description": "",
      "description_tooltip": null,
      "layout": "IPY_MODEL_26e6170d5cd348dfa3a5de35f2e85ec3",
      "placeholder": "​",
      "style": "IPY_MODEL_fa9f55afbab04780829b12fe4b116da3",
      "value": "Downloading model.safetensors: 100%"
     }
    },
    "507be369aa374425af36fb96064e610c": {
     "model_module": "@jupyter-widgets/controls",
     "model_module_version": "1.5.0",
     "model_name": "HBoxModel",
     "state": {
      "_dom_classes": [],
      "_model_module": "@jupyter-widgets/controls",
      "_model_module_version": "1.5.0",
      "_model_name": "HBoxModel",
      "_view_count": null,
      "_view_module": "@jupyter-widgets/controls",
      "_view_module_version": "1.5.0",
      "_view_name": "HBoxView",
      "box_style": "",
      "children": [
       "IPY_MODEL_a9c1e03886a94994915b30c1146d226e",
       "IPY_MODEL_66e11e6ec71f4a2f87c6219bfa32d526",
       "IPY_MODEL_f8579260247540a1998c25fec1762e2a"
      ],
      "layout": "IPY_MODEL_d892fd9f6ea84958b4dc80802e07adf7"
     }
    },
    "5110cc7789b24cff84c4e98c56eb1a56": {
     "model_module": "@jupyter-widgets/controls",
     "model_module_version": "1.5.0",
     "model_name": "HTMLModel",
     "state": {
      "_dom_classes": [],
      "_model_module": "@jupyter-widgets/controls",
      "_model_module_version": "1.5.0",
      "_model_name": "HTMLModel",
      "_view_count": null,
      "_view_module": "@jupyter-widgets/controls",
      "_view_module_version": "1.5.0",
      "_view_name": "HTMLView",
      "description": "",
      "description_tooltip": null,
      "layout": "IPY_MODEL_96e8555d63cf417fa7430110ef1624e5",
      "placeholder": "​",
      "style": "IPY_MODEL_980f204cee3f4d829c4326fe63d16b0e",
      "value": "Downloading (…)olve/main/merges.txt: 100%"
     }
    },
    "511c36e2cdcd4eaeb6db3dd6af3e14c8": {
     "model_module": "@jupyter-widgets/controls",
     "model_module_version": "1.5.0",
     "model_name": "DescriptionStyleModel",
     "state": {
      "_model_module": "@jupyter-widgets/controls",
      "_model_module_version": "1.5.0",
      "_model_name": "DescriptionStyleModel",
      "_view_count": null,
      "_view_module": "@jupyter-widgets/base",
      "_view_module_version": "1.2.0",
      "_view_name": "StyleView",
      "description_width": ""
     }
    },
    "518537d8640346c4bb9544e5011fda3c": {
     "model_module": "@jupyter-widgets/controls",
     "model_module_version": "1.5.0",
     "model_name": "HTMLModel",
     "state": {
      "_dom_classes": [],
      "_model_module": "@jupyter-widgets/controls",
      "_model_module_version": "1.5.0",
      "_model_name": "HTMLModel",
      "_view_count": null,
      "_view_module": "@jupyter-widgets/controls",
      "_view_module_version": "1.5.0",
      "_view_name": "HTMLView",
      "description": "",
      "description_tooltip": null,
      "layout": "IPY_MODEL_8a6ff1cc71c24b37afbdf4e532978c63",
      "placeholder": "​",
      "style": "IPY_MODEL_88ebe60388384796910b1987ca2a7b36",
      "value": " 232k/232k [00:00&lt;00:00, 3.57MB/s]"
     }
    },
    "51d15bcf281e4e03b28a2b4e636f1866": {
     "model_module": "@jupyter-widgets/base",
     "model_module_version": "1.2.0",
     "model_name": "LayoutModel",
     "state": {
      "_model_module": "@jupyter-widgets/base",
      "_model_module_version": "1.2.0",
      "_model_name": "LayoutModel",
      "_view_count": null,
      "_view_module": "@jupyter-widgets/base",
      "_view_module_version": "1.2.0",
      "_view_name": "LayoutView",
      "align_content": null,
      "align_items": null,
      "align_self": null,
      "border": null,
      "bottom": null,
      "display": null,
      "flex": null,
      "flex_flow": null,
      "grid_area": null,
      "grid_auto_columns": null,
      "grid_auto_flow": null,
      "grid_auto_rows": null,
      "grid_column": null,
      "grid_gap": null,
      "grid_row": null,
      "grid_template_areas": null,
      "grid_template_columns": null,
      "grid_template_rows": null,
      "height": null,
      "justify_content": null,
      "justify_items": null,
      "left": null,
      "margin": null,
      "max_height": null,
      "max_width": null,
      "min_height": null,
      "min_width": null,
      "object_fit": null,
      "object_position": null,
      "order": null,
      "overflow": null,
      "overflow_x": null,
      "overflow_y": null,
      "padding": null,
      "right": null,
      "top": null,
      "visibility": null,
      "width": null
     }
    },
    "52712fe41859413aae6f6b75af710b90": {
     "model_module": "@jupyter-widgets/controls",
     "model_module_version": "1.5.0",
     "model_name": "HBoxModel",
     "state": {
      "_dom_classes": [],
      "_model_module": "@jupyter-widgets/controls",
      "_model_module_version": "1.5.0",
      "_model_name": "HBoxModel",
      "_view_count": null,
      "_view_module": "@jupyter-widgets/controls",
      "_view_module_version": "1.5.0",
      "_view_name": "HBoxView",
      "box_style": "",
      "children": [
       "IPY_MODEL_462794da68e542f381bff271e24185fa",
       "IPY_MODEL_44b2d5e007b84f85b4f183ba0631500d",
       "IPY_MODEL_7a15f0aba34e4c3e90bfbe605fef9bb5"
      ],
      "layout": "IPY_MODEL_919e99b706034ed6aa81a1e903cfaf73"
     }
    },
    "533e80c06ed342e98f4caf25ec21f03b": {
     "model_module": "@jupyter-widgets/base",
     "model_module_version": "1.2.0",
     "model_name": "LayoutModel",
     "state": {
      "_model_module": "@jupyter-widgets/base",
      "_model_module_version": "1.2.0",
      "_model_name": "LayoutModel",
      "_view_count": null,
      "_view_module": "@jupyter-widgets/base",
      "_view_module_version": "1.2.0",
      "_view_name": "LayoutView",
      "align_content": null,
      "align_items": null,
      "align_self": null,
      "border": null,
      "bottom": null,
      "display": null,
      "flex": null,
      "flex_flow": null,
      "grid_area": null,
      "grid_auto_columns": null,
      "grid_auto_flow": null,
      "grid_auto_rows": null,
      "grid_column": null,
      "grid_gap": null,
      "grid_row": null,
      "grid_template_areas": null,
      "grid_template_columns": null,
      "grid_template_rows": null,
      "height": null,
      "justify_content": null,
      "justify_items": null,
      "left": null,
      "margin": null,
      "max_height": null,
      "max_width": null,
      "min_height": null,
      "min_width": null,
      "object_fit": null,
      "object_position": null,
      "order": null,
      "overflow": null,
      "overflow_x": null,
      "overflow_y": null,
      "padding": null,
      "right": null,
      "top": null,
      "visibility": null,
      "width": null
     }
    },
    "53c46000a715472c813fe4138446826f": {
     "model_module": "@jupyter-widgets/base",
     "model_module_version": "1.2.0",
     "model_name": "LayoutModel",
     "state": {
      "_model_module": "@jupyter-widgets/base",
      "_model_module_version": "1.2.0",
      "_model_name": "LayoutModel",
      "_view_count": null,
      "_view_module": "@jupyter-widgets/base",
      "_view_module_version": "1.2.0",
      "_view_name": "LayoutView",
      "align_content": null,
      "align_items": null,
      "align_self": null,
      "border": null,
      "bottom": null,
      "display": null,
      "flex": null,
      "flex_flow": null,
      "grid_area": null,
      "grid_auto_columns": null,
      "grid_auto_flow": null,
      "grid_auto_rows": null,
      "grid_column": null,
      "grid_gap": null,
      "grid_row": null,
      "grid_template_areas": null,
      "grid_template_columns": null,
      "grid_template_rows": null,
      "height": null,
      "justify_content": null,
      "justify_items": null,
      "left": null,
      "margin": null,
      "max_height": null,
      "max_width": null,
      "min_height": null,
      "min_width": null,
      "object_fit": null,
      "object_position": null,
      "order": null,
      "overflow": null,
      "overflow_x": null,
      "overflow_y": null,
      "padding": null,
      "right": null,
      "top": null,
      "visibility": null,
      "width": null
     }
    },
    "544015661b65451eb7bc40178d156eb7": {
     "model_module": "@jupyter-widgets/controls",
     "model_module_version": "1.5.0",
     "model_name": "HTMLModel",
     "state": {
      "_dom_classes": [],
      "_model_module": "@jupyter-widgets/controls",
      "_model_module_version": "1.5.0",
      "_model_name": "HTMLModel",
      "_view_count": null,
      "_view_module": "@jupyter-widgets/controls",
      "_view_module_version": "1.5.0",
      "_view_name": "HTMLView",
      "description": "",
      "description_tooltip": null,
      "layout": "IPY_MODEL_3fbaf05579a345c3b2ec0e1fd0698c19",
      "placeholder": "​",
      "style": "IPY_MODEL_20b0a8dbb55b4458ad16371a5f9617ec",
      "value": " 48.0/48.0 [00:00&lt;00:00, 2.46kB/s]"
     }
    },
    "569146c4214f4e4eb7b7de078ebd5857": {
     "model_module": "@jupyter-widgets/controls",
     "model_module_version": "1.5.0",
     "model_name": "DescriptionStyleModel",
     "state": {
      "_model_module": "@jupyter-widgets/controls",
      "_model_module_version": "1.5.0",
      "_model_name": "DescriptionStyleModel",
      "_view_count": null,
      "_view_module": "@jupyter-widgets/base",
      "_view_module_version": "1.2.0",
      "_view_name": "StyleView",
      "description_width": ""
     }
    },
    "5716cea9e8d84a289fe0760bcbc76d6a": {
     "model_module": "@jupyter-widgets/base",
     "model_module_version": "1.2.0",
     "model_name": "LayoutModel",
     "state": {
      "_model_module": "@jupyter-widgets/base",
      "_model_module_version": "1.2.0",
      "_model_name": "LayoutModel",
      "_view_count": null,
      "_view_module": "@jupyter-widgets/base",
      "_view_module_version": "1.2.0",
      "_view_name": "LayoutView",
      "align_content": null,
      "align_items": null,
      "align_self": null,
      "border": null,
      "bottom": null,
      "display": null,
      "flex": null,
      "flex_flow": null,
      "grid_area": null,
      "grid_auto_columns": null,
      "grid_auto_flow": null,
      "grid_auto_rows": null,
      "grid_column": null,
      "grid_gap": null,
      "grid_row": null,
      "grid_template_areas": null,
      "grid_template_columns": null,
      "grid_template_rows": null,
      "height": null,
      "justify_content": null,
      "justify_items": null,
      "left": null,
      "margin": null,
      "max_height": null,
      "max_width": null,
      "min_height": null,
      "min_width": null,
      "object_fit": null,
      "object_position": null,
      "order": null,
      "overflow": null,
      "overflow_x": null,
      "overflow_y": null,
      "padding": null,
      "right": null,
      "top": null,
      "visibility": null,
      "width": null
     }
    },
    "5777ee41883d442c91fe94bb09549bc0": {
     "model_module": "@jupyter-widgets/controls",
     "model_module_version": "1.5.0",
     "model_name": "HTMLModel",
     "state": {
      "_dom_classes": [],
      "_model_module": "@jupyter-widgets/controls",
      "_model_module_version": "1.5.0",
      "_model_name": "HTMLModel",
      "_view_count": null,
      "_view_module": "@jupyter-widgets/controls",
      "_view_module_version": "1.5.0",
      "_view_name": "HTMLView",
      "description": "",
      "description_tooltip": null,
      "layout": "IPY_MODEL_1cf85a231fab45fe8a916c95513992e4",
      "placeholder": "​",
      "style": "IPY_MODEL_e84b2ead2ebf44a9844271d79b48eaa4",
      "value": "Map: 100%"
     }
    },
    "5778e23acab7487cbd3c12d70dbbf1ba": {
     "model_module": "@jupyter-widgets/controls",
     "model_module_version": "1.5.0",
     "model_name": "HTMLModel",
     "state": {
      "_dom_classes": [],
      "_model_module": "@jupyter-widgets/controls",
      "_model_module_version": "1.5.0",
      "_model_name": "HTMLModel",
      "_view_count": null,
      "_view_module": "@jupyter-widgets/controls",
      "_view_module_version": "1.5.0",
      "_view_name": "HTMLView",
      "description": "",
      "description_tooltip": null,
      "layout": "IPY_MODEL_a4bfb99a9177451295c08faaf090e309",
      "placeholder": "​",
      "style": "IPY_MODEL_9ad2750aa5ab4972bc8156a6115dab44",
      "value": "Downloading (…)neration_config.json: 100%"
     }
    },
    "57e595d3ab874902a16accd73b19c865": {
     "model_module": "@jupyter-widgets/controls",
     "model_module_version": "1.5.0",
     "model_name": "DescriptionStyleModel",
     "state": {
      "_model_module": "@jupyter-widgets/controls",
      "_model_module_version": "1.5.0",
      "_model_name": "DescriptionStyleModel",
      "_view_count": null,
      "_view_module": "@jupyter-widgets/base",
      "_view_module_version": "1.2.0",
      "_view_name": "StyleView",
      "description_width": ""
     }
    },
    "589cc9d8dd0b40d5abb92bb83398f8c6": {
     "model_module": "@jupyter-widgets/controls",
     "model_module_version": "1.5.0",
     "model_name": "HTMLModel",
     "state": {
      "_dom_classes": [],
      "_model_module": "@jupyter-widgets/controls",
      "_model_module_version": "1.5.0",
      "_model_name": "HTMLModel",
      "_view_count": null,
      "_view_module": "@jupyter-widgets/controls",
      "_view_module_version": "1.5.0",
      "_view_name": "HTMLView",
      "description": "",
      "description_tooltip": null,
      "layout": "IPY_MODEL_4801fffa2c324ebbac52ed45d6cc5be8",
      "placeholder": "​",
      "style": "IPY_MODEL_97c86ac930a247b49bf111db20690f9f",
      "value": " 28.0/28.0 [00:00&lt;00:00, 1.10kB/s]"
     }
    },
    "58c6a66e017447d990f0383c1fdb57f0": {
     "model_module": "@jupyter-widgets/base",
     "model_module_version": "1.2.0",
     "model_name": "LayoutModel",
     "state": {
      "_model_module": "@jupyter-widgets/base",
      "_model_module_version": "1.2.0",
      "_model_name": "LayoutModel",
      "_view_count": null,
      "_view_module": "@jupyter-widgets/base",
      "_view_module_version": "1.2.0",
      "_view_name": "LayoutView",
      "align_content": null,
      "align_items": null,
      "align_self": null,
      "border": null,
      "bottom": null,
      "display": null,
      "flex": null,
      "flex_flow": null,
      "grid_area": null,
      "grid_auto_columns": null,
      "grid_auto_flow": null,
      "grid_auto_rows": null,
      "grid_column": null,
      "grid_gap": null,
      "grid_row": null,
      "grid_template_areas": null,
      "grid_template_columns": null,
      "grid_template_rows": null,
      "height": null,
      "justify_content": null,
      "justify_items": null,
      "left": null,
      "margin": null,
      "max_height": null,
      "max_width": null,
      "min_height": null,
      "min_width": null,
      "object_fit": null,
      "object_position": null,
      "order": null,
      "overflow": null,
      "overflow_x": null,
      "overflow_y": null,
      "padding": null,
      "right": null,
      "top": null,
      "visibility": null,
      "width": null
     }
    },
    "590434dd89ee48e29e4a8a2c274c5c53": {
     "model_module": "@jupyter-widgets/controls",
     "model_module_version": "1.5.0",
     "model_name": "HTMLModel",
     "state": {
      "_dom_classes": [],
      "_model_module": "@jupyter-widgets/controls",
      "_model_module_version": "1.5.0",
      "_model_name": "HTMLModel",
      "_view_count": null,
      "_view_module": "@jupyter-widgets/controls",
      "_view_module_version": "1.5.0",
      "_view_name": "HTMLView",
      "description": "",
      "description_tooltip": null,
      "layout": "IPY_MODEL_4ab2a7cacbd4448bb7e1900139ba7f1a",
      "placeholder": "​",
      "style": "IPY_MODEL_4341486e91614581909fa67fadc90d48",
      "value": "Downloading (…)lve/main/config.json: 100%"
     }
    },
    "598a61bb19da461c9257b86a21c963cf": {
     "model_module": "@jupyter-widgets/controls",
     "model_module_version": "1.5.0",
     "model_name": "ProgressStyleModel",
     "state": {
      "_model_module": "@jupyter-widgets/controls",
      "_model_module_version": "1.5.0",
      "_model_name": "ProgressStyleModel",
      "_view_count": null,
      "_view_module": "@jupyter-widgets/base",
      "_view_module_version": "1.2.0",
      "_view_name": "StyleView",
      "bar_color": null,
      "description_width": ""
     }
    },
    "5af30da4716c4bfc96a7ff53ab2255f1": {
     "model_module": "@jupyter-widgets/controls",
     "model_module_version": "1.5.0",
     "model_name": "HTMLModel",
     "state": {
      "_dom_classes": [],
      "_model_module": "@jupyter-widgets/controls",
      "_model_module_version": "1.5.0",
      "_model_name": "HTMLModel",
      "_view_count": null,
      "_view_module": "@jupyter-widgets/controls",
      "_view_module_version": "1.5.0",
      "_view_name": "HTMLView",
      "description": "",
      "description_tooltip": null,
      "layout": "IPY_MODEL_d17523ae711f442690b81f29b351d363",
      "placeholder": "​",
      "style": "IPY_MODEL_a03055e17979435892821dcb79ae1524",
      "value": "Map: 100%"
     }
    },
    "5b7ae7c1cecd47c3a9289ef817567975": {
     "model_module": "@jupyter-widgets/controls",
     "model_module_version": "1.5.0",
     "model_name": "ProgressStyleModel",
     "state": {
      "_model_module": "@jupyter-widgets/controls",
      "_model_module_version": "1.5.0",
      "_model_name": "ProgressStyleModel",
      "_view_count": null,
      "_view_module": "@jupyter-widgets/base",
      "_view_module_version": "1.2.0",
      "_view_name": "StyleView",
      "bar_color": null,
      "description_width": ""
     }
    },
    "5bbcad5e25f74579b2ab8d64e3b77723": {
     "model_module": "@jupyter-widgets/controls",
     "model_module_version": "1.5.0",
     "model_name": "ProgressStyleModel",
     "state": {
      "_model_module": "@jupyter-widgets/controls",
      "_model_module_version": "1.5.0",
      "_model_name": "ProgressStyleModel",
      "_view_count": null,
      "_view_module": "@jupyter-widgets/base",
      "_view_module_version": "1.2.0",
      "_view_name": "StyleView",
      "bar_color": null,
      "description_width": ""
     }
    },
    "5be8aae242ce4c79aac0d83f789122a7": {
     "model_module": "@jupyter-widgets/controls",
     "model_module_version": "1.5.0",
     "model_name": "ProgressStyleModel",
     "state": {
      "_model_module": "@jupyter-widgets/controls",
      "_model_module_version": "1.5.0",
      "_model_name": "ProgressStyleModel",
      "_view_count": null,
      "_view_module": "@jupyter-widgets/base",
      "_view_module_version": "1.2.0",
      "_view_name": "StyleView",
      "bar_color": null,
      "description_width": ""
     }
    },
    "5c28a96c917e41bf9b62fedc677d9663": {
     "model_module": "@jupyter-widgets/controls",
     "model_module_version": "1.5.0",
     "model_name": "HTMLModel",
     "state": {
      "_dom_classes": [],
      "_model_module": "@jupyter-widgets/controls",
      "_model_module_version": "1.5.0",
      "_model_name": "HTMLModel",
      "_view_count": null,
      "_view_module": "@jupyter-widgets/controls",
      "_view_module_version": "1.5.0",
      "_view_name": "HTMLView",
      "description": "",
      "description_tooltip": null,
      "layout": "IPY_MODEL_9a6805866e9a4aaebabfdea1a9754bd8",
      "placeholder": "​",
      "style": "IPY_MODEL_17fb0f28a2a14c9b91a37a09f21b6e3c",
      "value": "Map: 100%"
     }
    },
    "5c9d700dd2ec4c0d92231652d9d50758": {
     "model_module": "@jupyter-widgets/controls",
     "model_module_version": "1.5.0",
     "model_name": "ProgressStyleModel",
     "state": {
      "_model_module": "@jupyter-widgets/controls",
      "_model_module_version": "1.5.0",
      "_model_name": "ProgressStyleModel",
      "_view_count": null,
      "_view_module": "@jupyter-widgets/base",
      "_view_module_version": "1.2.0",
      "_view_name": "StyleView",
      "bar_color": null,
      "description_width": ""
     }
    },
    "5cc744a17a254e739b953518f2b4d47c": {
     "model_module": "@jupyter-widgets/base",
     "model_module_version": "1.2.0",
     "model_name": "LayoutModel",
     "state": {
      "_model_module": "@jupyter-widgets/base",
      "_model_module_version": "1.2.0",
      "_model_name": "LayoutModel",
      "_view_count": null,
      "_view_module": "@jupyter-widgets/base",
      "_view_module_version": "1.2.0",
      "_view_name": "LayoutView",
      "align_content": null,
      "align_items": null,
      "align_self": null,
      "border": null,
      "bottom": null,
      "display": null,
      "flex": null,
      "flex_flow": null,
      "grid_area": null,
      "grid_auto_columns": null,
      "grid_auto_flow": null,
      "grid_auto_rows": null,
      "grid_column": null,
      "grid_gap": null,
      "grid_row": null,
      "grid_template_areas": null,
      "grid_template_columns": null,
      "grid_template_rows": null,
      "height": null,
      "justify_content": null,
      "justify_items": null,
      "left": null,
      "margin": null,
      "max_height": null,
      "max_width": null,
      "min_height": null,
      "min_width": null,
      "object_fit": null,
      "object_position": null,
      "order": null,
      "overflow": null,
      "overflow_x": null,
      "overflow_y": null,
      "padding": null,
      "right": null,
      "top": null,
      "visibility": null,
      "width": null
     }
    },
    "5ddaead5423c4750aa5ceabb2f35e860": {
     "model_module": "@jupyter-widgets/controls",
     "model_module_version": "1.5.0",
     "model_name": "HTMLModel",
     "state": {
      "_dom_classes": [],
      "_model_module": "@jupyter-widgets/controls",
      "_model_module_version": "1.5.0",
      "_model_name": "HTMLModel",
      "_view_count": null,
      "_view_module": "@jupyter-widgets/controls",
      "_view_module_version": "1.5.0",
      "_view_name": "HTMLView",
      "description": "",
      "description_tooltip": null,
      "layout": "IPY_MODEL_73f44d8a81bf480d831cc2630a054185",
      "placeholder": "​",
      "style": "IPY_MODEL_b778db445dad4a328e2906d989745d53",
      "value": "Downloading (…)/main/tokenizer.json: 100%"
     }
    },
    "5e35c165cbb14ba0a5f3098b362a6ef6": {
     "model_module": "@jupyter-widgets/controls",
     "model_module_version": "1.5.0",
     "model_name": "HTMLModel",
     "state": {
      "_dom_classes": [],
      "_model_module": "@jupyter-widgets/controls",
      "_model_module_version": "1.5.0",
      "_model_name": "HTMLModel",
      "_view_count": null,
      "_view_module": "@jupyter-widgets/controls",
      "_view_module_version": "1.5.0",
      "_view_name": "HTMLView",
      "description": "",
      "description_tooltip": null,
      "layout": "IPY_MODEL_670ba37f36524d7699ff3b5be9952b09",
      "placeholder": "​",
      "style": "IPY_MODEL_1a6934c3c9614c45a6ab239dcf90bc6a",
      "value": "Downloading model.safetensors: 100%"
     }
    },
    "5ec82e416c714d6f912c1d08afed5349": {
     "model_module": "@jupyter-widgets/base",
     "model_module_version": "1.2.0",
     "model_name": "LayoutModel",
     "state": {
      "_model_module": "@jupyter-widgets/base",
      "_model_module_version": "1.2.0",
      "_model_name": "LayoutModel",
      "_view_count": null,
      "_view_module": "@jupyter-widgets/base",
      "_view_module_version": "1.2.0",
      "_view_name": "LayoutView",
      "align_content": null,
      "align_items": null,
      "align_self": null,
      "border": null,
      "bottom": null,
      "display": null,
      "flex": null,
      "flex_flow": null,
      "grid_area": null,
      "grid_auto_columns": null,
      "grid_auto_flow": null,
      "grid_auto_rows": null,
      "grid_column": null,
      "grid_gap": null,
      "grid_row": null,
      "grid_template_areas": null,
      "grid_template_columns": null,
      "grid_template_rows": null,
      "height": null,
      "justify_content": null,
      "justify_items": null,
      "left": null,
      "margin": null,
      "max_height": null,
      "max_width": null,
      "min_height": null,
      "min_width": null,
      "object_fit": null,
      "object_position": null,
      "order": null,
      "overflow": null,
      "overflow_x": null,
      "overflow_y": null,
      "padding": null,
      "right": null,
      "top": null,
      "visibility": null,
      "width": "20px"
     }
    },
    "5fde17667ee94504abd7b7bcc3d110ff": {
     "model_module": "@jupyter-widgets/base",
     "model_module_version": "1.2.0",
     "model_name": "LayoutModel",
     "state": {
      "_model_module": "@jupyter-widgets/base",
      "_model_module_version": "1.2.0",
      "_model_name": "LayoutModel",
      "_view_count": null,
      "_view_module": "@jupyter-widgets/base",
      "_view_module_version": "1.2.0",
      "_view_name": "LayoutView",
      "align_content": null,
      "align_items": null,
      "align_self": null,
      "border": null,
      "bottom": null,
      "display": null,
      "flex": null,
      "flex_flow": null,
      "grid_area": null,
      "grid_auto_columns": null,
      "grid_auto_flow": null,
      "grid_auto_rows": null,
      "grid_column": null,
      "grid_gap": null,
      "grid_row": null,
      "grid_template_areas": null,
      "grid_template_columns": null,
      "grid_template_rows": null,
      "height": null,
      "justify_content": null,
      "justify_items": null,
      "left": null,
      "margin": null,
      "max_height": null,
      "max_width": null,
      "min_height": null,
      "min_width": null,
      "object_fit": null,
      "object_position": null,
      "order": null,
      "overflow": null,
      "overflow_x": null,
      "overflow_y": null,
      "padding": null,
      "right": null,
      "top": null,
      "visibility": null,
      "width": null
     }
    },
    "6069b24de11f468f8cbb3360ffd1fb09": {
     "model_module": "@jupyter-widgets/controls",
     "model_module_version": "1.5.0",
     "model_name": "HBoxModel",
     "state": {
      "_dom_classes": [],
      "_model_module": "@jupyter-widgets/controls",
      "_model_module_version": "1.5.0",
      "_model_name": "HBoxModel",
      "_view_count": null,
      "_view_module": "@jupyter-widgets/controls",
      "_view_module_version": "1.5.0",
      "_view_name": "HBoxView",
      "box_style": "",
      "children": [
       "IPY_MODEL_5778e23acab7487cbd3c12d70dbbf1ba",
       "IPY_MODEL_e8b1e8864ce245f3bcaa1ac7ae5f54de",
       "IPY_MODEL_4044fc511d4e479782cf80c63ef73e26"
      ],
      "layout": "IPY_MODEL_bf1fc60432234eb7a005859476802687"
     }
    },
    "610cb20066c34d948550f9560e498430": {
     "model_module": "@jupyter-widgets/controls",
     "model_module_version": "1.5.0",
     "model_name": "HTMLModel",
     "state": {
      "_dom_classes": [],
      "_model_module": "@jupyter-widgets/controls",
      "_model_module_version": "1.5.0",
      "_model_name": "HTMLModel",
      "_view_count": null,
      "_view_module": "@jupyter-widgets/controls",
      "_view_module_version": "1.5.0",
      "_view_name": "HTMLView",
      "description": "",
      "description_tooltip": null,
      "layout": "IPY_MODEL_e34df6b7762b42169b6a38cb1db49c79",
      "placeholder": "​",
      "style": "IPY_MODEL_cdad8f4cd3dd4e15be22b26eeb81813d",
      "value": " 232k/232k [00:00&lt;00:00, 3.81MB/s]"
     }
    },
    "61d5d21f585a4c4a8a4e0661ebab0978": {
     "model_module": "@jupyter-widgets/base",
     "model_module_version": "1.2.0",
     "model_name": "LayoutModel",
     "state": {
      "_model_module": "@jupyter-widgets/base",
      "_model_module_version": "1.2.0",
      "_model_name": "LayoutModel",
      "_view_count": null,
      "_view_module": "@jupyter-widgets/base",
      "_view_module_version": "1.2.0",
      "_view_name": "LayoutView",
      "align_content": null,
      "align_items": null,
      "align_self": null,
      "border": null,
      "bottom": null,
      "display": null,
      "flex": null,
      "flex_flow": null,
      "grid_area": null,
      "grid_auto_columns": null,
      "grid_auto_flow": null,
      "grid_auto_rows": null,
      "grid_column": null,
      "grid_gap": null,
      "grid_row": null,
      "grid_template_areas": null,
      "grid_template_columns": null,
      "grid_template_rows": null,
      "height": null,
      "justify_content": null,
      "justify_items": null,
      "left": null,
      "margin": null,
      "max_height": null,
      "max_width": null,
      "min_height": null,
      "min_width": null,
      "object_fit": null,
      "object_position": null,
      "order": null,
      "overflow": null,
      "overflow_x": null,
      "overflow_y": null,
      "padding": null,
      "right": null,
      "top": null,
      "visibility": null,
      "width": "20px"
     }
    },
    "61e0249981a6424f8a011cc10ef08b88": {
     "model_module": "@jupyter-widgets/controls",
     "model_module_version": "1.5.0",
     "model_name": "FloatProgressModel",
     "state": {
      "_dom_classes": [],
      "_model_module": "@jupyter-widgets/controls",
      "_model_module_version": "1.5.0",
      "_model_name": "FloatProgressModel",
      "_view_count": null,
      "_view_module": "@jupyter-widgets/controls",
      "_view_module_version": "1.5.0",
      "_view_name": "ProgressView",
      "bar_style": "success",
      "description": "",
      "description_tooltip": null,
      "layout": "IPY_MODEL_5ec82e416c714d6f912c1d08afed5349",
      "max": 1,
      "min": 0,
      "orientation": "horizontal",
      "style": "IPY_MODEL_5be8aae242ce4c79aac0d83f789122a7",
      "value": 1
     }
    },
    "61f7bb49e16e486781de91a2975dc83e": {
     "model_module": "@jupyter-widgets/controls",
     "model_module_version": "1.5.0",
     "model_name": "DescriptionStyleModel",
     "state": {
      "_model_module": "@jupyter-widgets/controls",
      "_model_module_version": "1.5.0",
      "_model_name": "DescriptionStyleModel",
      "_view_count": null,
      "_view_module": "@jupyter-widgets/base",
      "_view_module_version": "1.2.0",
      "_view_name": "StyleView",
      "description_width": ""
     }
    },
    "620aa9d515854ad181db286a7fb44ae8": {
     "model_module": "@jupyter-widgets/controls",
     "model_module_version": "1.5.0",
     "model_name": "HTMLModel",
     "state": {
      "_dom_classes": [],
      "_model_module": "@jupyter-widgets/controls",
      "_model_module_version": "1.5.0",
      "_model_name": "HTMLModel",
      "_view_count": null,
      "_view_module": "@jupyter-widgets/controls",
      "_view_module_version": "1.5.0",
      "_view_name": "HTMLView",
      "description": "",
      "description_tooltip": null,
      "layout": "IPY_MODEL_e9905466f9744164971e84d9bbb0354c",
      "placeholder": "​",
      "style": "IPY_MODEL_18d184687008423c94560b773dcf41f9",
      "value": " 771/771 [00:00&lt;00:00, 4497.55 examples/s]"
     }
    },
    "62da2d8125004d458561df0fdc09d244": {
     "model_module": "@jupyter-widgets/controls",
     "model_module_version": "1.5.0",
     "model_name": "ProgressStyleModel",
     "state": {
      "_model_module": "@jupyter-widgets/controls",
      "_model_module_version": "1.5.0",
      "_model_name": "ProgressStyleModel",
      "_view_count": null,
      "_view_module": "@jupyter-widgets/base",
      "_view_module_version": "1.2.0",
      "_view_name": "StyleView",
      "bar_color": null,
      "description_width": ""
     }
    },
    "63088a4b7fcb497d8db10b9ba6530e20": {
     "model_module": "@jupyter-widgets/base",
     "model_module_version": "1.2.0",
     "model_name": "LayoutModel",
     "state": {
      "_model_module": "@jupyter-widgets/base",
      "_model_module_version": "1.2.0",
      "_model_name": "LayoutModel",
      "_view_count": null,
      "_view_module": "@jupyter-widgets/base",
      "_view_module_version": "1.2.0",
      "_view_name": "LayoutView",
      "align_content": null,
      "align_items": null,
      "align_self": null,
      "border": null,
      "bottom": null,
      "display": null,
      "flex": null,
      "flex_flow": null,
      "grid_area": null,
      "grid_auto_columns": null,
      "grid_auto_flow": null,
      "grid_auto_rows": null,
      "grid_column": null,
      "grid_gap": null,
      "grid_row": null,
      "grid_template_areas": null,
      "grid_template_columns": null,
      "grid_template_rows": null,
      "height": null,
      "justify_content": null,
      "justify_items": null,
      "left": null,
      "margin": null,
      "max_height": null,
      "max_width": null,
      "min_height": null,
      "min_width": null,
      "object_fit": null,
      "object_position": null,
      "order": null,
      "overflow": null,
      "overflow_x": null,
      "overflow_y": null,
      "padding": null,
      "right": null,
      "top": null,
      "visibility": null,
      "width": null
     }
    },
    "631233cb0483400eb95bb77b4217f7c4": {
     "model_module": "@jupyter-widgets/controls",
     "model_module_version": "1.5.0",
     "model_name": "FloatProgressModel",
     "state": {
      "_dom_classes": [],
      "_model_module": "@jupyter-widgets/controls",
      "_model_module_version": "1.5.0",
      "_model_name": "FloatProgressModel",
      "_view_count": null,
      "_view_module": "@jupyter-widgets/controls",
      "_view_module_version": "1.5.0",
      "_view_name": "ProgressView",
      "bar_style": "success",
      "description": "",
      "description_tooltip": null,
      "layout": "IPY_MODEL_a3d8dcdcb68140cc9a836824d0b301b9",
      "max": 771,
      "min": 0,
      "orientation": "horizontal",
      "style": "IPY_MODEL_b00f91de164a49c3bfe1759a685a126f",
      "value": 771
     }
    },
    "632a507543cd43108c278887d0c0e0b3": {
     "model_module": "@jupyter-widgets/controls",
     "model_module_version": "1.5.0",
     "model_name": "ProgressStyleModel",
     "state": {
      "_model_module": "@jupyter-widgets/controls",
      "_model_module_version": "1.5.0",
      "_model_name": "ProgressStyleModel",
      "_view_count": null,
      "_view_module": "@jupyter-widgets/base",
      "_view_module_version": "1.2.0",
      "_view_name": "StyleView",
      "bar_color": null,
      "description_width": ""
     }
    },
    "63a4322a79ce4ed9ade9951a68184c79": {
     "model_module": "@jupyter-widgets/base",
     "model_module_version": "1.2.0",
     "model_name": "LayoutModel",
     "state": {
      "_model_module": "@jupyter-widgets/base",
      "_model_module_version": "1.2.0",
      "_model_name": "LayoutModel",
      "_view_count": null,
      "_view_module": "@jupyter-widgets/base",
      "_view_module_version": "1.2.0",
      "_view_name": "LayoutView",
      "align_content": null,
      "align_items": null,
      "align_self": null,
      "border": null,
      "bottom": null,
      "display": null,
      "flex": null,
      "flex_flow": null,
      "grid_area": null,
      "grid_auto_columns": null,
      "grid_auto_flow": null,
      "grid_auto_rows": null,
      "grid_column": null,
      "grid_gap": null,
      "grid_row": null,
      "grid_template_areas": null,
      "grid_template_columns": null,
      "grid_template_rows": null,
      "height": null,
      "justify_content": null,
      "justify_items": null,
      "left": null,
      "margin": null,
      "max_height": null,
      "max_width": null,
      "min_height": null,
      "min_width": null,
      "object_fit": null,
      "object_position": null,
      "order": null,
      "overflow": null,
      "overflow_x": null,
      "overflow_y": null,
      "padding": null,
      "right": null,
      "top": null,
      "visibility": null,
      "width": null
     }
    },
    "63cb88869a0e473dacec5a6e43f4731a": {
     "model_module": "@jupyter-widgets/controls",
     "model_module_version": "1.5.0",
     "model_name": "HTMLModel",
     "state": {
      "_dom_classes": [],
      "_model_module": "@jupyter-widgets/controls",
      "_model_module_version": "1.5.0",
      "_model_name": "HTMLModel",
      "_view_count": null,
      "_view_module": "@jupyter-widgets/controls",
      "_view_module_version": "1.5.0",
      "_view_name": "HTMLView",
      "description": "",
      "description_tooltip": null,
      "layout": "IPY_MODEL_58c6a66e017447d990f0383c1fdb57f0",
      "placeholder": "​",
      "style": "IPY_MODEL_bf91c89808db4dd498cfd7da6dda0cec",
      "value": " 483/483 [00:00&lt;00:00, 37.8kB/s]"
     }
    },
    "648574ba3cfd4190ae44289b68d3371f": {
     "model_module": "@jupyter-widgets/base",
     "model_module_version": "1.2.0",
     "model_name": "LayoutModel",
     "state": {
      "_model_module": "@jupyter-widgets/base",
      "_model_module_version": "1.2.0",
      "_model_name": "LayoutModel",
      "_view_count": null,
      "_view_module": "@jupyter-widgets/base",
      "_view_module_version": "1.2.0",
      "_view_name": "LayoutView",
      "align_content": null,
      "align_items": null,
      "align_self": null,
      "border": null,
      "bottom": null,
      "display": null,
      "flex": null,
      "flex_flow": null,
      "grid_area": null,
      "grid_auto_columns": null,
      "grid_auto_flow": null,
      "grid_auto_rows": null,
      "grid_column": null,
      "grid_gap": null,
      "grid_row": null,
      "grid_template_areas": null,
      "grid_template_columns": null,
      "grid_template_rows": null,
      "height": null,
      "justify_content": null,
      "justify_items": null,
      "left": null,
      "margin": null,
      "max_height": null,
      "max_width": null,
      "min_height": null,
      "min_width": null,
      "object_fit": null,
      "object_position": null,
      "order": null,
      "overflow": null,
      "overflow_x": null,
      "overflow_y": null,
      "padding": null,
      "right": null,
      "top": null,
      "visibility": null,
      "width": null
     }
    },
    "650796f942bc4b69a9bcd7a868dfd9b6": {
     "model_module": "@jupyter-widgets/controls",
     "model_module_version": "1.5.0",
     "model_name": "HTMLModel",
     "state": {
      "_dom_classes": [],
      "_model_module": "@jupyter-widgets/controls",
      "_model_module_version": "1.5.0",
      "_model_name": "HTMLModel",
      "_view_count": null,
      "_view_module": "@jupyter-widgets/controls",
      "_view_module_version": "1.5.0",
      "_view_name": "HTMLView",
      "description": "",
      "description_tooltip": null,
      "layout": "IPY_MODEL_73efbdd1defc424dae2b39c40d289785",
      "placeholder": "​",
      "style": "IPY_MODEL_6b43d9e9587f4cefa6adf350dde8f1f1",
      "value": " 1612/0 [00:00&lt;00:00, 35682.64 examples/s]"
     }
    },
    "66e11e6ec71f4a2f87c6219bfa32d526": {
     "model_module": "@jupyter-widgets/controls",
     "model_module_version": "1.5.0",
     "model_name": "FloatProgressModel",
     "state": {
      "_dom_classes": [],
      "_model_module": "@jupyter-widgets/controls",
      "_model_module_version": "1.5.0",
      "_model_name": "FloatProgressModel",
      "_view_count": null,
      "_view_module": "@jupyter-widgets/controls",
      "_view_module_version": "1.5.0",
      "_view_name": "ProgressView",
      "bar_style": "success",
      "description": "",
      "description_tooltip": null,
      "layout": "IPY_MODEL_ef6674bcc2cc493d98836651caf42ae8",
      "max": 1355256,
      "min": 0,
      "orientation": "horizontal",
      "style": "IPY_MODEL_7e00183725e742c0b1146b61fd258d49",
      "value": 1355256
     }
    },
    "670ba37f36524d7699ff3b5be9952b09": {
     "model_module": "@jupyter-widgets/base",
     "model_module_version": "1.2.0",
     "model_name": "LayoutModel",
     "state": {
      "_model_module": "@jupyter-widgets/base",
      "_model_module_version": "1.2.0",
      "_model_name": "LayoutModel",
      "_view_count": null,
      "_view_module": "@jupyter-widgets/base",
      "_view_module_version": "1.2.0",
      "_view_name": "LayoutView",
      "align_content": null,
      "align_items": null,
      "align_self": null,
      "border": null,
      "bottom": null,
      "display": null,
      "flex": null,
      "flex_flow": null,
      "grid_area": null,
      "grid_auto_columns": null,
      "grid_auto_flow": null,
      "grid_auto_rows": null,
      "grid_column": null,
      "grid_gap": null,
      "grid_row": null,
      "grid_template_areas": null,
      "grid_template_columns": null,
      "grid_template_rows": null,
      "height": null,
      "justify_content": null,
      "justify_items": null,
      "left": null,
      "margin": null,
      "max_height": null,
      "max_width": null,
      "min_height": null,
      "min_width": null,
      "object_fit": null,
      "object_position": null,
      "order": null,
      "overflow": null,
      "overflow_x": null,
      "overflow_y": null,
      "padding": null,
      "right": null,
      "top": null,
      "visibility": null,
      "width": null
     }
    },
    "671a21b847754ec8b027956e53c5f337": {
     "model_module": "@jupyter-widgets/base",
     "model_module_version": "1.2.0",
     "model_name": "LayoutModel",
     "state": {
      "_model_module": "@jupyter-widgets/base",
      "_model_module_version": "1.2.0",
      "_model_name": "LayoutModel",
      "_view_count": null,
      "_view_module": "@jupyter-widgets/base",
      "_view_module_version": "1.2.0",
      "_view_name": "LayoutView",
      "align_content": null,
      "align_items": null,
      "align_self": null,
      "border": null,
      "bottom": null,
      "display": null,
      "flex": null,
      "flex_flow": null,
      "grid_area": null,
      "grid_auto_columns": null,
      "grid_auto_flow": null,
      "grid_auto_rows": null,
      "grid_column": null,
      "grid_gap": null,
      "grid_row": null,
      "grid_template_areas": null,
      "grid_template_columns": null,
      "grid_template_rows": null,
      "height": null,
      "justify_content": null,
      "justify_items": null,
      "left": null,
      "margin": null,
      "max_height": null,
      "max_width": null,
      "min_height": null,
      "min_width": null,
      "object_fit": null,
      "object_position": null,
      "order": null,
      "overflow": null,
      "overflow_x": null,
      "overflow_y": null,
      "padding": null,
      "right": null,
      "top": null,
      "visibility": null,
      "width": null
     }
    },
    "6756718ae9e14f23858d2d0000d11fce": {
     "model_module": "@jupyter-widgets/controls",
     "model_module_version": "1.5.0",
     "model_name": "DescriptionStyleModel",
     "state": {
      "_model_module": "@jupyter-widgets/controls",
      "_model_module_version": "1.5.0",
      "_model_name": "DescriptionStyleModel",
      "_view_count": null,
      "_view_module": "@jupyter-widgets/base",
      "_view_module_version": "1.2.0",
      "_view_name": "StyleView",
      "description_width": ""
     }
    },
    "67b82af834bf4526b730bfa4fc8d4ad3": {
     "model_module": "@jupyter-widgets/controls",
     "model_module_version": "1.5.0",
     "model_name": "FloatProgressModel",
     "state": {
      "_dom_classes": [],
      "_model_module": "@jupyter-widgets/controls",
      "_model_module_version": "1.5.0",
      "_model_name": "FloatProgressModel",
      "_view_count": null,
      "_view_module": "@jupyter-widgets/controls",
      "_view_module_version": "1.5.0",
      "_view_name": "ProgressView",
      "bar_style": "success",
      "description": "",
      "description_tooltip": null,
      "layout": "IPY_MODEL_74e12fd6e60f4cdaad14590776eac2e8",
      "max": 1042301,
      "min": 0,
      "orientation": "horizontal",
      "style": "IPY_MODEL_8246472500284ad18f8a1732bc351bfd",
      "value": 1042301
     }
    },
    "68423cc470b84d56b509e43e7d0622fc": {
     "model_module": "@jupyter-widgets/controls",
     "model_module_version": "1.5.0",
     "model_name": "DescriptionStyleModel",
     "state": {
      "_model_module": "@jupyter-widgets/controls",
      "_model_module_version": "1.5.0",
      "_model_name": "DescriptionStyleModel",
      "_view_count": null,
      "_view_module": "@jupyter-widgets/base",
      "_view_module_version": "1.2.0",
      "_view_name": "StyleView",
      "description_width": ""
     }
    },
    "684d4d25c7654a24b7e50775fd8f5bc4": {
     "model_module": "@jupyter-widgets/controls",
     "model_module_version": "1.5.0",
     "model_name": "DescriptionStyleModel",
     "state": {
      "_model_module": "@jupyter-widgets/controls",
      "_model_module_version": "1.5.0",
      "_model_name": "DescriptionStyleModel",
      "_view_count": null,
      "_view_module": "@jupyter-widgets/base",
      "_view_module_version": "1.2.0",
      "_view_name": "StyleView",
      "description_width": ""
     }
    },
    "68ff6fe07e8244cf8eca148e5d595b69": {
     "model_module": "@jupyter-widgets/base",
     "model_module_version": "1.2.0",
     "model_name": "LayoutModel",
     "state": {
      "_model_module": "@jupyter-widgets/base",
      "_model_module_version": "1.2.0",
      "_model_name": "LayoutModel",
      "_view_count": null,
      "_view_module": "@jupyter-widgets/base",
      "_view_module_version": "1.2.0",
      "_view_name": "LayoutView",
      "align_content": null,
      "align_items": null,
      "align_self": null,
      "border": null,
      "bottom": null,
      "display": null,
      "flex": null,
      "flex_flow": null,
      "grid_area": null,
      "grid_auto_columns": null,
      "grid_auto_flow": null,
      "grid_auto_rows": null,
      "grid_column": null,
      "grid_gap": null,
      "grid_row": null,
      "grid_template_areas": null,
      "grid_template_columns": null,
      "grid_template_rows": null,
      "height": null,
      "justify_content": null,
      "justify_items": null,
      "left": null,
      "margin": null,
      "max_height": null,
      "max_width": null,
      "min_height": null,
      "min_width": null,
      "object_fit": null,
      "object_position": null,
      "order": null,
      "overflow": null,
      "overflow_x": null,
      "overflow_y": null,
      "padding": null,
      "right": null,
      "top": null,
      "visibility": null,
      "width": null
     }
    },
    "69782579b2ad412b992f2204b9325dd8": {
     "model_module": "@jupyter-widgets/base",
     "model_module_version": "1.2.0",
     "model_name": "LayoutModel",
     "state": {
      "_model_module": "@jupyter-widgets/base",
      "_model_module_version": "1.2.0",
      "_model_name": "LayoutModel",
      "_view_count": null,
      "_view_module": "@jupyter-widgets/base",
      "_view_module_version": "1.2.0",
      "_view_name": "LayoutView",
      "align_content": null,
      "align_items": null,
      "align_self": null,
      "border": null,
      "bottom": null,
      "display": null,
      "flex": null,
      "flex_flow": null,
      "grid_area": null,
      "grid_auto_columns": null,
      "grid_auto_flow": null,
      "grid_auto_rows": null,
      "grid_column": null,
      "grid_gap": null,
      "grid_row": null,
      "grid_template_areas": null,
      "grid_template_columns": null,
      "grid_template_rows": null,
      "height": null,
      "justify_content": null,
      "justify_items": null,
      "left": null,
      "margin": null,
      "max_height": null,
      "max_width": null,
      "min_height": null,
      "min_width": null,
      "object_fit": null,
      "object_position": null,
      "order": null,
      "overflow": null,
      "overflow_x": null,
      "overflow_y": null,
      "padding": null,
      "right": null,
      "top": null,
      "visibility": null,
      "width": null
     }
    },
    "6b436b11235a41c98bf37edcab77e6a8": {
     "model_module": "@jupyter-widgets/controls",
     "model_module_version": "1.5.0",
     "model_name": "HBoxModel",
     "state": {
      "_dom_classes": [],
      "_model_module": "@jupyter-widgets/controls",
      "_model_module_version": "1.5.0",
      "_model_name": "HBoxModel",
      "_view_count": null,
      "_view_module": "@jupyter-widgets/controls",
      "_view_module_version": "1.5.0",
      "_view_name": "HBoxView",
      "box_style": "",
      "children": [
       "IPY_MODEL_028efd79c4aa49f090fde0d01507518e",
       "IPY_MODEL_2f84f62aa77b4738b3eff4bacfe28179",
       "IPY_MODEL_c7789d7688fd44159f8680d23616d9ec"
      ],
      "layout": "IPY_MODEL_db7fe2b698aa417fa37b850a5b9ff9ad"
     }
    },
    "6b43d9e9587f4cefa6adf350dde8f1f1": {
     "model_module": "@jupyter-widgets/controls",
     "model_module_version": "1.5.0",
     "model_name": "DescriptionStyleModel",
     "state": {
      "_model_module": "@jupyter-widgets/controls",
      "_model_module_version": "1.5.0",
      "_model_name": "DescriptionStyleModel",
      "_view_count": null,
      "_view_module": "@jupyter-widgets/base",
      "_view_module_version": "1.2.0",
      "_view_name": "StyleView",
      "description_width": ""
     }
    },
    "6b5f3c6e7aa941799ea143fbaf6391ed": {
     "model_module": "@jupyter-widgets/base",
     "model_module_version": "1.2.0",
     "model_name": "LayoutModel",
     "state": {
      "_model_module": "@jupyter-widgets/base",
      "_model_module_version": "1.2.0",
      "_model_name": "LayoutModel",
      "_view_count": null,
      "_view_module": "@jupyter-widgets/base",
      "_view_module_version": "1.2.0",
      "_view_name": "LayoutView",
      "align_content": null,
      "align_items": null,
      "align_self": null,
      "border": null,
      "bottom": null,
      "display": null,
      "flex": null,
      "flex_flow": null,
      "grid_area": null,
      "grid_auto_columns": null,
      "grid_auto_flow": null,
      "grid_auto_rows": null,
      "grid_column": null,
      "grid_gap": null,
      "grid_row": null,
      "grid_template_areas": null,
      "grid_template_columns": null,
      "grid_template_rows": null,
      "height": null,
      "justify_content": null,
      "justify_items": null,
      "left": null,
      "margin": null,
      "max_height": null,
      "max_width": null,
      "min_height": null,
      "min_width": null,
      "object_fit": null,
      "object_position": null,
      "order": null,
      "overflow": null,
      "overflow_x": null,
      "overflow_y": null,
      "padding": null,
      "right": null,
      "top": null,
      "visibility": null,
      "width": null
     }
    },
    "6c0631dec58c4ee69369c25e38b045f6": {
     "model_module": "@jupyter-widgets/base",
     "model_module_version": "1.2.0",
     "model_name": "LayoutModel",
     "state": {
      "_model_module": "@jupyter-widgets/base",
      "_model_module_version": "1.2.0",
      "_model_name": "LayoutModel",
      "_view_count": null,
      "_view_module": "@jupyter-widgets/base",
      "_view_module_version": "1.2.0",
      "_view_name": "LayoutView",
      "align_content": null,
      "align_items": null,
      "align_self": null,
      "border": null,
      "bottom": null,
      "display": null,
      "flex": null,
      "flex_flow": null,
      "grid_area": null,
      "grid_auto_columns": null,
      "grid_auto_flow": null,
      "grid_auto_rows": null,
      "grid_column": null,
      "grid_gap": null,
      "grid_row": null,
      "grid_template_areas": null,
      "grid_template_columns": null,
      "grid_template_rows": null,
      "height": null,
      "justify_content": null,
      "justify_items": null,
      "left": null,
      "margin": null,
      "max_height": null,
      "max_width": null,
      "min_height": null,
      "min_width": null,
      "object_fit": null,
      "object_position": null,
      "order": null,
      "overflow": null,
      "overflow_x": null,
      "overflow_y": null,
      "padding": null,
      "right": null,
      "top": null,
      "visibility": null,
      "width": null
     }
    },
    "6c7078294d0a48d1b628e396e704497d": {
     "model_module": "@jupyter-widgets/controls",
     "model_module_version": "1.5.0",
     "model_name": "DescriptionStyleModel",
     "state": {
      "_model_module": "@jupyter-widgets/controls",
      "_model_module_version": "1.5.0",
      "_model_name": "DescriptionStyleModel",
      "_view_count": null,
      "_view_module": "@jupyter-widgets/base",
      "_view_module_version": "1.2.0",
      "_view_name": "StyleView",
      "description_width": ""
     }
    },
    "6d1dc17b66e54c768c9ccd75f91d3e91": {
     "model_module": "@jupyter-widgets/controls",
     "model_module_version": "1.5.0",
     "model_name": "HBoxModel",
     "state": {
      "_dom_classes": [],
      "_model_module": "@jupyter-widgets/controls",
      "_model_module_version": "1.5.0",
      "_model_name": "HBoxModel",
      "_view_count": null,
      "_view_module": "@jupyter-widgets/controls",
      "_view_module_version": "1.5.0",
      "_view_name": "HBoxView",
      "box_style": "",
      "children": [
       "IPY_MODEL_826781bbc9f24c7e8cf7d3c7dfb00d01",
       "IPY_MODEL_631233cb0483400eb95bb77b4217f7c4",
       "IPY_MODEL_620aa9d515854ad181db286a7fb44ae8"
      ],
      "layout": "IPY_MODEL_ac23cca0aca54d70bd0c13fca43386d2"
     }
    },
    "6f7870b5ddab4cd6ae6d6df571d624b0": {
     "model_module": "@jupyter-widgets/controls",
     "model_module_version": "1.5.0",
     "model_name": "DescriptionStyleModel",
     "state": {
      "_model_module": "@jupyter-widgets/controls",
      "_model_module_version": "1.5.0",
      "_model_name": "DescriptionStyleModel",
      "_view_count": null,
      "_view_module": "@jupyter-widgets/base",
      "_view_module_version": "1.2.0",
      "_view_name": "StyleView",
      "description_width": ""
     }
    },
    "6fac2174a8e64ce0a4b952238892d83d": {
     "model_module": "@jupyter-widgets/controls",
     "model_module_version": "1.5.0",
     "model_name": "HTMLModel",
     "state": {
      "_dom_classes": [],
      "_model_module": "@jupyter-widgets/controls",
      "_model_module_version": "1.5.0",
      "_model_name": "HTMLModel",
      "_view_count": null,
      "_view_module": "@jupyter-widgets/controls",
      "_view_module_version": "1.5.0",
      "_view_name": "HTMLView",
      "description": "",
      "description_tooltip": null,
      "layout": "IPY_MODEL_3151a4246102474da9da1912025ff995",
      "placeholder": "​",
      "style": "IPY_MODEL_c57435ffd8de4cea91481bf90804d664",
      "value": " 1/1 [00:00&lt;00:00, 66.90it/s]"
     }
    },
    "6ff4ff5036844be9bbd0993eb6173596": {
     "model_module": "@jupyter-widgets/controls",
     "model_module_version": "1.5.0",
     "model_name": "DescriptionStyleModel",
     "state": {
      "_model_module": "@jupyter-widgets/controls",
      "_model_module_version": "1.5.0",
      "_model_name": "DescriptionStyleModel",
      "_view_count": null,
      "_view_module": "@jupyter-widgets/base",
      "_view_module_version": "1.2.0",
      "_view_name": "StyleView",
      "description_width": ""
     }
    },
    "6ff6524cf1454919888e3967c7ca4728": {
     "model_module": "@jupyter-widgets/base",
     "model_module_version": "1.2.0",
     "model_name": "LayoutModel",
     "state": {
      "_model_module": "@jupyter-widgets/base",
      "_model_module_version": "1.2.0",
      "_model_name": "LayoutModel",
      "_view_count": null,
      "_view_module": "@jupyter-widgets/base",
      "_view_module_version": "1.2.0",
      "_view_name": "LayoutView",
      "align_content": null,
      "align_items": null,
      "align_self": null,
      "border": null,
      "bottom": null,
      "display": null,
      "flex": null,
      "flex_flow": null,
      "grid_area": null,
      "grid_auto_columns": null,
      "grid_auto_flow": null,
      "grid_auto_rows": null,
      "grid_column": null,
      "grid_gap": null,
      "grid_row": null,
      "grid_template_areas": null,
      "grid_template_columns": null,
      "grid_template_rows": null,
      "height": null,
      "justify_content": null,
      "justify_items": null,
      "left": null,
      "margin": null,
      "max_height": null,
      "max_width": null,
      "min_height": null,
      "min_width": null,
      "object_fit": null,
      "object_position": null,
      "order": null,
      "overflow": null,
      "overflow_x": null,
      "overflow_y": null,
      "padding": null,
      "right": null,
      "top": null,
      "visibility": null,
      "width": null
     }
    },
    "704fabe6625d498ea91de8237e8bc600": {
     "model_module": "@jupyter-widgets/controls",
     "model_module_version": "1.5.0",
     "model_name": "FloatProgressModel",
     "state": {
      "_dom_classes": [],
      "_model_module": "@jupyter-widgets/controls",
      "_model_module_version": "1.5.0",
      "_model_name": "FloatProgressModel",
      "_view_count": null,
      "_view_module": "@jupyter-widgets/controls",
      "_view_module_version": "1.5.0",
      "_view_name": "ProgressView",
      "bar_style": "success",
      "description": "",
      "description_tooltip": null,
      "layout": "IPY_MODEL_7987211ff4eb48a2a042ccc78a57b964",
      "max": 483,
      "min": 0,
      "orientation": "horizontal",
      "style": "IPY_MODEL_5bbcad5e25f74579b2ab8d64e3b77723",
      "value": 483
     }
    },
    "70c71e159df441f1819bc5b1ce8be618": {
     "model_module": "@jupyter-widgets/controls",
     "model_module_version": "1.5.0",
     "model_name": "ProgressStyleModel",
     "state": {
      "_model_module": "@jupyter-widgets/controls",
      "_model_module_version": "1.5.0",
      "_model_name": "ProgressStyleModel",
      "_view_count": null,
      "_view_module": "@jupyter-widgets/base",
      "_view_module_version": "1.2.0",
      "_view_name": "StyleView",
      "bar_color": null,
      "description_width": ""
     }
    },
    "717a6caa55834da9bdeb736a8bb9192f": {
     "model_module": "@jupyter-widgets/controls",
     "model_module_version": "1.5.0",
     "model_name": "FloatProgressModel",
     "state": {
      "_dom_classes": [],
      "_model_module": "@jupyter-widgets/controls",
      "_model_module_version": "1.5.0",
      "_model_name": "FloatProgressModel",
      "_view_count": null,
      "_view_module": "@jupyter-widgets/controls",
      "_view_module_version": "1.5.0",
      "_view_name": "ProgressView",
      "bar_style": "success",
      "description": "",
      "description_tooltip": null,
      "layout": "IPY_MODEL_241a564f58564f3690a3955def8e997f",
      "max": 231508,
      "min": 0,
      "orientation": "horizontal",
      "style": "IPY_MODEL_11bea8fc0ead466bbb93aec568aaf1ae",
      "value": 231508
     }
    },
    "7394c8e9b7f74285b4d10201797b66f8": {
     "model_module": "@jupyter-widgets/base",
     "model_module_version": "1.2.0",
     "model_name": "LayoutModel",
     "state": {
      "_model_module": "@jupyter-widgets/base",
      "_model_module_version": "1.2.0",
      "_model_name": "LayoutModel",
      "_view_count": null,
      "_view_module": "@jupyter-widgets/base",
      "_view_module_version": "1.2.0",
      "_view_name": "LayoutView",
      "align_content": null,
      "align_items": null,
      "align_self": null,
      "border": null,
      "bottom": null,
      "display": null,
      "flex": null,
      "flex_flow": null,
      "grid_area": null,
      "grid_auto_columns": null,
      "grid_auto_flow": null,
      "grid_auto_rows": null,
      "grid_column": null,
      "grid_gap": null,
      "grid_row": null,
      "grid_template_areas": null,
      "grid_template_columns": null,
      "grid_template_rows": null,
      "height": null,
      "justify_content": null,
      "justify_items": null,
      "left": null,
      "margin": null,
      "max_height": null,
      "max_width": null,
      "min_height": null,
      "min_width": null,
      "object_fit": null,
      "object_position": null,
      "order": null,
      "overflow": null,
      "overflow_x": null,
      "overflow_y": null,
      "padding": null,
      "right": null,
      "top": null,
      "visibility": null,
      "width": null
     }
    },
    "73efbdd1defc424dae2b39c40d289785": {
     "model_module": "@jupyter-widgets/base",
     "model_module_version": "1.2.0",
     "model_name": "LayoutModel",
     "state": {
      "_model_module": "@jupyter-widgets/base",
      "_model_module_version": "1.2.0",
      "_model_name": "LayoutModel",
      "_view_count": null,
      "_view_module": "@jupyter-widgets/base",
      "_view_module_version": "1.2.0",
      "_view_name": "LayoutView",
      "align_content": null,
      "align_items": null,
      "align_self": null,
      "border": null,
      "bottom": null,
      "display": null,
      "flex": null,
      "flex_flow": null,
      "grid_area": null,
      "grid_auto_columns": null,
      "grid_auto_flow": null,
      "grid_auto_rows": null,
      "grid_column": null,
      "grid_gap": null,
      "grid_row": null,
      "grid_template_areas": null,
      "grid_template_columns": null,
      "grid_template_rows": null,
      "height": null,
      "justify_content": null,
      "justify_items": null,
      "left": null,
      "margin": null,
      "max_height": null,
      "max_width": null,
      "min_height": null,
      "min_width": null,
      "object_fit": null,
      "object_position": null,
      "order": null,
      "overflow": null,
      "overflow_x": null,
      "overflow_y": null,
      "padding": null,
      "right": null,
      "top": null,
      "visibility": null,
      "width": null
     }
    },
    "73f44d8a81bf480d831cc2630a054185": {
     "model_module": "@jupyter-widgets/base",
     "model_module_version": "1.2.0",
     "model_name": "LayoutModel",
     "state": {
      "_model_module": "@jupyter-widgets/base",
      "_model_module_version": "1.2.0",
      "_model_name": "LayoutModel",
      "_view_count": null,
      "_view_module": "@jupyter-widgets/base",
      "_view_module_version": "1.2.0",
      "_view_name": "LayoutView",
      "align_content": null,
      "align_items": null,
      "align_self": null,
      "border": null,
      "bottom": null,
      "display": null,
      "flex": null,
      "flex_flow": null,
      "grid_area": null,
      "grid_auto_columns": null,
      "grid_auto_flow": null,
      "grid_auto_rows": null,
      "grid_column": null,
      "grid_gap": null,
      "grid_row": null,
      "grid_template_areas": null,
      "grid_template_columns": null,
      "grid_template_rows": null,
      "height": null,
      "justify_content": null,
      "justify_items": null,
      "left": null,
      "margin": null,
      "max_height": null,
      "max_width": null,
      "min_height": null,
      "min_width": null,
      "object_fit": null,
      "object_position": null,
      "order": null,
      "overflow": null,
      "overflow_x": null,
      "overflow_y": null,
      "padding": null,
      "right": null,
      "top": null,
      "visibility": null,
      "width": null
     }
    },
    "74566debe4c24ceabfe4867202dc998f": {
     "model_module": "@jupyter-widgets/controls",
     "model_module_version": "1.5.0",
     "model_name": "DescriptionStyleModel",
     "state": {
      "_model_module": "@jupyter-widgets/controls",
      "_model_module_version": "1.5.0",
      "_model_name": "DescriptionStyleModel",
      "_view_count": null,
      "_view_module": "@jupyter-widgets/base",
      "_view_module_version": "1.2.0",
      "_view_name": "StyleView",
      "description_width": ""
     }
    },
    "74690264747443baada58da696384387": {
     "model_module": "@jupyter-widgets/base",
     "model_module_version": "1.2.0",
     "model_name": "LayoutModel",
     "state": {
      "_model_module": "@jupyter-widgets/base",
      "_model_module_version": "1.2.0",
      "_model_name": "LayoutModel",
      "_view_count": null,
      "_view_module": "@jupyter-widgets/base",
      "_view_module_version": "1.2.0",
      "_view_name": "LayoutView",
      "align_content": null,
      "align_items": null,
      "align_self": null,
      "border": null,
      "bottom": null,
      "display": null,
      "flex": null,
      "flex_flow": null,
      "grid_area": null,
      "grid_auto_columns": null,
      "grid_auto_flow": null,
      "grid_auto_rows": null,
      "grid_column": null,
      "grid_gap": null,
      "grid_row": null,
      "grid_template_areas": null,
      "grid_template_columns": null,
      "grid_template_rows": null,
      "height": null,
      "justify_content": null,
      "justify_items": null,
      "left": null,
      "margin": null,
      "max_height": null,
      "max_width": null,
      "min_height": null,
      "min_width": null,
      "object_fit": null,
      "object_position": null,
      "order": null,
      "overflow": null,
      "overflow_x": null,
      "overflow_y": null,
      "padding": null,
      "right": null,
      "top": null,
      "visibility": null,
      "width": null
     }
    },
    "74e12fd6e60f4cdaad14590776eac2e8": {
     "model_module": "@jupyter-widgets/base",
     "model_module_version": "1.2.0",
     "model_name": "LayoutModel",
     "state": {
      "_model_module": "@jupyter-widgets/base",
      "_model_module_version": "1.2.0",
      "_model_name": "LayoutModel",
      "_view_count": null,
      "_view_module": "@jupyter-widgets/base",
      "_view_module_version": "1.2.0",
      "_view_name": "LayoutView",
      "align_content": null,
      "align_items": null,
      "align_self": null,
      "border": null,
      "bottom": null,
      "display": null,
      "flex": null,
      "flex_flow": null,
      "grid_area": null,
      "grid_auto_columns": null,
      "grid_auto_flow": null,
      "grid_auto_rows": null,
      "grid_column": null,
      "grid_gap": null,
      "grid_row": null,
      "grid_template_areas": null,
      "grid_template_columns": null,
      "grid_template_rows": null,
      "height": null,
      "justify_content": null,
      "justify_items": null,
      "left": null,
      "margin": null,
      "max_height": null,
      "max_width": null,
      "min_height": null,
      "min_width": null,
      "object_fit": null,
      "object_position": null,
      "order": null,
      "overflow": null,
      "overflow_x": null,
      "overflow_y": null,
      "padding": null,
      "right": null,
      "top": null,
      "visibility": null,
      "width": null
     }
    },
    "75131cbbc5024e3498bc919ae56939d7": {
     "model_module": "@jupyter-widgets/controls",
     "model_module_version": "1.5.0",
     "model_name": "DescriptionStyleModel",
     "state": {
      "_model_module": "@jupyter-widgets/controls",
      "_model_module_version": "1.5.0",
      "_model_name": "DescriptionStyleModel",
      "_view_count": null,
      "_view_module": "@jupyter-widgets/base",
      "_view_module_version": "1.2.0",
      "_view_name": "StyleView",
      "description_width": ""
     }
    },
    "76c26fed3e6f4e2fa669e7a4b66a0c52": {
     "model_module": "@jupyter-widgets/controls",
     "model_module_version": "1.5.0",
     "model_name": "ProgressStyleModel",
     "state": {
      "_model_module": "@jupyter-widgets/controls",
      "_model_module_version": "1.5.0",
      "_model_name": "ProgressStyleModel",
      "_view_count": null,
      "_view_module": "@jupyter-widgets/base",
      "_view_module_version": "1.2.0",
      "_view_name": "StyleView",
      "bar_color": null,
      "description_width": ""
     }
    },
    "77cc41136f654cc289f578ffe99b47f9": {
     "model_module": "@jupyter-widgets/base",
     "model_module_version": "1.2.0",
     "model_name": "LayoutModel",
     "state": {
      "_model_module": "@jupyter-widgets/base",
      "_model_module_version": "1.2.0",
      "_model_name": "LayoutModel",
      "_view_count": null,
      "_view_module": "@jupyter-widgets/base",
      "_view_module_version": "1.2.0",
      "_view_name": "LayoutView",
      "align_content": null,
      "align_items": null,
      "align_self": null,
      "border": null,
      "bottom": null,
      "display": null,
      "flex": null,
      "flex_flow": null,
      "grid_area": null,
      "grid_auto_columns": null,
      "grid_auto_flow": null,
      "grid_auto_rows": null,
      "grid_column": null,
      "grid_gap": null,
      "grid_row": null,
      "grid_template_areas": null,
      "grid_template_columns": null,
      "grid_template_rows": null,
      "height": null,
      "justify_content": null,
      "justify_items": null,
      "left": null,
      "margin": null,
      "max_height": null,
      "max_width": null,
      "min_height": null,
      "min_width": null,
      "object_fit": null,
      "object_position": null,
      "order": null,
      "overflow": null,
      "overflow_x": null,
      "overflow_y": null,
      "padding": null,
      "right": null,
      "top": null,
      "visibility": null,
      "width": null
     }
    },
    "78131e69fc5e48b98788b7ad919895d8": {
     "model_module": "@jupyter-widgets/controls",
     "model_module_version": "1.5.0",
     "model_name": "HBoxModel",
     "state": {
      "_dom_classes": [],
      "_model_module": "@jupyter-widgets/controls",
      "_model_module_version": "1.5.0",
      "_model_name": "HBoxModel",
      "_view_count": null,
      "_view_module": "@jupyter-widgets/controls",
      "_view_module_version": "1.5.0",
      "_view_name": "HBoxView",
      "box_style": "",
      "children": [
       "IPY_MODEL_0bd98fea98fe46c58c031c4afcb65a03",
       "IPY_MODEL_0acdf948027f48668033a6b0dde45a33",
       "IPY_MODEL_fd54ccef45584a80a70e576939c0b345"
      ],
      "layout": "IPY_MODEL_b37876b0da9543b1bfcfdf01b95205a5"
     }
    },
    "7987211ff4eb48a2a042ccc78a57b964": {
     "model_module": "@jupyter-widgets/base",
     "model_module_version": "1.2.0",
     "model_name": "LayoutModel",
     "state": {
      "_model_module": "@jupyter-widgets/base",
      "_model_module_version": "1.2.0",
      "_model_name": "LayoutModel",
      "_view_count": null,
      "_view_module": "@jupyter-widgets/base",
      "_view_module_version": "1.2.0",
      "_view_name": "LayoutView",
      "align_content": null,
      "align_items": null,
      "align_self": null,
      "border": null,
      "bottom": null,
      "display": null,
      "flex": null,
      "flex_flow": null,
      "grid_area": null,
      "grid_auto_columns": null,
      "grid_auto_flow": null,
      "grid_auto_rows": null,
      "grid_column": null,
      "grid_gap": null,
      "grid_row": null,
      "grid_template_areas": null,
      "grid_template_columns": null,
      "grid_template_rows": null,
      "height": null,
      "justify_content": null,
      "justify_items": null,
      "left": null,
      "margin": null,
      "max_height": null,
      "max_width": null,
      "min_height": null,
      "min_width": null,
      "object_fit": null,
      "object_position": null,
      "order": null,
      "overflow": null,
      "overflow_x": null,
      "overflow_y": null,
      "padding": null,
      "right": null,
      "top": null,
      "visibility": null,
      "width": null
     }
    },
    "79947dd0ddf34e5192a2678b52533a97": {
     "model_module": "@jupyter-widgets/controls",
     "model_module_version": "1.5.0",
     "model_name": "FloatProgressModel",
     "state": {
      "_dom_classes": [],
      "_model_module": "@jupyter-widgets/controls",
      "_model_module_version": "1.5.0",
      "_model_name": "FloatProgressModel",
      "_view_count": null,
      "_view_module": "@jupyter-widgets/controls",
      "_view_module_version": "1.5.0",
      "_view_name": "ProgressView",
      "bar_style": "success",
      "description": "",
      "description_tooltip": null,
      "layout": "IPY_MODEL_0bffcdb38d1d4f3c85e93210aabfa404",
      "max": 267832558,
      "min": 0,
      "orientation": "horizontal",
      "style": "IPY_MODEL_7ebd8e2c1fcc429896627463d2319bab",
      "value": 267832558
     }
    },
    "7a15f0aba34e4c3e90bfbe605fef9bb5": {
     "model_module": "@jupyter-widgets/controls",
     "model_module_version": "1.5.0",
     "model_name": "HTMLModel",
     "state": {
      "_dom_classes": [],
      "_model_module": "@jupyter-widgets/controls",
      "_model_module_version": "1.5.0",
      "_model_name": "HTMLModel",
      "_view_count": null,
      "_view_module": "@jupyter-widgets/controls",
      "_view_module_version": "1.5.0",
      "_view_name": "HTMLView",
      "description": "",
      "description_tooltip": null,
      "layout": "IPY_MODEL_a000821e9b994a63964db53c2ffae61c",
      "placeholder": "​",
      "style": "IPY_MODEL_c2fb075140864489a7d81c19a0f79e21",
      "value": " 232k/232k [00:00&lt;00:00, 3.83MB/s]"
     }
    },
    "7a9ecdfd864a4fcdb561b580069a7f2e": {
     "model_module": "@jupyter-widgets/controls",
     "model_module_version": "1.5.0",
     "model_name": "DescriptionStyleModel",
     "state": {
      "_model_module": "@jupyter-widgets/controls",
      "_model_module_version": "1.5.0",
      "_model_name": "DescriptionStyleModel",
      "_view_count": null,
      "_view_module": "@jupyter-widgets/base",
      "_view_module_version": "1.2.0",
      "_view_name": "StyleView",
      "description_width": ""
     }
    },
    "7ae214ca6e9546798b71d7633377b2d2": {
     "model_module": "@jupyter-widgets/controls",
     "model_module_version": "1.5.0",
     "model_name": "DescriptionStyleModel",
     "state": {
      "_model_module": "@jupyter-widgets/controls",
      "_model_module_version": "1.5.0",
      "_model_name": "DescriptionStyleModel",
      "_view_count": null,
      "_view_module": "@jupyter-widgets/base",
      "_view_module_version": "1.2.0",
      "_view_name": "StyleView",
      "description_width": ""
     }
    },
    "7ae512c0087942209b5c83c124bf0eb9": {
     "model_module": "@jupyter-widgets/controls",
     "model_module_version": "1.5.0",
     "model_name": "HTMLModel",
     "state": {
      "_dom_classes": [],
      "_model_module": "@jupyter-widgets/controls",
      "_model_module_version": "1.5.0",
      "_model_name": "HTMLModel",
      "_view_count": null,
      "_view_module": "@jupyter-widgets/controls",
      "_view_module_version": "1.5.0",
      "_view_name": "HTMLView",
      "description": "",
      "description_tooltip": null,
      "layout": "IPY_MODEL_0dcb056b573242769c81edf55126e236",
      "placeholder": "​",
      "style": "IPY_MODEL_2e7a9176007c49b8b6b623b3679fcac0",
      "value": " 3081/3081 [00:00&lt;00:00, 4829.32 examples/s]"
     }
    },
    "7bb936c783ab402b870cf609dd9d3129": {
     "model_module": "@jupyter-widgets/controls",
     "model_module_version": "1.5.0",
     "model_name": "FloatProgressModel",
     "state": {
      "_dom_classes": [],
      "_model_module": "@jupyter-widgets/controls",
      "_model_module_version": "1.5.0",
      "_model_name": "FloatProgressModel",
      "_view_count": null,
      "_view_module": "@jupyter-widgets/controls",
      "_view_module_version": "1.5.0",
      "_view_name": "ProgressView",
      "bar_style": "success",
      "description": "",
      "description_tooltip": null,
      "layout": "IPY_MODEL_5716cea9e8d84a289fe0760bcbc76d6a",
      "max": 28,
      "min": 0,
      "orientation": "horizontal",
      "style": "IPY_MODEL_314323441385434a98cecb6fd4aaf2e3",
      "value": 28
     }
    },
    "7d3433407dec4976b47892803044e899": {
     "model_module": "@jupyter-widgets/base",
     "model_module_version": "1.2.0",
     "model_name": "LayoutModel",
     "state": {
      "_model_module": "@jupyter-widgets/base",
      "_model_module_version": "1.2.0",
      "_model_name": "LayoutModel",
      "_view_count": null,
      "_view_module": "@jupyter-widgets/base",
      "_view_module_version": "1.2.0",
      "_view_name": "LayoutView",
      "align_content": null,
      "align_items": null,
      "align_self": null,
      "border": null,
      "bottom": null,
      "display": null,
      "flex": null,
      "flex_flow": null,
      "grid_area": null,
      "grid_auto_columns": null,
      "grid_auto_flow": null,
      "grid_auto_rows": null,
      "grid_column": null,
      "grid_gap": null,
      "grid_row": null,
      "grid_template_areas": null,
      "grid_template_columns": null,
      "grid_template_rows": null,
      "height": null,
      "justify_content": null,
      "justify_items": null,
      "left": null,
      "margin": null,
      "max_height": null,
      "max_width": null,
      "min_height": null,
      "min_width": null,
      "object_fit": null,
      "object_position": null,
      "order": null,
      "overflow": null,
      "overflow_x": null,
      "overflow_y": null,
      "padding": null,
      "right": null,
      "top": null,
      "visibility": null,
      "width": null
     }
    },
    "7e00183725e742c0b1146b61fd258d49": {
     "model_module": "@jupyter-widgets/controls",
     "model_module_version": "1.5.0",
     "model_name": "ProgressStyleModel",
     "state": {
      "_model_module": "@jupyter-widgets/controls",
      "_model_module_version": "1.5.0",
      "_model_name": "ProgressStyleModel",
      "_view_count": null,
      "_view_module": "@jupyter-widgets/base",
      "_view_module_version": "1.2.0",
      "_view_name": "StyleView",
      "bar_color": null,
      "description_width": ""
     }
    },
    "7ea378ac749743e2a4d32c5183274d54": {
     "model_module": "@jupyter-widgets/base",
     "model_module_version": "1.2.0",
     "model_name": "LayoutModel",
     "state": {
      "_model_module": "@jupyter-widgets/base",
      "_model_module_version": "1.2.0",
      "_model_name": "LayoutModel",
      "_view_count": null,
      "_view_module": "@jupyter-widgets/base",
      "_view_module_version": "1.2.0",
      "_view_name": "LayoutView",
      "align_content": null,
      "align_items": null,
      "align_self": null,
      "border": null,
      "bottom": null,
      "display": null,
      "flex": null,
      "flex_flow": null,
      "grid_area": null,
      "grid_auto_columns": null,
      "grid_auto_flow": null,
      "grid_auto_rows": null,
      "grid_column": null,
      "grid_gap": null,
      "grid_row": null,
      "grid_template_areas": null,
      "grid_template_columns": null,
      "grid_template_rows": null,
      "height": null,
      "justify_content": null,
      "justify_items": null,
      "left": null,
      "margin": null,
      "max_height": null,
      "max_width": null,
      "min_height": null,
      "min_width": null,
      "object_fit": null,
      "object_position": null,
      "order": null,
      "overflow": null,
      "overflow_x": null,
      "overflow_y": null,
      "padding": null,
      "right": null,
      "top": null,
      "visibility": null,
      "width": null
     }
    },
    "7ebd8e2c1fcc429896627463d2319bab": {
     "model_module": "@jupyter-widgets/controls",
     "model_module_version": "1.5.0",
     "model_name": "ProgressStyleModel",
     "state": {
      "_model_module": "@jupyter-widgets/controls",
      "_model_module_version": "1.5.0",
      "_model_name": "ProgressStyleModel",
      "_view_count": null,
      "_view_module": "@jupyter-widgets/base",
      "_view_module_version": "1.2.0",
      "_view_name": "StyleView",
      "bar_color": null,
      "description_width": ""
     }
    },
    "7eebc5928db4451d8279994eb108e53e": {
     "model_module": "@jupyter-widgets/controls",
     "model_module_version": "1.5.0",
     "model_name": "DescriptionStyleModel",
     "state": {
      "_model_module": "@jupyter-widgets/controls",
      "_model_module_version": "1.5.0",
      "_model_name": "DescriptionStyleModel",
      "_view_count": null,
      "_view_module": "@jupyter-widgets/base",
      "_view_module_version": "1.2.0",
      "_view_name": "StyleView",
      "description_width": ""
     }
    },
    "804670cf287b4f80aebdd98a18e017a2": {
     "model_module": "@jupyter-widgets/base",
     "model_module_version": "1.2.0",
     "model_name": "LayoutModel",
     "state": {
      "_model_module": "@jupyter-widgets/base",
      "_model_module_version": "1.2.0",
      "_model_name": "LayoutModel",
      "_view_count": null,
      "_view_module": "@jupyter-widgets/base",
      "_view_module_version": "1.2.0",
      "_view_name": "LayoutView",
      "align_content": null,
      "align_items": null,
      "align_self": null,
      "border": null,
      "bottom": null,
      "display": null,
      "flex": null,
      "flex_flow": null,
      "grid_area": null,
      "grid_auto_columns": null,
      "grid_auto_flow": null,
      "grid_auto_rows": null,
      "grid_column": null,
      "grid_gap": null,
      "grid_row": null,
      "grid_template_areas": null,
      "grid_template_columns": null,
      "grid_template_rows": null,
      "height": null,
      "justify_content": null,
      "justify_items": null,
      "left": null,
      "margin": null,
      "max_height": null,
      "max_width": null,
      "min_height": null,
      "min_width": null,
      "object_fit": null,
      "object_position": null,
      "order": null,
      "overflow": null,
      "overflow_x": null,
      "overflow_y": null,
      "padding": null,
      "right": null,
      "top": null,
      "visibility": null,
      "width": null
     }
    },
    "805b82526c7c4cb48a1c3dc795b7153f": {
     "model_module": "@jupyter-widgets/controls",
     "model_module_version": "1.5.0",
     "model_name": "FloatProgressModel",
     "state": {
      "_dom_classes": [],
      "_model_module": "@jupyter-widgets/controls",
      "_model_module_version": "1.5.0",
      "_model_name": "FloatProgressModel",
      "_view_count": null,
      "_view_module": "@jupyter-widgets/controls",
      "_view_module_version": "1.5.0",
      "_view_name": "ProgressView",
      "bar_style": "success",
      "description": "",
      "description_tooltip": null,
      "layout": "IPY_MODEL_bff1c8d9ebb64b728c6fc43deff520f9",
      "max": 466062,
      "min": 0,
      "orientation": "horizontal",
      "style": "IPY_MODEL_08d599a00ddb4b348bf3818fd86b098f",
      "value": 466062
     }
    },
    "80d44875f8b44dc4b178a105b08bc267": {
     "model_module": "@jupyter-widgets/base",
     "model_module_version": "1.2.0",
     "model_name": "LayoutModel",
     "state": {
      "_model_module": "@jupyter-widgets/base",
      "_model_module_version": "1.2.0",
      "_model_name": "LayoutModel",
      "_view_count": null,
      "_view_module": "@jupyter-widgets/base",
      "_view_module_version": "1.2.0",
      "_view_name": "LayoutView",
      "align_content": null,
      "align_items": null,
      "align_self": null,
      "border": null,
      "bottom": null,
      "display": null,
      "flex": null,
      "flex_flow": null,
      "grid_area": null,
      "grid_auto_columns": null,
      "grid_auto_flow": null,
      "grid_auto_rows": null,
      "grid_column": null,
      "grid_gap": null,
      "grid_row": null,
      "grid_template_areas": null,
      "grid_template_columns": null,
      "grid_template_rows": null,
      "height": null,
      "justify_content": null,
      "justify_items": null,
      "left": null,
      "margin": null,
      "max_height": null,
      "max_width": null,
      "min_height": null,
      "min_width": null,
      "object_fit": null,
      "object_position": null,
      "order": null,
      "overflow": null,
      "overflow_x": null,
      "overflow_y": null,
      "padding": null,
      "right": null,
      "top": null,
      "visibility": null,
      "width": null
     }
    },
    "80ec1588af6b426c9d9709989c78d455": {
     "model_module": "@jupyter-widgets/base",
     "model_module_version": "1.2.0",
     "model_name": "LayoutModel",
     "state": {
      "_model_module": "@jupyter-widgets/base",
      "_model_module_version": "1.2.0",
      "_model_name": "LayoutModel",
      "_view_count": null,
      "_view_module": "@jupyter-widgets/base",
      "_view_module_version": "1.2.0",
      "_view_name": "LayoutView",
      "align_content": null,
      "align_items": null,
      "align_self": null,
      "border": null,
      "bottom": null,
      "display": null,
      "flex": null,
      "flex_flow": null,
      "grid_area": null,
      "grid_auto_columns": null,
      "grid_auto_flow": null,
      "grid_auto_rows": null,
      "grid_column": null,
      "grid_gap": null,
      "grid_row": null,
      "grid_template_areas": null,
      "grid_template_columns": null,
      "grid_template_rows": null,
      "height": null,
      "justify_content": null,
      "justify_items": null,
      "left": null,
      "margin": null,
      "max_height": null,
      "max_width": null,
      "min_height": null,
      "min_width": null,
      "object_fit": null,
      "object_position": null,
      "order": null,
      "overflow": null,
      "overflow_x": null,
      "overflow_y": null,
      "padding": null,
      "right": null,
      "top": null,
      "visibility": null,
      "width": null
     }
    },
    "8121990bf84a471eaa26d33c4872d835": {
     "model_module": "@jupyter-widgets/controls",
     "model_module_version": "1.5.0",
     "model_name": "DescriptionStyleModel",
     "state": {
      "_model_module": "@jupyter-widgets/controls",
      "_model_module_version": "1.5.0",
      "_model_name": "DescriptionStyleModel",
      "_view_count": null,
      "_view_module": "@jupyter-widgets/base",
      "_view_module_version": "1.2.0",
      "_view_name": "StyleView",
      "description_width": ""
     }
    },
    "81bb103bdcff45b4955023635434a513": {
     "model_module": "@jupyter-widgets/controls",
     "model_module_version": "1.5.0",
     "model_name": "ProgressStyleModel",
     "state": {
      "_model_module": "@jupyter-widgets/controls",
      "_model_module_version": "1.5.0",
      "_model_name": "ProgressStyleModel",
      "_view_count": null,
      "_view_module": "@jupyter-widgets/base",
      "_view_module_version": "1.2.0",
      "_view_name": "StyleView",
      "bar_color": null,
      "description_width": ""
     }
    },
    "81cc5b6d0d5e46f2abab5a40f920609e": {
     "model_module": "@jupyter-widgets/base",
     "model_module_version": "1.2.0",
     "model_name": "LayoutModel",
     "state": {
      "_model_module": "@jupyter-widgets/base",
      "_model_module_version": "1.2.0",
      "_model_name": "LayoutModel",
      "_view_count": null,
      "_view_module": "@jupyter-widgets/base",
      "_view_module_version": "1.2.0",
      "_view_name": "LayoutView",
      "align_content": null,
      "align_items": null,
      "align_self": null,
      "border": null,
      "bottom": null,
      "display": null,
      "flex": null,
      "flex_flow": null,
      "grid_area": null,
      "grid_auto_columns": null,
      "grid_auto_flow": null,
      "grid_auto_rows": null,
      "grid_column": null,
      "grid_gap": null,
      "grid_row": null,
      "grid_template_areas": null,
      "grid_template_columns": null,
      "grid_template_rows": null,
      "height": null,
      "justify_content": null,
      "justify_items": null,
      "left": null,
      "margin": null,
      "max_height": null,
      "max_width": null,
      "min_height": null,
      "min_width": null,
      "object_fit": null,
      "object_position": null,
      "order": null,
      "overflow": null,
      "overflow_x": null,
      "overflow_y": null,
      "padding": null,
      "right": null,
      "top": null,
      "visibility": null,
      "width": null
     }
    },
    "8246472500284ad18f8a1732bc351bfd": {
     "model_module": "@jupyter-widgets/controls",
     "model_module_version": "1.5.0",
     "model_name": "ProgressStyleModel",
     "state": {
      "_model_module": "@jupyter-widgets/controls",
      "_model_module_version": "1.5.0",
      "_model_name": "ProgressStyleModel",
      "_view_count": null,
      "_view_module": "@jupyter-widgets/base",
      "_view_module_version": "1.2.0",
      "_view_name": "StyleView",
      "bar_color": null,
      "description_width": ""
     }
    },
    "826781bbc9f24c7e8cf7d3c7dfb00d01": {
     "model_module": "@jupyter-widgets/controls",
     "model_module_version": "1.5.0",
     "model_name": "HTMLModel",
     "state": {
      "_dom_classes": [],
      "_model_module": "@jupyter-widgets/controls",
      "_model_module_version": "1.5.0",
      "_model_name": "HTMLModel",
      "_view_count": null,
      "_view_module": "@jupyter-widgets/controls",
      "_view_module_version": "1.5.0",
      "_view_name": "HTMLView",
      "description": "",
      "description_tooltip": null,
      "layout": "IPY_MODEL_a8ca1717ef74473b99d901a76c0028c9",
      "placeholder": "​",
      "style": "IPY_MODEL_1628cb8828844f46b2c3d673117e0831",
      "value": "Map: 100%"
     }
    },
    "84904b49bcfb4f70a267c906a4981493": {
     "model_module": "@jupyter-widgets/base",
     "model_module_version": "1.2.0",
     "model_name": "LayoutModel",
     "state": {
      "_model_module": "@jupyter-widgets/base",
      "_model_module_version": "1.2.0",
      "_model_name": "LayoutModel",
      "_view_count": null,
      "_view_module": "@jupyter-widgets/base",
      "_view_module_version": "1.2.0",
      "_view_name": "LayoutView",
      "align_content": null,
      "align_items": null,
      "align_self": null,
      "border": null,
      "bottom": null,
      "display": null,
      "flex": null,
      "flex_flow": null,
      "grid_area": null,
      "grid_auto_columns": null,
      "grid_auto_flow": null,
      "grid_auto_rows": null,
      "grid_column": null,
      "grid_gap": null,
      "grid_row": null,
      "grid_template_areas": null,
      "grid_template_columns": null,
      "grid_template_rows": null,
      "height": null,
      "justify_content": null,
      "justify_items": null,
      "left": null,
      "margin": null,
      "max_height": null,
      "max_width": null,
      "min_height": null,
      "min_width": null,
      "object_fit": null,
      "object_position": null,
      "order": null,
      "overflow": null,
      "overflow_x": null,
      "overflow_y": null,
      "padding": null,
      "right": null,
      "top": null,
      "visibility": null,
      "width": null
     }
    },
    "849fd22e48d64438bb066a446c6bebee": {
     "model_module": "@jupyter-widgets/controls",
     "model_module_version": "1.5.0",
     "model_name": "HTMLModel",
     "state": {
      "_dom_classes": [],
      "_model_module": "@jupyter-widgets/controls",
      "_model_module_version": "1.5.0",
      "_model_name": "HTMLModel",
      "_view_count": null,
      "_view_module": "@jupyter-widgets/controls",
      "_view_module_version": "1.5.0",
      "_view_name": "HTMLView",
      "description": "",
      "description_tooltip": null,
      "layout": "IPY_MODEL_15d7e137a6ff45a89959fe0794b3894d",
      "placeholder": "​",
      "style": "IPY_MODEL_7a9ecdfd864a4fcdb561b580069a7f2e",
      "value": " 440M/440M [00:05&lt;00:00, 53.6MB/s]"
     }
    },
    "8572ccf616654eca94d5699122aa51ce": {
     "model_module": "@jupyter-widgets/base",
     "model_module_version": "1.2.0",
     "model_name": "LayoutModel",
     "state": {
      "_model_module": "@jupyter-widgets/base",
      "_model_module_version": "1.2.0",
      "_model_name": "LayoutModel",
      "_view_count": null,
      "_view_module": "@jupyter-widgets/base",
      "_view_module_version": "1.2.0",
      "_view_name": "LayoutView",
      "align_content": null,
      "align_items": null,
      "align_self": null,
      "border": null,
      "bottom": null,
      "display": null,
      "flex": null,
      "flex_flow": null,
      "grid_area": null,
      "grid_auto_columns": null,
      "grid_auto_flow": null,
      "grid_auto_rows": null,
      "grid_column": null,
      "grid_gap": null,
      "grid_row": null,
      "grid_template_areas": null,
      "grid_template_columns": null,
      "grid_template_rows": null,
      "height": null,
      "justify_content": null,
      "justify_items": null,
      "left": null,
      "margin": null,
      "max_height": null,
      "max_width": null,
      "min_height": null,
      "min_width": null,
      "object_fit": null,
      "object_position": null,
      "order": null,
      "overflow": null,
      "overflow_x": null,
      "overflow_y": null,
      "padding": null,
      "right": null,
      "top": null,
      "visibility": null,
      "width": null
     }
    },
    "85f7913cfdb24be095daf7d1610192c6": {
     "model_module": "@jupyter-widgets/base",
     "model_module_version": "1.2.0",
     "model_name": "LayoutModel",
     "state": {
      "_model_module": "@jupyter-widgets/base",
      "_model_module_version": "1.2.0",
      "_model_name": "LayoutModel",
      "_view_count": null,
      "_view_module": "@jupyter-widgets/base",
      "_view_module_version": "1.2.0",
      "_view_name": "LayoutView",
      "align_content": null,
      "align_items": null,
      "align_self": null,
      "border": null,
      "bottom": null,
      "display": null,
      "flex": null,
      "flex_flow": null,
      "grid_area": null,
      "grid_auto_columns": null,
      "grid_auto_flow": null,
      "grid_auto_rows": null,
      "grid_column": null,
      "grid_gap": null,
      "grid_row": null,
      "grid_template_areas": null,
      "grid_template_columns": null,
      "grid_template_rows": null,
      "height": null,
      "justify_content": null,
      "justify_items": null,
      "left": null,
      "margin": null,
      "max_height": null,
      "max_width": null,
      "min_height": null,
      "min_width": null,
      "object_fit": null,
      "object_position": null,
      "order": null,
      "overflow": null,
      "overflow_x": null,
      "overflow_y": null,
      "padding": null,
      "right": null,
      "top": null,
      "visibility": null,
      "width": null
     }
    },
    "861d8b0a49d044bba3beff95743a3c47": {
     "model_module": "@jupyter-widgets/controls",
     "model_module_version": "1.5.0",
     "model_name": "FloatProgressModel",
     "state": {
      "_dom_classes": [],
      "_model_module": "@jupyter-widgets/controls",
      "_model_module_version": "1.5.0",
      "_model_name": "FloatProgressModel",
      "_view_count": null,
      "_view_module": "@jupyter-widgets/controls",
      "_view_module_version": "1.5.0",
      "_view_name": "ProgressView",
      "bar_style": "success",
      "description": "",
      "description_tooltip": null,
      "layout": "IPY_MODEL_61d5d21f585a4c4a8a4e0661ebab0978",
      "max": 1,
      "min": 0,
      "orientation": "horizontal",
      "style": "IPY_MODEL_9c51062634f544a5afcf04f59dbc9131",
      "value": 1
     }
    },
    "8736176520594608bfe10039ab53d571": {
     "model_module": "@jupyter-widgets/base",
     "model_module_version": "1.2.0",
     "model_name": "LayoutModel",
     "state": {
      "_model_module": "@jupyter-widgets/base",
      "_model_module_version": "1.2.0",
      "_model_name": "LayoutModel",
      "_view_count": null,
      "_view_module": "@jupyter-widgets/base",
      "_view_module_version": "1.2.0",
      "_view_name": "LayoutView",
      "align_content": null,
      "align_items": null,
      "align_self": null,
      "border": null,
      "bottom": null,
      "display": null,
      "flex": null,
      "flex_flow": null,
      "grid_area": null,
      "grid_auto_columns": null,
      "grid_auto_flow": null,
      "grid_auto_rows": null,
      "grid_column": null,
      "grid_gap": null,
      "grid_row": null,
      "grid_template_areas": null,
      "grid_template_columns": null,
      "grid_template_rows": null,
      "height": null,
      "justify_content": null,
      "justify_items": null,
      "left": null,
      "margin": null,
      "max_height": null,
      "max_width": null,
      "min_height": null,
      "min_width": null,
      "object_fit": null,
      "object_position": null,
      "order": null,
      "overflow": null,
      "overflow_x": null,
      "overflow_y": null,
      "padding": null,
      "right": null,
      "top": null,
      "visibility": null,
      "width": null
     }
    },
    "88acd9c1e68642a8b58f9c6d77647d08": {
     "model_module": "@jupyter-widgets/base",
     "model_module_version": "1.2.0",
     "model_name": "LayoutModel",
     "state": {
      "_model_module": "@jupyter-widgets/base",
      "_model_module_version": "1.2.0",
      "_model_name": "LayoutModel",
      "_view_count": null,
      "_view_module": "@jupyter-widgets/base",
      "_view_module_version": "1.2.0",
      "_view_name": "LayoutView",
      "align_content": null,
      "align_items": null,
      "align_self": null,
      "border": null,
      "bottom": null,
      "display": null,
      "flex": null,
      "flex_flow": null,
      "grid_area": null,
      "grid_auto_columns": null,
      "grid_auto_flow": null,
      "grid_auto_rows": null,
      "grid_column": null,
      "grid_gap": null,
      "grid_row": null,
      "grid_template_areas": null,
      "grid_template_columns": null,
      "grid_template_rows": null,
      "height": null,
      "justify_content": null,
      "justify_items": null,
      "left": null,
      "margin": null,
      "max_height": null,
      "max_width": null,
      "min_height": null,
      "min_width": null,
      "object_fit": null,
      "object_position": null,
      "order": null,
      "overflow": null,
      "overflow_x": null,
      "overflow_y": null,
      "padding": null,
      "right": null,
      "top": null,
      "visibility": null,
      "width": null
     }
    },
    "88ebe60388384796910b1987ca2a7b36": {
     "model_module": "@jupyter-widgets/controls",
     "model_module_version": "1.5.0",
     "model_name": "DescriptionStyleModel",
     "state": {
      "_model_module": "@jupyter-widgets/controls",
      "_model_module_version": "1.5.0",
      "_model_name": "DescriptionStyleModel",
      "_view_count": null,
      "_view_module": "@jupyter-widgets/base",
      "_view_module_version": "1.2.0",
      "_view_name": "StyleView",
      "description_width": ""
     }
    },
    "890bcfb8c23046808a22581da6107878": {
     "model_module": "@jupyter-widgets/base",
     "model_module_version": "1.2.0",
     "model_name": "LayoutModel",
     "state": {
      "_model_module": "@jupyter-widgets/base",
      "_model_module_version": "1.2.0",
      "_model_name": "LayoutModel",
      "_view_count": null,
      "_view_module": "@jupyter-widgets/base",
      "_view_module_version": "1.2.0",
      "_view_name": "LayoutView",
      "align_content": null,
      "align_items": null,
      "align_self": null,
      "border": null,
      "bottom": null,
      "display": null,
      "flex": null,
      "flex_flow": null,
      "grid_area": null,
      "grid_auto_columns": null,
      "grid_auto_flow": null,
      "grid_auto_rows": null,
      "grid_column": null,
      "grid_gap": null,
      "grid_row": null,
      "grid_template_areas": null,
      "grid_template_columns": null,
      "grid_template_rows": null,
      "height": null,
      "justify_content": null,
      "justify_items": null,
      "left": null,
      "margin": null,
      "max_height": null,
      "max_width": null,
      "min_height": null,
      "min_width": null,
      "object_fit": null,
      "object_position": null,
      "order": null,
      "overflow": null,
      "overflow_x": null,
      "overflow_y": null,
      "padding": null,
      "right": null,
      "top": null,
      "visibility": null,
      "width": null
     }
    },
    "89856f13c9d247acb31b7802b1cca970": {
     "model_module": "@jupyter-widgets/controls",
     "model_module_version": "1.5.0",
     "model_name": "HBoxModel",
     "state": {
      "_dom_classes": [],
      "_model_module": "@jupyter-widgets/controls",
      "_model_module_version": "1.5.0",
      "_model_name": "HBoxModel",
      "_view_count": null,
      "_view_module": "@jupyter-widgets/controls",
      "_view_module_version": "1.5.0",
      "_view_name": "HBoxView",
      "box_style": "",
      "children": [
       "IPY_MODEL_b143e584661a42969b6a9f376546486a",
       "IPY_MODEL_47b17d821f924db3a592d734f77ce092",
       "IPY_MODEL_544015661b65451eb7bc40178d156eb7"
      ],
      "layout": "IPY_MODEL_d3d5424dca584e38ad28fa4a32fc618b"
     }
    },
    "89b32c1717c342b28edc5c90be607f0c": {
     "model_module": "@jupyter-widgets/controls",
     "model_module_version": "1.5.0",
     "model_name": "ProgressStyleModel",
     "state": {
      "_model_module": "@jupyter-widgets/controls",
      "_model_module_version": "1.5.0",
      "_model_name": "ProgressStyleModel",
      "_view_count": null,
      "_view_module": "@jupyter-widgets/base",
      "_view_module_version": "1.2.0",
      "_view_name": "StyleView",
      "bar_color": null,
      "description_width": ""
     }
    },
    "89ca84846175417eb38fd7f405a5da93": {
     "model_module": "@jupyter-widgets/base",
     "model_module_version": "1.2.0",
     "model_name": "LayoutModel",
     "state": {
      "_model_module": "@jupyter-widgets/base",
      "_model_module_version": "1.2.0",
      "_model_name": "LayoutModel",
      "_view_count": null,
      "_view_module": "@jupyter-widgets/base",
      "_view_module_version": "1.2.0",
      "_view_name": "LayoutView",
      "align_content": null,
      "align_items": null,
      "align_self": null,
      "border": null,
      "bottom": null,
      "display": null,
      "flex": null,
      "flex_flow": null,
      "grid_area": null,
      "grid_auto_columns": null,
      "grid_auto_flow": null,
      "grid_auto_rows": null,
      "grid_column": null,
      "grid_gap": null,
      "grid_row": null,
      "grid_template_areas": null,
      "grid_template_columns": null,
      "grid_template_rows": null,
      "height": null,
      "justify_content": null,
      "justify_items": null,
      "left": null,
      "margin": null,
      "max_height": null,
      "max_width": null,
      "min_height": null,
      "min_width": null,
      "object_fit": null,
      "object_position": null,
      "order": null,
      "overflow": null,
      "overflow_x": null,
      "overflow_y": null,
      "padding": null,
      "right": null,
      "top": null,
      "visibility": null,
      "width": null
     }
    },
    "8a2aa09b29a243c2a8dca4974d3cbc7b": {
     "model_module": "@jupyter-widgets/controls",
     "model_module_version": "1.5.0",
     "model_name": "HTMLModel",
     "state": {
      "_dom_classes": [],
      "_model_module": "@jupyter-widgets/controls",
      "_model_module_version": "1.5.0",
      "_model_name": "HTMLModel",
      "_view_count": null,
      "_view_module": "@jupyter-widgets/controls",
      "_view_module_version": "1.5.0",
      "_view_name": "HTMLView",
      "description": "",
      "description_tooltip": null,
      "layout": "IPY_MODEL_b3e74b9a6bd64af2905732e61991b1ec",
      "placeholder": "​",
      "style": "IPY_MODEL_df0d7229eeca4861937ea11dcfb855bf",
      "value": " 1/1 [00:00&lt;00:00, 50.03it/s]"
     }
    },
    "8a6ff1cc71c24b37afbdf4e532978c63": {
     "model_module": "@jupyter-widgets/base",
     "model_module_version": "1.2.0",
     "model_name": "LayoutModel",
     "state": {
      "_model_module": "@jupyter-widgets/base",
      "_model_module_version": "1.2.0",
      "_model_name": "LayoutModel",
      "_view_count": null,
      "_view_module": "@jupyter-widgets/base",
      "_view_module_version": "1.2.0",
      "_view_name": "LayoutView",
      "align_content": null,
      "align_items": null,
      "align_self": null,
      "border": null,
      "bottom": null,
      "display": null,
      "flex": null,
      "flex_flow": null,
      "grid_area": null,
      "grid_auto_columns": null,
      "grid_auto_flow": null,
      "grid_auto_rows": null,
      "grid_column": null,
      "grid_gap": null,
      "grid_row": null,
      "grid_template_areas": null,
      "grid_template_columns": null,
      "grid_template_rows": null,
      "height": null,
      "justify_content": null,
      "justify_items": null,
      "left": null,
      "margin": null,
      "max_height": null,
      "max_width": null,
      "min_height": null,
      "min_width": null,
      "object_fit": null,
      "object_position": null,
      "order": null,
      "overflow": null,
      "overflow_x": null,
      "overflow_y": null,
      "padding": null,
      "right": null,
      "top": null,
      "visibility": null,
      "width": null
     }
    },
    "8a72cf42f4e3447987928280478bbcb3": {
     "model_module": "@jupyter-widgets/controls",
     "model_module_version": "1.5.0",
     "model_name": "DescriptionStyleModel",
     "state": {
      "_model_module": "@jupyter-widgets/controls",
      "_model_module_version": "1.5.0",
      "_model_name": "DescriptionStyleModel",
      "_view_count": null,
      "_view_module": "@jupyter-widgets/base",
      "_view_module_version": "1.2.0",
      "_view_name": "StyleView",
      "description_width": ""
     }
    },
    "8ac0286de75940438cdaee591a0d3d24": {
     "model_module": "@jupyter-widgets/base",
     "model_module_version": "1.2.0",
     "model_name": "LayoutModel",
     "state": {
      "_model_module": "@jupyter-widgets/base",
      "_model_module_version": "1.2.0",
      "_model_name": "LayoutModel",
      "_view_count": null,
      "_view_module": "@jupyter-widgets/base",
      "_view_module_version": "1.2.0",
      "_view_name": "LayoutView",
      "align_content": null,
      "align_items": null,
      "align_self": null,
      "border": null,
      "bottom": null,
      "display": null,
      "flex": null,
      "flex_flow": null,
      "grid_area": null,
      "grid_auto_columns": null,
      "grid_auto_flow": null,
      "grid_auto_rows": null,
      "grid_column": null,
      "grid_gap": null,
      "grid_row": null,
      "grid_template_areas": null,
      "grid_template_columns": null,
      "grid_template_rows": null,
      "height": null,
      "justify_content": null,
      "justify_items": null,
      "left": null,
      "margin": null,
      "max_height": null,
      "max_width": null,
      "min_height": null,
      "min_width": null,
      "object_fit": null,
      "object_position": null,
      "order": null,
      "overflow": null,
      "overflow_x": null,
      "overflow_y": null,
      "padding": null,
      "right": null,
      "top": null,
      "visibility": null,
      "width": null
     }
    },
    "8acc01c4edd249c5bdf36333e9e24e57": {
     "model_module": "@jupyter-widgets/base",
     "model_module_version": "1.2.0",
     "model_name": "LayoutModel",
     "state": {
      "_model_module": "@jupyter-widgets/base",
      "_model_module_version": "1.2.0",
      "_model_name": "LayoutModel",
      "_view_count": null,
      "_view_module": "@jupyter-widgets/base",
      "_view_module_version": "1.2.0",
      "_view_name": "LayoutView",
      "align_content": null,
      "align_items": null,
      "align_self": null,
      "border": null,
      "bottom": null,
      "display": null,
      "flex": null,
      "flex_flow": null,
      "grid_area": null,
      "grid_auto_columns": null,
      "grid_auto_flow": null,
      "grid_auto_rows": null,
      "grid_column": null,
      "grid_gap": null,
      "grid_row": null,
      "grid_template_areas": null,
      "grid_template_columns": null,
      "grid_template_rows": null,
      "height": null,
      "justify_content": null,
      "justify_items": null,
      "left": null,
      "margin": null,
      "max_height": null,
      "max_width": null,
      "min_height": null,
      "min_width": null,
      "object_fit": null,
      "object_position": null,
      "order": null,
      "overflow": null,
      "overflow_x": null,
      "overflow_y": null,
      "padding": null,
      "right": null,
      "top": null,
      "visibility": null,
      "width": null
     }
    },
    "8d289b405a544e84a1694b0079a7ce4a": {
     "model_module": "@jupyter-widgets/controls",
     "model_module_version": "1.5.0",
     "model_name": "HBoxModel",
     "state": {
      "_dom_classes": [],
      "_model_module": "@jupyter-widgets/controls",
      "_model_module_version": "1.5.0",
      "_model_name": "HBoxModel",
      "_view_count": null,
      "_view_module": "@jupyter-widgets/controls",
      "_view_module_version": "1.5.0",
      "_view_name": "HBoxView",
      "box_style": "",
      "children": [
       "IPY_MODEL_eaa192d1608f4322854a8bf88242cfa7",
       "IPY_MODEL_e2925c6848c0450b8150dbbc9197f7b4",
       "IPY_MODEL_96787f87f23b4ceaa33955126aa9c252"
      ],
      "layout": "IPY_MODEL_23cf666f7f614867a350e9ef44020040"
     }
    },
    "8fa1912665134655ab0908ef74352a16": {
     "model_module": "@jupyter-widgets/controls",
     "model_module_version": "1.5.0",
     "model_name": "FloatProgressModel",
     "state": {
      "_dom_classes": [],
      "_model_module": "@jupyter-widgets/controls",
      "_model_module_version": "1.5.0",
      "_model_name": "FloatProgressModel",
      "_view_count": null,
      "_view_module": "@jupyter-widgets/controls",
      "_view_module_version": "1.5.0",
      "_view_name": "ProgressView",
      "bar_style": "success",
      "description": "",
      "description_tooltip": null,
      "layout": "IPY_MODEL_81cc5b6d0d5e46f2abab5a40f920609e",
      "max": 1,
      "min": 0,
      "orientation": "horizontal",
      "style": "IPY_MODEL_76c26fed3e6f4e2fa669e7a4b66a0c52",
      "value": 1
     }
    },
    "917fb99088eb4329894cef75e45023ca": {
     "model_module": "@jupyter-widgets/controls",
     "model_module_version": "1.5.0",
     "model_name": "HBoxModel",
     "state": {
      "_dom_classes": [],
      "_model_module": "@jupyter-widgets/controls",
      "_model_module_version": "1.5.0",
      "_model_name": "HBoxModel",
      "_view_count": null,
      "_view_module": "@jupyter-widgets/controls",
      "_view_module_version": "1.5.0",
      "_view_name": "HBoxView",
      "box_style": "",
      "children": [
       "IPY_MODEL_590434dd89ee48e29e4a8a2c274c5c53",
       "IPY_MODEL_04bd756693f14b21bd2901fc2e73d3ef",
       "IPY_MODEL_94196f53645a4731b78a215090acc5c6"
      ],
      "layout": "IPY_MODEL_69782579b2ad412b992f2204b9325dd8"
     }
    },
    "919e99b706034ed6aa81a1e903cfaf73": {
     "model_module": "@jupyter-widgets/base",
     "model_module_version": "1.2.0",
     "model_name": "LayoutModel",
     "state": {
      "_model_module": "@jupyter-widgets/base",
      "_model_module_version": "1.2.0",
      "_model_name": "LayoutModel",
      "_view_count": null,
      "_view_module": "@jupyter-widgets/base",
      "_view_module_version": "1.2.0",
      "_view_name": "LayoutView",
      "align_content": null,
      "align_items": null,
      "align_self": null,
      "border": null,
      "bottom": null,
      "display": null,
      "flex": null,
      "flex_flow": null,
      "grid_area": null,
      "grid_auto_columns": null,
      "grid_auto_flow": null,
      "grid_auto_rows": null,
      "grid_column": null,
      "grid_gap": null,
      "grid_row": null,
      "grid_template_areas": null,
      "grid_template_columns": null,
      "grid_template_rows": null,
      "height": null,
      "justify_content": null,
      "justify_items": null,
      "left": null,
      "margin": null,
      "max_height": null,
      "max_width": null,
      "min_height": null,
      "min_width": null,
      "object_fit": null,
      "object_position": null,
      "order": null,
      "overflow": null,
      "overflow_x": null,
      "overflow_y": null,
      "padding": null,
      "right": null,
      "top": null,
      "visibility": null,
      "width": null
     }
    },
    "91dd08b16fc847b4952ce291dbf40005": {
     "model_module": "@jupyter-widgets/controls",
     "model_module_version": "1.5.0",
     "model_name": "ProgressStyleModel",
     "state": {
      "_model_module": "@jupyter-widgets/controls",
      "_model_module_version": "1.5.0",
      "_model_name": "ProgressStyleModel",
      "_view_count": null,
      "_view_module": "@jupyter-widgets/base",
      "_view_module_version": "1.2.0",
      "_view_name": "StyleView",
      "bar_color": null,
      "description_width": ""
     }
    },
    "92c12f0acd0b497b8d930e149eed7a7f": {
     "model_module": "@jupyter-widgets/controls",
     "model_module_version": "1.5.0",
     "model_name": "HTMLModel",
     "state": {
      "_dom_classes": [],
      "_model_module": "@jupyter-widgets/controls",
      "_model_module_version": "1.5.0",
      "_model_name": "HTMLModel",
      "_view_count": null,
      "_view_module": "@jupyter-widgets/controls",
      "_view_module_version": "1.5.0",
      "_view_name": "HTMLView",
      "description": "",
      "description_tooltip": null,
      "layout": "IPY_MODEL_648574ba3cfd4190ae44289b68d3371f",
      "placeholder": "​",
      "style": "IPY_MODEL_1a72677b51f745489ce1e6c7083b3c2a",
      "value": " 1289/1289 [00:00&lt;00:00, 2139.08 examples/s]"
     }
    },
    "931213e9c0ee47a799a98c5a0a57a764": {
     "model_module": "@jupyter-widgets/controls",
     "model_module_version": "1.5.0",
     "model_name": "DescriptionStyleModel",
     "state": {
      "_model_module": "@jupyter-widgets/controls",
      "_model_module_version": "1.5.0",
      "_model_name": "DescriptionStyleModel",
      "_view_count": null,
      "_view_module": "@jupyter-widgets/base",
      "_view_module_version": "1.2.0",
      "_view_name": "StyleView",
      "description_width": ""
     }
    },
    "93fa3f168798430280f1ff68660349a4": {
     "model_module": "@jupyter-widgets/controls",
     "model_module_version": "1.5.0",
     "model_name": "HTMLModel",
     "state": {
      "_dom_classes": [],
      "_model_module": "@jupyter-widgets/controls",
      "_model_module_version": "1.5.0",
      "_model_name": "HTMLModel",
      "_view_count": null,
      "_view_module": "@jupyter-widgets/controls",
      "_view_module_version": "1.5.0",
      "_view_name": "HTMLView",
      "description": "",
      "description_tooltip": null,
      "layout": "IPY_MODEL_466c81afbe03406280d6edd92ec0f5aa",
      "placeholder": "​",
      "style": "IPY_MODEL_68423cc470b84d56b509e43e7d0622fc",
      "value": " 3852/3852 [00:00&lt;00:00, 18711.23 examples/s]"
     }
    },
    "94196f53645a4731b78a215090acc5c6": {
     "model_module": "@jupyter-widgets/controls",
     "model_module_version": "1.5.0",
     "model_name": "HTMLModel",
     "state": {
      "_dom_classes": [],
      "_model_module": "@jupyter-widgets/controls",
      "_model_module_version": "1.5.0",
      "_model_name": "HTMLModel",
      "_view_count": null,
      "_view_module": "@jupyter-widgets/controls",
      "_view_module_version": "1.5.0",
      "_view_name": "HTMLView",
      "description": "",
      "description_tooltip": null,
      "layout": "IPY_MODEL_3991e93f6d5d4f8e8eee2363a34e224c",
      "placeholder": "​",
      "style": "IPY_MODEL_ad73151124ce47fcb81a3c73718296a4",
      "value": " 629/629 [00:00&lt;00:00, 38.0kB/s]"
     }
    },
    "96787f87f23b4ceaa33955126aa9c252": {
     "model_module": "@jupyter-widgets/controls",
     "model_module_version": "1.5.0",
     "model_name": "HTMLModel",
     "state": {
      "_dom_classes": [],
      "_model_module": "@jupyter-widgets/controls",
      "_model_module_version": "1.5.0",
      "_model_name": "HTMLModel",
      "_view_count": null,
      "_view_module": "@jupyter-widgets/controls",
      "_view_module_version": "1.5.0",
      "_view_name": "HTMLView",
      "description": "",
      "description_tooltip": null,
      "layout": "IPY_MODEL_8572ccf616654eca94d5699122aa51ce",
      "placeholder": "​",
      "style": "IPY_MODEL_61f7bb49e16e486781de91a2975dc83e",
      "value": " 570/570 [00:00&lt;00:00, 26.0kB/s]"
     }
    },
    "96e8555d63cf417fa7430110ef1624e5": {
     "model_module": "@jupyter-widgets/base",
     "model_module_version": "1.2.0",
     "model_name": "LayoutModel",
     "state": {
      "_model_module": "@jupyter-widgets/base",
      "_model_module_version": "1.2.0",
      "_model_name": "LayoutModel",
      "_view_count": null,
      "_view_module": "@jupyter-widgets/base",
      "_view_module_version": "1.2.0",
      "_view_name": "LayoutView",
      "align_content": null,
      "align_items": null,
      "align_self": null,
      "border": null,
      "bottom": null,
      "display": null,
      "flex": null,
      "flex_flow": null,
      "grid_area": null,
      "grid_auto_columns": null,
      "grid_auto_flow": null,
      "grid_auto_rows": null,
      "grid_column": null,
      "grid_gap": null,
      "grid_row": null,
      "grid_template_areas": null,
      "grid_template_columns": null,
      "grid_template_rows": null,
      "height": null,
      "justify_content": null,
      "justify_items": null,
      "left": null,
      "margin": null,
      "max_height": null,
      "max_width": null,
      "min_height": null,
      "min_width": null,
      "object_fit": null,
      "object_position": null,
      "order": null,
      "overflow": null,
      "overflow_x": null,
      "overflow_y": null,
      "padding": null,
      "right": null,
      "top": null,
      "visibility": null,
      "width": null
     }
    },
    "97c86ac930a247b49bf111db20690f9f": {
     "model_module": "@jupyter-widgets/controls",
     "model_module_version": "1.5.0",
     "model_name": "DescriptionStyleModel",
     "state": {
      "_model_module": "@jupyter-widgets/controls",
      "_model_module_version": "1.5.0",
      "_model_name": "DescriptionStyleModel",
      "_view_count": null,
      "_view_module": "@jupyter-widgets/base",
      "_view_module_version": "1.2.0",
      "_view_name": "StyleView",
      "description_width": ""
     }
    },
    "980f204cee3f4d829c4326fe63d16b0e": {
     "model_module": "@jupyter-widgets/controls",
     "model_module_version": "1.5.0",
     "model_name": "DescriptionStyleModel",
     "state": {
      "_model_module": "@jupyter-widgets/controls",
      "_model_module_version": "1.5.0",
      "_model_name": "DescriptionStyleModel",
      "_view_count": null,
      "_view_module": "@jupyter-widgets/base",
      "_view_module_version": "1.2.0",
      "_view_name": "StyleView",
      "description_width": ""
     }
    },
    "980fde34ce5740a09517882962bca862": {
     "model_module": "@jupyter-widgets/controls",
     "model_module_version": "1.5.0",
     "model_name": "FloatProgressModel",
     "state": {
      "_dom_classes": [],
      "_model_module": "@jupyter-widgets/controls",
      "_model_module_version": "1.5.0",
      "_model_name": "FloatProgressModel",
      "_view_count": null,
      "_view_module": "@jupyter-widgets/controls",
      "_view_module_version": "1.5.0",
      "_view_name": "ProgressView",
      "bar_style": "success",
      "description": "",
      "description_tooltip": null,
      "layout": "IPY_MODEL_b3ad093b5a704c4dbe409b34bbbcb804",
      "max": 440449768,
      "min": 0,
      "orientation": "horizontal",
      "style": "IPY_MODEL_632a507543cd43108c278887d0c0e0b3",
      "value": 440449768
     }
    },
    "9a6805866e9a4aaebabfdea1a9754bd8": {
     "model_module": "@jupyter-widgets/base",
     "model_module_version": "1.2.0",
     "model_name": "LayoutModel",
     "state": {
      "_model_module": "@jupyter-widgets/base",
      "_model_module_version": "1.2.0",
      "_model_name": "LayoutModel",
      "_view_count": null,
      "_view_module": "@jupyter-widgets/base",
      "_view_module_version": "1.2.0",
      "_view_name": "LayoutView",
      "align_content": null,
      "align_items": null,
      "align_self": null,
      "border": null,
      "bottom": null,
      "display": null,
      "flex": null,
      "flex_flow": null,
      "grid_area": null,
      "grid_auto_columns": null,
      "grid_auto_flow": null,
      "grid_auto_rows": null,
      "grid_column": null,
      "grid_gap": null,
      "grid_row": null,
      "grid_template_areas": null,
      "grid_template_columns": null,
      "grid_template_rows": null,
      "height": null,
      "justify_content": null,
      "justify_items": null,
      "left": null,
      "margin": null,
      "max_height": null,
      "max_width": null,
      "min_height": null,
      "min_width": null,
      "object_fit": null,
      "object_position": null,
      "order": null,
      "overflow": null,
      "overflow_x": null,
      "overflow_y": null,
      "padding": null,
      "right": null,
      "top": null,
      "visibility": null,
      "width": null
     }
    },
    "9ad2750aa5ab4972bc8156a6115dab44": {
     "model_module": "@jupyter-widgets/controls",
     "model_module_version": "1.5.0",
     "model_name": "DescriptionStyleModel",
     "state": {
      "_model_module": "@jupyter-widgets/controls",
      "_model_module_version": "1.5.0",
      "_model_name": "DescriptionStyleModel",
      "_view_count": null,
      "_view_module": "@jupyter-widgets/base",
      "_view_module_version": "1.2.0",
      "_view_name": "StyleView",
      "description_width": ""
     }
    },
    "9c51062634f544a5afcf04f59dbc9131": {
     "model_module": "@jupyter-widgets/controls",
     "model_module_version": "1.5.0",
     "model_name": "ProgressStyleModel",
     "state": {
      "_model_module": "@jupyter-widgets/controls",
      "_model_module_version": "1.5.0",
      "_model_name": "ProgressStyleModel",
      "_view_count": null,
      "_view_module": "@jupyter-widgets/base",
      "_view_module_version": "1.2.0",
      "_view_name": "StyleView",
      "bar_color": null,
      "description_width": ""
     }
    },
    "9dae0e5082ee4776bc64e644d155af33": {
     "model_module": "@jupyter-widgets/base",
     "model_module_version": "1.2.0",
     "model_name": "LayoutModel",
     "state": {
      "_model_module": "@jupyter-widgets/base",
      "_model_module_version": "1.2.0",
      "_model_name": "LayoutModel",
      "_view_count": null,
      "_view_module": "@jupyter-widgets/base",
      "_view_module_version": "1.2.0",
      "_view_name": "LayoutView",
      "align_content": null,
      "align_items": null,
      "align_self": null,
      "border": null,
      "bottom": null,
      "display": null,
      "flex": null,
      "flex_flow": null,
      "grid_area": null,
      "grid_auto_columns": null,
      "grid_auto_flow": null,
      "grid_auto_rows": null,
      "grid_column": null,
      "grid_gap": null,
      "grid_row": null,
      "grid_template_areas": null,
      "grid_template_columns": null,
      "grid_template_rows": null,
      "height": null,
      "justify_content": null,
      "justify_items": null,
      "left": null,
      "margin": null,
      "max_height": null,
      "max_width": null,
      "min_height": null,
      "min_width": null,
      "object_fit": null,
      "object_position": null,
      "order": null,
      "overflow": null,
      "overflow_x": null,
      "overflow_y": null,
      "padding": null,
      "right": null,
      "top": null,
      "visibility": null,
      "width": null
     }
    },
    "9dbde3e27b4c4440b7a6de971c838ddc": {
     "model_module": "@jupyter-widgets/controls",
     "model_module_version": "1.5.0",
     "model_name": "HBoxModel",
     "state": {
      "_dom_classes": [],
      "_model_module": "@jupyter-widgets/controls",
      "_model_module_version": "1.5.0",
      "_model_name": "HBoxModel",
      "_view_count": null,
      "_view_module": "@jupyter-widgets/controls",
      "_view_module_version": "1.5.0",
      "_view_name": "HBoxView",
      "box_style": "",
      "children": [
       "IPY_MODEL_ff1933d7656e41cfa276d74b0d458a5d",
       "IPY_MODEL_4d9eb2d890ea430cb0f6cfb03c0913ec",
       "IPY_MODEL_93fa3f168798430280f1ff68660349a4"
      ],
      "layout": "IPY_MODEL_63a4322a79ce4ed9ade9951a68184c79"
     }
    },
    "a000821e9b994a63964db53c2ffae61c": {
     "model_module": "@jupyter-widgets/base",
     "model_module_version": "1.2.0",
     "model_name": "LayoutModel",
     "state": {
      "_model_module": "@jupyter-widgets/base",
      "_model_module_version": "1.2.0",
      "_model_name": "LayoutModel",
      "_view_count": null,
      "_view_module": "@jupyter-widgets/base",
      "_view_module_version": "1.2.0",
      "_view_name": "LayoutView",
      "align_content": null,
      "align_items": null,
      "align_self": null,
      "border": null,
      "bottom": null,
      "display": null,
      "flex": null,
      "flex_flow": null,
      "grid_area": null,
      "grid_auto_columns": null,
      "grid_auto_flow": null,
      "grid_auto_rows": null,
      "grid_column": null,
      "grid_gap": null,
      "grid_row": null,
      "grid_template_areas": null,
      "grid_template_columns": null,
      "grid_template_rows": null,
      "height": null,
      "justify_content": null,
      "justify_items": null,
      "left": null,
      "margin": null,
      "max_height": null,
      "max_width": null,
      "min_height": null,
      "min_width": null,
      "object_fit": null,
      "object_position": null,
      "order": null,
      "overflow": null,
      "overflow_x": null,
      "overflow_y": null,
      "padding": null,
      "right": null,
      "top": null,
      "visibility": null,
      "width": null
     }
    },
    "a000d3139bcc44babd2409da447eab16": {
     "model_module": "@jupyter-widgets/controls",
     "model_module_version": "1.5.0",
     "model_name": "FloatProgressModel",
     "state": {
      "_dom_classes": [],
      "_model_module": "@jupyter-widgets/controls",
      "_model_module_version": "1.5.0",
      "_model_name": "FloatProgressModel",
      "_view_count": null,
      "_view_module": "@jupyter-widgets/controls",
      "_view_module_version": "1.5.0",
      "_view_name": "ProgressView",
      "bar_style": "success",
      "description": "",
      "description_tooltip": null,
      "layout": "IPY_MODEL_74690264747443baada58da696384387",
      "max": 1,
      "min": 0,
      "orientation": "horizontal",
      "style": "IPY_MODEL_1fe2af3e027142309946a9cc019e5c13",
      "value": 1
     }
    },
    "a03055e17979435892821dcb79ae1524": {
     "model_module": "@jupyter-widgets/controls",
     "model_module_version": "1.5.0",
     "model_name": "DescriptionStyleModel",
     "state": {
      "_model_module": "@jupyter-widgets/controls",
      "_model_module_version": "1.5.0",
      "_model_name": "DescriptionStyleModel",
      "_view_count": null,
      "_view_module": "@jupyter-widgets/base",
      "_view_module_version": "1.2.0",
      "_view_name": "StyleView",
      "description_width": ""
     }
    },
    "a03121d1063149a189d3d7f561099d44": {
     "model_module": "@jupyter-widgets/base",
     "model_module_version": "1.2.0",
     "model_name": "LayoutModel",
     "state": {
      "_model_module": "@jupyter-widgets/base",
      "_model_module_version": "1.2.0",
      "_model_name": "LayoutModel",
      "_view_count": null,
      "_view_module": "@jupyter-widgets/base",
      "_view_module_version": "1.2.0",
      "_view_name": "LayoutView",
      "align_content": null,
      "align_items": null,
      "align_self": null,
      "border": null,
      "bottom": null,
      "display": null,
      "flex": null,
      "flex_flow": null,
      "grid_area": null,
      "grid_auto_columns": null,
      "grid_auto_flow": null,
      "grid_auto_rows": null,
      "grid_column": null,
      "grid_gap": null,
      "grid_row": null,
      "grid_template_areas": null,
      "grid_template_columns": null,
      "grid_template_rows": null,
      "height": null,
      "justify_content": null,
      "justify_items": null,
      "left": null,
      "margin": null,
      "max_height": null,
      "max_width": null,
      "min_height": null,
      "min_width": null,
      "object_fit": null,
      "object_position": null,
      "order": null,
      "overflow": null,
      "overflow_x": null,
      "overflow_y": null,
      "padding": null,
      "right": null,
      "top": null,
      "visibility": null,
      "width": null
     }
    },
    "a07ca3c194074fc382bce90671da91dc": {
     "model_module": "@jupyter-widgets/controls",
     "model_module_version": "1.5.0",
     "model_name": "FloatProgressModel",
     "state": {
      "_dom_classes": [],
      "_model_module": "@jupyter-widgets/controls",
      "_model_module_version": "1.5.0",
      "_model_name": "FloatProgressModel",
      "_view_count": null,
      "_view_module": "@jupyter-widgets/controls",
      "_view_module_version": "1.5.0",
      "_view_name": "ProgressView",
      "bar_style": "success",
      "description": "",
      "description_tooltip": null,
      "layout": "IPY_MODEL_5cc744a17a254e739b953518f2b4d47c",
      "max": 3081,
      "min": 0,
      "orientation": "horizontal",
      "style": "IPY_MODEL_f59beaa8010b4e4fa173ae0e4bb0ebbd",
      "value": 3081
     }
    },
    "a0c2d63887744302b6179f36bb583879": {
     "model_module": "@jupyter-widgets/controls",
     "model_module_version": "1.5.0",
     "model_name": "HTMLModel",
     "state": {
      "_dom_classes": [],
      "_model_module": "@jupyter-widgets/controls",
      "_model_module_version": "1.5.0",
      "_model_name": "HTMLModel",
      "_view_count": null,
      "_view_module": "@jupyter-widgets/controls",
      "_view_module_version": "1.5.0",
      "_view_name": "HTMLView",
      "description": "",
      "description_tooltip": null,
      "layout": "IPY_MODEL_80ec1588af6b426c9d9709989c78d455",
      "placeholder": "​",
      "style": "IPY_MODEL_57e595d3ab874902a16accd73b19c865",
      "value": " 548M/548M [00:07&lt;00:00, 33.2MB/s]"
     }
    },
    "a0d6a4f644164ad5b8886e50f37fdee7": {
     "model_module": "@jupyter-widgets/controls",
     "model_module_version": "1.5.0",
     "model_name": "HTMLModel",
     "state": {
      "_dom_classes": [],
      "_model_module": "@jupyter-widgets/controls",
      "_model_module_version": "1.5.0",
      "_model_name": "HTMLModel",
      "_view_count": null,
      "_view_module": "@jupyter-widgets/controls",
      "_view_module_version": "1.5.0",
      "_view_name": "HTMLView",
      "description": "",
      "description_tooltip": null,
      "layout": "IPY_MODEL_aed9c03c8e9d4e0f8eda236bd013f637",
      "placeholder": "​",
      "style": "IPY_MODEL_e01d1f7a9092482f8b03bee5770116bb",
      "value": "Map: 100%"
     }
    },
    "a19cf0f8087a4b77b6f63e687f4c66eb": {
     "model_module": "@jupyter-widgets/controls",
     "model_module_version": "1.5.0",
     "model_name": "HBoxModel",
     "state": {
      "_dom_classes": [],
      "_model_module": "@jupyter-widgets/controls",
      "_model_module_version": "1.5.0",
      "_model_name": "HBoxModel",
      "_view_count": null,
      "_view_module": "@jupyter-widgets/controls",
      "_view_module_version": "1.5.0",
      "_view_name": "HBoxView",
      "box_style": "",
      "children": [
       "IPY_MODEL_2df66cf412d4416aa4d4120ef82f283d",
       "IPY_MODEL_d3b257e5f68f493b9426b9169f8201be",
       "IPY_MODEL_2689aebe8b564cd7b1f174c8b2adcb3e"
      ],
      "layout": "IPY_MODEL_3f81f775fb0c478b8423db9bddbfad2e"
     }
    },
    "a1f68db900cd4f86a7add2b3866ce6e7": {
     "model_module": "@jupyter-widgets/controls",
     "model_module_version": "1.5.0",
     "model_name": "HBoxModel",
     "state": {
      "_dom_classes": [],
      "_model_module": "@jupyter-widgets/controls",
      "_model_module_version": "1.5.0",
      "_model_name": "HBoxModel",
      "_view_count": null,
      "_view_module": "@jupyter-widgets/controls",
      "_view_module_version": "1.5.0",
      "_view_name": "HBoxView",
      "box_style": "",
      "children": [
       "IPY_MODEL_4148fdd044b742829876144096e3d247",
       "IPY_MODEL_717a6caa55834da9bdeb736a8bb9192f",
       "IPY_MODEL_610cb20066c34d948550f9560e498430"
      ],
      "layout": "IPY_MODEL_3721e8f28e1b4547aaedcd760bdfd69a"
     }
    },
    "a217806554694ed7bf5aa8ad795a3597": {
     "model_module": "@jupyter-widgets/controls",
     "model_module_version": "1.5.0",
     "model_name": "HBoxModel",
     "state": {
      "_dom_classes": [],
      "_model_module": "@jupyter-widgets/controls",
      "_model_module_version": "1.5.0",
      "_model_name": "HBoxModel",
      "_view_count": null,
      "_view_module": "@jupyter-widgets/controls",
      "_view_module_version": "1.5.0",
      "_view_name": "HBoxView",
      "box_style": "",
      "children": [
       "IPY_MODEL_5777ee41883d442c91fe94bb09549bc0",
       "IPY_MODEL_f015070e82a44db4a6e54147f59af735",
       "IPY_MODEL_92c12f0acd0b497b8d930e149eed7a7f"
      ],
      "layout": "IPY_MODEL_28cf349108fb4666b27ae62b4a573b3a"
     }
    },
    "a229f1dee3d043d49b4f337d21aee795": {
     "model_module": "@jupyter-widgets/controls",
     "model_module_version": "1.5.0",
     "model_name": "HTMLModel",
     "state": {
      "_dom_classes": [],
      "_model_module": "@jupyter-widgets/controls",
      "_model_module_version": "1.5.0",
      "_model_name": "HTMLModel",
      "_view_count": null,
      "_view_module": "@jupyter-widgets/controls",
      "_view_module_version": "1.5.0",
      "_view_name": "HTMLView",
      "description": "",
      "description_tooltip": null,
      "layout": "IPY_MODEL_e413a8f688144c74ba4028bf4ed854d5",
      "placeholder": "​",
      "style": "IPY_MODEL_1177ccace23c41cd9d4a64ac9a214106",
      "value": " 771/771 [00:12&lt;00:00, 76.97 examples/s]"
     }
    },
    "a3531b7aebd54dfd81df3407d90fa2ad": {
     "model_module": "@jupyter-widgets/base",
     "model_module_version": "1.2.0",
     "model_name": "LayoutModel",
     "state": {
      "_model_module": "@jupyter-widgets/base",
      "_model_module_version": "1.2.0",
      "_model_name": "LayoutModel",
      "_view_count": null,
      "_view_module": "@jupyter-widgets/base",
      "_view_module_version": "1.2.0",
      "_view_name": "LayoutView",
      "align_content": null,
      "align_items": null,
      "align_self": null,
      "border": null,
      "bottom": null,
      "display": null,
      "flex": null,
      "flex_flow": null,
      "grid_area": null,
      "grid_auto_columns": null,
      "grid_auto_flow": null,
      "grid_auto_rows": null,
      "grid_column": null,
      "grid_gap": null,
      "grid_row": null,
      "grid_template_areas": null,
      "grid_template_columns": null,
      "grid_template_rows": null,
      "height": null,
      "justify_content": null,
      "justify_items": null,
      "left": null,
      "margin": null,
      "max_height": null,
      "max_width": null,
      "min_height": null,
      "min_width": null,
      "object_fit": null,
      "object_position": null,
      "order": null,
      "overflow": null,
      "overflow_x": null,
      "overflow_y": null,
      "padding": null,
      "right": null,
      "top": null,
      "visibility": null,
      "width": null
     }
    },
    "a3d8dcdcb68140cc9a836824d0b301b9": {
     "model_module": "@jupyter-widgets/base",
     "model_module_version": "1.2.0",
     "model_name": "LayoutModel",
     "state": {
      "_model_module": "@jupyter-widgets/base",
      "_model_module_version": "1.2.0",
      "_model_name": "LayoutModel",
      "_view_count": null,
      "_view_module": "@jupyter-widgets/base",
      "_view_module_version": "1.2.0",
      "_view_name": "LayoutView",
      "align_content": null,
      "align_items": null,
      "align_self": null,
      "border": null,
      "bottom": null,
      "display": null,
      "flex": null,
      "flex_flow": null,
      "grid_area": null,
      "grid_auto_columns": null,
      "grid_auto_flow": null,
      "grid_auto_rows": null,
      "grid_column": null,
      "grid_gap": null,
      "grid_row": null,
      "grid_template_areas": null,
      "grid_template_columns": null,
      "grid_template_rows": null,
      "height": null,
      "justify_content": null,
      "justify_items": null,
      "left": null,
      "margin": null,
      "max_height": null,
      "max_width": null,
      "min_height": null,
      "min_width": null,
      "object_fit": null,
      "object_position": null,
      "order": null,
      "overflow": null,
      "overflow_x": null,
      "overflow_y": null,
      "padding": null,
      "right": null,
      "top": null,
      "visibility": null,
      "width": null
     }
    },
    "a42616c094cb4485920db4bb2972b8e8": {
     "model_module": "@jupyter-widgets/base",
     "model_module_version": "1.2.0",
     "model_name": "LayoutModel",
     "state": {
      "_model_module": "@jupyter-widgets/base",
      "_model_module_version": "1.2.0",
      "_model_name": "LayoutModel",
      "_view_count": null,
      "_view_module": "@jupyter-widgets/base",
      "_view_module_version": "1.2.0",
      "_view_name": "LayoutView",
      "align_content": null,
      "align_items": null,
      "align_self": null,
      "border": null,
      "bottom": null,
      "display": null,
      "flex": null,
      "flex_flow": null,
      "grid_area": null,
      "grid_auto_columns": null,
      "grid_auto_flow": null,
      "grid_auto_rows": null,
      "grid_column": null,
      "grid_gap": null,
      "grid_row": null,
      "grid_template_areas": null,
      "grid_template_columns": null,
      "grid_template_rows": null,
      "height": null,
      "justify_content": null,
      "justify_items": null,
      "left": null,
      "margin": null,
      "max_height": null,
      "max_width": null,
      "min_height": null,
      "min_width": null,
      "object_fit": null,
      "object_position": null,
      "order": null,
      "overflow": null,
      "overflow_x": null,
      "overflow_y": null,
      "padding": null,
      "right": null,
      "top": null,
      "visibility": null,
      "width": null
     }
    },
    "a4bfb99a9177451295c08faaf090e309": {
     "model_module": "@jupyter-widgets/base",
     "model_module_version": "1.2.0",
     "model_name": "LayoutModel",
     "state": {
      "_model_module": "@jupyter-widgets/base",
      "_model_module_version": "1.2.0",
      "_model_name": "LayoutModel",
      "_view_count": null,
      "_view_module": "@jupyter-widgets/base",
      "_view_module_version": "1.2.0",
      "_view_name": "LayoutView",
      "align_content": null,
      "align_items": null,
      "align_self": null,
      "border": null,
      "bottom": null,
      "display": null,
      "flex": null,
      "flex_flow": null,
      "grid_area": null,
      "grid_auto_columns": null,
      "grid_auto_flow": null,
      "grid_auto_rows": null,
      "grid_column": null,
      "grid_gap": null,
      "grid_row": null,
      "grid_template_areas": null,
      "grid_template_columns": null,
      "grid_template_rows": null,
      "height": null,
      "justify_content": null,
      "justify_items": null,
      "left": null,
      "margin": null,
      "max_height": null,
      "max_width": null,
      "min_height": null,
      "min_width": null,
      "object_fit": null,
      "object_position": null,
      "order": null,
      "overflow": null,
      "overflow_x": null,
      "overflow_y": null,
      "padding": null,
      "right": null,
      "top": null,
      "visibility": null,
      "width": null
     }
    },
    "a6176cd161f3434790dc6a57b1dfd434": {
     "model_module": "@jupyter-widgets/controls",
     "model_module_version": "1.5.0",
     "model_name": "HBoxModel",
     "state": {
      "_dom_classes": [],
      "_model_module": "@jupyter-widgets/controls",
      "_model_module_version": "1.5.0",
      "_model_name": "HBoxModel",
      "_view_count": null,
      "_view_module": "@jupyter-widgets/controls",
      "_view_module_version": "1.5.0",
      "_view_name": "HBoxView",
      "box_style": "",
      "children": [
       "IPY_MODEL_dac7c2ae49cb4951bf7a85f81659b858",
       "IPY_MODEL_1744cd188d08474884a66b6abc6bdba8",
       "IPY_MODEL_6fac2174a8e64ce0a4b952238892d83d"
      ],
      "layout": "IPY_MODEL_3eaa5c70d72c42a8bccfeb5c5a352b96"
     }
    },
    "a70b5fb152ce46448bdc636835987a24": {
     "model_module": "@jupyter-widgets/controls",
     "model_module_version": "1.5.0",
     "model_name": "HTMLModel",
     "state": {
      "_dom_classes": [],
      "_model_module": "@jupyter-widgets/controls",
      "_model_module_version": "1.5.0",
      "_model_name": "HTMLModel",
      "_view_count": null,
      "_view_module": "@jupyter-widgets/controls",
      "_view_module_version": "1.5.0",
      "_view_name": "HTMLView",
      "description": "",
      "description_tooltip": null,
      "layout": "IPY_MODEL_6ff6524cf1454919888e3967c7ca4728",
      "placeholder": "​",
      "style": "IPY_MODEL_7ae214ca6e9546798b71d7633377b2d2",
      "value": " 1289/1289 [00:00&lt;00:00, 4697.54 examples/s]"
     }
    },
    "a8ca1717ef74473b99d901a76c0028c9": {
     "model_module": "@jupyter-widgets/base",
     "model_module_version": "1.2.0",
     "model_name": "LayoutModel",
     "state": {
      "_model_module": "@jupyter-widgets/base",
      "_model_module_version": "1.2.0",
      "_model_name": "LayoutModel",
      "_view_count": null,
      "_view_module": "@jupyter-widgets/base",
      "_view_module_version": "1.2.0",
      "_view_name": "LayoutView",
      "align_content": null,
      "align_items": null,
      "align_self": null,
      "border": null,
      "bottom": null,
      "display": null,
      "flex": null,
      "flex_flow": null,
      "grid_area": null,
      "grid_auto_columns": null,
      "grid_auto_flow": null,
      "grid_auto_rows": null,
      "grid_column": null,
      "grid_gap": null,
      "grid_row": null,
      "grid_template_areas": null,
      "grid_template_columns": null,
      "grid_template_rows": null,
      "height": null,
      "justify_content": null,
      "justify_items": null,
      "left": null,
      "margin": null,
      "max_height": null,
      "max_width": null,
      "min_height": null,
      "min_width": null,
      "object_fit": null,
      "object_position": null,
      "order": null,
      "overflow": null,
      "overflow_x": null,
      "overflow_y": null,
      "padding": null,
      "right": null,
      "top": null,
      "visibility": null,
      "width": null
     }
    },
    "a8efeb7e49c8460ca32bcd5c837f8b2b": {
     "model_module": "@jupyter-widgets/controls",
     "model_module_version": "1.5.0",
     "model_name": "ProgressStyleModel",
     "state": {
      "_model_module": "@jupyter-widgets/controls",
      "_model_module_version": "1.5.0",
      "_model_name": "ProgressStyleModel",
      "_view_count": null,
      "_view_module": "@jupyter-widgets/base",
      "_view_module_version": "1.2.0",
      "_view_name": "StyleView",
      "bar_color": null,
      "description_width": ""
     }
    },
    "a8f94a7dcd194cee8c44f683dd80b9d8": {
     "model_module": "@jupyter-widgets/base",
     "model_module_version": "1.2.0",
     "model_name": "LayoutModel",
     "state": {
      "_model_module": "@jupyter-widgets/base",
      "_model_module_version": "1.2.0",
      "_model_name": "LayoutModel",
      "_view_count": null,
      "_view_module": "@jupyter-widgets/base",
      "_view_module_version": "1.2.0",
      "_view_name": "LayoutView",
      "align_content": null,
      "align_items": null,
      "align_self": null,
      "border": null,
      "bottom": null,
      "display": null,
      "flex": null,
      "flex_flow": null,
      "grid_area": null,
      "grid_auto_columns": null,
      "grid_auto_flow": null,
      "grid_auto_rows": null,
      "grid_column": null,
      "grid_gap": null,
      "grid_row": null,
      "grid_template_areas": null,
      "grid_template_columns": null,
      "grid_template_rows": null,
      "height": null,
      "justify_content": null,
      "justify_items": null,
      "left": null,
      "margin": null,
      "max_height": null,
      "max_width": null,
      "min_height": null,
      "min_width": null,
      "object_fit": null,
      "object_position": null,
      "order": null,
      "overflow": null,
      "overflow_x": null,
      "overflow_y": null,
      "padding": null,
      "right": null,
      "top": null,
      "visibility": null,
      "width": null
     }
    },
    "a97bc72ee0c240b2885198db446ca205": {
     "model_module": "@jupyter-widgets/base",
     "model_module_version": "1.2.0",
     "model_name": "LayoutModel",
     "state": {
      "_model_module": "@jupyter-widgets/base",
      "_model_module_version": "1.2.0",
      "_model_name": "LayoutModel",
      "_view_count": null,
      "_view_module": "@jupyter-widgets/base",
      "_view_module_version": "1.2.0",
      "_view_name": "LayoutView",
      "align_content": null,
      "align_items": null,
      "align_self": null,
      "border": null,
      "bottom": null,
      "display": null,
      "flex": null,
      "flex_flow": null,
      "grid_area": null,
      "grid_auto_columns": null,
      "grid_auto_flow": null,
      "grid_auto_rows": null,
      "grid_column": null,
      "grid_gap": null,
      "grid_row": null,
      "grid_template_areas": null,
      "grid_template_columns": null,
      "grid_template_rows": null,
      "height": null,
      "justify_content": null,
      "justify_items": null,
      "left": null,
      "margin": null,
      "max_height": null,
      "max_width": null,
      "min_height": null,
      "min_width": null,
      "object_fit": null,
      "object_position": null,
      "order": null,
      "overflow": null,
      "overflow_x": null,
      "overflow_y": null,
      "padding": null,
      "right": null,
      "top": null,
      "visibility": null,
      "width": null
     }
    },
    "a9c1e03886a94994915b30c1146d226e": {
     "model_module": "@jupyter-widgets/controls",
     "model_module_version": "1.5.0",
     "model_name": "HTMLModel",
     "state": {
      "_dom_classes": [],
      "_model_module": "@jupyter-widgets/controls",
      "_model_module_version": "1.5.0",
      "_model_name": "HTMLModel",
      "_view_count": null,
      "_view_module": "@jupyter-widgets/controls",
      "_view_module_version": "1.5.0",
      "_view_name": "HTMLView",
      "description": "",
      "description_tooltip": null,
      "layout": "IPY_MODEL_ca84fa32fa0849dea87342c58d591cce",
      "placeholder": "​",
      "style": "IPY_MODEL_24d0f4c01b754ca08d8fd47efdd7401d",
      "value": "Downloading (…)/main/tokenizer.json: 100%"
     }
    },
    "aa2e85f8edcc44e3a83828950c0ee1ea": {
     "model_module": "@jupyter-widgets/controls",
     "model_module_version": "1.5.0",
     "model_name": "DescriptionStyleModel",
     "state": {
      "_model_module": "@jupyter-widgets/controls",
      "_model_module_version": "1.5.0",
      "_model_name": "DescriptionStyleModel",
      "_view_count": null,
      "_view_module": "@jupyter-widgets/base",
      "_view_module_version": "1.2.0",
      "_view_name": "StyleView",
      "description_width": ""
     }
    },
    "aaf53f3e949d40cabae0c0daf2aba48b": {
     "model_module": "@jupyter-widgets/base",
     "model_module_version": "1.2.0",
     "model_name": "LayoutModel",
     "state": {
      "_model_module": "@jupyter-widgets/base",
      "_model_module_version": "1.2.0",
      "_model_name": "LayoutModel",
      "_view_count": null,
      "_view_module": "@jupyter-widgets/base",
      "_view_module_version": "1.2.0",
      "_view_name": "LayoutView",
      "align_content": null,
      "align_items": null,
      "align_self": null,
      "border": null,
      "bottom": null,
      "display": null,
      "flex": null,
      "flex_flow": null,
      "grid_area": null,
      "grid_auto_columns": null,
      "grid_auto_flow": null,
      "grid_auto_rows": null,
      "grid_column": null,
      "grid_gap": null,
      "grid_row": null,
      "grid_template_areas": null,
      "grid_template_columns": null,
      "grid_template_rows": null,
      "height": null,
      "justify_content": null,
      "justify_items": null,
      "left": null,
      "margin": null,
      "max_height": null,
      "max_width": null,
      "min_height": null,
      "min_width": null,
      "object_fit": null,
      "object_position": null,
      "order": null,
      "overflow": null,
      "overflow_x": null,
      "overflow_y": null,
      "padding": null,
      "right": null,
      "top": null,
      "visibility": null,
      "width": null
     }
    },
    "ac23cca0aca54d70bd0c13fca43386d2": {
     "model_module": "@jupyter-widgets/base",
     "model_module_version": "1.2.0",
     "model_name": "LayoutModel",
     "state": {
      "_model_module": "@jupyter-widgets/base",
      "_model_module_version": "1.2.0",
      "_model_name": "LayoutModel",
      "_view_count": null,
      "_view_module": "@jupyter-widgets/base",
      "_view_module_version": "1.2.0",
      "_view_name": "LayoutView",
      "align_content": null,
      "align_items": null,
      "align_self": null,
      "border": null,
      "bottom": null,
      "display": null,
      "flex": null,
      "flex_flow": null,
      "grid_area": null,
      "grid_auto_columns": null,
      "grid_auto_flow": null,
      "grid_auto_rows": null,
      "grid_column": null,
      "grid_gap": null,
      "grid_row": null,
      "grid_template_areas": null,
      "grid_template_columns": null,
      "grid_template_rows": null,
      "height": null,
      "justify_content": null,
      "justify_items": null,
      "left": null,
      "margin": null,
      "max_height": null,
      "max_width": null,
      "min_height": null,
      "min_width": null,
      "object_fit": null,
      "object_position": null,
      "order": null,
      "overflow": null,
      "overflow_x": null,
      "overflow_y": null,
      "padding": null,
      "right": null,
      "top": null,
      "visibility": null,
      "width": null
     }
    },
    "ad73151124ce47fcb81a3c73718296a4": {
     "model_module": "@jupyter-widgets/controls",
     "model_module_version": "1.5.0",
     "model_name": "DescriptionStyleModel",
     "state": {
      "_model_module": "@jupyter-widgets/controls",
      "_model_module_version": "1.5.0",
      "_model_name": "DescriptionStyleModel",
      "_view_count": null,
      "_view_module": "@jupyter-widgets/base",
      "_view_module_version": "1.2.0",
      "_view_name": "StyleView",
      "description_width": ""
     }
    },
    "ae0ece405c544406b9e0c90a665d068c": {
     "model_module": "@jupyter-widgets/base",
     "model_module_version": "1.2.0",
     "model_name": "LayoutModel",
     "state": {
      "_model_module": "@jupyter-widgets/base",
      "_model_module_version": "1.2.0",
      "_model_name": "LayoutModel",
      "_view_count": null,
      "_view_module": "@jupyter-widgets/base",
      "_view_module_version": "1.2.0",
      "_view_name": "LayoutView",
      "align_content": null,
      "align_items": null,
      "align_self": null,
      "border": null,
      "bottom": null,
      "display": null,
      "flex": null,
      "flex_flow": null,
      "grid_area": null,
      "grid_auto_columns": null,
      "grid_auto_flow": null,
      "grid_auto_rows": null,
      "grid_column": null,
      "grid_gap": null,
      "grid_row": null,
      "grid_template_areas": null,
      "grid_template_columns": null,
      "grid_template_rows": null,
      "height": null,
      "justify_content": null,
      "justify_items": null,
      "left": null,
      "margin": null,
      "max_height": null,
      "max_width": null,
      "min_height": null,
      "min_width": null,
      "object_fit": null,
      "object_position": null,
      "order": null,
      "overflow": null,
      "overflow_x": null,
      "overflow_y": null,
      "padding": null,
      "right": null,
      "top": null,
      "visibility": null,
      "width": null
     }
    },
    "ae459920284243408cf298063ea85720": {
     "model_module": "@jupyter-widgets/controls",
     "model_module_version": "1.5.0",
     "model_name": "FloatProgressModel",
     "state": {
      "_dom_classes": [],
      "_model_module": "@jupyter-widgets/controls",
      "_model_module_version": "1.5.0",
      "_model_name": "FloatProgressModel",
      "_view_count": null,
      "_view_module": "@jupyter-widgets/controls",
      "_view_module_version": "1.5.0",
      "_view_name": "ProgressView",
      "bar_style": "success",
      "description": "",
      "description_tooltip": null,
      "layout": "IPY_MODEL_89ca84846175417eb38fd7f405a5da93",
      "max": 3081,
      "min": 0,
      "orientation": "horizontal",
      "style": "IPY_MODEL_25a7341afc894965bc384be1379e07dd",
      "value": 3081
     }
    },
    "aed9c03c8e9d4e0f8eda236bd013f637": {
     "model_module": "@jupyter-widgets/base",
     "model_module_version": "1.2.0",
     "model_name": "LayoutModel",
     "state": {
      "_model_module": "@jupyter-widgets/base",
      "_model_module_version": "1.2.0",
      "_model_name": "LayoutModel",
      "_view_count": null,
      "_view_module": "@jupyter-widgets/base",
      "_view_module_version": "1.2.0",
      "_view_name": "LayoutView",
      "align_content": null,
      "align_items": null,
      "align_self": null,
      "border": null,
      "bottom": null,
      "display": null,
      "flex": null,
      "flex_flow": null,
      "grid_area": null,
      "grid_auto_columns": null,
      "grid_auto_flow": null,
      "grid_auto_rows": null,
      "grid_column": null,
      "grid_gap": null,
      "grid_row": null,
      "grid_template_areas": null,
      "grid_template_columns": null,
      "grid_template_rows": null,
      "height": null,
      "justify_content": null,
      "justify_items": null,
      "left": null,
      "margin": null,
      "max_height": null,
      "max_width": null,
      "min_height": null,
      "min_width": null,
      "object_fit": null,
      "object_position": null,
      "order": null,
      "overflow": null,
      "overflow_x": null,
      "overflow_y": null,
      "padding": null,
      "right": null,
      "top": null,
      "visibility": null,
      "width": null
     }
    },
    "afb9bfef678240eea5b8890258302834": {
     "model_module": "@jupyter-widgets/controls",
     "model_module_version": "1.5.0",
     "model_name": "HBoxModel",
     "state": {
      "_dom_classes": [],
      "_model_module": "@jupyter-widgets/controls",
      "_model_module_version": "1.5.0",
      "_model_name": "HBoxModel",
      "_view_count": null,
      "_view_module": "@jupyter-widgets/controls",
      "_view_module_version": "1.5.0",
      "_view_name": "HBoxView",
      "box_style": "",
      "children": [
       "IPY_MODEL_29a95b9254be492ba40595dbd4d56c2b",
       "IPY_MODEL_7bb936c783ab402b870cf609dd9d3129",
       "IPY_MODEL_589cc9d8dd0b40d5abb92bb83398f8c6"
      ],
      "layout": "IPY_MODEL_6b5f3c6e7aa941799ea143fbaf6391ed"
     }
    },
    "b00f91de164a49c3bfe1759a685a126f": {
     "model_module": "@jupyter-widgets/controls",
     "model_module_version": "1.5.0",
     "model_name": "ProgressStyleModel",
     "state": {
      "_model_module": "@jupyter-widgets/controls",
      "_model_module_version": "1.5.0",
      "_model_name": "ProgressStyleModel",
      "_view_count": null,
      "_view_module": "@jupyter-widgets/base",
      "_view_module_version": "1.2.0",
      "_view_name": "StyleView",
      "bar_color": null,
      "description_width": ""
     }
    },
    "b143e584661a42969b6a9f376546486a": {
     "model_module": "@jupyter-widgets/controls",
     "model_module_version": "1.5.0",
     "model_name": "HTMLModel",
     "state": {
      "_dom_classes": [],
      "_model_module": "@jupyter-widgets/controls",
      "_model_module_version": "1.5.0",
      "_model_name": "HTMLModel",
      "_view_count": null,
      "_view_module": "@jupyter-widgets/controls",
      "_view_module_version": "1.5.0",
      "_view_name": "HTMLView",
      "description": "",
      "description_tooltip": null,
      "layout": "IPY_MODEL_8ac0286de75940438cdaee591a0d3d24",
      "placeholder": "​",
      "style": "IPY_MODEL_6c7078294d0a48d1b628e396e704497d",
      "value": "Downloading (…)okenizer_config.json: 100%"
     }
    },
    "b18c2a607fe049398062c6c207484e3e": {
     "model_module": "@jupyter-widgets/controls",
     "model_module_version": "1.5.0",
     "model_name": "HBoxModel",
     "state": {
      "_dom_classes": [],
      "_model_module": "@jupyter-widgets/controls",
      "_model_module_version": "1.5.0",
      "_model_name": "HBoxModel",
      "_view_count": null,
      "_view_module": "@jupyter-widgets/controls",
      "_view_module_version": "1.5.0",
      "_view_name": "HBoxView",
      "box_style": "",
      "children": [
       "IPY_MODEL_f151d215e09a490f910be8db015bba80",
       "IPY_MODEL_382a49f26eb1405d86daa145b4b5786b",
       "IPY_MODEL_a70b5fb152ce46448bdc636835987a24"
      ],
      "layout": "IPY_MODEL_51d15bcf281e4e03b28a2b4e636f1866"
     }
    },
    "b1b0bd4a30364fb79620dc284fb591fb": {
     "model_module": "@jupyter-widgets/controls",
     "model_module_version": "1.5.0",
     "model_name": "HBoxModel",
     "state": {
      "_dom_classes": [],
      "_model_module": "@jupyter-widgets/controls",
      "_model_module_version": "1.5.0",
      "_model_name": "HBoxModel",
      "_view_count": null,
      "_view_module": "@jupyter-widgets/controls",
      "_view_module_version": "1.5.0",
      "_view_name": "HBoxView",
      "box_style": "",
      "children": [
       "IPY_MODEL_30653f3a5d36426e970064e40ede2418",
       "IPY_MODEL_f37ddc958e61436795033581348ee8ff",
       "IPY_MODEL_518537d8640346c4bb9544e5011fda3c"
      ],
      "layout": "IPY_MODEL_e93a503d473b411dbf651736f2697704"
     }
    },
    "b21e1f28e1e24c218ee7e5310071a346": {
     "model_module": "@jupyter-widgets/base",
     "model_module_version": "1.2.0",
     "model_name": "LayoutModel",
     "state": {
      "_model_module": "@jupyter-widgets/base",
      "_model_module_version": "1.2.0",
      "_model_name": "LayoutModel",
      "_view_count": null,
      "_view_module": "@jupyter-widgets/base",
      "_view_module_version": "1.2.0",
      "_view_name": "LayoutView",
      "align_content": null,
      "align_items": null,
      "align_self": null,
      "border": null,
      "bottom": null,
      "display": null,
      "flex": null,
      "flex_flow": null,
      "grid_area": null,
      "grid_auto_columns": null,
      "grid_auto_flow": null,
      "grid_auto_rows": null,
      "grid_column": null,
      "grid_gap": null,
      "grid_row": null,
      "grid_template_areas": null,
      "grid_template_columns": null,
      "grid_template_rows": null,
      "height": null,
      "justify_content": null,
      "justify_items": null,
      "left": null,
      "margin": null,
      "max_height": null,
      "max_width": null,
      "min_height": null,
      "min_width": null,
      "object_fit": null,
      "object_position": null,
      "order": null,
      "overflow": null,
      "overflow_x": null,
      "overflow_y": null,
      "padding": null,
      "right": null,
      "top": null,
      "visibility": null,
      "width": null
     }
    },
    "b37876b0da9543b1bfcfdf01b95205a5": {
     "model_module": "@jupyter-widgets/base",
     "model_module_version": "1.2.0",
     "model_name": "LayoutModel",
     "state": {
      "_model_module": "@jupyter-widgets/base",
      "_model_module_version": "1.2.0",
      "_model_name": "LayoutModel",
      "_view_count": null,
      "_view_module": "@jupyter-widgets/base",
      "_view_module_version": "1.2.0",
      "_view_name": "LayoutView",
      "align_content": null,
      "align_items": null,
      "align_self": null,
      "border": null,
      "bottom": null,
      "display": null,
      "flex": null,
      "flex_flow": null,
      "grid_area": null,
      "grid_auto_columns": null,
      "grid_auto_flow": null,
      "grid_auto_rows": null,
      "grid_column": null,
      "grid_gap": null,
      "grid_row": null,
      "grid_template_areas": null,
      "grid_template_columns": null,
      "grid_template_rows": null,
      "height": null,
      "justify_content": null,
      "justify_items": null,
      "left": null,
      "margin": null,
      "max_height": null,
      "max_width": null,
      "min_height": null,
      "min_width": null,
      "object_fit": null,
      "object_position": null,
      "order": null,
      "overflow": null,
      "overflow_x": null,
      "overflow_y": null,
      "padding": null,
      "right": null,
      "top": null,
      "visibility": null,
      "width": null
     }
    },
    "b3ad093b5a704c4dbe409b34bbbcb804": {
     "model_module": "@jupyter-widgets/base",
     "model_module_version": "1.2.0",
     "model_name": "LayoutModel",
     "state": {
      "_model_module": "@jupyter-widgets/base",
      "_model_module_version": "1.2.0",
      "_model_name": "LayoutModel",
      "_view_count": null,
      "_view_module": "@jupyter-widgets/base",
      "_view_module_version": "1.2.0",
      "_view_name": "LayoutView",
      "align_content": null,
      "align_items": null,
      "align_self": null,
      "border": null,
      "bottom": null,
      "display": null,
      "flex": null,
      "flex_flow": null,
      "grid_area": null,
      "grid_auto_columns": null,
      "grid_auto_flow": null,
      "grid_auto_rows": null,
      "grid_column": null,
      "grid_gap": null,
      "grid_row": null,
      "grid_template_areas": null,
      "grid_template_columns": null,
      "grid_template_rows": null,
      "height": null,
      "justify_content": null,
      "justify_items": null,
      "left": null,
      "margin": null,
      "max_height": null,
      "max_width": null,
      "min_height": null,
      "min_width": null,
      "object_fit": null,
      "object_position": null,
      "order": null,
      "overflow": null,
      "overflow_x": null,
      "overflow_y": null,
      "padding": null,
      "right": null,
      "top": null,
      "visibility": null,
      "width": null
     }
    },
    "b3e74b9a6bd64af2905732e61991b1ec": {
     "model_module": "@jupyter-widgets/base",
     "model_module_version": "1.2.0",
     "model_name": "LayoutModel",
     "state": {
      "_model_module": "@jupyter-widgets/base",
      "_model_module_version": "1.2.0",
      "_model_name": "LayoutModel",
      "_view_count": null,
      "_view_module": "@jupyter-widgets/base",
      "_view_module_version": "1.2.0",
      "_view_name": "LayoutView",
      "align_content": null,
      "align_items": null,
      "align_self": null,
      "border": null,
      "bottom": null,
      "display": null,
      "flex": null,
      "flex_flow": null,
      "grid_area": null,
      "grid_auto_columns": null,
      "grid_auto_flow": null,
      "grid_auto_rows": null,
      "grid_column": null,
      "grid_gap": null,
      "grid_row": null,
      "grid_template_areas": null,
      "grid_template_columns": null,
      "grid_template_rows": null,
      "height": null,
      "justify_content": null,
      "justify_items": null,
      "left": null,
      "margin": null,
      "max_height": null,
      "max_width": null,
      "min_height": null,
      "min_width": null,
      "object_fit": null,
      "object_position": null,
      "order": null,
      "overflow": null,
      "overflow_x": null,
      "overflow_y": null,
      "padding": null,
      "right": null,
      "top": null,
      "visibility": null,
      "width": null
     }
    },
    "b48d21256d6f4346b6d100b45b129432": {
     "model_module": "@jupyter-widgets/base",
     "model_module_version": "1.2.0",
     "model_name": "LayoutModel",
     "state": {
      "_model_module": "@jupyter-widgets/base",
      "_model_module_version": "1.2.0",
      "_model_name": "LayoutModel",
      "_view_count": null,
      "_view_module": "@jupyter-widgets/base",
      "_view_module_version": "1.2.0",
      "_view_name": "LayoutView",
      "align_content": null,
      "align_items": null,
      "align_self": null,
      "border": null,
      "bottom": null,
      "display": null,
      "flex": null,
      "flex_flow": null,
      "grid_area": null,
      "grid_auto_columns": null,
      "grid_auto_flow": null,
      "grid_auto_rows": null,
      "grid_column": null,
      "grid_gap": null,
      "grid_row": null,
      "grid_template_areas": null,
      "grid_template_columns": null,
      "grid_template_rows": null,
      "height": null,
      "justify_content": null,
      "justify_items": null,
      "left": null,
      "margin": null,
      "max_height": null,
      "max_width": null,
      "min_height": null,
      "min_width": null,
      "object_fit": null,
      "object_position": null,
      "order": null,
      "overflow": null,
      "overflow_x": null,
      "overflow_y": null,
      "padding": null,
      "right": null,
      "top": null,
      "visibility": null,
      "width": null
     }
    },
    "b63f77ac851147bb8a514d5737135f9a": {
     "model_module": "@jupyter-widgets/controls",
     "model_module_version": "1.5.0",
     "model_name": "HTMLModel",
     "state": {
      "_dom_classes": [],
      "_model_module": "@jupyter-widgets/controls",
      "_model_module_version": "1.5.0",
      "_model_name": "HTMLModel",
      "_view_count": null,
      "_view_module": "@jupyter-widgets/controls",
      "_view_module_version": "1.5.0",
      "_view_name": "HTMLView",
      "description": "",
      "description_tooltip": null,
      "layout": "IPY_MODEL_2973d5f945a74243a90d44c30dd99d6c",
      "placeholder": "​",
      "style": "IPY_MODEL_17f9f24135664f2185908a9a686fe7b8",
      "value": "Downloading data files: 100%"
     }
    },
    "b67b3b33c6c841538d078572154c6e60": {
     "model_module": "@jupyter-widgets/controls",
     "model_module_version": "1.5.0",
     "model_name": "DescriptionStyleModel",
     "state": {
      "_model_module": "@jupyter-widgets/controls",
      "_model_module_version": "1.5.0",
      "_model_name": "DescriptionStyleModel",
      "_view_count": null,
      "_view_module": "@jupyter-widgets/base",
      "_view_module_version": "1.2.0",
      "_view_name": "StyleView",
      "description_width": ""
     }
    },
    "b6cd1e7ed31d468baa7e9a322ea4b36a": {
     "model_module": "@jupyter-widgets/controls",
     "model_module_version": "1.5.0",
     "model_name": "DescriptionStyleModel",
     "state": {
      "_model_module": "@jupyter-widgets/controls",
      "_model_module_version": "1.5.0",
      "_model_name": "DescriptionStyleModel",
      "_view_count": null,
      "_view_module": "@jupyter-widgets/base",
      "_view_module_version": "1.2.0",
      "_view_name": "StyleView",
      "description_width": ""
     }
    },
    "b6f29e196ff944b8964a7ccf2a29aae5": {
     "model_module": "@jupyter-widgets/base",
     "model_module_version": "1.2.0",
     "model_name": "LayoutModel",
     "state": {
      "_model_module": "@jupyter-widgets/base",
      "_model_module_version": "1.2.0",
      "_model_name": "LayoutModel",
      "_view_count": null,
      "_view_module": "@jupyter-widgets/base",
      "_view_module_version": "1.2.0",
      "_view_name": "LayoutView",
      "align_content": null,
      "align_items": null,
      "align_self": null,
      "border": null,
      "bottom": null,
      "display": null,
      "flex": null,
      "flex_flow": null,
      "grid_area": null,
      "grid_auto_columns": null,
      "grid_auto_flow": null,
      "grid_auto_rows": null,
      "grid_column": null,
      "grid_gap": null,
      "grid_row": null,
      "grid_template_areas": null,
      "grid_template_columns": null,
      "grid_template_rows": null,
      "height": null,
      "justify_content": null,
      "justify_items": null,
      "left": null,
      "margin": null,
      "max_height": null,
      "max_width": null,
      "min_height": null,
      "min_width": null,
      "object_fit": null,
      "object_position": null,
      "order": null,
      "overflow": null,
      "overflow_x": null,
      "overflow_y": null,
      "padding": null,
      "right": null,
      "top": null,
      "visibility": null,
      "width": null
     }
    },
    "b778db445dad4a328e2906d989745d53": {
     "model_module": "@jupyter-widgets/controls",
     "model_module_version": "1.5.0",
     "model_name": "DescriptionStyleModel",
     "state": {
      "_model_module": "@jupyter-widgets/controls",
      "_model_module_version": "1.5.0",
      "_model_name": "DescriptionStyleModel",
      "_view_count": null,
      "_view_module": "@jupyter-widgets/base",
      "_view_module_version": "1.2.0",
      "_view_name": "StyleView",
      "description_width": ""
     }
    },
    "b7f1693ebfac4297b33ff1e4f7091ff7": {
     "model_module": "@jupyter-widgets/controls",
     "model_module_version": "1.5.0",
     "model_name": "HBoxModel",
     "state": {
      "_dom_classes": [],
      "_model_module": "@jupyter-widgets/controls",
      "_model_module_version": "1.5.0",
      "_model_name": "HBoxModel",
      "_view_count": null,
      "_view_module": "@jupyter-widgets/controls",
      "_view_module_version": "1.5.0",
      "_view_name": "HBoxView",
      "box_style": "",
      "children": [
       "IPY_MODEL_4feb42875064419fb591079dbd104bfc",
       "IPY_MODEL_980fde34ce5740a09517882962bca862",
       "IPY_MODEL_849fd22e48d64438bb066a446c6bebee"
      ],
      "layout": "IPY_MODEL_34d97e1f285448d8a67cdd3d3a52ab3c"
     }
    },
    "b8207f4f24304030b4d5944afa13137d": {
     "model_module": "@jupyter-widgets/controls",
     "model_module_version": "1.5.0",
     "model_name": "FloatProgressModel",
     "state": {
      "_dom_classes": [],
      "_model_module": "@jupyter-widgets/controls",
      "_model_module_version": "1.5.0",
      "_model_name": "FloatProgressModel",
      "_view_count": null,
      "_view_module": "@jupyter-widgets/controls",
      "_view_module_version": "1.5.0",
      "_view_name": "ProgressView",
      "bar_style": "success",
      "description": "",
      "description_tooltip": null,
      "layout": "IPY_MODEL_d22fe83a00414a7db643fc242c0767ac",
      "max": 771,
      "min": 0,
      "orientation": "horizontal",
      "style": "IPY_MODEL_70c71e159df441f1819bc5b1ce8be618",
      "value": 771
     }
    },
    "b9f77f25becb47958456c513715fa705": {
     "model_module": "@jupyter-widgets/base",
     "model_module_version": "1.2.0",
     "model_name": "LayoutModel",
     "state": {
      "_model_module": "@jupyter-widgets/base",
      "_model_module_version": "1.2.0",
      "_model_name": "LayoutModel",
      "_view_count": null,
      "_view_module": "@jupyter-widgets/base",
      "_view_module_version": "1.2.0",
      "_view_name": "LayoutView",
      "align_content": null,
      "align_items": null,
      "align_self": null,
      "border": null,
      "bottom": null,
      "display": null,
      "flex": null,
      "flex_flow": null,
      "grid_area": null,
      "grid_auto_columns": null,
      "grid_auto_flow": null,
      "grid_auto_rows": null,
      "grid_column": null,
      "grid_gap": null,
      "grid_row": null,
      "grid_template_areas": null,
      "grid_template_columns": null,
      "grid_template_rows": null,
      "height": null,
      "justify_content": null,
      "justify_items": null,
      "left": null,
      "margin": null,
      "max_height": null,
      "max_width": null,
      "min_height": null,
      "min_width": null,
      "object_fit": null,
      "object_position": null,
      "order": null,
      "overflow": null,
      "overflow_x": null,
      "overflow_y": null,
      "padding": null,
      "right": null,
      "top": null,
      "visibility": null,
      "width": null
     }
    },
    "ba91e70666b84e95b4ca4e6e6e1503a5": {
     "model_module": "@jupyter-widgets/base",
     "model_module_version": "1.2.0",
     "model_name": "LayoutModel",
     "state": {
      "_model_module": "@jupyter-widgets/base",
      "_model_module_version": "1.2.0",
      "_model_name": "LayoutModel",
      "_view_count": null,
      "_view_module": "@jupyter-widgets/base",
      "_view_module_version": "1.2.0",
      "_view_name": "LayoutView",
      "align_content": null,
      "align_items": null,
      "align_self": null,
      "border": null,
      "bottom": null,
      "display": null,
      "flex": null,
      "flex_flow": null,
      "grid_area": null,
      "grid_auto_columns": null,
      "grid_auto_flow": null,
      "grid_auto_rows": null,
      "grid_column": null,
      "grid_gap": null,
      "grid_row": null,
      "grid_template_areas": null,
      "grid_template_columns": null,
      "grid_template_rows": null,
      "height": null,
      "justify_content": null,
      "justify_items": null,
      "left": null,
      "margin": null,
      "max_height": null,
      "max_width": null,
      "min_height": null,
      "min_width": null,
      "object_fit": null,
      "object_position": null,
      "order": null,
      "overflow": null,
      "overflow_x": null,
      "overflow_y": null,
      "padding": null,
      "right": null,
      "top": null,
      "visibility": null,
      "width": null
     }
    },
    "bafc4fafea2344f4a7d2def7da6153d2": {
     "model_module": "@jupyter-widgets/base",
     "model_module_version": "1.2.0",
     "model_name": "LayoutModel",
     "state": {
      "_model_module": "@jupyter-widgets/base",
      "_model_module_version": "1.2.0",
      "_model_name": "LayoutModel",
      "_view_count": null,
      "_view_module": "@jupyter-widgets/base",
      "_view_module_version": "1.2.0",
      "_view_name": "LayoutView",
      "align_content": null,
      "align_items": null,
      "align_self": null,
      "border": null,
      "bottom": null,
      "display": null,
      "flex": null,
      "flex_flow": null,
      "grid_area": null,
      "grid_auto_columns": null,
      "grid_auto_flow": null,
      "grid_auto_rows": null,
      "grid_column": null,
      "grid_gap": null,
      "grid_row": null,
      "grid_template_areas": null,
      "grid_template_columns": null,
      "grid_template_rows": null,
      "height": null,
      "justify_content": null,
      "justify_items": null,
      "left": null,
      "margin": null,
      "max_height": null,
      "max_width": null,
      "min_height": null,
      "min_width": null,
      "object_fit": null,
      "object_position": null,
      "order": null,
      "overflow": null,
      "overflow_x": null,
      "overflow_y": null,
      "padding": null,
      "right": null,
      "top": null,
      "visibility": null,
      "width": null
     }
    },
    "bc52309682db4f1daac4df480b481dd4": {
     "model_module": "@jupyter-widgets/controls",
     "model_module_version": "1.5.0",
     "model_name": "HBoxModel",
     "state": {
      "_dom_classes": [],
      "_model_module": "@jupyter-widgets/controls",
      "_model_module_version": "1.5.0",
      "_model_name": "HBoxModel",
      "_view_count": null,
      "_view_module": "@jupyter-widgets/controls",
      "_view_module_version": "1.5.0",
      "_view_name": "HBoxView",
      "box_style": "",
      "children": [
       "IPY_MODEL_ef6585ad9f58426486fe68e416a5085b",
       "IPY_MODEL_a07ca3c194074fc382bce90671da91dc",
       "IPY_MODEL_4dacc2dfaec841b9b09643d32cfb142f"
      ],
      "layout": "IPY_MODEL_014cde879c6b4bf486dbd88bb4f15aba"
     }
    },
    "bcd028bfbdd44ffbb46c6e140086d03b": {
     "model_module": "@jupyter-widgets/base",
     "model_module_version": "1.2.0",
     "model_name": "LayoutModel",
     "state": {
      "_model_module": "@jupyter-widgets/base",
      "_model_module_version": "1.2.0",
      "_model_name": "LayoutModel",
      "_view_count": null,
      "_view_module": "@jupyter-widgets/base",
      "_view_module_version": "1.2.0",
      "_view_name": "LayoutView",
      "align_content": null,
      "align_items": null,
      "align_self": null,
      "border": null,
      "bottom": null,
      "display": null,
      "flex": null,
      "flex_flow": null,
      "grid_area": null,
      "grid_auto_columns": null,
      "grid_auto_flow": null,
      "grid_auto_rows": null,
      "grid_column": null,
      "grid_gap": null,
      "grid_row": null,
      "grid_template_areas": null,
      "grid_template_columns": null,
      "grid_template_rows": null,
      "height": null,
      "justify_content": null,
      "justify_items": null,
      "left": null,
      "margin": null,
      "max_height": null,
      "max_width": null,
      "min_height": null,
      "min_width": null,
      "object_fit": null,
      "object_position": null,
      "order": null,
      "overflow": null,
      "overflow_x": null,
      "overflow_y": null,
      "padding": null,
      "right": null,
      "top": null,
      "visibility": null,
      "width": null
     }
    },
    "be84a6c67cec43ad81a2defc92698ffd": {
     "model_module": "@jupyter-widgets/controls",
     "model_module_version": "1.5.0",
     "model_name": "DescriptionStyleModel",
     "state": {
      "_model_module": "@jupyter-widgets/controls",
      "_model_module_version": "1.5.0",
      "_model_name": "DescriptionStyleModel",
      "_view_count": null,
      "_view_module": "@jupyter-widgets/base",
      "_view_module_version": "1.2.0",
      "_view_name": "StyleView",
      "description_width": ""
     }
    },
    "bebba38c2ec54dcfaaf2097d3dd3f4c3": {
     "model_module": "@jupyter-widgets/base",
     "model_module_version": "1.2.0",
     "model_name": "LayoutModel",
     "state": {
      "_model_module": "@jupyter-widgets/base",
      "_model_module_version": "1.2.0",
      "_model_name": "LayoutModel",
      "_view_count": null,
      "_view_module": "@jupyter-widgets/base",
      "_view_module_version": "1.2.0",
      "_view_name": "LayoutView",
      "align_content": null,
      "align_items": null,
      "align_self": null,
      "border": null,
      "bottom": null,
      "display": null,
      "flex": null,
      "flex_flow": null,
      "grid_area": null,
      "grid_auto_columns": null,
      "grid_auto_flow": null,
      "grid_auto_rows": null,
      "grid_column": null,
      "grid_gap": null,
      "grid_row": null,
      "grid_template_areas": null,
      "grid_template_columns": null,
      "grid_template_rows": null,
      "height": null,
      "justify_content": null,
      "justify_items": null,
      "left": null,
      "margin": null,
      "max_height": null,
      "max_width": null,
      "min_height": null,
      "min_width": null,
      "object_fit": null,
      "object_position": null,
      "order": null,
      "overflow": null,
      "overflow_x": null,
      "overflow_y": null,
      "padding": null,
      "right": null,
      "top": null,
      "visibility": null,
      "width": null
     }
    },
    "bf1fc60432234eb7a005859476802687": {
     "model_module": "@jupyter-widgets/base",
     "model_module_version": "1.2.0",
     "model_name": "LayoutModel",
     "state": {
      "_model_module": "@jupyter-widgets/base",
      "_model_module_version": "1.2.0",
      "_model_name": "LayoutModel",
      "_view_count": null,
      "_view_module": "@jupyter-widgets/base",
      "_view_module_version": "1.2.0",
      "_view_name": "LayoutView",
      "align_content": null,
      "align_items": null,
      "align_self": null,
      "border": null,
      "bottom": null,
      "display": null,
      "flex": null,
      "flex_flow": null,
      "grid_area": null,
      "grid_auto_columns": null,
      "grid_auto_flow": null,
      "grid_auto_rows": null,
      "grid_column": null,
      "grid_gap": null,
      "grid_row": null,
      "grid_template_areas": null,
      "grid_template_columns": null,
      "grid_template_rows": null,
      "height": null,
      "justify_content": null,
      "justify_items": null,
      "left": null,
      "margin": null,
      "max_height": null,
      "max_width": null,
      "min_height": null,
      "min_width": null,
      "object_fit": null,
      "object_position": null,
      "order": null,
      "overflow": null,
      "overflow_x": null,
      "overflow_y": null,
      "padding": null,
      "right": null,
      "top": null,
      "visibility": null,
      "width": null
     }
    },
    "bf91c89808db4dd498cfd7da6dda0cec": {
     "model_module": "@jupyter-widgets/controls",
     "model_module_version": "1.5.0",
     "model_name": "DescriptionStyleModel",
     "state": {
      "_model_module": "@jupyter-widgets/controls",
      "_model_module_version": "1.5.0",
      "_model_name": "DescriptionStyleModel",
      "_view_count": null,
      "_view_module": "@jupyter-widgets/base",
      "_view_module_version": "1.2.0",
      "_view_name": "StyleView",
      "description_width": ""
     }
    },
    "bff1c8d9ebb64b728c6fc43deff520f9": {
     "model_module": "@jupyter-widgets/base",
     "model_module_version": "1.2.0",
     "model_name": "LayoutModel",
     "state": {
      "_model_module": "@jupyter-widgets/base",
      "_model_module_version": "1.2.0",
      "_model_name": "LayoutModel",
      "_view_count": null,
      "_view_module": "@jupyter-widgets/base",
      "_view_module_version": "1.2.0",
      "_view_name": "LayoutView",
      "align_content": null,
      "align_items": null,
      "align_self": null,
      "border": null,
      "bottom": null,
      "display": null,
      "flex": null,
      "flex_flow": null,
      "grid_area": null,
      "grid_auto_columns": null,
      "grid_auto_flow": null,
      "grid_auto_rows": null,
      "grid_column": null,
      "grid_gap": null,
      "grid_row": null,
      "grid_template_areas": null,
      "grid_template_columns": null,
      "grid_template_rows": null,
      "height": null,
      "justify_content": null,
      "justify_items": null,
      "left": null,
      "margin": null,
      "max_height": null,
      "max_width": null,
      "min_height": null,
      "min_width": null,
      "object_fit": null,
      "object_position": null,
      "order": null,
      "overflow": null,
      "overflow_x": null,
      "overflow_y": null,
      "padding": null,
      "right": null,
      "top": null,
      "visibility": null,
      "width": null
     }
    },
    "c0c7c2f45c9842728752cb9d45666aa7": {
     "model_module": "@jupyter-widgets/controls",
     "model_module_version": "1.5.0",
     "model_name": "DescriptionStyleModel",
     "state": {
      "_model_module": "@jupyter-widgets/controls",
      "_model_module_version": "1.5.0",
      "_model_name": "DescriptionStyleModel",
      "_view_count": null,
      "_view_module": "@jupyter-widgets/base",
      "_view_module_version": "1.2.0",
      "_view_name": "StyleView",
      "description_width": ""
     }
    },
    "c0ffdf9164164d5c9213c7dd10116f23": {
     "model_module": "@jupyter-widgets/base",
     "model_module_version": "1.2.0",
     "model_name": "LayoutModel",
     "state": {
      "_model_module": "@jupyter-widgets/base",
      "_model_module_version": "1.2.0",
      "_model_name": "LayoutModel",
      "_view_count": null,
      "_view_module": "@jupyter-widgets/base",
      "_view_module_version": "1.2.0",
      "_view_name": "LayoutView",
      "align_content": null,
      "align_items": null,
      "align_self": null,
      "border": null,
      "bottom": null,
      "display": null,
      "flex": null,
      "flex_flow": null,
      "grid_area": null,
      "grid_auto_columns": null,
      "grid_auto_flow": null,
      "grid_auto_rows": null,
      "grid_column": null,
      "grid_gap": null,
      "grid_row": null,
      "grid_template_areas": null,
      "grid_template_columns": null,
      "grid_template_rows": null,
      "height": null,
      "justify_content": null,
      "justify_items": null,
      "left": null,
      "margin": null,
      "max_height": null,
      "max_width": null,
      "min_height": null,
      "min_width": null,
      "object_fit": null,
      "object_position": null,
      "order": null,
      "overflow": null,
      "overflow_x": null,
      "overflow_y": null,
      "padding": null,
      "right": null,
      "top": null,
      "visibility": null,
      "width": null
     }
    },
    "c2fb075140864489a7d81c19a0f79e21": {
     "model_module": "@jupyter-widgets/controls",
     "model_module_version": "1.5.0",
     "model_name": "DescriptionStyleModel",
     "state": {
      "_model_module": "@jupyter-widgets/controls",
      "_model_module_version": "1.5.0",
      "_model_name": "DescriptionStyleModel",
      "_view_count": null,
      "_view_module": "@jupyter-widgets/base",
      "_view_module_version": "1.2.0",
      "_view_name": "StyleView",
      "description_width": ""
     }
    },
    "c57435ffd8de4cea91481bf90804d664": {
     "model_module": "@jupyter-widgets/controls",
     "model_module_version": "1.5.0",
     "model_name": "DescriptionStyleModel",
     "state": {
      "_model_module": "@jupyter-widgets/controls",
      "_model_module_version": "1.5.0",
      "_model_name": "DescriptionStyleModel",
      "_view_count": null,
      "_view_module": "@jupyter-widgets/base",
      "_view_module_version": "1.2.0",
      "_view_name": "StyleView",
      "description_width": ""
     }
    },
    "c5bc9c3d584d4a4a83061814de4c37d4": {
     "model_module": "@jupyter-widgets/controls",
     "model_module_version": "1.5.0",
     "model_name": "ProgressStyleModel",
     "state": {
      "_model_module": "@jupyter-widgets/controls",
      "_model_module_version": "1.5.0",
      "_model_name": "ProgressStyleModel",
      "_view_count": null,
      "_view_module": "@jupyter-widgets/base",
      "_view_module_version": "1.2.0",
      "_view_name": "StyleView",
      "bar_color": null,
      "description_width": ""
     }
    },
    "c5fe4d01057141068e6bb47ace62576d": {
     "model_module": "@jupyter-widgets/controls",
     "model_module_version": "1.5.0",
     "model_name": "HBoxModel",
     "state": {
      "_dom_classes": [],
      "_model_module": "@jupyter-widgets/controls",
      "_model_module_version": "1.5.0",
      "_model_name": "HBoxModel",
      "_view_count": null,
      "_view_module": "@jupyter-widgets/controls",
      "_view_module_version": "1.5.0",
      "_view_name": "HBoxView",
      "box_style": "",
      "children": [
       "IPY_MODEL_e7d783b2428a4ee487dc4e700e4ed9fc",
       "IPY_MODEL_704fabe6625d498ea91de8237e8bc600",
       "IPY_MODEL_63cb88869a0e473dacec5a6e43f4731a"
      ],
      "layout": "IPY_MODEL_e9cd1445c89746eeacc43611394f05e6"
     }
    },
    "c68e3cfe691a4e17bff5dd0d6fa645d3": {
     "model_module": "@jupyter-widgets/controls",
     "model_module_version": "1.5.0",
     "model_name": "HBoxModel",
     "state": {
      "_dom_classes": [],
      "_model_module": "@jupyter-widgets/controls",
      "_model_module_version": "1.5.0",
      "_model_name": "HBoxModel",
      "_view_count": null,
      "_view_module": "@jupyter-widgets/controls",
      "_view_module_version": "1.5.0",
      "_view_name": "HBoxView",
      "box_style": "",
      "children": [
       "IPY_MODEL_deea6050951d4ca58e70d9a690dbbed9",
       "IPY_MODEL_f2cbe349777d4fb28e1d02ade5f6f63a",
       "IPY_MODEL_d5224726057743ee8d441a0827240ea8"
      ],
      "layout": "IPY_MODEL_85f7913cfdb24be095daf7d1610192c6"
     }
    },
    "c7789d7688fd44159f8680d23616d9ec": {
     "model_module": "@jupyter-widgets/controls",
     "model_module_version": "1.5.0",
     "model_name": "HTMLModel",
     "state": {
      "_dom_classes": [],
      "_model_module": "@jupyter-widgets/controls",
      "_model_module_version": "1.5.0",
      "_model_name": "HTMLModel",
      "_view_count": null,
      "_view_module": "@jupyter-widgets/controls",
      "_view_module_version": "1.5.0",
      "_view_name": "HTMLView",
      "description": "",
      "description_tooltip": null,
      "layout": "IPY_MODEL_e06a621fcc884cf6948861ba70a040d7",
      "placeholder": "​",
      "style": "IPY_MODEL_e37efdd73e00484e80d22cf19838eb9b",
      "value": " 665/665 [00:00&lt;00:00, 9.32kB/s]"
     }
    },
    "c920c622ebca4d4484ae524879220748": {
     "model_module": "@jupyter-widgets/controls",
     "model_module_version": "1.5.0",
     "model_name": "HBoxModel",
     "state": {
      "_dom_classes": [],
      "_model_module": "@jupyter-widgets/controls",
      "_model_module_version": "1.5.0",
      "_model_name": "HBoxModel",
      "_view_count": null,
      "_view_module": "@jupyter-widgets/controls",
      "_view_module_version": "1.5.0",
      "_view_name": "HBoxView",
      "box_style": "",
      "children": [
       "IPY_MODEL_5af30da4716c4bfc96a7ff53ab2255f1",
       "IPY_MODEL_b8207f4f24304030b4d5944afa13137d",
       "IPY_MODEL_2db3d91800bd40078fd85d53ea88a042"
      ],
      "layout": "IPY_MODEL_a8f94a7dcd194cee8c44f683dd80b9d8"
     }
    },
    "ca2f0e916fd94c2788e86ef5aecffe1e": {
     "model_module": "@jupyter-widgets/base",
     "model_module_version": "1.2.0",
     "model_name": "LayoutModel",
     "state": {
      "_model_module": "@jupyter-widgets/base",
      "_model_module_version": "1.2.0",
      "_model_name": "LayoutModel",
      "_view_count": null,
      "_view_module": "@jupyter-widgets/base",
      "_view_module_version": "1.2.0",
      "_view_name": "LayoutView",
      "align_content": null,
      "align_items": null,
      "align_self": null,
      "border": null,
      "bottom": null,
      "display": null,
      "flex": null,
      "flex_flow": null,
      "grid_area": null,
      "grid_auto_columns": null,
      "grid_auto_flow": null,
      "grid_auto_rows": null,
      "grid_column": null,
      "grid_gap": null,
      "grid_row": null,
      "grid_template_areas": null,
      "grid_template_columns": null,
      "grid_template_rows": null,
      "height": null,
      "justify_content": null,
      "justify_items": null,
      "left": null,
      "margin": null,
      "max_height": null,
      "max_width": null,
      "min_height": null,
      "min_width": null,
      "object_fit": null,
      "object_position": null,
      "order": null,
      "overflow": null,
      "overflow_x": null,
      "overflow_y": null,
      "padding": null,
      "right": null,
      "top": null,
      "visibility": null,
      "width": null
     }
    },
    "ca84fa32fa0849dea87342c58d591cce": {
     "model_module": "@jupyter-widgets/base",
     "model_module_version": "1.2.0",
     "model_name": "LayoutModel",
     "state": {
      "_model_module": "@jupyter-widgets/base",
      "_model_module_version": "1.2.0",
      "_model_name": "LayoutModel",
      "_view_count": null,
      "_view_module": "@jupyter-widgets/base",
      "_view_module_version": "1.2.0",
      "_view_name": "LayoutView",
      "align_content": null,
      "align_items": null,
      "align_self": null,
      "border": null,
      "bottom": null,
      "display": null,
      "flex": null,
      "flex_flow": null,
      "grid_area": null,
      "grid_auto_columns": null,
      "grid_auto_flow": null,
      "grid_auto_rows": null,
      "grid_column": null,
      "grid_gap": null,
      "grid_row": null,
      "grid_template_areas": null,
      "grid_template_columns": null,
      "grid_template_rows": null,
      "height": null,
      "justify_content": null,
      "justify_items": null,
      "left": null,
      "margin": null,
      "max_height": null,
      "max_width": null,
      "min_height": null,
      "min_width": null,
      "object_fit": null,
      "object_position": null,
      "order": null,
      "overflow": null,
      "overflow_x": null,
      "overflow_y": null,
      "padding": null,
      "right": null,
      "top": null,
      "visibility": null,
      "width": null
     }
    },
    "cabac91dde53470ea0d5e05d8218d04d": {
     "model_module": "@jupyter-widgets/base",
     "model_module_version": "1.2.0",
     "model_name": "LayoutModel",
     "state": {
      "_model_module": "@jupyter-widgets/base",
      "_model_module_version": "1.2.0",
      "_model_name": "LayoutModel",
      "_view_count": null,
      "_view_module": "@jupyter-widgets/base",
      "_view_module_version": "1.2.0",
      "_view_name": "LayoutView",
      "align_content": null,
      "align_items": null,
      "align_self": null,
      "border": null,
      "bottom": null,
      "display": null,
      "flex": null,
      "flex_flow": null,
      "grid_area": null,
      "grid_auto_columns": null,
      "grid_auto_flow": null,
      "grid_auto_rows": null,
      "grid_column": null,
      "grid_gap": null,
      "grid_row": null,
      "grid_template_areas": null,
      "grid_template_columns": null,
      "grid_template_rows": null,
      "height": null,
      "justify_content": null,
      "justify_items": null,
      "left": null,
      "margin": null,
      "max_height": null,
      "max_width": null,
      "min_height": null,
      "min_width": null,
      "object_fit": null,
      "object_position": null,
      "order": null,
      "overflow": null,
      "overflow_x": null,
      "overflow_y": null,
      "padding": null,
      "right": null,
      "top": null,
      "visibility": null,
      "width": null
     }
    },
    "cb0258347d984bdbac59ec33811f51b5": {
     "model_module": "@jupyter-widgets/controls",
     "model_module_version": "1.5.0",
     "model_name": "FloatProgressModel",
     "state": {
      "_dom_classes": [],
      "_model_module": "@jupyter-widgets/controls",
      "_model_module_version": "1.5.0",
      "_model_name": "FloatProgressModel",
      "_view_count": null,
      "_view_module": "@jupyter-widgets/controls",
      "_view_module_version": "1.5.0",
      "_view_name": "ProgressView",
      "bar_style": "success",
      "description": "",
      "description_tooltip": null,
      "layout": "IPY_MODEL_131e7124d505464f9e62e06ee7344fd9",
      "max": 466062,
      "min": 0,
      "orientation": "horizontal",
      "style": "IPY_MODEL_4d2c3a69a29243088ff2279457f4de62",
      "value": 466062
     }
    },
    "cb2fea0bc72b4a8486f09d387442624b": {
     "model_module": "@jupyter-widgets/controls",
     "model_module_version": "1.5.0",
     "model_name": "DescriptionStyleModel",
     "state": {
      "_model_module": "@jupyter-widgets/controls",
      "_model_module_version": "1.5.0",
      "_model_name": "DescriptionStyleModel",
      "_view_count": null,
      "_view_module": "@jupyter-widgets/base",
      "_view_module_version": "1.2.0",
      "_view_name": "StyleView",
      "description_width": ""
     }
    },
    "cbdcba4e4c4c4ec69224ebde008c16a8": {
     "model_module": "@jupyter-widgets/controls",
     "model_module_version": "1.5.0",
     "model_name": "DescriptionStyleModel",
     "state": {
      "_model_module": "@jupyter-widgets/controls",
      "_model_module_version": "1.5.0",
      "_model_name": "DescriptionStyleModel",
      "_view_count": null,
      "_view_module": "@jupyter-widgets/base",
      "_view_module_version": "1.2.0",
      "_view_name": "StyleView",
      "description_width": ""
     }
    },
    "cd6a92e001f7443b912e8bc87ac3721d": {
     "model_module": "@jupyter-widgets/controls",
     "model_module_version": "1.5.0",
     "model_name": "HTMLModel",
     "state": {
      "_dom_classes": [],
      "_model_module": "@jupyter-widgets/controls",
      "_model_module_version": "1.5.0",
      "_model_name": "HTMLModel",
      "_view_count": null,
      "_view_module": "@jupyter-widgets/controls",
      "_view_module_version": "1.5.0",
      "_view_name": "HTMLView",
      "description": "",
      "description_tooltip": null,
      "layout": "IPY_MODEL_cabac91dde53470ea0d5e05d8218d04d",
      "placeholder": "​",
      "style": "IPY_MODEL_060c7285770746819031b482fbda4895",
      "value": " 456k/456k [00:00&lt;00:00, 7.50MB/s]"
     }
    },
    "cdad8f4cd3dd4e15be22b26eeb81813d": {
     "model_module": "@jupyter-widgets/controls",
     "model_module_version": "1.5.0",
     "model_name": "DescriptionStyleModel",
     "state": {
      "_model_module": "@jupyter-widgets/controls",
      "_model_module_version": "1.5.0",
      "_model_name": "DescriptionStyleModel",
      "_view_count": null,
      "_view_module": "@jupyter-widgets/base",
      "_view_module_version": "1.2.0",
      "_view_name": "StyleView",
      "description_width": ""
     }
    },
    "ce162b6815a3440f814b88ea0aa283fe": {
     "model_module": "@jupyter-widgets/controls",
     "model_module_version": "1.5.0",
     "model_name": "HTMLModel",
     "state": {
      "_dom_classes": [],
      "_model_module": "@jupyter-widgets/controls",
      "_model_module_version": "1.5.0",
      "_model_name": "HTMLModel",
      "_view_count": null,
      "_view_module": "@jupyter-widgets/controls",
      "_view_module_version": "1.5.0",
      "_view_name": "HTMLView",
      "description": "",
      "description_tooltip": null,
      "layout": "IPY_MODEL_7ea378ac749743e2a4d32c5183274d54",
      "placeholder": "​",
      "style": "IPY_MODEL_8121990bf84a471eaa26d33c4872d835",
      "value": " 323/323 [00:00&lt;00:00, 860.51 examples/s]"
     }
    },
    "cfb5fd469e194e71b416721c7737bade": {
     "model_module": "@jupyter-widgets/controls",
     "model_module_version": "1.5.0",
     "model_name": "HBoxModel",
     "state": {
      "_dom_classes": [],
      "_model_module": "@jupyter-widgets/controls",
      "_model_module_version": "1.5.0",
      "_model_name": "HBoxModel",
      "_view_count": null,
      "_view_module": "@jupyter-widgets/controls",
      "_view_module_version": "1.5.0",
      "_view_name": "HBoxView",
      "box_style": "",
      "children": [
       "IPY_MODEL_5c28a96c917e41bf9b62fedc677d9663",
       "IPY_MODEL_de85477125b640d58d61fe84a1fe410f",
       "IPY_MODEL_ce162b6815a3440f814b88ea0aa283fe"
      ],
      "layout": "IPY_MODEL_2d0d2338b6c740d9ac55d6514637917c"
     }
    },
    "d0f6ba92d7484d9aa9ddc84f5318ccba": {
     "model_module": "@jupyter-widgets/controls",
     "model_module_version": "1.5.0",
     "model_name": "DescriptionStyleModel",
     "state": {
      "_model_module": "@jupyter-widgets/controls",
      "_model_module_version": "1.5.0",
      "_model_name": "DescriptionStyleModel",
      "_view_count": null,
      "_view_module": "@jupyter-widgets/base",
      "_view_module_version": "1.2.0",
      "_view_name": "StyleView",
      "description_width": ""
     }
    },
    "d17523ae711f442690b81f29b351d363": {
     "model_module": "@jupyter-widgets/base",
     "model_module_version": "1.2.0",
     "model_name": "LayoutModel",
     "state": {
      "_model_module": "@jupyter-widgets/base",
      "_model_module_version": "1.2.0",
      "_model_name": "LayoutModel",
      "_view_count": null,
      "_view_module": "@jupyter-widgets/base",
      "_view_module_version": "1.2.0",
      "_view_name": "LayoutView",
      "align_content": null,
      "align_items": null,
      "align_self": null,
      "border": null,
      "bottom": null,
      "display": null,
      "flex": null,
      "flex_flow": null,
      "grid_area": null,
      "grid_auto_columns": null,
      "grid_auto_flow": null,
      "grid_auto_rows": null,
      "grid_column": null,
      "grid_gap": null,
      "grid_row": null,
      "grid_template_areas": null,
      "grid_template_columns": null,
      "grid_template_rows": null,
      "height": null,
      "justify_content": null,
      "justify_items": null,
      "left": null,
      "margin": null,
      "max_height": null,
      "max_width": null,
      "min_height": null,
      "min_width": null,
      "object_fit": null,
      "object_position": null,
      "order": null,
      "overflow": null,
      "overflow_x": null,
      "overflow_y": null,
      "padding": null,
      "right": null,
      "top": null,
      "visibility": null,
      "width": null
     }
    },
    "d229ed8924f44660afd51f751a62074b": {
     "model_module": "@jupyter-widgets/controls",
     "model_module_version": "1.5.0",
     "model_name": "DescriptionStyleModel",
     "state": {
      "_model_module": "@jupyter-widgets/controls",
      "_model_module_version": "1.5.0",
      "_model_name": "DescriptionStyleModel",
      "_view_count": null,
      "_view_module": "@jupyter-widgets/base",
      "_view_module_version": "1.2.0",
      "_view_name": "StyleView",
      "description_width": ""
     }
    },
    "d22fe83a00414a7db643fc242c0767ac": {
     "model_module": "@jupyter-widgets/base",
     "model_module_version": "1.2.0",
     "model_name": "LayoutModel",
     "state": {
      "_model_module": "@jupyter-widgets/base",
      "_model_module_version": "1.2.0",
      "_model_name": "LayoutModel",
      "_view_count": null,
      "_view_module": "@jupyter-widgets/base",
      "_view_module_version": "1.2.0",
      "_view_name": "LayoutView",
      "align_content": null,
      "align_items": null,
      "align_self": null,
      "border": null,
      "bottom": null,
      "display": null,
      "flex": null,
      "flex_flow": null,
      "grid_area": null,
      "grid_auto_columns": null,
      "grid_auto_flow": null,
      "grid_auto_rows": null,
      "grid_column": null,
      "grid_gap": null,
      "grid_row": null,
      "grid_template_areas": null,
      "grid_template_columns": null,
      "grid_template_rows": null,
      "height": null,
      "justify_content": null,
      "justify_items": null,
      "left": null,
      "margin": null,
      "max_height": null,
      "max_width": null,
      "min_height": null,
      "min_width": null,
      "object_fit": null,
      "object_position": null,
      "order": null,
      "overflow": null,
      "overflow_x": null,
      "overflow_y": null,
      "padding": null,
      "right": null,
      "top": null,
      "visibility": null,
      "width": null
     }
    },
    "d2d26ca83c384e8cb8cf9996e1202c76": {
     "model_module": "@jupyter-widgets/controls",
     "model_module_version": "1.5.0",
     "model_name": "HTMLModel",
     "state": {
      "_dom_classes": [],
      "_model_module": "@jupyter-widgets/controls",
      "_model_module_version": "1.5.0",
      "_model_name": "HTMLModel",
      "_view_count": null,
      "_view_module": "@jupyter-widgets/controls",
      "_view_module_version": "1.5.0",
      "_view_name": "HTMLView",
      "description": "",
      "description_tooltip": null,
      "layout": "IPY_MODEL_4629c0d2a4ca42d7b347627832900bae",
      "placeholder": "​",
      "style": "IPY_MODEL_49fbb0bb89e1487fbdcd78e52f9a1d00",
      "value": "Extracting data files: 100%"
     }
    },
    "d2e070514ba74de3ac0ed266d311a1a0": {
     "model_module": "@jupyter-widgets/base",
     "model_module_version": "1.2.0",
     "model_name": "LayoutModel",
     "state": {
      "_model_module": "@jupyter-widgets/base",
      "_model_module_version": "1.2.0",
      "_model_name": "LayoutModel",
      "_view_count": null,
      "_view_module": "@jupyter-widgets/base",
      "_view_module_version": "1.2.0",
      "_view_name": "LayoutView",
      "align_content": null,
      "align_items": null,
      "align_self": null,
      "border": null,
      "bottom": null,
      "display": null,
      "flex": null,
      "flex_flow": null,
      "grid_area": null,
      "grid_auto_columns": null,
      "grid_auto_flow": null,
      "grid_auto_rows": null,
      "grid_column": null,
      "grid_gap": null,
      "grid_row": null,
      "grid_template_areas": null,
      "grid_template_columns": null,
      "grid_template_rows": null,
      "height": null,
      "justify_content": null,
      "justify_items": null,
      "left": null,
      "margin": null,
      "max_height": null,
      "max_width": null,
      "min_height": null,
      "min_width": null,
      "object_fit": null,
      "object_position": null,
      "order": null,
      "overflow": null,
      "overflow_x": null,
      "overflow_y": null,
      "padding": null,
      "right": null,
      "top": null,
      "visibility": null,
      "width": null
     }
    },
    "d3b257e5f68f493b9426b9169f8201be": {
     "model_module": "@jupyter-widgets/controls",
     "model_module_version": "1.5.0",
     "model_name": "FloatProgressModel",
     "state": {
      "_dom_classes": [],
      "_model_module": "@jupyter-widgets/controls",
      "_model_module_version": "1.5.0",
      "_model_name": "FloatProgressModel",
      "_view_count": null,
      "_view_module": "@jupyter-widgets/controls",
      "_view_module_version": "1.5.0",
      "_view_name": "ProgressView",
      "bar_style": "success",
      "description": "",
      "description_tooltip": null,
      "layout": "IPY_MODEL_446fed872cbf44e59688454c1fdbebb8",
      "max": 267954768,
      "min": 0,
      "orientation": "horizontal",
      "style": "IPY_MODEL_e3147854e3e849cd8badb22bca577f83",
      "value": 267954768
     }
    },
    "d3d5424dca584e38ad28fa4a32fc618b": {
     "model_module": "@jupyter-widgets/base",
     "model_module_version": "1.2.0",
     "model_name": "LayoutModel",
     "state": {
      "_model_module": "@jupyter-widgets/base",
      "_model_module_version": "1.2.0",
      "_model_name": "LayoutModel",
      "_view_count": null,
      "_view_module": "@jupyter-widgets/base",
      "_view_module_version": "1.2.0",
      "_view_name": "LayoutView",
      "align_content": null,
      "align_items": null,
      "align_self": null,
      "border": null,
      "bottom": null,
      "display": null,
      "flex": null,
      "flex_flow": null,
      "grid_area": null,
      "grid_auto_columns": null,
      "grid_auto_flow": null,
      "grid_auto_rows": null,
      "grid_column": null,
      "grid_gap": null,
      "grid_row": null,
      "grid_template_areas": null,
      "grid_template_columns": null,
      "grid_template_rows": null,
      "height": null,
      "justify_content": null,
      "justify_items": null,
      "left": null,
      "margin": null,
      "max_height": null,
      "max_width": null,
      "min_height": null,
      "min_width": null,
      "object_fit": null,
      "object_position": null,
      "order": null,
      "overflow": null,
      "overflow_x": null,
      "overflow_y": null,
      "padding": null,
      "right": null,
      "top": null,
      "visibility": null,
      "width": null
     }
    },
    "d4e80ded4667403fa7cf27dc2706e756": {
     "model_module": "@jupyter-widgets/controls",
     "model_module_version": "1.5.0",
     "model_name": "ProgressStyleModel",
     "state": {
      "_model_module": "@jupyter-widgets/controls",
      "_model_module_version": "1.5.0",
      "_model_name": "ProgressStyleModel",
      "_view_count": null,
      "_view_module": "@jupyter-widgets/base",
      "_view_module_version": "1.2.0",
      "_view_name": "StyleView",
      "bar_color": null,
      "description_width": ""
     }
    },
    "d5224726057743ee8d441a0827240ea8": {
     "model_module": "@jupyter-widgets/controls",
     "model_module_version": "1.5.0",
     "model_name": "HTMLModel",
     "state": {
      "_dom_classes": [],
      "_model_module": "@jupyter-widgets/controls",
      "_model_module_version": "1.5.0",
      "_model_name": "HTMLModel",
      "_view_count": null,
      "_view_module": "@jupyter-widgets/controls",
      "_view_module_version": "1.5.0",
      "_view_name": "HTMLView",
      "description": "",
      "description_tooltip": null,
      "layout": "IPY_MODEL_533e80c06ed342e98f4caf25ec21f03b",
      "placeholder": "​",
      "style": "IPY_MODEL_4978f765d5a346ec94880e2a3c1dc73d",
      "value": " 28.0/28.0 [00:00&lt;00:00, 2.01kB/s]"
     }
    },
    "d792c590bc9f4fa18d66294f4c840ce9": {
     "model_module": "@jupyter-widgets/controls",
     "model_module_version": "1.5.0",
     "model_name": "ProgressStyleModel",
     "state": {
      "_model_module": "@jupyter-widgets/controls",
      "_model_module_version": "1.5.0",
      "_model_name": "ProgressStyleModel",
      "_view_count": null,
      "_view_module": "@jupyter-widgets/base",
      "_view_module_version": "1.2.0",
      "_view_name": "StyleView",
      "bar_color": null,
      "description_width": ""
     }
    },
    "d892fd9f6ea84958b4dc80802e07adf7": {
     "model_module": "@jupyter-widgets/base",
     "model_module_version": "1.2.0",
     "model_name": "LayoutModel",
     "state": {
      "_model_module": "@jupyter-widgets/base",
      "_model_module_version": "1.2.0",
      "_model_name": "LayoutModel",
      "_view_count": null,
      "_view_module": "@jupyter-widgets/base",
      "_view_module_version": "1.2.0",
      "_view_name": "LayoutView",
      "align_content": null,
      "align_items": null,
      "align_self": null,
      "border": null,
      "bottom": null,
      "display": null,
      "flex": null,
      "flex_flow": null,
      "grid_area": null,
      "grid_auto_columns": null,
      "grid_auto_flow": null,
      "grid_auto_rows": null,
      "grid_column": null,
      "grid_gap": null,
      "grid_row": null,
      "grid_template_areas": null,
      "grid_template_columns": null,
      "grid_template_rows": null,
      "height": null,
      "justify_content": null,
      "justify_items": null,
      "left": null,
      "margin": null,
      "max_height": null,
      "max_width": null,
      "min_height": null,
      "min_width": null,
      "object_fit": null,
      "object_position": null,
      "order": null,
      "overflow": null,
      "overflow_x": null,
      "overflow_y": null,
      "padding": null,
      "right": null,
      "top": null,
      "visibility": null,
      "width": null
     }
    },
    "dac7c2ae49cb4951bf7a85f81659b858": {
     "model_module": "@jupyter-widgets/controls",
     "model_module_version": "1.5.0",
     "model_name": "HTMLModel",
     "state": {
      "_dom_classes": [],
      "_model_module": "@jupyter-widgets/controls",
      "_model_module_version": "1.5.0",
      "_model_name": "HTMLModel",
      "_view_count": null,
      "_view_module": "@jupyter-widgets/controls",
      "_view_module_version": "1.5.0",
      "_view_name": "HTMLView",
      "description": "",
      "description_tooltip": null,
      "layout": "IPY_MODEL_b48d21256d6f4346b6d100b45b129432",
      "placeholder": "​",
      "style": "IPY_MODEL_2851707e4a4040febfe91a3c11e91b82",
      "value": "Downloading data files: 100%"
     }
    },
    "db7fe2b698aa417fa37b850a5b9ff9ad": {
     "model_module": "@jupyter-widgets/base",
     "model_module_version": "1.2.0",
     "model_name": "LayoutModel",
     "state": {
      "_model_module": "@jupyter-widgets/base",
      "_model_module_version": "1.2.0",
      "_model_name": "LayoutModel",
      "_view_count": null,
      "_view_module": "@jupyter-widgets/base",
      "_view_module_version": "1.2.0",
      "_view_name": "LayoutView",
      "align_content": null,
      "align_items": null,
      "align_self": null,
      "border": null,
      "bottom": null,
      "display": null,
      "flex": null,
      "flex_flow": null,
      "grid_area": null,
      "grid_auto_columns": null,
      "grid_auto_flow": null,
      "grid_auto_rows": null,
      "grid_column": null,
      "grid_gap": null,
      "grid_row": null,
      "grid_template_areas": null,
      "grid_template_columns": null,
      "grid_template_rows": null,
      "height": null,
      "justify_content": null,
      "justify_items": null,
      "left": null,
      "margin": null,
      "max_height": null,
      "max_width": null,
      "min_height": null,
      "min_width": null,
      "object_fit": null,
      "object_position": null,
      "order": null,
      "overflow": null,
      "overflow_x": null,
      "overflow_y": null,
      "padding": null,
      "right": null,
      "top": null,
      "visibility": null,
      "width": null
     }
    },
    "dc2d8ab4dab447a5bfca5f7df1db3b4f": {
     "model_module": "@jupyter-widgets/controls",
     "model_module_version": "1.5.0",
     "model_name": "DescriptionStyleModel",
     "state": {
      "_model_module": "@jupyter-widgets/controls",
      "_model_module_version": "1.5.0",
      "_model_name": "DescriptionStyleModel",
      "_view_count": null,
      "_view_module": "@jupyter-widgets/base",
      "_view_module_version": "1.2.0",
      "_view_name": "StyleView",
      "description_width": ""
     }
    },
    "dc64bd6c586c44649346778761ee47dc": {
     "model_module": "@jupyter-widgets/controls",
     "model_module_version": "1.5.0",
     "model_name": "HBoxModel",
     "state": {
      "_dom_classes": [],
      "_model_module": "@jupyter-widgets/controls",
      "_model_module_version": "1.5.0",
      "_model_name": "HBoxModel",
      "_view_count": null,
      "_view_module": "@jupyter-widgets/controls",
      "_view_module_version": "1.5.0",
      "_view_name": "HBoxView",
      "box_style": "",
      "children": [
       "IPY_MODEL_d2d26ca83c384e8cb8cf9996e1202c76",
       "IPY_MODEL_e90b1dcef213438a91676618c66d5f85",
       "IPY_MODEL_469cb766551f40f992aa5a1522f06796"
      ],
      "layout": "IPY_MODEL_7d3433407dec4976b47892803044e899"
     }
    },
    "dde0d925a04c40919533edae0621779d": {
     "model_module": "@jupyter-widgets/controls",
     "model_module_version": "1.5.0",
     "model_name": "ProgressStyleModel",
     "state": {
      "_model_module": "@jupyter-widgets/controls",
      "_model_module_version": "1.5.0",
      "_model_name": "ProgressStyleModel",
      "_view_count": null,
      "_view_module": "@jupyter-widgets/base",
      "_view_module_version": "1.2.0",
      "_view_name": "StyleView",
      "bar_color": null,
      "description_width": ""
     }
    },
    "de85477125b640d58d61fe84a1fe410f": {
     "model_module": "@jupyter-widgets/controls",
     "model_module_version": "1.5.0",
     "model_name": "FloatProgressModel",
     "state": {
      "_dom_classes": [],
      "_model_module": "@jupyter-widgets/controls",
      "_model_module_version": "1.5.0",
      "_model_name": "FloatProgressModel",
      "_view_count": null,
      "_view_module": "@jupyter-widgets/controls",
      "_view_module_version": "1.5.0",
      "_view_name": "ProgressView",
      "bar_style": "success",
      "description": "",
      "description_tooltip": null,
      "layout": "IPY_MODEL_321c38c7fb5a48cabde40783f72fb30e",
      "max": 323,
      "min": 0,
      "orientation": "horizontal",
      "style": "IPY_MODEL_62da2d8125004d458561df0fdc09d244",
      "value": 323
     }
    },
    "deea6050951d4ca58e70d9a690dbbed9": {
     "model_module": "@jupyter-widgets/controls",
     "model_module_version": "1.5.0",
     "model_name": "HTMLModel",
     "state": {
      "_dom_classes": [],
      "_model_module": "@jupyter-widgets/controls",
      "_model_module_version": "1.5.0",
      "_model_name": "HTMLModel",
      "_view_count": null,
      "_view_module": "@jupyter-widgets/controls",
      "_view_module_version": "1.5.0",
      "_view_name": "HTMLView",
      "description": "",
      "description_tooltip": null,
      "layout": "IPY_MODEL_a42616c094cb4485920db4bb2972b8e8",
      "placeholder": "​",
      "style": "IPY_MODEL_b6cd1e7ed31d468baa7e9a322ea4b36a",
      "value": "Downloading (…)okenizer_config.json: 100%"
     }
    },
    "df0d7229eeca4861937ea11dcfb855bf": {
     "model_module": "@jupyter-widgets/controls",
     "model_module_version": "1.5.0",
     "model_name": "DescriptionStyleModel",
     "state": {
      "_model_module": "@jupyter-widgets/controls",
      "_model_module_version": "1.5.0",
      "_model_name": "DescriptionStyleModel",
      "_view_count": null,
      "_view_module": "@jupyter-widgets/base",
      "_view_module_version": "1.2.0",
      "_view_name": "StyleView",
      "description_width": ""
     }
    },
    "e01d1f7a9092482f8b03bee5770116bb": {
     "model_module": "@jupyter-widgets/controls",
     "model_module_version": "1.5.0",
     "model_name": "DescriptionStyleModel",
     "state": {
      "_model_module": "@jupyter-widgets/controls",
      "_model_module_version": "1.5.0",
      "_model_name": "DescriptionStyleModel",
      "_view_count": null,
      "_view_module": "@jupyter-widgets/base",
      "_view_module_version": "1.2.0",
      "_view_name": "StyleView",
      "description_width": ""
     }
    },
    "e06a621fcc884cf6948861ba70a040d7": {
     "model_module": "@jupyter-widgets/base",
     "model_module_version": "1.2.0",
     "model_name": "LayoutModel",
     "state": {
      "_model_module": "@jupyter-widgets/base",
      "_model_module_version": "1.2.0",
      "_model_name": "LayoutModel",
      "_view_count": null,
      "_view_module": "@jupyter-widgets/base",
      "_view_module_version": "1.2.0",
      "_view_name": "LayoutView",
      "align_content": null,
      "align_items": null,
      "align_self": null,
      "border": null,
      "bottom": null,
      "display": null,
      "flex": null,
      "flex_flow": null,
      "grid_area": null,
      "grid_auto_columns": null,
      "grid_auto_flow": null,
      "grid_auto_rows": null,
      "grid_column": null,
      "grid_gap": null,
      "grid_row": null,
      "grid_template_areas": null,
      "grid_template_columns": null,
      "grid_template_rows": null,
      "height": null,
      "justify_content": null,
      "justify_items": null,
      "left": null,
      "margin": null,
      "max_height": null,
      "max_width": null,
      "min_height": null,
      "min_width": null,
      "object_fit": null,
      "object_position": null,
      "order": null,
      "overflow": null,
      "overflow_x": null,
      "overflow_y": null,
      "padding": null,
      "right": null,
      "top": null,
      "visibility": null,
      "width": null
     }
    },
    "e12ed3b7dc5c4932866f433ef048800e": {
     "model_module": "@jupyter-widgets/base",
     "model_module_version": "1.2.0",
     "model_name": "LayoutModel",
     "state": {
      "_model_module": "@jupyter-widgets/base",
      "_model_module_version": "1.2.0",
      "_model_name": "LayoutModel",
      "_view_count": null,
      "_view_module": "@jupyter-widgets/base",
      "_view_module_version": "1.2.0",
      "_view_name": "LayoutView",
      "align_content": null,
      "align_items": null,
      "align_self": null,
      "border": null,
      "bottom": null,
      "display": null,
      "flex": null,
      "flex_flow": null,
      "grid_area": null,
      "grid_auto_columns": null,
      "grid_auto_flow": null,
      "grid_auto_rows": null,
      "grid_column": null,
      "grid_gap": null,
      "grid_row": null,
      "grid_template_areas": null,
      "grid_template_columns": null,
      "grid_template_rows": null,
      "height": null,
      "justify_content": null,
      "justify_items": null,
      "left": null,
      "margin": null,
      "max_height": null,
      "max_width": null,
      "min_height": null,
      "min_width": null,
      "object_fit": null,
      "object_position": null,
      "order": null,
      "overflow": null,
      "overflow_x": null,
      "overflow_y": null,
      "padding": null,
      "right": null,
      "top": null,
      "visibility": null,
      "width": null
     }
    },
    "e14ae556bac045d5a64f028ce76ded2e": {
     "model_module": "@jupyter-widgets/controls",
     "model_module_version": "1.5.0",
     "model_name": "ProgressStyleModel",
     "state": {
      "_model_module": "@jupyter-widgets/controls",
      "_model_module_version": "1.5.0",
      "_model_name": "ProgressStyleModel",
      "_view_count": null,
      "_view_module": "@jupyter-widgets/base",
      "_view_module_version": "1.2.0",
      "_view_name": "StyleView",
      "bar_color": null,
      "description_width": ""
     }
    },
    "e2925c6848c0450b8150dbbc9197f7b4": {
     "model_module": "@jupyter-widgets/controls",
     "model_module_version": "1.5.0",
     "model_name": "FloatProgressModel",
     "state": {
      "_dom_classes": [],
      "_model_module": "@jupyter-widgets/controls",
      "_model_module_version": "1.5.0",
      "_model_name": "FloatProgressModel",
      "_view_count": null,
      "_view_module": "@jupyter-widgets/controls",
      "_view_module_version": "1.5.0",
      "_view_name": "ProgressView",
      "bar_style": "success",
      "description": "",
      "description_tooltip": null,
      "layout": "IPY_MODEL_2b6f2219e25b4f70a21aab7dc67f210d",
      "max": 570,
      "min": 0,
      "orientation": "horizontal",
      "style": "IPY_MODEL_0d47571efe944cb3bcd4062deef28a76",
      "value": 570
     }
    },
    "e311df68b62b44099c1269883678c94b": {
     "model_module": "@jupyter-widgets/base",
     "model_module_version": "1.2.0",
     "model_name": "LayoutModel",
     "state": {
      "_model_module": "@jupyter-widgets/base",
      "_model_module_version": "1.2.0",
      "_model_name": "LayoutModel",
      "_view_count": null,
      "_view_module": "@jupyter-widgets/base",
      "_view_module_version": "1.2.0",
      "_view_name": "LayoutView",
      "align_content": null,
      "align_items": null,
      "align_self": null,
      "border": null,
      "bottom": null,
      "display": null,
      "flex": null,
      "flex_flow": null,
      "grid_area": null,
      "grid_auto_columns": null,
      "grid_auto_flow": null,
      "grid_auto_rows": null,
      "grid_column": null,
      "grid_gap": null,
      "grid_row": null,
      "grid_template_areas": null,
      "grid_template_columns": null,
      "grid_template_rows": null,
      "height": null,
      "justify_content": null,
      "justify_items": null,
      "left": null,
      "margin": null,
      "max_height": null,
      "max_width": null,
      "min_height": null,
      "min_width": null,
      "object_fit": null,
      "object_position": null,
      "order": null,
      "overflow": null,
      "overflow_x": null,
      "overflow_y": null,
      "padding": null,
      "right": null,
      "top": null,
      "visibility": null,
      "width": null
     }
    },
    "e3147854e3e849cd8badb22bca577f83": {
     "model_module": "@jupyter-widgets/controls",
     "model_module_version": "1.5.0",
     "model_name": "ProgressStyleModel",
     "state": {
      "_model_module": "@jupyter-widgets/controls",
      "_model_module_version": "1.5.0",
      "_model_name": "ProgressStyleModel",
      "_view_count": null,
      "_view_module": "@jupyter-widgets/base",
      "_view_module_version": "1.2.0",
      "_view_name": "StyleView",
      "bar_color": null,
      "description_width": ""
     }
    },
    "e34df6b7762b42169b6a38cb1db49c79": {
     "model_module": "@jupyter-widgets/base",
     "model_module_version": "1.2.0",
     "model_name": "LayoutModel",
     "state": {
      "_model_module": "@jupyter-widgets/base",
      "_model_module_version": "1.2.0",
      "_model_name": "LayoutModel",
      "_view_count": null,
      "_view_module": "@jupyter-widgets/base",
      "_view_module_version": "1.2.0",
      "_view_name": "LayoutView",
      "align_content": null,
      "align_items": null,
      "align_self": null,
      "border": null,
      "bottom": null,
      "display": null,
      "flex": null,
      "flex_flow": null,
      "grid_area": null,
      "grid_auto_columns": null,
      "grid_auto_flow": null,
      "grid_auto_rows": null,
      "grid_column": null,
      "grid_gap": null,
      "grid_row": null,
      "grid_template_areas": null,
      "grid_template_columns": null,
      "grid_template_rows": null,
      "height": null,
      "justify_content": null,
      "justify_items": null,
      "left": null,
      "margin": null,
      "max_height": null,
      "max_width": null,
      "min_height": null,
      "min_width": null,
      "object_fit": null,
      "object_position": null,
      "order": null,
      "overflow": null,
      "overflow_x": null,
      "overflow_y": null,
      "padding": null,
      "right": null,
      "top": null,
      "visibility": null,
      "width": null
     }
    },
    "e37ee1e0045d4b66a849426d3db233b6": {
     "model_module": "@jupyter-widgets/controls",
     "model_module_version": "1.5.0",
     "model_name": "DescriptionStyleModel",
     "state": {
      "_model_module": "@jupyter-widgets/controls",
      "_model_module_version": "1.5.0",
      "_model_name": "DescriptionStyleModel",
      "_view_count": null,
      "_view_module": "@jupyter-widgets/base",
      "_view_module_version": "1.2.0",
      "_view_name": "StyleView",
      "description_width": ""
     }
    },
    "e37efdd73e00484e80d22cf19838eb9b": {
     "model_module": "@jupyter-widgets/controls",
     "model_module_version": "1.5.0",
     "model_name": "DescriptionStyleModel",
     "state": {
      "_model_module": "@jupyter-widgets/controls",
      "_model_module_version": "1.5.0",
      "_model_name": "DescriptionStyleModel",
      "_view_count": null,
      "_view_module": "@jupyter-widgets/base",
      "_view_module_version": "1.2.0",
      "_view_name": "StyleView",
      "description_width": ""
     }
    },
    "e413a8f688144c74ba4028bf4ed854d5": {
     "model_module": "@jupyter-widgets/base",
     "model_module_version": "1.2.0",
     "model_name": "LayoutModel",
     "state": {
      "_model_module": "@jupyter-widgets/base",
      "_model_module_version": "1.2.0",
      "_model_name": "LayoutModel",
      "_view_count": null,
      "_view_module": "@jupyter-widgets/base",
      "_view_module_version": "1.2.0",
      "_view_name": "LayoutView",
      "align_content": null,
      "align_items": null,
      "align_self": null,
      "border": null,
      "bottom": null,
      "display": null,
      "flex": null,
      "flex_flow": null,
      "grid_area": null,
      "grid_auto_columns": null,
      "grid_auto_flow": null,
      "grid_auto_rows": null,
      "grid_column": null,
      "grid_gap": null,
      "grid_row": null,
      "grid_template_areas": null,
      "grid_template_columns": null,
      "grid_template_rows": null,
      "height": null,
      "justify_content": null,
      "justify_items": null,
      "left": null,
      "margin": null,
      "max_height": null,
      "max_width": null,
      "min_height": null,
      "min_width": null,
      "object_fit": null,
      "object_position": null,
      "order": null,
      "overflow": null,
      "overflow_x": null,
      "overflow_y": null,
      "padding": null,
      "right": null,
      "top": null,
      "visibility": null,
      "width": null
     }
    },
    "e47034499cc34e38bc0caba6d32e0af2": {
     "model_module": "@jupyter-widgets/controls",
     "model_module_version": "1.5.0",
     "model_name": "HTMLModel",
     "state": {
      "_dom_classes": [],
      "_model_module": "@jupyter-widgets/controls",
      "_model_module_version": "1.5.0",
      "_model_name": "HTMLModel",
      "_view_count": null,
      "_view_module": "@jupyter-widgets/controls",
      "_view_module_version": "1.5.0",
      "_view_name": "HTMLView",
      "description": "",
      "description_tooltip": null,
      "layout": "IPY_MODEL_15e6c1e653ea43ceac91c1188d2d9b4b",
      "placeholder": "​",
      "style": "IPY_MODEL_1d110c4fecb74297b1d648948a410fcd",
      "value": "Map: 100%"
     }
    },
    "e5063a3999bd4629ab6ab8ce92dc647f": {
     "model_module": "@jupyter-widgets/base",
     "model_module_version": "1.2.0",
     "model_name": "LayoutModel",
     "state": {
      "_model_module": "@jupyter-widgets/base",
      "_model_module_version": "1.2.0",
      "_model_name": "LayoutModel",
      "_view_count": null,
      "_view_module": "@jupyter-widgets/base",
      "_view_module_version": "1.2.0",
      "_view_name": "LayoutView",
      "align_content": null,
      "align_items": null,
      "align_self": null,
      "border": null,
      "bottom": null,
      "display": null,
      "flex": null,
      "flex_flow": null,
      "grid_area": null,
      "grid_auto_columns": null,
      "grid_auto_flow": null,
      "grid_auto_rows": null,
      "grid_column": null,
      "grid_gap": null,
      "grid_row": null,
      "grid_template_areas": null,
      "grid_template_columns": null,
      "grid_template_rows": null,
      "height": null,
      "justify_content": null,
      "justify_items": null,
      "left": null,
      "margin": null,
      "max_height": null,
      "max_width": null,
      "min_height": null,
      "min_width": null,
      "object_fit": null,
      "object_position": null,
      "order": null,
      "overflow": null,
      "overflow_x": null,
      "overflow_y": null,
      "padding": null,
      "right": null,
      "top": null,
      "visibility": null,
      "width": null
     }
    },
    "e6fc878e9bd94c44a1121ed9fb94af18": {
     "model_module": "@jupyter-widgets/base",
     "model_module_version": "1.2.0",
     "model_name": "LayoutModel",
     "state": {
      "_model_module": "@jupyter-widgets/base",
      "_model_module_version": "1.2.0",
      "_model_name": "LayoutModel",
      "_view_count": null,
      "_view_module": "@jupyter-widgets/base",
      "_view_module_version": "1.2.0",
      "_view_name": "LayoutView",
      "align_content": null,
      "align_items": null,
      "align_self": null,
      "border": null,
      "bottom": null,
      "display": null,
      "flex": null,
      "flex_flow": null,
      "grid_area": null,
      "grid_auto_columns": null,
      "grid_auto_flow": null,
      "grid_auto_rows": null,
      "grid_column": null,
      "grid_gap": null,
      "grid_row": null,
      "grid_template_areas": null,
      "grid_template_columns": null,
      "grid_template_rows": null,
      "height": null,
      "justify_content": null,
      "justify_items": null,
      "left": null,
      "margin": null,
      "max_height": null,
      "max_width": null,
      "min_height": null,
      "min_width": null,
      "object_fit": null,
      "object_position": null,
      "order": null,
      "overflow": null,
      "overflow_x": null,
      "overflow_y": null,
      "padding": null,
      "right": null,
      "top": null,
      "visibility": null,
      "width": null
     }
    },
    "e74ffc2c8ab645b99b823dfcd834033e": {
     "model_module": "@jupyter-widgets/controls",
     "model_module_version": "1.5.0",
     "model_name": "HTMLModel",
     "state": {
      "_dom_classes": [],
      "_model_module": "@jupyter-widgets/controls",
      "_model_module_version": "1.5.0",
      "_model_name": "HTMLModel",
      "_view_count": null,
      "_view_module": "@jupyter-widgets/controls",
      "_view_module_version": "1.5.0",
      "_view_name": "HTMLView",
      "description": "",
      "description_tooltip": null,
      "layout": "IPY_MODEL_f56178de4e344ada9c275e63262ccc77",
      "placeholder": "​",
      "style": "IPY_MODEL_8a72cf42f4e3447987928280478bbcb3",
      "value": "Generating train split: "
     }
    },
    "e7803472ac394d368b137951385998ed": {
     "model_module": "@jupyter-widgets/base",
     "model_module_version": "1.2.0",
     "model_name": "LayoutModel",
     "state": {
      "_model_module": "@jupyter-widgets/base",
      "_model_module_version": "1.2.0",
      "_model_name": "LayoutModel",
      "_view_count": null,
      "_view_module": "@jupyter-widgets/base",
      "_view_module_version": "1.2.0",
      "_view_name": "LayoutView",
      "align_content": null,
      "align_items": null,
      "align_self": null,
      "border": null,
      "bottom": null,
      "display": null,
      "flex": null,
      "flex_flow": null,
      "grid_area": null,
      "grid_auto_columns": null,
      "grid_auto_flow": null,
      "grid_auto_rows": null,
      "grid_column": null,
      "grid_gap": null,
      "grid_row": null,
      "grid_template_areas": null,
      "grid_template_columns": null,
      "grid_template_rows": null,
      "height": null,
      "justify_content": null,
      "justify_items": null,
      "left": null,
      "margin": null,
      "max_height": null,
      "max_width": null,
      "min_height": null,
      "min_width": null,
      "object_fit": null,
      "object_position": null,
      "order": null,
      "overflow": null,
      "overflow_x": null,
      "overflow_y": null,
      "padding": null,
      "right": null,
      "top": null,
      "visibility": null,
      "width": null
     }
    },
    "e791c7e96e2a4ffdb8f6bdb12e61aa02": {
     "model_module": "@jupyter-widgets/base",
     "model_module_version": "1.2.0",
     "model_name": "LayoutModel",
     "state": {
      "_model_module": "@jupyter-widgets/base",
      "_model_module_version": "1.2.0",
      "_model_name": "LayoutModel",
      "_view_count": null,
      "_view_module": "@jupyter-widgets/base",
      "_view_module_version": "1.2.0",
      "_view_name": "LayoutView",
      "align_content": null,
      "align_items": null,
      "align_self": null,
      "border": null,
      "bottom": null,
      "display": null,
      "flex": null,
      "flex_flow": null,
      "grid_area": null,
      "grid_auto_columns": null,
      "grid_auto_flow": null,
      "grid_auto_rows": null,
      "grid_column": null,
      "grid_gap": null,
      "grid_row": null,
      "grid_template_areas": null,
      "grid_template_columns": null,
      "grid_template_rows": null,
      "height": null,
      "justify_content": null,
      "justify_items": null,
      "left": null,
      "margin": null,
      "max_height": null,
      "max_width": null,
      "min_height": null,
      "min_width": null,
      "object_fit": null,
      "object_position": null,
      "order": null,
      "overflow": null,
      "overflow_x": null,
      "overflow_y": null,
      "padding": null,
      "right": null,
      "top": null,
      "visibility": null,
      "width": null
     }
    },
    "e7d783b2428a4ee487dc4e700e4ed9fc": {
     "model_module": "@jupyter-widgets/controls",
     "model_module_version": "1.5.0",
     "model_name": "HTMLModel",
     "state": {
      "_dom_classes": [],
      "_model_module": "@jupyter-widgets/controls",
      "_model_module_version": "1.5.0",
      "_model_name": "HTMLModel",
      "_view_count": null,
      "_view_module": "@jupyter-widgets/controls",
      "_view_module_version": "1.5.0",
      "_view_name": "HTMLView",
      "description": "",
      "description_tooltip": null,
      "layout": "IPY_MODEL_09c09951186c4b8baca1824cece58586",
      "placeholder": "​",
      "style": "IPY_MODEL_6f7870b5ddab4cd6ae6d6df571d624b0",
      "value": "Downloading (…)lve/main/config.json: 100%"
     }
    },
    "e84b2ead2ebf44a9844271d79b48eaa4": {
     "model_module": "@jupyter-widgets/controls",
     "model_module_version": "1.5.0",
     "model_name": "DescriptionStyleModel",
     "state": {
      "_model_module": "@jupyter-widgets/controls",
      "_model_module_version": "1.5.0",
      "_model_name": "DescriptionStyleModel",
      "_view_count": null,
      "_view_module": "@jupyter-widgets/base",
      "_view_module_version": "1.2.0",
      "_view_name": "StyleView",
      "description_width": ""
     }
    },
    "e8b1e8864ce245f3bcaa1ac7ae5f54de": {
     "model_module": "@jupyter-widgets/controls",
     "model_module_version": "1.5.0",
     "model_name": "FloatProgressModel",
     "state": {
      "_dom_classes": [],
      "_model_module": "@jupyter-widgets/controls",
      "_model_module_version": "1.5.0",
      "_model_name": "FloatProgressModel",
      "_view_count": null,
      "_view_module": "@jupyter-widgets/controls",
      "_view_module_version": "1.5.0",
      "_view_name": "ProgressView",
      "bar_style": "success",
      "description": "",
      "description_tooltip": null,
      "layout": "IPY_MODEL_a97bc72ee0c240b2885198db446ca205",
      "max": 124,
      "min": 0,
      "orientation": "horizontal",
      "style": "IPY_MODEL_e14ae556bac045d5a64f028ce76ded2e",
      "value": 124
     }
    },
    "e90b1dcef213438a91676618c66d5f85": {
     "model_module": "@jupyter-widgets/controls",
     "model_module_version": "1.5.0",
     "model_name": "FloatProgressModel",
     "state": {
      "_dom_classes": [],
      "_model_module": "@jupyter-widgets/controls",
      "_model_module_version": "1.5.0",
      "_model_name": "FloatProgressModel",
      "_view_count": null,
      "_view_module": "@jupyter-widgets/controls",
      "_view_module_version": "1.5.0",
      "_view_name": "ProgressView",
      "bar_style": "success",
      "description": "",
      "description_tooltip": null,
      "layout": "IPY_MODEL_bafc4fafea2344f4a7d2def7da6153d2",
      "max": 1,
      "min": 0,
      "orientation": "horizontal",
      "style": "IPY_MODEL_fd192c24c0e44da0b3cf39fb1fd60b5f",
      "value": 1
     }
    },
    "e93a503d473b411dbf651736f2697704": {
     "model_module": "@jupyter-widgets/base",
     "model_module_version": "1.2.0",
     "model_name": "LayoutModel",
     "state": {
      "_model_module": "@jupyter-widgets/base",
      "_model_module_version": "1.2.0",
      "_model_name": "LayoutModel",
      "_view_count": null,
      "_view_module": "@jupyter-widgets/base",
      "_view_module_version": "1.2.0",
      "_view_name": "LayoutView",
      "align_content": null,
      "align_items": null,
      "align_self": null,
      "border": null,
      "bottom": null,
      "display": null,
      "flex": null,
      "flex_flow": null,
      "grid_area": null,
      "grid_auto_columns": null,
      "grid_auto_flow": null,
      "grid_auto_rows": null,
      "grid_column": null,
      "grid_gap": null,
      "grid_row": null,
      "grid_template_areas": null,
      "grid_template_columns": null,
      "grid_template_rows": null,
      "height": null,
      "justify_content": null,
      "justify_items": null,
      "left": null,
      "margin": null,
      "max_height": null,
      "max_width": null,
      "min_height": null,
      "min_width": null,
      "object_fit": null,
      "object_position": null,
      "order": null,
      "overflow": null,
      "overflow_x": null,
      "overflow_y": null,
      "padding": null,
      "right": null,
      "top": null,
      "visibility": null,
      "width": null
     }
    },
    "e9905466f9744164971e84d9bbb0354c": {
     "model_module": "@jupyter-widgets/base",
     "model_module_version": "1.2.0",
     "model_name": "LayoutModel",
     "state": {
      "_model_module": "@jupyter-widgets/base",
      "_model_module_version": "1.2.0",
      "_model_name": "LayoutModel",
      "_view_count": null,
      "_view_module": "@jupyter-widgets/base",
      "_view_module_version": "1.2.0",
      "_view_name": "LayoutView",
      "align_content": null,
      "align_items": null,
      "align_self": null,
      "border": null,
      "bottom": null,
      "display": null,
      "flex": null,
      "flex_flow": null,
      "grid_area": null,
      "grid_auto_columns": null,
      "grid_auto_flow": null,
      "grid_auto_rows": null,
      "grid_column": null,
      "grid_gap": null,
      "grid_row": null,
      "grid_template_areas": null,
      "grid_template_columns": null,
      "grid_template_rows": null,
      "height": null,
      "justify_content": null,
      "justify_items": null,
      "left": null,
      "margin": null,
      "max_height": null,
      "max_width": null,
      "min_height": null,
      "min_width": null,
      "object_fit": null,
      "object_position": null,
      "order": null,
      "overflow": null,
      "overflow_x": null,
      "overflow_y": null,
      "padding": null,
      "right": null,
      "top": null,
      "visibility": null,
      "width": null
     }
    },
    "e9cd1445c89746eeacc43611394f05e6": {
     "model_module": "@jupyter-widgets/base",
     "model_module_version": "1.2.0",
     "model_name": "LayoutModel",
     "state": {
      "_model_module": "@jupyter-widgets/base",
      "_model_module_version": "1.2.0",
      "_model_name": "LayoutModel",
      "_view_count": null,
      "_view_module": "@jupyter-widgets/base",
      "_view_module_version": "1.2.0",
      "_view_name": "LayoutView",
      "align_content": null,
      "align_items": null,
      "align_self": null,
      "border": null,
      "bottom": null,
      "display": null,
      "flex": null,
      "flex_flow": null,
      "grid_area": null,
      "grid_auto_columns": null,
      "grid_auto_flow": null,
      "grid_auto_rows": null,
      "grid_column": null,
      "grid_gap": null,
      "grid_row": null,
      "grid_template_areas": null,
      "grid_template_columns": null,
      "grid_template_rows": null,
      "height": null,
      "justify_content": null,
      "justify_items": null,
      "left": null,
      "margin": null,
      "max_height": null,
      "max_width": null,
      "min_height": null,
      "min_width": null,
      "object_fit": null,
      "object_position": null,
      "order": null,
      "overflow": null,
      "overflow_x": null,
      "overflow_y": null,
      "padding": null,
      "right": null,
      "top": null,
      "visibility": null,
      "width": null
     }
    },
    "ea100e2cb078487a8459b0fa5b21eb9d": {
     "model_module": "@jupyter-widgets/controls",
     "model_module_version": "1.5.0",
     "model_name": "DescriptionStyleModel",
     "state": {
      "_model_module": "@jupyter-widgets/controls",
      "_model_module_version": "1.5.0",
      "_model_name": "DescriptionStyleModel",
      "_view_count": null,
      "_view_module": "@jupyter-widgets/base",
      "_view_module_version": "1.2.0",
      "_view_name": "StyleView",
      "description_width": ""
     }
    },
    "eaa192d1608f4322854a8bf88242cfa7": {
     "model_module": "@jupyter-widgets/controls",
     "model_module_version": "1.5.0",
     "model_name": "HTMLModel",
     "state": {
      "_dom_classes": [],
      "_model_module": "@jupyter-widgets/controls",
      "_model_module_version": "1.5.0",
      "_model_name": "HTMLModel",
      "_view_count": null,
      "_view_module": "@jupyter-widgets/controls",
      "_view_module_version": "1.5.0",
      "_view_name": "HTMLView",
      "description": "",
      "description_tooltip": null,
      "layout": "IPY_MODEL_890bcfb8c23046808a22581da6107878",
      "placeholder": "​",
      "style": "IPY_MODEL_110fcccc17cd464fb2b61838c02c45a0",
      "value": "Downloading (…)lve/main/config.json: 100%"
     }
    },
    "ef6585ad9f58426486fe68e416a5085b": {
     "model_module": "@jupyter-widgets/controls",
     "model_module_version": "1.5.0",
     "model_name": "HTMLModel",
     "state": {
      "_dom_classes": [],
      "_model_module": "@jupyter-widgets/controls",
      "_model_module_version": "1.5.0",
      "_model_name": "HTMLModel",
      "_view_count": null,
      "_view_module": "@jupyter-widgets/controls",
      "_view_module_version": "1.5.0",
      "_view_name": "HTMLView",
      "description": "",
      "description_tooltip": null,
      "layout": "IPY_MODEL_36f064f978d34560ad0536674d9115cd",
      "placeholder": "​",
      "style": "IPY_MODEL_74566debe4c24ceabfe4867202dc998f",
      "value": "Map: 100%"
     }
    },
    "ef6674bcc2cc493d98836651caf42ae8": {
     "model_module": "@jupyter-widgets/base",
     "model_module_version": "1.2.0",
     "model_name": "LayoutModel",
     "state": {
      "_model_module": "@jupyter-widgets/base",
      "_model_module_version": "1.2.0",
      "_model_name": "LayoutModel",
      "_view_count": null,
      "_view_module": "@jupyter-widgets/base",
      "_view_module_version": "1.2.0",
      "_view_name": "LayoutView",
      "align_content": null,
      "align_items": null,
      "align_self": null,
      "border": null,
      "bottom": null,
      "display": null,
      "flex": null,
      "flex_flow": null,
      "grid_area": null,
      "grid_auto_columns": null,
      "grid_auto_flow": null,
      "grid_auto_rows": null,
      "grid_column": null,
      "grid_gap": null,
      "grid_row": null,
      "grid_template_areas": null,
      "grid_template_columns": null,
      "grid_template_rows": null,
      "height": null,
      "justify_content": null,
      "justify_items": null,
      "left": null,
      "margin": null,
      "max_height": null,
      "max_width": null,
      "min_height": null,
      "min_width": null,
      "object_fit": null,
      "object_position": null,
      "order": null,
      "overflow": null,
      "overflow_x": null,
      "overflow_y": null,
      "padding": null,
      "right": null,
      "top": null,
      "visibility": null,
      "width": null
     }
    },
    "efd84a7954324854a1d0fc0a533de65e": {
     "model_module": "@jupyter-widgets/controls",
     "model_module_version": "1.5.0",
     "model_name": "HTMLModel",
     "state": {
      "_dom_classes": [],
      "_model_module": "@jupyter-widgets/controls",
      "_model_module_version": "1.5.0",
      "_model_name": "HTMLModel",
      "_view_count": null,
      "_view_module": "@jupyter-widgets/controls",
      "_view_module_version": "1.5.0",
      "_view_name": "HTMLView",
      "description": "",
      "description_tooltip": null,
      "layout": "IPY_MODEL_8736176520594608bfe10039ab53d571",
      "placeholder": "​",
      "style": "IPY_MODEL_f898adb2fc6046329e9abae53870ce29",
      "value": " 466k/466k [00:00&lt;00:00, 3.59MB/s]"
     }
    },
    "f015070e82a44db4a6e54147f59af735": {
     "model_module": "@jupyter-widgets/controls",
     "model_module_version": "1.5.0",
     "model_name": "FloatProgressModel",
     "state": {
      "_dom_classes": [],
      "_model_module": "@jupyter-widgets/controls",
      "_model_module_version": "1.5.0",
      "_model_name": "FloatProgressModel",
      "_view_count": null,
      "_view_module": "@jupyter-widgets/controls",
      "_view_module_version": "1.5.0",
      "_view_name": "ProgressView",
      "bar_style": "success",
      "description": "",
      "description_tooltip": null,
      "layout": "IPY_MODEL_f6954a6ac6274d768555700795ab05dc",
      "max": 1289,
      "min": 0,
      "orientation": "horizontal",
      "style": "IPY_MODEL_5b7ae7c1cecd47c3a9289ef817567975",
      "value": 1289
     }
    },
    "f030e21d8d2541c9a1b5d56ecfbbc1bd": {
     "model_module": "@jupyter-widgets/controls",
     "model_module_version": "1.5.0",
     "model_name": "DescriptionStyleModel",
     "state": {
      "_model_module": "@jupyter-widgets/controls",
      "_model_module_version": "1.5.0",
      "_model_name": "DescriptionStyleModel",
      "_view_count": null,
      "_view_module": "@jupyter-widgets/base",
      "_view_module_version": "1.2.0",
      "_view_name": "StyleView",
      "description_width": ""
     }
    },
    "f12561a7885745f68335b541d6e33baa": {
     "model_module": "@jupyter-widgets/controls",
     "model_module_version": "1.5.0",
     "model_name": "FloatProgressModel",
     "state": {
      "_dom_classes": [],
      "_model_module": "@jupyter-widgets/controls",
      "_model_module_version": "1.5.0",
      "_model_name": "FloatProgressModel",
      "_view_count": null,
      "_view_module": "@jupyter-widgets/controls",
      "_view_module_version": "1.5.0",
      "_view_name": "ProgressView",
      "bar_style": "success",
      "description": "",
      "description_tooltip": null,
      "layout": "IPY_MODEL_e6fc878e9bd94c44a1121ed9fb94af18",
      "max": 771,
      "min": 0,
      "orientation": "horizontal",
      "style": "IPY_MODEL_81bb103bdcff45b4955023635434a513",
      "value": 771
     }
    },
    "f1315b0496244e24addeb478d9e64eb8": {
     "model_module": "@jupyter-widgets/controls",
     "model_module_version": "1.5.0",
     "model_name": "HBoxModel",
     "state": {
      "_dom_classes": [],
      "_model_module": "@jupyter-widgets/controls",
      "_model_module_version": "1.5.0",
      "_model_name": "HBoxModel",
      "_view_count": null,
      "_view_module": "@jupyter-widgets/controls",
      "_view_module_version": "1.5.0",
      "_view_name": "HBoxView",
      "box_style": "",
      "children": [
       "IPY_MODEL_fd4997c1fe6743218f8bfcf5cfc8f1bd",
       "IPY_MODEL_14a84284b58c4927a57600bd63b83f60",
       "IPY_MODEL_7ae512c0087942209b5c83c124bf0eb9"
      ],
      "layout": "IPY_MODEL_e5063a3999bd4629ab6ab8ce92dc647f"
     }
    },
    "f151d215e09a490f910be8db015bba80": {
     "model_module": "@jupyter-widgets/controls",
     "model_module_version": "1.5.0",
     "model_name": "HTMLModel",
     "state": {
      "_dom_classes": [],
      "_model_module": "@jupyter-widgets/controls",
      "_model_module_version": "1.5.0",
      "_model_name": "HTMLModel",
      "_view_count": null,
      "_view_module": "@jupyter-widgets/controls",
      "_view_module_version": "1.5.0",
      "_view_name": "HTMLView",
      "description": "",
      "description_tooltip": null,
      "layout": "IPY_MODEL_e12ed3b7dc5c4932866f433ef048800e",
      "placeholder": "​",
      "style": "IPY_MODEL_fb9f5fc23bb447f88cd6ff1f0bb4b35c",
      "value": "Map: 100%"
     }
    },
    "f2a9bc258d06496f8e8e1f2f8ccc515b": {
     "model_module": "@jupyter-widgets/controls",
     "model_module_version": "1.5.0",
     "model_name": "HBoxModel",
     "state": {
      "_dom_classes": [],
      "_model_module": "@jupyter-widgets/controls",
      "_model_module_version": "1.5.0",
      "_model_name": "HBoxModel",
      "_view_count": null,
      "_view_module": "@jupyter-widgets/controls",
      "_view_module_version": "1.5.0",
      "_view_name": "HBoxView",
      "box_style": "",
      "children": [
       "IPY_MODEL_4bb1b90b1880493b9bc53341c5988131",
       "IPY_MODEL_67b82af834bf4526b730bfa4fc8d4ad3",
       "IPY_MODEL_133badee9be148eb9daa878d67325bb5"
      ],
      "layout": "IPY_MODEL_4daedae6cba24c6a835a8e4ae05e322d"
     }
    },
    "f2cbe349777d4fb28e1d02ade5f6f63a": {
     "model_module": "@jupyter-widgets/controls",
     "model_module_version": "1.5.0",
     "model_name": "FloatProgressModel",
     "state": {
      "_dom_classes": [],
      "_model_module": "@jupyter-widgets/controls",
      "_model_module_version": "1.5.0",
      "_model_name": "FloatProgressModel",
      "_view_count": null,
      "_view_module": "@jupyter-widgets/controls",
      "_view_module_version": "1.5.0",
      "_view_name": "ProgressView",
      "bar_style": "success",
      "description": "",
      "description_tooltip": null,
      "layout": "IPY_MODEL_344401e1b0234ea394d535dfc2f02da4",
      "max": 28,
      "min": 0,
      "orientation": "horizontal",
      "style": "IPY_MODEL_017e198210e54a189160e6c5448b45ff",
      "value": 28
     }
    },
    "f37ddc958e61436795033581348ee8ff": {
     "model_module": "@jupyter-widgets/controls",
     "model_module_version": "1.5.0",
     "model_name": "FloatProgressModel",
     "state": {
      "_dom_classes": [],
      "_model_module": "@jupyter-widgets/controls",
      "_model_module_version": "1.5.0",
      "_model_name": "FloatProgressModel",
      "_view_count": null,
      "_view_module": "@jupyter-widgets/controls",
      "_view_module_version": "1.5.0",
      "_view_name": "ProgressView",
      "bar_style": "success",
      "description": "",
      "description_tooltip": null,
      "layout": "IPY_MODEL_020e13cca93f4c20a5df7384b61b56d8",
      "max": 231508,
      "min": 0,
      "orientation": "horizontal",
      "style": "IPY_MODEL_5c9d700dd2ec4c0d92231652d9d50758",
      "value": 231508
     }
    },
    "f4c9792bf2194999b083495d1379b513": {
     "model_module": "@jupyter-widgets/base",
     "model_module_version": "1.2.0",
     "model_name": "LayoutModel",
     "state": {
      "_model_module": "@jupyter-widgets/base",
      "_model_module_version": "1.2.0",
      "_model_name": "LayoutModel",
      "_view_count": null,
      "_view_module": "@jupyter-widgets/base",
      "_view_module_version": "1.2.0",
      "_view_name": "LayoutView",
      "align_content": null,
      "align_items": null,
      "align_self": null,
      "border": null,
      "bottom": null,
      "display": null,
      "flex": null,
      "flex_flow": null,
      "grid_area": null,
      "grid_auto_columns": null,
      "grid_auto_flow": null,
      "grid_auto_rows": null,
      "grid_column": null,
      "grid_gap": null,
      "grid_row": null,
      "grid_template_areas": null,
      "grid_template_columns": null,
      "grid_template_rows": null,
      "height": null,
      "justify_content": null,
      "justify_items": null,
      "left": null,
      "margin": null,
      "max_height": null,
      "max_width": null,
      "min_height": null,
      "min_width": null,
      "object_fit": null,
      "object_position": null,
      "order": null,
      "overflow": null,
      "overflow_x": null,
      "overflow_y": null,
      "padding": null,
      "right": null,
      "top": null,
      "visibility": null,
      "width": null
     }
    },
    "f56178de4e344ada9c275e63262ccc77": {
     "model_module": "@jupyter-widgets/base",
     "model_module_version": "1.2.0",
     "model_name": "LayoutModel",
     "state": {
      "_model_module": "@jupyter-widgets/base",
      "_model_module_version": "1.2.0",
      "_model_name": "LayoutModel",
      "_view_count": null,
      "_view_module": "@jupyter-widgets/base",
      "_view_module_version": "1.2.0",
      "_view_name": "LayoutView",
      "align_content": null,
      "align_items": null,
      "align_self": null,
      "border": null,
      "bottom": null,
      "display": null,
      "flex": null,
      "flex_flow": null,
      "grid_area": null,
      "grid_auto_columns": null,
      "grid_auto_flow": null,
      "grid_auto_rows": null,
      "grid_column": null,
      "grid_gap": null,
      "grid_row": null,
      "grid_template_areas": null,
      "grid_template_columns": null,
      "grid_template_rows": null,
      "height": null,
      "justify_content": null,
      "justify_items": null,
      "left": null,
      "margin": null,
      "max_height": null,
      "max_width": null,
      "min_height": null,
      "min_width": null,
      "object_fit": null,
      "object_position": null,
      "order": null,
      "overflow": null,
      "overflow_x": null,
      "overflow_y": null,
      "padding": null,
      "right": null,
      "top": null,
      "visibility": null,
      "width": null
     }
    },
    "f59beaa8010b4e4fa173ae0e4bb0ebbd": {
     "model_module": "@jupyter-widgets/controls",
     "model_module_version": "1.5.0",
     "model_name": "ProgressStyleModel",
     "state": {
      "_model_module": "@jupyter-widgets/controls",
      "_model_module_version": "1.5.0",
      "_model_name": "ProgressStyleModel",
      "_view_count": null,
      "_view_module": "@jupyter-widgets/base",
      "_view_module_version": "1.2.0",
      "_view_name": "StyleView",
      "bar_color": null,
      "description_width": ""
     }
    },
    "f6954a6ac6274d768555700795ab05dc": {
     "model_module": "@jupyter-widgets/base",
     "model_module_version": "1.2.0",
     "model_name": "LayoutModel",
     "state": {
      "_model_module": "@jupyter-widgets/base",
      "_model_module_version": "1.2.0",
      "_model_name": "LayoutModel",
      "_view_count": null,
      "_view_module": "@jupyter-widgets/base",
      "_view_module_version": "1.2.0",
      "_view_name": "LayoutView",
      "align_content": null,
      "align_items": null,
      "align_self": null,
      "border": null,
      "bottom": null,
      "display": null,
      "flex": null,
      "flex_flow": null,
      "grid_area": null,
      "grid_auto_columns": null,
      "grid_auto_flow": null,
      "grid_auto_rows": null,
      "grid_column": null,
      "grid_gap": null,
      "grid_row": null,
      "grid_template_areas": null,
      "grid_template_columns": null,
      "grid_template_rows": null,
      "height": null,
      "justify_content": null,
      "justify_items": null,
      "left": null,
      "margin": null,
      "max_height": null,
      "max_width": null,
      "min_height": null,
      "min_width": null,
      "object_fit": null,
      "object_position": null,
      "order": null,
      "overflow": null,
      "overflow_x": null,
      "overflow_y": null,
      "padding": null,
      "right": null,
      "top": null,
      "visibility": null,
      "width": null
     }
    },
    "f6bfeefba2ae41a786d03af7c2875bea": {
     "model_module": "@jupyter-widgets/controls",
     "model_module_version": "1.5.0",
     "model_name": "HTMLModel",
     "state": {
      "_dom_classes": [],
      "_model_module": "@jupyter-widgets/controls",
      "_model_module_version": "1.5.0",
      "_model_name": "HTMLModel",
      "_view_count": null,
      "_view_module": "@jupyter-widgets/controls",
      "_view_module_version": "1.5.0",
      "_view_name": "HTMLView",
      "description": "",
      "description_tooltip": null,
      "layout": "IPY_MODEL_0a799174580945b5a21137b528c5da56",
      "placeholder": "​",
      "style": "IPY_MODEL_d0f6ba92d7484d9aa9ddc84f5318ccba",
      "value": " 3081/3081 [00:50&lt;00:00, 77.62 examples/s]"
     }
    },
    "f8579260247540a1998c25fec1762e2a": {
     "model_module": "@jupyter-widgets/controls",
     "model_module_version": "1.5.0",
     "model_name": "HTMLModel",
     "state": {
      "_dom_classes": [],
      "_model_module": "@jupyter-widgets/controls",
      "_model_module_version": "1.5.0",
      "_model_name": "HTMLModel",
      "_view_count": null,
      "_view_module": "@jupyter-widgets/controls",
      "_view_module_version": "1.5.0",
      "_view_name": "HTMLView",
      "description": "",
      "description_tooltip": null,
      "layout": "IPY_MODEL_b21e1f28e1e24c218ee7e5310071a346",
      "placeholder": "​",
      "style": "IPY_MODEL_ea100e2cb078487a8459b0fa5b21eb9d",
      "value": " 1.36M/1.36M [00:00&lt;00:00, 5.25MB/s]"
     }
    },
    "f898adb2fc6046329e9abae53870ce29": {
     "model_module": "@jupyter-widgets/controls",
     "model_module_version": "1.5.0",
     "model_name": "DescriptionStyleModel",
     "state": {
      "_model_module": "@jupyter-widgets/controls",
      "_model_module_version": "1.5.0",
      "_model_name": "DescriptionStyleModel",
      "_view_count": null,
      "_view_module": "@jupyter-widgets/base",
      "_view_module_version": "1.2.0",
      "_view_name": "StyleView",
      "description_width": ""
     }
    },
    "f9459b5a73dc44d58a68925f08598e65": {
     "model_module": "@jupyter-widgets/base",
     "model_module_version": "1.2.0",
     "model_name": "LayoutModel",
     "state": {
      "_model_module": "@jupyter-widgets/base",
      "_model_module_version": "1.2.0",
      "_model_name": "LayoutModel",
      "_view_count": null,
      "_view_module": "@jupyter-widgets/base",
      "_view_module_version": "1.2.0",
      "_view_name": "LayoutView",
      "align_content": null,
      "align_items": null,
      "align_self": null,
      "border": null,
      "bottom": null,
      "display": null,
      "flex": null,
      "flex_flow": null,
      "grid_area": null,
      "grid_auto_columns": null,
      "grid_auto_flow": null,
      "grid_auto_rows": null,
      "grid_column": null,
      "grid_gap": null,
      "grid_row": null,
      "grid_template_areas": null,
      "grid_template_columns": null,
      "grid_template_rows": null,
      "height": null,
      "justify_content": null,
      "justify_items": null,
      "left": null,
      "margin": null,
      "max_height": null,
      "max_width": null,
      "min_height": null,
      "min_width": null,
      "object_fit": null,
      "object_position": null,
      "order": null,
      "overflow": null,
      "overflow_x": null,
      "overflow_y": null,
      "padding": null,
      "right": null,
      "top": null,
      "visibility": null,
      "width": null
     }
    },
    "fa05df95f5b540859234430c7a9f8a92": {
     "model_module": "@jupyter-widgets/controls",
     "model_module_version": "1.5.0",
     "model_name": "HTMLModel",
     "state": {
      "_dom_classes": [],
      "_model_module": "@jupyter-widgets/controls",
      "_model_module_version": "1.5.0",
      "_model_name": "HTMLModel",
      "_view_count": null,
      "_view_module": "@jupyter-widgets/controls",
      "_view_module_version": "1.5.0",
      "_view_name": "HTMLView",
      "description": "",
      "description_tooltip": null,
      "layout": "IPY_MODEL_fcbc067f13494ff2b9798686ab0a8547",
      "placeholder": "​",
      "style": "IPY_MODEL_dc2d8ab4dab447a5bfca5f7df1db3b4f",
      "value": " 466k/466k [00:00&lt;00:00, 6.78MB/s]"
     }
    },
    "fa9f55afbab04780829b12fe4b116da3": {
     "model_module": "@jupyter-widgets/controls",
     "model_module_version": "1.5.0",
     "model_name": "DescriptionStyleModel",
     "state": {
      "_model_module": "@jupyter-widgets/controls",
      "_model_module_version": "1.5.0",
      "_model_name": "DescriptionStyleModel",
      "_view_count": null,
      "_view_module": "@jupyter-widgets/base",
      "_view_module_version": "1.2.0",
      "_view_name": "StyleView",
      "description_width": ""
     }
    },
    "facfff95c79f44c28ee7fb7743ba15b2": {
     "model_module": "@jupyter-widgets/controls",
     "model_module_version": "1.5.0",
     "model_name": "FloatProgressModel",
     "state": {
      "_dom_classes": [],
      "_model_module": "@jupyter-widgets/controls",
      "_model_module_version": "1.5.0",
      "_model_name": "FloatProgressModel",
      "_view_count": null,
      "_view_module": "@jupyter-widgets/controls",
      "_view_module_version": "1.5.0",
      "_view_name": "ProgressView",
      "bar_style": "success",
      "description": "",
      "description_tooltip": null,
      "layout": "IPY_MODEL_4a3fb6b58fb240439161ecc8be792721",
      "max": 456318,
      "min": 0,
      "orientation": "horizontal",
      "style": "IPY_MODEL_a8efeb7e49c8460ca32bcd5c837f8b2b",
      "value": 456318
     }
    },
    "fb9f5fc23bb447f88cd6ff1f0bb4b35c": {
     "model_module": "@jupyter-widgets/controls",
     "model_module_version": "1.5.0",
     "model_name": "DescriptionStyleModel",
     "state": {
      "_model_module": "@jupyter-widgets/controls",
      "_model_module_version": "1.5.0",
      "_model_name": "DescriptionStyleModel",
      "_view_count": null,
      "_view_module": "@jupyter-widgets/base",
      "_view_module_version": "1.2.0",
      "_view_name": "StyleView",
      "description_width": ""
     }
    },
    "fcbc067f13494ff2b9798686ab0a8547": {
     "model_module": "@jupyter-widgets/base",
     "model_module_version": "1.2.0",
     "model_name": "LayoutModel",
     "state": {
      "_model_module": "@jupyter-widgets/base",
      "_model_module_version": "1.2.0",
      "_model_name": "LayoutModel",
      "_view_count": null,
      "_view_module": "@jupyter-widgets/base",
      "_view_module_version": "1.2.0",
      "_view_name": "LayoutView",
      "align_content": null,
      "align_items": null,
      "align_self": null,
      "border": null,
      "bottom": null,
      "display": null,
      "flex": null,
      "flex_flow": null,
      "grid_area": null,
      "grid_auto_columns": null,
      "grid_auto_flow": null,
      "grid_auto_rows": null,
      "grid_column": null,
      "grid_gap": null,
      "grid_row": null,
      "grid_template_areas": null,
      "grid_template_columns": null,
      "grid_template_rows": null,
      "height": null,
      "justify_content": null,
      "justify_items": null,
      "left": null,
      "margin": null,
      "max_height": null,
      "max_width": null,
      "min_height": null,
      "min_width": null,
      "object_fit": null,
      "object_position": null,
      "order": null,
      "overflow": null,
      "overflow_x": null,
      "overflow_y": null,
      "padding": null,
      "right": null,
      "top": null,
      "visibility": null,
      "width": null
     }
    },
    "fd192c24c0e44da0b3cf39fb1fd60b5f": {
     "model_module": "@jupyter-widgets/controls",
     "model_module_version": "1.5.0",
     "model_name": "ProgressStyleModel",
     "state": {
      "_model_module": "@jupyter-widgets/controls",
      "_model_module_version": "1.5.0",
      "_model_name": "ProgressStyleModel",
      "_view_count": null,
      "_view_module": "@jupyter-widgets/base",
      "_view_module_version": "1.2.0",
      "_view_name": "StyleView",
      "bar_color": null,
      "description_width": ""
     }
    },
    "fd480f04a0354a7ab1ac9fd4d531ccc1": {
     "model_module": "@jupyter-widgets/controls",
     "model_module_version": "1.5.0",
     "model_name": "HTMLModel",
     "state": {
      "_dom_classes": [],
      "_model_module": "@jupyter-widgets/controls",
      "_model_module_version": "1.5.0",
      "_model_name": "HTMLModel",
      "_view_count": null,
      "_view_module": "@jupyter-widgets/controls",
      "_view_module_version": "1.5.0",
      "_view_name": "HTMLView",
      "description": "",
      "description_tooltip": null,
      "layout": "IPY_MODEL_e7803472ac394d368b137951385998ed",
      "placeholder": "​",
      "style": "IPY_MODEL_6ff4ff5036844be9bbd0993eb6173596",
      "value": "Downloading (…)/main/tokenizer.json: 100%"
     }
    },
    "fd4997c1fe6743218f8bfcf5cfc8f1bd": {
     "model_module": "@jupyter-widgets/controls",
     "model_module_version": "1.5.0",
     "model_name": "HTMLModel",
     "state": {
      "_dom_classes": [],
      "_model_module": "@jupyter-widgets/controls",
      "_model_module_version": "1.5.0",
      "_model_name": "HTMLModel",
      "_view_count": null,
      "_view_module": "@jupyter-widgets/controls",
      "_view_module_version": "1.5.0",
      "_view_name": "HTMLView",
      "description": "",
      "description_tooltip": null,
      "layout": "IPY_MODEL_4f8ef38fd5614431a7a3c974a7583570",
      "placeholder": "​",
      "style": "IPY_MODEL_3f6619d00b9c4d4ca573b54d6f59d012",
      "value": "Map: 100%"
     }
    },
    "fd54ccef45584a80a70e576939c0b345": {
     "model_module": "@jupyter-widgets/controls",
     "model_module_version": "1.5.0",
     "model_name": "HTMLModel",
     "state": {
      "_dom_classes": [],
      "_model_module": "@jupyter-widgets/controls",
      "_model_module_version": "1.5.0",
      "_model_name": "HTMLModel",
      "_view_count": null,
      "_view_module": "@jupyter-widgets/controls",
      "_view_module_version": "1.5.0",
      "_view_name": "HTMLView",
      "description": "",
      "description_tooltip": null,
      "layout": "IPY_MODEL_47c99e2702e242559b5c247074ee15b7",
      "placeholder": "​",
      "style": "IPY_MODEL_75131cbbc5024e3498bc919ae56939d7",
      "value": " 323/323 [00:00&lt;00:00, 3950.08 examples/s]"
     }
    },
    "ff1933d7656e41cfa276d74b0d458a5d": {
     "model_module": "@jupyter-widgets/controls",
     "model_module_version": "1.5.0",
     "model_name": "HTMLModel",
     "state": {
      "_dom_classes": [],
      "_model_module": "@jupyter-widgets/controls",
      "_model_module_version": "1.5.0",
      "_model_name": "HTMLModel",
      "_view_count": null,
      "_view_module": "@jupyter-widgets/controls",
      "_view_module_version": "1.5.0",
      "_view_name": "HTMLView",
      "description": "",
      "description_tooltip": null,
      "layout": "IPY_MODEL_8acc01c4edd249c5bdf36333e9e24e57",
      "placeholder": "​",
      "style": "IPY_MODEL_3d706598c13a404c882ab11ea40ed2ba",
      "value": "Map: 100%"
     }
    }
   }
  }
 },
 "nbformat": 4,
 "nbformat_minor": 1
}
