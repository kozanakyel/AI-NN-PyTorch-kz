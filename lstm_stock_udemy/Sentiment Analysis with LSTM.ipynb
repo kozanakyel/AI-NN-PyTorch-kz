{
 "cells": [
  {
   "cell_type": "code",
   "execution_count": 1,
   "metadata": {
    "scrolled": true,
    "pycharm": {
     "name": "#%%\n"
    }
   },
   "outputs": [],
   "source": [
    "import numpy as np\n",
    "import pandas as pd\n",
    "import matplotlib.pyplot as plt\n",
    "from sklearn.model_selection import train_test_split\n",
    "import re\n",
    "from keras.models import Sequential, load_model\n",
    "from keras.layers import LSTM, Dense, Embedding, Dropout\n",
    "from keras.preprocessing.text import Tokenizer\n",
    "from keras.utils import pad_sequences"
   ]
  },
  {
   "cell_type": "code",
   "execution_count": 2,
   "metadata": {
    "scrolled": true,
    "pycharm": {
     "name": "#%%\n"
    }
   },
   "outputs": [
    {
     "data": {
      "text/plain": "             tweet_id airline_sentiment  airline_sentiment_confidence  \\\n0  568563462995099649          negative                        0.6702   \n1  569659620517662721          negative                        1.0000   \n2  569747411779735552          negative                        1.0000   \n3  570032636657311744           neutral                        0.7219   \n4  569606089316167680          positive                        1.0000   \n\n     negativereason  negativereason_confidence    airline  \\\n0       Late Flight                     0.6702     United   \n1       Late Flight                     0.3726   American   \n2  Cancelled Flight                     1.0000   American   \n3               NaN                     0.0000   American   \n4               NaN                        NaN  Southwest   \n\n  airline_sentiment_gold          name negativereason_gold  retweet_count  \\\n0                    NaN       cptrice                 NaN              0   \n1                    NaN  debby_hester                 NaN              0   \n2                    NaN      jzinchuk                 NaN              0   \n3                    NaN   shaun_souza                 NaN              0   \n4                    NaN      NmJean05                 NaN              0   \n\n                                                text  \\\n0   @united an update on flight 5979 would be great!   \n1  @AmericanAir my husband and 5 year old son stu...   \n2  @AmericanAir you Cancelled Flightled my flight...   \n3  @AmericanAir the status on my itinerary says o...   \n4  @SouthwestAir ohk. Thank You!!! B/C of the ine...   \n\n                   tweet_coord              tweet_created  tweet_location  \\\n0  [39.99838284, -82.88068344]  2015-02-19 16:11:07 -0800         Chicago   \n1                          NaN  2015-02-22 16:46:51 -0800  Lake Norman NC   \n2                          NaN  2015-02-22 22:35:43 -0800     Seattle, WA   \n3                          NaN  2015-02-23 17:29:05 -0800             NaN   \n4                          NaN  2015-02-22 13:14:09 -0800      Newark, NJ   \n\n                user_timezone  \n0                         NaN  \n1  Eastern Time (US & Canada)  \n2  Pacific Time (US & Canada)  \n3                         NaN  \n4  Eastern Time (US & Canada)  ",
      "text/html": "<div>\n<style scoped>\n    .dataframe tbody tr th:only-of-type {\n        vertical-align: middle;\n    }\n\n    .dataframe tbody tr th {\n        vertical-align: top;\n    }\n\n    .dataframe thead th {\n        text-align: right;\n    }\n</style>\n<table border=\"1\" class=\"dataframe\">\n  <thead>\n    <tr style=\"text-align: right;\">\n      <th></th>\n      <th>tweet_id</th>\n      <th>airline_sentiment</th>\n      <th>airline_sentiment_confidence</th>\n      <th>negativereason</th>\n      <th>negativereason_confidence</th>\n      <th>airline</th>\n      <th>airline_sentiment_gold</th>\n      <th>name</th>\n      <th>negativereason_gold</th>\n      <th>retweet_count</th>\n      <th>text</th>\n      <th>tweet_coord</th>\n      <th>tweet_created</th>\n      <th>tweet_location</th>\n      <th>user_timezone</th>\n    </tr>\n  </thead>\n  <tbody>\n    <tr>\n      <th>0</th>\n      <td>568563462995099649</td>\n      <td>negative</td>\n      <td>0.6702</td>\n      <td>Late Flight</td>\n      <td>0.6702</td>\n      <td>United</td>\n      <td>NaN</td>\n      <td>cptrice</td>\n      <td>NaN</td>\n      <td>0</td>\n      <td>@united an update on flight 5979 would be great!</td>\n      <td>[39.99838284, -82.88068344]</td>\n      <td>2015-02-19 16:11:07 -0800</td>\n      <td>Chicago</td>\n      <td>NaN</td>\n    </tr>\n    <tr>\n      <th>1</th>\n      <td>569659620517662721</td>\n      <td>negative</td>\n      <td>1.0000</td>\n      <td>Late Flight</td>\n      <td>0.3726</td>\n      <td>American</td>\n      <td>NaN</td>\n      <td>debby_hester</td>\n      <td>NaN</td>\n      <td>0</td>\n      <td>@AmericanAir my husband and 5 year old son stu...</td>\n      <td>NaN</td>\n      <td>2015-02-22 16:46:51 -0800</td>\n      <td>Lake Norman NC</td>\n      <td>Eastern Time (US &amp; Canada)</td>\n    </tr>\n    <tr>\n      <th>2</th>\n      <td>569747411779735552</td>\n      <td>negative</td>\n      <td>1.0000</td>\n      <td>Cancelled Flight</td>\n      <td>1.0000</td>\n      <td>American</td>\n      <td>NaN</td>\n      <td>jzinchuk</td>\n      <td>NaN</td>\n      <td>0</td>\n      <td>@AmericanAir you Cancelled Flightled my flight...</td>\n      <td>NaN</td>\n      <td>2015-02-22 22:35:43 -0800</td>\n      <td>Seattle, WA</td>\n      <td>Pacific Time (US &amp; Canada)</td>\n    </tr>\n    <tr>\n      <th>3</th>\n      <td>570032636657311744</td>\n      <td>neutral</td>\n      <td>0.7219</td>\n      <td>NaN</td>\n      <td>0.0000</td>\n      <td>American</td>\n      <td>NaN</td>\n      <td>shaun_souza</td>\n      <td>NaN</td>\n      <td>0</td>\n      <td>@AmericanAir the status on my itinerary says o...</td>\n      <td>NaN</td>\n      <td>2015-02-23 17:29:05 -0800</td>\n      <td>NaN</td>\n      <td>NaN</td>\n    </tr>\n    <tr>\n      <th>4</th>\n      <td>569606089316167680</td>\n      <td>positive</td>\n      <td>1.0000</td>\n      <td>NaN</td>\n      <td>NaN</td>\n      <td>Southwest</td>\n      <td>NaN</td>\n      <td>NmJean05</td>\n      <td>NaN</td>\n      <td>0</td>\n      <td>@SouthwestAir ohk. Thank You!!! B/C of the ine...</td>\n      <td>NaN</td>\n      <td>2015-02-22 13:14:09 -0800</td>\n      <td>Newark, NJ</td>\n      <td>Eastern Time (US &amp; Canada)</td>\n    </tr>\n  </tbody>\n</table>\n</div>"
     },
     "execution_count": 2,
     "metadata": {},
     "output_type": "execute_result"
    }
   ],
   "source": [
    "dataset = pd.read_csv('Tweets.csv')\n",
    "dataset = dataset.sample(frac=1).reset_index(drop=True)\n",
    "dataset.head()"
   ]
  },
  {
   "cell_type": "code",
   "execution_count": 3,
   "metadata": {
    "pycharm": {
     "name": "#%%\n"
    }
   },
   "outputs": [
    {
     "data": {
      "text/plain": "(14640, 15)"
     },
     "execution_count": 3,
     "metadata": {},
     "output_type": "execute_result"
    }
   ],
   "source": [
    "dataset.shape"
   ]
  },
  {
   "cell_type": "code",
   "execution_count": 4,
   "metadata": {
    "scrolled": false,
    "pycharm": {
     "name": "#%%\n"
    }
   },
   "outputs": [
    {
     "data": {
      "text/plain": "  airline_sentiment                                               text\n0          negative   @united an update on flight 5979 would be great!\n1          negative  @AmericanAir my husband and 5 year old son stu...\n2          negative  @AmericanAir you Cancelled Flightled my flight...\n3           neutral  @AmericanAir the status on my itinerary says o...\n4          positive  @SouthwestAir ohk. Thank You!!! B/C of the ine...",
      "text/html": "<div>\n<style scoped>\n    .dataframe tbody tr th:only-of-type {\n        vertical-align: middle;\n    }\n\n    .dataframe tbody tr th {\n        vertical-align: top;\n    }\n\n    .dataframe thead th {\n        text-align: right;\n    }\n</style>\n<table border=\"1\" class=\"dataframe\">\n  <thead>\n    <tr style=\"text-align: right;\">\n      <th></th>\n      <th>airline_sentiment</th>\n      <th>text</th>\n    </tr>\n  </thead>\n  <tbody>\n    <tr>\n      <th>0</th>\n      <td>negative</td>\n      <td>@united an update on flight 5979 would be great!</td>\n    </tr>\n    <tr>\n      <th>1</th>\n      <td>negative</td>\n      <td>@AmericanAir my husband and 5 year old son stu...</td>\n    </tr>\n    <tr>\n      <th>2</th>\n      <td>negative</td>\n      <td>@AmericanAir you Cancelled Flightled my flight...</td>\n    </tr>\n    <tr>\n      <th>3</th>\n      <td>neutral</td>\n      <td>@AmericanAir the status on my itinerary says o...</td>\n    </tr>\n    <tr>\n      <th>4</th>\n      <td>positive</td>\n      <td>@SouthwestAir ohk. Thank You!!! B/C of the ine...</td>\n    </tr>\n  </tbody>\n</table>\n</div>"
     },
     "execution_count": 4,
     "metadata": {},
     "output_type": "execute_result"
    }
   ],
   "source": [
    "dataset = dataset[['airline_sentiment','text']]\n",
    "dataset.head()"
   ]
  },
  {
   "cell_type": "code",
   "execution_count": 5,
   "metadata": {
    "scrolled": true,
    "pycharm": {
     "name": "#%%\n"
    }
   },
   "outputs": [
    {
     "data": {
      "text/plain": "<AxesSubplot:ylabel='Frequency'>"
     },
     "execution_count": 5,
     "metadata": {},
     "output_type": "execute_result"
    },
    {
     "data": {
      "text/plain": "<Figure size 640x480 with 1 Axes>",
      "image/png": "[encoded data removed]"
     },
     "metadata": {},
     "output_type": "display_data"
    }
   ],
   "source": [
    "%matplotlib inline\n",
    "dataset['text'].str.len().plot.hist()"
   ]
  },
  {
   "cell_type": "code",
   "execution_count": 6,
   "metadata": {
    "scrolled": true,
    "pycharm": {
     "name": "#%%\n"
    }
   },
   "outputs": [
    {
     "data": {
      "text/plain": "negative    9178\nneutral     3099\npositive    2363\nName: airline_sentiment, dtype: int64"
     },
     "execution_count": 6,
     "metadata": {},
     "output_type": "execute_result"
    }
   ],
   "source": [
    "dataset['airline_sentiment'].value_counts()"
   ]
  },
  {
   "cell_type": "code",
   "execution_count": 7,
   "metadata": {
    "scrolled": true,
    "pycharm": {
     "name": "#%%\n"
    }
   },
   "outputs": [
    {
     "data": {
      "text/plain": "<AxesSubplot:>"
     },
     "execution_count": 7,
     "metadata": {},
     "output_type": "execute_result"
    },
    {
     "data": {
      "text/plain": "<Figure size 640x480 with 1 Axes>",
      "image/png": "[encoded data removed]"
     },
     "metadata": {},
     "output_type": "display_data"
    }
   ],
   "source": [
    "dataset['airline_sentiment'].value_counts().plot.bar()"
   ]
  },
  {
   "cell_type": "code",
   "execution_count": 8,
   "metadata": {
    "scrolled": true,
    "pycharm": {
     "name": "#%%\n"
    }
   },
   "outputs": [
    {
     "data": {
      "text/plain": "0       united an update on flight 5979 would be great\n1    AmericanAir my husband and 5 year old son stuc...\n2    AmericanAir you Cancelled Flightled my flight ...\n3    AmericanAir the status on my itinerary says on...\n4    SouthwestAir ohk Thank You BC of the inexpensi...\nName: text, dtype: object"
     },
     "execution_count": 8,
     "metadata": {},
     "output_type": "execute_result"
    }
   ],
   "source": [
    "dataset['text'].apply(lambda x: x.lower())\n",
    "dataset['text'] = dataset['text'].apply(lambda x: re.sub('[^a-zA-Z0-9\\s]',\"\",x))\n",
    "dataset['text'].head()"
   ]
  },
  {
   "cell_type": "code",
   "execution_count": 9,
   "metadata": {
    "scrolled": true,
    "pycharm": {
     "name": "#%%\n"
    }
   },
   "outputs": [
    {
     "data": {
      "text/plain": "array([[   0,    0,    0,    0,    0,    0,    0,    0,    0,    0,    0,\n           0,    0,    0,    0,    0,    0,    0,    0,    0,    0,    0,\n           0,    0,    0,    5,   40,  316,    9,    8,   76,   32,  114],\n       [   0,    0,    0,    0,    0,    0,    0,    0,    0,   13,   11,\n         861,   10,  231,  367,  429, 1085,  232,  862,   15,  540,   36,\n           1,  449,  176,  775, 4598,  100,  183,   23,  211,    2,    8],\n       [   0,    0,    0,    0,    0,    0,    0,    0,    0,   13,    6,\n          37,   83,   11,    8,  131,  325,  541,   19,   10,    3,  145,\n           1,   46,   19,  227,    4,  146,    8,   57,   34,    3,   84],\n       [   0,    0,    0,    0,    0,    0,    0,    0,    0,    0,    0,\n           0,    0,    0,    0,    0,    0,    0,    0,   13,    2,  324,\n           9,   11, 1025,  254,    9,  581,   15, 1427,  240,   26,  563],\n       [   0,    0,    0,    0,    0,    0,    0,    0,    0,    0,    0,\n           0,    0,    0,    0,    0,    0,    0,    0,   16,   68,    6,\n         355,   18,    2,   26,  363,   89,    3,   34,   39,  170,  517],\n       [   0,    0,    0,    0,    0,    0,    0,    0,    0,    0,    0,\n           0,    0,    0,   13,  336,  195,   63,   81,  174, 2223,   51,\n           2,   97,   10,  430,   14,   39, 4599,   56,   25,   28,  153],\n       [   0,    0,    0,    0,    0,    0,    0,    0,    0,    0,    0,\n           0,    0,    0,    5,  469,   51,    2,  370,   18, 4600,    7,\n        2224,  955,    9,    2,  412,    1,   41,    4, 2225,   77,  837]],\n      dtype=int32)"
     },
     "execution_count": 9,
     "metadata": {},
     "output_type": "execute_result"
    }
   ],
   "source": [
    "tokenizer = Tokenizer(num_words=5000, split=\" \")\n",
    "tokenizer.fit_on_texts(dataset['text'].values)\n",
    "\n",
    "X = tokenizer.texts_to_sequences(dataset['text'].values)\n",
    "X = pad_sequences(X)\n",
    "X[:7]"
   ]
  },
  {
   "cell_type": "code",
   "execution_count": 10,
   "metadata": {
    "pycharm": {
     "name": "#%%\n"
    }
   },
   "outputs": [
    {
     "data": {
      "text/plain": "(14640, 33)"
     },
     "execution_count": 10,
     "metadata": {},
     "output_type": "execute_result"
    }
   ],
   "source": [
    "X.shape"
   ]
  },
  {
   "cell_type": "code",
   "execution_count": 11,
   "metadata": {
    "pycharm": {
     "name": "#%%\n"
    }
   },
   "outputs": [
    {
     "name": "stderr",
     "output_type": "stream",
     "text": [
      "2022-08-31 23:36:07.385816: I tensorflow/stream_executor/cuda/cuda_gpu_executor.cc:961] could not open file to read NUMA node: /sys/bus/pci/devices/0000:01:00.0/numa_node\n",
      "Your kernel may have been built without NUMA support.\n",
      "2022-08-31 23:36:07.409233: I tensorflow/stream_executor/cuda/cuda_gpu_executor.cc:961] could not open file to read NUMA node: /sys/bus/pci/devices/0000:01:00.0/numa_node\n",
      "Your kernel may have been built without NUMA support.\n",
      "2022-08-31 23:36:07.409285: I tensorflow/stream_executor/cuda/cuda_gpu_executor.cc:961] could not open file to read NUMA node: /sys/bus/pci/devices/0000:01:00.0/numa_node\n",
      "Your kernel may have been built without NUMA support.\n",
      "2022-08-31 23:36:07.410831: I tensorflow/core/platform/cpu_feature_guard.cc:193] This TensorFlow binary is optimized with oneAPI Deep Neural Network Library (oneDNN) to use the following CPU instructions in performance-critical operations:  AVX2 FMA\n",
      "To enable them in other operations, rebuild TensorFlow with the appropriate compiler flags.\n"
     ]
    },
    {
     "name": "stdout",
     "output_type": "stream",
     "text": [
      "WARNING:tensorflow:Layer lstm will not use cuDNN kernels since it doesn't meet the criteria. It will use a generic GPU kernel as fallback when running on GPU.\n",
      "WARNING:tensorflow:Layer lstm_1 will not use cuDNN kernels since it doesn't meet the criteria. It will use a generic GPU kernel as fallback when running on GPU.\n"
     ]
    },
    {
     "name": "stderr",
     "output_type": "stream",
     "text": [
      "2022-08-31 23:36:07.412695: I tensorflow/stream_executor/cuda/cuda_gpu_executor.cc:961] could not open file to read NUMA node: /sys/bus/pci/devices/0000:01:00.0/numa_node\n",
      "Your kernel may have been built without NUMA support.\n",
      "2022-08-31 23:36:07.412749: I tensorflow/stream_executor/cuda/cuda_gpu_executor.cc:961] could not open file to read NUMA node: /sys/bus/pci/devices/0000:01:00.0/numa_node\n",
      "Your kernel may have been built without NUMA support.\n",
      "2022-08-31 23:36:07.412779: I tensorflow/stream_executor/cuda/cuda_gpu_executor.cc:961] could not open file to read NUMA node: /sys/bus/pci/devices/0000:01:00.0/numa_node\n",
      "Your kernel may have been built without NUMA support.\n",
      "2022-08-31 23:36:08.000233: I tensorflow/stream_executor/cuda/cuda_gpu_executor.cc:961] could not open file to read NUMA node: /sys/bus/pci/devices/0000:01:00.0/numa_node\n",
      "Your kernel may have been built without NUMA support.\n",
      "2022-08-31 23:36:08.000640: I tensorflow/stream_executor/cuda/cuda_gpu_executor.cc:961] could not open file to read NUMA node: /sys/bus/pci/devices/0000:01:00.0/numa_node\n",
      "Your kernel may have been built without NUMA support.\n",
      "2022-08-31 23:36:08.000654: I tensorflow/core/common_runtime/gpu/gpu_device.cc:1616] Could not identify NUMA node of platform GPU id 0, defaulting to 0.  Your kernel may not have been built with NUMA support.\n",
      "2022-08-31 23:36:08.000814: I tensorflow/stream_executor/cuda/cuda_gpu_executor.cc:961] could not open file to read NUMA node: /sys/bus/pci/devices/0000:01:00.0/numa_node\n",
      "Your kernel may have been built without NUMA support.\n",
      "2022-08-31 23:36:08.000866: I tensorflow/core/common_runtime/gpu/gpu_device.cc:1532] Created device /job:localhost/replica:0/task:0/device:GPU:0 with 3943 MB memory:  -> device: 0, name: NVIDIA GeForce GTX 1660 Ti, pci bus id: 0000:01:00.0, compute capability: 7.5\n"
     ]
    }
   ],
   "source": [
    "model = Sequential()\n",
    "model.add(Embedding(5000, 256, input_length = X.shape[1]))\n",
    "model.add(Dropout(0.3))\n",
    "model.add(LSTM(256, return_sequences=True, dropout = 0.3, recurrent_dropout=0.2))\n",
    "model.add(LSTM(256, dropout = 0.3, recurrent_dropout =0.2))\n",
    "model.add(Dense(3, activation = 'softmax'))"
   ]
  },
  {
   "cell_type": "code",
   "execution_count": 12,
   "metadata": {
    "scrolled": true,
    "pycharm": {
     "name": "#%%\n"
    }
   },
   "outputs": [
    {
     "name": "stdout",
     "output_type": "stream",
     "text": [
      "Model: \"sequential\"\n",
      "_________________________________________________________________\n",
      " Layer (type)                Output Shape              Param #   \n",
      "=================================================================\n",
      " embedding (Embedding)       (None, 33, 256)           1280000   \n",
      "                                                                 \n",
      " dropout (Dropout)           (None, 33, 256)           0         \n",
      "                                                                 \n",
      " lstm (LSTM)                 (None, 33, 256)           525312    \n",
      "                                                                 \n",
      " lstm_1 (LSTM)               (None, 256)               525312    \n",
      "                                                                 \n",
      " dense (Dense)               (None, 3)                 771       \n",
      "                                                                 \n",
      "=================================================================\n",
      "Total params: 2,331,395\n",
      "Trainable params: 2,331,395\n",
      "Non-trainable params: 0\n",
      "_________________________________________________________________\n"
     ]
    }
   ],
   "source": [
    "model.compile(loss = 'categorical_crossentropy', optimizer='adam', metrics=['accuracy'])\n",
    "model.summary()"
   ]
  },
  {
   "cell_type": "code",
   "execution_count": 13,
   "metadata": {
    "scrolled": true,
    "pycharm": {
     "name": "#%%\n"
    }
   },
   "outputs": [
    {
     "name": "stdout",
     "output_type": "stream",
     "text": [
      "negative [1 0 0]\n",
      "negative [1 0 0]\n",
      "negative [1 0 0]\n",
      "neutral [0 1 0]\n",
      "positive [0 0 1]\n",
      "negative [1 0 0]\n",
      "positive [0 0 1]\n"
     ]
    },
    {
     "data": {
      "text/plain": "[None, None, None, None, None, None, None]"
     },
     "execution_count": 13,
     "metadata": {},
     "output_type": "execute_result"
    }
   ],
   "source": [
    "y = pd.get_dummies(dataset['airline_sentiment']).values\n",
    "[print(dataset['airline_sentiment'][i], y[i]) for i in range(0,7)]"
   ]
  },
  {
   "cell_type": "code",
   "execution_count": 14,
   "metadata": {
    "collapsed": true,
    "pycharm": {
     "name": "#%%\n"
    }
   },
   "outputs": [],
   "source": [
    "X_train, X_test, y_train, y_test = train_test_split(X,y, test_size=0.2, random_state=0)"
   ]
  },
  {
   "cell_type": "code",
   "execution_count": 15,
   "metadata": {
    "scrolled": false,
    "pycharm": {
     "name": "#%%\n"
    }
   },
   "outputs": [
    {
     "name": "stdout",
     "output_type": "stream",
     "text": [
      "Epoch 1/10\n",
      "366/366 - 69s - loss: 0.6502 - accuracy: 0.7298 - 69s/epoch - 188ms/step\n",
      "Epoch 2/10\n",
      "366/366 - 68s - loss: 0.4293 - accuracy: 0.8339 - 68s/epoch - 186ms/step\n",
      "Epoch 3/10\n",
      "366/366 - 72s - loss: 0.3445 - accuracy: 0.8675 - 72s/epoch - 196ms/step\n",
      "Epoch 4/10\n",
      "366/366 - 73s - loss: 0.2792 - accuracy: 0.8960 - 73s/epoch - 198ms/step\n",
      "Epoch 5/10\n",
      "366/366 - 66s - loss: 0.2282 - accuracy: 0.9150 - 66s/epoch - 179ms/step\n",
      "Epoch 6/10\n",
      "366/366 - 66s - loss: 0.1893 - accuracy: 0.9306 - 66s/epoch - 181ms/step\n",
      "Epoch 7/10\n",
      "366/366 - 65s - loss: 0.1675 - accuracy: 0.9393 - 65s/epoch - 177ms/step\n",
      "Epoch 8/10\n",
      "366/366 - 65s - loss: 0.1363 - accuracy: 0.9506 - 65s/epoch - 179ms/step\n",
      "Epoch 9/10\n",
      "366/366 - 70s - loss: 0.1240 - accuracy: 0.9555 - 70s/epoch - 190ms/step\n",
      "Epoch 10/10\n",
      "366/366 - 66s - loss: 0.1001 - accuracy: 0.9633 - 66s/epoch - 179ms/step\n"
     ]
    },
    {
     "data": {
      "text/plain": "<keras.callbacks.History at 0x7f1a0fa07bb0>"
     },
     "execution_count": 15,
     "metadata": {},
     "output_type": "execute_result"
    }
   ],
   "source": [
    "batch_size = 32\n",
    "epochs = 10\n",
    "model.fit(X_train, y_train, epochs = epochs, batch_size = batch_size, verbose=2)"
   ]
  },
  {
   "cell_type": "code",
   "execution_count": 16,
   "metadata": {
    "collapsed": true,
    "pycharm": {
     "name": "#%%\n"
    }
   },
   "outputs": [],
   "source": [
    "model.save(r'mnt/c/Users/kozan/Desktop/Sen_Des_Proj/TF_Deep_Learing_book/lstm_stock_udemy/Sentiment_Model.h5')"
   ]
  },
  {
   "cell_type": "code",
   "execution_count": 17,
   "metadata": {
    "scrolled": true,
    "pycharm": {
     "name": "#%%\n"
    }
   },
   "outputs": [
    {
     "name": "stdout",
     "output_type": "stream",
     "text": [
      "92/92 [==============================] - 3s 33ms/step\n",
      "united an update on flight 5979 would be great [9.9963248e-01 1.7096517e-04 1.9649972e-04] [1 0 0]\n",
      "AmericanAir my husband and 5 year old son stuck overnight in DC thanks to 7 crew members arguing over who was boarding the flight [0.03975666 0.93036807 0.02987523] [0 1 0]\n",
      "AmericanAir you Cancelled Flightled my flight tomorrow without telling me and I want to rebookplease help me book a new flight What  can I call [0.00285729 0.03178174 0.96536094] [0 0 1]\n",
      "AmericanAir the status on my itinerary says on request in red Whats that mean [2.2347182e-02 9.7701615e-01 6.3658063e-04] [1 0 0]\n",
      "SouthwestAir ohk Thank You BC of the inexpensive airfares that Southwest has I can now travel around [1.0638626e-03 9.9892324e-01 1.2860667e-05] [1 0 0]\n",
      "AmericanAir  terrible response How about someone picking up the phone and calling meIt is now 49 Hours with no luggage [2.0311762e-02 9.7949672e-01 1.9146876e-04] [1 0 0]\n",
      "united big up the pilot of 644 for turning 1hr on the tarmac to just a 20min delayed arrival [0.484311   0.50157076 0.01411824] [1 0 0]\n"
     ]
    },
    {
     "data": {
      "text/plain": "[None, None, None, None, None, None, None]"
     },
     "execution_count": 17,
     "metadata": {},
     "output_type": "execute_result"
    }
   ],
   "source": [
    "prediction = model.predict(X_test)\n",
    "\n",
    "[print(dataset['text'][i], prediction[i], y_test[i]) for i in range(0,7)]"
   ]
  }
 ],
 "metadata": {
  "kernelspec": {
   "display_name": "Python 3",
   "language": "python",
   "name": "python3"
  },
  "language_info": {
   "codemirror_mode": {
    "name": "ipython",
    "version": 3
   },
   "file_extension": ".py",
   "mimetype": "text/x-python",
   "name": "python",
   "nbconvert_exporter": "python",
   "pygments_lexer": "ipython3",
   "version": "3.6.3"
  }
 },
 "nbformat": 4,
 "nbformat_minor": 2
}